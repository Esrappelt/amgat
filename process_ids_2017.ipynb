{
 "cells": [
  {
   "cell_type": "code",
   "execution_count": 1,
   "id": "d77af4fd",
   "metadata": {},
   "outputs": [],
   "source": [
    "import pandas as pd\n",
    "from collections import Counter\n",
    "import numpy as np"
   ]
  },
  {
   "cell_type": "code",
   "execution_count": 2,
   "id": "cd0350ec",
   "metadata": {},
   "outputs": [],
   "source": [
    "df1 = pd.read_csv('ids2017/Friday-WorkingHours-Afternoon-DDos.pcap_ISCX.csv')"
   ]
  },
  {
   "cell_type": "code",
   "execution_count": 3,
   "id": "a414066b",
   "metadata": {},
   "outputs": [],
   "source": [
    "df2 = pd.read_csv('ids2017/Friday-WorkingHours-Afternoon-PortScan.pcap_ISCX.csv')"
   ]
  },
  {
   "cell_type": "code",
   "execution_count": 4,
   "id": "4f24f214",
   "metadata": {},
   "outputs": [],
   "source": [
    "df3 = pd.read_csv('ids2017/Friday-WorkingHours-Morning.pcap_ISCX.csv')"
   ]
  },
  {
   "cell_type": "code",
   "execution_count": 5,
   "id": "0c7f5e04",
   "metadata": {},
   "outputs": [],
   "source": [
    "df4 = pd.read_csv('ids2017/Thursday-WorkingHours-Afternoon-Infilteration.pcap_ISCX.csv')"
   ]
  },
  {
   "cell_type": "code",
   "execution_count": 6,
   "id": "05993608",
   "metadata": {},
   "outputs": [],
   "source": [
    "df5 = pd.read_csv('ids2017/Tuesday-WorkingHours.pcap_ISCX.csv')"
   ]
  },
  {
   "cell_type": "code",
   "execution_count": 7,
   "id": "3c2fbdb6",
   "metadata": {},
   "outputs": [],
   "source": [
    "df6 = pd.read_csv('ids2017/Wednesday-workingHours.pcap_ISCX.csv')"
   ]
  },
  {
   "cell_type": "code",
   "execution_count": 8,
   "id": "b62d0d04",
   "metadata": {},
   "outputs": [],
   "source": [
    "df7 = pd.read_csv('ids2017/Monday-WorkingHours.pcap_ISCX.csv')"
   ]
  },
  {
   "cell_type": "code",
   "execution_count": 9,
   "id": "be3e6e19",
   "metadata": {},
   "outputs": [
    {
     "name": "stderr",
     "output_type": "stream",
     "text": [
      "/home/xiaoyujie/anaconda3/envs/densegat2/lib/python3.6/site-packages/IPython/core/interactiveshell.py:3072: DtypeWarning: Columns (0,1,3,6,84) have mixed types.Specify dtype option on import or set low_memory=False.\n",
      "  interactivity=interactivity, compiler=compiler, result=result)\n"
     ]
    }
   ],
   "source": [
    "df8 = pd.read_csv('ids2017/Thursday-WorkingHours-Morning-WebAttacks.pcap_ISCX.csv', encoding='latin1')"
   ]
  },
  {
   "cell_type": "code",
   "execution_count": 10,
   "id": "187c5edf",
   "metadata": {},
   "outputs": [],
   "source": [
    "df8 = df8.dropna(how='all')"
   ]
  },
  {
   "cell_type": "code",
   "execution_count": null,
   "id": "05fb7319",
   "metadata": {},
   "outputs": [],
   "source": []
  },
  {
   "cell_type": "code",
   "execution_count": null,
   "id": "8444f8cf",
   "metadata": {},
   "outputs": [],
   "source": []
  },
  {
   "cell_type": "code",
   "execution_count": null,
   "id": "749b9434",
   "metadata": {},
   "outputs": [],
   "source": []
  },
  {
   "cell_type": "code",
   "execution_count": null,
   "id": "b5783116",
   "metadata": {},
   "outputs": [],
   "source": []
  },
  {
   "cell_type": "code",
   "execution_count": null,
   "id": "43eb7cea",
   "metadata": {},
   "outputs": [],
   "source": []
  },
  {
   "cell_type": "code",
   "execution_count": null,
   "id": "b1d71b6d",
   "metadata": {},
   "outputs": [],
   "source": []
  },
  {
   "cell_type": "code",
   "execution_count": null,
   "id": "d04ea48e",
   "metadata": {},
   "outputs": [],
   "source": []
  },
  {
   "cell_type": "code",
   "execution_count": 13,
   "id": "1322e81a",
   "metadata": {},
   "outputs": [
    {
     "data": {
      "text/plain": [
       "170366"
      ]
     },
     "execution_count": 13,
     "metadata": {},
     "output_type": "execute_result"
    }
   ],
   "source": [
    "len(df8)"
   ]
  },
  {
   "cell_type": "code",
   "execution_count": 15,
   "id": "bcedc2a9",
   "metadata": {},
   "outputs": [],
   "source": [
    "label8 = df8[' Label']"
   ]
  },
  {
   "cell_type": "code",
   "execution_count": 17,
   "id": "083d0d6f",
   "metadata": {},
   "outputs": [
    {
     "data": {
      "text/plain": [
       "Counter({'BENIGN': 168186,\n",
       "         'Web Attack \\x96 Brute Force': 1507,\n",
       "         'Web Attack \\x96 XSS': 652,\n",
       "         'Web Attack \\x96 Sql Injection': 21})"
      ]
     },
     "execution_count": 17,
     "metadata": {},
     "output_type": "execute_result"
    }
   ],
   "source": [
    "Counter(label8)"
   ]
  },
  {
   "cell_type": "code",
   "execution_count": 20,
   "id": "c0aa042e",
   "metadata": {},
   "outputs": [],
   "source": [
    "df8_ = df8[df8[' Label'] != 'BENIGN']"
   ]
  },
  {
   "cell_type": "code",
   "execution_count": 21,
   "id": "1b4b2904",
   "metadata": {},
   "outputs": [
    {
     "data": {
      "text/plain": [
       "Counter({'Web Attack \\x96 Brute Force': 1507,\n",
       "         'Web Attack \\x96 XSS': 652,\n",
       "         'Web Attack \\x96 Sql Injection': 21})"
      ]
     },
     "execution_count": 21,
     "metadata": {},
     "output_type": "execute_result"
    }
   ],
   "source": [
    "Counter(df8_[' Label'])"
   ]
  },
  {
   "cell_type": "code",
   "execution_count": 22,
   "id": "d82bf4c3",
   "metadata": {},
   "outputs": [],
   "source": [
    "df = pd.concat([df1, df2, df3, df4, df5, df6, df7, df8_])"
   ]
  },
  {
   "cell_type": "code",
   "execution_count": 27,
   "id": "7a70c0a5",
   "metadata": {},
   "outputs": [],
   "source": [
    "df_not_monday = pd.concat([df1, df2, df3, df4, df5, df6])"
   ]
  },
  {
   "cell_type": "code",
   "execution_count": 29,
   "id": "509cfbd5",
   "metadata": {},
   "outputs": [],
   "source": [
    "df_not_monday.to_pickle('cicids2017_not_contain_monday.pkl')"
   ]
  },
  {
   "cell_type": "code",
   "execution_count": 23,
   "id": "c0cbe8c5",
   "metadata": {},
   "outputs": [],
   "source": [
    "df.to_pickle('cicids2017_all_data_not_web_attack_s_benign.pkl')"
   ]
  },
  {
   "cell_type": "code",
   "execution_count": 2,
   "id": "c769b741",
   "metadata": {},
   "outputs": [],
   "source": [
    "df = pd.read_pickle('cicids2017.pkl')"
   ]
  },
  {
   "cell_type": "code",
   "execution_count": 24,
   "id": "e8afebb3",
   "metadata": {},
   "outputs": [],
   "source": [
    "df.to_csv('cicids2017.csv', header=None)"
   ]
  },
  {
   "cell_type": "code",
   "execution_count": 2,
   "id": "12695085",
   "metadata": {},
   "outputs": [],
   "source": [
    "df = pd.read_csv('cicids2017.csv', header=None)"
   ]
  },
  {
   "cell_type": "code",
   "execution_count": 24,
   "id": "2c3ded34",
   "metadata": {},
   "outputs": [
    {
     "data": {
      "text/plain": [
       "2662557"
      ]
     },
     "execution_count": 24,
     "metadata": {},
     "output_type": "execute_result"
    }
   ],
   "source": [
    "len(df)"
   ]
  },
  {
   "cell_type": "code",
   "execution_count": 25,
   "id": "edc7d27f",
   "metadata": {},
   "outputs": [
    {
     "data": {
      "text/plain": [
       "Counter({'BENIGN': 2104911,\n",
       "         'DDoS': 128027,\n",
       "         'PortScan': 158930,\n",
       "         'Bot': 1966,\n",
       "         'Infiltration': 36,\n",
       "         'FTP-Patator': 7938,\n",
       "         'SSH-Patator': 5897,\n",
       "         'DoS slowloris': 5796,\n",
       "         'DoS Slowhttptest': 5499,\n",
       "         'DoS Hulk': 231073,\n",
       "         'DoS GoldenEye': 10293,\n",
       "         'Heartbleed': 11,\n",
       "         'Web Attack \\x96 Brute Force': 1507,\n",
       "         'Web Attack \\x96 XSS': 652,\n",
       "         'Web Attack \\x96 Sql Injection': 21})"
      ]
     },
     "execution_count": 25,
     "metadata": {},
     "output_type": "execute_result"
    }
   ],
   "source": [
    "Counter(df.iloc[:, -1])"
   ]
  },
  {
   "cell_type": "code",
   "execution_count": 3,
   "id": "47e7eca8",
   "metadata": {},
   "outputs": [
    {
     "data": {
      "text/html": [
       "<div>\n",
       "<style scoped>\n",
       "    .dataframe tbody tr th:only-of-type {\n",
       "        vertical-align: middle;\n",
       "    }\n",
       "\n",
       "    .dataframe tbody tr th {\n",
       "        vertical-align: top;\n",
       "    }\n",
       "\n",
       "    .dataframe thead th {\n",
       "        text-align: right;\n",
       "    }\n",
       "</style>\n",
       "<table border=\"1\" class=\"dataframe\">\n",
       "  <thead>\n",
       "    <tr style=\"text-align: right;\">\n",
       "      <th></th>\n",
       "      <th>0</th>\n",
       "      <th>1</th>\n",
       "      <th>2</th>\n",
       "      <th>3</th>\n",
       "      <th>4</th>\n",
       "      <th>5</th>\n",
       "      <th>6</th>\n",
       "      <th>7</th>\n",
       "      <th>8</th>\n",
       "      <th>9</th>\n",
       "      <th>...</th>\n",
       "      <th>76</th>\n",
       "      <th>77</th>\n",
       "      <th>78</th>\n",
       "      <th>79</th>\n",
       "      <th>80</th>\n",
       "      <th>81</th>\n",
       "      <th>82</th>\n",
       "      <th>83</th>\n",
       "      <th>84</th>\n",
       "      <th>85</th>\n",
       "    </tr>\n",
       "  </thead>\n",
       "  <tbody>\n",
       "    <tr>\n",
       "      <th>0</th>\n",
       "      <td>0</td>\n",
       "      <td>192.168.10.5-104.16.207.165-54865-443-6</td>\n",
       "      <td>104.16.207.165</td>\n",
       "      <td>443</td>\n",
       "      <td>192.168.10.5</td>\n",
       "      <td>54865</td>\n",
       "      <td>6</td>\n",
       "      <td>7/7/2017 3:30</td>\n",
       "      <td>3</td>\n",
       "      <td>2</td>\n",
       "      <td>...</td>\n",
       "      <td>20</td>\n",
       "      <td>0.0</td>\n",
       "      <td>0.0</td>\n",
       "      <td>0.0</td>\n",
       "      <td>0.0</td>\n",
       "      <td>0.0</td>\n",
       "      <td>0.0</td>\n",
       "      <td>0.0</td>\n",
       "      <td>0.0</td>\n",
       "      <td>BENIGN</td>\n",
       "    </tr>\n",
       "    <tr>\n",
       "      <th>1</th>\n",
       "      <td>1</td>\n",
       "      <td>192.168.10.5-104.16.28.216-55054-80-6</td>\n",
       "      <td>104.16.28.216</td>\n",
       "      <td>80</td>\n",
       "      <td>192.168.10.5</td>\n",
       "      <td>55054</td>\n",
       "      <td>6</td>\n",
       "      <td>7/7/2017 3:30</td>\n",
       "      <td>109</td>\n",
       "      <td>1</td>\n",
       "      <td>...</td>\n",
       "      <td>20</td>\n",
       "      <td>0.0</td>\n",
       "      <td>0.0</td>\n",
       "      <td>0.0</td>\n",
       "      <td>0.0</td>\n",
       "      <td>0.0</td>\n",
       "      <td>0.0</td>\n",
       "      <td>0.0</td>\n",
       "      <td>0.0</td>\n",
       "      <td>BENIGN</td>\n",
       "    </tr>\n",
       "    <tr>\n",
       "      <th>2</th>\n",
       "      <td>2</td>\n",
       "      <td>192.168.10.5-104.16.28.216-55055-80-6</td>\n",
       "      <td>104.16.28.216</td>\n",
       "      <td>80</td>\n",
       "      <td>192.168.10.5</td>\n",
       "      <td>55055</td>\n",
       "      <td>6</td>\n",
       "      <td>7/7/2017 3:30</td>\n",
       "      <td>52</td>\n",
       "      <td>1</td>\n",
       "      <td>...</td>\n",
       "      <td>20</td>\n",
       "      <td>0.0</td>\n",
       "      <td>0.0</td>\n",
       "      <td>0.0</td>\n",
       "      <td>0.0</td>\n",
       "      <td>0.0</td>\n",
       "      <td>0.0</td>\n",
       "      <td>0.0</td>\n",
       "      <td>0.0</td>\n",
       "      <td>BENIGN</td>\n",
       "    </tr>\n",
       "    <tr>\n",
       "      <th>3</th>\n",
       "      <td>3</td>\n",
       "      <td>192.168.10.16-104.17.241.25-46236-443-6</td>\n",
       "      <td>104.17.241.25</td>\n",
       "      <td>443</td>\n",
       "      <td>192.168.10.16</td>\n",
       "      <td>46236</td>\n",
       "      <td>6</td>\n",
       "      <td>7/7/2017 3:30</td>\n",
       "      <td>34</td>\n",
       "      <td>1</td>\n",
       "      <td>...</td>\n",
       "      <td>20</td>\n",
       "      <td>0.0</td>\n",
       "      <td>0.0</td>\n",
       "      <td>0.0</td>\n",
       "      <td>0.0</td>\n",
       "      <td>0.0</td>\n",
       "      <td>0.0</td>\n",
       "      <td>0.0</td>\n",
       "      <td>0.0</td>\n",
       "      <td>BENIGN</td>\n",
       "    </tr>\n",
       "    <tr>\n",
       "      <th>4</th>\n",
       "      <td>4</td>\n",
       "      <td>192.168.10.5-104.19.196.102-54863-443-6</td>\n",
       "      <td>104.19.196.102</td>\n",
       "      <td>443</td>\n",
       "      <td>192.168.10.5</td>\n",
       "      <td>54863</td>\n",
       "      <td>6</td>\n",
       "      <td>7/7/2017 3:30</td>\n",
       "      <td>3</td>\n",
       "      <td>2</td>\n",
       "      <td>...</td>\n",
       "      <td>20</td>\n",
       "      <td>0.0</td>\n",
       "      <td>0.0</td>\n",
       "      <td>0.0</td>\n",
       "      <td>0.0</td>\n",
       "      <td>0.0</td>\n",
       "      <td>0.0</td>\n",
       "      <td>0.0</td>\n",
       "      <td>0.0</td>\n",
       "      <td>BENIGN</td>\n",
       "    </tr>\n",
       "  </tbody>\n",
       "</table>\n",
       "<p>5 rows × 86 columns</p>\n",
       "</div>"
      ],
      "text/plain": [
       "   0                                        1               2    3   \\\n",
       "0   0  192.168.10.5-104.16.207.165-54865-443-6  104.16.207.165  443   \n",
       "1   1    192.168.10.5-104.16.28.216-55054-80-6   104.16.28.216   80   \n",
       "2   2    192.168.10.5-104.16.28.216-55055-80-6   104.16.28.216   80   \n",
       "3   3  192.168.10.16-104.17.241.25-46236-443-6   104.17.241.25  443   \n",
       "4   4  192.168.10.5-104.19.196.102-54863-443-6  104.19.196.102  443   \n",
       "\n",
       "              4      5   6              7    8   9   ...  76   77   78   79  \\\n",
       "0   192.168.10.5  54865   6  7/7/2017 3:30    3   2  ...  20  0.0  0.0  0.0   \n",
       "1   192.168.10.5  55054   6  7/7/2017 3:30  109   1  ...  20  0.0  0.0  0.0   \n",
       "2   192.168.10.5  55055   6  7/7/2017 3:30   52   1  ...  20  0.0  0.0  0.0   \n",
       "3  192.168.10.16  46236   6  7/7/2017 3:30   34   1  ...  20  0.0  0.0  0.0   \n",
       "4   192.168.10.5  54863   6  7/7/2017 3:30    3   2  ...  20  0.0  0.0  0.0   \n",
       "\n",
       "    80   81   82   83   84      85  \n",
       "0  0.0  0.0  0.0  0.0  0.0  BENIGN  \n",
       "1  0.0  0.0  0.0  0.0  0.0  BENIGN  \n",
       "2  0.0  0.0  0.0  0.0  0.0  BENIGN  \n",
       "3  0.0  0.0  0.0  0.0  0.0  BENIGN  \n",
       "4  0.0  0.0  0.0  0.0  0.0  BENIGN  \n",
       "\n",
       "[5 rows x 86 columns]"
      ]
     },
     "execution_count": 3,
     "metadata": {},
     "output_type": "execute_result"
    }
   ],
   "source": [
    "df.head()"
   ]
  },
  {
   "cell_type": "code",
   "execution_count": 25,
   "id": "9399874f",
   "metadata": {},
   "outputs": [],
   "source": [
    "df7Label = df7[' Label']"
   ]
  },
  {
   "cell_type": "code",
   "execution_count": 26,
   "id": "784c7d99",
   "metadata": {},
   "outputs": [
    {
     "data": {
      "text/plain": [
       "Counter({'BENIGN': 529918})"
      ]
     },
     "execution_count": 26,
     "metadata": {},
     "output_type": "execute_result"
    }
   ],
   "source": [
    "Counter(df7Label)"
   ]
  },
  {
   "cell_type": "code",
   "execution_count": 38,
   "id": "37e9273a",
   "metadata": {},
   "outputs": [],
   "source": [
    "from imblearn.under_sampling import RandomUnderSampler"
   ]
  },
  {
   "cell_type": "code",
   "execution_count": 33,
   "id": "ebf2fe6c",
   "metadata": {},
   "outputs": [],
   "source": [
    "x = df_not_monday.drop(columns=[' Label'])\n",
    "y = df_not_monday[' Label']"
   ]
  },
  {
   "cell_type": "code",
   "execution_count": 35,
   "id": "dbacc159",
   "metadata": {},
   "outputs": [
    {
     "data": {
      "text/plain": [
       "Counter({'BENIGN': 1574993,\n",
       "         'DDoS': 128027,\n",
       "         'PortScan': 158930,\n",
       "         'Bot': 1966,\n",
       "         'Infiltration': 36,\n",
       "         'FTP-Patator': 7938,\n",
       "         'SSH-Patator': 5897,\n",
       "         'DoS slowloris': 5796,\n",
       "         'DoS Slowhttptest': 5499,\n",
       "         'DoS Hulk': 231073,\n",
       "         'DoS GoldenEye': 10293,\n",
       "         'Heartbleed': 11})"
      ]
     },
     "execution_count": 35,
     "metadata": {},
     "output_type": "execute_result"
    }
   ],
   "source": [
    "Counter(y)"
   ]
  },
  {
   "cell_type": "code",
   "execution_count": 50,
   "id": "ef93965f",
   "metadata": {},
   "outputs": [],
   "source": [
    "# df_max = df_not_monday[df_not_monday[' Source IP'] != '192.168.10.50']"
   ]
  },
  {
   "cell_type": "code",
   "execution_count": 51,
   "id": "00b73249",
   "metadata": {},
   "outputs": [
    {
     "data": {
      "text/plain": [
       "Counter({'BENIGN': 1504129,\n",
       "         'DDoS': 128024,\n",
       "         'PortScan': 158930,\n",
       "         'Bot': 1966,\n",
       "         'Infiltration': 36,\n",
       "         'FTP-Patator': 7938,\n",
       "         'SSH-Patator': 5897,\n",
       "         'DoS slowloris': 5796,\n",
       "         'DoS Slowhttptest': 5499,\n",
       "         'DoS Hulk': 231073,\n",
       "         'DoS GoldenEye': 10293,\n",
       "         'Heartbleed': 11})"
      ]
     },
     "execution_count": 51,
     "metadata": {},
     "output_type": "execute_result"
    }
   ],
   "source": [
    "Counter(df_max[' Label'])"
   ]
  },
  {
   "cell_type": "code",
   "execution_count": 52,
   "id": "23151d57",
   "metadata": {},
   "outputs": [],
   "source": [
    "df_max.to_pickle('cicids2017_not_contain_monday_max.pkl')"
   ]
  },
  {
   "cell_type": "code",
   "execution_count": null,
   "id": "b1e5ed28",
   "metadata": {},
   "outputs": [],
   "source": []
  }
 ],
 "metadata": {
  "kernelspec": {
   "display_name": "Python 3",
   "language": "python",
   "name": "python3"
  },
  "language_info": {
   "codemirror_mode": {
    "name": "ipython",
    "version": 3
   },
   "file_extension": ".py",
   "mimetype": "text/x-python",
   "name": "python",
   "nbconvert_exporter": "python",
   "pygments_lexer": "ipython3",
   "version": "3.6.13"
  }
 },
 "nbformat": 4,
 "nbformat_minor": 5
}
