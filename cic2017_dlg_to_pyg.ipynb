{
 "cells": [
  {
   "cell_type": "code",
   "execution_count": 1,
   "id": "f32e4864",
   "metadata": {},
   "outputs": [],
   "source": [
    "import networkx\n",
    "import torch\n",
    "import numpy as np\n",
    "import pandas as pd\n",
    "from sklearn.metrics import *\n",
    "from torch_geometric.loader import NeighborSampler, NeighborLoader\n",
    "from torch_geometric.data import Data, DataLoader\n",
    "from torch_geometric.nn import GATConv, ResGatedGraphConv, GATv2Conv, SAGEConv, GENConv, DeepGCNLayer, PairNorm, GINConv,GCNConv\n",
    "from sklearn.preprocessing import MinMaxScaler\n",
    "from sklearn.model_selection import train_test_split\n",
    "from sklearn.impute import SimpleImputer\n",
    "import torch.nn.functional as F\n",
    "from imblearn.under_sampling import RandomUnderSampler\n",
    "pd.options.mode.use_inf_as_na = True\n",
    "from collections import Counter\n",
    "from sklearn.feature_selection import SelectFromModel\n",
    "import torch.nn as nn\n",
    "import time\n",
    "import pickle\n",
    "from torch.nn import LayerNorm, Linear, ReLU\n",
    "from torch_scatter import scatter\n",
    "from tqdm import tqdm\n",
    "from torch_geometric.loader import RandomNodeSampler\n",
    "import math\n",
    "import copy\n",
    "from sklearn.metrics import f1_score\n",
    "from torch.optim import lr_scheduler\n",
    "from sklearn.manifold import TSNE\n",
    "import matplotlib.pyplot as plt"
   ]
  },
  {
   "cell_type": "code",
   "execution_count": 2,
   "id": "8222af38",
   "metadata": {},
   "outputs": [],
   "source": [
    "import dgl\n",
    "import dgl.nn as dglnn\n",
    "import torch\n",
    "import torch.nn as nn\n",
    "import torch.nn.functional as F\n",
    "from dgl.data.utils import *"
   ]
  },
  {
   "cell_type": "code",
   "execution_count": 3,
   "id": "892b07f2",
   "metadata": {},
   "outputs": [],
   "source": [
    "import warnings\n",
    "# action参数可以设置为ignore，一位一次也不喜爱你是，once表示为只显示一次\n",
    "warnings.filterwarnings(action='ignore')"
   ]
  },
  {
   "cell_type": "code",
   "execution_count": 4,
   "id": "472570a1",
   "metadata": {},
   "outputs": [],
   "source": [
    "class Transition_layer(torch.nn.Module):\n",
    "    def __init__(self, act, norm, lin):\n",
    "        super().__init__()\n",
    "        self.act = act\n",
    "        self.norm = norm\n",
    "        self.lin = lin\n",
    "    def forward(self, x):\n",
    "        x = self.norm(x)\n",
    "        x = self.act(x)\n",
    "        x = self.lin(x)\n",
    "        return x\n",
    "        \n",
    "class DenseGAT(torch.nn.Module):\n",
    "    def __init__(self, in_channels, num_class, num_layers=6, num_blocks=3, growth_rate=10, theta=0.5):\n",
    "        super().__init__()\n",
    "        self.num_layers = num_layers\n",
    "        self.blocks = num_blocks\n",
    "        self.theta = theta\n",
    "        self.growth_rate = growth_rate\n",
    "        self.base_rate = growth_rate\n",
    "        self.in_channels = in_channels\n",
    "        self.out_channels = num_class\n",
    "        self.linear_layers = torch.nn.ModuleList()\n",
    "        self.transition_layers = torch.nn.ModuleList()\n",
    "        self.block_layers = torch.nn.ModuleList()\n",
    "        self.node_encoder = Linear(in_channels, growth_rate)\n",
    "        self.linear_layers.append(self.node_encoder)\n",
    "        \n",
    "        for i in range(self.blocks):\n",
    "            # block\n",
    "            layers = torch.nn.ModuleList()\n",
    "            # 2^(i - 1) * k0\n",
    "            self.growth_rate = int(math.pow(2, i) * self.base_rate)\n",
    "            print(self.growth_rate)\n",
    "            for j in range(1, self.num_layers + 1):\n",
    "                conv = SAGEConv(in_channels + (j - 1) * self.growth_rate, self.growth_rate, aggr='mean')\n",
    "                norm = LayerNorm(self.growth_rate)\n",
    "                act = ReLU()\n",
    "                layer = DeepGCNLayer(conv, norm, act, block='dense')\n",
    "                layers.append(layer)\n",
    "            self.block_layers.append(layers)\n",
    "            \n",
    "            # transition\n",
    "            hidden_channels = in_channels +  self.num_layers * self.growth_rate\n",
    "            out_channels = int(hidden_channels * self.theta)\n",
    "            transition_norm = LayerNorm(hidden_channels, elementwise_affine=True)\n",
    "            transition_act = ReLU()\n",
    "            transition_lin = Linear(hidden_channels, out_channels)\n",
    "            transitionLayer = Transition_layer(transition_act, transition_norm, transition_lin)\n",
    "            self.transition_layers.append(transitionLayer)\n",
    "            in_channels = copy.copy(out_channels)\n",
    "        \n",
    "        self.lin_last = Linear(in_channels, self.out_channels)\n",
    "        self.linear_layers.append(self.lin_last)\n",
    "        \n",
    "    def forward(self, x, edge_index):\n",
    "#         x = self.linear_layers[0](x)\n",
    "        for i in range(self.blocks):\n",
    "            # block layer\n",
    "            for layer in self.block_layers[i]:\n",
    "                x = layer(x, edge_index)\n",
    "            # transition layer\n",
    "            x = self.transition_layers[i](x)\n",
    "        x = self.linear_layers[-1](x)\n",
    "        return x"
   ]
  },
  {
   "cell_type": "code",
   "execution_count": 5,
   "id": "4a30686b",
   "metadata": {},
   "outputs": [],
   "source": [
    "from sklearn.utils import class_weight\n",
    "def train():\n",
    "    total_loss = total_correct = total_examples = 0\n",
    "    start_time = time.time()\n",
    "    for batch in train_loader:\n",
    "        batch = batch.to(device)\n",
    "        y = batch.y[:batch.batch_size]\n",
    "        optimizer.zero_grad()\n",
    "        y_hat = model(batch.x.to(device), batch.edge_index.to(device))[:batch.batch_size]\n",
    "        loss = F.cross_entropy(y_hat, y)\n",
    "        loss.backward()\n",
    "        optimizer.step()\n",
    "        total_loss += float(loss) * batch.batch_size\n",
    "        total_correct += int((y_hat.argmax(dim=-1) == y).sum())\n",
    "        total_examples += batch.batch_size\n",
    "    end_time = time.time()  \n",
    "    \n",
    "    return total_loss / total_examples, total_correct / total_examples\n",
    "\n",
    "def inferrence(model, subgraph_loader):\n",
    "    total_loss = total_correct = total_examples = 0\n",
    "    xs = []\n",
    "    y = []\n",
    "    pbar = tqdm(total=len(subgraph_loader))\n",
    "    for batch in subgraph_loader:\n",
    "        y_hat = model(batch.x, batch.edge_index.to(device))[:batch.batch_size]\n",
    "        xs.append(y_hat.cpu())\n",
    "        y_true = batch.y[:batch.batch_size]\n",
    "        y.append(y_true.cpu())\n",
    "        pbar.update(1)\n",
    "    pbar.close()\n",
    "    y_hat = torch.cat(xs, 0)\n",
    "    y_hat = y_hat.detach().numpy()\n",
    "    y_hat = np.argmax(y_hat, -1)\n",
    "    y = torch.cat(y, 0)\n",
    "    cr1 = classification_report(y, y_hat, digits=4)\n",
    "    cf = confusion_matrix(y, y_hat)\n",
    "#     print(roc_auc_score(y, y_hat))\n",
    "    print(cr1)\n",
    "    print(cf)\n",
    "    return  y, y_hat\n",
    "\n",
    "def get_metrics(y_true, y_pred):\n",
    "    cr = classification_report(y_true, y_pred, output_dict=True, digits=4)\n",
    "    df = pd.DataFrame(cr).transpose()\n",
    "    cm = confusion_matrix(y_true, y_pred)\n",
    "    print(df)\n",
    "    print(cm)"
   ]
  },
  {
   "cell_type": "code",
   "execution_count": 6,
   "id": "310354aa",
   "metadata": {},
   "outputs": [],
   "source": [
    "train_lg = load_graphs(\"./mydata/unswnb15_train_data_lg.bin\")[0][0]"
   ]
  },
  {
   "cell_type": "code",
   "execution_count": 7,
   "id": "a9bc28f3",
   "metadata": {},
   "outputs": [],
   "source": [
    "test_lg = load_graphs(\"./mydata/unswnb15_test_data_lg.bin\")[0][0]"
   ]
  },
  {
   "cell_type": "code",
   "execution_count": 6,
   "id": "ec2d9ccd",
   "metadata": {},
   "outputs": [],
   "source": [
    "data, _ = load_graphs(\"dgl_cic2017data50w.bin\")"
   ]
  },
  {
   "cell_type": "code",
   "execution_count": null,
   "id": "82df5526",
   "metadata": {},
   "outputs": [],
   "source": [
    "train_lg, test_lg = data[0], data[1]"
   ]
  },
  {
   "cell_type": "code",
   "execution_count": null,
   "id": "51f427c2",
   "metadata": {},
   "outputs": [],
   "source": [
    "train_lg = dgl.add_self_loop(train_lg)\n",
    "test_lg = dgl.add_self_loop(test_lg)"
   ]
  },
  {
   "cell_type": "code",
   "execution_count": 11,
   "id": "4355a4a7",
   "metadata": {},
   "outputs": [
    {
     "data": {
      "text/plain": [
       "(Graph(num_nodes=358047, num_edges=916065844,\n",
       "       ndata_schemes={'label': Scheme(shape=(), dtype=torch.int64), 'h': Scheme(shape=(40,), dtype=torch.float32)}\n",
       "       edata_schemes={}),\n",
       " Graph(num_nodes=153454, num_edges=169209818,\n",
       "       ndata_schemes={'label': Scheme(shape=(), dtype=torch.int64), 'h': Scheme(shape=(40,), dtype=torch.float32)}\n",
       "       edata_schemes={}))"
      ]
     },
     "execution_count": 11,
     "metadata": {},
     "output_type": "execute_result"
    }
   ],
   "source": [
    "train_lg, test_lg"
   ]
  },
  {
   "cell_type": "code",
   "execution_count": 12,
   "id": "0974e252",
   "metadata": {},
   "outputs": [
    {
     "data": {
      "text/plain": [
       "358047"
      ]
     },
     "execution_count": 12,
     "metadata": {},
     "output_type": "execute_result"
    }
   ],
   "source": [
    "train_lg.num_nodes()"
   ]
  },
  {
   "cell_type": "code",
   "execution_count": 5,
   "id": "a91e6559",
   "metadata": {},
   "outputs": [],
   "source": [
    "data, _ = load_graphs(\"dgl_cic2017data3.bin\")"
   ]
  },
  {
   "cell_type": "code",
   "execution_count": 7,
   "id": "d16e8a73",
   "metadata": {},
   "outputs": [],
   "source": [
    "train_lg, test_lg = data[0], data[1]"
   ]
  },
  {
   "cell_type": "code",
   "execution_count": 8,
   "id": "a2a1e47a",
   "metadata": {},
   "outputs": [],
   "source": [
    "src_index = test_lg.edges()[0].numpy()\n",
    "dst_index = test_lg.edges()[1].numpy()\n",
    "edge_index = [src_index, dst_index]\n",
    "edge_index = torch.LongTensor(edge_index)"
   ]
  },
  {
   "cell_type": "code",
   "execution_count": 9,
   "id": "67d8caa1",
   "metadata": {},
   "outputs": [],
   "source": [
    "test_data = Data()\n",
    "test_data.x = test_lg.ndata['x']\n",
    "test_data.y = test_lg.ndata['y']\n",
    "test_data.edge_index = edge_index"
   ]
  },
  {
   "cell_type": "code",
   "execution_count": 11,
   "id": "839ad339",
   "metadata": {},
   "outputs": [],
   "source": [
    "src_index = train_lg.edges()[0].numpy()\n",
    "dst_index = train_lg.edges()[1].numpy()\n",
    "edge_index = [src_index, dst_index]\n",
    "edge_index = torch.LongTensor(edge_index)"
   ]
  },
  {
   "cell_type": "code",
   "execution_count": 12,
   "id": "8bd43e78",
   "metadata": {},
   "outputs": [],
   "source": [
    "train_data = Data()\n",
    "train_data.x = train_lg.ndata['x']\n",
    "train_data.y = train_lg.ndata['y']\n",
    "train_data.edge_index = edge_index"
   ]
  },
  {
   "cell_type": "code",
   "execution_count": 19,
   "id": "c1ebc907",
   "metadata": {},
   "outputs": [
    {
     "data": {
      "text/plain": [
       "(Data(x=[459589, 78], y=[459589], edge_index=[2, 339778283]),\n",
       " Data(x=[196967, 78], y=[196967], edge_index=[2, 60788929]))"
      ]
     },
     "execution_count": 19,
     "metadata": {},
     "output_type": "execute_result"
    }
   ],
   "source": [
    "train_data, test_data"
   ]
  },
  {
   "cell_type": "code",
   "execution_count": 20,
   "id": "9844ed6d",
   "metadata": {},
   "outputs": [],
   "source": [
    "train_data.num_nodes = train_lg.num_nodes()\n",
    "test_data.num_nodes = test_lg.num_nodes()"
   ]
  },
  {
   "cell_type": "code",
   "execution_count": 21,
   "id": "33647440",
   "metadata": {},
   "outputs": [],
   "source": [
    "train_data.num_nodes = train_lg.num_nodes()"
   ]
  },
  {
   "cell_type": "code",
   "execution_count": 13,
   "id": "666d4faf",
   "metadata": {},
   "outputs": [],
   "source": [
    "torch.save(train_data, 'cic2017_dgl_to_pyg_train_data50')"
   ]
  },
  {
   "cell_type": "code",
   "execution_count": 10,
   "id": "33bb33e0",
   "metadata": {},
   "outputs": [],
   "source": [
    "torch.save(test_data, 'cic2017_dgl_to_pyg_test_data50')"
   ]
  },
  {
   "cell_type": "code",
   "execution_count": null,
   "id": "2c0445e2",
   "metadata": {},
   "outputs": [],
   "source": []
  }
 ],
 "metadata": {
  "kernelspec": {
   "display_name": "Python 3",
   "language": "python",
   "name": "python3"
  },
  "language_info": {
   "codemirror_mode": {
    "name": "ipython",
    "version": 3
   },
   "file_extension": ".py",
   "mimetype": "text/x-python",
   "name": "python",
   "nbconvert_exporter": "python",
   "pygments_lexer": "ipython3",
   "version": "3.6.13"
  }
 },
 "nbformat": 4,
 "nbformat_minor": 5
}
