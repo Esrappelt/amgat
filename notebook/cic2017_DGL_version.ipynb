{
 "cells": [
  {
   "cell_type": "code",
   "execution_count": 1,
   "id": "e2368ba5",
   "metadata": {},
   "outputs": [],
   "source": [
    "import networkx as nx"
   ]
  },
  {
   "cell_type": "code",
   "execution_count": 2,
   "id": "0588461e",
   "metadata": {},
   "outputs": [],
   "source": [
    "import torch as th"
   ]
  },
  {
   "cell_type": "code",
   "execution_count": 3,
   "id": "d6d45d43",
   "metadata": {},
   "outputs": [],
   "source": [
    "import networkx\n",
    "import torch\n",
    "import numpy as np\n",
    "import pandas as pd\n",
    "from sklearn.metrics import *\n",
    "from sklearn.preprocessing import MinMaxScaler\n",
    "from sklearn.model_selection import train_test_split\n",
    "from sklearn.impute import SimpleImputer\n",
    "import torch.nn.functional as F\n",
    "from imblearn.under_sampling import RandomUnderSampler\n",
    "pd.options.mode.use_inf_as_na = True\n",
    "from collections import Counter\n",
    "from sklearn.feature_selection import SelectFromModel\n",
    "import torch.nn as nn\n",
    "import time\n",
    "import pickle\n",
    "from torch.nn import LayerNorm, Linear, ReLU\n",
    "from torch_scatter import scatter\n",
    "from tqdm import tqdm\n",
    "import math\n",
    "import copy\n",
    "import dgl\n",
    "from sklearn.preprocessing import MinMaxScaler, StandardScaler"
   ]
  },
  {
   "cell_type": "code",
   "execution_count": 4,
   "id": "a4fcff0f",
   "metadata": {},
   "outputs": [],
   "source": [
    "import dgl\n",
    "import dgl.nn as dglnn\n",
    "import torch\n",
    "import torch.nn as nn\n",
    "import torch.nn.functional as F\n",
    "from dgl.data.utils import *"
   ]
  },
  {
   "cell_type": "code",
   "execution_count": 5,
   "id": "b4bfbc99",
   "metadata": {},
   "outputs": [],
   "source": [
    "import warnings\n",
    "# action参数可以设置为ignore，一位一次也不喜爱你是，once表示为只显示一次\n",
    "warnings.filterwarnings(action='ignore')"
   ]
  },
  {
   "cell_type": "code",
   "execution_count": 6,
   "id": "d00ef999",
   "metadata": {},
   "outputs": [],
   "source": [
    "# transform = dgl.DropEdge(p=0.3)"
   ]
  },
  {
   "cell_type": "code",
   "execution_count": 7,
   "id": "b4324a6c",
   "metadata": {},
   "outputs": [],
   "source": [
    "class DenseGATLayer(torch.nn.Module):\n",
    "    def __init__(self, conv, norm, act):\n",
    "        super().__init__()\n",
    "        self.conv = conv\n",
    "        self.norm = norm\n",
    "        self.act = act\n",
    "    def forward(self, g, x):\n",
    "#         graph = transform(g)\n",
    "        h = self.conv(g, x)\n",
    "#         h = self.norm(h)\n",
    "#         h = h.view(-1, h.size(1) * h.size(2))\n",
    "        h = self.act(h)\n",
    "        h = torch.cat([x, h], -1)\n",
    "        return h\n",
    "class GAT(torch.nn.Module):\n",
    "    def __init__(self, in_dim, growth_rate, out_dim, k, num_heads):\n",
    "        super(GAT, self).__init__()\n",
    "        self.layers = nn.ModuleList()\n",
    "        for i in range(k):\n",
    "            conv = dgl.nn.GraphConv(in_dim + growth_rate * i * num_heads, growth_rate)\n",
    "            norm = nn.LayerNorm(growth_rate)\n",
    "            act = F.elu\n",
    "            layer = DenseGATLayer(conv, norm, act)\n",
    "            self.layers.append(layer)\n",
    "        self.pred = nn.Linear(growth_rate * k * num_heads + in_dim, out_dim)\n",
    "    def forward(self, g, h):\n",
    "        for layer in self.layers:\n",
    "            h = layer(g, h)\n",
    "        h = h.squeeze() # 去掉所有维度为1的\n",
    "        h = self.pred(h)\n",
    "        return h\n",
    "def accuracy(logits, labels):\n",
    "    _, indices = torch.max(logits, dim=1)\n",
    "    correct = torch.sum(indices == labels)\n",
    "    return correct.item() * 1.0 / len(labels)\n"
   ]
  },
  {
   "cell_type": "code",
   "execution_count": 8,
   "id": "e6b59e6d",
   "metadata": {},
   "outputs": [],
   "source": [
    "class DenseGATLayer2(torch.nn.Module):\n",
    "    def __init__(self, conv, norm, act):\n",
    "        super().__init__()\n",
    "        self.conv = conv\n",
    "        self.norm = norm\n",
    "        self.act = act\n",
    "    def forward(self, g, x):\n",
    "        h = self.conv(g, x)\n",
    "        h = h.view(-1, h.size(1) * h.size(2))\n",
    "        h = self.act(h)\n",
    "        h = torch.cat([x, h], -1)\n",
    "        return h\n",
    "class GAT(torch.nn.Module):\n",
    "    def __init__(self, in_dim, growth_rate, out_dim, k, num_heads):\n",
    "        super(GAT, self).__init__()\n",
    "        self.layers = nn.ModuleList()\n",
    "        for i in range(k):\n",
    "            conv = dgl.nn.GATConv(in_dim + growth_rate * i * num_heads, growth_rate, num_heads=1)\n",
    "            norm = nn.LayerNorm(growth_rate)\n",
    "            act = F.relu\n",
    "            layer = DenseGATLayer2(conv, norm, act)\n",
    "            self.layers.append(layer)\n",
    "        self.pred = nn.Linear(growth_rate * k * num_heads + in_dim, out_dim)\n",
    "    def forward(self, g, h):\n",
    "        for layer in self.layers:\n",
    "            h = layer(g, h)\n",
    "        h = h.squeeze() # 去掉所有维度为1的\n",
    "        h = self.pred(h)\n",
    "        return h\n",
    "def accuracy(logits, labels):\n",
    "    _, indices = torch.max(logits, dim=1)\n",
    "    correct = torch.sum(indices == labels)\n",
    "    return correct.item() * 1.0 / len(labels)\n"
   ]
  },
  {
   "cell_type": "code",
   "execution_count": 9,
   "id": "a33cb53f",
   "metadata": {},
   "outputs": [],
   "source": [
    "model = GAT(in_dim=78, growth_rate=10, out_dim=15, k=5, num_heads=1)"
   ]
  },
  {
   "cell_type": "code",
   "execution_count": 10,
   "id": "56c6f9de",
   "metadata": {},
   "outputs": [],
   "source": [
    "# np.random.seed(2022)"
   ]
  },
  {
   "cell_type": "code",
   "execution_count": 11,
   "id": "33829581",
   "metadata": {},
   "outputs": [],
   "source": [
    "data, _ = load_graphs(\"dgl_cic2017data50w.bin\")"
   ]
  },
  {
   "cell_type": "code",
   "execution_count": 12,
   "id": "655e3f9e",
   "metadata": {},
   "outputs": [],
   "source": [
    "train_lg, test_lg = data[0], data[1]"
   ]
  },
  {
   "cell_type": "code",
   "execution_count": 13,
   "id": "f4e6ef2e",
   "metadata": {},
   "outputs": [],
   "source": [
    "train_lg = dgl.add_self_loop(train_lg)\n",
    "test_lg = dgl.add_self_loop(test_lg)"
   ]
  },
  {
   "cell_type": "code",
   "execution_count": 14,
   "id": "522acd47",
   "metadata": {},
   "outputs": [],
   "source": [
    "features = train_lg.ndata['x']"
   ]
  },
  {
   "cell_type": "code",
   "execution_count": 15,
   "id": "bc64d8cd",
   "metadata": {},
   "outputs": [],
   "source": [
    "labels = train_lg.ndata['y']"
   ]
  },
  {
   "cell_type": "code",
   "execution_count": 16,
   "id": "44b1dbff",
   "metadata": {},
   "outputs": [
    {
     "data": {
      "text/plain": [
       "torch.Size([739589, 78])"
      ]
     },
     "execution_count": 16,
     "metadata": {},
     "output_type": "execute_result"
    }
   ],
   "source": [
    "features.shape"
   ]
  },
  {
   "cell_type": "code",
   "execution_count": 17,
   "id": "c64a90cf",
   "metadata": {},
   "outputs": [
    {
     "data": {
      "text/plain": [
       "Graph(num_nodes=739589, num_edges=1730800876,\n",
       "      ndata_schemes={'y': Scheme(shape=(), dtype=torch.int64), 'x': Scheme(shape=(78,), dtype=torch.float32)}\n",
       "      edata_schemes={})"
      ]
     },
     "execution_count": 17,
     "metadata": {},
     "output_type": "execute_result"
    }
   ],
   "source": [
    "train_lg"
   ]
  },
  {
   "cell_type": "code",
   "execution_count": 19,
   "id": "590f8270",
   "metadata": {},
   "outputs": [
    {
     "data": {
      "text/plain": [
       "Counter({9: 161087,\n",
       "         0: 350000,\n",
       "         2: 111163,\n",
       "         1: 89617,\n",
       "         5: 5555,\n",
       "         8: 3849,\n",
       "         6: 4128,\n",
       "         7: 4057,\n",
       "         10: 7205,\n",
       "         12: 1055,\n",
       "         13: 456,\n",
       "         3: 1369,\n",
       "         4: 25,\n",
       "         14: 15,\n",
       "         11: 8})"
      ]
     },
     "execution_count": 19,
     "metadata": {},
     "output_type": "execute_result"
    }
   ],
   "source": [
    "Counter(train_lg.ndata['y'].numpy())"
   ]
  },
  {
   "cell_type": "code",
   "execution_count": 24,
   "id": "266c0ef2",
   "metadata": {},
   "outputs": [],
   "source": [
    "# model = torch.load('dgldensegat_cic2017')"
   ]
  },
  {
   "cell_type": "code",
   "execution_count": 21,
   "id": "a583c1ee",
   "metadata": {},
   "outputs": [],
   "source": [
    "opt = torch.optim.Adam(model.parameters(), lr=0.01)"
   ]
  },
  {
   "cell_type": "code",
   "execution_count": 23,
   "id": "4f75407e",
   "metadata": {},
   "outputs": [],
   "source": [
    "all_loss = []"
   ]
  },
  {
   "cell_type": "code",
   "execution_count": 51,
   "id": "b429e63f",
   "metadata": {
    "code_folding": []
   },
   "outputs": [
    {
     "ename": "KeyboardInterrupt",
     "evalue": "",
     "output_type": "error",
     "traceback": [
      "\u001b[0;31m---------------------------------------------------------------------------\u001b[0m",
      "\u001b[0;31mKeyboardInterrupt\u001b[0m                         Traceback (most recent call last)",
      "\u001b[0;32m<ipython-input-51-eb1e4327cabf>\u001b[0m in \u001b[0;36m<module>\u001b[0;34m\u001b[0m\n\u001b[1;32m      1\u001b[0m \u001b[0;32mfor\u001b[0m \u001b[0mepoch\u001b[0m \u001b[0;32min\u001b[0m \u001b[0mrange\u001b[0m\u001b[0;34m(\u001b[0m\u001b[0;36m100\u001b[0m\u001b[0;34m)\u001b[0m\u001b[0;34m:\u001b[0m\u001b[0;34m\u001b[0m\u001b[0;34m\u001b[0m\u001b[0m\n\u001b[0;32m----> 2\u001b[0;31m     \u001b[0mlogits\u001b[0m \u001b[0;34m=\u001b[0m \u001b[0mmodel\u001b[0m\u001b[0;34m(\u001b[0m\u001b[0mtrain_lg\u001b[0m\u001b[0;34m,\u001b[0m \u001b[0mfeatures\u001b[0m\u001b[0;34m)\u001b[0m\u001b[0;34m\u001b[0m\u001b[0;34m\u001b[0m\u001b[0m\n\u001b[0m\u001b[1;32m      3\u001b[0m     \u001b[0mloss\u001b[0m \u001b[0;34m=\u001b[0m \u001b[0mF\u001b[0m\u001b[0;34m.\u001b[0m\u001b[0mcross_entropy\u001b[0m\u001b[0;34m(\u001b[0m\u001b[0mlogits\u001b[0m\u001b[0;34m,\u001b[0m \u001b[0mlabels\u001b[0m\u001b[0;34m)\u001b[0m\u001b[0;34m\u001b[0m\u001b[0;34m\u001b[0m\u001b[0m\n\u001b[1;32m      4\u001b[0m     \u001b[0mprint\u001b[0m\u001b[0;34m(\u001b[0m\u001b[0mloss\u001b[0m\u001b[0;34m)\u001b[0m\u001b[0;34m\u001b[0m\u001b[0;34m\u001b[0m\u001b[0m\n\u001b[1;32m      5\u001b[0m     \u001b[0mall_loss\u001b[0m\u001b[0;34m.\u001b[0m\u001b[0mappend\u001b[0m\u001b[0;34m(\u001b[0m\u001b[0mloss\u001b[0m\u001b[0;34m)\u001b[0m\u001b[0;34m\u001b[0m\u001b[0;34m\u001b[0m\u001b[0m\n",
      "\u001b[0;32m~/anaconda3/envs/densegat2/lib/python3.6/site-packages/torch/nn/modules/module.py\u001b[0m in \u001b[0;36m_call_impl\u001b[0;34m(self, *input, **kwargs)\u001b[0m\n\u001b[1;32m   1100\u001b[0m         if not (self._backward_hooks or self._forward_hooks or self._forward_pre_hooks or _global_backward_hooks\n\u001b[1;32m   1101\u001b[0m                 or _global_forward_hooks or _global_forward_pre_hooks):\n\u001b[0;32m-> 1102\u001b[0;31m             \u001b[0;32mreturn\u001b[0m \u001b[0mforward_call\u001b[0m\u001b[0;34m(\u001b[0m\u001b[0;34m*\u001b[0m\u001b[0minput\u001b[0m\u001b[0;34m,\u001b[0m \u001b[0;34m**\u001b[0m\u001b[0mkwargs\u001b[0m\u001b[0;34m)\u001b[0m\u001b[0;34m\u001b[0m\u001b[0;34m\u001b[0m\u001b[0m\n\u001b[0m\u001b[1;32m   1103\u001b[0m         \u001b[0;31m# Do not call functions when jit is used\u001b[0m\u001b[0;34m\u001b[0m\u001b[0;34m\u001b[0m\u001b[0;34m\u001b[0m\u001b[0m\n\u001b[1;32m   1104\u001b[0m         \u001b[0mfull_backward_hooks\u001b[0m\u001b[0;34m,\u001b[0m \u001b[0mnon_full_backward_hooks\u001b[0m \u001b[0;34m=\u001b[0m \u001b[0;34m[\u001b[0m\u001b[0;34m]\u001b[0m\u001b[0;34m,\u001b[0m \u001b[0;34m[\u001b[0m\u001b[0;34m]\u001b[0m\u001b[0;34m\u001b[0m\u001b[0;34m\u001b[0m\u001b[0m\n",
      "\u001b[0;32m<ipython-input-8-49bea4495a98>\u001b[0m in \u001b[0;36mforward\u001b[0;34m(self, g, h)\u001b[0m\n\u001b[1;32m     24\u001b[0m     \u001b[0;32mdef\u001b[0m \u001b[0mforward\u001b[0m\u001b[0;34m(\u001b[0m\u001b[0mself\u001b[0m\u001b[0;34m,\u001b[0m \u001b[0mg\u001b[0m\u001b[0;34m,\u001b[0m \u001b[0mh\u001b[0m\u001b[0;34m)\u001b[0m\u001b[0;34m:\u001b[0m\u001b[0;34m\u001b[0m\u001b[0;34m\u001b[0m\u001b[0m\n\u001b[1;32m     25\u001b[0m         \u001b[0;32mfor\u001b[0m \u001b[0mlayer\u001b[0m \u001b[0;32min\u001b[0m \u001b[0mself\u001b[0m\u001b[0;34m.\u001b[0m\u001b[0mlayers\u001b[0m\u001b[0;34m:\u001b[0m\u001b[0;34m\u001b[0m\u001b[0;34m\u001b[0m\u001b[0m\n\u001b[0;32m---> 26\u001b[0;31m             \u001b[0mh\u001b[0m \u001b[0;34m=\u001b[0m \u001b[0mlayer\u001b[0m\u001b[0;34m(\u001b[0m\u001b[0mg\u001b[0m\u001b[0;34m,\u001b[0m \u001b[0mh\u001b[0m\u001b[0;34m)\u001b[0m\u001b[0;34m\u001b[0m\u001b[0;34m\u001b[0m\u001b[0m\n\u001b[0m\u001b[1;32m     27\u001b[0m         \u001b[0mh\u001b[0m \u001b[0;34m=\u001b[0m \u001b[0mh\u001b[0m\u001b[0;34m.\u001b[0m\u001b[0msqueeze\u001b[0m\u001b[0;34m(\u001b[0m\u001b[0;34m)\u001b[0m \u001b[0;31m# 去掉所有维度为1的\u001b[0m\u001b[0;34m\u001b[0m\u001b[0;34m\u001b[0m\u001b[0m\n\u001b[1;32m     28\u001b[0m         \u001b[0mh\u001b[0m \u001b[0;34m=\u001b[0m \u001b[0mself\u001b[0m\u001b[0;34m.\u001b[0m\u001b[0mpred\u001b[0m\u001b[0;34m(\u001b[0m\u001b[0mh\u001b[0m\u001b[0;34m)\u001b[0m\u001b[0;34m\u001b[0m\u001b[0;34m\u001b[0m\u001b[0m\n",
      "\u001b[0;32m~/anaconda3/envs/densegat2/lib/python3.6/site-packages/torch/nn/modules/module.py\u001b[0m in \u001b[0;36m_call_impl\u001b[0;34m(self, *input, **kwargs)\u001b[0m\n\u001b[1;32m   1100\u001b[0m         if not (self._backward_hooks or self._forward_hooks or self._forward_pre_hooks or _global_backward_hooks\n\u001b[1;32m   1101\u001b[0m                 or _global_forward_hooks or _global_forward_pre_hooks):\n\u001b[0;32m-> 1102\u001b[0;31m             \u001b[0;32mreturn\u001b[0m \u001b[0mforward_call\u001b[0m\u001b[0;34m(\u001b[0m\u001b[0;34m*\u001b[0m\u001b[0minput\u001b[0m\u001b[0;34m,\u001b[0m \u001b[0;34m**\u001b[0m\u001b[0mkwargs\u001b[0m\u001b[0;34m)\u001b[0m\u001b[0;34m\u001b[0m\u001b[0;34m\u001b[0m\u001b[0m\n\u001b[0m\u001b[1;32m   1103\u001b[0m         \u001b[0;31m# Do not call functions when jit is used\u001b[0m\u001b[0;34m\u001b[0m\u001b[0;34m\u001b[0m\u001b[0;34m\u001b[0m\u001b[0m\n\u001b[1;32m   1104\u001b[0m         \u001b[0mfull_backward_hooks\u001b[0m\u001b[0;34m,\u001b[0m \u001b[0mnon_full_backward_hooks\u001b[0m \u001b[0;34m=\u001b[0m \u001b[0;34m[\u001b[0m\u001b[0;34m]\u001b[0m\u001b[0;34m,\u001b[0m \u001b[0;34m[\u001b[0m\u001b[0;34m]\u001b[0m\u001b[0;34m\u001b[0m\u001b[0;34m\u001b[0m\u001b[0m\n",
      "\u001b[0;32m<ipython-input-8-49bea4495a98>\u001b[0m in \u001b[0;36mforward\u001b[0;34m(self, g, x)\u001b[0m\n\u001b[1;32m      6\u001b[0m         \u001b[0mself\u001b[0m\u001b[0;34m.\u001b[0m\u001b[0mact\u001b[0m \u001b[0;34m=\u001b[0m \u001b[0mact\u001b[0m\u001b[0;34m\u001b[0m\u001b[0;34m\u001b[0m\u001b[0m\n\u001b[1;32m      7\u001b[0m     \u001b[0;32mdef\u001b[0m \u001b[0mforward\u001b[0m\u001b[0;34m(\u001b[0m\u001b[0mself\u001b[0m\u001b[0;34m,\u001b[0m \u001b[0mg\u001b[0m\u001b[0;34m,\u001b[0m \u001b[0mx\u001b[0m\u001b[0;34m)\u001b[0m\u001b[0;34m:\u001b[0m\u001b[0;34m\u001b[0m\u001b[0;34m\u001b[0m\u001b[0m\n\u001b[0;32m----> 8\u001b[0;31m         \u001b[0mh\u001b[0m \u001b[0;34m=\u001b[0m \u001b[0mself\u001b[0m\u001b[0;34m.\u001b[0m\u001b[0mconv\u001b[0m\u001b[0;34m(\u001b[0m\u001b[0mg\u001b[0m\u001b[0;34m,\u001b[0m \u001b[0mx\u001b[0m\u001b[0;34m)\u001b[0m\u001b[0;34m\u001b[0m\u001b[0;34m\u001b[0m\u001b[0m\n\u001b[0m\u001b[1;32m      9\u001b[0m         \u001b[0mh\u001b[0m \u001b[0;34m=\u001b[0m \u001b[0mh\u001b[0m\u001b[0;34m.\u001b[0m\u001b[0mview\u001b[0m\u001b[0;34m(\u001b[0m\u001b[0;34m-\u001b[0m\u001b[0;36m1\u001b[0m\u001b[0;34m,\u001b[0m \u001b[0mh\u001b[0m\u001b[0;34m.\u001b[0m\u001b[0msize\u001b[0m\u001b[0;34m(\u001b[0m\u001b[0;36m1\u001b[0m\u001b[0;34m)\u001b[0m \u001b[0;34m*\u001b[0m \u001b[0mh\u001b[0m\u001b[0;34m.\u001b[0m\u001b[0msize\u001b[0m\u001b[0;34m(\u001b[0m\u001b[0;36m2\u001b[0m\u001b[0;34m)\u001b[0m\u001b[0;34m)\u001b[0m\u001b[0;34m\u001b[0m\u001b[0;34m\u001b[0m\u001b[0m\n\u001b[1;32m     10\u001b[0m         \u001b[0mh\u001b[0m \u001b[0;34m=\u001b[0m \u001b[0mself\u001b[0m\u001b[0;34m.\u001b[0m\u001b[0mact\u001b[0m\u001b[0;34m(\u001b[0m\u001b[0mh\u001b[0m\u001b[0;34m)\u001b[0m\u001b[0;34m\u001b[0m\u001b[0;34m\u001b[0m\u001b[0m\n",
      "\u001b[0;32m~/anaconda3/envs/densegat2/lib/python3.6/site-packages/torch/nn/modules/module.py\u001b[0m in \u001b[0;36m_call_impl\u001b[0;34m(self, *input, **kwargs)\u001b[0m\n\u001b[1;32m   1100\u001b[0m         if not (self._backward_hooks or self._forward_hooks or self._forward_pre_hooks or _global_backward_hooks\n\u001b[1;32m   1101\u001b[0m                 or _global_forward_hooks or _global_forward_pre_hooks):\n\u001b[0;32m-> 1102\u001b[0;31m             \u001b[0;32mreturn\u001b[0m \u001b[0mforward_call\u001b[0m\u001b[0;34m(\u001b[0m\u001b[0;34m*\u001b[0m\u001b[0minput\u001b[0m\u001b[0;34m,\u001b[0m \u001b[0;34m**\u001b[0m\u001b[0mkwargs\u001b[0m\u001b[0;34m)\u001b[0m\u001b[0;34m\u001b[0m\u001b[0;34m\u001b[0m\u001b[0m\n\u001b[0m\u001b[1;32m   1103\u001b[0m         \u001b[0;31m# Do not call functions when jit is used\u001b[0m\u001b[0;34m\u001b[0m\u001b[0;34m\u001b[0m\u001b[0;34m\u001b[0m\u001b[0m\n\u001b[1;32m   1104\u001b[0m         \u001b[0mfull_backward_hooks\u001b[0m\u001b[0;34m,\u001b[0m \u001b[0mnon_full_backward_hooks\u001b[0m \u001b[0;34m=\u001b[0m \u001b[0;34m[\u001b[0m\u001b[0;34m]\u001b[0m\u001b[0;34m,\u001b[0m \u001b[0;34m[\u001b[0m\u001b[0;34m]\u001b[0m\u001b[0;34m\u001b[0m\u001b[0;34m\u001b[0m\u001b[0m\n",
      "\u001b[0;32m~/anaconda3/envs/densegat2/lib/python3.6/site-packages/dgl/nn/pytorch/conv/gatconv.py\u001b[0m in \u001b[0;36mforward\u001b[0;34m(self, graph, feat, get_attention)\u001b[0m\n\u001b[1;32m    307\u001b[0m             \u001b[0;31m# message passing\u001b[0m\u001b[0;34m\u001b[0m\u001b[0;34m\u001b[0m\u001b[0;34m\u001b[0m\u001b[0m\n\u001b[1;32m    308\u001b[0m             graph.update_all(fn.u_mul_e('ft', 'a', 'm'),\n\u001b[0;32m--> 309\u001b[0;31m                              fn.sum('m', 'ft'))\n\u001b[0m\u001b[1;32m    310\u001b[0m             \u001b[0mrst\u001b[0m \u001b[0;34m=\u001b[0m \u001b[0mgraph\u001b[0m\u001b[0;34m.\u001b[0m\u001b[0mdstdata\u001b[0m\u001b[0;34m[\u001b[0m\u001b[0;34m'ft'\u001b[0m\u001b[0;34m]\u001b[0m\u001b[0;34m\u001b[0m\u001b[0;34m\u001b[0m\u001b[0m\n\u001b[1;32m    311\u001b[0m             \u001b[0;31m# residual\u001b[0m\u001b[0;34m\u001b[0m\u001b[0;34m\u001b[0m\u001b[0;34m\u001b[0m\u001b[0m\n",
      "\u001b[0;32m~/anaconda3/envs/densegat2/lib/python3.6/site-packages/dgl/heterograph.py\u001b[0m in \u001b[0;36mupdate_all\u001b[0;34m(self, message_func, reduce_func, apply_node_func, etype)\u001b[0m\n\u001b[1;32m   4893\u001b[0m             \u001b[0m_\u001b[0m\u001b[0;34m,\u001b[0m \u001b[0mdtid\u001b[0m \u001b[0;34m=\u001b[0m \u001b[0mself\u001b[0m\u001b[0;34m.\u001b[0m\u001b[0m_graph\u001b[0m\u001b[0;34m.\u001b[0m\u001b[0mmetagraph\u001b[0m\u001b[0;34m.\u001b[0m\u001b[0mfind_edge\u001b[0m\u001b[0;34m(\u001b[0m\u001b[0metid\u001b[0m\u001b[0;34m)\u001b[0m\u001b[0;34m\u001b[0m\u001b[0;34m\u001b[0m\u001b[0m\n\u001b[1;32m   4894\u001b[0m             \u001b[0mg\u001b[0m \u001b[0;34m=\u001b[0m \u001b[0mself\u001b[0m \u001b[0;32mif\u001b[0m \u001b[0metype\u001b[0m \u001b[0;32mis\u001b[0m \u001b[0;32mNone\u001b[0m \u001b[0;32melse\u001b[0m \u001b[0mself\u001b[0m\u001b[0;34m[\u001b[0m\u001b[0metype\u001b[0m\u001b[0;34m]\u001b[0m\u001b[0;34m\u001b[0m\u001b[0;34m\u001b[0m\u001b[0m\n\u001b[0;32m-> 4895\u001b[0;31m             \u001b[0mndata\u001b[0m \u001b[0;34m=\u001b[0m \u001b[0mcore\u001b[0m\u001b[0;34m.\u001b[0m\u001b[0mmessage_passing\u001b[0m\u001b[0;34m(\u001b[0m\u001b[0mg\u001b[0m\u001b[0;34m,\u001b[0m \u001b[0mmessage_func\u001b[0m\u001b[0;34m,\u001b[0m \u001b[0mreduce_func\u001b[0m\u001b[0;34m,\u001b[0m \u001b[0mapply_node_func\u001b[0m\u001b[0;34m)\u001b[0m\u001b[0;34m\u001b[0m\u001b[0;34m\u001b[0m\u001b[0m\n\u001b[0m\u001b[1;32m   4896\u001b[0m             \u001b[0;32mif\u001b[0m \u001b[0mcore\u001b[0m\u001b[0;34m.\u001b[0m\u001b[0mis_builtin\u001b[0m\u001b[0;34m(\u001b[0m\u001b[0mreduce_func\u001b[0m\u001b[0;34m)\u001b[0m \u001b[0;32mand\u001b[0m \u001b[0mreduce_func\u001b[0m\u001b[0;34m.\u001b[0m\u001b[0mname\u001b[0m \u001b[0;32min\u001b[0m \u001b[0;34m[\u001b[0m\u001b[0;34m'min'\u001b[0m\u001b[0;34m,\u001b[0m \u001b[0;34m'max'\u001b[0m\u001b[0;34m]\u001b[0m \u001b[0;32mand\u001b[0m \u001b[0mndata\u001b[0m\u001b[0;34m:\u001b[0m\u001b[0;34m\u001b[0m\u001b[0;34m\u001b[0m\u001b[0m\n\u001b[1;32m   4897\u001b[0m                 \u001b[0;31m# Replace infinity with zero for isolated nodes\u001b[0m\u001b[0;34m\u001b[0m\u001b[0;34m\u001b[0m\u001b[0;34m\u001b[0m\u001b[0m\n",
      "\u001b[0;32m~/anaconda3/envs/densegat2/lib/python3.6/site-packages/dgl/core.py\u001b[0m in \u001b[0;36mmessage_passing\u001b[0;34m(g, mfunc, rfunc, afunc)\u001b[0m\n\u001b[1;32m    355\u001b[0m             getattr(ops, '{}_{}'.format(mfunc.name, rfunc.name), None) is not None):\n\u001b[1;32m    356\u001b[0m         \u001b[0;31m# invoke fused message passing\u001b[0m\u001b[0;34m\u001b[0m\u001b[0;34m\u001b[0m\u001b[0;34m\u001b[0m\u001b[0m\n\u001b[0;32m--> 357\u001b[0;31m         \u001b[0mndata\u001b[0m \u001b[0;34m=\u001b[0m \u001b[0minvoke_gspmm\u001b[0m\u001b[0;34m(\u001b[0m\u001b[0mg\u001b[0m\u001b[0;34m,\u001b[0m \u001b[0mmfunc\u001b[0m\u001b[0;34m,\u001b[0m \u001b[0mrfunc\u001b[0m\u001b[0;34m)\u001b[0m\u001b[0;34m\u001b[0m\u001b[0;34m\u001b[0m\u001b[0m\n\u001b[0m\u001b[1;32m    358\u001b[0m     \u001b[0;32melse\u001b[0m\u001b[0;34m:\u001b[0m\u001b[0;34m\u001b[0m\u001b[0;34m\u001b[0m\u001b[0m\n\u001b[1;32m    359\u001b[0m         \u001b[0;31m# invoke message passing in two separate steps\u001b[0m\u001b[0;34m\u001b[0m\u001b[0;34m\u001b[0m\u001b[0;34m\u001b[0m\u001b[0m\n",
      "\u001b[0;32m~/anaconda3/envs/densegat2/lib/python3.6/site-packages/dgl/core.py\u001b[0m in \u001b[0;36minvoke_gspmm\u001b[0;34m(graph, mfunc, rfunc, srcdata, dstdata, edata)\u001b[0m\n\u001b[1;32m    321\u001b[0m             \u001b[0mx\u001b[0m \u001b[0;34m=\u001b[0m \u001b[0mdata_dict_to_list\u001b[0m\u001b[0;34m(\u001b[0m\u001b[0mgraph\u001b[0m\u001b[0;34m,\u001b[0m \u001b[0mx\u001b[0m\u001b[0;34m,\u001b[0m \u001b[0mmfunc\u001b[0m\u001b[0;34m,\u001b[0m \u001b[0mlhs_target\u001b[0m\u001b[0;34m)\u001b[0m\u001b[0;34m\u001b[0m\u001b[0;34m\u001b[0m\u001b[0m\n\u001b[1;32m    322\u001b[0m             \u001b[0my\u001b[0m \u001b[0;34m=\u001b[0m \u001b[0mdata_dict_to_list\u001b[0m\u001b[0;34m(\u001b[0m\u001b[0mgraph\u001b[0m\u001b[0;34m,\u001b[0m \u001b[0my\u001b[0m\u001b[0;34m,\u001b[0m \u001b[0mmfunc\u001b[0m\u001b[0;34m,\u001b[0m \u001b[0mrhs_target\u001b[0m\u001b[0;34m)\u001b[0m\u001b[0;34m\u001b[0m\u001b[0;34m\u001b[0m\u001b[0m\n\u001b[0;32m--> 323\u001b[0;31m         \u001b[0mz\u001b[0m \u001b[0;34m=\u001b[0m \u001b[0mop\u001b[0m\u001b[0;34m(\u001b[0m\u001b[0mgraph\u001b[0m\u001b[0;34m,\u001b[0m \u001b[0mx\u001b[0m\u001b[0;34m,\u001b[0m \u001b[0my\u001b[0m\u001b[0;34m)\u001b[0m\u001b[0;34m\u001b[0m\u001b[0;34m\u001b[0m\u001b[0m\n\u001b[0m\u001b[1;32m    324\u001b[0m     \u001b[0;32melse\u001b[0m\u001b[0;34m:\u001b[0m\u001b[0;34m\u001b[0m\u001b[0;34m\u001b[0m\u001b[0m\n\u001b[1;32m    325\u001b[0m         \u001b[0mx\u001b[0m \u001b[0;34m=\u001b[0m \u001b[0malldata\u001b[0m\u001b[0;34m[\u001b[0m\u001b[0mmfunc\u001b[0m\u001b[0;34m.\u001b[0m\u001b[0mtarget\u001b[0m\u001b[0;34m]\u001b[0m\u001b[0;34m[\u001b[0m\u001b[0mmfunc\u001b[0m\u001b[0;34m.\u001b[0m\u001b[0min_field\u001b[0m\u001b[0;34m]\u001b[0m\u001b[0;34m\u001b[0m\u001b[0;34m\u001b[0m\u001b[0m\n",
      "\u001b[0;32m~/anaconda3/envs/densegat2/lib/python3.6/site-packages/dgl/ops/spmm.py\u001b[0m in \u001b[0;36mfunc\u001b[0;34m(g, x, y)\u001b[0m\n\u001b[1;32m    145\u001b[0m \u001b[0;34m\u001b[0m\u001b[0m\n\u001b[1;32m    146\u001b[0m     \u001b[0;32mdef\u001b[0m \u001b[0mfunc\u001b[0m\u001b[0;34m(\u001b[0m\u001b[0mg\u001b[0m\u001b[0;34m,\u001b[0m \u001b[0mx\u001b[0m\u001b[0;34m,\u001b[0m \u001b[0my\u001b[0m\u001b[0;34m)\u001b[0m\u001b[0;34m:\u001b[0m\u001b[0;34m\u001b[0m\u001b[0;34m\u001b[0m\u001b[0m\n\u001b[0;32m--> 147\u001b[0;31m         \u001b[0;32mreturn\u001b[0m \u001b[0mgspmm\u001b[0m\u001b[0;34m(\u001b[0m\u001b[0mg\u001b[0m\u001b[0;34m,\u001b[0m \u001b[0mbinary_op\u001b[0m\u001b[0;34m,\u001b[0m \u001b[0mreduce_op\u001b[0m\u001b[0;34m,\u001b[0m \u001b[0mx\u001b[0m\u001b[0;34m,\u001b[0m \u001b[0my\u001b[0m\u001b[0;34m)\u001b[0m\u001b[0;34m\u001b[0m\u001b[0;34m\u001b[0m\u001b[0m\n\u001b[0m\u001b[1;32m    148\u001b[0m     \u001b[0mfunc\u001b[0m\u001b[0;34m.\u001b[0m\u001b[0m__name__\u001b[0m \u001b[0;34m=\u001b[0m \u001b[0mname\u001b[0m\u001b[0;34m\u001b[0m\u001b[0;34m\u001b[0m\u001b[0m\n\u001b[1;32m    149\u001b[0m     \u001b[0mfunc\u001b[0m\u001b[0;34m.\u001b[0m\u001b[0m__doc__\u001b[0m \u001b[0;34m=\u001b[0m \u001b[0mdocstring\u001b[0m\u001b[0;34m\u001b[0m\u001b[0;34m\u001b[0m\u001b[0m\n",
      "\u001b[0;32m~/anaconda3/envs/densegat2/lib/python3.6/site-packages/dgl/ops/spmm.py\u001b[0m in \u001b[0;36mgspmm\u001b[0;34m(g, op, reduce_op, lhs_data, rhs_data)\u001b[0m\n\u001b[1;32m     75\u001b[0m         ret = gspmm_internal(g._graph, op,\n\u001b[1;32m     76\u001b[0m                              \u001b[0;34m'sum'\u001b[0m \u001b[0;32mif\u001b[0m \u001b[0mreduce_op\u001b[0m \u001b[0;34m==\u001b[0m \u001b[0;34m'mean'\u001b[0m \u001b[0;32melse\u001b[0m \u001b[0mreduce_op\u001b[0m\u001b[0;34m,\u001b[0m\u001b[0;34m\u001b[0m\u001b[0;34m\u001b[0m\u001b[0m\n\u001b[0;32m---> 77\u001b[0;31m                              lhs_data, rhs_data)\n\u001b[0m\u001b[1;32m     78\u001b[0m     \u001b[0;32melse\u001b[0m\u001b[0;34m:\u001b[0m\u001b[0;34m\u001b[0m\u001b[0;34m\u001b[0m\u001b[0m\n\u001b[1;32m     79\u001b[0m         \u001b[0;31m# lhs_data or rhs_data is None only in unary functions like ``copy-u`` or ``copy_e``\u001b[0m\u001b[0;34m\u001b[0m\u001b[0;34m\u001b[0m\u001b[0;34m\u001b[0m\u001b[0m\n",
      "\u001b[0;32m~/anaconda3/envs/densegat2/lib/python3.6/site-packages/dgl/backend/pytorch/sparse.py\u001b[0m in \u001b[0;36mgspmm\u001b[0;34m(gidx, op, reduce_op, lhs_data, rhs_data)\u001b[0m\n\u001b[1;32m    755\u001b[0m         \u001b[0mop\u001b[0m \u001b[0;34m=\u001b[0m \u001b[0;34m'mul'\u001b[0m\u001b[0;34m\u001b[0m\u001b[0;34m\u001b[0m\u001b[0m\n\u001b[1;32m    756\u001b[0m         \u001b[0mrhs_data\u001b[0m \u001b[0;34m=\u001b[0m \u001b[0;36m1.\u001b[0m \u001b[0;34m/\u001b[0m \u001b[0mrhs_data\u001b[0m\u001b[0;34m\u001b[0m\u001b[0;34m\u001b[0m\u001b[0m\n\u001b[0;32m--> 757\u001b[0;31m     \u001b[0;32mreturn\u001b[0m \u001b[0mGSpMM\u001b[0m\u001b[0;34m.\u001b[0m\u001b[0mapply\u001b[0m\u001b[0;34m(\u001b[0m\u001b[0mgidx\u001b[0m\u001b[0;34m,\u001b[0m \u001b[0mop\u001b[0m\u001b[0;34m,\u001b[0m \u001b[0mreduce_op\u001b[0m\u001b[0;34m,\u001b[0m \u001b[0mlhs_data\u001b[0m\u001b[0;34m,\u001b[0m \u001b[0mrhs_data\u001b[0m\u001b[0;34m)\u001b[0m\u001b[0;34m\u001b[0m\u001b[0;34m\u001b[0m\u001b[0m\n\u001b[0m\u001b[1;32m    758\u001b[0m \u001b[0;34m\u001b[0m\u001b[0m\n\u001b[1;32m    759\u001b[0m \u001b[0;32mdef\u001b[0m \u001b[0mgsddmm\u001b[0m\u001b[0;34m(\u001b[0m\u001b[0mgidx\u001b[0m\u001b[0;34m,\u001b[0m \u001b[0mop\u001b[0m\u001b[0;34m,\u001b[0m \u001b[0mlhs_data\u001b[0m\u001b[0;34m,\u001b[0m \u001b[0mrhs_data\u001b[0m\u001b[0;34m,\u001b[0m \u001b[0mlhs_target\u001b[0m\u001b[0;34m=\u001b[0m\u001b[0;34m'u'\u001b[0m\u001b[0;34m,\u001b[0m \u001b[0mrhs_target\u001b[0m\u001b[0;34m=\u001b[0m\u001b[0;34m'v'\u001b[0m\u001b[0;34m)\u001b[0m\u001b[0;34m:\u001b[0m\u001b[0;34m\u001b[0m\u001b[0;34m\u001b[0m\u001b[0m\n",
      "\u001b[0;32m~/anaconda3/envs/densegat2/lib/python3.6/site-packages/torch/cuda/amp/autocast_mode.py\u001b[0m in \u001b[0;36mdecorate_fwd\u001b[0;34m(*args, **kwargs)\u001b[0m\n\u001b[1;32m     92\u001b[0m                     \u001b[0;32mreturn\u001b[0m \u001b[0mfwd\u001b[0m\u001b[0;34m(\u001b[0m\u001b[0;34m*\u001b[0m\u001b[0m_cast\u001b[0m\u001b[0;34m(\u001b[0m\u001b[0margs\u001b[0m\u001b[0;34m,\u001b[0m \u001b[0mcast_inputs\u001b[0m\u001b[0;34m)\u001b[0m\u001b[0;34m,\u001b[0m \u001b[0;34m**\u001b[0m\u001b[0m_cast\u001b[0m\u001b[0;34m(\u001b[0m\u001b[0mkwargs\u001b[0m\u001b[0;34m,\u001b[0m \u001b[0mcast_inputs\u001b[0m\u001b[0;34m)\u001b[0m\u001b[0;34m)\u001b[0m\u001b[0;34m\u001b[0m\u001b[0;34m\u001b[0m\u001b[0m\n\u001b[1;32m     93\u001b[0m             \u001b[0;32melse\u001b[0m\u001b[0;34m:\u001b[0m\u001b[0;34m\u001b[0m\u001b[0;34m\u001b[0m\u001b[0m\n\u001b[0;32m---> 94\u001b[0;31m                 \u001b[0;32mreturn\u001b[0m \u001b[0mfwd\u001b[0m\u001b[0;34m(\u001b[0m\u001b[0;34m*\u001b[0m\u001b[0margs\u001b[0m\u001b[0;34m,\u001b[0m \u001b[0;34m**\u001b[0m\u001b[0mkwargs\u001b[0m\u001b[0;34m)\u001b[0m\u001b[0;34m\u001b[0m\u001b[0;34m\u001b[0m\u001b[0m\n\u001b[0m\u001b[1;32m     95\u001b[0m     \u001b[0;32mreturn\u001b[0m \u001b[0mdecorate_fwd\u001b[0m\u001b[0;34m\u001b[0m\u001b[0;34m\u001b[0m\u001b[0m\n\u001b[1;32m     96\u001b[0m \u001b[0;34m\u001b[0m\u001b[0m\n",
      "\u001b[0;32m~/anaconda3/envs/densegat2/lib/python3.6/site-packages/dgl/backend/pytorch/sparse.py\u001b[0m in \u001b[0;36mforward\u001b[0;34m(ctx, gidx, op, reduce_op, X, Y)\u001b[0m\n\u001b[1;32m    124\u001b[0m     \u001b[0;34m@\u001b[0m\u001b[0mcustom_fwd\u001b[0m\u001b[0;34m(\u001b[0m\u001b[0mcast_inputs\u001b[0m\u001b[0;34m=\u001b[0m\u001b[0mth\u001b[0m\u001b[0;34m.\u001b[0m\u001b[0mfloat16\u001b[0m\u001b[0;34m)\u001b[0m\u001b[0;34m\u001b[0m\u001b[0;34m\u001b[0m\u001b[0m\n\u001b[1;32m    125\u001b[0m     \u001b[0;32mdef\u001b[0m \u001b[0mforward\u001b[0m\u001b[0;34m(\u001b[0m\u001b[0mctx\u001b[0m\u001b[0;34m,\u001b[0m \u001b[0mgidx\u001b[0m\u001b[0;34m,\u001b[0m \u001b[0mop\u001b[0m\u001b[0;34m,\u001b[0m \u001b[0mreduce_op\u001b[0m\u001b[0;34m,\u001b[0m \u001b[0mX\u001b[0m\u001b[0;34m,\u001b[0m \u001b[0mY\u001b[0m\u001b[0;34m)\u001b[0m\u001b[0;34m:\u001b[0m\u001b[0;34m\u001b[0m\u001b[0;34m\u001b[0m\u001b[0m\n\u001b[0;32m--> 126\u001b[0;31m         \u001b[0mout\u001b[0m\u001b[0;34m,\u001b[0m \u001b[0;34m(\u001b[0m\u001b[0margX\u001b[0m\u001b[0;34m,\u001b[0m \u001b[0margY\u001b[0m\u001b[0;34m)\u001b[0m \u001b[0;34m=\u001b[0m \u001b[0m_gspmm\u001b[0m\u001b[0;34m(\u001b[0m\u001b[0mgidx\u001b[0m\u001b[0;34m,\u001b[0m \u001b[0mop\u001b[0m\u001b[0;34m,\u001b[0m \u001b[0mreduce_op\u001b[0m\u001b[0;34m,\u001b[0m \u001b[0mX\u001b[0m\u001b[0;34m,\u001b[0m \u001b[0mY\u001b[0m\u001b[0;34m)\u001b[0m\u001b[0;34m\u001b[0m\u001b[0;34m\u001b[0m\u001b[0m\n\u001b[0m\u001b[1;32m    127\u001b[0m         \u001b[0mreduce_last\u001b[0m \u001b[0;34m=\u001b[0m \u001b[0m_need_reduce_last_dim\u001b[0m\u001b[0;34m(\u001b[0m\u001b[0mX\u001b[0m\u001b[0;34m,\u001b[0m \u001b[0mY\u001b[0m\u001b[0;34m)\u001b[0m\u001b[0;34m\u001b[0m\u001b[0;34m\u001b[0m\u001b[0m\n\u001b[1;32m    128\u001b[0m         \u001b[0mX_shape\u001b[0m \u001b[0;34m=\u001b[0m \u001b[0mX\u001b[0m\u001b[0;34m.\u001b[0m\u001b[0mshape\u001b[0m \u001b[0;32mif\u001b[0m \u001b[0mX\u001b[0m \u001b[0;32mis\u001b[0m \u001b[0;32mnot\u001b[0m \u001b[0;32mNone\u001b[0m \u001b[0;32melse\u001b[0m \u001b[0;32mNone\u001b[0m\u001b[0;34m\u001b[0m\u001b[0;34m\u001b[0m\u001b[0m\n",
      "\u001b[0;32m~/anaconda3/envs/densegat2/lib/python3.6/site-packages/dgl/sparse.py\u001b[0m in \u001b[0;36m_gspmm\u001b[0;34m(gidx, op, reduce_op, u, e)\u001b[0m\n\u001b[1;32m    231\u001b[0m                             \u001b[0mto_dgl_nd_for_write\u001b[0m\u001b[0;34m(\u001b[0m\u001b[0mv\u001b[0m\u001b[0;34m)\u001b[0m\u001b[0;34m,\u001b[0m\u001b[0;34m\u001b[0m\u001b[0;34m\u001b[0m\u001b[0m\n\u001b[1;32m    232\u001b[0m                             \u001b[0marg_u_nd\u001b[0m\u001b[0;34m,\u001b[0m\u001b[0;34m\u001b[0m\u001b[0;34m\u001b[0m\u001b[0m\n\u001b[0;32m--> 233\u001b[0;31m                             arg_e_nd)\n\u001b[0m\u001b[1;32m    234\u001b[0m     \u001b[0;31m# NOTE(zihao): actually we can avoid the following step, because arg_*_nd\u001b[0m\u001b[0;34m\u001b[0m\u001b[0;34m\u001b[0m\u001b[0;34m\u001b[0m\u001b[0m\n\u001b[1;32m    235\u001b[0m     \u001b[0;31m# refers to the data that stores arg_*. After we call _CAPI_DGLKernelSpMM,\u001b[0m\u001b[0;34m\u001b[0m\u001b[0;34m\u001b[0m\u001b[0;34m\u001b[0m\u001b[0m\n",
      "\u001b[0;31mKeyboardInterrupt\u001b[0m: "
     ]
    }
   ],
   "source": [
    "for epoch in range(100):\n",
    "    logits = model(train_lg, features)\n",
    "    loss = F.cross_entropy(logits, labels)\n",
    "    print(loss)\n",
    "    all_loss.append(loss)\n",
    "    opt.zero_grad()\n",
    "    loss.backward()\n",
    "    opt.step()"
   ]
  },
  {
   "cell_type": "code",
   "execution_count": 42,
   "id": "892314e6",
   "metadata": {},
   "outputs": [
    {
     "data": {
      "text/plain": [
       "[<matplotlib.lines.Line2D at 0x2b07ca65b9b0>]"
      ]
     },
     "execution_count": 42,
     "metadata": {},
     "output_type": "execute_result"
    }
   ],
   "source": [
    "import matplotlib.pyplot as plt\n",
    "plt.plot(all_loss)"
   ]
  },
  {
   "cell_type": "code",
   "execution_count": 45,
   "id": "3f250b95",
   "metadata": {},
   "outputs": [
    {
     "data": {
      "text/plain": [
       "[<matplotlib.lines.Line2D at 0x2b07edfedb00>]"
      ]
     },
     "execution_count": 45,
     "metadata": {},
     "output_type": "execute_result"
    },
    {
     "data": {
      "image/png": "[encoded data removed]",
      "text/plain": [
       "<Figure size 432x288 with 1 Axes>"
      ]
     },
     "metadata": {
      "needs_background": "light"
     },
     "output_type": "display_data"
    }
   ],
   "source": [
    "plt.plot(all_loss)"
   ]
  },
  {
   "cell_type": "code",
   "execution_count": 53,
   "id": "c9ac4c3a",
   "metadata": {},
   "outputs": [],
   "source": [
    "np.save( 'all_loss_cicids2017', all_loss)"
   ]
  },
  {
   "cell_type": "code",
   "execution_count": 46,
   "id": "445889b0",
   "metadata": {},
   "outputs": [],
   "source": [
    "torch.save(model, 'dgldensegat50_cic2017')"
   ]
  },
  {
   "cell_type": "code",
   "execution_count": 39,
   "id": "a4aef3f7",
   "metadata": {},
   "outputs": [],
   "source": [
    "# torch.save(model, 'dgldensegat3_cic2017')"
   ]
  },
  {
   "cell_type": "code",
   "execution_count": 36,
   "id": "18173f94",
   "metadata": {},
   "outputs": [
    {
     "data": {
      "text/plain": [
       "Graph(num_nodes=316967, num_edges=314433630,\n",
       "      ndata_schemes={'y': Scheme(shape=(), dtype=torch.int64), 'x': Scheme(shape=(78,), dtype=torch.float32)}\n",
       "      edata_schemes={})"
      ]
     },
     "execution_count": 36,
     "metadata": {},
     "output_type": "execute_result"
    }
   ],
   "source": [
    "test_lg"
   ]
  },
  {
   "cell_type": "code",
   "execution_count": 27,
   "id": "becbdb43",
   "metadata": {},
   "outputs": [],
   "source": [
    "test_features = test_lg.ndata['x']"
   ]
  },
  {
   "cell_type": "code",
   "execution_count": 47,
   "id": "07db823d",
   "metadata": {},
   "outputs": [],
   "source": [
    "model.eval()\n",
    "logits = model(test_lg, test_features)\n",
    "_, indices = torch.max(logits, dim=1)"
   ]
  },
  {
   "cell_type": "code",
   "execution_count": 48,
   "id": "24a71fd2",
   "metadata": {},
   "outputs": [],
   "source": [
    "cr = confusion_matrix(test_lg.ndata['y'], indices)"
   ]
  },
  {
   "cell_type": "code",
   "execution_count": 49,
   "id": "918d5303",
   "metadata": {},
   "outputs": [],
   "source": [
    "report = classification_report(test_lg.ndata['y'], indices, digits=4)"
   ]
  },
  {
   "cell_type": "code",
   "execution_count": 50,
   "id": "6f154e9d",
   "metadata": {},
   "outputs": [
    {
     "name": "stdout",
     "output_type": "stream",
     "text": [
      "              precision    recall  f1-score   support\n",
      "\n",
      "           0     0.9768    0.9718    0.9743    150000\n",
      "           1     0.9974    0.9851    0.9912     38408\n",
      "           2     0.9762    0.9928    0.9845     47641\n",
      "           3     0.9928    0.2351    0.3802       587\n",
      "           4     0.6667    0.3636    0.4706        11\n",
      "           5     0.8845    0.8685    0.8764      2380\n",
      "           6     0.9704    0.5376    0.6919      1769\n",
      "           7     0.9076    0.8022    0.8516      1739\n",
      "           8     0.9194    0.8715    0.8948      1650\n",
      "           9     0.9599    0.9972    0.9782     69037\n",
      "          10     0.9799    0.9488    0.9641      3088\n",
      "          11     1.0000    0.3333    0.5000         3\n",
      "          12     0.5600    0.0929    0.1594       452\n",
      "          13     0.0000    0.0000    0.0000       196\n",
      "          14     0.0000    0.0000    0.0000         6\n",
      "\n",
      "    accuracy                         0.9740    316967\n",
      "   macro avg     0.7861    0.6000    0.6478    316967\n",
      "weighted avg     0.9730    0.9740    0.9723    316967\n",
      "\n"
     ]
    }
   ],
   "source": [
    "print(report)"
   ]
  },
  {
   "cell_type": "code",
   "execution_count": 40,
   "id": "8668bace",
   "metadata": {},
   "outputs": [
    {
     "name": "stdout",
     "output_type": "stream",
     "text": [
      "              precision    recall  f1-score   support\n",
      "\n",
      "           0     0.9707    0.9672    0.9690    150000\n",
      "           1     0.9904    0.9979    0.9942     38408\n",
      "           2     0.9718    0.9924    0.9820     47641\n",
      "           3     0.9908    0.3680    0.5366       587\n",
      "           4     0.7500    0.2727    0.4000        11\n",
      "           5     0.9177    0.5294    0.6715      2380\n",
      "           6     0.8645    0.5376    0.6629      1769\n",
      "           7     0.8573    0.5285    0.6539      1739\n",
      "           8     0.9079    0.8248    0.8644      1650\n",
      "           9     0.9568    0.9957    0.9759     69037\n",
      "          10     0.9564    0.9236    0.9397      3088\n",
      "          11     0.0000    0.0000    0.0000         3\n",
      "          12     0.5246    0.0708    0.1248       452\n",
      "          13     0.0000    0.0000    0.0000       196\n",
      "          14     0.0000    0.0000    0.0000         6\n",
      "\n",
      "    accuracy                         0.9686    316967\n",
      "   macro avg     0.7106    0.5339    0.5850    316967\n",
      "weighted avg     0.9669    0.9686    0.9663    316967\n",
      "\n"
     ]
    }
   ],
   "source": [
    "print(report)"
   ]
  },
  {
   "cell_type": "code",
   "execution_count": 31,
   "id": "8b5a2e7f",
   "metadata": {},
   "outputs": [
    {
     "name": "stdout",
     "output_type": "stream",
     "text": [
      "              precision    recall  f1-score   support\n",
      "\n",
      "           0     0.9497    0.9397    0.9447    150000\n",
      "           1     0.7791    0.9840    0.8696     38408\n",
      "           2     0.9387    0.9887    0.9631     47641\n",
      "           3     0.0000    0.0000    0.0000       587\n",
      "           4     0.3750    0.2727    0.3158        11\n",
      "           5     0.2651    0.0534    0.0888      2380\n",
      "           6     0.3047    0.0661    0.1087      1769\n",
      "           7     0.7485    0.5014    0.6006      1739\n",
      "           8     0.7892    0.7467    0.7674      1650\n",
      "           9     0.9548    0.8874    0.9199     69037\n",
      "          10     0.9604    0.6525    0.7771      3088\n",
      "          11     0.0000    0.0000    0.0000         3\n",
      "          12     0.0000    0.0000    0.0000       452\n",
      "          13     0.0000    0.0000    0.0000       196\n",
      "          14     0.0000    0.0000    0.0000         6\n",
      "\n",
      "    accuracy                         0.9196    316967\n",
      "   macro avg     0.4710    0.4062    0.4237    316967\n",
      "weighted avg     0.9142    0.9196    0.9137    316967\n",
      "\n"
     ]
    }
   ],
   "source": [
    "print(report)"
   ]
  },
  {
   "cell_type": "code",
   "execution_count": 37,
   "id": "97b1d3d0",
   "metadata": {},
   "outputs": [
    {
     "name": "stdout",
     "output_type": "stream",
     "text": [
      "              precision    recall  f1-score   support\n",
      "\n",
      "           0     0.9073    0.9023    0.9048     30000\n",
      "           1     0.9825    0.9987    0.9905     38408\n",
      "           2     0.9923    0.9909    0.9916     47641\n",
      "           3     0.8663    0.9489    0.9057       587\n",
      "           4     0.1538    0.1818    0.1667        11\n",
      "           5     0.9455    0.7000    0.8044      2380\n",
      "           6     0.5923    0.5116    0.5490      1769\n",
      "           7     0.9333    0.9488    0.9410      1739\n",
      "           8     0.9715    0.9715    0.9715      1650\n",
      "           9     0.9860    0.9978    0.9919     69037\n",
      "          10     0.9251    0.9676    0.9459      3088\n",
      "          11     1.0000    0.6667    0.8000         3\n",
      "          12     0.4630    0.0553    0.0988       452\n",
      "          13     0.7143    0.0255    0.0493       196\n",
      "          14     0.0000    0.0000    0.0000         6\n",
      "\n",
      "    accuracy                         0.9693    196967\n",
      "   macro avg     0.7622    0.6578    0.6741    196967\n",
      "weighted avg     0.9674    0.9693    0.9674    196967\n",
      "\n"
     ]
    }
   ],
   "source": [
    "print(report)"
   ]
  },
  {
   "cell_type": "code",
   "execution_count": 80,
   "id": "152cecfe",
   "metadata": {},
   "outputs": [
    {
     "name": "stdout",
     "output_type": "stream",
     "text": [
      "              precision    recall  f1-score   support\n",
      "\n",
      "           0     0.7797    0.9196    0.8439     30000\n",
      "           1     0.9983    0.9813    0.9898     38408\n",
      "           2     0.9924    0.8731    0.9289     47641\n",
      "           3     0.8628    0.9642    0.9107       587\n",
      "           4     0.0000    0.0000    0.0000        11\n",
      "           5     0.9630    0.9853    0.9740      2380\n",
      "           6     0.5464    0.5127    0.5290      1769\n",
      "           7     0.9176    0.8384    0.8762      1739\n",
      "           8     0.9603    0.9388    0.9494      1650\n",
      "           9     0.9859    0.9981    0.9920     69037\n",
      "          10     0.9356    0.9780    0.9563      3088\n",
      "          11     0.0000    0.0000    0.0000         3\n",
      "          12     0.4556    0.8164    0.5848       452\n",
      "          13     0.1562    0.0255    0.0439       196\n",
      "          14     0.0000    0.0000    0.0000         6\n",
      "\n",
      "    accuracy                         0.9443    196967\n",
      "   macro avg     0.6369    0.6554    0.6386    196967\n",
      "weighted avg     0.9502    0.9443    0.9452    196967\n",
      "\n"
     ]
    }
   ],
   "source": [
    "print(report)"
   ]
  },
  {
   "cell_type": "code",
   "execution_count": 29,
   "id": "36c93032",
   "metadata": {},
   "outputs": [
    {
     "name": "stdout",
     "output_type": "stream",
     "text": [
      "              precision    recall  f1-score   support\n",
      "\n",
      "           0     0.9309    0.9080    0.9193     60000\n",
      "           1     0.9650    0.9901    0.9774     38408\n",
      "           2     0.9546    0.9921    0.9730     47641\n",
      "           3     0.9075    0.3509    0.5061       587\n",
      "           4     1.0000    0.3636    0.5333        11\n",
      "           5     0.6646    0.4887    0.5632      2380\n",
      "           6     0.1328    0.0266    0.0443      1769\n",
      "           7     0.8282    0.5296    0.6461      1739\n",
      "           8     0.8866    0.8242    0.8543      1650\n",
      "           9     0.9578    0.9936    0.9754     69037\n",
      "          10     0.9328    0.8769    0.9040      3088\n",
      "          11     0.0000    0.0000    0.0000         3\n",
      "          12     0.2381    0.0111    0.0211       452\n",
      "          13     0.0000    0.0000    0.0000       196\n",
      "          14     0.0000    0.0000    0.0000         6\n",
      "\n",
      "    accuracy                         0.9463    226967\n",
      "   macro avg     0.6266    0.4904    0.5278    226967\n",
      "weighted avg     0.9375    0.9463    0.9404    226967\n",
      "\n"
     ]
    }
   ],
   "source": [
    "print(report)"
   ]
  },
  {
   "cell_type": "code",
   "execution_count": null,
   "id": "5edee269",
   "metadata": {},
   "outputs": [],
   "source": []
  },
  {
   "cell_type": "code",
   "execution_count": null,
   "id": "a7e73bb6",
   "metadata": {},
   "outputs": [],
   "source": []
  },
  {
   "cell_type": "code",
   "execution_count": 10,
   "id": "ee34e22a",
   "metadata": {},
   "outputs": [],
   "source": [
    "train_lg = load_graphs(\"./ToN-loT/tonlot_train_lg.bin\")[0][0]"
   ]
  },
  {
   "cell_type": "code",
   "execution_count": 11,
   "id": "95d903e0",
   "metadata": {},
   "outputs": [],
   "source": [
    "test_lg = load_graphs(\"./ToN-loT/tonlot_test_lg.bin\")[0][0]"
   ]
  },
  {
   "cell_type": "code",
   "execution_count": 12,
   "id": "5dbd58e3",
   "metadata": {},
   "outputs": [],
   "source": [
    "features = copy.copy(train_lg.ndata['h'])\n",
    "test_features = copy.copy(test_lg.ndata['h'])"
   ]
  },
  {
   "cell_type": "code",
   "execution_count": 13,
   "id": "08a0f92c",
   "metadata": {},
   "outputs": [],
   "source": [
    "# train_lg = load_graphs(\"./cic2017_train_data_lg.bin\")[0][0]"
   ]
  },
  {
   "cell_type": "code",
   "execution_count": 14,
   "id": "fc229753",
   "metadata": {},
   "outputs": [],
   "source": [
    "# test_lg = load_graphs(\"./cic2017_test_data_lg.bin\")[0][0]"
   ]
  },
  {
   "cell_type": "code",
   "execution_count": 15,
   "id": "772eb148",
   "metadata": {},
   "outputs": [],
   "source": [
    "# features = copy.copy(train_lg.ndata['h'])\n",
    "# test_features = copy.copy(test_lg.ndata['h'])"
   ]
  },
  {
   "cell_type": "code",
   "execution_count": 16,
   "id": "7213b19c",
   "metadata": {},
   "outputs": [
    {
     "data": {
      "text/plain": [
       "Graph(num_nodes=645460, num_edges=3215342138,\n",
       "      ndata_schemes={'h': Scheme(shape=(38,), dtype=torch.float32), 'type': Scheme(shape=(), dtype=torch.int64)}\n",
       "      edata_schemes={})"
      ]
     },
     "execution_count": 16,
     "metadata": {},
     "output_type": "execute_result"
    }
   ],
   "source": [
    "train_lg"
   ]
  },
  {
   "cell_type": "code",
   "execution_count": 17,
   "id": "7de93dd7",
   "metadata": {},
   "outputs": [
    {
     "data": {
      "text/plain": [
       "Graph(num_nodes=276626, num_edges=593853196,\n",
       "      ndata_schemes={'h': Scheme(shape=(38,), dtype=torch.float32), 'type': Scheme(shape=(), dtype=torch.int64)}\n",
       "      edata_schemes={})"
      ]
     },
     "execution_count": 17,
     "metadata": {},
     "output_type": "execute_result"
    }
   ],
   "source": [
    "test_lg"
   ]
  },
  {
   "cell_type": "code",
   "execution_count": 17,
   "id": "b3ec8a71",
   "metadata": {},
   "outputs": [],
   "source": [
    "train_lg = dgl.add_self_loop(train_lg)\n",
    "test_lg = dgl.add_self_loop(test_lg)"
   ]
  },
  {
   "cell_type": "code",
   "execution_count": 18,
   "id": "f487ea1d",
   "metadata": {},
   "outputs": [
    {
     "data": {
      "text/plain": [
       "(Graph(num_nodes=645460, num_edges=3215342138,\n",
       "       ndata_schemes={'h': Scheme(shape=(38,), dtype=torch.float32), 'type': Scheme(shape=(), dtype=torch.int64)}\n",
       "       edata_schemes={}),\n",
       " Graph(num_nodes=276626, num_edges=593853196,\n",
       "       ndata_schemes={'h': Scheme(shape=(38,), dtype=torch.float32), 'type': Scheme(shape=(), dtype=torch.int64)}\n",
       "       edata_schemes={}))"
      ]
     },
     "execution_count": 18,
     "metadata": {},
     "output_type": "execute_result"
    }
   ],
   "source": [
    "train_lg,test_lg"
   ]
  },
  {
   "cell_type": "code",
   "execution_count": null,
   "id": "49f23113",
   "metadata": {},
   "outputs": [],
   "source": []
  },
  {
   "cell_type": "code",
   "execution_count": null,
   "id": "0176fc23",
   "metadata": {},
   "outputs": [],
   "source": []
  },
  {
   "cell_type": "code",
   "execution_count": 15,
   "id": "eafa1c86",
   "metadata": {
    "code_folding": [
     0
    ]
   },
   "outputs": [],
   "source": [
    "class GraphSAGE(nn.Module):\n",
    "    def __init__(self, in_features, hidden_features, out_features):\n",
    "        super().__init__()\n",
    "        self.conv1 = dgl.nn.SAGEConv(in_features, hidden_features, aggregator_type='mean')\n",
    "        self.conv2 = dgl.nn.SAGEConv(hidden_features, out_features, aggregator_type='mean')\n",
    "\n",
    "    def forward(self, g, x):\n",
    "        with g.local_scope():\n",
    "            graph = g\n",
    "            x = F.relu(self.conv1(graph, x))\n",
    "            x = self.conv2(graph, x)\n",
    "            return x"
   ]
  },
  {
   "cell_type": "code",
   "execution_count": 16,
   "id": "6cce467a",
   "metadata": {
    "code_folding": [
     0
    ]
   },
   "outputs": [],
   "source": [
    "class GAT(nn.Module):\n",
    "    def __init__(self, in_features, hidden_features, out_features):\n",
    "        super().__init__()\n",
    "        self.conv1 = dgl.nn.GATConv(in_features, hidden_features, num_heads=1)\n",
    "        self.conv2 = dgl.nn.GATConv(hidden_features, out_features, num_heads=1)\n",
    "\n",
    "    def forward(self, graph, x):\n",
    "        x = self.conv1(graph, x)\n",
    "        x = x.view(x.size(0), x.size(1) * x.size(2))\n",
    "        x = F.relu(x)\n",
    "        x = self.conv2(graph, x)\n",
    "        x = x.view(x.size(0), x.size(1) * x.size(2))\n",
    "        return x"
   ]
  },
  {
   "cell_type": "code",
   "execution_count": 19,
   "id": "7a7e6729",
   "metadata": {
    "code_folding": [
     0
    ]
   },
   "outputs": [],
   "source": [
    "def evaluate(model, graph, features, labels):\n",
    "    model.eval()\n",
    "    with torch.no_grad():\n",
    "        logits = model(graph, features)\n",
    "        _, indices = torch.max(logits, dim=1)\n",
    "        correct = torch.sum(indices == labels)\n",
    "        return correct.item() * 1.0 / len(labels)"
   ]
  },
  {
   "cell_type": "code",
   "execution_count": 15,
   "id": "b69e1ec3",
   "metadata": {},
   "outputs": [],
   "source": [
    "index = [i for i in range(train_lg.num_nodes())]"
   ]
  },
  {
   "cell_type": "code",
   "execution_count": 63,
   "id": "d0d9af31",
   "metadata": {},
   "outputs": [],
   "source": [
    "import random\n",
    "random.shuffle(index)"
   ]
  },
  {
   "cell_type": "code",
   "execution_count": 64,
   "id": "8113d9df",
   "metadata": {},
   "outputs": [],
   "source": [
    "batch_ids = index[:500]"
   ]
  },
  {
   "cell_type": "code",
   "execution_count": 65,
   "id": "45a2d3b4",
   "metadata": {},
   "outputs": [],
   "source": [
    "batch_g = dgl.sampling.sample_neighbors(train_lg, batch_ids, -1)"
   ]
  },
  {
   "cell_type": "code",
   "execution_count": 69,
   "id": "b890c208",
   "metadata": {},
   "outputs": [
    {
     "data": {
      "text/plain": [
       "1344928"
      ]
     },
     "execution_count": 69,
     "metadata": {},
     "output_type": "execute_result"
    }
   ],
   "source": [
    "len(batch_g.edges(order='eid')[0])"
   ]
  },
  {
   "cell_type": "code",
   "execution_count": 70,
   "id": "8f4030ec",
   "metadata": {},
   "outputs": [
    {
     "data": {
      "text/plain": [
       "Graph(num_nodes=358047, num_edges=1344928,\n",
       "      ndata_schemes={'label': Scheme(shape=(), dtype=torch.int64), 'h': Scheme(shape=(20,), dtype=torch.float32)}\n",
       "      edata_schemes={'_ID': Scheme(shape=(), dtype=torch.int64)})"
      ]
     },
     "execution_count": 70,
     "metadata": {},
     "output_type": "execute_result"
    }
   ],
   "source": [
    "batch_g"
   ]
  },
  {
   "cell_type": "code",
   "execution_count": 71,
   "id": "bd805312",
   "metadata": {},
   "outputs": [
    {
     "data": {
      "text/plain": [
       "torch.Size([358047])"
      ]
     },
     "execution_count": 71,
     "metadata": {},
     "output_type": "execute_result"
    }
   ],
   "source": [
    "batch_g.ndata['label'].shape"
   ]
  },
  {
   "cell_type": "code",
   "execution_count": 74,
   "id": "6a8903af",
   "metadata": {},
   "outputs": [
    {
     "data": {
      "text/plain": [
       "torch.Size([1344928])"
      ]
     },
     "execution_count": 74,
     "metadata": {},
     "output_type": "execute_result"
    }
   ],
   "source": [
    "batch_g.edata['_ID'].shape"
   ]
  },
  {
   "cell_type": "code",
   "execution_count": null,
   "id": "787cb434",
   "metadata": {},
   "outputs": [],
   "source": []
  },
  {
   "cell_type": "code",
   "execution_count": 28,
   "id": "c9b0336b",
   "metadata": {},
   "outputs": [],
   "source": [
    "model = GAT(in_features=78, hidden_features=30, out_features=15)"
   ]
  },
  {
   "cell_type": "code",
   "execution_count": 17,
   "id": "9f3ee13c",
   "metadata": {},
   "outputs": [],
   "source": [
    "model = GraphSAGE(in_features=78, hidden_features=30, out_features=15)"
   ]
  },
  {
   "cell_type": "code",
   "execution_count": 20,
   "id": "ba3075c2",
   "metadata": {},
   "outputs": [
    {
     "data": {
      "text/plain": [
       "<All keys matched successfully>"
      ]
     },
     "execution_count": 20,
     "metadata": {},
     "output_type": "execute_result"
    }
   ],
   "source": [
    "model.load_state_dict(torch.load('cic2017_dgl_gat'))"
   ]
  },
  {
   "cell_type": "code",
   "execution_count": 20,
   "id": "1d651e8c",
   "metadata": {},
   "outputs": [],
   "source": [
    "opt = torch.optim.Adam(model.parameters(),lr=0.01)"
   ]
  },
  {
   "cell_type": "code",
   "execution_count": 21,
   "id": "9b8a6653",
   "metadata": {},
   "outputs": [],
   "source": [
    "device = 'cpu'"
   ]
  },
  {
   "cell_type": "code",
   "execution_count": 22,
   "id": "091727de",
   "metadata": {},
   "outputs": [],
   "source": [
    "model = model.to(device)"
   ]
  },
  {
   "cell_type": "code",
   "execution_count": 23,
   "id": "a0ddf994",
   "metadata": {
    "code_folding": []
   },
   "outputs": [],
   "source": [
    "def train_on_batch(model, graph, features):\n",
    "    logits = model(graph, features)\n",
    "    loss = F.cross_entropy(logits, graph.ndata['label'])\n",
    "    opt.zero_grad()\n",
    "    loss.backward()\n",
    "    opt.step()\n",
    "    return loss"
   ]
  },
  {
   "cell_type": "code",
   "execution_count": 24,
   "id": "6335dcc6",
   "metadata": {},
   "outputs": [
    {
     "data": {
      "text/plain": [
       "Graph(num_nodes=276626, num_edges=593853196,\n",
       "      ndata_schemes={'h': Scheme(shape=(38,), dtype=torch.float32), 'type': Scheme(shape=(), dtype=torch.int64)}\n",
       "      edata_schemes={})"
      ]
     },
     "execution_count": 24,
     "metadata": {},
     "output_type": "execute_result"
    }
   ],
   "source": [
    "test_lg"
   ]
  },
  {
   "cell_type": "code",
   "execution_count": 25,
   "id": "0ffd5907",
   "metadata": {},
   "outputs": [
    {
     "data": {
      "text/plain": [
       "torch.Size([645460, 38])"
      ]
     },
     "execution_count": 25,
     "metadata": {},
     "output_type": "execute_result"
    }
   ],
   "source": [
    "features.shape"
   ]
  },
  {
   "cell_type": "code",
   "execution_count": null,
   "id": "2879379d",
   "metadata": {
    "code_folding": [],
    "scrolled": false
   },
   "outputs": [],
   "source": [
    "model.train()\n",
    "for epoch in range(2000):\n",
    "    start_time = time.time()\n",
    "    model = model.to(device)\n",
    "    model.train()\n",
    "    loss = train_on_batch(model, train_lg, features)\n",
    "    end_time = time.time()\n",
    "    acc = evaluate(model, test_lg, test_lg.ndata['h'], test_lg.ndata['label'])\n",
    "    print('epoch: {:04d}'.format(epoch),\n",
    "          'loss_train: {:.4f}'.format(loss),\n",
    "          'acc_train: {:.4f}'.format(acc),\n",
    "          'time: {:.4f}s'.format(end_time - start_time))"
   ]
  },
  {
   "cell_type": "code",
   "execution_count": 53,
   "id": "b68b5040",
   "metadata": {},
   "outputs": [],
   "source": [
    "torch.save(model.state_dict(), 'cic2017_dgl_gat_best')"
   ]
  },
  {
   "cell_type": "code",
   "execution_count": 32,
   "id": "88d68115",
   "metadata": {},
   "outputs": [],
   "source": [
    "model.eval()\n",
    "logits = model(test_lg, test_features)\n",
    "_, indices = torch.max(logits, dim=1)"
   ]
  },
  {
   "cell_type": "code",
   "execution_count": 33,
   "id": "e3c4cdb6",
   "metadata": {},
   "outputs": [],
   "source": [
    "cr = confusion_matrix(test_lg.ndata['label'], indices)"
   ]
  },
  {
   "cell_type": "code",
   "execution_count": 34,
   "id": "3269e99a",
   "metadata": {},
   "outputs": [],
   "source": [
    "report = classification_report(test_lg.ndata['label'], indices, digits=4)"
   ]
  },
  {
   "cell_type": "code",
   "execution_count": 35,
   "id": "140b0cee",
   "metadata": {},
   "outputs": [
    {
     "name": "stdout",
     "output_type": "stream",
     "text": [
      "[[8832    1   44   12    0   19   59    0   10   22    1    0    0    0\n",
      "     0]\n",
      " [   0 8958    0    0    0    0    0    0    0   42    0    0    0    0\n",
      "     0]\n",
      " [ 124    2 8837    0    0    8    2    2    0    6    4    0   12    3\n",
      "     0]\n",
      " [  13    0    0 1161    0    0    0    0    0    0    0    0    0    0\n",
      "     0]\n",
      " [   0    1    0    1   16    0    0    0    2    0    2    0    0    0\n",
      "     0]\n",
      " [   8    2   24    0    0 4693    7   23    0    3    0    0    0    0\n",
      "     0]\n",
      " [  13    3    9    0    0   12 3494    0    4    3    0    0    0    0\n",
      "     0]\n",
      " [   5    0   57    0    0   74    3 3158  143    2    9    0   27    0\n",
      "     0]\n",
      " [  22   17    3    0    0    0    9  215 2964   18   11    0   41    0\n",
      "     0]\n",
      " [   3  113    5    0    0    1    4    5    6 8742  113    0    5    3\n",
      "     0]\n",
      " [   1    2   12    0    0    2    2   34    9  144 5962    0    8    0\n",
      "     0]\n",
      " [   0    0    0    0    0    0    0    0    0    0    0    6    0    0\n",
      "     0]\n",
      " [   2    0    4    0    0    4   24   53    3    0   22    0  762   30\n",
      "     0]\n",
      " [   0    2    0    0    0    1    0    1    1    6    3    0  336   42\n",
      "     0]\n",
      " [   0    0    0    0    0    0    0    0    0    0   12    0    0    0\n",
      "     0]]\n"
     ]
    }
   ],
   "source": [
    "print(cr)"
   ]
  },
  {
   "cell_type": "code",
   "execution_count": 36,
   "id": "be3276a3",
   "metadata": {},
   "outputs": [
    {
     "name": "stdout",
     "output_type": "stream",
     "text": [
      "              precision    recall  f1-score   support\n",
      "\n",
      "           0     0.9788    0.9813    0.9801      9000\n",
      "           1     0.9843    0.9953    0.9898      9000\n",
      "           2     0.9824    0.9819    0.9822      9000\n",
      "           3     0.9889    0.9889    0.9889      1174\n",
      "           4     1.0000    0.7273    0.8421        22\n",
      "           5     0.9749    0.9859    0.9804      4760\n",
      "           6     0.9695    0.9876    0.9784      3538\n",
      "           7     0.9046    0.9080    0.9063      3478\n",
      "           8     0.9433    0.8982    0.9202      3300\n",
      "           9     0.9726    0.9713    0.9720      9000\n",
      "          10     0.9712    0.9653    0.9683      6176\n",
      "          11     1.0000    1.0000    1.0000         6\n",
      "          12     0.6398    0.8429    0.7274       904\n",
      "          13     0.5385    0.1071    0.1787       392\n",
      "          14     0.0000    0.0000    0.0000        12\n",
      "\n",
      "    accuracy                         0.9643     59762\n",
      "   macro avg     0.8566    0.8227    0.8277     59762\n",
      "weighted avg     0.9633    0.9643    0.9626     59762\n",
      "\n"
     ]
    }
   ],
   "source": [
    "print(report)"
   ]
  },
  {
   "cell_type": "code",
   "execution_count": 64,
   "id": "b64f0b58",
   "metadata": {},
   "outputs": [
    {
     "name": "stdout",
     "output_type": "stream",
     "text": [
      "              precision    recall  f1-score   support\n",
      "\n",
      "           0     0.9891    0.9947    0.9919      9000\n",
      "           1     0.9991    0.9993    0.9992      9000\n",
      "           2     0.9973    0.9957    0.9965      9000\n",
      "           3     0.9882    0.9949    0.9915      1174\n",
      "           4     1.0000    1.0000    1.0000        22\n",
      "           5     0.9987    0.9958    0.9973      4760\n",
      "           6     0.9955    0.9904    0.9929      3538\n",
      "           7     0.9896    0.9848    0.9872      3478\n",
      "           8     0.9869    0.9824    0.9847      3300\n",
      "           9     0.9974    0.9976    0.9975      9000\n",
      "          10     0.9936    0.9979    0.9957      6176\n",
      "          11     1.0000    1.0000    1.0000         6\n",
      "          12     0.7126    0.9325    0.8079       904\n",
      "          13     0.5714    0.1633    0.2540       392\n",
      "          14     0.6667    0.1667    0.2667        12\n",
      "\n",
      "    accuracy                         0.9883     59762\n",
      "   macro avg     0.9257    0.8797    0.8842     59762\n",
      "weighted avg     0.9876    0.9883    0.9870     59762\n",
      "\n"
     ]
    }
   ],
   "source": [
    "print(report)"
   ]
  },
  {
   "cell_type": "code",
   "execution_count": 50,
   "id": "3bdeb1c5",
   "metadata": {},
   "outputs": [
    {
     "name": "stdout",
     "output_type": "stream",
     "text": [
      "              precision    recall  f1-score   support\n",
      "\n",
      "           0     0.9891    0.9947    0.9919      9000\n",
      "           1     0.9991    0.9993    0.9992      9000\n",
      "           2     0.9973    0.9957    0.9965      9000\n",
      "           3     0.9882    0.9949    0.9915      1174\n",
      "           4     1.0000    1.0000    1.0000        22\n",
      "           5     0.9987    0.9958    0.9973      4760\n",
      "           6     0.9955    0.9904    0.9929      3538\n",
      "           7     0.9896    0.9848    0.9872      3478\n",
      "           8     0.9869    0.9824    0.9847      3300\n",
      "           9     0.9974    0.9974    0.9974      9000\n",
      "          10     0.9934    0.9979    0.9956      6176\n",
      "          11     1.0000    1.0000    1.0000         6\n",
      "          12     0.7126    0.9325    0.8079       904\n",
      "          13     0.5714    0.1633    0.2540       392\n",
      "          14     0.6667    0.1667    0.2667        12\n",
      "\n",
      "    accuracy                         0.9883     59762\n",
      "   macro avg     0.9257    0.8797    0.8842     59762\n",
      "weighted avg     0.9876    0.9883    0.9869     59762\n",
      "\n"
     ]
    }
   ],
   "source": [
    "print(report)"
   ]
  },
  {
   "cell_type": "code",
   "execution_count": 30,
   "id": "ad3b4e8a",
   "metadata": {},
   "outputs": [
    {
     "name": "stdout",
     "output_type": "stream",
     "text": [
      "              precision    recall  f1-score   support\n",
      "\n",
      "           0     0.9655    0.9866    0.9759      9000\n",
      "           1     0.9913    0.9987    0.9950      9000\n",
      "           2     0.9925    0.9724    0.9824      9000\n",
      "           3     0.9838    0.9855    0.9847      1174\n",
      "           4     1.0000    1.0000    1.0000        22\n",
      "           5     0.9947    0.9933    0.9940      4760\n",
      "           6     0.9875    0.9862    0.9868      3538\n",
      "           7     0.9755    0.9718    0.9736      3478\n",
      "           8     0.9771    0.9676    0.9723      3300\n",
      "           9     0.9894    0.9869    0.9882      9000\n",
      "          10     0.9871    0.9874    0.9872      6176\n",
      "          11     1.0000    1.0000    1.0000         6\n",
      "          12     0.6694    0.6427    0.6558       904\n",
      "          13     0.3379    0.3750    0.3555       392\n",
      "          14     0.0000    0.0000    0.0000        12\n",
      "\n",
      "    accuracy                         0.9756     59762\n",
      "   macro avg     0.8568    0.8569    0.8568     59762\n",
      "weighted avg     0.9757    0.9756    0.9756     59762\n",
      "\n"
     ]
    }
   ],
   "source": [
    "print(report)"
   ]
  },
  {
   "cell_type": "code",
   "execution_count": null,
   "id": "d56484c9",
   "metadata": {},
   "outputs": [],
   "source": [
    "print(report)"
   ]
  },
  {
   "cell_type": "code",
   "execution_count": null,
   "id": "97e2409e",
   "metadata": {},
   "outputs": [],
   "source": []
  }
 ],
 "metadata": {
  "kernelspec": {
   "display_name": "Python 3",
   "language": "python",
   "name": "python3"
  },
  "language_info": {
   "codemirror_mode": {
    "name": "ipython",
    "version": 3
   },
   "file_extension": ".py",
   "mimetype": "text/x-python",
   "name": "python",
   "nbconvert_exporter": "python",
   "pygments_lexer": "ipython3",
   "version": "3.6.13"
  }
 },
 "nbformat": 4,
 "nbformat_minor": 5
}
