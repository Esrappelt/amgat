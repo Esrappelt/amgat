{
 "cells": [
  {
   "cell_type": "code",
   "execution_count": 44,
   "id": "79e31772",
   "metadata": {},
   "outputs": [],
   "source": [
    "import networkx\n",
    "import torch\n",
    "import numpy as np\n",
    "import pandas as pd\n",
    "from sklearn.metrics import *\n",
    "from torch_geometric.loader import NeighborSampler, NeighborLoader\n",
    "from torch_geometric.data import Data, DataLoader\n",
    "from torch_geometric.nn import GATConv, ResGatedGraphConv, GATv2Conv, SAGEConv, GENConv, DeepGCNLayer, PairNorm, GINConv\n",
    "from sklearn.preprocessing import MinMaxScaler\n",
    "from sklearn.model_selection import train_test_split\n",
    "from sklearn.impute import SimpleImputer\n",
    "import torch.nn.functional as F\n",
    "from imblearn.under_sampling import RandomUnderSampler\n",
    "pd.options.mode.use_inf_as_na = True\n",
    "from collections import Counter\n",
    "from sklearn.feature_selection import SelectFromModel\n",
    "import torch.nn as nn\n",
    "import time\n",
    "import pickle\n",
    "from torch.nn import LayerNorm, Linear, ReLU\n",
    "from torch_scatter import scatter\n",
    "from tqdm import tqdm\n",
    "from torch_geometric.loader import RandomNodeSampler\n",
    "import math\n",
    "import copy\n",
    "from sklearn.metrics import f1_score\n",
    "from torch.optim import lr_scheduler"
   ]
  },
  {
   "cell_type": "code",
   "execution_count": 45,
   "id": "a33f2928",
   "metadata": {},
   "outputs": [],
   "source": [
    "import warnings\n",
    "# action参数可以设置为ignore，一位一次也不喜爱你是，once表示为只显示一次\n",
    "warnings.filterwarnings(action='ignore')"
   ]
  },
  {
   "cell_type": "code",
   "execution_count": 46,
   "id": "d8d10df8",
   "metadata": {},
   "outputs": [
    {
     "data": {
      "text/plain": [
       "<torch._C.Generator at 0x2adc8b272108>"
      ]
     },
     "execution_count": 46,
     "metadata": {},
     "output_type": "execute_result"
    }
   ],
   "source": [
    "np.random.seed(2022)\n",
    "torch.manual_seed(2022)"
   ]
  },
  {
   "cell_type": "code",
   "execution_count": 47,
   "id": "5f6f1390",
   "metadata": {},
   "outputs": [],
   "source": [
    "class Transition_layer(torch.nn.Module):\n",
    "    def __init__(self, act, norm, lin):\n",
    "        super().__init__()\n",
    "        self.act = act\n",
    "        self.norm = norm\n",
    "        self.lin = lin\n",
    "    def forward(self, x):\n",
    "        x = self.norm(x)\n",
    "        x = self.act(x)\n",
    "        x = self.lin(x)\n",
    "        return x\n",
    "        \n",
    "class DenseGAT(torch.nn.Module):\n",
    "    def __init__(self, in_channels, num_class, num_layers=6, num_blocks=3, growth_rate=10, theta=0.5):\n",
    "        super().__init__()\n",
    "        self.num_layers = num_layers\n",
    "        self.blocks = num_blocks\n",
    "        self.theta = theta\n",
    "        self.growth_rate = growth_rate\n",
    "        self.base_rate = growth_rate\n",
    "        self.in_channels = in_channels\n",
    "        self.out_channels = num_class\n",
    "        self.linear_layers = torch.nn.ModuleList()\n",
    "        self.transition_layers = torch.nn.ModuleList()\n",
    "        self.block_layers = torch.nn.ModuleList()\n",
    "        self.node_encoder = Linear(in_channels, in_channels)\n",
    "        self.linear_layers.append(self.node_encoder)\n",
    "        \n",
    "        for i in range(self.blocks):\n",
    "            # block\n",
    "            layers = torch.nn.ModuleList()\n",
    "            # 2^(i - 1) * k0\n",
    "            self.growth_rate = int(math.pow(2, i) * self.base_rate)\n",
    "            print(self.growth_rate)\n",
    "            for j in range(1, self.num_layers + 1):\n",
    "                conv = GATv2Conv(in_channels + (j - 1) * self.growth_rate, self.growth_rate, aggr='max') \n",
    "                norm = LayerNorm(self.growth_rate)\n",
    "                act = ReLU()\n",
    "                layer = DeepGCNLayer(conv, norm, act, block='dense')\n",
    "                layers.append(layer)\n",
    "            self.block_layers.append(layers)\n",
    "            \n",
    "            # transition\n",
    "            hidden_channels = in_channels +  self.num_layers * self.growth_rate\n",
    "            out_channels = int(hidden_channels * self.theta)\n",
    "            transition_norm = LayerNorm(hidden_channels, elementwise_affine=True)\n",
    "            transition_act = ReLU()\n",
    "            transition_lin = Linear(hidden_channels, out_channels)\n",
    "            transitionLayer = Transition_layer(transition_act, transition_norm, transition_lin)\n",
    "            self.transition_layers.append(transitionLayer)\n",
    "            in_channels = copy.copy(out_channels)\n",
    "        \n",
    "        self.lin_last = Linear(in_channels, self.out_channels)\n",
    "        self.linear_layers.append(self.lin_last)\n",
    "        \n",
    "    def forward(self, x, edge_index):\n",
    "#         x = self.linear_layers[0](x)\n",
    "        for i in range(self.blocks):\n",
    "            # block layer\n",
    "            for layer in self.block_layers[i]:\n",
    "                x = layer(x, edge_index)\n",
    "            # transition layer\n",
    "            x = self.transition_layers[i](x)\n",
    "        x = self.linear_layers[-1](x)\n",
    "        return x"
   ]
  },
  {
   "cell_type": "code",
   "execution_count": 48,
   "id": "42ed76b0",
   "metadata": {},
   "outputs": [],
   "source": [
    "def train():\n",
    "    total_loss = total_correct = total_examples = 0\n",
    "    start_time = time.time()\n",
    "    for batch in train_loader:\n",
    "        batch = batch.to(device)\n",
    "        y = batch.y[:batch.batch_size]\n",
    "        optimizer.zero_grad()\n",
    "        y_hat = model(batch.x.to(device), batch.edge_index.to(device))[:batch.batch_size]\n",
    "        loss = F.cross_entropy(y_hat, y)\n",
    "        loss.backward()\n",
    "        optimizer.step()\n",
    "#         scheduler1.step()\n",
    "        total_loss += float(loss) * batch.batch_size\n",
    "        total_correct += int((y_hat.argmax(dim=-1) == y).sum())\n",
    "        total_examples += batch.batch_size\n",
    "    end_time = time.time()  \n",
    "    \n",
    "    return total_loss / total_examples, total_correct / total_examples\n",
    "\n",
    "def inferrence(model, subgraph_loader):\n",
    "    total_loss = total_correct = total_examples = 0\n",
    "    xs = []\n",
    "    y = []\n",
    "    pbar = tqdm(total=len(subgraph_loader))\n",
    "    for batch in subgraph_loader:\n",
    "        y_hat = model(batch.x, batch.edge_index.to(device))[:batch.batch_size]\n",
    "        xs.append(y_hat.cpu())\n",
    "        y_true = batch.y[:batch.batch_size]\n",
    "        y.append(y_true.cpu())\n",
    "        pbar.update(1)\n",
    "    pbar.close()\n",
    "    y_hat = torch.cat(xs, 0)\n",
    "    y_hat = y_hat.detach().numpy()\n",
    "    y_hat = np.argmax(y_hat, -1)\n",
    "    y = torch.cat(y, 0)\n",
    "    print(y_hat)\n",
    "    print(y)\n",
    "    cr1 = classification_report(y, y_hat,digits=4)\n",
    "    cf = confusion_matrix(y, y_hat)\n",
    "    print(cr1)\n",
    "    print(cf)\n"
   ]
  },
  {
   "cell_type": "code",
   "execution_count": 49,
   "id": "cff1ceed",
   "metadata": {},
   "outputs": [],
   "source": [
    "train_data = torch.load('cic2017_directed_line_graph_train_data_15label')"
   ]
  },
  {
   "cell_type": "code",
   "execution_count": 50,
   "id": "9b0c35ae",
   "metadata": {},
   "outputs": [],
   "source": [
    "test_data = torch.load('cic2017_directed_line_graph_test_data_15label')"
   ]
  },
  {
   "cell_type": "code",
   "execution_count": 8,
   "id": "1038ec9e",
   "metadata": {},
   "outputs": [],
   "source": [
    "all_data = torch.load(r'/home/xiaoyujie/densegat/cic2017_directed_lg_data_15label')"
   ]
  },
  {
   "cell_type": "code",
   "execution_count": 51,
   "id": "8c79afac",
   "metadata": {},
   "outputs": [
    {
     "data": {
      "text/plain": [
       "(Data(x=[161162, 78], edge_index=[2, 78210208], y=[161162], num_nodes=161162),\n",
       " Data(x=[28441, 78], edge_index=[2, 2293931], y=[28441], num_nodes=28441),\n",
       " Data(x=[189603, 78], edge_index=[2, 108609698], y=[189603], num_nodes=189603, train_mask=[161162], test_mask=[28441]))"
      ]
     },
     "execution_count": 51,
     "metadata": {},
     "output_type": "execute_result"
    }
   ],
   "source": [
    "train_data,test_data, all_data"
   ]
  },
  {
   "cell_type": "code",
   "execution_count": 10,
   "id": "fc3314cf",
   "metadata": {},
   "outputs": [],
   "source": [
    "# 二分类试试"
   ]
  },
  {
   "cell_type": "code",
   "execution_count": 11,
   "id": "7d4a654b",
   "metadata": {},
   "outputs": [],
   "source": [
    "# train_label = train_data.y.numpy()\n",
    "# test_label = test_data.y.numpy()\n",
    "# train_label[train_label != 0] = 1\n",
    "# test_label[test_label != 0] = 1\n",
    "# train_data.y = torch.LongTensor(train_label)\n",
    "# test_data.y = torch.LongTensor(test_label)"
   ]
  },
  {
   "cell_type": "code",
   "execution_count": 52,
   "id": "d18106aa",
   "metadata": {},
   "outputs": [],
   "source": [
    "train_num_nodes = torch.arange(len(train_data.y))\n",
    "test_num_nodes = torch.arange(len(test_data.y))"
   ]
  },
  {
   "cell_type": "code",
   "execution_count": 53,
   "id": "7f124994",
   "metadata": {},
   "outputs": [],
   "source": [
    "train_data = train_data.to('cpu')\n",
    "test_data = test_data.to('cpu')"
   ]
  },
  {
   "cell_type": "code",
   "execution_count": 54,
   "id": "5b31d4f9",
   "metadata": {},
   "outputs": [],
   "source": [
    "node_num_per_k = 50\n",
    "depth = 5"
   ]
  },
  {
   "cell_type": "code",
   "execution_count": 55,
   "id": "dff9dab0",
   "metadata": {},
   "outputs": [],
   "source": [
    "hop = [node_num_per_k] * depth\n",
    "train_loader = NeighborLoader(train_data, input_nodes = train_num_nodes, num_neighbors=hop, batch_size=1024, shuffle=True)"
   ]
  },
  {
   "cell_type": "code",
   "execution_count": 56,
   "id": "03e328ae",
   "metadata": {},
   "outputs": [
    {
     "data": {
      "text/plain": [
       "Data(x=[16180, 78], edge_index=[2, 46587], y=[16180], num_nodes=16180, batch_size=1024)"
      ]
     },
     "execution_count": 56,
     "metadata": {},
     "output_type": "execute_result"
    }
   ],
   "source": [
    "next(iter(train_loader))"
   ]
  },
  {
   "cell_type": "code",
   "execution_count": 57,
   "id": "be2f9b23",
   "metadata": {},
   "outputs": [],
   "source": [
    "subgraph_loader = NeighborLoader(test_data, input_nodes=test_num_nodes,num_neighbors=hop, batch_size=1024, shuffle=False)"
   ]
  },
  {
   "cell_type": "code",
   "execution_count": 58,
   "id": "09810cfa",
   "metadata": {},
   "outputs": [
    {
     "name": "stdout",
     "output_type": "stream",
     "text": [
      "10\n"
     ]
    }
   ],
   "source": [
    "in_channels = train_data.x.size(-1)\n",
    "num_class = 15\n",
    "model = DenseGAT(in_channels=in_channels, num_class=num_class, \n",
    "                 num_layers=10, num_blocks=1, growth_rate=10, theta=0.8)\n",
    "loss_all = []"
   ]
  },
  {
   "cell_type": "code",
   "execution_count": 59,
   "id": "e6d33d1c",
   "metadata": {},
   "outputs": [],
   "source": [
    "optimizer = torch.optim.Adam(model.parameters(), lr=0.01)"
   ]
  },
  {
   "cell_type": "code",
   "execution_count": 60,
   "id": "1f820078",
   "metadata": {},
   "outputs": [],
   "source": [
    "device = 'cuda:3'\n",
    "model = model.to(device)"
   ]
  },
  {
   "cell_type": "code",
   "execution_count": 61,
   "id": "1e5a4297",
   "metadata": {},
   "outputs": [
    {
     "name": "stdout",
     "output_type": "stream",
     "text": [
      "epoch: 0001 loss_train: 0.2071 acc_train: 0.9322 time: 9.9575s\n",
      "epoch: 0002 loss_train: 0.1048 acc_train: 0.9641 time: 11.1570s\n",
      "epoch: 0003 loss_train: 0.0997 acc_train: 0.9660 time: 9.8670s\n",
      "epoch: 0004 loss_train: 0.0909 acc_train: 0.9685 time: 9.8009s\n",
      "epoch: 0005 loss_train: 0.0760 acc_train: 0.9725 time: 9.6376s\n",
      "epoch: 0006 loss_train: 0.0948 acc_train: 0.9677 time: 9.5538s\n",
      "epoch: 0007 loss_train: 0.0793 acc_train: 0.9714 time: 9.6720s\n",
      "epoch: 0008 loss_train: 0.0681 acc_train: 0.9746 time: 9.1248s\n",
      "epoch: 0009 loss_train: 0.0711 acc_train: 0.9740 time: 9.1989s\n",
      "epoch: 0010 loss_train: 0.0692 acc_train: 0.9746 time: 9.1313s\n",
      "epoch: 0011 loss_train: 0.0644 acc_train: 0.9762 time: 10.0006s\n"
     ]
    },
    {
     "ename": "KeyboardInterrupt",
     "evalue": "",
     "output_type": "error",
     "traceback": [
      "\u001b[0;31m---------------------------------------------------------------------------\u001b[0m",
      "\u001b[0;31mKeyboardInterrupt\u001b[0m                         Traceback (most recent call last)",
      "\u001b[0;32m<ipython-input-61-b5fdb105879d>\u001b[0m in \u001b[0;36m<module>\u001b[0;34m\u001b[0m\n\u001b[1;32m      4\u001b[0m \u001b[0;31m#     train_loader = NeighborLoader(train_data, input_nodes = train_num_nodes, num_neighbors=hop, batch_size=1024, shuffle=True)\u001b[0m\u001b[0;34m\u001b[0m\u001b[0;34m\u001b[0m\u001b[0;34m\u001b[0m\u001b[0m\n\u001b[1;32m      5\u001b[0m     \u001b[0mstart_time\u001b[0m \u001b[0;34m=\u001b[0m \u001b[0mtime\u001b[0m\u001b[0;34m.\u001b[0m\u001b[0mtime\u001b[0m\u001b[0;34m(\u001b[0m\u001b[0;34m)\u001b[0m\u001b[0;34m\u001b[0m\u001b[0;34m\u001b[0m\u001b[0m\n\u001b[0;32m----> 6\u001b[0;31m     \u001b[0mloss\u001b[0m\u001b[0;34m,\u001b[0m \u001b[0macc\u001b[0m \u001b[0;34m=\u001b[0m \u001b[0mtrain\u001b[0m\u001b[0;34m(\u001b[0m\u001b[0;34m)\u001b[0m\u001b[0;34m\u001b[0m\u001b[0;34m\u001b[0m\u001b[0m\n\u001b[0m\u001b[1;32m      7\u001b[0m     \u001b[0mend_time\u001b[0m \u001b[0;34m=\u001b[0m \u001b[0mtime\u001b[0m\u001b[0;34m.\u001b[0m\u001b[0mtime\u001b[0m\u001b[0;34m(\u001b[0m\u001b[0;34m)\u001b[0m\u001b[0;34m\u001b[0m\u001b[0;34m\u001b[0m\u001b[0m\n\u001b[1;32m      8\u001b[0m     \u001b[0;32mif\u001b[0m \u001b[0mi\u001b[0m \u001b[0;34m%\u001b[0m \u001b[0;36m50\u001b[0m\u001b[0;34m:\u001b[0m\u001b[0;34m\u001b[0m\u001b[0;34m\u001b[0m\u001b[0m\n",
      "\u001b[0;32m<ipython-input-48-c69ef2ee1fb8>\u001b[0m in \u001b[0;36mtrain\u001b[0;34m()\u001b[0m\n\u001b[1;32m      6\u001b[0m         \u001b[0my\u001b[0m \u001b[0;34m=\u001b[0m \u001b[0mbatch\u001b[0m\u001b[0;34m.\u001b[0m\u001b[0my\u001b[0m\u001b[0;34m[\u001b[0m\u001b[0;34m:\u001b[0m\u001b[0mbatch\u001b[0m\u001b[0;34m.\u001b[0m\u001b[0mbatch_size\u001b[0m\u001b[0;34m]\u001b[0m\u001b[0;34m\u001b[0m\u001b[0;34m\u001b[0m\u001b[0m\n\u001b[1;32m      7\u001b[0m         \u001b[0moptimizer\u001b[0m\u001b[0;34m.\u001b[0m\u001b[0mzero_grad\u001b[0m\u001b[0;34m(\u001b[0m\u001b[0;34m)\u001b[0m\u001b[0;34m\u001b[0m\u001b[0;34m\u001b[0m\u001b[0m\n\u001b[0;32m----> 8\u001b[0;31m         \u001b[0my_hat\u001b[0m \u001b[0;34m=\u001b[0m \u001b[0mmodel\u001b[0m\u001b[0;34m(\u001b[0m\u001b[0mbatch\u001b[0m\u001b[0;34m.\u001b[0m\u001b[0mx\u001b[0m\u001b[0;34m.\u001b[0m\u001b[0mto\u001b[0m\u001b[0;34m(\u001b[0m\u001b[0mdevice\u001b[0m\u001b[0;34m)\u001b[0m\u001b[0;34m,\u001b[0m \u001b[0mbatch\u001b[0m\u001b[0;34m.\u001b[0m\u001b[0medge_index\u001b[0m\u001b[0;34m.\u001b[0m\u001b[0mto\u001b[0m\u001b[0;34m(\u001b[0m\u001b[0mdevice\u001b[0m\u001b[0;34m)\u001b[0m\u001b[0;34m)\u001b[0m\u001b[0;34m[\u001b[0m\u001b[0;34m:\u001b[0m\u001b[0mbatch\u001b[0m\u001b[0;34m.\u001b[0m\u001b[0mbatch_size\u001b[0m\u001b[0;34m]\u001b[0m\u001b[0;34m\u001b[0m\u001b[0;34m\u001b[0m\u001b[0m\n\u001b[0m\u001b[1;32m      9\u001b[0m         \u001b[0mloss\u001b[0m \u001b[0;34m=\u001b[0m \u001b[0mF\u001b[0m\u001b[0;34m.\u001b[0m\u001b[0mcross_entropy\u001b[0m\u001b[0;34m(\u001b[0m\u001b[0my_hat\u001b[0m\u001b[0;34m,\u001b[0m \u001b[0my\u001b[0m\u001b[0;34m)\u001b[0m\u001b[0;34m\u001b[0m\u001b[0;34m\u001b[0m\u001b[0m\n\u001b[1;32m     10\u001b[0m         \u001b[0mloss\u001b[0m\u001b[0;34m.\u001b[0m\u001b[0mbackward\u001b[0m\u001b[0;34m(\u001b[0m\u001b[0;34m)\u001b[0m\u001b[0;34m\u001b[0m\u001b[0;34m\u001b[0m\u001b[0m\n",
      "\u001b[0;32m~/anaconda3/envs/densegat2/lib/python3.6/site-packages/torch/nn/modules/module.py\u001b[0m in \u001b[0;36m_call_impl\u001b[0;34m(self, *input, **kwargs)\u001b[0m\n\u001b[1;32m   1100\u001b[0m         if not (self._backward_hooks or self._forward_hooks or self._forward_pre_hooks or _global_backward_hooks\n\u001b[1;32m   1101\u001b[0m                 or _global_forward_hooks or _global_forward_pre_hooks):\n\u001b[0;32m-> 1102\u001b[0;31m             \u001b[0;32mreturn\u001b[0m \u001b[0mforward_call\u001b[0m\u001b[0;34m(\u001b[0m\u001b[0;34m*\u001b[0m\u001b[0minput\u001b[0m\u001b[0;34m,\u001b[0m \u001b[0;34m**\u001b[0m\u001b[0mkwargs\u001b[0m\u001b[0;34m)\u001b[0m\u001b[0;34m\u001b[0m\u001b[0;34m\u001b[0m\u001b[0m\n\u001b[0m\u001b[1;32m   1103\u001b[0m         \u001b[0;31m# Do not call functions when jit is used\u001b[0m\u001b[0;34m\u001b[0m\u001b[0;34m\u001b[0m\u001b[0;34m\u001b[0m\u001b[0m\n\u001b[1;32m   1104\u001b[0m         \u001b[0mfull_backward_hooks\u001b[0m\u001b[0;34m,\u001b[0m \u001b[0mnon_full_backward_hooks\u001b[0m \u001b[0;34m=\u001b[0m \u001b[0;34m[\u001b[0m\u001b[0;34m]\u001b[0m\u001b[0;34m,\u001b[0m \u001b[0;34m[\u001b[0m\u001b[0;34m]\u001b[0m\u001b[0;34m\u001b[0m\u001b[0;34m\u001b[0m\u001b[0m\n",
      "\u001b[0;32m<ipython-input-47-2d6288f111ae>\u001b[0m in \u001b[0;36mforward\u001b[0;34m(self, x, edge_index)\u001b[0m\n\u001b[1;32m     59\u001b[0m             \u001b[0;31m# block layer\u001b[0m\u001b[0;34m\u001b[0m\u001b[0;34m\u001b[0m\u001b[0;34m\u001b[0m\u001b[0m\n\u001b[1;32m     60\u001b[0m             \u001b[0;32mfor\u001b[0m \u001b[0mlayer\u001b[0m \u001b[0;32min\u001b[0m \u001b[0mself\u001b[0m\u001b[0;34m.\u001b[0m\u001b[0mblock_layers\u001b[0m\u001b[0;34m[\u001b[0m\u001b[0mi\u001b[0m\u001b[0;34m]\u001b[0m\u001b[0;34m:\u001b[0m\u001b[0;34m\u001b[0m\u001b[0;34m\u001b[0m\u001b[0m\n\u001b[0;32m---> 61\u001b[0;31m                 \u001b[0mx\u001b[0m \u001b[0;34m=\u001b[0m \u001b[0mlayer\u001b[0m\u001b[0;34m(\u001b[0m\u001b[0mx\u001b[0m\u001b[0;34m,\u001b[0m \u001b[0medge_index\u001b[0m\u001b[0;34m)\u001b[0m\u001b[0;34m\u001b[0m\u001b[0;34m\u001b[0m\u001b[0m\n\u001b[0m\u001b[1;32m     62\u001b[0m             \u001b[0;31m# transition layer\u001b[0m\u001b[0;34m\u001b[0m\u001b[0;34m\u001b[0m\u001b[0;34m\u001b[0m\u001b[0m\n\u001b[1;32m     63\u001b[0m             \u001b[0mx\u001b[0m \u001b[0;34m=\u001b[0m \u001b[0mself\u001b[0m\u001b[0;34m.\u001b[0m\u001b[0mtransition_layers\u001b[0m\u001b[0;34m[\u001b[0m\u001b[0mi\u001b[0m\u001b[0;34m]\u001b[0m\u001b[0;34m(\u001b[0m\u001b[0mx\u001b[0m\u001b[0;34m)\u001b[0m\u001b[0;34m\u001b[0m\u001b[0;34m\u001b[0m\u001b[0m\n",
      "\u001b[0;32m~/anaconda3/envs/densegat2/lib/python3.6/site-packages/torch/nn/modules/module.py\u001b[0m in \u001b[0;36m_call_impl\u001b[0;34m(self, *input, **kwargs)\u001b[0m\n\u001b[1;32m   1100\u001b[0m         if not (self._backward_hooks or self._forward_hooks or self._forward_pre_hooks or _global_backward_hooks\n\u001b[1;32m   1101\u001b[0m                 or _global_forward_hooks or _global_forward_pre_hooks):\n\u001b[0;32m-> 1102\u001b[0;31m             \u001b[0;32mreturn\u001b[0m \u001b[0mforward_call\u001b[0m\u001b[0;34m(\u001b[0m\u001b[0;34m*\u001b[0m\u001b[0minput\u001b[0m\u001b[0;34m,\u001b[0m \u001b[0;34m**\u001b[0m\u001b[0mkwargs\u001b[0m\u001b[0;34m)\u001b[0m\u001b[0;34m\u001b[0m\u001b[0;34m\u001b[0m\u001b[0m\n\u001b[0m\u001b[1;32m   1103\u001b[0m         \u001b[0;31m# Do not call functions when jit is used\u001b[0m\u001b[0;34m\u001b[0m\u001b[0;34m\u001b[0m\u001b[0;34m\u001b[0m\u001b[0m\n\u001b[1;32m   1104\u001b[0m         \u001b[0mfull_backward_hooks\u001b[0m\u001b[0;34m,\u001b[0m \u001b[0mnon_full_backward_hooks\u001b[0m \u001b[0;34m=\u001b[0m \u001b[0;34m[\u001b[0m\u001b[0;34m]\u001b[0m\u001b[0;34m,\u001b[0m \u001b[0;34m[\u001b[0m\u001b[0;34m]\u001b[0m\u001b[0;34m\u001b[0m\u001b[0;34m\u001b[0m\u001b[0m\n",
      "\u001b[0;32m~/anaconda3/envs/densegat2/lib/python3.6/site-packages/torch_geometric/nn/models/deepgcn.py\u001b[0m in \u001b[0;36mforward\u001b[0;34m(self, *args, **kwargs)\u001b[0m\n\u001b[1;32m     88\u001b[0m                 \u001b[0mh\u001b[0m \u001b[0;34m=\u001b[0m \u001b[0mcheckpoint\u001b[0m\u001b[0;34m(\u001b[0m\u001b[0mself\u001b[0m\u001b[0;34m.\u001b[0m\u001b[0mconv\u001b[0m\u001b[0;34m,\u001b[0m \u001b[0mx\u001b[0m\u001b[0;34m,\u001b[0m \u001b[0;34m*\u001b[0m\u001b[0margs\u001b[0m\u001b[0;34m,\u001b[0m \u001b[0;34m**\u001b[0m\u001b[0mkwargs\u001b[0m\u001b[0;34m)\u001b[0m\u001b[0;34m\u001b[0m\u001b[0;34m\u001b[0m\u001b[0m\n\u001b[1;32m     89\u001b[0m             \u001b[0;32melse\u001b[0m\u001b[0;34m:\u001b[0m\u001b[0;34m\u001b[0m\u001b[0;34m\u001b[0m\u001b[0m\n\u001b[0;32m---> 90\u001b[0;31m                 \u001b[0mh\u001b[0m \u001b[0;34m=\u001b[0m \u001b[0mself\u001b[0m\u001b[0;34m.\u001b[0m\u001b[0mconv\u001b[0m\u001b[0;34m(\u001b[0m\u001b[0mx\u001b[0m\u001b[0;34m,\u001b[0m \u001b[0;34m*\u001b[0m\u001b[0margs\u001b[0m\u001b[0;34m,\u001b[0m \u001b[0;34m**\u001b[0m\u001b[0mkwargs\u001b[0m\u001b[0;34m)\u001b[0m\u001b[0;34m\u001b[0m\u001b[0;34m\u001b[0m\u001b[0m\n\u001b[0m\u001b[1;32m     91\u001b[0m             \u001b[0;32mif\u001b[0m \u001b[0mself\u001b[0m\u001b[0;34m.\u001b[0m\u001b[0mnorm\u001b[0m \u001b[0;32mis\u001b[0m \u001b[0;32mnot\u001b[0m \u001b[0;32mNone\u001b[0m\u001b[0;34m:\u001b[0m\u001b[0;34m\u001b[0m\u001b[0;34m\u001b[0m\u001b[0m\n\u001b[1;32m     92\u001b[0m                 \u001b[0mh\u001b[0m \u001b[0;34m=\u001b[0m \u001b[0mself\u001b[0m\u001b[0;34m.\u001b[0m\u001b[0mnorm\u001b[0m\u001b[0;34m(\u001b[0m\u001b[0mh\u001b[0m\u001b[0;34m)\u001b[0m\u001b[0;34m\u001b[0m\u001b[0;34m\u001b[0m\u001b[0m\n",
      "\u001b[0;32m~/anaconda3/envs/densegat2/lib/python3.6/site-packages/torch/nn/modules/module.py\u001b[0m in \u001b[0;36m_call_impl\u001b[0;34m(self, *input, **kwargs)\u001b[0m\n\u001b[1;32m   1100\u001b[0m         if not (self._backward_hooks or self._forward_hooks or self._forward_pre_hooks or _global_backward_hooks\n\u001b[1;32m   1101\u001b[0m                 or _global_forward_hooks or _global_forward_pre_hooks):\n\u001b[0;32m-> 1102\u001b[0;31m             \u001b[0;32mreturn\u001b[0m \u001b[0mforward_call\u001b[0m\u001b[0;34m(\u001b[0m\u001b[0;34m*\u001b[0m\u001b[0minput\u001b[0m\u001b[0;34m,\u001b[0m \u001b[0;34m**\u001b[0m\u001b[0mkwargs\u001b[0m\u001b[0;34m)\u001b[0m\u001b[0;34m\u001b[0m\u001b[0;34m\u001b[0m\u001b[0m\n\u001b[0m\u001b[1;32m   1103\u001b[0m         \u001b[0;31m# Do not call functions when jit is used\u001b[0m\u001b[0;34m\u001b[0m\u001b[0;34m\u001b[0m\u001b[0;34m\u001b[0m\u001b[0m\n\u001b[1;32m   1104\u001b[0m         \u001b[0mfull_backward_hooks\u001b[0m\u001b[0;34m,\u001b[0m \u001b[0mnon_full_backward_hooks\u001b[0m \u001b[0;34m=\u001b[0m \u001b[0;34m[\u001b[0m\u001b[0;34m]\u001b[0m\u001b[0;34m,\u001b[0m \u001b[0;34m[\u001b[0m\u001b[0;34m]\u001b[0m\u001b[0;34m\u001b[0m\u001b[0;34m\u001b[0m\u001b[0m\n",
      "\u001b[0;32m~/anaconda3/envs/densegat2/lib/python3.6/site-packages/torch_geometric/nn/conv/gatv2_conv.py\u001b[0m in \u001b[0;36mforward\u001b[0;34m(self, x, edge_index, edge_attr, return_attention_weights)\u001b[0m\n\u001b[1;32m    204\u001b[0m                     \u001b[0mnum_nodes\u001b[0m \u001b[0;34m=\u001b[0m \u001b[0mmin\u001b[0m\u001b[0;34m(\u001b[0m\u001b[0mnum_nodes\u001b[0m\u001b[0;34m,\u001b[0m \u001b[0mx_r\u001b[0m\u001b[0;34m.\u001b[0m\u001b[0msize\u001b[0m\u001b[0;34m(\u001b[0m\u001b[0;36m0\u001b[0m\u001b[0;34m)\u001b[0m\u001b[0;34m)\u001b[0m\u001b[0;34m\u001b[0m\u001b[0;34m\u001b[0m\u001b[0m\n\u001b[1;32m    205\u001b[0m                 edge_index, edge_attr = remove_self_loops(\n\u001b[0;32m--> 206\u001b[0;31m                     edge_index, edge_attr)\n\u001b[0m\u001b[1;32m    207\u001b[0m                 edge_index, edge_attr = add_self_loops(\n\u001b[1;32m    208\u001b[0m                     \u001b[0medge_index\u001b[0m\u001b[0;34m,\u001b[0m \u001b[0medge_attr\u001b[0m\u001b[0;34m,\u001b[0m \u001b[0mfill_value\u001b[0m\u001b[0;34m=\u001b[0m\u001b[0mself\u001b[0m\u001b[0;34m.\u001b[0m\u001b[0mfill_value\u001b[0m\u001b[0;34m,\u001b[0m\u001b[0;34m\u001b[0m\u001b[0;34m\u001b[0m\u001b[0m\n",
      "\u001b[0;32m~/anaconda3/envs/densegat2/lib/python3.6/site-packages/torch_geometric/utils/loop.py\u001b[0m in \u001b[0;36mremove_self_loops\u001b[0;34m(edge_index, edge_attr)\u001b[0m\n\u001b[1;32m     35\u001b[0m     \"\"\"\n\u001b[1;32m     36\u001b[0m     \u001b[0mmask\u001b[0m \u001b[0;34m=\u001b[0m \u001b[0medge_index\u001b[0m\u001b[0;34m[\u001b[0m\u001b[0;36m0\u001b[0m\u001b[0;34m]\u001b[0m \u001b[0;34m!=\u001b[0m \u001b[0medge_index\u001b[0m\u001b[0;34m[\u001b[0m\u001b[0;36m1\u001b[0m\u001b[0;34m]\u001b[0m\u001b[0;34m\u001b[0m\u001b[0;34m\u001b[0m\u001b[0m\n\u001b[0;32m---> 37\u001b[0;31m     \u001b[0medge_index\u001b[0m \u001b[0;34m=\u001b[0m \u001b[0medge_index\u001b[0m\u001b[0;34m[\u001b[0m\u001b[0;34m:\u001b[0m\u001b[0;34m,\u001b[0m \u001b[0mmask\u001b[0m\u001b[0;34m]\u001b[0m\u001b[0;34m\u001b[0m\u001b[0;34m\u001b[0m\u001b[0m\n\u001b[0m\u001b[1;32m     38\u001b[0m     \u001b[0;32mif\u001b[0m \u001b[0medge_attr\u001b[0m \u001b[0;32mis\u001b[0m \u001b[0;32mNone\u001b[0m\u001b[0;34m:\u001b[0m\u001b[0;34m\u001b[0m\u001b[0;34m\u001b[0m\u001b[0m\n\u001b[1;32m     39\u001b[0m         \u001b[0;32mreturn\u001b[0m \u001b[0medge_index\u001b[0m\u001b[0;34m,\u001b[0m \u001b[0;32mNone\u001b[0m\u001b[0;34m\u001b[0m\u001b[0;34m\u001b[0m\u001b[0m\n",
      "\u001b[0;31mKeyboardInterrupt\u001b[0m: "
     ]
    }
   ],
   "source": [
    "model.train()\n",
    "epochs = 500\n",
    "for i in range(1, 1 + epochs):\n",
    "#     train_loader = NeighborLoader(train_data, input_nodes = train_num_nodes, num_neighbors=hop, batch_size=1024, shuffle=True)\n",
    "    start_time = time.time()\n",
    "    loss, acc = train()\n",
    "    end_time = time.time()\n",
    "    if i % 50:\n",
    "        torch.save(model.state_dict(), 'cic_epoch' + str(i))\n",
    "    print('epoch: {:04d}'.format(i),\n",
    "          'loss_train: {:.4f}'.format(loss),\n",
    "          'acc_train: {:.4f}'.format(acc),\n",
    "          'time: {:.4f}s'.format(end_time - start_time))\n",
    "    loss_all.append(loss)"
   ]
  },
  {
   "cell_type": "raw",
   "id": "1a787985",
   "metadata": {},
   "source": [
    "def train2():\n",
    "    total_loss = total_correct = total_examples = 0\n",
    "    start_time = time.time()\n",
    "    y = train_data.y\n",
    "    optimizer.zero_grad()\n",
    "    y_hat = model(train_data.x.to(device), train_data.edge_index.to(device))\n",
    "    loss = F.cross_entropy(y_hat, y)\n",
    "    loss.backward()\n",
    "    optimizer.step()\n",
    "    print(loss)\n",
    "    total_correct = int((y_hat.argmax(dim=-1) == y).sum())\n",
    "    total_correct /= len(y)\n",
    "    end_time = time.time() \n",
    "    print('train acc:', total_correct)\n",
    "    print(end_time-start_time)\n",
    "model.train()\n",
    "for i in range(1, 1 + epochs):\n",
    "    train2()\n",
    "torch.save(model.state_dict(), 'cic_2017_allGAT_no_subgraph_num_layers_10_num_blocks_1_growth_rate_10_theta_08')\n",
    "weight= torch.load( 'cic_2017_allGAT_no_subgraph', map_location='cpu')\n",
    "model.load_state_dict(weight)"
   ]
  },
  {
   "cell_type": "code",
   "execution_count": 62,
   "id": "dd2611f1",
   "metadata": {},
   "outputs": [],
   "source": [
    "device = 'cpu'\n",
    "model = model.to(device)"
   ]
  },
  {
   "cell_type": "code",
   "execution_count": 63,
   "id": "b59cd203",
   "metadata": {},
   "outputs": [],
   "source": [
    "y_hat = model(test_data.x.to(device), test_data.edge_index.to(device))\n",
    "y_hat = y_hat.detach().numpy()\n",
    "y_hat = np.argmax(y_hat, -1)"
   ]
  },
  {
   "cell_type": "code",
   "execution_count": 64,
   "id": "e00e2d9f",
   "metadata": {},
   "outputs": [],
   "source": [
    "test_y = test_data.y.numpy()"
   ]
  },
  {
   "cell_type": "code",
   "execution_count": 65,
   "id": "59d860d2",
   "metadata": {},
   "outputs": [
    {
     "data": {
      "text/html": [
       "<div>\n",
       "<style scoped>\n",
       "    .dataframe tbody tr th:only-of-type {\n",
       "        vertical-align: middle;\n",
       "    }\n",
       "\n",
       "    .dataframe tbody tr th {\n",
       "        vertical-align: top;\n",
       "    }\n",
       "\n",
       "    .dataframe thead th {\n",
       "        text-align: right;\n",
       "    }\n",
       "</style>\n",
       "<table border=\"1\" class=\"dataframe\">\n",
       "  <thead>\n",
       "    <tr style=\"text-align: right;\">\n",
       "      <th></th>\n",
       "      <th>precision</th>\n",
       "      <th>recall</th>\n",
       "      <th>f1-score</th>\n",
       "      <th>support</th>\n",
       "    </tr>\n",
       "  </thead>\n",
       "  <tbody>\n",
       "    <tr>\n",
       "      <th>0</th>\n",
       "      <td>0.993342</td>\n",
       "      <td>0.950370</td>\n",
       "      <td>0.971381</td>\n",
       "      <td>13500.000000</td>\n",
       "    </tr>\n",
       "    <tr>\n",
       "      <th>1</th>\n",
       "      <td>0.993369</td>\n",
       "      <td>0.998667</td>\n",
       "      <td>0.996011</td>\n",
       "      <td>3000.000000</td>\n",
       "    </tr>\n",
       "    <tr>\n",
       "      <th>2</th>\n",
       "      <td>0.995346</td>\n",
       "      <td>0.998000</td>\n",
       "      <td>0.996671</td>\n",
       "      <td>3000.000000</td>\n",
       "    </tr>\n",
       "    <tr>\n",
       "      <th>3</th>\n",
       "      <td>0.686717</td>\n",
       "      <td>0.935154</td>\n",
       "      <td>0.791908</td>\n",
       "      <td>293.000000</td>\n",
       "    </tr>\n",
       "    <tr>\n",
       "      <th>4</th>\n",
       "      <td>0.750000</td>\n",
       "      <td>0.600000</td>\n",
       "      <td>0.666667</td>\n",
       "      <td>5.000000</td>\n",
       "    </tr>\n",
       "    <tr>\n",
       "      <th>5</th>\n",
       "      <td>0.983471</td>\n",
       "      <td>1.000000</td>\n",
       "      <td>0.991667</td>\n",
       "      <td>1190.000000</td>\n",
       "    </tr>\n",
       "    <tr>\n",
       "      <th>6</th>\n",
       "      <td>0.849462</td>\n",
       "      <td>0.981921</td>\n",
       "      <td>0.910901</td>\n",
       "      <td>885.000000</td>\n",
       "    </tr>\n",
       "    <tr>\n",
       "      <th>7</th>\n",
       "      <td>0.984813</td>\n",
       "      <td>0.968966</td>\n",
       "      <td>0.976825</td>\n",
       "      <td>870.000000</td>\n",
       "    </tr>\n",
       "    <tr>\n",
       "      <th>8</th>\n",
       "      <td>0.972586</td>\n",
       "      <td>0.989091</td>\n",
       "      <td>0.980769</td>\n",
       "      <td>825.000000</td>\n",
       "    </tr>\n",
       "    <tr>\n",
       "      <th>9</th>\n",
       "      <td>0.908123</td>\n",
       "      <td>0.995000</td>\n",
       "      <td>0.949578</td>\n",
       "      <td>3000.000000</td>\n",
       "    </tr>\n",
       "    <tr>\n",
       "      <th>10</th>\n",
       "      <td>0.983964</td>\n",
       "      <td>0.993523</td>\n",
       "      <td>0.988721</td>\n",
       "      <td>1544.000000</td>\n",
       "    </tr>\n",
       "    <tr>\n",
       "      <th>11</th>\n",
       "      <td>1.000000</td>\n",
       "      <td>1.000000</td>\n",
       "      <td>1.000000</td>\n",
       "      <td>2.000000</td>\n",
       "    </tr>\n",
       "    <tr>\n",
       "      <th>12</th>\n",
       "      <td>0.866667</td>\n",
       "      <td>0.057522</td>\n",
       "      <td>0.107884</td>\n",
       "      <td>226.000000</td>\n",
       "    </tr>\n",
       "    <tr>\n",
       "      <th>13</th>\n",
       "      <td>0.277778</td>\n",
       "      <td>0.867347</td>\n",
       "      <td>0.420792</td>\n",
       "      <td>98.000000</td>\n",
       "    </tr>\n",
       "    <tr>\n",
       "      <th>14</th>\n",
       "      <td>1.000000</td>\n",
       "      <td>0.333333</td>\n",
       "      <td>0.500000</td>\n",
       "      <td>3.000000</td>\n",
       "    </tr>\n",
       "    <tr>\n",
       "      <th>accuracy</th>\n",
       "      <td>0.964629</td>\n",
       "      <td>0.964629</td>\n",
       "      <td>0.964629</td>\n",
       "      <td>0.964629</td>\n",
       "    </tr>\n",
       "    <tr>\n",
       "      <th>macro avg</th>\n",
       "      <td>0.883042</td>\n",
       "      <td>0.844593</td>\n",
       "      <td>0.816652</td>\n",
       "      <td>28441.000000</td>\n",
       "    </tr>\n",
       "    <tr>\n",
       "      <th>weighted avg</th>\n",
       "      <td>0.971632</td>\n",
       "      <td>0.964629</td>\n",
       "      <td>0.963985</td>\n",
       "      <td>28441.000000</td>\n",
       "    </tr>\n",
       "  </tbody>\n",
       "</table>\n",
       "</div>"
      ],
      "text/plain": [
       "              precision    recall  f1-score       support\n",
       "0              0.993342  0.950370  0.971381  13500.000000\n",
       "1              0.993369  0.998667  0.996011   3000.000000\n",
       "2              0.995346  0.998000  0.996671   3000.000000\n",
       "3              0.686717  0.935154  0.791908    293.000000\n",
       "4              0.750000  0.600000  0.666667      5.000000\n",
       "5              0.983471  1.000000  0.991667   1190.000000\n",
       "6              0.849462  0.981921  0.910901    885.000000\n",
       "7              0.984813  0.968966  0.976825    870.000000\n",
       "8              0.972586  0.989091  0.980769    825.000000\n",
       "9              0.908123  0.995000  0.949578   3000.000000\n",
       "10             0.983964  0.993523  0.988721   1544.000000\n",
       "11             1.000000  1.000000  1.000000      2.000000\n",
       "12             0.866667  0.057522  0.107884    226.000000\n",
       "13             0.277778  0.867347  0.420792     98.000000\n",
       "14             1.000000  0.333333  0.500000      3.000000\n",
       "accuracy       0.964629  0.964629  0.964629      0.964629\n",
       "macro avg      0.883042  0.844593  0.816652  28441.000000\n",
       "weighted avg   0.971632  0.964629  0.963985  28441.000000"
      ]
     },
     "execution_count": 65,
     "metadata": {},
     "output_type": "execute_result"
    }
   ],
   "source": [
    "cr = classification_report(test_y, y_hat, output_dict=True)\n",
    "df = pd.DataFrame(cr).transpose()\n",
    "df"
   ]
  },
  {
   "cell_type": "code",
   "execution_count": 176,
   "id": "1c85da15",
   "metadata": {},
   "outputs": [
    {
     "data": {
      "text/html": [
       "<div>\n",
       "<style scoped>\n",
       "    .dataframe tbody tr th:only-of-type {\n",
       "        vertical-align: middle;\n",
       "    }\n",
       "\n",
       "    .dataframe tbody tr th {\n",
       "        vertical-align: top;\n",
       "    }\n",
       "\n",
       "    .dataframe thead th {\n",
       "        text-align: right;\n",
       "    }\n",
       "</style>\n",
       "<table border=\"1\" class=\"dataframe\">\n",
       "  <thead>\n",
       "    <tr style=\"text-align: right;\">\n",
       "      <th></th>\n",
       "      <th>precision</th>\n",
       "      <th>recall</th>\n",
       "      <th>f1-score</th>\n",
       "      <th>support</th>\n",
       "    </tr>\n",
       "  </thead>\n",
       "  <tbody>\n",
       "    <tr>\n",
       "      <th>0</th>\n",
       "      <td>0.899637</td>\n",
       "      <td>0.918296</td>\n",
       "      <td>0.908871</td>\n",
       "      <td>13500.000000</td>\n",
       "    </tr>\n",
       "    <tr>\n",
       "      <th>1</th>\n",
       "      <td>0.924766</td>\n",
       "      <td>0.907436</td>\n",
       "      <td>0.916019</td>\n",
       "      <td>14941.000000</td>\n",
       "    </tr>\n",
       "    <tr>\n",
       "      <th>accuracy</th>\n",
       "      <td>0.912591</td>\n",
       "      <td>0.912591</td>\n",
       "      <td>0.912591</td>\n",
       "      <td>0.912591</td>\n",
       "    </tr>\n",
       "    <tr>\n",
       "      <th>macro avg</th>\n",
       "      <td>0.912202</td>\n",
       "      <td>0.912866</td>\n",
       "      <td>0.912445</td>\n",
       "      <td>28441.000000</td>\n",
       "    </tr>\n",
       "    <tr>\n",
       "      <th>weighted avg</th>\n",
       "      <td>0.912838</td>\n",
       "      <td>0.912591</td>\n",
       "      <td>0.912626</td>\n",
       "      <td>28441.000000</td>\n",
       "    </tr>\n",
       "  </tbody>\n",
       "</table>\n",
       "</div>"
      ],
      "text/plain": [
       "              precision    recall  f1-score       support\n",
       "0              0.899637  0.918296  0.908871  13500.000000\n",
       "1              0.924766  0.907436  0.916019  14941.000000\n",
       "accuracy       0.912591  0.912591  0.912591      0.912591\n",
       "macro avg      0.912202  0.912866  0.912445  28441.000000\n",
       "weighted avg   0.912838  0.912591  0.912626  28441.000000"
      ]
     },
     "execution_count": 176,
     "metadata": {},
     "output_type": "execute_result"
    }
   ],
   "source": [
    "cr = classification_report(test_y, y_hat, output_dict=True)\n",
    "df = pd.DataFrame(cr).transpose()\n",
    "df"
   ]
  },
  {
   "cell_type": "code",
   "execution_count": 30,
   "id": "39d1440f",
   "metadata": {},
   "outputs": [
    {
     "data": {
      "text/html": [
       "<div>\n",
       "<style scoped>\n",
       "    .dataframe tbody tr th:only-of-type {\n",
       "        vertical-align: middle;\n",
       "    }\n",
       "\n",
       "    .dataframe tbody tr th {\n",
       "        vertical-align: top;\n",
       "    }\n",
       "\n",
       "    .dataframe thead th {\n",
       "        text-align: right;\n",
       "    }\n",
       "</style>\n",
       "<table border=\"1\" class=\"dataframe\">\n",
       "  <thead>\n",
       "    <tr style=\"text-align: right;\">\n",
       "      <th></th>\n",
       "      <th>precision</th>\n",
       "      <th>recall</th>\n",
       "      <th>f1-score</th>\n",
       "      <th>support</th>\n",
       "    </tr>\n",
       "  </thead>\n",
       "  <tbody>\n",
       "    <tr>\n",
       "      <th>0</th>\n",
       "      <td>0.523932</td>\n",
       "      <td>0.952333</td>\n",
       "      <td>0.675973</td>\n",
       "      <td>3000.000000</td>\n",
       "    </tr>\n",
       "    <tr>\n",
       "      <th>1</th>\n",
       "      <td>0.999584</td>\n",
       "      <td>0.801000</td>\n",
       "      <td>0.889341</td>\n",
       "      <td>3000.000000</td>\n",
       "    </tr>\n",
       "    <tr>\n",
       "      <th>2</th>\n",
       "      <td>0.953615</td>\n",
       "      <td>0.993667</td>\n",
       "      <td>0.973229</td>\n",
       "      <td>3000.000000</td>\n",
       "    </tr>\n",
       "    <tr>\n",
       "      <th>3</th>\n",
       "      <td>0.972222</td>\n",
       "      <td>0.358362</td>\n",
       "      <td>0.523691</td>\n",
       "      <td>293.000000</td>\n",
       "    </tr>\n",
       "    <tr>\n",
       "      <th>4</th>\n",
       "      <td>0.000000</td>\n",
       "      <td>0.000000</td>\n",
       "      <td>0.000000</td>\n",
       "      <td>5.000000</td>\n",
       "    </tr>\n",
       "    <tr>\n",
       "      <th>5</th>\n",
       "      <td>0.998724</td>\n",
       "      <td>0.657983</td>\n",
       "      <td>0.793313</td>\n",
       "      <td>1190.000000</td>\n",
       "    </tr>\n",
       "    <tr>\n",
       "      <th>6</th>\n",
       "      <td>0.000000</td>\n",
       "      <td>0.000000</td>\n",
       "      <td>0.000000</td>\n",
       "      <td>885.000000</td>\n",
       "    </tr>\n",
       "    <tr>\n",
       "      <th>7</th>\n",
       "      <td>0.974114</td>\n",
       "      <td>0.821839</td>\n",
       "      <td>0.891521</td>\n",
       "      <td>870.000000</td>\n",
       "    </tr>\n",
       "    <tr>\n",
       "      <th>8</th>\n",
       "      <td>0.985384</td>\n",
       "      <td>0.980606</td>\n",
       "      <td>0.982989</td>\n",
       "      <td>825.000000</td>\n",
       "    </tr>\n",
       "    <tr>\n",
       "      <th>9</th>\n",
       "      <td>0.989789</td>\n",
       "      <td>0.937000</td>\n",
       "      <td>0.962671</td>\n",
       "      <td>3000.000000</td>\n",
       "    </tr>\n",
       "    <tr>\n",
       "      <th>10</th>\n",
       "      <td>0.868773</td>\n",
       "      <td>0.926166</td>\n",
       "      <td>0.896552</td>\n",
       "      <td>1544.000000</td>\n",
       "    </tr>\n",
       "    <tr>\n",
       "      <th>11</th>\n",
       "      <td>0.666667</td>\n",
       "      <td>1.000000</td>\n",
       "      <td>0.800000</td>\n",
       "      <td>2.000000</td>\n",
       "    </tr>\n",
       "    <tr>\n",
       "      <th>12</th>\n",
       "      <td>0.750000</td>\n",
       "      <td>0.039823</td>\n",
       "      <td>0.075630</td>\n",
       "      <td>226.000000</td>\n",
       "    </tr>\n",
       "    <tr>\n",
       "      <th>13</th>\n",
       "      <td>0.000000</td>\n",
       "      <td>0.000000</td>\n",
       "      <td>0.000000</td>\n",
       "      <td>98.000000</td>\n",
       "    </tr>\n",
       "    <tr>\n",
       "      <th>14</th>\n",
       "      <td>0.000000</td>\n",
       "      <td>0.000000</td>\n",
       "      <td>0.000000</td>\n",
       "      <td>3.000000</td>\n",
       "    </tr>\n",
       "    <tr>\n",
       "      <th>accuracy</th>\n",
       "      <td>0.830779</td>\n",
       "      <td>0.830779</td>\n",
       "      <td>0.830779</td>\n",
       "      <td>0.830779</td>\n",
       "    </tr>\n",
       "    <tr>\n",
       "      <th>macro avg</th>\n",
       "      <td>0.645520</td>\n",
       "      <td>0.564585</td>\n",
       "      <td>0.564327</td>\n",
       "      <td>17941.000000</td>\n",
       "    </tr>\n",
       "    <tr>\n",
       "      <th>weighted avg</th>\n",
       "      <td>0.838679</td>\n",
       "      <td>0.830779</td>\n",
       "      <td>0.813259</td>\n",
       "      <td>17941.000000</td>\n",
       "    </tr>\n",
       "  </tbody>\n",
       "</table>\n",
       "</div>"
      ],
      "text/plain": [
       "              precision    recall  f1-score       support\n",
       "0              0.523932  0.952333  0.675973   3000.000000\n",
       "1              0.999584  0.801000  0.889341   3000.000000\n",
       "2              0.953615  0.993667  0.973229   3000.000000\n",
       "3              0.972222  0.358362  0.523691    293.000000\n",
       "4              0.000000  0.000000  0.000000      5.000000\n",
       "5              0.998724  0.657983  0.793313   1190.000000\n",
       "6              0.000000  0.000000  0.000000    885.000000\n",
       "7              0.974114  0.821839  0.891521    870.000000\n",
       "8              0.985384  0.980606  0.982989    825.000000\n",
       "9              0.989789  0.937000  0.962671   3000.000000\n",
       "10             0.868773  0.926166  0.896552   1544.000000\n",
       "11             0.666667  1.000000  0.800000      2.000000\n",
       "12             0.750000  0.039823  0.075630    226.000000\n",
       "13             0.000000  0.000000  0.000000     98.000000\n",
       "14             0.000000  0.000000  0.000000      3.000000\n",
       "accuracy       0.830779  0.830779  0.830779      0.830779\n",
       "macro avg      0.645520  0.564585  0.564327  17941.000000\n",
       "weighted avg   0.838679  0.830779  0.813259  17941.000000"
      ]
     },
     "execution_count": 30,
     "metadata": {},
     "output_type": "execute_result"
    }
   ],
   "source": [
    "cr = classification_report(test_y, y_hat, output_dict=True)\n",
    "df = pd.DataFrame(cr).transpose()\n",
    "df"
   ]
  },
  {
   "cell_type": "code",
   "execution_count": 30,
   "id": "af2cbf84",
   "metadata": {},
   "outputs": [
    {
     "name": "stderr",
     "output_type": "stream",
     "text": [
      "100%|██████████| 28/28 [00:00<00:00, 34.64it/s]\n"
     ]
    },
    {
     "name": "stdout",
     "output_type": "stream",
     "text": [
      "[2 0 0 ... 0 0 0]\n",
      "tensor([2, 0, 0,  ..., 0, 0, 0])\n",
      "              precision    recall  f1-score   support\n",
      "\n",
      "           0     0.8596    0.9609    0.9075     13500\n",
      "           1     0.9931    0.9647    0.9787      3000\n",
      "           2     0.9226    0.9927    0.9563      3000\n",
      "           3     0.6329    0.9590    0.7626       293\n",
      "           4     1.0000    0.2000    0.3333         5\n",
      "           5     0.9838    0.5109    0.6726      1190\n",
      "           6     0.6667    0.0045    0.0090       885\n",
      "           7     0.9647    0.9747    0.9697       870\n",
      "           8     0.9794    0.9818    0.9806       825\n",
      "           9     0.9849    0.8673    0.9224      3000\n",
      "          10     0.9980    0.9462    0.9714      1544\n",
      "          11     0.0000    0.0000    0.0000         2\n",
      "          12     0.5710    0.8186    0.6727       226\n",
      "          13     0.0000    0.0000    0.0000        98\n",
      "          14     0.0000    0.0000    0.0000         3\n",
      "\n",
      "    accuracy                         0.9017     28441\n",
      "   macro avg     0.7038    0.6121    0.6091     28441\n",
      "weighted avg     0.8992    0.9017    0.8847     28441\n",
      "\n",
      "[[12972     5   246   159     0    10     1    11     4    39     3     0\n",
      "     46     4     0]\n",
      " [  105  2894     0     0     0     0     0     0     0     1     0     0\n",
      "      0     0     0]\n",
      " [    2    13  2978     4     0     0     0     2     0     0     0     0\n",
      "      1     0     0]\n",
      " [   12     0     0   281     0     0     0     0     0     0     0     0\n",
      "      0     0     0]\n",
      " [    4     0     0     0     1     0     0     0     0     0     0     0\n",
      "      0     0     0]\n",
      " [  576     0     0     0     0   608     1     5     0     0     0     0\n",
      "      0     0     0]\n",
      " [  877     0     3     0     0     0     4     1     0     0     0     0\n",
      "      0     0     0]\n",
      " [   10     0     0     0     0     0     0   848    11     0     0     0\n",
      "      1     0     0]\n",
      " [    3     0     0     0     0     0     0    12   810     0     0     0\n",
      "      0     0     0]\n",
      " [  396     2     0     0     0     0     0     0     0  2602     0     0\n",
      "      0     0     0]\n",
      " [   81     0     0     0     0     0     0     0     2     0  1461     0\n",
      "      0     0     0]\n",
      " [    2     0     0     0     0     0     0     0     0     0     0     0\n",
      "      0     0     0]\n",
      " [   41     0     0     0     0     0     0     0     0     0     0     0\n",
      "    185     0     0]\n",
      " [    6     0     1     0     0     0     0     0     0     0     0     0\n",
      "     91     0     0]\n",
      " [    3     0     0     0     0     0     0     0     0     0     0     0\n",
      "      0     0     0]]\n"
     ]
    }
   ],
   "source": [
    "inferrence(model, subgraph_loader)"
   ]
  },
  {
   "cell_type": "code",
   "execution_count": 107,
   "id": "98ba4a2d",
   "metadata": {},
   "outputs": [
    {
     "name": "stderr",
     "output_type": "stream",
     "text": [
      "\n",
      "  0%|          | 0/22 [00:00<?, ?it/s]\u001b[A\n",
      " 18%|█▊        | 4/22 [00:00<00:00, 31.91it/s]\u001b[A\n",
      " 36%|███▋      | 8/22 [00:00<00:00, 31.96it/s]\u001b[A\n",
      " 55%|█████▍    | 12/22 [00:00<00:00, 32.22it/s]\u001b[A\n",
      " 73%|███████▎  | 16/22 [00:00<00:00, 32.57it/s]\u001b[A\n",
      "100%|██████████| 22/22 [00:00<00:00, 32.48it/s]\u001b[A\n"
     ]
    },
    {
     "name": "stdout",
     "output_type": "stream",
     "text": [
      "[0 1 2 ... 1 0 2]\n",
      "tensor([0, 1, 2,  ..., 1, 0, 2])\n",
      "              precision    recall  f1-score   support\n",
      "\n",
      "           0     0.9778    0.9412    0.9592      7500\n",
      "           1     0.9793    0.9893    0.9843      9240\n",
      "           2     0.9652    0.9890    0.9770      3000\n",
      "           3     0.8594    0.9354    0.8958       294\n",
      "           4     1.0000    0.4000    0.5714         5\n",
      "           5     0.9448    0.9889    0.9663      2075\n",
      "           6     0.9156    0.8960    0.9057       327\n",
      "\n",
      "    accuracy                         0.9709     22441\n",
      "   macro avg     0.9489    0.8771    0.8942     22441\n",
      "weighted avg     0.9712    0.9709    0.9709     22441\n",
      "\n",
      "[[7059  173  104   45    0   94   25]\n",
      " [  95 9141    0    0    0    3    1]\n",
      " [  25    7 2967    0    0    0    1]\n",
      " [  19    0    0  275    0    0    0]\n",
      " [   2    1    0    0    2    0    0]\n",
      " [  15    6    2    0    0 2052    0]\n",
      " [   4    6    1    0    0   23  293]]\n"
     ]
    }
   ],
   "source": [
    "inferrence(model, subgraph_loader)"
   ]
  },
  {
   "cell_type": "code",
   "execution_count": null,
   "id": "bd1ec35e",
   "metadata": {},
   "outputs": [],
   "source": []
  },
  {
   "cell_type": "code",
   "execution_count": 158,
   "id": "e0d88f2f",
   "metadata": {},
   "outputs": [
    {
     "name": "stderr",
     "output_type": "stream",
     "text": [
      "100%|██████████| 28/28 [00:01<00:00, 17.11it/s]\n"
     ]
    },
    {
     "name": "stdout",
     "output_type": "stream",
     "text": [
      "[1 0 0 ... 0 0 0]\n",
      "tensor([1, 0, 0,  ..., 0, 0, 0])\n",
      "              precision    recall  f1-score   support\n",
      "\n",
      "           0     0.8286    0.9610    0.8899     13500\n",
      "           1     0.9589    0.8204    0.8842     14941\n",
      "\n",
      "    accuracy                         0.8871     28441\n",
      "   macro avg     0.8937    0.8907    0.8871     28441\n",
      "weighted avg     0.8970    0.8871    0.8869     28441\n",
      "\n",
      "[[12974   526]\n",
      " [ 2684 12257]]\n"
     ]
    }
   ],
   "source": [
    "inferrence(model, subgraph_loader)"
   ]
  },
  {
   "cell_type": "code",
   "execution_count": 523,
   "id": "80534aa4",
   "metadata": {},
   "outputs": [
    {
     "name": "stderr",
     "output_type": "stream",
     "text": [
      "100%|██████████| 22/22 [00:05<00:00,  4.05it/s]"
     ]
    },
    {
     "name": "stdout",
     "output_type": "stream",
     "text": [
      "[0 1 2 ... 1 0 2]\n",
      "tensor([0, 1, 2,  ..., 1, 0, 2])\n",
      "              precision    recall  f1-score   support\n",
      "\n",
      "           0     0.9142    0.9667    0.9397      7500\n",
      "           1     0.9942    0.9661    0.9800      9240\n",
      "           2     0.9657    0.9753    0.9705      3000\n",
      "           3     0.8132    0.9626    0.8816       294\n",
      "           4     1.0000    0.6000    0.7500         5\n",
      "           5     0.9780    0.8578    0.9140      2075\n",
      "           6     0.9366    0.9480    0.9422       327\n",
      "\n",
      "    accuracy                         0.9571     22441\n",
      "   macro avg     0.9431    0.8967    0.9111     22441\n",
      "weighted avg     0.9590    0.9571    0.9573     22441\n",
      "\n",
      "[[7250   45  104   65    0   17   19]\n",
      " [ 312 8927    0    0    0    0    1]\n",
      " [  51    1 2926    0    0   21    1]\n",
      " [  11    0    0  283    0    0    0]\n",
      " [   1    1    0    0    3    0    0]\n",
      " [ 292    3    0    0    0 1780    0]\n",
      " [  13    2    0    0    0    2  310]]\n"
     ]
    },
    {
     "name": "stderr",
     "output_type": "stream",
     "text": [
      "\n"
     ]
    }
   ],
   "source": [
    "inferrence(model, subgraph_loader)"
   ]
  },
  {
   "cell_type": "code",
   "execution_count": 515,
   "id": "7e71bddb",
   "metadata": {},
   "outputs": [
    {
     "name": "stderr",
     "output_type": "stream",
     "text": [
      "100%|██████████| 22/22 [00:00<00:00, 24.86it/s]\n"
     ]
    },
    {
     "name": "stdout",
     "output_type": "stream",
     "text": [
      "[0 1 2 ... 1 0 2]\n",
      "tensor([0, 1, 2,  ..., 1, 0, 2])\n",
      "              precision    recall  f1-score   support\n",
      "\n",
      "           0     0.9908    0.9437    0.9667      7500\n",
      "           1     0.9826    0.9963    0.9894      9240\n",
      "           2     0.9646    0.9890    0.9766      3000\n",
      "           3     0.8304    0.9660    0.8931       294\n",
      "           4     1.0000    0.6000    0.7500         5\n",
      "           5     0.9462    0.9908    0.9680      2075\n",
      "           6     0.9162    0.9358    0.9259       327\n",
      "\n",
      "    accuracy                         0.9759     22441\n",
      "   macro avg     0.9472    0.9174    0.9242     22441\n",
      "weighted avg     0.9766    0.9759    0.9759     22441\n",
      "\n",
      "[[7078  148  105   58    0   86   25]\n",
      " [  18 9206    0    0    0   15    1]\n",
      " [  20    7 2967    0    0    5    1]\n",
      " [  10    0    0  284    0    0    0]\n",
      " [   1    1    0    0    3    0    0]\n",
      " [  11    4    3    0    0 2056    1]\n",
      " [   6    3    1    0    0   11  306]]\n"
     ]
    }
   ],
   "source": [
    "inferrence(model, subgraph_loader)"
   ]
  },
  {
   "cell_type": "code",
   "execution_count": 463,
   "id": "f8805c6c",
   "metadata": {},
   "outputs": [
    {
     "name": "stderr",
     "output_type": "stream",
     "text": [
      "\n",
      "  0%|          | 0/18 [00:00<?, ?it/s]\u001b[A\n",
      " 17%|█▋        | 3/18 [00:00<00:00, 24.53it/s]\u001b[A\n",
      " 39%|███▉      | 7/18 [00:00<00:00, 28.59it/s]\u001b[A\n",
      " 61%|██████    | 11/18 [00:00<00:00, 29.74it/s]\u001b[A\n",
      "100%|██████████| 18/18 [00:00<00:00, 30.26it/s]\u001b[A"
     ]
    },
    {
     "name": "stdout",
     "output_type": "stream",
     "text": [
      "[2 1 6 ... 1 1 7]\n",
      "tensor([2, 1, 6,  ..., 1, 1, 7])\n",
      "              precision    recall  f1-score   support\n",
      "\n",
      "           0     0.7709    0.9249    0.8409      2998\n",
      "           1     0.9997    0.9750    0.9872      3000\n",
      "           2     0.9800    0.9987    0.9893      2998\n",
      "           3     0.7153    0.7201    0.7177       293\n",
      "           4     0.0769    0.4000    0.1290         5\n",
      "           5     0.7298    0.1748    0.2820      1190\n",
      "           6     0.3454    0.5186    0.4146       885\n",
      "           7     0.9564    0.9069    0.9310       870\n",
      "           8     0.9768    0.9697    0.9732       825\n",
      "           9     0.9665    0.9454    0.9558      2987\n",
      "          10     0.9980    0.9812    0.9895      1544\n",
      "          11     0.0000    0.0000    0.0000         2\n",
      "\n",
      "    accuracy                         0.8808     17597\n",
      "   macro avg     0.7096    0.7096    0.6842     17597\n",
      "weighted avg     0.8921    0.8808    0.8727     17597\n",
      "\n",
      "[[2773    1   60   83   24    7   13    5    6   24    2    0]\n",
      " [   2 2925    0    0    0    0    0    0    0   73    0    0]\n",
      " [   4    0 2994    0    0    0    0    0    0    0    0    0]\n",
      " [  82    0    0  211    0    0    0    0    0    0    0    0]\n",
      " [   2    0    0    1    2    0    0    0    0    0    0    0]\n",
      " [ 125    0    0    0    0  208  857    0    0    0    0    0]\n",
      " [ 424    0    0    0    0    1  459    0    1    0    0    0]\n",
      " [   3    0    1    0    0   69    0  789    7    0    1    0]\n",
      " [   4    0    0    0    0    0    0   21  800    0    0    0]\n",
      " [ 163    0    0    0    0    0    0    0    0 2824    0    0]\n",
      " [  13    0    0    0    0    0    0   10    5    1 1515    0]\n",
      " [   2    0    0    0    0    0    0    0    0    0    0    0]]\n"
     ]
    },
    {
     "name": "stderr",
     "output_type": "stream",
     "text": [
      "\n"
     ]
    }
   ],
   "source": [
    "inferrence(model, subgraph_loader)"
   ]
  },
  {
   "cell_type": "code",
   "execution_count": 538,
   "id": "0b3d6a58",
   "metadata": {},
   "outputs": [],
   "source": [
    "y_hat = model(test_data.x.to(device), test_data.edge_index.to(device))"
   ]
  },
  {
   "cell_type": "code",
   "execution_count": 539,
   "id": "4bfa0434",
   "metadata": {},
   "outputs": [],
   "source": [
    "y_hat = y_hat.detach().numpy()\n",
    "y_hat = np.argmax(y_hat, -1)"
   ]
  },
  {
   "cell_type": "code",
   "execution_count": 540,
   "id": "1a15f817",
   "metadata": {},
   "outputs": [
    {
     "data": {
      "text/plain": [
       "22441"
      ]
     },
     "execution_count": 540,
     "metadata": {},
     "output_type": "execute_result"
    }
   ],
   "source": [
    "len(y_hat)"
   ]
  },
  {
   "cell_type": "code",
   "execution_count": 541,
   "id": "61fe6ca0",
   "metadata": {},
   "outputs": [
    {
     "data": {
      "text/plain": [
       "'              precision    recall  f1-score   support\\n\\n           0     0.9189    0.9665    0.9421      7500\\n           1     0.9941    0.9661    0.9799      9240\\n           2     0.9649    0.9907    0.9776      3000\\n           3     0.8109    0.9626    0.8802       294\\n           4     1.0000    0.6000    0.7500         5\\n           5     0.9873    0.8607    0.9197      2075\\n           6     0.9366    0.9480    0.9422       327\\n\\n    accuracy                         0.9594     22441\\n   macro avg     0.9447    0.8992    0.9131     22441\\nweighted avg     0.9612    0.9594    0.9595     22441\\n'"
      ]
     },
     "execution_count": 541,
     "metadata": {},
     "output_type": "execute_result"
    }
   ],
   "source": [
    "classification_report(test_y, y_hat, digits=4)"
   ]
  },
  {
   "cell_type": "code",
   "execution_count": 137,
   "id": "3245257e",
   "metadata": {},
   "outputs": [
    {
     "name": "stderr",
     "output_type": "stream",
     "text": [
      "  0%|          | 0/186 [46:34<?, ?it/s]\n",
      " 16%|█▌        | 9/57 [45:49<4:04:26, 305.55s/it]\n",
      "  0%|          | 0/186 [46:03<?, ?it/s]\n"
     ]
    },
    {
     "ename": "RuntimeError",
     "evalue": "[enforce fail at CPUAllocator.cpp:68] . DefaultCPUAllocator: can't allocate memory: you tried to allocate 8703520240 bytes. Error code 12 (Cannot allocate memory)",
     "output_type": "error",
     "traceback": [
      "\u001b[0;31m---------------------------------------------------------------------------\u001b[0m",
      "\u001b[0;31mRuntimeError\u001b[0m                              Traceback (most recent call last)",
      "\u001b[0;32m<ipython-input-137-89075c8c16d6>\u001b[0m in \u001b[0;36m<module>\u001b[0;34m\u001b[0m\n\u001b[0;32m----> 1\u001b[0;31m \u001b[0my_hat\u001b[0m \u001b[0;34m=\u001b[0m \u001b[0mmodel\u001b[0m\u001b[0;34m(\u001b[0m\u001b[0mall_data\u001b[0m\u001b[0;34m.\u001b[0m\u001b[0mx\u001b[0m\u001b[0;34m.\u001b[0m\u001b[0mto\u001b[0m\u001b[0;34m(\u001b[0m\u001b[0mdevice\u001b[0m\u001b[0;34m)\u001b[0m\u001b[0;34m,\u001b[0m \u001b[0mall_data\u001b[0m\u001b[0;34m.\u001b[0m\u001b[0medge_index\u001b[0m\u001b[0;34m.\u001b[0m\u001b[0mto\u001b[0m\u001b[0;34m(\u001b[0m\u001b[0mdevice\u001b[0m\u001b[0;34m)\u001b[0m\u001b[0;34m)\u001b[0m\u001b[0;34m\u001b[0m\u001b[0;34m\u001b[0m\u001b[0m\n\u001b[0m",
      "\u001b[0;32m~/anaconda3/envs/densegat2/lib/python3.6/site-packages/torch/nn/modules/module.py\u001b[0m in \u001b[0;36m_call_impl\u001b[0;34m(self, *input, **kwargs)\u001b[0m\n\u001b[1;32m   1100\u001b[0m         if not (self._backward_hooks or self._forward_hooks or self._forward_pre_hooks or _global_backward_hooks\n\u001b[1;32m   1101\u001b[0m                 or _global_forward_hooks or _global_forward_pre_hooks):\n\u001b[0;32m-> 1102\u001b[0;31m             \u001b[0;32mreturn\u001b[0m \u001b[0mforward_call\u001b[0m\u001b[0;34m(\u001b[0m\u001b[0;34m*\u001b[0m\u001b[0minput\u001b[0m\u001b[0;34m,\u001b[0m \u001b[0;34m**\u001b[0m\u001b[0mkwargs\u001b[0m\u001b[0;34m)\u001b[0m\u001b[0;34m\u001b[0m\u001b[0;34m\u001b[0m\u001b[0m\n\u001b[0m\u001b[1;32m   1103\u001b[0m         \u001b[0;31m# Do not call functions when jit is used\u001b[0m\u001b[0;34m\u001b[0m\u001b[0;34m\u001b[0m\u001b[0;34m\u001b[0m\u001b[0m\n\u001b[1;32m   1104\u001b[0m         \u001b[0mfull_backward_hooks\u001b[0m\u001b[0;34m,\u001b[0m \u001b[0mnon_full_backward_hooks\u001b[0m \u001b[0;34m=\u001b[0m \u001b[0;34m[\u001b[0m\u001b[0;34m]\u001b[0m\u001b[0;34m,\u001b[0m \u001b[0;34m[\u001b[0m\u001b[0;34m]\u001b[0m\u001b[0;34m\u001b[0m\u001b[0;34m\u001b[0m\u001b[0m\n",
      "\u001b[0;32m<ipython-input-122-408e37ca4035>\u001b[0m in \u001b[0;36mforward\u001b[0;34m(self, x, edge_index)\u001b[0m\n\u001b[1;32m     59\u001b[0m             \u001b[0;31m# block layer\u001b[0m\u001b[0;34m\u001b[0m\u001b[0;34m\u001b[0m\u001b[0;34m\u001b[0m\u001b[0m\n\u001b[1;32m     60\u001b[0m             \u001b[0;32mfor\u001b[0m \u001b[0mlayer\u001b[0m \u001b[0;32min\u001b[0m \u001b[0mself\u001b[0m\u001b[0;34m.\u001b[0m\u001b[0mblock_layers\u001b[0m\u001b[0;34m[\u001b[0m\u001b[0mi\u001b[0m\u001b[0;34m]\u001b[0m\u001b[0;34m:\u001b[0m\u001b[0;34m\u001b[0m\u001b[0;34m\u001b[0m\u001b[0m\n\u001b[0;32m---> 61\u001b[0;31m                 \u001b[0mx\u001b[0m \u001b[0;34m=\u001b[0m \u001b[0mlayer\u001b[0m\u001b[0;34m(\u001b[0m\u001b[0mx\u001b[0m\u001b[0;34m,\u001b[0m \u001b[0medge_index\u001b[0m\u001b[0;34m)\u001b[0m\u001b[0;34m\u001b[0m\u001b[0;34m\u001b[0m\u001b[0m\n\u001b[0m\u001b[1;32m     62\u001b[0m             \u001b[0;31m# transition layer\u001b[0m\u001b[0;34m\u001b[0m\u001b[0;34m\u001b[0m\u001b[0;34m\u001b[0m\u001b[0m\n\u001b[1;32m     63\u001b[0m             \u001b[0mx\u001b[0m \u001b[0;34m=\u001b[0m \u001b[0mself\u001b[0m\u001b[0;34m.\u001b[0m\u001b[0mtransition_layers\u001b[0m\u001b[0;34m[\u001b[0m\u001b[0mi\u001b[0m\u001b[0;34m]\u001b[0m\u001b[0;34m(\u001b[0m\u001b[0mx\u001b[0m\u001b[0;34m)\u001b[0m\u001b[0;34m\u001b[0m\u001b[0;34m\u001b[0m\u001b[0m\n",
      "\u001b[0;32m~/anaconda3/envs/densegat2/lib/python3.6/site-packages/torch/nn/modules/module.py\u001b[0m in \u001b[0;36m_call_impl\u001b[0;34m(self, *input, **kwargs)\u001b[0m\n\u001b[1;32m   1100\u001b[0m         if not (self._backward_hooks or self._forward_hooks or self._forward_pre_hooks or _global_backward_hooks\n\u001b[1;32m   1101\u001b[0m                 or _global_forward_hooks or _global_forward_pre_hooks):\n\u001b[0;32m-> 1102\u001b[0;31m             \u001b[0;32mreturn\u001b[0m \u001b[0mforward_call\u001b[0m\u001b[0;34m(\u001b[0m\u001b[0;34m*\u001b[0m\u001b[0minput\u001b[0m\u001b[0;34m,\u001b[0m \u001b[0;34m**\u001b[0m\u001b[0mkwargs\u001b[0m\u001b[0;34m)\u001b[0m\u001b[0;34m\u001b[0m\u001b[0;34m\u001b[0m\u001b[0m\n\u001b[0m\u001b[1;32m   1103\u001b[0m         \u001b[0;31m# Do not call functions when jit is used\u001b[0m\u001b[0;34m\u001b[0m\u001b[0;34m\u001b[0m\u001b[0;34m\u001b[0m\u001b[0m\n\u001b[1;32m   1104\u001b[0m         \u001b[0mfull_backward_hooks\u001b[0m\u001b[0;34m,\u001b[0m \u001b[0mnon_full_backward_hooks\u001b[0m \u001b[0;34m=\u001b[0m \u001b[0;34m[\u001b[0m\u001b[0;34m]\u001b[0m\u001b[0;34m,\u001b[0m \u001b[0;34m[\u001b[0m\u001b[0;34m]\u001b[0m\u001b[0;34m\u001b[0m\u001b[0;34m\u001b[0m\u001b[0m\n",
      "\u001b[0;32m~/anaconda3/envs/densegat2/lib/python3.6/site-packages/torch_geometric/nn/models/deepgcn.py\u001b[0m in \u001b[0;36mforward\u001b[0;34m(self, *args, **kwargs)\u001b[0m\n\u001b[1;32m     88\u001b[0m                 \u001b[0mh\u001b[0m \u001b[0;34m=\u001b[0m \u001b[0mcheckpoint\u001b[0m\u001b[0;34m(\u001b[0m\u001b[0mself\u001b[0m\u001b[0;34m.\u001b[0m\u001b[0mconv\u001b[0m\u001b[0;34m,\u001b[0m \u001b[0mx\u001b[0m\u001b[0;34m,\u001b[0m \u001b[0;34m*\u001b[0m\u001b[0margs\u001b[0m\u001b[0;34m,\u001b[0m \u001b[0;34m**\u001b[0m\u001b[0mkwargs\u001b[0m\u001b[0;34m)\u001b[0m\u001b[0;34m\u001b[0m\u001b[0;34m\u001b[0m\u001b[0m\n\u001b[1;32m     89\u001b[0m             \u001b[0;32melse\u001b[0m\u001b[0;34m:\u001b[0m\u001b[0;34m\u001b[0m\u001b[0;34m\u001b[0m\u001b[0m\n\u001b[0;32m---> 90\u001b[0;31m                 \u001b[0mh\u001b[0m \u001b[0;34m=\u001b[0m \u001b[0mself\u001b[0m\u001b[0;34m.\u001b[0m\u001b[0mconv\u001b[0m\u001b[0;34m(\u001b[0m\u001b[0mx\u001b[0m\u001b[0;34m,\u001b[0m \u001b[0;34m*\u001b[0m\u001b[0margs\u001b[0m\u001b[0;34m,\u001b[0m \u001b[0;34m**\u001b[0m\u001b[0mkwargs\u001b[0m\u001b[0;34m)\u001b[0m\u001b[0;34m\u001b[0m\u001b[0;34m\u001b[0m\u001b[0m\n\u001b[0m\u001b[1;32m     91\u001b[0m             \u001b[0;32mif\u001b[0m \u001b[0mself\u001b[0m\u001b[0;34m.\u001b[0m\u001b[0mnorm\u001b[0m \u001b[0;32mis\u001b[0m \u001b[0;32mnot\u001b[0m \u001b[0;32mNone\u001b[0m\u001b[0;34m:\u001b[0m\u001b[0;34m\u001b[0m\u001b[0;34m\u001b[0m\u001b[0m\n\u001b[1;32m     92\u001b[0m                 \u001b[0mh\u001b[0m \u001b[0;34m=\u001b[0m \u001b[0mself\u001b[0m\u001b[0;34m.\u001b[0m\u001b[0mnorm\u001b[0m\u001b[0;34m(\u001b[0m\u001b[0mh\u001b[0m\u001b[0;34m)\u001b[0m\u001b[0;34m\u001b[0m\u001b[0;34m\u001b[0m\u001b[0m\n",
      "\u001b[0;32m~/anaconda3/envs/densegat2/lib/python3.6/site-packages/torch/nn/modules/module.py\u001b[0m in \u001b[0;36m_call_impl\u001b[0;34m(self, *input, **kwargs)\u001b[0m\n\u001b[1;32m   1100\u001b[0m         if not (self._backward_hooks or self._forward_hooks or self._forward_pre_hooks or _global_backward_hooks\n\u001b[1;32m   1101\u001b[0m                 or _global_forward_hooks or _global_forward_pre_hooks):\n\u001b[0;32m-> 1102\u001b[0;31m             \u001b[0;32mreturn\u001b[0m \u001b[0mforward_call\u001b[0m\u001b[0;34m(\u001b[0m\u001b[0;34m*\u001b[0m\u001b[0minput\u001b[0m\u001b[0;34m,\u001b[0m \u001b[0;34m**\u001b[0m\u001b[0mkwargs\u001b[0m\u001b[0;34m)\u001b[0m\u001b[0;34m\u001b[0m\u001b[0;34m\u001b[0m\u001b[0m\n\u001b[0m\u001b[1;32m   1103\u001b[0m         \u001b[0;31m# Do not call functions when jit is used\u001b[0m\u001b[0;34m\u001b[0m\u001b[0;34m\u001b[0m\u001b[0;34m\u001b[0m\u001b[0m\n\u001b[1;32m   1104\u001b[0m         \u001b[0mfull_backward_hooks\u001b[0m\u001b[0;34m,\u001b[0m \u001b[0mnon_full_backward_hooks\u001b[0m \u001b[0;34m=\u001b[0m \u001b[0;34m[\u001b[0m\u001b[0;34m]\u001b[0m\u001b[0;34m,\u001b[0m \u001b[0;34m[\u001b[0m\u001b[0;34m]\u001b[0m\u001b[0;34m\u001b[0m\u001b[0;34m\u001b[0m\u001b[0m\n",
      "\u001b[0;32m~/anaconda3/envs/densegat2/lib/python3.6/site-packages/torch_geometric/nn/conv/gat_conv.py\u001b[0m in \u001b[0;36mforward\u001b[0;34m(self, x, edge_index, edge_attr, size, return_attention_weights)\u001b[0m\n\u001b[1;32m    240\u001b[0m         \u001b[0;31m# propagate_type: (x: OptPairTensor, alpha: OptPairTensor, edge_attr: OptTensor)  # noqa\u001b[0m\u001b[0;34m\u001b[0m\u001b[0;34m\u001b[0m\u001b[0;34m\u001b[0m\u001b[0m\n\u001b[1;32m    241\u001b[0m         out = self.propagate(edge_index, x=x, alpha=alpha, edge_attr=edge_attr,\n\u001b[0;32m--> 242\u001b[0;31m                              size=size)\n\u001b[0m\u001b[1;32m    243\u001b[0m \u001b[0;34m\u001b[0m\u001b[0m\n\u001b[1;32m    244\u001b[0m         \u001b[0malpha\u001b[0m \u001b[0;34m=\u001b[0m \u001b[0mself\u001b[0m\u001b[0;34m.\u001b[0m\u001b[0m_alpha\u001b[0m\u001b[0;34m\u001b[0m\u001b[0;34m\u001b[0m\u001b[0m\n",
      "\u001b[0;32m~/anaconda3/envs/densegat2/lib/python3.6/site-packages/torch_geometric/nn/conv/message_passing.py\u001b[0m in \u001b[0;36mpropagate\u001b[0;34m(self, edge_index, size, **kwargs)\u001b[0m\n\u001b[1;32m    315\u001b[0m                     \u001b[0;32mif\u001b[0m \u001b[0mres\u001b[0m \u001b[0;32mis\u001b[0m \u001b[0;32mnot\u001b[0m \u001b[0;32mNone\u001b[0m\u001b[0;34m:\u001b[0m\u001b[0;34m\u001b[0m\u001b[0;34m\u001b[0m\u001b[0m\n\u001b[1;32m    316\u001b[0m                         \u001b[0mmsg_kwargs\u001b[0m \u001b[0;34m=\u001b[0m \u001b[0mres\u001b[0m\u001b[0;34m[\u001b[0m\u001b[0;36m0\u001b[0m\u001b[0;34m]\u001b[0m \u001b[0;32mif\u001b[0m \u001b[0misinstance\u001b[0m\u001b[0;34m(\u001b[0m\u001b[0mres\u001b[0m\u001b[0;34m,\u001b[0m \u001b[0mtuple\u001b[0m\u001b[0;34m)\u001b[0m \u001b[0;32melse\u001b[0m \u001b[0mres\u001b[0m\u001b[0;34m\u001b[0m\u001b[0;34m\u001b[0m\u001b[0m\n\u001b[0;32m--> 317\u001b[0;31m                 \u001b[0mout\u001b[0m \u001b[0;34m=\u001b[0m \u001b[0mself\u001b[0m\u001b[0;34m.\u001b[0m\u001b[0mmessage\u001b[0m\u001b[0;34m(\u001b[0m\u001b[0;34m**\u001b[0m\u001b[0mmsg_kwargs\u001b[0m\u001b[0;34m)\u001b[0m\u001b[0;34m\u001b[0m\u001b[0;34m\u001b[0m\u001b[0m\n\u001b[0m\u001b[1;32m    318\u001b[0m                 \u001b[0;32mfor\u001b[0m \u001b[0mhook\u001b[0m \u001b[0;32min\u001b[0m \u001b[0mself\u001b[0m\u001b[0;34m.\u001b[0m\u001b[0m_message_forward_hooks\u001b[0m\u001b[0;34m.\u001b[0m\u001b[0mvalues\u001b[0m\u001b[0;34m(\u001b[0m\u001b[0;34m)\u001b[0m\u001b[0;34m:\u001b[0m\u001b[0;34m\u001b[0m\u001b[0;34m\u001b[0m\u001b[0m\n\u001b[1;32m    319\u001b[0m                     \u001b[0mres\u001b[0m \u001b[0;34m=\u001b[0m \u001b[0mhook\u001b[0m\u001b[0;34m(\u001b[0m\u001b[0mself\u001b[0m\u001b[0;34m,\u001b[0m \u001b[0;34m(\u001b[0m\u001b[0mmsg_kwargs\u001b[0m\u001b[0;34m,\u001b[0m \u001b[0;34m)\u001b[0m\u001b[0;34m,\u001b[0m \u001b[0mout\u001b[0m\u001b[0;34m)\u001b[0m\u001b[0;34m\u001b[0m\u001b[0;34m\u001b[0m\u001b[0m\n",
      "\u001b[0;32m~/anaconda3/envs/densegat2/lib/python3.6/site-packages/torch_geometric/nn/conv/gat_conv.py\u001b[0m in \u001b[0;36mmessage\u001b[0;34m(self, x_j, alpha_j, alpha_i, edge_attr, index, ptr, size_i)\u001b[0m\n\u001b[1;32m    282\u001b[0m         \u001b[0mself\u001b[0m\u001b[0;34m.\u001b[0m\u001b[0m_alpha\u001b[0m \u001b[0;34m=\u001b[0m \u001b[0malpha\u001b[0m  \u001b[0;31m# Save for later use.\u001b[0m\u001b[0;34m\u001b[0m\u001b[0;34m\u001b[0m\u001b[0m\n\u001b[1;32m    283\u001b[0m         \u001b[0malpha\u001b[0m \u001b[0;34m=\u001b[0m \u001b[0mF\u001b[0m\u001b[0;34m.\u001b[0m\u001b[0mdropout\u001b[0m\u001b[0;34m(\u001b[0m\u001b[0malpha\u001b[0m\u001b[0;34m,\u001b[0m \u001b[0mp\u001b[0m\u001b[0;34m=\u001b[0m\u001b[0mself\u001b[0m\u001b[0;34m.\u001b[0m\u001b[0mdropout\u001b[0m\u001b[0;34m,\u001b[0m \u001b[0mtraining\u001b[0m\u001b[0;34m=\u001b[0m\u001b[0mself\u001b[0m\u001b[0;34m.\u001b[0m\u001b[0mtraining\u001b[0m\u001b[0;34m)\u001b[0m\u001b[0;34m\u001b[0m\u001b[0;34m\u001b[0m\u001b[0m\n\u001b[0;32m--> 284\u001b[0;31m         \u001b[0;32mreturn\u001b[0m \u001b[0mx_j\u001b[0m \u001b[0;34m*\u001b[0m \u001b[0malpha\u001b[0m\u001b[0;34m.\u001b[0m\u001b[0munsqueeze\u001b[0m\u001b[0;34m(\u001b[0m\u001b[0;34m-\u001b[0m\u001b[0;36m1\u001b[0m\u001b[0;34m)\u001b[0m\u001b[0;34m\u001b[0m\u001b[0;34m\u001b[0m\u001b[0m\n\u001b[0m\u001b[1;32m    285\u001b[0m \u001b[0;34m\u001b[0m\u001b[0m\n\u001b[1;32m    286\u001b[0m     \u001b[0;32mdef\u001b[0m \u001b[0m__repr__\u001b[0m\u001b[0;34m(\u001b[0m\u001b[0mself\u001b[0m\u001b[0;34m)\u001b[0m \u001b[0;34m->\u001b[0m \u001b[0mstr\u001b[0m\u001b[0;34m:\u001b[0m\u001b[0;34m\u001b[0m\u001b[0;34m\u001b[0m\u001b[0m\n",
      "\u001b[0;31mRuntimeError\u001b[0m: [enforce fail at CPUAllocator.cpp:68] . DefaultCPUAllocator: can't allocate memory: you tried to allocate 8703520240 bytes. Error code 12 (Cannot allocate memory)"
     ]
    }
   ],
   "source": [
    "y_hat = model(all_data.x.to(device), all_data.edge_index.to(device))"
   ]
  },
  {
   "cell_type": "code",
   "execution_count": null,
   "id": "621507c4",
   "metadata": {},
   "outputs": [],
   "source": [
    "y_hat = y_hat.detach().numpy()\n",
    "y_hat = np.argmax(y_hat, -1)"
   ]
  },
  {
   "cell_type": "code",
   "execution_count": 120,
   "id": "06ab3312",
   "metadata": {},
   "outputs": [
    {
     "ename": "IndexError",
     "evalue": "index 171153 is out of bounds for axis 0 with size 28441",
     "output_type": "error",
     "traceback": [
      "\u001b[0;31m---------------------------------------------------------------------------\u001b[0m",
      "\u001b[0;31mIndexError\u001b[0m                                Traceback (most recent call last)",
      "\u001b[0;32m<ipython-input-120-fb1895e79195>\u001b[0m in \u001b[0;36m<module>\u001b[0;34m\u001b[0m\n\u001b[0;32m----> 1\u001b[0;31m \u001b[0mclassification_report\u001b[0m\u001b[0;34m(\u001b[0m\u001b[0mtest_y\u001b[0m\u001b[0;34m,\u001b[0m \u001b[0my_hat\u001b[0m\u001b[0;34m[\u001b[0m\u001b[0mall_data\u001b[0m\u001b[0;34m.\u001b[0m\u001b[0mtest_mask\u001b[0m\u001b[0;34m]\u001b[0m\u001b[0;34m,\u001b[0m \u001b[0mdigits\u001b[0m\u001b[0;34m=\u001b[0m\u001b[0;36m4\u001b[0m\u001b[0;34m)\u001b[0m\u001b[0;34m\u001b[0m\u001b[0;34m\u001b[0m\u001b[0m\n\u001b[0m",
      "\u001b[0;31mIndexError\u001b[0m: index 171153 is out of bounds for axis 0 with size 28441"
     ]
    }
   ],
   "source": [
    "classification_report(test_y, y_hat[all_data.test_mask], digits=4)"
   ]
  },
  {
   "cell_type": "code",
   "execution_count": null,
   "id": "20c217d6",
   "metadata": {},
   "outputs": [],
   "source": []
  },
  {
   "cell_type": "code",
   "execution_count": null,
   "id": "50868b6d",
   "metadata": {},
   "outputs": [],
   "source": []
  },
  {
   "cell_type": "code",
   "execution_count": 96,
   "id": "3fbba2e2",
   "metadata": {},
   "outputs": [],
   "source": [
    "from tqdm import tqdm"
   ]
  },
  {
   "cell_type": "code",
   "execution_count": 138,
   "id": "43a1197b",
   "metadata": {},
   "outputs": [],
   "source": [
    "subgraph_loader2 = NeighborLoader(copy.copy(all_data), input_nodes=None,num_neighbors=[-1], batch_size=1024, shuffle=False)\n",
    "subgraph_loader2.data.num_nodes = all_data.num_nodes\n",
    "subgraph_loader2.data.n_id = torch.arange(all_data.num_nodes)"
   ]
  },
  {
   "cell_type": "code",
   "execution_count": 139,
   "id": "bed2801f",
   "metadata": {},
   "outputs": [],
   "source": [
    "def inferrence2(model, subgraph_loader):\n",
    "    pbar = tqdm(total=len(subgraph_loader))\n",
    "    for i, batch in enumerate(subgraph_loader):\n",
    "        batch = batch.to(device)\n",
    "        y_hat = model(batch.x.to(device), batch.edge_index.to(device))[:batch.batch_size]\n",
    "        np.save('unsw_yhat/y_hat_batch' + str(i), y_hat.detach().numpy())\n",
    "        pbar.update(1)\n",
    "    pbar.close()"
   ]
  },
  {
   "cell_type": "code",
   "execution_count": 140,
   "id": "d7112f3b",
   "metadata": {},
   "outputs": [],
   "source": [
    "def test(data, loader):\n",
    "    xs = []\n",
    "    for i in range(len(loader)):\n",
    "        y_hat = np.load('unsw_yhat/y_hat_batch' + str(i) + '.npy')\n",
    "        xs.append(y_hat)\n",
    "    y_hat = np.concatenate(xs, 0)\n",
    "    y_hat = np.argmax(y_hat, -1)\n",
    "    y = data.y.to(device)\n",
    "    test_mask = data.test_mask \n",
    "    f1 = f1_score(y[test_mask], y_hat[test_mask], average='weighted')\n",
    "    pr = precision_score(y[test_mask], y_hat[test_mask], average='weighted')\n",
    "    cr1 = classification_report(y[test_mask], y_hat[test_mask], digits=4)\n",
    "    cf = confusion_matrix(y[test_mask], y_hat[test_mask])\n",
    "    print(\"测试集结果：\")\n",
    "    print(cr1)\n",
    "    print(cf)\n",
    "    \n",
    "    train_mask = data.train_mask\n",
    "    f1 = f1_score(y[train_mask], y_hat[train_mask], average='weighted')\n",
    "    pr = precision_score(y[train_mask], y_hat[train_mask], average='weighted')\n",
    "    cr1 = classification_report(y[train_mask], y_hat[train_mask], digits=4)\n",
    "    cf = confusion_matrix(y[train_mask], y_hat[train_mask])\n",
    "    print(\"训练集结果：\")\n",
    "    print(cr1)\n",
    "    print(cf)\n",
    "    return f1, pr"
   ]
  },
  {
   "cell_type": "code",
   "execution_count": 141,
   "id": "30bd95c4",
   "metadata": {},
   "outputs": [],
   "source": [
    "device = 'cpu'"
   ]
  },
  {
   "cell_type": "code",
   "execution_count": 142,
   "id": "fc91dbc5",
   "metadata": {},
   "outputs": [],
   "source": [
    "model = model.to(device)"
   ]
  },
  {
   "cell_type": "code",
   "execution_count": 159,
   "id": "0a49c0e4",
   "metadata": {},
   "outputs": [
    {
     "name": "stderr",
     "output_type": "stream",
     "text": [
      " 55%|█████▍    | 102/186 [08:03<17:47, 12.71s/it]"
     ]
    },
    {
     "ename": "KeyboardInterrupt",
     "evalue": "",
     "output_type": "error",
     "traceback": [
      "\u001b[0;31m---------------------------------------------------------------------------\u001b[0m",
      "\u001b[0;31mKeyboardInterrupt\u001b[0m                         Traceback (most recent call last)",
      "\u001b[0;32m<ipython-input-159-4a87b21a712f>\u001b[0m in \u001b[0;36m<module>\u001b[0;34m\u001b[0m\n\u001b[0;32m----> 1\u001b[0;31m \u001b[0minferrence2\u001b[0m\u001b[0;34m(\u001b[0m\u001b[0mmodel\u001b[0m\u001b[0;34m,\u001b[0m \u001b[0msubgraph_loader2\u001b[0m\u001b[0;34m)\u001b[0m\u001b[0;34m\u001b[0m\u001b[0;34m\u001b[0m\u001b[0m\n\u001b[0m",
      "\u001b[0;32m<ipython-input-139-432df5853983>\u001b[0m in \u001b[0;36minferrence2\u001b[0;34m(model, subgraph_loader)\u001b[0m\n\u001b[1;32m      3\u001b[0m     \u001b[0;32mfor\u001b[0m \u001b[0mi\u001b[0m\u001b[0;34m,\u001b[0m \u001b[0mbatch\u001b[0m \u001b[0;32min\u001b[0m \u001b[0menumerate\u001b[0m\u001b[0;34m(\u001b[0m\u001b[0msubgraph_loader\u001b[0m\u001b[0;34m)\u001b[0m\u001b[0;34m:\u001b[0m\u001b[0;34m\u001b[0m\u001b[0;34m\u001b[0m\u001b[0m\n\u001b[1;32m      4\u001b[0m         \u001b[0mbatch\u001b[0m \u001b[0;34m=\u001b[0m \u001b[0mbatch\u001b[0m\u001b[0;34m.\u001b[0m\u001b[0mto\u001b[0m\u001b[0;34m(\u001b[0m\u001b[0mdevice\u001b[0m\u001b[0;34m)\u001b[0m\u001b[0;34m\u001b[0m\u001b[0;34m\u001b[0m\u001b[0m\n\u001b[0;32m----> 5\u001b[0;31m         \u001b[0my_hat\u001b[0m \u001b[0;34m=\u001b[0m \u001b[0mmodel\u001b[0m\u001b[0;34m(\u001b[0m\u001b[0mbatch\u001b[0m\u001b[0;34m.\u001b[0m\u001b[0mx\u001b[0m\u001b[0;34m.\u001b[0m\u001b[0mto\u001b[0m\u001b[0;34m(\u001b[0m\u001b[0mdevice\u001b[0m\u001b[0;34m)\u001b[0m\u001b[0;34m,\u001b[0m \u001b[0mbatch\u001b[0m\u001b[0;34m.\u001b[0m\u001b[0medge_index\u001b[0m\u001b[0;34m.\u001b[0m\u001b[0mto\u001b[0m\u001b[0;34m(\u001b[0m\u001b[0mdevice\u001b[0m\u001b[0;34m)\u001b[0m\u001b[0;34m)\u001b[0m\u001b[0;34m[\u001b[0m\u001b[0;34m:\u001b[0m\u001b[0mbatch\u001b[0m\u001b[0;34m.\u001b[0m\u001b[0mbatch_size\u001b[0m\u001b[0;34m]\u001b[0m\u001b[0;34m\u001b[0m\u001b[0;34m\u001b[0m\u001b[0m\n\u001b[0m\u001b[1;32m      6\u001b[0m         \u001b[0mnp\u001b[0m\u001b[0;34m.\u001b[0m\u001b[0msave\u001b[0m\u001b[0;34m(\u001b[0m\u001b[0;34m'unsw_yhat/y_hat_batch'\u001b[0m \u001b[0;34m+\u001b[0m \u001b[0mstr\u001b[0m\u001b[0;34m(\u001b[0m\u001b[0mi\u001b[0m\u001b[0;34m)\u001b[0m\u001b[0;34m,\u001b[0m \u001b[0my_hat\u001b[0m\u001b[0;34m.\u001b[0m\u001b[0mdetach\u001b[0m\u001b[0;34m(\u001b[0m\u001b[0;34m)\u001b[0m\u001b[0;34m.\u001b[0m\u001b[0mnumpy\u001b[0m\u001b[0;34m(\u001b[0m\u001b[0;34m)\u001b[0m\u001b[0;34m)\u001b[0m\u001b[0;34m\u001b[0m\u001b[0;34m\u001b[0m\u001b[0m\n\u001b[1;32m      7\u001b[0m         \u001b[0mpbar\u001b[0m\u001b[0;34m.\u001b[0m\u001b[0mupdate\u001b[0m\u001b[0;34m(\u001b[0m\u001b[0;36m1\u001b[0m\u001b[0;34m)\u001b[0m\u001b[0;34m\u001b[0m\u001b[0;34m\u001b[0m\u001b[0m\n",
      "\u001b[0;32m~/anaconda3/envs/densegat2/lib/python3.6/site-packages/torch/nn/modules/module.py\u001b[0m in \u001b[0;36m_call_impl\u001b[0;34m(self, *input, **kwargs)\u001b[0m\n\u001b[1;32m   1100\u001b[0m         if not (self._backward_hooks or self._forward_hooks or self._forward_pre_hooks or _global_backward_hooks\n\u001b[1;32m   1101\u001b[0m                 or _global_forward_hooks or _global_forward_pre_hooks):\n\u001b[0;32m-> 1102\u001b[0;31m             \u001b[0;32mreturn\u001b[0m \u001b[0mforward_call\u001b[0m\u001b[0;34m(\u001b[0m\u001b[0;34m*\u001b[0m\u001b[0minput\u001b[0m\u001b[0;34m,\u001b[0m \u001b[0;34m**\u001b[0m\u001b[0mkwargs\u001b[0m\u001b[0;34m)\u001b[0m\u001b[0;34m\u001b[0m\u001b[0;34m\u001b[0m\u001b[0m\n\u001b[0m\u001b[1;32m   1103\u001b[0m         \u001b[0;31m# Do not call functions when jit is used\u001b[0m\u001b[0;34m\u001b[0m\u001b[0;34m\u001b[0m\u001b[0;34m\u001b[0m\u001b[0m\n\u001b[1;32m   1104\u001b[0m         \u001b[0mfull_backward_hooks\u001b[0m\u001b[0;34m,\u001b[0m \u001b[0mnon_full_backward_hooks\u001b[0m \u001b[0;34m=\u001b[0m \u001b[0;34m[\u001b[0m\u001b[0;34m]\u001b[0m\u001b[0;34m,\u001b[0m \u001b[0;34m[\u001b[0m\u001b[0;34m]\u001b[0m\u001b[0;34m\u001b[0m\u001b[0;34m\u001b[0m\u001b[0m\n",
      "\u001b[0;32m<ipython-input-122-408e37ca4035>\u001b[0m in \u001b[0;36mforward\u001b[0;34m(self, x, edge_index)\u001b[0m\n\u001b[1;32m     59\u001b[0m             \u001b[0;31m# block layer\u001b[0m\u001b[0;34m\u001b[0m\u001b[0;34m\u001b[0m\u001b[0;34m\u001b[0m\u001b[0m\n\u001b[1;32m     60\u001b[0m             \u001b[0;32mfor\u001b[0m \u001b[0mlayer\u001b[0m \u001b[0;32min\u001b[0m \u001b[0mself\u001b[0m\u001b[0;34m.\u001b[0m\u001b[0mblock_layers\u001b[0m\u001b[0;34m[\u001b[0m\u001b[0mi\u001b[0m\u001b[0;34m]\u001b[0m\u001b[0;34m:\u001b[0m\u001b[0;34m\u001b[0m\u001b[0;34m\u001b[0m\u001b[0m\n\u001b[0;32m---> 61\u001b[0;31m                 \u001b[0mx\u001b[0m \u001b[0;34m=\u001b[0m \u001b[0mlayer\u001b[0m\u001b[0;34m(\u001b[0m\u001b[0mx\u001b[0m\u001b[0;34m,\u001b[0m \u001b[0medge_index\u001b[0m\u001b[0;34m)\u001b[0m\u001b[0;34m\u001b[0m\u001b[0;34m\u001b[0m\u001b[0m\n\u001b[0m\u001b[1;32m     62\u001b[0m             \u001b[0;31m# transition layer\u001b[0m\u001b[0;34m\u001b[0m\u001b[0;34m\u001b[0m\u001b[0;34m\u001b[0m\u001b[0m\n\u001b[1;32m     63\u001b[0m             \u001b[0mx\u001b[0m \u001b[0;34m=\u001b[0m \u001b[0mself\u001b[0m\u001b[0;34m.\u001b[0m\u001b[0mtransition_layers\u001b[0m\u001b[0;34m[\u001b[0m\u001b[0mi\u001b[0m\u001b[0;34m]\u001b[0m\u001b[0;34m(\u001b[0m\u001b[0mx\u001b[0m\u001b[0;34m)\u001b[0m\u001b[0;34m\u001b[0m\u001b[0;34m\u001b[0m\u001b[0m\n",
      "\u001b[0;32m~/anaconda3/envs/densegat2/lib/python3.6/site-packages/torch/nn/modules/module.py\u001b[0m in \u001b[0;36m_call_impl\u001b[0;34m(self, *input, **kwargs)\u001b[0m\n\u001b[1;32m   1100\u001b[0m         if not (self._backward_hooks or self._forward_hooks or self._forward_pre_hooks or _global_backward_hooks\n\u001b[1;32m   1101\u001b[0m                 or _global_forward_hooks or _global_forward_pre_hooks):\n\u001b[0;32m-> 1102\u001b[0;31m             \u001b[0;32mreturn\u001b[0m \u001b[0mforward_call\u001b[0m\u001b[0;34m(\u001b[0m\u001b[0;34m*\u001b[0m\u001b[0minput\u001b[0m\u001b[0;34m,\u001b[0m \u001b[0;34m**\u001b[0m\u001b[0mkwargs\u001b[0m\u001b[0;34m)\u001b[0m\u001b[0;34m\u001b[0m\u001b[0;34m\u001b[0m\u001b[0m\n\u001b[0m\u001b[1;32m   1103\u001b[0m         \u001b[0;31m# Do not call functions when jit is used\u001b[0m\u001b[0;34m\u001b[0m\u001b[0;34m\u001b[0m\u001b[0;34m\u001b[0m\u001b[0m\n\u001b[1;32m   1104\u001b[0m         \u001b[0mfull_backward_hooks\u001b[0m\u001b[0;34m,\u001b[0m \u001b[0mnon_full_backward_hooks\u001b[0m \u001b[0;34m=\u001b[0m \u001b[0;34m[\u001b[0m\u001b[0;34m]\u001b[0m\u001b[0;34m,\u001b[0m \u001b[0;34m[\u001b[0m\u001b[0;34m]\u001b[0m\u001b[0;34m\u001b[0m\u001b[0;34m\u001b[0m\u001b[0m\n",
      "\u001b[0;32m~/anaconda3/envs/densegat2/lib/python3.6/site-packages/torch_geometric/nn/models/deepgcn.py\u001b[0m in \u001b[0;36mforward\u001b[0;34m(self, *args, **kwargs)\u001b[0m\n\u001b[1;32m     88\u001b[0m                 \u001b[0mh\u001b[0m \u001b[0;34m=\u001b[0m \u001b[0mcheckpoint\u001b[0m\u001b[0;34m(\u001b[0m\u001b[0mself\u001b[0m\u001b[0;34m.\u001b[0m\u001b[0mconv\u001b[0m\u001b[0;34m,\u001b[0m \u001b[0mx\u001b[0m\u001b[0;34m,\u001b[0m \u001b[0;34m*\u001b[0m\u001b[0margs\u001b[0m\u001b[0;34m,\u001b[0m \u001b[0;34m**\u001b[0m\u001b[0mkwargs\u001b[0m\u001b[0;34m)\u001b[0m\u001b[0;34m\u001b[0m\u001b[0;34m\u001b[0m\u001b[0m\n\u001b[1;32m     89\u001b[0m             \u001b[0;32melse\u001b[0m\u001b[0;34m:\u001b[0m\u001b[0;34m\u001b[0m\u001b[0;34m\u001b[0m\u001b[0m\n\u001b[0;32m---> 90\u001b[0;31m                 \u001b[0mh\u001b[0m \u001b[0;34m=\u001b[0m \u001b[0mself\u001b[0m\u001b[0;34m.\u001b[0m\u001b[0mconv\u001b[0m\u001b[0;34m(\u001b[0m\u001b[0mx\u001b[0m\u001b[0;34m,\u001b[0m \u001b[0;34m*\u001b[0m\u001b[0margs\u001b[0m\u001b[0;34m,\u001b[0m \u001b[0;34m**\u001b[0m\u001b[0mkwargs\u001b[0m\u001b[0;34m)\u001b[0m\u001b[0;34m\u001b[0m\u001b[0;34m\u001b[0m\u001b[0m\n\u001b[0m\u001b[1;32m     91\u001b[0m             \u001b[0;32mif\u001b[0m \u001b[0mself\u001b[0m\u001b[0;34m.\u001b[0m\u001b[0mnorm\u001b[0m \u001b[0;32mis\u001b[0m \u001b[0;32mnot\u001b[0m \u001b[0;32mNone\u001b[0m\u001b[0;34m:\u001b[0m\u001b[0;34m\u001b[0m\u001b[0;34m\u001b[0m\u001b[0m\n\u001b[1;32m     92\u001b[0m                 \u001b[0mh\u001b[0m \u001b[0;34m=\u001b[0m \u001b[0mself\u001b[0m\u001b[0;34m.\u001b[0m\u001b[0mnorm\u001b[0m\u001b[0;34m(\u001b[0m\u001b[0mh\u001b[0m\u001b[0;34m)\u001b[0m\u001b[0;34m\u001b[0m\u001b[0;34m\u001b[0m\u001b[0m\n",
      "\u001b[0;32m~/anaconda3/envs/densegat2/lib/python3.6/site-packages/torch/nn/modules/module.py\u001b[0m in \u001b[0;36m_call_impl\u001b[0;34m(self, *input, **kwargs)\u001b[0m\n\u001b[1;32m   1100\u001b[0m         if not (self._backward_hooks or self._forward_hooks or self._forward_pre_hooks or _global_backward_hooks\n\u001b[1;32m   1101\u001b[0m                 or _global_forward_hooks or _global_forward_pre_hooks):\n\u001b[0;32m-> 1102\u001b[0;31m             \u001b[0;32mreturn\u001b[0m \u001b[0mforward_call\u001b[0m\u001b[0;34m(\u001b[0m\u001b[0;34m*\u001b[0m\u001b[0minput\u001b[0m\u001b[0;34m,\u001b[0m \u001b[0;34m**\u001b[0m\u001b[0mkwargs\u001b[0m\u001b[0;34m)\u001b[0m\u001b[0;34m\u001b[0m\u001b[0;34m\u001b[0m\u001b[0m\n\u001b[0m\u001b[1;32m   1103\u001b[0m         \u001b[0;31m# Do not call functions when jit is used\u001b[0m\u001b[0;34m\u001b[0m\u001b[0;34m\u001b[0m\u001b[0;34m\u001b[0m\u001b[0m\n\u001b[1;32m   1104\u001b[0m         \u001b[0mfull_backward_hooks\u001b[0m\u001b[0;34m,\u001b[0m \u001b[0mnon_full_backward_hooks\u001b[0m \u001b[0;34m=\u001b[0m \u001b[0;34m[\u001b[0m\u001b[0;34m]\u001b[0m\u001b[0;34m,\u001b[0m \u001b[0;34m[\u001b[0m\u001b[0;34m]\u001b[0m\u001b[0;34m\u001b[0m\u001b[0;34m\u001b[0m\u001b[0m\n",
      "\u001b[0;32m~/anaconda3/envs/densegat2/lib/python3.6/site-packages/torch_geometric/nn/conv/gat_conv.py\u001b[0m in \u001b[0;36mforward\u001b[0;34m(self, x, edge_index, edge_attr, size, return_attention_weights)\u001b[0m\n\u001b[1;32m    240\u001b[0m         \u001b[0;31m# propagate_type: (x: OptPairTensor, alpha: OptPairTensor, edge_attr: OptTensor)  # noqa\u001b[0m\u001b[0;34m\u001b[0m\u001b[0;34m\u001b[0m\u001b[0;34m\u001b[0m\u001b[0m\n\u001b[1;32m    241\u001b[0m         out = self.propagate(edge_index, x=x, alpha=alpha, edge_attr=edge_attr,\n\u001b[0;32m--> 242\u001b[0;31m                              size=size)\n\u001b[0m\u001b[1;32m    243\u001b[0m \u001b[0;34m\u001b[0m\u001b[0m\n\u001b[1;32m    244\u001b[0m         \u001b[0malpha\u001b[0m \u001b[0;34m=\u001b[0m \u001b[0mself\u001b[0m\u001b[0;34m.\u001b[0m\u001b[0m_alpha\u001b[0m\u001b[0;34m\u001b[0m\u001b[0;34m\u001b[0m\u001b[0m\n",
      "\u001b[0;32m~/anaconda3/envs/densegat2/lib/python3.6/site-packages/torch_geometric/nn/conv/message_passing.py\u001b[0m in \u001b[0;36mpropagate\u001b[0;34m(self, edge_index, size, **kwargs)\u001b[0m\n\u001b[1;32m    340\u001b[0m                     \u001b[0;32mif\u001b[0m \u001b[0mres\u001b[0m \u001b[0;32mis\u001b[0m \u001b[0;32mnot\u001b[0m \u001b[0;32mNone\u001b[0m\u001b[0;34m:\u001b[0m\u001b[0;34m\u001b[0m\u001b[0;34m\u001b[0m\u001b[0m\n\u001b[1;32m    341\u001b[0m                         \u001b[0maggr_kwargs\u001b[0m \u001b[0;34m=\u001b[0m \u001b[0mres\u001b[0m\u001b[0;34m[\u001b[0m\u001b[0;36m0\u001b[0m\u001b[0;34m]\u001b[0m \u001b[0;32mif\u001b[0m \u001b[0misinstance\u001b[0m\u001b[0;34m(\u001b[0m\u001b[0mres\u001b[0m\u001b[0;34m,\u001b[0m \u001b[0mtuple\u001b[0m\u001b[0;34m)\u001b[0m \u001b[0;32melse\u001b[0m \u001b[0mres\u001b[0m\u001b[0;34m\u001b[0m\u001b[0;34m\u001b[0m\u001b[0m\n\u001b[0;32m--> 342\u001b[0;31m                 \u001b[0mout\u001b[0m \u001b[0;34m=\u001b[0m \u001b[0mself\u001b[0m\u001b[0;34m.\u001b[0m\u001b[0maggregate\u001b[0m\u001b[0;34m(\u001b[0m\u001b[0mout\u001b[0m\u001b[0;34m,\u001b[0m \u001b[0;34m**\u001b[0m\u001b[0maggr_kwargs\u001b[0m\u001b[0;34m)\u001b[0m\u001b[0;34m\u001b[0m\u001b[0;34m\u001b[0m\u001b[0m\n\u001b[0m\u001b[1;32m    343\u001b[0m                 \u001b[0;32mfor\u001b[0m \u001b[0mhook\u001b[0m \u001b[0;32min\u001b[0m \u001b[0mself\u001b[0m\u001b[0;34m.\u001b[0m\u001b[0m_aggregate_forward_hooks\u001b[0m\u001b[0;34m.\u001b[0m\u001b[0mvalues\u001b[0m\u001b[0;34m(\u001b[0m\u001b[0;34m)\u001b[0m\u001b[0;34m:\u001b[0m\u001b[0;34m\u001b[0m\u001b[0;34m\u001b[0m\u001b[0m\n\u001b[1;32m    344\u001b[0m                     \u001b[0mres\u001b[0m \u001b[0;34m=\u001b[0m \u001b[0mhook\u001b[0m\u001b[0;34m(\u001b[0m\u001b[0mself\u001b[0m\u001b[0;34m,\u001b[0m \u001b[0;34m(\u001b[0m\u001b[0maggr_kwargs\u001b[0m\u001b[0;34m,\u001b[0m \u001b[0;34m)\u001b[0m\u001b[0;34m,\u001b[0m \u001b[0mout\u001b[0m\u001b[0;34m)\u001b[0m\u001b[0;34m\u001b[0m\u001b[0;34m\u001b[0m\u001b[0m\n",
      "\u001b[0;32m~/anaconda3/envs/densegat2/lib/python3.6/site-packages/torch_geometric/nn/conv/message_passing.py\u001b[0m in \u001b[0;36maggregate\u001b[0;34m(self, inputs, index, ptr, dim_size)\u001b[0m\n\u001b[1;32m    424\u001b[0m         \u001b[0;32melse\u001b[0m\u001b[0;34m:\u001b[0m\u001b[0;34m\u001b[0m\u001b[0;34m\u001b[0m\u001b[0m\n\u001b[1;32m    425\u001b[0m             return scatter(inputs, index, dim=self.node_dim, dim_size=dim_size,\n\u001b[0;32m--> 426\u001b[0;31m                            reduce=self.aggr)\n\u001b[0m\u001b[1;32m    427\u001b[0m \u001b[0;34m\u001b[0m\u001b[0m\n\u001b[1;32m    428\u001b[0m     \u001b[0;32mdef\u001b[0m \u001b[0mmessage_and_aggregate\u001b[0m\u001b[0;34m(\u001b[0m\u001b[0mself\u001b[0m\u001b[0;34m,\u001b[0m \u001b[0madj_t\u001b[0m\u001b[0;34m:\u001b[0m \u001b[0mSparseTensor\u001b[0m\u001b[0;34m)\u001b[0m \u001b[0;34m->\u001b[0m \u001b[0mTensor\u001b[0m\u001b[0;34m:\u001b[0m\u001b[0;34m\u001b[0m\u001b[0;34m\u001b[0m\u001b[0m\n",
      "\u001b[0;32m~/anaconda3/envs/densegat2/lib/python3.6/site-packages/torch_scatter/scatter.py\u001b[0m in \u001b[0;36mscatter\u001b[0;34m(src, index, dim, out, dim_size, reduce)\u001b[0m\n\u001b[1;32m    158\u001b[0m         \u001b[0;32mreturn\u001b[0m \u001b[0mscatter_min\u001b[0m\u001b[0;34m(\u001b[0m\u001b[0msrc\u001b[0m\u001b[0;34m,\u001b[0m \u001b[0mindex\u001b[0m\u001b[0;34m,\u001b[0m \u001b[0mdim\u001b[0m\u001b[0;34m,\u001b[0m \u001b[0mout\u001b[0m\u001b[0;34m,\u001b[0m \u001b[0mdim_size\u001b[0m\u001b[0;34m)\u001b[0m\u001b[0;34m[\u001b[0m\u001b[0;36m0\u001b[0m\u001b[0;34m]\u001b[0m\u001b[0;34m\u001b[0m\u001b[0;34m\u001b[0m\u001b[0m\n\u001b[1;32m    159\u001b[0m     \u001b[0;32melif\u001b[0m \u001b[0mreduce\u001b[0m \u001b[0;34m==\u001b[0m \u001b[0;34m'max'\u001b[0m\u001b[0;34m:\u001b[0m\u001b[0;34m\u001b[0m\u001b[0;34m\u001b[0m\u001b[0m\n\u001b[0;32m--> 160\u001b[0;31m         \u001b[0;32mreturn\u001b[0m \u001b[0mscatter_max\u001b[0m\u001b[0;34m(\u001b[0m\u001b[0msrc\u001b[0m\u001b[0;34m,\u001b[0m \u001b[0mindex\u001b[0m\u001b[0;34m,\u001b[0m \u001b[0mdim\u001b[0m\u001b[0;34m,\u001b[0m \u001b[0mout\u001b[0m\u001b[0;34m,\u001b[0m \u001b[0mdim_size\u001b[0m\u001b[0;34m)\u001b[0m\u001b[0;34m[\u001b[0m\u001b[0;36m0\u001b[0m\u001b[0;34m]\u001b[0m\u001b[0;34m\u001b[0m\u001b[0;34m\u001b[0m\u001b[0m\n\u001b[0m\u001b[1;32m    161\u001b[0m     \u001b[0;32melse\u001b[0m\u001b[0;34m:\u001b[0m\u001b[0;34m\u001b[0m\u001b[0;34m\u001b[0m\u001b[0m\n\u001b[1;32m    162\u001b[0m         \u001b[0;32mraise\u001b[0m \u001b[0mValueError\u001b[0m\u001b[0;34m\u001b[0m\u001b[0;34m\u001b[0m\u001b[0m\n",
      "\u001b[0;32m~/anaconda3/envs/densegat2/lib/python3.6/site-packages/torch_scatter/scatter.py\u001b[0m in \u001b[0;36mscatter_max\u001b[0;34m(src, index, dim, out, dim_size)\u001b[0m\n\u001b[1;32m     70\u001b[0m         \u001b[0mout\u001b[0m\u001b[0;34m:\u001b[0m \u001b[0mOptional\u001b[0m\u001b[0;34m[\u001b[0m\u001b[0mtorch\u001b[0m\u001b[0;34m.\u001b[0m\u001b[0mTensor\u001b[0m\u001b[0;34m]\u001b[0m \u001b[0;34m=\u001b[0m \u001b[0;32mNone\u001b[0m\u001b[0;34m,\u001b[0m\u001b[0;34m\u001b[0m\u001b[0;34m\u001b[0m\u001b[0m\n\u001b[1;32m     71\u001b[0m         dim_size: Optional[int] = None) -> Tuple[torch.Tensor, torch.Tensor]:\n\u001b[0;32m---> 72\u001b[0;31m     \u001b[0;32mreturn\u001b[0m \u001b[0mtorch\u001b[0m\u001b[0;34m.\u001b[0m\u001b[0mops\u001b[0m\u001b[0;34m.\u001b[0m\u001b[0mtorch_scatter\u001b[0m\u001b[0;34m.\u001b[0m\u001b[0mscatter_max\u001b[0m\u001b[0;34m(\u001b[0m\u001b[0msrc\u001b[0m\u001b[0;34m,\u001b[0m \u001b[0mindex\u001b[0m\u001b[0;34m,\u001b[0m \u001b[0mdim\u001b[0m\u001b[0;34m,\u001b[0m \u001b[0mout\u001b[0m\u001b[0;34m,\u001b[0m \u001b[0mdim_size\u001b[0m\u001b[0;34m)\u001b[0m\u001b[0;34m\u001b[0m\u001b[0;34m\u001b[0m\u001b[0m\n\u001b[0m\u001b[1;32m     73\u001b[0m \u001b[0;34m\u001b[0m\u001b[0m\n\u001b[1;32m     74\u001b[0m \u001b[0;34m\u001b[0m\u001b[0m\n",
      "\u001b[0;31mKeyboardInterrupt\u001b[0m: "
     ]
    }
   ],
   "source": [
    "inferrence2(model, subgraph_loader2)"
   ]
  },
  {
   "cell_type": "code",
   "execution_count": null,
   "id": "68367c6a",
   "metadata": {},
   "outputs": [],
   "source": [
    "test(all_data, subgraph_loader2)"
   ]
  },
  {
   "cell_type": "code",
   "execution_count": null,
   "id": "a222a09e",
   "metadata": {},
   "outputs": [],
   "source": []
  },
  {
   "cell_type": "code",
   "execution_count": 135,
   "id": "3ba6d0ff",
   "metadata": {},
   "outputs": [],
   "source": [
    "all_data_label = all_data.y.numpy()"
   ]
  },
  {
   "cell_type": "code",
   "execution_count": 136,
   "id": "eecc3fed",
   "metadata": {},
   "outputs": [],
   "source": [
    "all_data_label[all_data_label != 0] = 1\n",
    "all_data.y = torch.LongTensor(all_data_label)"
   ]
  },
  {
   "cell_type": "code",
   "execution_count": 109,
   "id": "25f5f10e",
   "metadata": {},
   "outputs": [
    {
     "data": {
      "text/plain": [
       "Data(x=[189603, 78], edge_index=[2, 108609698], y=[189603], num_nodes=189603, train_mask=[161162], test_mask=[28441])"
      ]
     },
     "execution_count": 109,
     "metadata": {},
     "output_type": "execute_result"
    }
   ],
   "source": [
    "all_data"
   ]
  },
  {
   "cell_type": "code",
   "execution_count": 110,
   "id": "ade40f5e",
   "metadata": {},
   "outputs": [],
   "source": [
    "subgraph_loader2 = NeighborLoader(all_data, input_nodes=all_data.test_mask,\n",
    "                                 num_neighbors=hop, batch_size=500, shuffle=False)"
   ]
  },
  {
   "cell_type": "code",
   "execution_count": null,
   "id": "4ca1f004",
   "metadata": {},
   "outputs": [],
   "source": []
  },
  {
   "cell_type": "code",
   "execution_count": null,
   "id": "990ab479",
   "metadata": {},
   "outputs": [],
   "source": []
  },
  {
   "cell_type": "code",
   "execution_count": null,
   "id": "75eee73d",
   "metadata": {},
   "outputs": [],
   "source": []
  },
  {
   "cell_type": "code",
   "execution_count": 73,
   "id": "5419f7b7",
   "metadata": {},
   "outputs": [],
   "source": [
    "train_data = train_data.to('cpu')\n",
    "test_data = test_data.to('cpu')"
   ]
  },
  {
   "cell_type": "code",
   "execution_count": 74,
   "id": "1ff233d9",
   "metadata": {},
   "outputs": [],
   "source": [
    "x_train = train_data.x.numpy()\n",
    "y_train = train_data.y.numpy()"
   ]
  },
  {
   "cell_type": "code",
   "execution_count": 75,
   "id": "808b469f",
   "metadata": {},
   "outputs": [],
   "source": [
    "x_test = test_data.x.numpy()\n",
    "y_test = test_data.y.numpy()"
   ]
  },
  {
   "cell_type": "code",
   "execution_count": 76,
   "id": "721cbbc0",
   "metadata": {},
   "outputs": [],
   "source": [
    "from catboost import CatBoostClassifier"
   ]
  },
  {
   "cell_type": "code",
   "execution_count": 77,
   "id": "ecb99a86",
   "metadata": {},
   "outputs": [],
   "source": [
    "from sklearn.ensemble._forest import RandomForestClassifier"
   ]
  },
  {
   "cell_type": "code",
   "execution_count": 90,
   "id": "f458dca7",
   "metadata": {},
   "outputs": [],
   "source": [
    "cbc = CatBoostClassifier(n_estimators=100)"
   ]
  },
  {
   "cell_type": "code",
   "execution_count": 91,
   "id": "bc670e09",
   "metadata": {},
   "outputs": [
    {
     "name": "stdout",
     "output_type": "stream",
     "text": [
      "Learning rate set to 0.5\n",
      "0:\tlearn: 0.4805458\ttotal: 55ms\tremaining: 5.45s\n",
      "1:\tlearn: 0.3225481\ttotal: 87.9ms\tremaining: 4.31s\n",
      "2:\tlearn: 0.2275914\ttotal: 121ms\tremaining: 3.91s\n",
      "3:\tlearn: 0.1780775\ttotal: 154ms\tremaining: 3.69s\n",
      "4:\tlearn: 0.1261871\ttotal: 190ms\tremaining: 3.61s\n",
      "5:\tlearn: 0.1100746\ttotal: 220ms\tremaining: 3.45s\n",
      "6:\tlearn: 0.0897102\ttotal: 252ms\tremaining: 3.34s\n",
      "7:\tlearn: 0.0745446\ttotal: 287ms\tremaining: 3.3s\n",
      "8:\tlearn: 0.0665954\ttotal: 321ms\tremaining: 3.24s\n",
      "9:\tlearn: 0.0586550\ttotal: 357ms\tremaining: 3.21s\n",
      "10:\tlearn: 0.0536122\ttotal: 387ms\tremaining: 3.13s\n",
      "11:\tlearn: 0.0494401\ttotal: 428ms\tremaining: 3.14s\n",
      "12:\tlearn: 0.0446124\ttotal: 465ms\tremaining: 3.11s\n",
      "13:\tlearn: 0.0434772\ttotal: 492ms\tremaining: 3.02s\n",
      "14:\tlearn: 0.0411160\ttotal: 526ms\tremaining: 2.98s\n",
      "15:\tlearn: 0.0390528\ttotal: 555ms\tremaining: 2.91s\n",
      "16:\tlearn: 0.0379762\ttotal: 585ms\tremaining: 2.86s\n",
      "17:\tlearn: 0.0357098\ttotal: 614ms\tremaining: 2.79s\n",
      "18:\tlearn: 0.0334713\ttotal: 646ms\tremaining: 2.75s\n",
      "19:\tlearn: 0.0319717\ttotal: 678ms\tremaining: 2.71s\n",
      "20:\tlearn: 0.0300995\ttotal: 711ms\tremaining: 2.67s\n",
      "21:\tlearn: 0.0296231\ttotal: 740ms\tremaining: 2.62s\n",
      "22:\tlearn: 0.0285910\ttotal: 773ms\tremaining: 2.59s\n",
      "23:\tlearn: 0.0277417\ttotal: 800ms\tremaining: 2.53s\n",
      "24:\tlearn: 0.0269406\ttotal: 828ms\tremaining: 2.48s\n",
      "25:\tlearn: 0.0262116\ttotal: 860ms\tremaining: 2.45s\n",
      "26:\tlearn: 0.0256581\ttotal: 891ms\tremaining: 2.41s\n",
      "27:\tlearn: 0.0250848\ttotal: 919ms\tremaining: 2.36s\n",
      "28:\tlearn: 0.0235606\ttotal: 951ms\tremaining: 2.33s\n",
      "29:\tlearn: 0.0233724\ttotal: 978ms\tremaining: 2.28s\n",
      "30:\tlearn: 0.0228936\ttotal: 1.01s\tremaining: 2.24s\n",
      "31:\tlearn: 0.0219604\ttotal: 1.04s\tremaining: 2.21s\n",
      "32:\tlearn: 0.0209287\ttotal: 1.08s\tremaining: 2.19s\n",
      "33:\tlearn: 0.0202780\ttotal: 1.11s\tremaining: 2.15s\n",
      "34:\tlearn: 0.0200038\ttotal: 1.14s\tremaining: 2.11s\n",
      "35:\tlearn: 0.0192852\ttotal: 1.17s\tremaining: 2.08s\n",
      "36:\tlearn: 0.0191385\ttotal: 1.19s\tremaining: 2.03s\n",
      "37:\tlearn: 0.0186846\ttotal: 1.23s\tremaining: 2s\n",
      "38:\tlearn: 0.0183574\ttotal: 1.25s\tremaining: 1.96s\n",
      "39:\tlearn: 0.0179263\ttotal: 1.28s\tremaining: 1.93s\n",
      "40:\tlearn: 0.0176212\ttotal: 1.31s\tremaining: 1.89s\n",
      "41:\tlearn: 0.0171803\ttotal: 1.35s\tremaining: 1.86s\n",
      "42:\tlearn: 0.0168918\ttotal: 1.38s\tremaining: 1.83s\n",
      "43:\tlearn: 0.0161302\ttotal: 1.41s\tremaining: 1.8s\n",
      "44:\tlearn: 0.0156559\ttotal: 1.44s\tremaining: 1.76s\n",
      "45:\tlearn: 0.0154449\ttotal: 1.47s\tremaining: 1.73s\n",
      "46:\tlearn: 0.0152719\ttotal: 1.5s\tremaining: 1.69s\n",
      "47:\tlearn: 0.0148754\ttotal: 1.53s\tremaining: 1.66s\n",
      "48:\tlearn: 0.0145870\ttotal: 1.56s\tremaining: 1.63s\n",
      "49:\tlearn: 0.0145323\ttotal: 1.59s\tremaining: 1.59s\n",
      "50:\tlearn: 0.0144368\ttotal: 1.62s\tremaining: 1.56s\n",
      "51:\tlearn: 0.0143171\ttotal: 1.65s\tremaining: 1.52s\n",
      "52:\tlearn: 0.0139345\ttotal: 1.69s\tremaining: 1.49s\n",
      "53:\tlearn: 0.0138489\ttotal: 1.71s\tremaining: 1.46s\n",
      "54:\tlearn: 0.0136396\ttotal: 1.75s\tremaining: 1.43s\n",
      "55:\tlearn: 0.0134880\ttotal: 1.78s\tremaining: 1.4s\n",
      "56:\tlearn: 0.0134157\ttotal: 1.8s\tremaining: 1.36s\n",
      "57:\tlearn: 0.0133244\ttotal: 1.83s\tremaining: 1.33s\n",
      "58:\tlearn: 0.0131619\ttotal: 1.86s\tremaining: 1.29s\n",
      "59:\tlearn: 0.0130113\ttotal: 1.89s\tremaining: 1.26s\n",
      "60:\tlearn: 0.0128069\ttotal: 1.93s\tremaining: 1.23s\n",
      "61:\tlearn: 0.0124870\ttotal: 1.97s\tremaining: 1.21s\n",
      "62:\tlearn: 0.0123165\ttotal: 2s\tremaining: 1.18s\n",
      "63:\tlearn: 0.0122843\ttotal: 2.03s\tremaining: 1.14s\n",
      "64:\tlearn: 0.0121027\ttotal: 2.06s\tremaining: 1.11s\n",
      "65:\tlearn: 0.0119516\ttotal: 2.09s\tremaining: 1.08s\n",
      "66:\tlearn: 0.0118390\ttotal: 2.12s\tremaining: 1.04s\n",
      "67:\tlearn: 0.0118207\ttotal: 2.15s\tremaining: 1.01s\n",
      "68:\tlearn: 0.0116767\ttotal: 2.18s\tremaining: 979ms\n",
      "69:\tlearn: 0.0116590\ttotal: 2.21s\tremaining: 946ms\n",
      "70:\tlearn: 0.0113757\ttotal: 2.24s\tremaining: 914ms\n",
      "71:\tlearn: 0.0113256\ttotal: 2.27s\tremaining: 882ms\n",
      "72:\tlearn: 0.0113149\ttotal: 2.29s\tremaining: 848ms\n",
      "73:\tlearn: 0.0112841\ttotal: 2.32s\tremaining: 815ms\n",
      "74:\tlearn: 0.0112085\ttotal: 2.35s\tremaining: 783ms\n",
      "75:\tlearn: 0.0111667\ttotal: 2.38s\tremaining: 751ms\n",
      "76:\tlearn: 0.0109876\ttotal: 2.41s\tremaining: 720ms\n",
      "77:\tlearn: 0.0107851\ttotal: 2.44s\tremaining: 689ms\n",
      "78:\tlearn: 0.0106332\ttotal: 2.47s\tremaining: 657ms\n",
      "79:\tlearn: 0.0106308\ttotal: 2.5s\tremaining: 624ms\n",
      "80:\tlearn: 0.0105445\ttotal: 2.53s\tremaining: 593ms\n",
      "81:\tlearn: 0.0104527\ttotal: 2.56s\tremaining: 561ms\n",
      "82:\tlearn: 0.0103518\ttotal: 2.59s\tremaining: 530ms\n",
      "83:\tlearn: 0.0102941\ttotal: 2.62s\tremaining: 499ms\n",
      "84:\tlearn: 0.0102909\ttotal: 2.65s\tremaining: 467ms\n",
      "85:\tlearn: 0.0102352\ttotal: 2.68s\tremaining: 436ms\n",
      "86:\tlearn: 0.0100710\ttotal: 2.71s\tremaining: 405ms\n",
      "87:\tlearn: 0.0100154\ttotal: 2.74s\tremaining: 374ms\n",
      "88:\tlearn: 0.0099523\ttotal: 2.77s\tremaining: 343ms\n",
      "89:\tlearn: 0.0098880\ttotal: 2.8s\tremaining: 311ms\n",
      "90:\tlearn: 0.0098451\ttotal: 2.83s\tremaining: 280ms\n",
      "91:\tlearn: 0.0098081\ttotal: 2.86s\tremaining: 249ms\n",
      "92:\tlearn: 0.0097478\ttotal: 2.89s\tremaining: 218ms\n",
      "93:\tlearn: 0.0096590\ttotal: 2.93s\tremaining: 187ms\n",
      "94:\tlearn: 0.0096097\ttotal: 2.96s\tremaining: 156ms\n",
      "95:\tlearn: 0.0095211\ttotal: 2.99s\tremaining: 125ms\n",
      "96:\tlearn: 0.0093684\ttotal: 3.02s\tremaining: 93.6ms\n",
      "97:\tlearn: 0.0093298\ttotal: 3.05s\tremaining: 62.3ms\n",
      "98:\tlearn: 0.0092736\ttotal: 3.08s\tremaining: 31.2ms\n",
      "99:\tlearn: 0.0092526\ttotal: 3.11s\tremaining: 0us\n"
     ]
    },
    {
     "data": {
      "text/plain": [
       "<catboost.core.CatBoostClassifier at 0x2ba20754df28>"
      ]
     },
     "execution_count": 91,
     "metadata": {},
     "output_type": "execute_result"
    }
   ],
   "source": [
    "cbc.fit(x_train, y_train)"
   ]
  },
  {
   "cell_type": "code",
   "execution_count": 92,
   "id": "75c8d80f",
   "metadata": {},
   "outputs": [],
   "source": [
    "y_pred = cbc.predict(x_test)"
   ]
  },
  {
   "cell_type": "code",
   "execution_count": 93,
   "id": "eb7153db",
   "metadata": {},
   "outputs": [
    {
     "data": {
      "text/plain": [
       "'              precision    recall  f1-score   support\\n\\n           0     0.4211    0.9788    0.5889      7500\\n           1     0.9154    0.4870    0.6358      9240\\n           2     1.0000    0.0007    0.0013      3000\\n           3     0.8409    0.2517    0.3874       294\\n           4     1.0000    0.4000    0.5714         5\\n           5     0.0000    0.0000    0.0000      2075\\n           6     0.0000    0.0000    0.0000       327\\n\\n    accuracy                         0.5311     22441\\n   macro avg     0.5968    0.3026    0.3121     22441\\nweighted avg     0.6626    0.5311    0.4640     22441\\n'"
      ]
     },
     "execution_count": 93,
     "metadata": {},
     "output_type": "execute_result"
    }
   ],
   "source": [
    "classification_report(y_test, y_pred, digits=4)"
   ]
  },
  {
   "cell_type": "code",
   "execution_count": null,
   "id": "00552205",
   "metadata": {},
   "outputs": [],
   "source": []
  }
 ],
 "metadata": {
  "kernelspec": {
   "display_name": "Python 3",
   "language": "python",
   "name": "python3"
  },
  "language_info": {
   "codemirror_mode": {
    "name": "ipython",
    "version": 3
   },
   "file_extension": ".py",
   "mimetype": "text/x-python",
   "name": "python",
   "nbconvert_exporter": "python",
   "pygments_lexer": "ipython3",
   "version": "3.6.13"
  }
 },
 "nbformat": 4,
 "nbformat_minor": 5
}
