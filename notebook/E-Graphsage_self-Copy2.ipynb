{
 "cells": [
  {
   "cell_type": "code",
   "execution_count": 1,
   "id": "ffdc9cf5",
   "metadata": {},
   "outputs": [],
   "source": [
    "import pandas as pd\n",
    "import numpy as np\n",
    "import dgl.nn as dglnn\n",
    "from dgl import from_networkx\n",
    "import torch.nn as nn\n",
    "import torch as th\n",
    "import torch.nn.functional as F\n",
    "import dgl.function as fn\n",
    "from dgl.data.utils import load_graphs\n",
    "import networkx as nx\n",
    "import pandas as pd\n",
    "import socket\n",
    "import struct\n",
    "import random\n",
    "from sklearn.preprocessing import LabelEncoder\n",
    "from sklearn.preprocessing import StandardScaler\n",
    "from sklearn.model_selection import train_test_split\n",
    "import seaborn as sns\n",
    "import matplotlib.pyplot as plt\n",
    "import numpy as np"
   ]
  },
  {
   "cell_type": "code",
   "execution_count": 2,
   "id": "d97c7b47",
   "metadata": {},
   "outputs": [],
   "source": [
    "import networkx\n",
    "import torch\n",
    "import numpy as np\n",
    "import pandas as pd\n",
    "from sklearn.metrics import *\n",
    "from torch_geometric.loader import NeighborSampler, NeighborLoader\n",
    "from torch_geometric.data import Data, DataLoader\n",
    "from torch_geometric.nn import GATConv, ResGatedGraphConv, GATv2Conv, SAGEConv, GENConv, DeepGCNLayer, PairNorm, GINConv\n",
    "from sklearn.preprocessing import MinMaxScaler\n",
    "from sklearn.model_selection import train_test_split\n",
    "from sklearn.impute import SimpleImputer\n",
    "import torch.nn.functional as F\n",
    "from imblearn.under_sampling import RandomUnderSampler\n",
    "pd.options.mode.use_inf_as_na = True\n",
    "from collections import Counter\n",
    "from sklearn.feature_selection import SelectFromModel\n",
    "import torch.nn as nn\n",
    "import time\n",
    "import pickle\n",
    "from torch.nn import LayerNorm, Linear, ReLU\n",
    "from torch_scatter import scatter\n",
    "from tqdm import tqdm\n",
    "from torch_geometric.loader import RandomNodeSampler\n",
    "import math\n",
    "import copy\n",
    "from sklearn.metrics import f1_score\n",
    "from torch.optim import lr_scheduler\n",
    "from sklearn.manifold import TSNE"
   ]
  },
  {
   "cell_type": "code",
   "execution_count": 3,
   "id": "09644ddc",
   "metadata": {},
   "outputs": [],
   "source": [
    "class GATLayer(nn.Module):\n",
    "    def __init__(self, in_dim, out_dim, e_dim):\n",
    "        super(GATLayer, self).__init__()\n",
    "        self.w1 = nn.Linear(in_dim + e_dim, out_dim, bias=False)\n",
    "        self.w2 = nn.Linear(in_dim + out_dim, out_dim, bias=False)\n",
    "        self.w_att = nn.Linear(in_dim + out_dim, 1, bias=False)\n",
    "        self.reset_parameters()\n",
    "    def reset_parameters(self):\n",
    "        gain = nn.init.calculate_gain('relu')\n",
    "        nn.init.xavier_normal_(self.w1.weight, gain=gain)\n",
    "        nn.init.xavier_normal_(self.w2.weight, gain=gain)\n",
    "        nn.init.xavier_normal_(self.w_att.weight, gain=gain)\n",
    "    def edge_attention(self, edges):\n",
    "        z = torch.cat([edges.src['h'], edges.data['m']], -1)\n",
    "        a = self.w_att(z)\n",
    "        alpha = F.leaky_relu(a)\n",
    "        return {'e': alpha}\n",
    "    \n",
    "    def msg1(self, edges):\n",
    "        return {'m': self.w1(th.cat([edges.src['h'], edges.data['h']], -1))}\n",
    "    \n",
    "    def message_func(self, edges):\n",
    "        return {'z': edges.data['m'], 'e': edges.data['e']}\n",
    "    \n",
    "    def reduce_func(self, nodes):\n",
    "        alpha = F.softmax(nodes.mailbox['e'], dim=1) # 归一化每一条入边的注意力系数\n",
    "        h = torch.mean(nodes.mailbox['z'], dim=1)\n",
    "        return {'h_neigh': h}\n",
    "    def forward(self, g_dgl, hfeat, efeat):\n",
    "        with g_dgl.local_scope():\n",
    "            g = g_dgl\n",
    "            g.ndata['h'] = hfeat\n",
    "            g.edata['h'] = efeat\n",
    "            g.apply_edges(self.msg1)\n",
    "            g.apply_edges(self.edge_attention) # 为每一条边获得其注意力系数\n",
    "            g.update_all(self.message_func, self.reduce_func)\n",
    "            g.ndata['h'] = F.relu(self.w2(th.cat([g.ndata['h'], g.ndata['h_neigh']], -1)))\n",
    "            return g.ndata['h']\n",
    "class Model(nn.Module):\n",
    "    def __init__(self, in_dim, hidden_dim, out_dim, e_dim):\n",
    "        super().__init__()\n",
    "        self.layer1 = GATLayer(in_dim, hidden_dim, e_dim)\n",
    "        self.layer2 = GATLayer(hidden_dim, out_dim, e_dim)\n",
    "        self.pred = MLPPredictor(out_dim, 15)\n",
    "    def forward(self, g, nfeats, efeats):\n",
    "        nfeats = self.layer1(g, nfeats, efeats)\n",
    "        nfeats = self.layer2(g, nfeats, efeats)\n",
    "        return self.pred(g, nfeats)\n",
    "class MLPPredictor(nn.Module):\n",
    "    def __init__(self, in_features, out_classes):\n",
    "        super().__init__()\n",
    "        self.W = nn.Linear(in_features * 2, out_classes)\n",
    "    def apply_edges(self, edges):\n",
    "        h_u = edges.src['h']\n",
    "        h_v = edges.dst['h']\n",
    "        score = self.W(th.cat([h_u, h_v], 1))\n",
    "        return {'score': score}\n",
    "    def forward(self, graph, h):\n",
    "        with graph.local_scope():\n",
    "            graph.ndata['h'] = h\n",
    "            graph.apply_edges(self.apply_edges)\n",
    "            return graph.edata['score']"
   ]
  },
  {
   "cell_type": "code",
   "execution_count": 4,
   "id": "b71309bc",
   "metadata": {},
   "outputs": [],
   "source": [
    "def message_func_init(edges):\n",
    "    return {'u': edges.data['h']}\n",
    "\n",
    "def reduce_func_init(nodes):\n",
    "    h = torch.mean(nodes.mailbox['u'], dim=1)\n",
    "    return {'h': h}"
   ]
  },
  {
   "cell_type": "code",
   "execution_count": 5,
   "id": "7168b602",
   "metadata": {
    "code_folding": []
   },
   "outputs": [],
   "source": [
    "class SAGELayer(nn.Module):\n",
    "    def __init__(self, ndim_in, edims, ndim_out, activation):\n",
    "        super(SAGELayer, self).__init__()\n",
    "        ### force to outut fix dimensions\n",
    "        self.W_msg = nn.Linear(ndim_in + edims, ndim_out)\n",
    "        ### apply weight\n",
    "        self.W_apply = nn.Linear(ndim_in + ndim_out, ndim_out)\n",
    "        self.activation = activation\n",
    "\n",
    "    def message_func(self, edges):\n",
    "        return {'m': self.W_msg(th.cat([edges.src['h'], edges.data['h']], 2))}\n",
    "\n",
    "    def forward(self, g_dgl, nfeats, efeats):\n",
    "        with g_dgl.local_scope():\n",
    "            g = g_dgl\n",
    "            g.ndata['h'] = nfeats\n",
    "            g.edata['h'] = efeats\n",
    "            # Eq4\n",
    "            g.update_all(self.message_func, fn.mean('m', 'h_neigh'))\n",
    "            # Eq5          \n",
    "            g.ndata['h'] = F.relu(self.W_apply(th.cat([g.ndata['h'], g.ndata['h_neigh']], 2)))\n",
    "            return g.ndata['h']\n",
    "\n",
    "\n",
    "class SAGE(nn.Module):\n",
    "    def __init__(self, ndim_in, ndim_out, edim, activation, dropout):\n",
    "        super(SAGE, self).__init__()\n",
    "        self.layers = nn.ModuleList()\n",
    "        self.layers.append(SAGELayer(ndim_in, edim, 128, activation))\n",
    "        self.layers.append(SAGELayer(128, edim, ndim_out, activation))\n",
    "        self.dropout = nn.Dropout(p=dropout)\n",
    "\n",
    "    def forward(self, g, nfeats, efeats):\n",
    "        for i, layer in enumerate(self.layers):\n",
    "            if i != 0:\n",
    "                nfeats = self.dropout(nfeats)\n",
    "            nfeats = layer(g, nfeats, efeats)\n",
    "        return nfeats.sum(1)\n",
    "    \n",
    "class Model(nn.Module):\n",
    "    def __init__(self, ndim_in, ndim_out, edim, activation, dropout):\n",
    "        super().__init__()\n",
    "        self.gnn = SAGE(ndim_in, ndim_out, edim, activation, dropout)\n",
    "        self.pred = MLPPredictor(ndim_out, 15)\n",
    "    def forward(self, g, nfeats, efeats):\n",
    "        h = self.gnn(g, nfeats, efeats)\n",
    "        return self.pred(g, h)"
   ]
  },
  {
   "cell_type": "code",
   "execution_count": null,
   "id": "54f4549c",
   "metadata": {},
   "outputs": [],
   "source": []
  },
  {
   "cell_type": "code",
   "execution_count": 6,
   "id": "d4c96fe7",
   "metadata": {},
   "outputs": [],
   "source": [
    "G = load_graphs(\"./cic2017_Gtrain.bin\")[0][0]"
   ]
  },
  {
   "cell_type": "code",
   "execution_count": 7,
   "id": "0c1632ac",
   "metadata": {},
   "outputs": [
    {
     "data": {
      "text/plain": [
       "Graph(num_nodes=82830, num_edges=849178,\n",
       "      ndata_schemes={}\n",
       "      edata_schemes={'daddr': Scheme(shape=(), dtype=torch.int64), 'saddr': Scheme(shape=(), dtype=torch.int64), 'h': Scheme(shape=(78,), dtype=torch.float32), 'label': Scheme(shape=(), dtype=torch.int64)})"
      ]
     },
     "execution_count": 7,
     "metadata": {},
     "output_type": "execute_result"
    }
   ],
   "source": [
    "G"
   ]
  },
  {
   "cell_type": "code",
   "execution_count": 10,
   "id": "4cc12fe1",
   "metadata": {},
   "outputs": [
    {
     "data": {
      "text/plain": [
       "Graph(num_nodes=52228, num_edges=363934,\n",
       "      ndata_schemes={}\n",
       "      edata_schemes={'label': Scheme(shape=(), dtype=torch.int64), 'h': Scheme(shape=(78,), dtype=torch.float32)})"
      ]
     },
     "execution_count": 10,
     "metadata": {},
     "output_type": "execute_result"
    }
   ],
   "source": [
    "G_test"
   ]
  },
  {
   "cell_type": "code",
   "execution_count": 11,
   "id": "6ad6423c",
   "metadata": {},
   "outputs": [
    {
     "data": {
      "text/plain": [
       "torch.Size([849178])"
      ]
     },
     "execution_count": 11,
     "metadata": {},
     "output_type": "execute_result"
    }
   ],
   "source": [
    "G.edata['label'].shape"
   ]
  },
  {
   "cell_type": "code",
   "execution_count": 9,
   "id": "a2e1b752",
   "metadata": {},
   "outputs": [],
   "source": [
    "G_test = load_graphs(\"./cic2017_G_test.bin\")[0][0]"
   ]
  },
  {
   "cell_type": "code",
   "execution_count": 12,
   "id": "a943f213",
   "metadata": {},
   "outputs": [],
   "source": [
    "test_label = G.edata['label'].cpu().numpy()"
   ]
  },
  {
   "cell_type": "code",
   "execution_count": 13,
   "id": "f9a791b7",
   "metadata": {},
   "outputs": [
    {
     "data": {
      "text/plain": [
       "Counter({1: 179234,\n",
       "         9: 322174,\n",
       "         13: 912,\n",
       "         10: 14410,\n",
       "         8: 7698,\n",
       "         7: 8114,\n",
       "         2: 222326,\n",
       "         12: 2110,\n",
       "         0: 70000,\n",
       "         14: 30,\n",
       "         5: 11110,\n",
       "         6: 8256,\n",
       "         3: 2738,\n",
       "         4: 50,\n",
       "         11: 16})"
      ]
     },
     "execution_count": 13,
     "metadata": {},
     "output_type": "execute_result"
    }
   ],
   "source": [
    "Counter(G.edata['label'].cpu().numpy())"
   ]
  },
  {
   "cell_type": "code",
   "execution_count": 14,
   "id": "1943c6f6",
   "metadata": {},
   "outputs": [
    {
     "data": {
      "text/plain": [
       "Counter({1: 76816,\n",
       "         9: 138074,\n",
       "         2: 95282,\n",
       "         5: 4760,\n",
       "         12: 904,\n",
       "         7: 3478,\n",
       "         10: 6176,\n",
       "         8: 3300,\n",
       "         13: 392,\n",
       "         0: 30000,\n",
       "         14: 12,\n",
       "         6: 3538,\n",
       "         3: 1174,\n",
       "         11: 6,\n",
       "         4: 22})"
      ]
     },
     "execution_count": 14,
     "metadata": {},
     "output_type": "execute_result"
    }
   ],
   "source": [
    "Counter(G_test.edata['label'].cpu().numpy())"
   ]
  },
  {
   "cell_type": "code",
   "execution_count": 11,
   "id": "9372f448",
   "metadata": {},
   "outputs": [],
   "source": [
    "test_label[test_label!=0] = 1"
   ]
  },
  {
   "cell_type": "code",
   "execution_count": 15,
   "id": "d0c017a2",
   "metadata": {},
   "outputs": [],
   "source": [
    "G = G.to('cpu')"
   ]
  },
  {
   "cell_type": "code",
   "execution_count": 16,
   "id": "2bdd702c",
   "metadata": {},
   "outputs": [],
   "source": [
    "G.edata['label'] = torch.LongTensor(test_label)"
   ]
  },
  {
   "cell_type": "code",
   "execution_count": 17,
   "id": "b5df7edd",
   "metadata": {},
   "outputs": [],
   "source": [
    "G.ndata['h'] = th.ones(G.num_nodes(), G.edata['h'].shape[1]) \n",
    "G.edata['train_mask'] = th.ones(len(G.edata['h']), dtype= th.bool)"
   ]
  },
  {
   "cell_type": "code",
   "execution_count": 18,
   "id": "b40b867d",
   "metadata": {},
   "outputs": [],
   "source": [
    "G.ndata['h'] = th.reshape(G.ndata['h'], (G.ndata['h'].shape[0], 1, G.ndata['h'].shape[1]))\n",
    "G.edata['h'] = th.reshape(G.edata['h'], (G.edata['h'].shape[0], 1, G.edata['h'].shape[1]))"
   ]
  },
  {
   "cell_type": "code",
   "execution_count": null,
   "id": "a56ae062",
   "metadata": {},
   "outputs": [],
   "source": [
    "G_test.ndata['h'] = th.ones(G_test.num_nodes(), G_test.edata['h'].shape[1]) "
   ]
  },
  {
   "cell_type": "code",
   "execution_count": 40,
   "id": "2493ad35",
   "metadata": {},
   "outputs": [],
   "source": [
    "G_test.ndata['h'] = th.reshape(G_test.ndata['h'], (G_test.ndata['h'].shape[0], 1, G_test.ndata['h'].shape[1]))\n",
    "G_test.edata['h'] = th.reshape(G_test.edata['h'], (G_test.edata['h'].shape[0], 1, G_test.edata['h'].shape[1]))"
   ]
  },
  {
   "cell_type": "code",
   "execution_count": 19,
   "id": "606d5036",
   "metadata": {},
   "outputs": [],
   "source": [
    "model = Model(G.ndata['h'].shape[2], 128, G.ndata['h'].shape[2], F.relu, 0.2)"
   ]
  },
  {
   "cell_type": "code",
   "execution_count": 36,
   "id": "e724528a",
   "metadata": {},
   "outputs": [],
   "source": [
    "def test(G_test, model):\n",
    "    test_node_features = G_test.ndata['h']\n",
    "    test_edge_features = G_test.edata['h']\n",
    "    y_true = G_test.edata['label'].detach().numpy()\n",
    "    pred = model(G_test, test_node_features, test_edge_features)\n",
    "    y_pred = pred.detach().numpy()\n",
    "    y_pred = np.argmax(y_pred, -1)\n",
    "    cm = confusion_matrix(y_true, y_pred)\n",
    "    cr = classification_report(y_true, y_pred, digits=4)\n",
    "    return cm, cr"
   ]
  },
  {
   "cell_type": "code",
   "execution_count": 57,
   "id": "b85e41f4",
   "metadata": {},
   "outputs": [
    {
     "name": "stderr",
     "output_type": "stream",
     "text": [
      "/home/xiaoyujie/anaconda3/envs/densegat2/lib/python3.6/site-packages/sklearn/utils/validation.py:72: FutureWarning: Pass classes=[ 0  1  2  3  4  5  6  7  8  9 10 11 12 13 14], y=[1 1 1 ... 0 0 0] as keyword args. From version 1.0 (renaming of 0.25) passing these as positional arguments will result in an error\n",
      "  \"will result in an error\", FutureWarning)\n"
     ]
    }
   ],
   "source": [
    "from sklearn.utils import class_weight\n",
    "class_weights = class_weight.compute_class_weight('balanced',\n",
    "                                                 np.unique(G.edata['label'].cpu().numpy()),\n",
    "                                                 G.edata['label'].cpu().numpy())\n",
    "class_weights = th.FloatTensor(class_weights)"
   ]
  },
  {
   "cell_type": "code",
   "execution_count": 58,
   "id": "ea5bdf62",
   "metadata": {},
   "outputs": [
    {
     "data": {
      "text/plain": [
       "tensor([8.0874e-01, 3.1585e-01, 2.5463e-01, 2.0676e+01, 1.1322e+03, 5.0956e+00,\n",
       "        6.8571e+00, 6.9771e+00, 7.3541e+00, 1.7572e-01, 3.9287e+00, 3.5382e+03,\n",
       "        2.6830e+01, 6.2074e+01, 1.8871e+03])"
      ]
     },
     "execution_count": 58,
     "metadata": {},
     "output_type": "execute_result"
    }
   ],
   "source": [
    "class_weights"
   ]
  },
  {
   "cell_type": "code",
   "execution_count": 20,
   "id": "136923d5",
   "metadata": {},
   "outputs": [
    {
     "data": {
      "text/plain": [
       "tensor([[[1., 1., 1.,  ..., 1., 1., 1.]],\n",
       "\n",
       "        [[1., 1., 1.,  ..., 1., 1., 1.]],\n",
       "\n",
       "        [[1., 1., 1.,  ..., 1., 1., 1.]],\n",
       "\n",
       "        ...,\n",
       "\n",
       "        [[1., 1., 1.,  ..., 1., 1., 1.]],\n",
       "\n",
       "        [[1., 1., 1.,  ..., 1., 1., 1.]],\n",
       "\n",
       "        [[1., 1., 1.,  ..., 1., 1., 1.]]])"
      ]
     },
     "execution_count": 20,
     "metadata": {},
     "output_type": "execute_result"
    }
   ],
   "source": [
    "G.ndata['h']"
   ]
  },
  {
   "cell_type": "code",
   "execution_count": 21,
   "id": "35f576ca",
   "metadata": {},
   "outputs": [],
   "source": [
    "# G.update_all(message_func_init, reduce_func_init)"
   ]
  },
  {
   "cell_type": "code",
   "execution_count": 22,
   "id": "d11452ec",
   "metadata": {},
   "outputs": [
    {
     "name": "stdout",
     "output_type": "stream",
     "text": [
      "Tue Sep 13 11:08:14 2022       \n",
      "+-----------------------------------------------------------------------------+\n",
      "| NVIDIA-SMI 460.73.01    Driver Version: 460.73.01    CUDA Version: 11.2     |\n",
      "|-------------------------------+----------------------+----------------------+\n",
      "| GPU  Name        Persistence-M| Bus-Id        Disp.A | Volatile Uncorr. ECC |\n",
      "| Fan  Temp  Perf  Pwr:Usage/Cap|         Memory-Usage | GPU-Util  Compute M. |\n",
      "|                               |                      |               MIG M. |\n",
      "|===============================+======================+======================|\n",
      "|   0  Tesla V100-PCIE...  On   | 00000000:3B:00.0 Off |                    0 |\n",
      "| N/A   41C    P0    25W / 250W |      4MiB / 16160MiB |      0%      Default |\n",
      "|                               |                      |                  N/A |\n",
      "+-------------------------------+----------------------+----------------------+\n",
      "|   1  Tesla V100-PCIE...  On   | 00000000:86:00.0 Off |                    0 |\n",
      "| N/A   41C    P0    27W / 250W |      4MiB / 16160MiB |      0%      Default |\n",
      "|                               |                      |                  N/A |\n",
      "+-------------------------------+----------------------+----------------------+\n",
      "|   2  Tesla V100-PCIE...  On   | 00000000:AF:00.0 Off |                    0 |\n",
      "| N/A   42C    P0    25W / 250W |      4MiB / 16160MiB |      0%      Default |\n",
      "|                               |                      |                  N/A |\n",
      "+-------------------------------+----------------------+----------------------+\n",
      "                                                                               \n",
      "+-----------------------------------------------------------------------------+\n",
      "| Processes:                                                                  |\n",
      "|  GPU   GI   CI        PID   Type   Process name                  GPU Memory |\n",
      "|        ID   ID                                                   Usage      |\n",
      "|=============================================================================|\n",
      "|  No running processes found                                                 |\n",
      "+-----------------------------------------------------------------------------+\n"
     ]
    }
   ],
   "source": [
    "!nvidia-smi"
   ]
  },
  {
   "cell_type": "code",
   "execution_count": 23,
   "id": "e877b67e",
   "metadata": {},
   "outputs": [],
   "source": [
    "device = 'cuda:2'"
   ]
  },
  {
   "cell_type": "code",
   "execution_count": 24,
   "id": "41429d7a",
   "metadata": {},
   "outputs": [],
   "source": [
    "G = G.to(device)"
   ]
  },
  {
   "cell_type": "code",
   "execution_count": 50,
   "id": "170cf456",
   "metadata": {},
   "outputs": [],
   "source": [
    "class_weights = class_weights.to(device)"
   ]
  },
  {
   "cell_type": "code",
   "execution_count": 25,
   "id": "1bcd81f2",
   "metadata": {},
   "outputs": [],
   "source": [
    "node_features = G.ndata['h']\n",
    "edge_features = G.edata['h']\n",
    "\n",
    "edge_label = G.edata['label']\n",
    "train_mask = G.edata['train_mask']"
   ]
  },
  {
   "cell_type": "code",
   "execution_count": 26,
   "id": "c1846770",
   "metadata": {},
   "outputs": [
    {
     "data": {
      "text/plain": [
       "tensor([1, 1, 1,  ..., 0, 0, 0], device='cuda:2')"
      ]
     },
     "execution_count": 26,
     "metadata": {},
     "output_type": "execute_result"
    }
   ],
   "source": [
    "edge_label"
   ]
  },
  {
   "cell_type": "code",
   "execution_count": 27,
   "id": "2b891ff1",
   "metadata": {},
   "outputs": [],
   "source": [
    "in_dim = 78\n",
    "hidden_dim = 30\n",
    "out_dim = 10\n",
    "e_dim = 78"
   ]
  },
  {
   "cell_type": "code",
   "execution_count": 28,
   "id": "41bbe809",
   "metadata": {},
   "outputs": [],
   "source": [
    "opt = th.optim.Adam(model.parameters())"
   ]
  },
  {
   "cell_type": "code",
   "execution_count": 29,
   "id": "c4027fb3",
   "metadata": {},
   "outputs": [],
   "source": [
    "criterion = nn.CrossEntropyLoss()"
   ]
  },
  {
   "cell_type": "code",
   "execution_count": 30,
   "id": "9d6ae382",
   "metadata": {},
   "outputs": [],
   "source": [
    "import time"
   ]
  },
  {
   "cell_type": "code",
   "execution_count": 31,
   "id": "e3e46d40",
   "metadata": {},
   "outputs": [],
   "source": [
    "def compute_accuracy(pred, labels):\n",
    "    return (pred.argmax(1) == labels).float().mean().item()"
   ]
  },
  {
   "cell_type": "code",
   "execution_count": 61,
   "id": "3e202652",
   "metadata": {},
   "outputs": [],
   "source": [
    "weight = torch.load('egat_cic_model' + str(1500))"
   ]
  },
  {
   "cell_type": "code",
   "execution_count": 62,
   "id": "c27bad6e",
   "metadata": {},
   "outputs": [
    {
     "data": {
      "text/plain": [
       "<All keys matched successfully>"
      ]
     },
     "execution_count": 62,
     "metadata": {},
     "output_type": "execute_result"
    }
   ],
   "source": [
    "model.load_state_dict(weight)"
   ]
  },
  {
   "cell_type": "code",
   "execution_count": 50,
   "id": "ffa61b5e",
   "metadata": {},
   "outputs": [
    {
     "name": "stdout",
     "output_type": "stream",
     "text": [
      "loss 0.3103328049182892 Epoch: 1400  Training acc: 0.896735429763794\n",
      "loss 0.3094305694103241 Epoch: 1600  Training acc: 0.8968002200126648\n",
      "loss 0.308655321598053 Epoch: 1800  Training acc: 0.896796703338623\n",
      "loss 0.30741795897483826 Epoch: 2000  Training acc: 0.8968155384063721\n",
      "loss 0.3075242042541504 Epoch: 2200  Training acc: 0.8968425989151001\n",
      "loss 0.3057408630847931 Epoch: 2400  Training acc: 0.896917998790741\n",
      "loss 0.30594027042388916 Epoch: 2600  Training acc: 0.8968096375465393\n",
      "loss 0.30833542346954346 Epoch: 2800  Training acc: 0.8968849778175354\n",
      "loss 0.3068751394748688 Epoch: 3000  Training acc: 0.8970062732696533\n",
      "loss 0.3049660921096802 Epoch: 3200  Training acc: 0.8969391584396362\n",
      "loss 0.3049701750278473 Epoch: 3400  Training acc: 0.8970086574554443\n",
      "loss 0.30483314394950867 Epoch: 3600  Training acc: 0.896735429763794\n",
      "loss 0.30334970355033875 Epoch: 3800  Training acc: 0.8970239758491516\n",
      "loss 0.3025006949901581 Epoch: 4000  Training acc: 0.8970639705657959\n",
      "loss 0.3028348684310913 Epoch: 4200  Training acc: 0.8970946073532104\n",
      "loss 0.30110296607017517 Epoch: 4400  Training acc: 0.8970769643783569\n",
      "loss 0.3008911609649658 Epoch: 4600  Training acc: 0.897095799446106\n",
      "loss 0.3019188940525055 Epoch: 4800  Training acc: 0.8971311450004578\n",
      "loss 0.30045565962791443 Epoch: 5000  Training acc: 0.8971688151359558\n",
      "loss 0.3016575574874878 Epoch: 5200  Training acc: 0.8970792889595032\n",
      "loss 0.3007452189922333 Epoch: 5400  Training acc: 0.8970510363578796\n",
      "loss 0.29946020245552063 Epoch: 5600  Training acc: 0.8971205353736877\n",
      "loss 0.30211296677589417 Epoch: 5800  Training acc: 0.8970592617988586\n",
      "loss 0.3004136383533478 Epoch: 6000  Training acc: 0.8970710635185242\n",
      "loss 0.2996605932712555 Epoch: 6200  Training acc: 0.8971240520477295\n",
      "loss 0.29919061064720154 Epoch: 6400  Training acc: 0.8972429633140564\n",
      "loss 0.30058035254478455 Epoch: 6600  Training acc: 0.8970015645027161\n",
      "loss 0.29828372597694397 Epoch: 6800  Training acc: 0.8972406387329102\n",
      "loss 0.2981643080711365 Epoch: 7000  Training acc: 0.8970804810523987\n",
      "loss 0.2977547347545624 Epoch: 7200  Training acc: 0.8972783088684082\n",
      "loss 0.2976053059101105 Epoch: 7400  Training acc: 0.8972913026809692\n",
      "loss 0.29730814695358276 Epoch: 7600  Training acc: 0.8972241282463074\n",
      "loss 0.2969004213809967 Epoch: 7800  Training acc: 0.8972653746604919\n",
      "loss 0.29676759243011475 Epoch: 8000  Training acc: 0.8973007202148438\n",
      "loss 0.296396940946579 Epoch: 8200  Training acc: 0.8972795009613037\n",
      "loss 0.3080330491065979 Epoch: 8400  Training acc: 0.8969615697860718\n",
      "loss 0.2977171540260315 Epoch: 8600  Training acc: 0.8972524404525757\n",
      "loss 0.29669198393821716 Epoch: 8800  Training acc: 0.897305428981781\n",
      "loss 0.2964303195476532 Epoch: 9000  Training acc: 0.8972936272621155\n",
      "loss 0.2963610589504242 Epoch: 9200  Training acc: 0.8973042368888855\n",
      "loss 0.2959260046482086 Epoch: 9400  Training acc: 0.89730304479599\n",
      "loss 0.2962786853313446 Epoch: 9600  Training acc: 0.8972877264022827\n",
      "loss 0.2976481318473816 Epoch: 9800  Training acc: 0.8972806930541992\n"
     ]
    }
   ],
   "source": [
    "model = model.to(device)\n",
    "for epoch in range(1400 ,10000):\n",
    "    pred = model(G, node_features,edge_features)\n",
    "    loss = criterion(pred[train_mask], edge_label[train_mask])\n",
    "    opt.zero_grad()\n",
    "    loss.backward()\n",
    "    opt.step()\n",
    "    if epoch % 200 == 0:\n",
    "        print('loss',loss.item(),'Epoch:', epoch ,' Training acc:', compute_accuracy(pred[train_mask], edge_label[train_mask]))\n",
    "        torch.save(model.state_dict(), 'egraphsage_cic_model_' + str(epoch))"
   ]
  },
  {
   "cell_type": "code",
   "execution_count": 61,
   "id": "5be27b5c",
   "metadata": {},
   "outputs": [
    {
     "data": {
      "text/plain": [
       "<All keys matched successfully>"
      ]
     },
     "execution_count": 61,
     "metadata": {},
     "output_type": "execute_result"
    }
   ],
   "source": [
    "weight = torch.load('egraphsage_cic_model_' + str(600))\n",
    "model.load_state_dict(weight)"
   ]
  },
  {
   "cell_type": "code",
   "execution_count": 62,
   "id": "b99ccd62",
   "metadata": {},
   "outputs": [
    {
     "name": "stderr",
     "output_type": "stream",
     "text": [
      "/home/xiaoyujie/anaconda3/envs/densegat2/lib/python3.6/site-packages/sklearn/metrics/_classification.py:1248: UndefinedMetricWarning: Precision and F-score are ill-defined and being set to 0.0 in labels with no predicted samples. Use `zero_division` parameter to control this behavior.\n",
      "  _warn_prf(average, modifier, msg_start, len(result))\n",
      "/home/xiaoyujie/anaconda3/envs/densegat2/lib/python3.6/site-packages/sklearn/metrics/_classification.py:1248: UndefinedMetricWarning: Precision and F-score are ill-defined and being set to 0.0 in labels with no predicted samples. Use `zero_division` parameter to control this behavior.\n",
      "  _warn_prf(average, modifier, msg_start, len(result))\n",
      "/home/xiaoyujie/anaconda3/envs/densegat2/lib/python3.6/site-packages/sklearn/metrics/_classification.py:1248: UndefinedMetricWarning: Precision and F-score are ill-defined and being set to 0.0 in labels with no predicted samples. Use `zero_division` parameter to control this behavior.\n",
      "  _warn_prf(average, modifier, msg_start, len(result))\n"
     ]
    }
   ],
   "source": [
    "model = model.to('cpu')\n",
    "cm, cr = test(G_test, model)"
   ]
  },
  {
   "cell_type": "code",
   "execution_count": 63,
   "id": "940e4c33",
   "metadata": {},
   "outputs": [
    {
     "name": "stdout",
     "output_type": "stream",
     "text": [
      "              precision    recall  f1-score   support\n",
      "\n",
      "           0     0.9764    0.9858    0.9811     30000\n",
      "           1     0.9422    0.7419    0.8301     76816\n",
      "           2     0.9916    0.9961    0.9939     95282\n",
      "           3     0.9923    0.8731    0.9289      1174\n",
      "           4     1.0000    0.0455    0.0870        22\n",
      "           5     0.9859    0.9523    0.9688      4760\n",
      "           6     0.9912    0.9596    0.9752      3538\n",
      "           7     0.5116    0.0127    0.0247      3478\n",
      "           8     0.3851    0.0188    0.0358      3300\n",
      "           9     0.8001    0.9727    0.8780    138074\n",
      "          10     0.0000    0.0000    0.0000      6176\n",
      "          11     1.0000    1.0000    1.0000         6\n",
      "          12     0.1790    0.0454    0.0724       904\n",
      "          13     0.0000    0.0000    0.0000       392\n",
      "          14     0.0000    0.0000    0.0000        12\n",
      "\n",
      "    accuracy                         0.8927    363934\n",
      "   macro avg     0.6504    0.5069    0.5184    363934\n",
      "weighted avg     0.8772    0.8927    0.8753    363934\n",
      "\n"
     ]
    }
   ],
   "source": [
    "print(cr)"
   ]
  },
  {
   "cell_type": "code",
   "execution_count": 48,
   "id": "edf2cade",
   "metadata": {},
   "outputs": [
    {
     "name": "stdout",
     "output_type": "stream",
     "text": [
      "              precision    recall  f1-score   support\n",
      "\n",
      "           0     0.9589    0.9877    0.9731     30000\n",
      "           1     0.9505    0.7372    0.8304     76816\n",
      "           2     0.9924    0.9950    0.9937     95282\n",
      "           3     0.9966    0.9949    0.9957      1174\n",
      "           4     0.0000    0.0000    0.0000        22\n",
      "           5     0.9898    0.8754    0.9291      4760\n",
      "           6     0.9936    0.9666    0.9799      3538\n",
      "           7     0.6000    0.0052    0.0103      3478\n",
      "           8     0.4071    0.0173    0.0331      3300\n",
      "           9     0.7988    0.9771    0.8790    138074\n",
      "          10     1.0000    0.0003    0.0006      6176\n",
      "          11     1.0000    1.0000    1.0000         6\n",
      "          12     0.2222    0.0044    0.0087       904\n",
      "          13     0.0000    0.0000    0.0000       392\n",
      "          14     0.0000    0.0000    0.0000        12\n",
      "\n",
      "    accuracy                         0.8925    363934\n",
      "   macro avg     0.6607    0.5041    0.5089    363934\n",
      "weighted avg     0.8953    0.8925    0.8745    363934\n",
      "\n"
     ]
    }
   ],
   "source": [
    "print(cr)"
   ]
  },
  {
   "cell_type": "code",
   "execution_count": 42,
   "id": "eb721d01",
   "metadata": {},
   "outputs": [
    {
     "name": "stdout",
     "output_type": "stream",
     "text": [
      "              precision    recall  f1-score   support\n",
      "\n",
      "           0     0.9681    0.9873    0.9776     30000\n",
      "           1     0.9489    0.7380    0.8303     76816\n",
      "           2     0.9920    0.9950    0.9935     95282\n",
      "           3     0.9963    0.9259    0.9598      1174\n",
      "           4     0.0000    0.0000    0.0000        22\n",
      "           5     0.9816    0.9435    0.9622      4760\n",
      "           6     0.9874    0.9771    0.9822      3538\n",
      "           7     0.4219    0.0388    0.0711      3478\n",
      "           8     0.4565    0.0064    0.0126      3300\n",
      "           9     0.7999    0.9731    0.8780    138074\n",
      "          10     0.5000    0.0006    0.0013      6176\n",
      "          11     1.0000    1.0000    1.0000         6\n",
      "          12     0.1490    0.0575    0.0830       904\n",
      "          13     0.0548    0.0204    0.0297       392\n",
      "          14     0.0000    0.0000    0.0000        12\n",
      "\n",
      "    accuracy                         0.8923    363934\n",
      "   macro avg     0.6171    0.5109    0.5188    363934\n",
      "weighted avg     0.8860    0.8923    0.8754    363934\n",
      "\n"
     ]
    }
   ],
   "source": [
    "print(cr)"
   ]
  },
  {
   "cell_type": "code",
   "execution_count": 82,
   "id": "a3f38728",
   "metadata": {},
   "outputs": [
    {
     "name": "stdout",
     "output_type": "stream",
     "text": [
      "              precision    recall  f1-score   support\n",
      "\n",
      "           0     0.9301    0.9899    0.9591     30000\n",
      "           1     0.9561    0.7338    0.8303     76816\n",
      "           2     0.9954    0.9958    0.9956     95282\n",
      "           3     0.9941    0.9966    0.9953      1174\n",
      "           4     0.0000    0.0000    0.0000        22\n",
      "           5     0.9913    0.7183    0.8330      4760\n",
      "           6     0.9965    0.9763    0.9863      3538\n",
      "           7     0.4238    0.0184    0.0353      3478\n",
      "           8     0.3156    0.0612    0.1025      3300\n",
      "           9     0.7989    0.9769    0.8790    138074\n",
      "          10     0.7500    0.0005    0.0010      6176\n",
      "          11     1.0000    1.0000    1.0000         6\n",
      "          12     0.0000    0.0000    0.0000       904\n",
      "          13     0.2000    0.0051    0.0100       392\n",
      "          14     0.0000    0.0000    0.0000        12\n",
      "\n",
      "    accuracy                         0.8907    363934\n",
      "   macro avg     0.6235    0.4982    0.5085    363934\n",
      "weighted avg     0.8879    0.8907    0.8735    363934\n",
      "\n"
     ]
    }
   ],
   "source": [
    "print(cr)"
   ]
  },
  {
   "cell_type": "code",
   "execution_count": 78,
   "id": "d483522a",
   "metadata": {},
   "outputs": [
    {
     "name": "stdout",
     "output_type": "stream",
     "text": [
      "              precision    recall  f1-score   support\n",
      "\n",
      "           0     0.9709    0.9845    0.9777     30000\n",
      "           1     0.9401    0.7395    0.8278     76816\n",
      "           2     0.9863    0.9959    0.9911     95282\n",
      "           3     0.9973    0.6363    0.7769      1174\n",
      "           4     0.0000    0.0000    0.0000        22\n",
      "           5     0.9794    0.9674    0.9734      4760\n",
      "           6     0.9795    0.9845    0.9820      3538\n",
      "           7     0.4087    0.0135    0.0262      3478\n",
      "           8     0.4079    0.0094    0.0184      3300\n",
      "           9     0.7995    0.9708    0.8769    138074\n",
      "          10     0.3333    0.0002    0.0003      6176\n",
      "          11     1.0000    1.0000    1.0000         6\n",
      "          12     0.3333    0.0022    0.0044       904\n",
      "          13     0.0000    0.0000    0.0000       392\n",
      "          14     0.0000    0.0000    0.0000        12\n",
      "\n",
      "    accuracy                         0.8908    363934\n",
      "   macro avg     0.6091    0.4869    0.4970    363934\n",
      "weighted avg     0.8797    0.8908    0.8727    363934\n",
      "\n"
     ]
    }
   ],
   "source": [
    "print(cr)"
   ]
  },
  {
   "cell_type": "code",
   "execution_count": 89,
   "id": "d3a6cfa7",
   "metadata": {},
   "outputs": [
    {
     "name": "stdout",
     "output_type": "stream",
     "text": [
      "              precision    recall  f1-score   support\n",
      "\n",
      "           0     0.6506    0.9932    0.7862     30000\n",
      "           1     0.7520    0.8983    0.8187     12000\n",
      "           2     0.9643    0.9752    0.9698     12000\n",
      "           3     0.9459    0.9838    0.9645      1174\n",
      "           4     0.0000    0.0000    0.0000        22\n",
      "           5     0.1119    0.0067    0.0127      4760\n",
      "           6     0.2583    0.0088    0.0169      3538\n",
      "           7     0.9711    0.0483    0.0920      3478\n",
      "           8     1.0000    0.0064    0.0126      3300\n",
      "           9     0.5672    0.6318    0.5978     12000\n",
      "          10     0.3750    0.0044    0.0086      6176\n",
      "          11     0.0000    0.0000    0.0000         6\n",
      "          12     0.3071    0.6261    0.4121       904\n",
      "          13     0.1183    0.1173    0.1178       392\n",
      "          14     0.0000    0.0000    0.0000        12\n",
      "\n",
      "    accuracy                         0.6897     89762\n",
      "   macro avg     0.4681    0.3534    0.3206     89762\n",
      "weighted avg     0.6550    0.6897    0.6050     89762\n",
      "\n"
     ]
    }
   ],
   "source": [
    "print(cr)"
   ]
  },
  {
   "cell_type": "code",
   "execution_count": 46,
   "id": "4d7b539e",
   "metadata": {},
   "outputs": [
    {
     "name": "stdout",
     "output_type": "stream",
     "text": [
      "              precision    recall  f1-score   support\n",
      "\n",
      "           0     0.9266    0.9888    0.9567     30000\n",
      "           1     0.8360    0.9143    0.8734     12000\n",
      "           2     0.9902    0.9562    0.9729     12000\n",
      "           3     0.9551    0.9966    0.9754      1174\n",
      "           4     0.0000    0.0000    0.0000        22\n",
      "           5     0.9824    0.9239    0.9523      4760\n",
      "           6     0.9742    0.6614    0.7879      3538\n",
      "           7     0.9039    0.4166    0.5704      3478\n",
      "           8     0.5370    0.8273    0.6512      3300\n",
      "           9     0.7853    0.6808    0.7293     12000\n",
      "          10     0.7950    0.5494    0.6498      6176\n",
      "          11     0.5455    1.0000    0.7059         6\n",
      "          12     0.3376    0.7566    0.4669       904\n",
      "          13     0.1063    0.4158    0.1693       392\n",
      "          14     0.0000    0.0000    0.0000        12\n",
      "\n",
      "    accuracy                         0.8535     89762\n",
      "   macro avg     0.6450    0.6725    0.6307     89762\n",
      "weighted avg     0.8752    0.8535    0.8546     89762\n",
      "\n"
     ]
    }
   ],
   "source": [
    "print(cr)"
   ]
  },
  {
   "cell_type": "code",
   "execution_count": 37,
   "id": "8364a1f0",
   "metadata": {},
   "outputs": [
    {
     "name": "stdout",
     "output_type": "stream",
     "text": [
      "              precision    recall  f1-score   support\n",
      "\n",
      "           0     0.8527    0.9954    0.9185     30000\n",
      "           1     0.9289    0.8697    0.8983     12000\n",
      "           2     0.9927    0.8769    0.9312     12000\n",
      "           3     0.9725    0.9932    0.9827      1174\n",
      "           4     0.0000    0.0000    0.0000        22\n",
      "           5     0.9967    0.8206    0.9001      4760\n",
      "           6     0.9937    0.4921    0.6582      3538\n",
      "           7     0.6724    0.7890    0.7260      3478\n",
      "           8     0.6487    0.6233    0.6358      3300\n",
      "           9     0.9148    0.5754    0.7065     12000\n",
      "          10     0.6090    0.8960    0.7252      6176\n",
      "          11     0.0000    0.0000    0.0000         6\n",
      "          12     0.3107    0.2987    0.3046       904\n",
      "          13     0.1930    0.6301    0.2955       392\n",
      "          14     0.0000    0.0000    0.0000        12\n",
      "\n",
      "    accuracy                         0.8399     89762\n",
      "   macro avg     0.6057    0.5907    0.5788     89762\n",
      "weighted avg     0.8647    0.8399    0.8383     89762\n",
      "\n"
     ]
    }
   ],
   "source": [
    "print(cr)"
   ]
  },
  {
   "cell_type": "code",
   "execution_count": 45,
   "id": "e5a6d1ec",
   "metadata": {},
   "outputs": [
    {
     "name": "stdout",
     "output_type": "stream",
     "text": [
      "              precision    recall  f1-score   support\n",
      "\n",
      "           0     0.7756    0.9981    0.8729     30000\n",
      "           1     0.9407    0.8642    0.9008     12000\n",
      "           2     0.8917    0.7551    0.8177     12000\n",
      "           3     0.7778    0.0119    0.0235      1174\n",
      "           4     1.0000    1.0000    1.0000        22\n",
      "           5     0.9924    0.9071    0.9479      4760\n",
      "           6     0.0000    0.0000    0.0000      3538\n",
      "           7     0.9186    0.4543    0.6079      3478\n",
      "           8     0.7692    0.4000    0.5263      3300\n",
      "           9     0.7922    0.7003    0.7434     12000\n",
      "          10     0.5300    0.9616    0.6834      6176\n",
      "          11     0.0000    0.0000    0.0000         6\n",
      "          12     0.7047    0.2323    0.3494       904\n",
      "          13     0.0000    0.0000    0.0000       392\n",
      "          14     0.0000    0.0000    0.0000        12\n",
      "\n",
      "    accuracy                         0.7930     89762\n",
      "   macro avg     0.6062    0.4857    0.4982     89762\n",
      "weighted avg     0.7806    0.7930    0.7651     89762\n",
      "\n"
     ]
    }
   ],
   "source": [
    "print(cr)"
   ]
  },
  {
   "cell_type": "code",
   "execution_count": 38,
   "id": "8224ce5d",
   "metadata": {},
   "outputs": [],
   "source": [
    "G_test.ndata['h'] = th.ones(G_test.num_nodes(), G_test.edata['h'].shape[1]) "
   ]
  },
  {
   "cell_type": "code",
   "execution_count": 76,
   "id": "11927175",
   "metadata": {},
   "outputs": [],
   "source": [
    "def test(G_test, model):\n",
    "    test_node_features = G_test.ndata['h']\n",
    "    test_edge_features = G_test.edata['h']\n",
    "    y_true = G_test.edata['label'].detach().numpy()\n",
    "    pred = model(G_test, test_node_features, test_edge_features)\n",
    "    y_pred = pred.detach().numpy()\n",
    "    y_pred = np.argmax(y_pred, -1)\n",
    "    cm = confusion_matrix(y_true, y_pred)\n",
    "    cr = classification_report(y_true, y_pred, digits=4)\n",
    "    return cm, cr"
   ]
  },
  {
   "cell_type": "code",
   "execution_count": 69,
   "id": "4aa3fbbe",
   "metadata": {},
   "outputs": [],
   "source": [
    "G_test = load_graphs(\"./cic2017_test_data_rus.bin\")[0][0]"
   ]
  },
  {
   "cell_type": "code",
   "execution_count": 72,
   "id": "be175f36",
   "metadata": {},
   "outputs": [
    {
     "data": {
      "text/plain": [
       "Graph(num_nodes=52228, num_edges=363934,\n",
       "      ndata_schemes={}\n",
       "      edata_schemes={'label': Scheme(shape=(), dtype=torch.int64), 'h': Scheme(shape=(78,), dtype=torch.float32)})"
      ]
     },
     "execution_count": 72,
     "metadata": {},
     "output_type": "execute_result"
    }
   ],
   "source": [
    "G_test"
   ]
  },
  {
   "cell_type": "code",
   "execution_count": 75,
   "id": "66143bb8",
   "metadata": {},
   "outputs": [],
   "source": [
    "G_test.ndata['h'] = th.reshape(G_test.ndata['h'], (G_test.ndata['h'].shape[0], 1, G_test.ndata['h'].shape[1]))\n",
    "G_test.edata['h'] = th.reshape(G_test.edata['h'], (G_test.edata['h'].shape[0], 1, G_test.edata['h'].shape[1]))"
   ]
  },
  {
   "cell_type": "code",
   "execution_count": 72,
   "id": "979e66e3",
   "metadata": {},
   "outputs": [],
   "source": [
    "G_test.update_all(message_func_init, reduce_func_init)"
   ]
  },
  {
   "cell_type": "code",
   "execution_count": 71,
   "id": "a8602eca",
   "metadata": {},
   "outputs": [],
   "source": [
    "G_test.ndata['h'] = th.ones(G_test.num_nodes(), G_test.edata['h'].shape[1]) "
   ]
  },
  {
   "cell_type": "code",
   "execution_count": 44,
   "id": "1a95837c",
   "metadata": {},
   "outputs": [
    {
     "data": {
      "text/plain": [
       "Counter({0: 30000,\n",
       "         10: 6176,\n",
       "         7: 3478,\n",
       "         9: 12000,\n",
       "         1: 12000,\n",
       "         8: 3300,\n",
       "         12: 904,\n",
       "         13: 392,\n",
       "         2: 12000,\n",
       "         14: 12,\n",
       "         3: 1174,\n",
       "         5: 4760,\n",
       "         6: 3538,\n",
       "         11: 6,\n",
       "         4: 22})"
      ]
     },
     "execution_count": 44,
     "metadata": {},
     "output_type": "execute_result"
    }
   ],
   "source": [
    "Counter(G_test.edata['label'].numpy())"
   ]
  },
  {
   "cell_type": "code",
   "execution_count": null,
   "id": "45349afe",
   "metadata": {},
   "outputs": [],
   "source": [
    "class GATLayer(nn.Module):\n",
    "    def __init__(self, in_dim , out_dim):\n",
    "        super(GATLayer, self).__init__()\n",
    "        self.W = nn.Linear(in_dim, out_dim, bias=False)\n",
    "        self.attn_fc = nn.Linear(3 * out_dim, 1, bias=False)\n",
    "        self.reset_parameters()\n",
    "    def reset_parameters(self):\n",
    "        gain = nn.init.calculate_gain('relu')\n",
    "        nn.init.xavier_normal_(self.W.weight, gain=gain)\n",
    "        nn.init.xavier_normal_(self.attn_fc.weight, gain=gain)\n",
    "    def edge_attention(self, edges):\n",
    "        z = torch.cat([edges.src['z'], edges.dst['z'], edges.data['z']], -1)\n",
    "        a = self.attn_fc(z)\n",
    "        alpha = F.leaky_relu(a)\n",
    "        return {'e': alpha}\n",
    "    def message_func(self, edges):\n",
    "        return {'z': edges.src['z'], 'e': edges.data['e'] ,'m': edges.data['z']}\n",
    "    def reduce_func(self, nodes):\n",
    "        alpha = F.softmax(nodes.mailbox['e'], dim=1) # 归一化每一条入边的注意力系数\n",
    "        h = torch.sum(alpha * nodes.mailbox['m'], dim=1)\n",
    "        return {'h': F.relu(h)}\n",
    "    def forward(self, g_dgl, hfeat, efeat):\n",
    "        with g_dgl.local_scope():\n",
    "            g = g_dgl\n",
    "            z1 = self.W(hfeat)\n",
    "            z2 = self.W(efeat)\n",
    "            g.ndata['z'] = z1 # 每个节点的特征\n",
    "            g.edata['z'] = z2 # 每条边的特征\n",
    "            g.apply_edges(self.edge_attention) # 为每一条边获得其注意力系数\n",
    "            g.update_all(self.message_func, self.reduce_func)\n",
    "            return g.ndata['h'], g.edata['z']\n",
    "class Model(nn.Module):\n",
    "    def __init__(self, in_dim, hidden_dim, out_dim):\n",
    "        super().__init__()\n",
    "        self.layer1 = GATLayer(in_dim, hidden_dim)\n",
    "        self.layer2 = GATLayer(hidden_dim, out_dim)\n",
    "        self.pred = MLPPredictor(out_dim, 5)\n",
    "    def forward(self, g, nfeats, efeats):\n",
    "        nfeats, efeats = self.layer1(g, nfeats, efeats)\n",
    "#         nfeats, efeats = self.layer2(g, nfeats, efeats)\n",
    "        return self.pred(g, nfeats)\n",
    "class MLPPredictor(nn.Module):\n",
    "    def __init__(self, in_features, out_classes):\n",
    "        super().__init__()\n",
    "        self.W = nn.Linear(in_features * 2, out_classes)\n",
    "    def apply_edges(self, edges):\n",
    "        h_u = edges.src['h']\n",
    "        h_v = edges.dst['h']\n",
    "        score = self.W(th.cat([h_u, h_v], 1))\n",
    "        return {'score': score}\n",
    "    def forward(self, graph, h):\n",
    "        with graph.local_scope():\n",
    "            graph.ndata['h'] = h\n",
    "            graph.apply_edges(self.apply_edges)\n",
    "            return graph.edata['score']"
   ]
  },
  {
   "cell_type": "code",
   "execution_count": 32,
   "id": "e9d4aded",
   "metadata": {},
   "outputs": [],
   "source": [
    "class GATLayer(nn.Module):\n",
    "    def __init__(self, in_dim, out_dim, e_dim):\n",
    "        super(GATLayer, self).__init__()\n",
    "        self.w1 = nn.Linear(in_dim + e_dim, out_dim, bias=False)\n",
    "        self.w2 = nn.Linear(in_dim + out_dim, out_dim, bias=False)\n",
    "        self.w_att = nn.Linear(in_dim + out_dim, 1, bias=False)\n",
    "        self.reset_parameters()\n",
    "    def reset_parameters(self):\n",
    "        gain = nn.init.calculate_gain('relu')\n",
    "        nn.init.xavier_normal_(self.w1.weight, gain=gain)\n",
    "        nn.init.xavier_normal_(self.w2.weight, gain=gain)\n",
    "        nn.init.xavier_normal_(self.w_att.weight, gain=gain)\n",
    "    def edge_attention(self, edges):\n",
    "        z = torch.cat([edges.src['h'], edges.data['m']], -1)\n",
    "        a = self.w_att(z)\n",
    "        alpha = F.leaky_relu(a)\n",
    "        return {'e': alpha}\n",
    "    def msg1(self, edges):\n",
    "        return {'m': self.w1(th.cat([edges.src['h'], edges.data['h']], -1))}\n",
    "    \n",
    "    def message_func(self, edges):\n",
    "        return {'z': edges.data['m'], 'e': edges.data['e']}\n",
    "    def reduce_func(self, nodes):\n",
    "        alpha = F.softmax(nodes.mailbox['e'], dim=1) # 归一化每一条入边的注意力系数\n",
    "        h = torch.mean(nodes.mailbox['z'], dim=1)\n",
    "        return {'h_neigh': h}\n",
    "    def forward(self, g_dgl, hfeat, efeat):\n",
    "        with g_dgl.local_scope():\n",
    "            g = g_dgl\n",
    "            g.ndata['h'] = hfeat\n",
    "            g.edata['h'] = efeat\n",
    "            g.apply_edges(self.msg1)\n",
    "            g.apply_edges(self.edge_attention) # 为每一条边获得其注意力系数\n",
    "            g.update_all(self.message_func, self.reduce_func)\n",
    "            g.ndata['h'] = F.relu(self.w2(th.cat([g.ndata['h'], g.ndata['h_neigh']], -1)))\n",
    "            return g.ndata['h']\n",
    "class Model(nn.Module):\n",
    "    def __init__(self, in_dim, hidden_dim, out_dim, e_dim):\n",
    "        super().__init__()\n",
    "        self.layer1 = GATLayer(in_dim, hidden_dim, e_dim)\n",
    "        self.layer2 = GATLayer(hidden_dim, out_dim, e_dim)\n",
    "        self.pred = MLPPredictor(out_dim, 15)\n",
    "    def forward(self, g, nfeats, efeats):\n",
    "        nfeats = self.layer1(g, nfeats, efeats)\n",
    "        nfeats = self.layer2(g, nfeats, efeats)\n",
    "        return self.pred(g, nfeats)\n",
    "class MLPPredictor(nn.Module):\n",
    "    def __init__(self, in_features, out_classes):\n",
    "        super().__init__()\n",
    "        self.W = nn.Linear(in_features * 2, out_classes)\n",
    "    def apply_edges(self, edges):\n",
    "        h_u = edges.src['h']\n",
    "        h_v = edges.dst['h']\n",
    "        score = self.W(th.cat([h_u, h_v], 1))\n",
    "        return {'score': score}\n",
    "    def forward(self, graph, h):\n",
    "        with graph.local_scope():\n",
    "            graph.ndata['h'] = h\n",
    "            graph.apply_edges(self.apply_edges)\n",
    "            return graph.edata['score']"
   ]
  }
 ],
 "metadata": {
  "kernelspec": {
   "display_name": "Python 3",
   "language": "python",
   "name": "python3"
  },
  "language_info": {
   "codemirror_mode": {
    "name": "ipython",
    "version": 3
   },
   "file_extension": ".py",
   "mimetype": "text/x-python",
   "name": "python",
   "nbconvert_exporter": "python",
   "pygments_lexer": "ipython3",
   "version": "3.6.13"
  }
 },
 "nbformat": 4,
 "nbformat_minor": 5
}
