{
 "cells": [
  {
   "cell_type": "code",
   "execution_count": 1,
   "id": "79e31772",
   "metadata": {},
   "outputs": [],
   "source": [
    "import networkx\n",
    "import torch\n",
    "import numpy as np\n",
    "import pandas as pd\n",
    "from sklearn.metrics import *\n",
    "from torch_geometric.loader import NeighborSampler, NeighborLoader\n",
    "from torch_geometric.data import Data, DataLoader\n",
    "from torch_geometric.nn import GATConv, ResGatedGraphConv, GATv2Conv, SAGEConv, GENConv, DeepGCNLayer, PairNorm, GINConv\n",
    "from sklearn.preprocessing import MinMaxScaler\n",
    "from sklearn.model_selection import train_test_split\n",
    "from sklearn.impute import SimpleImputer\n",
    "import torch.nn.functional as F\n",
    "from imblearn.under_sampling import RandomUnderSampler\n",
    "pd.options.mode.use_inf_as_na = True\n",
    "from collections import Counter\n",
    "from sklearn.feature_selection import SelectFromModel\n",
    "import torch.nn as nn\n",
    "import time\n",
    "import pickle\n",
    "from torch.nn import LayerNorm, Linear, ReLU\n",
    "from torch_scatter import scatter\n",
    "from tqdm import tqdm\n",
    "from torch_geometric.loader import RandomNodeSampler\n",
    "import math\n",
    "import copy\n",
    "from sklearn.metrics import f1_score\n",
    "from torch.optim import lr_scheduler\n",
    "from sklearn.manifold import TSNE"
   ]
  },
  {
   "cell_type": "code",
   "execution_count": 2,
   "id": "a33f2928",
   "metadata": {},
   "outputs": [],
   "source": [
    "import warnings\n",
    "# action参数可以设置为ignore，一位一次也不喜爱你是，once表示为只显示一次\n",
    "warnings.filterwarnings(action='ignore')"
   ]
  },
  {
   "cell_type": "code",
   "execution_count": 3,
   "id": "d8d10df8",
   "metadata": {},
   "outputs": [
    {
     "data": {
      "text/plain": [
       "<torch._C.Generator at 0x2aeddaef9f90>"
      ]
     },
     "execution_count": 3,
     "metadata": {},
     "output_type": "execute_result"
    }
   ],
   "source": [
    "np.random.seed(2022)\n",
    "torch.manual_seed(2022)"
   ]
  },
  {
   "cell_type": "code",
   "execution_count": null,
   "id": "e64c0aa9",
   "metadata": {},
   "outputs": [],
   "source": []
  },
  {
   "cell_type": "code",
   "execution_count": 4,
   "id": "5f6f1390",
   "metadata": {},
   "outputs": [],
   "source": [
    "class Transition_layer(torch.nn.Module):\n",
    "    def __init__(self, act, norm, lin):\n",
    "        super().__init__()\n",
    "        self.act = act\n",
    "        self.norm = norm\n",
    "        self.lin = lin\n",
    "    def forward(self, x):\n",
    "        x = self.norm(x)\n",
    "        x = self.act(x)\n",
    "        x = self.lin(x)\n",
    "        return x\n",
    "        \n",
    "class DenseGAT(torch.nn.Module):\n",
    "    def __init__(self, in_channels, num_class, num_layers=6, num_blocks=3, growth_rate=10, theta=0.5):\n",
    "        super().__init__()\n",
    "        self.num_layers = num_layers\n",
    "        self.blocks = num_blocks\n",
    "        self.theta = theta\n",
    "        self.growth_rate = growth_rate\n",
    "        self.base_rate = growth_rate\n",
    "        self.in_channels = in_channels\n",
    "        self.out_channels = num_class\n",
    "        self.linear_layers = torch.nn.ModuleList()\n",
    "        self.transition_layers = torch.nn.ModuleList()\n",
    "        self.block_layers = torch.nn.ModuleList()\n",
    "        self.node_encoder = Linear(in_channels, in_channels)\n",
    "        self.linear_layers.append(self.node_encoder)\n",
    "        \n",
    "        for i in range(self.blocks):\n",
    "            # block\n",
    "            layers = torch.nn.ModuleList()\n",
    "            # 2^(i - 1) * k0\n",
    "            self.growth_rate = int(math.pow(2, i) * self.base_rate)\n",
    "            print(self.growth_rate)\n",
    "            for j in range(1, self.num_layers + 1):\n",
    "                conv = GATv2Conv(in_channels + (j - 1) * self.growth_rate, self.growth_rate, aggr='max') \n",
    "                norm = LayerNorm(self.growth_rate)\n",
    "                act = ReLU()\n",
    "                layer = DeepGCNLayer(conv, norm, act, block='dense')\n",
    "                layers.append(layer)\n",
    "            self.block_layers.append(layers)\n",
    "            \n",
    "            # transition\n",
    "            hidden_channels = in_channels +  self.num_layers * self.growth_rate\n",
    "            out_channels = int(hidden_channels * self.theta)\n",
    "            transition_norm = LayerNorm(hidden_channels, elementwise_affine=True)\n",
    "            transition_act = ReLU()\n",
    "            transition_lin = Linear(hidden_channels, out_channels)\n",
    "            transitionLayer = Transition_layer(transition_act, transition_norm, transition_lin)\n",
    "            self.transition_layers.append(transitionLayer)\n",
    "            in_channels = copy.copy(out_channels)\n",
    "        \n",
    "        self.lin_last = Linear(in_channels, self.out_channels)\n",
    "        self.linear_layers.append(self.lin_last)\n",
    "        \n",
    "    def forward(self, x, edge_index):\n",
    "#         x = self.linear_layers[0](x)\n",
    "        for i in range(self.blocks):\n",
    "            # block layer\n",
    "            for layer in self.block_layers[i]:\n",
    "                x = layer(x, edge_index)\n",
    "            # transition layer\n",
    "            x = self.transition_layers[i](x)\n",
    "        x = self.linear_layers[-1](x)\n",
    "        return x"
   ]
  },
  {
   "cell_type": "code",
   "execution_count": 5,
   "id": "42ed76b0",
   "metadata": {},
   "outputs": [],
   "source": [
    "def train():\n",
    "    total_loss = total_correct = total_examples = 0\n",
    "    start_time = time.time()\n",
    "    for batch in train_loader:\n",
    "        batch = batch.to(device)\n",
    "        y = batch.y[:batch.batch_size]\n",
    "        optimizer.zero_grad()\n",
    "        y_hat = model(batch.x.to(device), batch.edge_index.to(device))[:batch.batch_size]\n",
    "        loss = F.cross_entropy(y_hat, y)\n",
    "        loss.backward()\n",
    "        optimizer.step()\n",
    "#         scheduler1.step()\n",
    "        total_loss += float(loss) * batch.batch_size\n",
    "        total_correct += int((y_hat.argmax(dim=-1) == y).sum())\n",
    "        total_examples += batch.batch_size\n",
    "    end_time = time.time()  \n",
    "    \n",
    "    return total_loss / total_examples, total_correct / total_examples\n",
    "\n",
    "def inferrence(model, subgraph_loader):\n",
    "    total_loss = total_correct = total_examples = 0\n",
    "    xs = []\n",
    "    y = []\n",
    "    pbar = tqdm(total=len(subgraph_loader))\n",
    "    for batch in subgraph_loader:\n",
    "        y_hat = model(batch.x, batch.edge_index.to(device))[:batch.batch_size]\n",
    "        xs.append(y_hat.cpu())\n",
    "        y_true = batch.y[:batch.batch_size]\n",
    "        y.append(y_true.cpu())\n",
    "        pbar.update(1)\n",
    "    pbar.close()\n",
    "    y_hat = torch.cat(xs, 0)\n",
    "    y_hat = y_hat.detach().numpy()\n",
    "    y_hat = np.argmax(y_hat, -1)\n",
    "    y = torch.cat(y, 0)\n",
    "    print(y_hat)\n",
    "    print(y)\n",
    "    cr1 = classification_report(y, y_hat,digits=2)\n",
    "    cf = confusion_matrix(y, y_hat)\n",
    "    print(cr1)\n",
    "    print(cf)\n",
    "\n",
    "def get_metrics(y_true, y_pred):\n",
    "    cr = classification_report(y_true, y_pred, digits=4)\n",
    "    cm = confusion_matrix(y_true, y_pred)\n",
    "    print(cr)\n",
    "    print(cm)"
   ]
  },
  {
   "cell_type": "code",
   "execution_count": 6,
   "id": "71bc67de",
   "metadata": {},
   "outputs": [],
   "source": [
    "from torch_geometric.utils import *"
   ]
  },
  {
   "cell_type": "code",
   "execution_count": 7,
   "id": "cff1ceed",
   "metadata": {},
   "outputs": [],
   "source": [
    "train_data = torch.load('/home/xiaoyujie/densegat/mydata/unsw15_train_lg')"
   ]
  },
  {
   "cell_type": "code",
   "execution_count": 8,
   "id": "9b0c35ae",
   "metadata": {},
   "outputs": [],
   "source": [
    "test_data = torch.load('/home/xiaoyujie/densegat/mydata/unsw15_test_lg')"
   ]
  },
  {
   "cell_type": "code",
   "execution_count": 9,
   "id": "1038ec9e",
   "metadata": {},
   "outputs": [],
   "source": [
    "all_data = torch.load('/home/xiaoyujie/densegat/mydata/unswnb15_alldata')"
   ]
  },
  {
   "cell_type": "code",
   "execution_count": 10,
   "id": "b4e2c629",
   "metadata": {},
   "outputs": [
    {
     "name": "stdout",
     "output_type": "stream",
     "text": [
      "[1.14480248e-01 5.70476418e+00 1.81610242e+01 1.55330760e+01\n",
      " 1.17877832e+00 1.68075848e+02 1.04760375e+01 1.46189712e+03\n",
      " 1.09073376e+02 9.48663399e+01]\n"
     ]
    },
    {
     "ename": "NameError",
     "evalue": "name 'device' is not defined",
     "output_type": "error",
     "traceback": [
      "\u001b[0;31m---------------------------------------------------------------------------\u001b[0m",
      "\u001b[0;31mNameError\u001b[0m                                 Traceback (most recent call last)",
      "\u001b[0;32m<ipython-input-10-8bccdd37af8f>\u001b[0m in \u001b[0;36m<module>\u001b[0;34m\u001b[0m\n\u001b[1;32m      2\u001b[0m \u001b[0mclass_weights\u001b[0m \u001b[0;34m=\u001b[0m \u001b[0mclass_weight\u001b[0m\u001b[0;34m.\u001b[0m\u001b[0mcompute_class_weight\u001b[0m\u001b[0;34m(\u001b[0m\u001b[0;34m'balanced'\u001b[0m\u001b[0;34m,\u001b[0m\u001b[0mnp\u001b[0m\u001b[0;34m.\u001b[0m\u001b[0munique\u001b[0m\u001b[0;34m(\u001b[0m\u001b[0mtrain_data\u001b[0m\u001b[0;34m.\u001b[0m\u001b[0my\u001b[0m\u001b[0;34m.\u001b[0m\u001b[0mnumpy\u001b[0m\u001b[0;34m(\u001b[0m\u001b[0;34m)\u001b[0m\u001b[0;34m)\u001b[0m\u001b[0;34m,\u001b[0m\u001b[0mtrain_data\u001b[0m\u001b[0;34m.\u001b[0m\u001b[0my\u001b[0m\u001b[0;34m.\u001b[0m\u001b[0mnumpy\u001b[0m\u001b[0;34m(\u001b[0m\u001b[0;34m)\u001b[0m\u001b[0;34m)\u001b[0m\u001b[0;34m\u001b[0m\u001b[0;34m\u001b[0m\u001b[0m\n\u001b[1;32m      3\u001b[0m \u001b[0mprint\u001b[0m\u001b[0;34m(\u001b[0m\u001b[0mclass_weights\u001b[0m\u001b[0;34m)\u001b[0m\u001b[0;34m\u001b[0m\u001b[0;34m\u001b[0m\u001b[0m\n\u001b[0;32m----> 4\u001b[0;31m \u001b[0mclass_weights\u001b[0m \u001b[0;34m=\u001b[0m \u001b[0mtorch\u001b[0m\u001b[0;34m.\u001b[0m\u001b[0mFloatTensor\u001b[0m\u001b[0;34m(\u001b[0m\u001b[0mclass_weights\u001b[0m\u001b[0;34m)\u001b[0m\u001b[0;34m.\u001b[0m\u001b[0mto\u001b[0m\u001b[0;34m(\u001b[0m\u001b[0mdevice\u001b[0m\u001b[0;34m)\u001b[0m\u001b[0;34m\u001b[0m\u001b[0;34m\u001b[0m\u001b[0m\n\u001b[0m",
      "\u001b[0;31mNameError\u001b[0m: name 'device' is not defined"
     ]
    }
   ],
   "source": [
    "from sklearn.utils import class_weight\n",
    "class_weights = class_weight.compute_class_weight('balanced',np.unique(train_data.y.numpy()),train_data.y.numpy())\n",
    "print(class_weights)\n",
    "class_weights = torch.FloatTensor(class_weights).to(device)"
   ]
  },
  {
   "cell_type": "code",
   "execution_count": 9,
   "id": "f60c8afd",
   "metadata": {},
   "outputs": [
    {
     "data": {
      "text/plain": [
       "(Data(x=[2032037, 41], edge_index=[2, 15968136], y=[2032037], num_nodes=2032037),\n",
       " Data(x=[508010, 41], edge_index=[2, 1025396], y=[508010], num_nodes=508010))"
      ]
     },
     "execution_count": 9,
     "metadata": {},
     "output_type": "execute_result"
    }
   ],
   "source": [
    "train_data, test_data"
   ]
  },
  {
   "cell_type": "code",
   "execution_count": 11,
   "id": "cdda3e92",
   "metadata": {},
   "outputs": [
    {
     "data": {
      "text/plain": [
       "(Data(x=[2032037, 41], edge_index=[2, 15968136], y=[2032037], num_nodes=2032037),\n",
       " Data(x=[508010, 41], edge_index=[2, 1025396], y=[508010], num_nodes=508010),\n",
       " Data(x=[2540047, 41], edge_index=[2, 25083017], y=[2540047], num_nodes=2540047, train_mask=[2032037], test_mask=[508010]))"
      ]
     },
     "execution_count": 11,
     "metadata": {},
     "output_type": "execute_result"
    }
   ],
   "source": [
    "train_data, test_data, all_data"
   ]
  },
  {
   "cell_type": "code",
   "execution_count": 12,
   "id": "d27840a6",
   "metadata": {},
   "outputs": [],
   "source": [
    "# 是否加自环"
   ]
  },
  {
   "cell_type": "code",
   "execution_count": 13,
   "id": "bfc12678",
   "metadata": {},
   "outputs": [],
   "source": [
    "train_data.edge_index = add_self_loops(train_data.edge_index)[0]\n",
    "test_data.edge_index = add_self_loops(test_data.edge_index)[0]"
   ]
  },
  {
   "cell_type": "code",
   "execution_count": 14,
   "id": "144414da",
   "metadata": {},
   "outputs": [
    {
     "data": {
      "text/plain": [
       "(Data(x=[2032037, 41], edge_index=[2, 18000173], y=[2032037], num_nodes=2032037),\n",
       " Data(x=[508010, 41], edge_index=[2, 1533393], y=[508010], num_nodes=508010),\n",
       " Data(x=[2540047, 41], edge_index=[2, 25083017], y=[2540047], num_nodes=2540047, train_mask=[2032037], test_mask=[508010]))"
      ]
     },
     "execution_count": 14,
     "metadata": {},
     "output_type": "execute_result"
    }
   ],
   "source": [
    "train_data, test_data, all_data"
   ]
  },
  {
   "cell_type": "code",
   "execution_count": 15,
   "id": "fc3314cf",
   "metadata": {},
   "outputs": [],
   "source": [
    "# 二分类"
   ]
  },
  {
   "cell_type": "code",
   "execution_count": 155,
   "id": "8b4648c6",
   "metadata": {},
   "outputs": [],
   "source": [
    "train_label = train_data.y.numpy()\n",
    "test_label = test_data.y.numpy()\n",
    "train_label[train_label != 0] = 1\n",
    "test_label[test_label != 0] = 1\n",
    "train_data.y = torch.LongTensor(train_label)\n",
    "test_data.y = torch.LongTensor(test_label)"
   ]
  },
  {
   "cell_type": "code",
   "execution_count": 16,
   "id": "d18106aa",
   "metadata": {},
   "outputs": [],
   "source": [
    "train_num_nodes = torch.arange(len(train_data.y))\n",
    "test_num_nodes = torch.arange(len(test_data.y))"
   ]
  },
  {
   "cell_type": "code",
   "execution_count": 17,
   "id": "f94985fa",
   "metadata": {},
   "outputs": [
    {
     "data": {
      "text/plain": [
       "False"
      ]
     },
     "execution_count": 17,
     "metadata": {},
     "output_type": "execute_result"
    }
   ],
   "source": [
    "train_data.contains_isolated_nodes()"
   ]
  },
  {
   "cell_type": "code",
   "execution_count": 18,
   "id": "7b6cf9fd",
   "metadata": {},
   "outputs": [],
   "source": [
    "train_data = train_data.to('cpu')\n",
    "test_data = test_data.to('cpu')"
   ]
  },
  {
   "cell_type": "code",
   "execution_count": 65,
   "id": "5b31d4f9",
   "metadata": {},
   "outputs": [],
   "source": [
    "node_num_per_k = 10\n",
    "depth = 3"
   ]
  },
  {
   "cell_type": "code",
   "execution_count": 66,
   "id": "dff9dab0",
   "metadata": {},
   "outputs": [],
   "source": [
    "hop = [node_num_per_k] * depth\n",
    "train_loader = NeighborLoader(train_data, input_nodes = train_num_nodes, num_neighbors=hop, batch_size=1024, shuffle=True)"
   ]
  },
  {
   "cell_type": "code",
   "execution_count": 67,
   "id": "03e328ae",
   "metadata": {},
   "outputs": [
    {
     "data": {
      "text/plain": [
       "Data(x=[2519, 41], edge_index=[2, 4071], y=[2519], num_nodes=2519, batch_size=1024)"
      ]
     },
     "execution_count": 67,
     "metadata": {},
     "output_type": "execute_result"
    }
   ],
   "source": [
    "next(iter(train_loader))"
   ]
  },
  {
   "cell_type": "code",
   "execution_count": 68,
   "id": "be2f9b23",
   "metadata": {},
   "outputs": [],
   "source": [
    "subgraph_loader = NeighborLoader(test_data, input_nodes=test_num_nodes,num_neighbors=hop, batch_size=1024, shuffle=False)"
   ]
  },
  {
   "cell_type": "code",
   "execution_count": 69,
   "id": "09810cfa",
   "metadata": {},
   "outputs": [
    {
     "name": "stdout",
     "output_type": "stream",
     "text": [
      "10\n"
     ]
    }
   ],
   "source": [
    "in_channels = train_data.x.size(-1)\n",
    "num_class = 10\n",
    "model = DenseGAT(in_channels=in_channels, num_class=num_class, \n",
    "                 num_layers=3, num_blocks=1, growth_rate=10, theta=0.2)\n",
    "loss_all = []"
   ]
  },
  {
   "cell_type": "code",
   "execution_count": 70,
   "id": "a015ea53",
   "metadata": {},
   "outputs": [
    {
     "data": {
      "text/plain": [
       "6262"
      ]
     },
     "execution_count": 70,
     "metadata": {},
     "output_type": "execute_result"
    }
   ],
   "source": [
    "sum(p.numel() for p in model.parameters())"
   ]
  },
  {
   "cell_type": "code",
   "execution_count": 71,
   "id": "e6d33d1c",
   "metadata": {},
   "outputs": [],
   "source": [
    "optimizer = torch.optim.Adam(model.parameters(), lr=0.01)"
   ]
  },
  {
   "cell_type": "code",
   "execution_count": 72,
   "id": "1f820078",
   "metadata": {},
   "outputs": [],
   "source": [
    "device = 'cuda:3'\n",
    "model = model.to(device)"
   ]
  },
  {
   "cell_type": "code",
   "execution_count": null,
   "id": "1e5a4297",
   "metadata": {},
   "outputs": [
    {
     "name": "stdout",
     "output_type": "stream",
     "text": [
      "epoch: 0001 loss_train: 0.0783 acc_train: 0.9709 time: 25.4631s\n",
      "epoch: 0002 loss_train: 0.0646 acc_train: 0.9746 time: 28.1804s\n",
      "epoch: 0003 loss_train: 0.0623 acc_train: 0.9752 time: 26.9731s\n",
      "epoch: 0004 loss_train: 0.0611 acc_train: 0.9756 time: 24.9103s\n",
      "epoch: 0005 loss_train: 0.0603 acc_train: 0.9758 time: 26.2494s\n",
      "epoch: 0006 loss_train: 0.0597 acc_train: 0.9760 time: 24.5251s\n",
      "epoch: 0007 loss_train: 0.0590 acc_train: 0.9764 time: 24.9632s\n",
      "epoch: 0008 loss_train: 0.0584 acc_train: 0.9766 time: 30.2309s\n",
      "epoch: 0009 loss_train: 0.0582 acc_train: 0.9767 time: 29.3853s\n",
      "epoch: 0010 loss_train: 0.0579 acc_train: 0.9768 time: 33.8158s\n",
      "epoch: 0011 loss_train: 0.0567 acc_train: 0.9775 time: 34.0565s\n",
      "epoch: 0012 loss_train: 0.0561 acc_train: 0.9777 time: 34.5833s\n",
      "epoch: 0013 loss_train: 0.0558 acc_train: 0.9778 time: 33.2635s\n",
      "epoch: 0014 loss_train: 0.0556 acc_train: 0.9779 time: 34.5225s\n",
      "epoch: 0015 loss_train: 0.0555 acc_train: 0.9779 time: 33.9208s\n",
      "epoch: 0016 loss_train: 0.0554 acc_train: 0.9780 time: 34.1903s\n",
      "epoch: 0017 loss_train: 0.0554 acc_train: 0.9780 time: 34.7456s\n",
      "epoch: 0018 loss_train: 0.0553 acc_train: 0.9780 time: 35.3840s\n",
      "epoch: 0019 loss_train: 0.0553 acc_train: 0.9780 time: 35.6901s\n",
      "epoch: 0020 loss_train: 0.0552 acc_train: 0.9780 time: 35.8955s\n",
      "epoch: 0021 loss_train: 0.0552 acc_train: 0.9781 time: 35.8929s\n",
      "epoch: 0022 loss_train: 0.0551 acc_train: 0.9781 time: 33.3597s\n",
      "epoch: 0023 loss_train: 0.0551 acc_train: 0.9781 time: 31.7890s\n",
      "epoch: 0024 loss_train: 0.0551 acc_train: 0.9781 time: 36.4571s\n",
      "epoch: 0025 loss_train: 0.0550 acc_train: 0.9781 time: 34.3328s\n",
      "epoch: 0026 loss_train: 0.0550 acc_train: 0.9781 time: 33.7114s\n",
      "epoch: 0027 loss_train: 0.0550 acc_train: 0.9781 time: 34.2143s\n",
      "epoch: 0028 loss_train: 0.0550 acc_train: 0.9781 time: 34.1302s\n",
      "epoch: 0029 loss_train: 0.0550 acc_train: 0.9781 time: 36.4162s\n",
      "epoch: 0030 loss_train: 0.0549 acc_train: 0.9781 time: 36.0311s\n",
      "epoch: 0031 loss_train: 0.0549 acc_train: 0.9781 time: 36.5273s\n",
      "epoch: 0032 loss_train: 0.0549 acc_train: 0.9781 time: 35.2093s\n",
      "epoch: 0033 loss_train: 0.0549 acc_train: 0.9781 time: 34.3355s\n",
      "epoch: 0034 loss_train: 0.0549 acc_train: 0.9781 time: 35.0756s\n",
      "epoch: 0035 loss_train: 0.0549 acc_train: 0.9781 time: 33.5196s\n",
      "epoch: 0036 loss_train: 0.0548 acc_train: 0.9781 time: 33.3576s\n",
      "epoch: 0037 loss_train: 0.0548 acc_train: 0.9781 time: 35.0313s\n",
      "epoch: 0038 loss_train: 0.0548 acc_train: 0.9781 time: 35.6918s\n",
      "epoch: 0039 loss_train: 0.0548 acc_train: 0.9781 time: 36.8013s\n",
      "epoch: 0040 loss_train: 0.0548 acc_train: 0.9781 time: 34.9530s\n",
      "epoch: 0041 loss_train: 0.0548 acc_train: 0.9781 time: 34.1630s\n",
      "epoch: 0042 loss_train: 0.0548 acc_train: 0.9781 time: 35.4279s\n",
      "epoch: 0043 loss_train: 0.0548 acc_train: 0.9781 time: 34.7198s\n",
      "epoch: 0044 loss_train: 0.0547 acc_train: 0.9781 time: 34.6269s\n",
      "epoch: 0045 loss_train: 0.0548 acc_train: 0.9781 time: 37.9507s\n",
      "epoch: 0046 loss_train: 0.0547 acc_train: 0.9781 time: 33.1541s\n",
      "epoch: 0047 loss_train: 0.0547 acc_train: 0.9781 time: 32.4163s\n",
      "epoch: 0048 loss_train: 0.0547 acc_train: 0.9781 time: 35.0945s\n",
      "epoch: 0049 loss_train: 0.0547 acc_train: 0.9781 time: 34.8214s\n",
      "epoch: 0050 loss_train: 0.0547 acc_train: 0.9781 time: 33.9226s\n",
      "epoch: 0051 loss_train: 0.0547 acc_train: 0.9781 time: 33.3683s\n"
     ]
    }
   ],
   "source": [
    "model.train()\n",
    "epochs = 500\n",
    "for i in range(1, 1 + epochs):\n",
    "    start_time = time.time()\n",
    "    loss, acc = train()\n",
    "    end_time = time.time()\n",
    "    if i % 10 == 0:\n",
    "        optimizer = torch.optim.Adam(model.parameters(), lr=0.00001)\n",
    "    if i % 5:\n",
    "        torch.save(model.state_dict(), 'unsw_epoch_' + str(i))\n",
    "    print('epoch: {:04d}'.format(i),\n",
    "          'loss_train: {:.4f}'.format(loss),\n",
    "          'acc_train: {:.4f}'.format(acc),\n",
    "          'time: {:.4f}s'.format(end_time - start_time))\n",
    "    loss_all.append(loss)"
   ]
  },
  {
   "cell_type": "code",
   "execution_count": 30,
   "id": "dd2611f1",
   "metadata": {},
   "outputs": [],
   "source": [
    "device = 'cpu'\n",
    "model = model.to(device)"
   ]
  },
  {
   "cell_type": "code",
   "execution_count": 31,
   "id": "b59cd203",
   "metadata": {},
   "outputs": [],
   "source": [
    "y_hat = model(test_data.x.to(device), test_data.edge_index.to(device))\n",
    "y_hat = y_hat.detach().numpy()"
   ]
  },
  {
   "cell_type": "code",
   "execution_count": 32,
   "id": "e00e2d9f",
   "metadata": {},
   "outputs": [],
   "source": [
    "y_hat = np.argmax(y_hat, -1)\n",
    "test_y = test_data.y.numpy()"
   ]
  },
  {
   "cell_type": "raw",
   "id": "6e5b19fc",
   "metadata": {},
   "source": [
    "{\n",
    "    'Normal': 0,\n",
    "     'Exploits': 1,\n",
    "     'Reconnaissance': 2,\n",
    "     'DoS': 3,\n",
    "     'Generic': 4,\n",
    "     'Shellcode':5,\n",
    "     'Fuzzers': 6,\n",
    "     'Worms': 7,\n",
    "     'Backdoors': 8,\n",
    "     'Analysis': 9\n",
    "}"
   ]
  },
  {
   "cell_type": "code",
   "execution_count": 33,
   "id": "648449e8",
   "metadata": {},
   "outputs": [
    {
     "name": "stdout",
     "output_type": "stream",
     "text": [
      "              precision    recall  f1-score   support\n",
      "\n",
      "           0     0.9932    0.9966    0.9949    443753\n",
      "           1     0.5796    0.8476    0.6884      8905\n",
      "           2     0.6081    0.4403    0.5108      2798\n",
      "           3     0.3396    0.0660    0.1106      3271\n",
      "           4     0.9948    0.9806    0.9876     43096\n",
      "           5     0.1414    0.5397    0.2241       302\n",
      "           6     0.5555    0.3848    0.4547      4849\n",
      "           7     0.0000    0.0000    0.0000        35\n",
      "           8     0.3333    0.0172    0.0327       466\n",
      "           9     0.3478    0.0150    0.0287       535\n",
      "\n",
      "    accuracy                         0.9755    508010\n",
      "   macro avg     0.4893    0.4288    0.4032    508010\n",
      "weighted avg     0.9737    0.9755    0.9729    508010\n",
      "\n",
      "[[442240    438    148      4     14     31    876      0      0      2]\n",
      " [   271   7548    388    216    119     64    289      0      5      5]\n",
      " [   124    535   1232     40      5    829     33      0      0      0]\n",
      " [   123   2649     49    216     56     25    141      0      9      3]\n",
      " [    63    651     24     25  42258     12     60      0      1      2]\n",
      " [    57      9     58      0      4    163     10      0      1      0]\n",
      " [  2264    541     77     60     16     24   1866      0      0      1]\n",
      " [     5     19      4      0      5      0      2      0      0      0]\n",
      " [    28    300     40     37      2      5     44      0      8      2]\n",
      " [   110    333      6     38      2      0     38      0      0      8]]\n"
     ]
    }
   ],
   "source": [
    "get_metrics(test_y, y_hat)"
   ]
  },
  {
   "cell_type": "code",
   "execution_count": 224,
   "id": "f4e43507",
   "metadata": {},
   "outputs": [
    {
     "name": "stdout",
     "output_type": "stream",
     "text": [
      "              precision    recall  f1-score   support\n",
      "\n",
      "           0     0.9988    0.9865    0.9926    443753\n",
      "           1     0.9142    0.9920    0.9515     64257\n",
      "\n",
      "    accuracy                         0.9872    508010\n",
      "   macro avg     0.9565    0.9893    0.9721    508010\n",
      "weighted avg     0.9881    0.9872    0.9874    508010\n",
      "\n",
      "[[437772   5981]\n",
      " [   511  63746]]\n"
     ]
    }
   ],
   "source": [
    "get_metrics(test_y, y_hat)"
   ]
  },
  {
   "cell_type": "code",
   "execution_count": 192,
   "id": "a83ccb01",
   "metadata": {},
   "outputs": [
    {
     "name": "stdout",
     "output_type": "stream",
     "text": [
      "              precision    recall  f1-score   support\n",
      "\n",
      "           0     0.9951    0.9956    0.9953    443753\n",
      "           1     0.9692    0.9659    0.9676     64257\n",
      "\n",
      "    accuracy                         0.9918    508010\n",
      "   macro avg     0.9821    0.9807    0.9814    508010\n",
      "weighted avg     0.9918    0.9918    0.9918    508010\n",
      "\n",
      "[[441781   1972]\n",
      " [  2189  62068]]\n"
     ]
    }
   ],
   "source": [
    "get_metrics(test_y, y_hat)"
   ]
  },
  {
   "cell_type": "code",
   "execution_count": 183,
   "id": "2d7037d9",
   "metadata": {},
   "outputs": [
    {
     "name": "stdout",
     "output_type": "stream",
     "text": [
      "              precision    recall  f1-score   support\n",
      "\n",
      "           0     0.9951    0.9955    0.9953    443753\n",
      "           1     0.9689    0.9661    0.9675     64257\n",
      "\n",
      "    accuracy                         0.9918    508010\n",
      "   macro avg     0.9820    0.9808    0.9814    508010\n",
      "weighted avg     0.9918    0.9918    0.9918    508010\n",
      "\n",
      "[[441761   1992]\n",
      " [  2180  62077]]\n"
     ]
    }
   ],
   "source": [
    "get_metrics(test_y, y_hat)"
   ]
  },
  {
   "cell_type": "code",
   "execution_count": 154,
   "id": "f8226f4d",
   "metadata": {},
   "outputs": [
    {
     "name": "stdout",
     "output_type": "stream",
     "text": [
      "              precision    recall  f1-score   support\n",
      "\n",
      "           0       0.99      1.00      0.99    443753\n",
      "           1       0.57      0.90      0.70      8905\n",
      "           2       0.89      0.63      0.74      2798\n",
      "           3       0.26      0.02      0.04      3271\n",
      "           4       0.99      0.98      0.99     43096\n",
      "           5       0.33      0.35      0.34       302\n",
      "           6       0.59      0.27      0.37      4849\n",
      "           7       0.00      0.00      0.00        35\n",
      "           8       0.00      0.00      0.00       466\n",
      "           9       0.57      0.01      0.01       535\n",
      "\n",
      "    accuracy                           0.98    508010\n",
      "   macro avg       0.52      0.42      0.42    508010\n",
      "weighted avg       0.97      0.98      0.97    508010\n",
      "\n",
      "[[442564    333     54     24     57     71    649      0      0      1]\n",
      " [   487   8050     72     78     62     34    122      0      0      0]\n",
      " [   250    695   1764     29      3      4     53      0      0      0]\n",
      " [   222   2892      6     74     15     28     34      0      0      0]\n",
      " [    66    741      3     58  42171     18     37      0      0      2]\n",
      " [    52     87     40      1      5    107     10      0      0      0]\n",
      " [  2794    577     33     14     72     55   1304      0      0      0]\n",
      " [     0     30      0      0      0      4      1      0      0      0]\n",
      " [   114    337      8      1      1      1      4      0      0      0]\n",
      " [   176    341      0      6      2      0      6      0      0      4]]\n"
     ]
    }
   ],
   "source": [
    "get_metrics(test_y, y_hat)"
   ]
  },
  {
   "cell_type": "code",
   "execution_count": 124,
   "id": "5067526a",
   "metadata": {},
   "outputs": [
    {
     "name": "stdout",
     "output_type": "stream",
     "text": [
      "              precision    recall  f1-score   support\n",
      "\n",
      "           0       0.99      1.00      0.99    443753\n",
      "           1       0.58      0.86      0.70      8905\n",
      "           2       0.80      0.68      0.73      2798\n",
      "           3       0.38      0.03      0.05      3271\n",
      "           4       0.99      0.98      0.99     43096\n",
      "           5       0.23      0.54      0.33       302\n",
      "           6       0.48      0.38      0.43      4849\n",
      "           7       0.06      0.03      0.04        35\n",
      "           8       0.37      0.03      0.05       466\n",
      "           9       0.62      0.01      0.03       535\n",
      "\n",
      "    accuracy                           0.98    508010\n",
      "   macro avg       0.55      0.45      0.43    508010\n",
      "weighted avg       0.97      0.98      0.97    508010\n",
      "\n",
      "[[441998    214     66      2     31    188   1242     10      1      1]\n",
      " [   282   7679    258     84    115     91    388      1      6      1]\n",
      " [   290    530   1908     18      4     14     34      0      0      0]\n",
      " [    70   2799     31     88     47     43    181      2      9      1]\n",
      " [    38    664     17     21  42243     26     83      1      1      2]\n",
      " [    53     14     61      0      5    163      6      0      0      0]\n",
      " [  2209    535     44      7     28    160   1861      1      4      0]\n",
      " [     0     27      1      0      2      4      0      1      0      0]\n",
      " [    18    343     12      9      2      6     63      0     13      0]\n",
      " [   104    367      0      5      2      0     48      0      1      8]]\n"
     ]
    }
   ],
   "source": [
    "get_metrics(test_y, y_hat)"
   ]
  },
  {
   "cell_type": "code",
   "execution_count": 81,
   "id": "3dc09307",
   "metadata": {},
   "outputs": [
    {
     "name": "stdout",
     "output_type": "stream",
     "text": [
      "              precision    recall  f1-score   support\n",
      "\n",
      "           0       0.99      1.00      0.99    443753\n",
      "           1       0.58      0.88      0.70      8905\n",
      "           2       0.87      0.62      0.72      2798\n",
      "           3       0.35      0.04      0.07      3271\n",
      "           4       0.99      0.98      0.99     43096\n",
      "           5       0.38      0.61      0.46       302\n",
      "           6       0.50      0.48      0.49      4849\n",
      "           7       0.38      0.09      0.14        35\n",
      "           8       0.50      0.04      0.07       466\n",
      "           9       0.36      0.01      0.03       535\n",
      "\n",
      "    accuracy                           0.98    508010\n",
      "   macro avg       0.59      0.47      0.47    508010\n",
      "weighted avg       0.98      0.98      0.97    508010\n",
      "\n",
      "[[441685    314     28     29     22     81   1587      0      0      7]\n",
      " [   286   7817    171     89    153     64    311      3      7      4]\n",
      " [   181    780   1731     16      8     34     46      0      2      0]\n",
      " [   105   2780     19    125     58     34    144      1      5      0]\n",
      " [    45    559      3     40  42361     21     60      1      4      2]\n",
      " [    29     35     28      1      5    183     21      0      0      0]\n",
      " [  1861    533     10     28     25     60   2331      0      0      1]\n",
      " [     1     21      1      0      4      4      1      3      0      0]\n",
      " [     9    343      3     22      4      6     61      0     18      0]\n",
      " [    88    377      0      4      2      0     56      0      0      8]]\n"
     ]
    }
   ],
   "source": [
    "get_metrics(test_y, y_hat)"
   ]
  },
  {
   "cell_type": "code",
   "execution_count": 35,
   "id": "cde8bb8e",
   "metadata": {},
   "outputs": [
    {
     "name": "stdout",
     "output_type": "stream",
     "text": [
      "              precision    recall  f1-score        support\n",
      "0              0.993963  0.994698  0.994330  443753.000000\n",
      "1              0.583884  0.784391  0.669446    8905.000000\n",
      "2              0.803059  0.600429  0.687117    2798.000000\n",
      "3              0.323759  0.279120  0.299787    3271.000000\n",
      "4              0.993939  0.981762  0.987813   43096.000000\n",
      "5              0.518349  0.374172  0.434615     302.000000\n",
      "6              0.479696  0.416581  0.445916    4849.000000\n",
      "7              0.000000  0.000000  0.000000      35.000000\n",
      "8              0.000000  0.000000  0.000000     466.000000\n",
      "9              0.175439  0.018692  0.033784     535.000000\n",
      "accuracy       0.975239  0.975239  0.975239       0.975239\n",
      "macro avg      0.487209  0.444984  0.455281  508010.000000\n",
      "weighted avg   0.974372  0.975239  0.974358  508010.000000\n",
      "[[441400    647     22      6     24     19   1592      0      0     43]\n",
      " [   168   6985    247   1065    116     29    292      0      0      3]\n",
      " [   218    646   1680    155      4      2     93      0      0      0]\n",
      " [    99   2057     29    913     64     15     93      0      0      1]\n",
      " [    49    529     26    100  42310     10     72      0      0      0]\n",
      " [    61     42     47      3      5    113     31      0      0      0]\n",
      " [  1989    517     25    239     32     27   2020      0      0      0]\n",
      " [     3     23      1      0      6      0      2      0      0      0]\n",
      " [    25    238     15    169      3      3     13      0      0      0]\n",
      " [    69    279      0    170      4      0      3      0      0     10]]\n"
     ]
    }
   ],
   "source": [
    "get_metrics(test_y, y_hat)"
   ]
  },
  {
   "cell_type": "code",
   "execution_count": 40,
   "id": "70ddaff0",
   "metadata": {},
   "outputs": [
    {
     "name": "stdout",
     "output_type": "stream",
     "text": [
      "              precision    recall  f1-score        support\n",
      "0              0.991775  0.998319  0.995036  443753.000000\n",
      "1              0.748031  0.565413  0.644027    8905.000000\n",
      "2              0.825980  0.722659  0.770873    2798.000000\n",
      "3              0.335417  0.705289  0.454626    3271.000000\n",
      "4              0.994107  0.982435  0.988236   43096.000000\n",
      "5              0.376499  0.519868  0.436718     302.000000\n",
      "6              0.610200  0.276346  0.380412    4849.000000\n",
      "7              0.000000  0.000000  0.000000      35.000000\n",
      "8              0.434783  0.042918  0.078125     466.000000\n",
      "9              0.500000  0.020561  0.039497     535.000000\n",
      "accuracy       0.976827  0.976827  0.976827       0.976827\n",
      "macro avg      0.581679  0.483381  0.478755  508010.000000\n",
      "weighted avg   0.977456  0.976827  0.975478  508010.000000\n",
      "[[443007    118     39     28     27     77    451      0      0      6]\n",
      " [   354   5035    275   2847    118     73    189      1     10      3]\n",
      " [   190    137   2022    415      1      6     26      0      1      0]\n",
      " [    71    660     19   2307     56     34    112      0     12      0]\n",
      " [    79    257      9    351  42339     17     40      0      2      2]\n",
      " [    63     12     50      1      4    157     14      0      1      0]\n",
      " [  2786    272     25    347     31     48   1340      0      0      0]\n",
      " [     2     23      1      0      6      2      1      0      0      0]\n",
      " [    18    118      8    276      5      3     18      0     20      0]\n",
      " [   111     99      0    306      3      0      5      0      0     11]]\n"
     ]
    }
   ],
   "source": [
    "get_metrics(test_y, y_hat)"
   ]
  },
  {
   "cell_type": "code",
   "execution_count": 34,
   "id": "bc6a6e4b",
   "metadata": {},
   "outputs": [
    {
     "name": "stdout",
     "output_type": "stream",
     "text": [
      "              precision    recall  f1-score        support\n",
      "0              0.993368  0.996397  0.994880  443753.000000\n",
      "1              0.571617  0.876137  0.691851    8905.000000\n",
      "2              0.807936  0.684060  0.740855    2798.000000\n",
      "3              0.372718  0.106084  0.165159    3271.000000\n",
      "4              0.994865  0.980045  0.987399   43096.000000\n",
      "5              0.531073  0.311258  0.392484     302.000000\n",
      "6              0.524316  0.355743  0.423885    4849.000000\n",
      "7              0.000000  0.000000  0.000000      35.000000\n",
      "8              0.000000  0.000000  0.000000     466.000000\n",
      "9              0.323529  0.020561  0.038664     535.000000\n",
      "accuracy       0.976916  0.976916  0.976916       0.976916\n",
      "macro avg      0.511942  0.433028  0.443518  508010.000000\n",
      "weighted avg   0.974647  0.976916  0.974395  508010.000000\n",
      "[[442154    287    209      9     19     20   1042      0      0     13]\n",
      " [   299   7802     61    359    110     19    246      0      0      9]\n",
      " [    69    730   1914     53      5      0     27      0      0      0]\n",
      " [    87   2645     15    347     56     13    108      0      0      0]\n",
      " [    59    642     10     39  42236      7    102      0      0      1]\n",
      " [    67     66     55      0      4     94     16      0      0      0]\n",
      " [  2243    709     90     41     20     21   1725      0      0      0]\n",
      " [     1     25      0      0      2      2      5      0      0      0]\n",
      " [    23    377     15     39      2      1      9      0      0      0]\n",
      " [   104    366      0     44      0      0     10      0      0     11]]\n"
     ]
    }
   ],
   "source": [
    "get_metrics(test_y, y_hat)"
   ]
  },
  {
   "cell_type": "code",
   "execution_count": 138,
   "id": "ae4a1882",
   "metadata": {},
   "outputs": [
    {
     "name": "stdout",
     "output_type": "stream",
     "text": [
      "              precision    recall  f1-score       support\n",
      "0              0.999213  0.987000  0.993069  45000.000000\n",
      "1              0.635344  0.670160  0.652288   6679.000000\n",
      "2              0.506646  0.308866  0.383773   2098.000000\n",
      "3              0.350467  0.030575  0.056243   2453.000000\n",
      "4              0.994533  0.979333  0.986875  32322.000000\n",
      "5              0.415842  0.185022  0.256098    227.000000\n",
      "6              0.374676  0.834754  0.517206   3637.000000\n",
      "7              0.333333  0.153846  0.210526     26.000000\n",
      "8              0.500000  0.017192  0.033241    349.000000\n",
      "9              0.442953  0.164179  0.239564    402.000000\n",
      "accuracy       0.905883  0.905883  0.905883      0.905883\n",
      "macro avg      0.555301  0.433093  0.432888  93193.000000\n",
      "weighted avg   0.913098  0.905883  0.900692  93193.000000\n",
      "[[44415    55    31     2     1     0   459     0     0    37]\n",
      " [   15  4476   284    66    85    25  1692     3     6    27]\n",
      " [    2   188   648    30    18     3  1205     0     0     4]\n",
      " [    3  1204    47    75    53    12  1053     1     0     5]\n",
      " [    2   386    13    12 31654     6   239     4     0     6]\n",
      " [    0    11    92     1     0    42    81     0     0     0]\n",
      " [   11   413   139     9    12    13  3036     0     0     4]\n",
      " [    0    17     2     0     0     0     3     4     0     0]\n",
      " [    1   147    20     6     4     0   165     0     6     0]\n",
      " [    1   148     3    13     1     0   170     0     0    66]]\n"
     ]
    }
   ],
   "source": [
    "get_metrics(test_y, y_hat)"
   ]
  },
  {
   "cell_type": "code",
   "execution_count": 96,
   "id": "bd4f0f1b",
   "metadata": {},
   "outputs": [
    {
     "name": "stdout",
     "output_type": "stream",
     "text": [
      "              precision    recall  f1-score       support\n",
      "0              0.993602  0.987044  0.990312  45000.000000\n",
      "1              0.693796  0.574337  0.628440   6679.000000\n",
      "2              0.250423  0.493804  0.332318   2098.000000\n",
      "3              0.331714  0.194863  0.245506   2453.000000\n",
      "4              0.994162  0.979952  0.987006  32322.000000\n",
      "5              0.328467  0.198238  0.247253    227.000000\n",
      "6              0.548369  0.794886  0.649007   3637.000000\n",
      "7              0.000000  0.000000  0.000000     26.000000\n",
      "8              0.000000  0.000000  0.000000    349.000000\n",
      "9              0.407080  0.114428  0.178641    402.000000\n",
      "accuracy       0.905894  0.905894  0.905894      0.905894\n",
      "macro avg      0.454761  0.433755  0.425848  93193.000000\n",
      "weighted avg   0.912633  0.905894  0.906197  93193.000000\n",
      "[[44417    44     1     2     3     0   498     0     0    35]\n",
      " [   87  3836  1291   588   114    21   722     0     0    20]\n",
      " [   15   189  1036    71     7     0   776     0     0     4]\n",
      " [   51   706  1026   478    46    17   125     0     0     4]\n",
      " [   13   266   138    83 31674    14   131     0     1     2]\n",
      " [    0     9    81     3     0    45    89     0     0     0]\n",
      " [  111   252   242    93     6    40  2891     0     0     2]\n",
      " [    0    12     1     2     4     0     7     0     0     0]\n",
      " [    6    91   158    59     4     0    31     0     0     0]\n",
      " [    3   124   163    62     2     0     2     0     0    46]]\n"
     ]
    }
   ],
   "source": [
    "get_metrics(test_y, y_hat)"
   ]
  },
  {
   "cell_type": "code",
   "execution_count": 61,
   "id": "637e68ea",
   "metadata": {},
   "outputs": [
    {
     "name": "stdout",
     "output_type": "stream",
     "text": [
      "              precision    recall  f1-score       support\n",
      "0              0.986245  0.987844  0.987044  45000.000000\n",
      "1              0.768386  0.481809  0.592252   6679.000000\n",
      "2              0.307569  0.275024  0.290388   2098.000000\n",
      "3              0.309278  0.012230  0.023529   2453.000000\n",
      "4              0.883708  0.983912  0.931122  32322.000000\n",
      "5              0.228155  0.207048  0.217090    227.000000\n",
      "6              0.489002  0.764091  0.596352   3637.000000\n",
      "7              0.333333  0.038462  0.068966     26.000000\n",
      "8              0.000000  0.000000  0.000000    349.000000\n",
      "9              0.480519  0.092040  0.154489    402.000000\n",
      "accuracy       0.890024  0.890024  0.890024      0.890024\n",
      "macro avg      0.478620  0.384246  0.386123  93193.000000\n",
      "weighted avg   0.874662  0.890024  0.873643  93193.000000\n",
      "[[44453    50    20     1    42     1   416     0     0    17]\n",
      " [  194  3218   537    44  1444    47  1184     0     0    11]\n",
      " [   67    50   577     2   768    41   590     0     0     3]\n",
      " [  118   477   344    30  1150    28   304     0     1     1]\n",
      " [   18   232    52     9 31802    12   189     2     0     6]\n",
      " [    2     1    91     0    43    47    43     0     0     0]\n",
      " [  181    52   145     3   446    27  2779     0     2     2]\n",
      " [    0     6     4     0     4     0    11     1     0     0]\n",
      " [   16    41    63     6   133     2    88     0     0     0]\n",
      " [   24    61    43     2   155     1    79     0     0    37]]\n"
     ]
    }
   ],
   "source": [
    "get_metrics(test_y, y_hat)"
   ]
  },
  {
   "cell_type": "code",
   "execution_count": 29,
   "id": "6d7be6ff",
   "metadata": {},
   "outputs": [
    {
     "name": "stdout",
     "output_type": "stream",
     "text": [
      "              precision    recall  f1-score       support\n",
      "0              0.999685  0.986778  0.993189  45000.000000\n",
      "1              0.987801  0.999710  0.993720  48193.000000\n",
      "accuracy       0.993465  0.993465  0.993465      0.993465\n",
      "macro avg      0.993743  0.993244  0.993454  93193.000000\n",
      "weighted avg   0.993539  0.993465  0.993464  93193.000000\n",
      "[[44405   595]\n",
      " [   14 48179]]\n"
     ]
    }
   ],
   "source": [
    "get_metrics(test_y, y_hat)"
   ]
  },
  {
   "cell_type": "code",
   "execution_count": null,
   "id": "4b9ac210",
   "metadata": {},
   "outputs": [],
   "source": []
  },
  {
   "cell_type": "code",
   "execution_count": null,
   "id": "59d5a4b8",
   "metadata": {},
   "outputs": [],
   "source": []
  },
  {
   "cell_type": "code",
   "execution_count": 111,
   "id": "3fbba2e2",
   "metadata": {},
   "outputs": [],
   "source": [
    "from tqdm import tqdm"
   ]
  },
  {
   "cell_type": "code",
   "execution_count": 112,
   "id": "43a1197b",
   "metadata": {},
   "outputs": [],
   "source": [
    "subgraph_loader2 = NeighborLoader(copy.copy(all_data), input_nodes=None,num_neighbors=[-1], batch_size=1024, shuffle=False)\n",
    "subgraph_loader2.data.num_nodes = all_data.num_nodes\n",
    "subgraph_loader2.data.n_id = torch.arange(all_data.num_nodes)"
   ]
  },
  {
   "cell_type": "code",
   "execution_count": 113,
   "id": "bed2801f",
   "metadata": {},
   "outputs": [],
   "source": [
    "def inferrence2(model, subgraph_loader):\n",
    "    pbar = tqdm(total=len(subgraph_loader))\n",
    "    for i, batch in enumerate(subgraph_loader):\n",
    "        batch = batch.to(device)\n",
    "        y_hat = model(batch.x.to(device), batch.edge_index.to(device))[:batch.batch_size]\n",
    "        np.save('unsw_yhat/y_hat_batch' + str(i), y_hat.detach().numpy())\n",
    "        pbar.update(1)\n",
    "    pbar.close()"
   ]
  },
  {
   "cell_type": "code",
   "execution_count": 119,
   "id": "d7112f3b",
   "metadata": {},
   "outputs": [],
   "source": [
    "def test(data, loader):\n",
    "    xs = []\n",
    "    for i in range(len(loader)):\n",
    "        y_hat = np.load('unsw_yhat/y_hat_batch' + str(i) + '.npy')\n",
    "        xs.append(y_hat)\n",
    "    y_hat = np.concatenate(xs, 0)\n",
    "    y_hat = np.argmax(y_hat, -1)\n",
    "    y = data.y.to(device)\n",
    "    test_mask = data.test_mask \n",
    "    pr = precision_score(y[test_mask], y_hat[test_mask], average='weighted')\n",
    "    cr1 = classification_report(y[test_mask], y_hat[test_mask], digits=4)\n",
    "    cf = confusion_matrix(y[test_mask], y_hat[test_mask])\n",
    "    print(\"测试集结果：\")\n",
    "    print(cr1)\n",
    "    print(cf)\n",
    "    \n",
    "    train_mask = data.train_mask\n",
    "    pr = precision_score(y[train_mask], y_hat[train_mask], average='weighted')\n",
    "    cr1 = classification_report(y[train_mask], y_hat[train_mask], digits=4)\n",
    "    cf = confusion_matrix(y[train_mask], y_hat[train_mask])\n",
    "    print(\"训练集结果：\")\n",
    "    print(cr1)\n",
    "    print(cf)\n"
   ]
  },
  {
   "cell_type": "code",
   "execution_count": 115,
   "id": "30bd95c4",
   "metadata": {},
   "outputs": [],
   "source": [
    "device = 'cpu'"
   ]
  },
  {
   "cell_type": "code",
   "execution_count": 116,
   "id": "fc91dbc5",
   "metadata": {},
   "outputs": [],
   "source": [
    "model = model.to(device)"
   ]
  },
  {
   "cell_type": "code",
   "execution_count": 117,
   "id": "9d3b728d",
   "metadata": {},
   "outputs": [
    {
     "name": "stderr",
     "output_type": "stream",
     "text": [
      "100%|██████████| 2481/2481 [01:48<00:00, 22.92it/s]\n"
     ]
    }
   ],
   "source": [
    "inferrence2(model, subgraph_loader2)"
   ]
  },
  {
   "cell_type": "code",
   "execution_count": 120,
   "id": "d35285a1",
   "metadata": {},
   "outputs": [
    {
     "name": "stdout",
     "output_type": "stream",
     "text": [
      "测试集结果：\n",
      "              precision    recall  f1-score   support\n",
      "\n",
      "           0     0.9937    0.9967    0.9952    443753\n",
      "           1     0.5813    0.8883    0.7027      8905\n",
      "           2     0.8174    0.7616    0.7885      2798\n",
      "           3     0.3939    0.0358    0.0656      3271\n",
      "           4     0.9940    0.9811    0.9875     43096\n",
      "           5     0.5789    0.4371    0.4981       302\n",
      "           6     0.5733    0.4209    0.4854      4849\n",
      "           7     0.0000    0.0000    0.0000        35\n",
      "           8     0.4000    0.0215    0.0407       466\n",
      "           9     0.5000    0.0150    0.0290       535\n",
      "\n",
      "    accuracy                         0.9782    508010\n",
      "   macro avg     0.5833    0.4558    0.4593    508010\n",
      "weighted avg     0.9763    0.9782    0.9752    508010\n",
      "\n",
      "[[442297    202    110      1     21     12   1076     28      2      4]\n",
      " [   303   7910    222    106    135     35    186      1      6      1]\n",
      " [    46    583   2131     22      5      3      8      0      0      0]\n",
      " [    75   2911     21    117     51     16     73      0      6      1]\n",
      " [    55    648     13     23  42280      6     68      0      1      2]\n",
      " [    57     42     49      0     10    132     12      0      0      0]\n",
      " [  2149    551     56     11     22     19   2041      0      0      0]\n",
      " [     1     25      1      0      7      1      0      0      0      0]\n",
      " [    15    369      4     12      2      4     50      0     10      0]\n",
      " [   108    366      0      5      2      0     46      0      0      8]]\n",
      "训练集结果：\n",
      "              precision    recall  f1-score   support\n",
      "\n",
      "           0     0.9938    0.9968    0.9953   1775011\n",
      "           1     0.5839    0.8934    0.7062     35620\n",
      "           2     0.8216    0.7580    0.7885     11189\n",
      "           3     0.3851    0.0328    0.0604     13082\n",
      "           4     0.9949    0.9813    0.9880    172385\n",
      "           5     0.6059    0.4921    0.5431      1209\n",
      "           6     0.5752    0.4290    0.4915     19397\n",
      "           7     0.0000    0.0000    0.0000       139\n",
      "           8     0.3906    0.0134    0.0259      1863\n",
      "           9     0.4107    0.0107    0.0209      2142\n",
      "\n",
      "    accuracy                         0.9784   2032037\n",
      "   macro avg     0.5762    0.4608    0.4620   2032037\n",
      "weighted avg     0.9764    0.9784    0.9754   2032037\n",
      "\n",
      "[[1769369     726     445       4      83      70    4207      82       4\n",
      "       21]\n",
      " [   1217   31822     839     387     398     109     837       3       6\n",
      "        2]\n",
      " [    276    2282    8481      87      16       6      40       0       1\n",
      "        0]\n",
      " [    319   11611     100     429     214      83     300       2      24\n",
      "        0]\n",
      " [    212    2582      46      76  169159      41     255       0       4\n",
      "       10]\n",
      " [    206     165     127       0      30     595      86       0       0\n",
      "        0]\n",
      " [   8364    2236     263      42     103      67    8322       0       0\n",
      "        0]\n",
      " [      8     114       1       0      12       0       4       0       0\n",
      "        0]\n",
      " [     61    1494      21      48      14      11     189       0      25\n",
      "        0]\n",
      " [    381    1464       0      41       4       0     229       0       0\n",
      "       23]]\n"
     ]
    }
   ],
   "source": [
    "test(all_data, subgraph_loader2)\n",
    "# {\n",
    "#     'Normal': 0,\n",
    "#      'Exploits': 1,\n",
    "#      'Reconnaissance': 2,\n",
    "#      'DoS': 3,\n",
    "#      'Generic': 4,\n",
    "#      'Shellcode':5,\n",
    "#      'Fuzzers': 6,\n",
    "#      'Worms': 7,\n",
    "#      'Backdoors': 8,\n",
    "#      'Analysis': 9\n",
    "# }"
   ]
  },
  {
   "cell_type": "code",
   "execution_count": 56,
   "id": "b84972a8",
   "metadata": {},
   "outputs": [
    {
     "name": "stdout",
     "output_type": "stream",
     "text": [
      "测试集结果：\n",
      "              precision    recall  f1-score   support\n",
      "\n",
      "           0     0.9920    0.9983    0.9952    443753\n",
      "           1     0.7537    0.5678    0.6477      8905\n",
      "           2     0.8280    0.7709    0.7984      2798\n",
      "           3     0.3367    0.7456    0.4639      3271\n",
      "           4     0.9953    0.9826    0.9889     43096\n",
      "           5     0.6048    0.3344    0.4307       302\n",
      "           6     0.6950    0.2999    0.4190      4849\n",
      "           7     0.0000    0.0000    0.0000        35\n",
      "           8     0.5000    0.0386    0.0717       466\n",
      "           9     0.4688    0.0280    0.0529       535\n",
      "\n",
      "    accuracy                         0.9775    508010\n",
      "   macro avg     0.6174    0.4766    0.4868    508010\n",
      "weighted avg     0.9789    0.9775    0.9763    508010\n",
      "\n",
      "[[443017    128     74     21      7      4    493      0      0      9]\n",
      " [   364   5056    258   3018    108     35     54      1      8      3]\n",
      " [    47    148   2157    434      2      1      8      0      1      0]\n",
      " [    92    625     16   2439     56     10     26      0      7      0]\n",
      " [    95    245      8    364  42348      5     27      0      1      3]\n",
      " [   106     18     46     11      3    101     16      0      1      0]\n",
      " [  2732    259     40    346      9      7   1454      0      0      2]\n",
      " [     4     21      1      0      6      0      3      0      0      0]\n",
      " [    16    115      5    297      5      4      6      0     18      0]\n",
      " [   105     93      0    314      3      0      5      0      0     15]]\n",
      "训练集结果：\n",
      "              precision    recall  f1-score   support\n",
      "\n",
      "           0     0.9921    0.9985    0.9953   1775011\n",
      "           1     0.7640    0.5702    0.6530     35620\n",
      "           2     0.8362    0.7687    0.8010     11189\n",
      "           3     0.3361    0.7494    0.4641     13082\n",
      "           4     0.9957    0.9829    0.9893    172385\n",
      "           5     0.5699    0.3507    0.4342      1209\n",
      "           6     0.7222    0.3143    0.4380     19397\n",
      "           7     0.6667    0.0144    0.0282       139\n",
      "           8     0.4719    0.0225    0.0430      1863\n",
      "           9     0.4961    0.0294    0.0555      2142\n",
      "\n",
      "    accuracy                         0.9779   2032037\n",
      "   macro avg     0.6851    0.4801    0.4902   2032037\n",
      "weighted avg     0.9795    0.9779    0.9767   2032037\n",
      "\n",
      "[[1772288     499     302      55      23      22    1785       0       1\n",
      "       36]\n",
      " [   1516   20312     989   11983     363     160     278       1      13\n",
      "        5]\n",
      " [    257     560    8601    1736       9       2      20       0       4\n",
      "        0]\n",
      " [    371    2428      58    9804     238      62      96       0      25\n",
      "        0]\n",
      " [    344     893      35    1533  169444      38      74       0       4\n",
      "       20]\n",
      " [    462      95     129      46       9     424      44       0       0\n",
      "        0]\n",
      " [  10722     872     152    1491      34      27    6096       0       0\n",
      "        3]\n",
      " [     11      96       1       2      22       0       5       2       0\n",
      "        0]\n",
      " [     80     454      19    1214      21       9      24       0      42\n",
      "        0]\n",
      " [    369     379       0    1303       9       0      19       0       0\n",
      "       63]]\n"
     ]
    },
    {
     "data": {
      "text/plain": [
       "(0.9766886571916438, 0.9794673501132652)"
      ]
     },
     "execution_count": 56,
     "metadata": {},
     "output_type": "execute_result"
    }
   ],
   "source": [
    "test(all_data, subgraph_loader2)"
   ]
  },
  {
   "cell_type": "code",
   "execution_count": 116,
   "id": "d75b0f45",
   "metadata": {},
   "outputs": [
    {
     "name": "stdout",
     "output_type": "stream",
     "text": [
      "测试集结果：\n",
      "              precision    recall  f1-score   support\n",
      "\n",
      "           0     0.9994    0.9873    0.9933     45000\n",
      "           1     0.5724    0.9385    0.7111      6679\n",
      "           2     0.8799    0.7121    0.7871      2098\n",
      "           3     0.5345    0.0126    0.0247      2453\n",
      "           4     0.9949    0.9820    0.9884     32322\n",
      "           5     0.5161    0.3524    0.4188       227\n",
      "           6     0.7740    0.8276    0.7999      3637\n",
      "           7     0.3636    0.1538    0.2162        26\n",
      "           8     0.2500    0.0086    0.0166       349\n",
      "           9     0.5556    0.0871    0.1505       402\n",
      "\n",
      "    accuracy                         0.9346     93193\n",
      "   macro avg     0.6440    0.5062    0.5107     93193\n",
      "weighted avg     0.9375    0.9346    0.9248     93193\n",
      "\n",
      "[[44429    77     5     0     3     1   473     0     0    12]\n",
      " [    5  6268    86    11   114    23   167     2     1     2]\n",
      " [    1   505  1494     4     5     2    85     0     0     2]\n",
      " [    1  2295    21    31    33    18    52     0     2     0]\n",
      " [    1   470     8     8 31740    10    64     5     6    10]\n",
      " [    0    63    55     1     0    80    28     0     0     0]\n",
      " [    7   563    28     2     6    19  3010     0     0     2]\n",
      " [    0    19     0     0     0     0     3     4     0     0]\n",
      " [    0   334     1     1     1     2     7     0     3     0]\n",
      " [   10   356     0     0     1     0     0     0     0    35]]\n",
      "训练集结果：\n",
      "              precision    recall  f1-score   support\n",
      "\n",
      "           0     0.9995    0.9864    0.9929    255000\n",
      "           1     0.5742    0.9410    0.7132     37846\n",
      "           2     0.8813    0.7153    0.7897     11889\n",
      "           3     0.6966    0.0178    0.0348     13900\n",
      "           4     0.9951    0.9821    0.9886    183159\n",
      "           5     0.5575    0.3738    0.4476      1284\n",
      "           6     0.7650    0.8298    0.7961     20609\n",
      "           7     0.4706    0.1622    0.2412       148\n",
      "           8     0.4286    0.0121    0.0236      1980\n",
      "           9     0.6056    0.0857    0.1502      2275\n",
      "\n",
      "    accuracy                         0.9347    528090\n",
      "   macro avg     0.6974    0.5106    0.5178    528090\n",
      "weighted avg     0.9427    0.9347    0.9251    528090\n",
      "\n",
      "[[251529    478     63      1     11     19   2825      0      0     74]\n",
      " [    15  35614    440     38    555    118   1039      6      4     17]\n",
      " [     2   2849   8504     16     17     28    472      0      1      0]\n",
      " [     4  12913    109    248    220     87    305      0     11      3]\n",
      " [     6   2746     48     39 179883     43    338     20     16     20]\n",
      " [     2    326    242      2     13    480    219      0      0      0]\n",
      " [    46   3072    224      8     62     82  17101      1      0     13]\n",
      " [     0    102      2      0      0      2     18     24      0      0]\n",
      " [     0   1893     17      4      5      2     35      0     24      0]\n",
      " [    45   2027      0      0      5      0      3      0      0    195]]\n"
     ]
    },
    {
     "data": {
      "text/plain": [
       "(0.9250806668992511, 0.9426586030394188)"
      ]
     },
     "execution_count": 116,
     "metadata": {},
     "output_type": "execute_result"
    }
   ],
   "source": [
    "test(all_data, subgraph_loader2)"
   ]
  },
  {
   "cell_type": "code",
   "execution_count": null,
   "id": "a222a09e",
   "metadata": {},
   "outputs": [],
   "source": []
  },
  {
   "cell_type": "code",
   "execution_count": 135,
   "id": "3ba6d0ff",
   "metadata": {},
   "outputs": [],
   "source": [
    "all_data_label = all_data.y.numpy()"
   ]
  },
  {
   "cell_type": "code",
   "execution_count": 136,
   "id": "eecc3fed",
   "metadata": {},
   "outputs": [],
   "source": [
    "all_data_label[all_data_label != 0] = 1\n",
    "all_data.y = torch.LongTensor(all_data_label)"
   ]
  },
  {
   "cell_type": "code",
   "execution_count": 109,
   "id": "25f5f10e",
   "metadata": {},
   "outputs": [
    {
     "data": {
      "text/plain": [
       "Data(x=[189603, 78], edge_index=[2, 108609698], y=[189603], num_nodes=189603, train_mask=[161162], test_mask=[28441])"
      ]
     },
     "execution_count": 109,
     "metadata": {},
     "output_type": "execute_result"
    }
   ],
   "source": [
    "all_data"
   ]
  },
  {
   "cell_type": "code",
   "execution_count": 110,
   "id": "ade40f5e",
   "metadata": {},
   "outputs": [],
   "source": [
    "subgraph_loader2 = NeighborLoader(all_data, input_nodes=all_data.test_mask,\n",
    "                                 num_neighbors=hop, batch_size=500, shuffle=False)"
   ]
  },
  {
   "cell_type": "code",
   "execution_count": null,
   "id": "4ca1f004",
   "metadata": {},
   "outputs": [],
   "source": []
  },
  {
   "cell_type": "code",
   "execution_count": null,
   "id": "990ab479",
   "metadata": {},
   "outputs": [],
   "source": []
  },
  {
   "cell_type": "code",
   "execution_count": null,
   "id": "75eee73d",
   "metadata": {},
   "outputs": [],
   "source": []
  },
  {
   "cell_type": "code",
   "execution_count": 34,
   "id": "5419f7b7",
   "metadata": {},
   "outputs": [],
   "source": [
    "train_data = train_data.to('cpu')\n",
    "test_data = test_data.to('cpu')"
   ]
  },
  {
   "cell_type": "code",
   "execution_count": 35,
   "id": "1ff233d9",
   "metadata": {},
   "outputs": [],
   "source": [
    "x_train = train_data.x.numpy()\n",
    "y_train = train_data.y.numpy()"
   ]
  },
  {
   "cell_type": "code",
   "execution_count": 36,
   "id": "808b469f",
   "metadata": {},
   "outputs": [],
   "source": [
    "x_test = test_data.x.numpy()\n",
    "y_test = test_data.y.numpy()"
   ]
  },
  {
   "cell_type": "code",
   "execution_count": 37,
   "id": "4193767a",
   "metadata": {},
   "outputs": [
    {
     "data": {
      "text/plain": [
       "Counter({0: 443753,\n",
       "         1: 8905,\n",
       "         4: 43096,\n",
       "         6: 4849,\n",
       "         2: 2798,\n",
       "         3: 3271,\n",
       "         5: 302,\n",
       "         9: 535,\n",
       "         8: 466,\n",
       "         7: 35})"
      ]
     },
     "execution_count": 37,
     "metadata": {},
     "output_type": "execute_result"
    }
   ],
   "source": [
    "Counter(y_test)"
   ]
  },
  {
   "cell_type": "code",
   "execution_count": 38,
   "id": "721cbbc0",
   "metadata": {},
   "outputs": [],
   "source": [
    "from catboost import CatBoostClassifier"
   ]
  },
  {
   "cell_type": "code",
   "execution_count": 39,
   "id": "ecb99a86",
   "metadata": {},
   "outputs": [],
   "source": [
    "from sklearn.ensemble._forest import RandomForestClassifier"
   ]
  },
  {
   "cell_type": "code",
   "execution_count": 40,
   "id": "4a0d484b",
   "metadata": {},
   "outputs": [],
   "source": [
    "from sklearn.neural_network import MLPClassifier"
   ]
  },
  {
   "cell_type": "code",
   "execution_count": 41,
   "id": "0fe565a8",
   "metadata": {},
   "outputs": [],
   "source": [
    "from xgboost import XGBClassifier"
   ]
  },
  {
   "cell_type": "code",
   "execution_count": 42,
   "id": "16346d45",
   "metadata": {},
   "outputs": [],
   "source": [
    "from lightgbm import LGBMClassifier"
   ]
  },
  {
   "cell_type": "code",
   "execution_count": 43,
   "id": "f458dca7",
   "metadata": {},
   "outputs": [],
   "source": [
    "clf = MLPClassifier(verbose=True, tol=1e-6, batch_size=1024, hidden_layer_sizes=(41, 30,10), \n",
    "                    max_iter=500, learning_rate_init= 0.001, solver='adam', learning_rate='adaptive', alpha = 0.002)"
   ]
  },
  {
   "cell_type": "code",
   "execution_count": 134,
   "id": "b7534211",
   "metadata": {},
   "outputs": [],
   "source": [
    "clf = CatBoostClassifier(n_estimators=50)"
   ]
  },
  {
   "cell_type": "code",
   "execution_count": 48,
   "id": "bc670e09",
   "metadata": {},
   "outputs": [
    {
     "name": "stdout",
     "output_type": "stream",
     "text": [
      "Iteration 1, loss = 0.18730916\n",
      "Iteration 2, loss = 0.07075752\n",
      "Iteration 3, loss = 0.06509855\n",
      "Iteration 4, loss = 0.06256037\n",
      "Iteration 5, loss = 0.06092632\n",
      "Iteration 6, loss = 0.05978293\n",
      "Iteration 7, loss = 0.05893523\n",
      "Iteration 8, loss = 0.05825025\n",
      "Iteration 9, loss = 0.05775390\n",
      "Iteration 10, loss = 0.05722934\n",
      "Iteration 11, loss = 0.05687085\n",
      "Iteration 12, loss = 0.05654363\n",
      "Iteration 13, loss = 0.05617861\n",
      "Iteration 14, loss = 0.05592784\n",
      "Iteration 15, loss = 0.05564825\n",
      "Iteration 16, loss = 0.05547125\n",
      "Iteration 17, loss = 0.05534184\n",
      "Iteration 18, loss = 0.05502959\n",
      "Iteration 19, loss = 0.05490979\n"
     ]
    },
    {
     "data": {
      "text/plain": [
       "MLPClassifier(alpha=0.002, batch_size=1024, hidden_layer_sizes=(41, 30, 10),\n",
       "              learning_rate='adaptive', max_iter=500, tol=1e-06, verbose=True)"
      ]
     },
     "execution_count": 48,
     "metadata": {},
     "output_type": "execute_result"
    }
   ],
   "source": [
    "clf.fit(x_train, y_train)"
   ]
  },
  {
   "cell_type": "code",
   "execution_count": 45,
   "id": "75c8d80f",
   "metadata": {},
   "outputs": [],
   "source": [
    "y_pred = clf.predict(x_test)"
   ]
  },
  {
   "cell_type": "code",
   "execution_count": 46,
   "id": "eb7153db",
   "metadata": {},
   "outputs": [],
   "source": [
    "cr = classification_report(y_test, y_pred, digits=4)"
   ]
  },
  {
   "cell_type": "code",
   "execution_count": 47,
   "id": "f4732ad0",
   "metadata": {},
   "outputs": [
    {
     "name": "stdout",
     "output_type": "stream",
     "text": [
      "              precision    recall  f1-score   support\n",
      "\n",
      "           0     0.9928    0.9982    0.9955    443753\n",
      "           1     0.5973    0.8698    0.7083      8905\n",
      "           2     0.8772    0.7809    0.8262      2798\n",
      "           3     0.4212    0.0694    0.1192      3271\n",
      "           4     0.9960    0.9812    0.9885     43096\n",
      "           5     0.5061    0.5464    0.5255       302\n",
      "           6     0.5876    0.3617    0.4478      4849\n",
      "           7     0.8333    0.1429    0.2439        35\n",
      "           8     0.5085    0.0644    0.1143       466\n",
      "           9     0.2353    0.0075    0.0145       535\n",
      "\n",
      "    accuracy                         0.9790    508010\n",
      "   macro avg     0.6555    0.4822    0.4984    508010\n",
      "weighted avg     0.9764    0.9790    0.9759    508010\n",
      "\n"
     ]
    }
   ],
   "source": [
    "print(cr)"
   ]
  },
  {
   "cell_type": "code",
   "execution_count": 72,
   "id": "00552205",
   "metadata": {},
   "outputs": [],
   "source": [
    "cm = confusion_matrix(y_test, y_pred)"
   ]
  },
  {
   "cell_type": "code",
   "execution_count": 73,
   "id": "1d94f42c",
   "metadata": {},
   "outputs": [
    {
     "data": {
      "text/plain": [
       "<sklearn.metrics._plot.confusion_matrix.ConfusionMatrixDisplay at 0x2aef534fdc18>"
      ]
     },
     "execution_count": 73,
     "metadata": {},
     "output_type": "execute_result"
    },
    {
     "data": {
      "image/png": "[encoded data removed]",
      "text/plain": [
       "<Figure size 432x288 with 2 Axes>"
      ]
     },
     "metadata": {
      "needs_background": "light"
     },
     "output_type": "display_data"
    }
   ],
   "source": [
    "disp = ConfusionMatrixDisplay(confusion_matrix=cm, display_labels=clf.classes_)\n",
    "disp.plot()"
   ]
  },
  {
   "cell_type": "code",
   "execution_count": null,
   "id": "af3bcf97",
   "metadata": {},
   "outputs": [],
   "source": []
  },
  {
   "cell_type": "code",
   "execution_count": null,
   "id": "3ebc879d",
   "metadata": {},
   "outputs": [],
   "source": []
  }
 ],
 "metadata": {
  "kernelspec": {
   "display_name": "Python 3",
   "language": "python",
   "name": "python3"
  },
  "language_info": {
   "codemirror_mode": {
    "name": "ipython",
    "version": 3
   },
   "file_extension": ".py",
   "mimetype": "text/x-python",
   "name": "python",
   "nbconvert_exporter": "python",
   "pygments_lexer": "ipython3",
   "version": "3.6.13"
  }
 },
 "nbformat": 4,
 "nbformat_minor": 5
}
