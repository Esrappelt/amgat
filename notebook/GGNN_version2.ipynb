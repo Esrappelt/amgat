{
 "cells": [
  {
   "cell_type": "code",
   "execution_count": 1,
   "id": "7ac3068b",
   "metadata": {},
   "outputs": [],
   "source": [
    "import pandas as pd\n",
    "from collections import Counter\n",
    "import numpy as np\n",
    "from sklearn import preprocessing"
   ]
  },
  {
   "cell_type": "code",
   "execution_count": 2,
   "id": "2d07ef0a",
   "metadata": {},
   "outputs": [],
   "source": [
    "df = pd.read_pickle('cicids2017_not_contain_monday_max.pkl')"
   ]
  },
  {
   "cell_type": "code",
   "execution_count": 3,
   "id": "f626373b",
   "metadata": {},
   "outputs": [
    {
     "data": {
      "text/html": [
       "<div>\n",
       "<style scoped>\n",
       "    .dataframe tbody tr th:only-of-type {\n",
       "        vertical-align: middle;\n",
       "    }\n",
       "\n",
       "    .dataframe tbody tr th {\n",
       "        vertical-align: top;\n",
       "    }\n",
       "\n",
       "    .dataframe thead th {\n",
       "        text-align: right;\n",
       "    }\n",
       "</style>\n",
       "<table border=\"1\" class=\"dataframe\">\n",
       "  <thead>\n",
       "    <tr style=\"text-align: right;\">\n",
       "      <th></th>\n",
       "      <th>Flow ID</th>\n",
       "      <th>Source IP</th>\n",
       "      <th>Source Port</th>\n",
       "      <th>Destination IP</th>\n",
       "      <th>Destination Port</th>\n",
       "      <th>Protocol</th>\n",
       "      <th>Timestamp</th>\n",
       "      <th>Flow Duration</th>\n",
       "      <th>Total Fwd Packets</th>\n",
       "      <th>Total Backward Packets</th>\n",
       "      <th>...</th>\n",
       "      <th>min_seg_size_forward</th>\n",
       "      <th>Active Mean</th>\n",
       "      <th>Active Std</th>\n",
       "      <th>Active Max</th>\n",
       "      <th>Active Min</th>\n",
       "      <th>Idle Mean</th>\n",
       "      <th>Idle Std</th>\n",
       "      <th>Idle Max</th>\n",
       "      <th>Idle Min</th>\n",
       "      <th>Label</th>\n",
       "    </tr>\n",
       "  </thead>\n",
       "  <tbody>\n",
       "    <tr>\n",
       "      <th>0</th>\n",
       "      <td>192.168.10.5-104.16.207.165-54865-443-6</td>\n",
       "      <td>104.16.207.165</td>\n",
       "      <td>443</td>\n",
       "      <td>192.168.10.5</td>\n",
       "      <td>54865</td>\n",
       "      <td>6</td>\n",
       "      <td>7/7/2017 3:30</td>\n",
       "      <td>3</td>\n",
       "      <td>2</td>\n",
       "      <td>0</td>\n",
       "      <td>...</td>\n",
       "      <td>20</td>\n",
       "      <td>0.0</td>\n",
       "      <td>0.0</td>\n",
       "      <td>0.0</td>\n",
       "      <td>0.0</td>\n",
       "      <td>0.0</td>\n",
       "      <td>0.0</td>\n",
       "      <td>0.0</td>\n",
       "      <td>0.0</td>\n",
       "      <td>BENIGN</td>\n",
       "    </tr>\n",
       "    <tr>\n",
       "      <th>1</th>\n",
       "      <td>192.168.10.5-104.16.28.216-55054-80-6</td>\n",
       "      <td>104.16.28.216</td>\n",
       "      <td>80</td>\n",
       "      <td>192.168.10.5</td>\n",
       "      <td>55054</td>\n",
       "      <td>6</td>\n",
       "      <td>7/7/2017 3:30</td>\n",
       "      <td>109</td>\n",
       "      <td>1</td>\n",
       "      <td>1</td>\n",
       "      <td>...</td>\n",
       "      <td>20</td>\n",
       "      <td>0.0</td>\n",
       "      <td>0.0</td>\n",
       "      <td>0.0</td>\n",
       "      <td>0.0</td>\n",
       "      <td>0.0</td>\n",
       "      <td>0.0</td>\n",
       "      <td>0.0</td>\n",
       "      <td>0.0</td>\n",
       "      <td>BENIGN</td>\n",
       "    </tr>\n",
       "    <tr>\n",
       "      <th>2</th>\n",
       "      <td>192.168.10.5-104.16.28.216-55055-80-6</td>\n",
       "      <td>104.16.28.216</td>\n",
       "      <td>80</td>\n",
       "      <td>192.168.10.5</td>\n",
       "      <td>55055</td>\n",
       "      <td>6</td>\n",
       "      <td>7/7/2017 3:30</td>\n",
       "      <td>52</td>\n",
       "      <td>1</td>\n",
       "      <td>1</td>\n",
       "      <td>...</td>\n",
       "      <td>20</td>\n",
       "      <td>0.0</td>\n",
       "      <td>0.0</td>\n",
       "      <td>0.0</td>\n",
       "      <td>0.0</td>\n",
       "      <td>0.0</td>\n",
       "      <td>0.0</td>\n",
       "      <td>0.0</td>\n",
       "      <td>0.0</td>\n",
       "      <td>BENIGN</td>\n",
       "    </tr>\n",
       "    <tr>\n",
       "      <th>3</th>\n",
       "      <td>192.168.10.16-104.17.241.25-46236-443-6</td>\n",
       "      <td>104.17.241.25</td>\n",
       "      <td>443</td>\n",
       "      <td>192.168.10.16</td>\n",
       "      <td>46236</td>\n",
       "      <td>6</td>\n",
       "      <td>7/7/2017 3:30</td>\n",
       "      <td>34</td>\n",
       "      <td>1</td>\n",
       "      <td>1</td>\n",
       "      <td>...</td>\n",
       "      <td>20</td>\n",
       "      <td>0.0</td>\n",
       "      <td>0.0</td>\n",
       "      <td>0.0</td>\n",
       "      <td>0.0</td>\n",
       "      <td>0.0</td>\n",
       "      <td>0.0</td>\n",
       "      <td>0.0</td>\n",
       "      <td>0.0</td>\n",
       "      <td>BENIGN</td>\n",
       "    </tr>\n",
       "    <tr>\n",
       "      <th>4</th>\n",
       "      <td>192.168.10.5-104.19.196.102-54863-443-6</td>\n",
       "      <td>104.19.196.102</td>\n",
       "      <td>443</td>\n",
       "      <td>192.168.10.5</td>\n",
       "      <td>54863</td>\n",
       "      <td>6</td>\n",
       "      <td>7/7/2017 3:30</td>\n",
       "      <td>3</td>\n",
       "      <td>2</td>\n",
       "      <td>0</td>\n",
       "      <td>...</td>\n",
       "      <td>20</td>\n",
       "      <td>0.0</td>\n",
       "      <td>0.0</td>\n",
       "      <td>0.0</td>\n",
       "      <td>0.0</td>\n",
       "      <td>0.0</td>\n",
       "      <td>0.0</td>\n",
       "      <td>0.0</td>\n",
       "      <td>0.0</td>\n",
       "      <td>BENIGN</td>\n",
       "    </tr>\n",
       "    <tr>\n",
       "      <th>...</th>\n",
       "      <td>...</td>\n",
       "      <td>...</td>\n",
       "      <td>...</td>\n",
       "      <td>...</td>\n",
       "      <td>...</td>\n",
       "      <td>...</td>\n",
       "      <td>...</td>\n",
       "      <td>...</td>\n",
       "      <td>...</td>\n",
       "      <td>...</td>\n",
       "      <td>...</td>\n",
       "      <td>...</td>\n",
       "      <td>...</td>\n",
       "      <td>...</td>\n",
       "      <td>...</td>\n",
       "      <td>...</td>\n",
       "      <td>...</td>\n",
       "      <td>...</td>\n",
       "      <td>...</td>\n",
       "      <td>...</td>\n",
       "      <td>...</td>\n",
       "    </tr>\n",
       "    <tr>\n",
       "      <th>692698</th>\n",
       "      <td>192.168.10.3-192.168.10.14-53-51114-17</td>\n",
       "      <td>192.168.10.14</td>\n",
       "      <td>51114</td>\n",
       "      <td>192.168.10.3</td>\n",
       "      <td>53</td>\n",
       "      <td>17</td>\n",
       "      <td>5/7/2017 12:10</td>\n",
       "      <td>32215</td>\n",
       "      <td>4</td>\n",
       "      <td>2</td>\n",
       "      <td>...</td>\n",
       "      <td>20</td>\n",
       "      <td>0.0</td>\n",
       "      <td>0.0</td>\n",
       "      <td>0.0</td>\n",
       "      <td>0.0</td>\n",
       "      <td>0.0</td>\n",
       "      <td>0.0</td>\n",
       "      <td>0.0</td>\n",
       "      <td>0.0</td>\n",
       "      <td>BENIGN</td>\n",
       "    </tr>\n",
       "    <tr>\n",
       "      <th>692699</th>\n",
       "      <td>192.168.10.3-192.168.10.16-53-24054-17</td>\n",
       "      <td>192.168.10.16</td>\n",
       "      <td>24054</td>\n",
       "      <td>192.168.10.3</td>\n",
       "      <td>53</td>\n",
       "      <td>17</td>\n",
       "      <td>5/7/2017 3:02</td>\n",
       "      <td>324</td>\n",
       "      <td>2</td>\n",
       "      <td>2</td>\n",
       "      <td>...</td>\n",
       "      <td>20</td>\n",
       "      <td>0.0</td>\n",
       "      <td>0.0</td>\n",
       "      <td>0.0</td>\n",
       "      <td>0.0</td>\n",
       "      <td>0.0</td>\n",
       "      <td>0.0</td>\n",
       "      <td>0.0</td>\n",
       "      <td>0.0</td>\n",
       "      <td>BENIGN</td>\n",
       "    </tr>\n",
       "    <tr>\n",
       "      <th>692700</th>\n",
       "      <td>192.168.10.51-23.208.163.130-58030-443-6</td>\n",
       "      <td>23.208.163.130</td>\n",
       "      <td>443</td>\n",
       "      <td>192.168.10.51</td>\n",
       "      <td>58030</td>\n",
       "      <td>6</td>\n",
       "      <td>5/7/2017 10:06</td>\n",
       "      <td>82</td>\n",
       "      <td>2</td>\n",
       "      <td>1</td>\n",
       "      <td>...</td>\n",
       "      <td>32</td>\n",
       "      <td>0.0</td>\n",
       "      <td>0.0</td>\n",
       "      <td>0.0</td>\n",
       "      <td>0.0</td>\n",
       "      <td>0.0</td>\n",
       "      <td>0.0</td>\n",
       "      <td>0.0</td>\n",
       "      <td>0.0</td>\n",
       "      <td>BENIGN</td>\n",
       "    </tr>\n",
       "    <tr>\n",
       "      <th>692701</th>\n",
       "      <td>192.168.10.3-192.168.10.14-53-51694-17</td>\n",
       "      <td>192.168.10.14</td>\n",
       "      <td>51694</td>\n",
       "      <td>192.168.10.3</td>\n",
       "      <td>53</td>\n",
       "      <td>17</td>\n",
       "      <td>5/7/2017 1:19</td>\n",
       "      <td>1048635</td>\n",
       "      <td>6</td>\n",
       "      <td>2</td>\n",
       "      <td>...</td>\n",
       "      <td>20</td>\n",
       "      <td>0.0</td>\n",
       "      <td>0.0</td>\n",
       "      <td>0.0</td>\n",
       "      <td>0.0</td>\n",
       "      <td>0.0</td>\n",
       "      <td>0.0</td>\n",
       "      <td>0.0</td>\n",
       "      <td>0.0</td>\n",
       "      <td>BENIGN</td>\n",
       "    </tr>\n",
       "    <tr>\n",
       "      <th>692702</th>\n",
       "      <td>192.168.10.3-192.168.10.14-53-57949-17</td>\n",
       "      <td>192.168.10.14</td>\n",
       "      <td>57949</td>\n",
       "      <td>192.168.10.3</td>\n",
       "      <td>53</td>\n",
       "      <td>17</td>\n",
       "      <td>5/7/2017 2:43</td>\n",
       "      <td>94939</td>\n",
       "      <td>4</td>\n",
       "      <td>2</td>\n",
       "      <td>...</td>\n",
       "      <td>20</td>\n",
       "      <td>0.0</td>\n",
       "      <td>0.0</td>\n",
       "      <td>0.0</td>\n",
       "      <td>0.0</td>\n",
       "      <td>0.0</td>\n",
       "      <td>0.0</td>\n",
       "      <td>0.0</td>\n",
       "      <td>0.0</td>\n",
       "      <td>BENIGN</td>\n",
       "    </tr>\n",
       "  </tbody>\n",
       "</table>\n",
       "<p>2059592 rows × 85 columns</p>\n",
       "</div>"
      ],
      "text/plain": [
       "                                         Flow ID       Source IP  \\\n",
       "0        192.168.10.5-104.16.207.165-54865-443-6  104.16.207.165   \n",
       "1          192.168.10.5-104.16.28.216-55054-80-6   104.16.28.216   \n",
       "2          192.168.10.5-104.16.28.216-55055-80-6   104.16.28.216   \n",
       "3        192.168.10.16-104.17.241.25-46236-443-6   104.17.241.25   \n",
       "4        192.168.10.5-104.19.196.102-54863-443-6  104.19.196.102   \n",
       "...                                          ...             ...   \n",
       "692698    192.168.10.3-192.168.10.14-53-51114-17   192.168.10.14   \n",
       "692699    192.168.10.3-192.168.10.16-53-24054-17   192.168.10.16   \n",
       "692700  192.168.10.51-23.208.163.130-58030-443-6  23.208.163.130   \n",
       "692701    192.168.10.3-192.168.10.14-53-51694-17   192.168.10.14   \n",
       "692702    192.168.10.3-192.168.10.14-53-57949-17   192.168.10.14   \n",
       "\n",
       "         Source Port  Destination IP   Destination Port   Protocol  \\\n",
       "0                443    192.168.10.5              54865          6   \n",
       "1                 80    192.168.10.5              55054          6   \n",
       "2                 80    192.168.10.5              55055          6   \n",
       "3                443   192.168.10.16              46236          6   \n",
       "4                443    192.168.10.5              54863          6   \n",
       "...              ...             ...                ...        ...   \n",
       "692698         51114    192.168.10.3                 53         17   \n",
       "692699         24054    192.168.10.3                 53         17   \n",
       "692700           443   192.168.10.51              58030          6   \n",
       "692701         51694    192.168.10.3                 53         17   \n",
       "692702         57949    192.168.10.3                 53         17   \n",
       "\n",
       "             Timestamp   Flow Duration   Total Fwd Packets  \\\n",
       "0        7/7/2017 3:30               3                   2   \n",
       "1        7/7/2017 3:30             109                   1   \n",
       "2        7/7/2017 3:30              52                   1   \n",
       "3        7/7/2017 3:30              34                   1   \n",
       "4        7/7/2017 3:30               3                   2   \n",
       "...                ...             ...                 ...   \n",
       "692698  5/7/2017 12:10           32215                   4   \n",
       "692699   5/7/2017 3:02             324                   2   \n",
       "692700  5/7/2017 10:06              82                   2   \n",
       "692701   5/7/2017 1:19         1048635                   6   \n",
       "692702   5/7/2017 2:43           94939                   4   \n",
       "\n",
       "         Total Backward Packets  ...   min_seg_size_forward  Active Mean  \\\n",
       "0                             0  ...                     20          0.0   \n",
       "1                             1  ...                     20          0.0   \n",
       "2                             1  ...                     20          0.0   \n",
       "3                             1  ...                     20          0.0   \n",
       "4                             0  ...                     20          0.0   \n",
       "...                         ...  ...                    ...          ...   \n",
       "692698                        2  ...                     20          0.0   \n",
       "692699                        2  ...                     20          0.0   \n",
       "692700                        1  ...                     32          0.0   \n",
       "692701                        2  ...                     20          0.0   \n",
       "692702                        2  ...                     20          0.0   \n",
       "\n",
       "         Active Std   Active Max   Active Min  Idle Mean   Idle Std  \\\n",
       "0               0.0          0.0          0.0        0.0        0.0   \n",
       "1               0.0          0.0          0.0        0.0        0.0   \n",
       "2               0.0          0.0          0.0        0.0        0.0   \n",
       "3               0.0          0.0          0.0        0.0        0.0   \n",
       "4               0.0          0.0          0.0        0.0        0.0   \n",
       "...             ...          ...          ...        ...        ...   \n",
       "692698          0.0          0.0          0.0        0.0        0.0   \n",
       "692699          0.0          0.0          0.0        0.0        0.0   \n",
       "692700          0.0          0.0          0.0        0.0        0.0   \n",
       "692701          0.0          0.0          0.0        0.0        0.0   \n",
       "692702          0.0          0.0          0.0        0.0        0.0   \n",
       "\n",
       "         Idle Max   Idle Min   Label  \n",
       "0             0.0        0.0  BENIGN  \n",
       "1             0.0        0.0  BENIGN  \n",
       "2             0.0        0.0  BENIGN  \n",
       "3             0.0        0.0  BENIGN  \n",
       "4             0.0        0.0  BENIGN  \n",
       "...           ...        ...     ...  \n",
       "692698        0.0        0.0  BENIGN  \n",
       "692699        0.0        0.0  BENIGN  \n",
       "692700        0.0        0.0  BENIGN  \n",
       "692701        0.0        0.0  BENIGN  \n",
       "692702        0.0        0.0  BENIGN  \n",
       "\n",
       "[2059592 rows x 85 columns]"
      ]
     },
     "execution_count": 3,
     "metadata": {},
     "output_type": "execute_result"
    }
   ],
   "source": [
    "df"
   ]
  },
  {
   "cell_type": "code",
   "execution_count": 4,
   "id": "b21902ed",
   "metadata": {},
   "outputs": [],
   "source": [
    "from imblearn.under_sampling import RandomUnderSampler"
   ]
  },
  {
   "cell_type": "code",
   "execution_count": 5,
   "id": "355048e3",
   "metadata": {},
   "outputs": [],
   "source": [
    "x = df.drop(columns=[' Label'])\n",
    "y = df[' Label']"
   ]
  },
  {
   "cell_type": "code",
   "execution_count": 6,
   "id": "d1d8cfc4",
   "metadata": {},
   "outputs": [],
   "source": [
    "rus = RandomUnderSampler(random_state=0, sampling_strategy={\n",
    "    'BENIGN': 20000,\n",
    "     'DDoS': 10000,\n",
    "     'PortScan': 10000,\n",
    "     'Bot': 1966,\n",
    "     'Infiltration': 36,\n",
    "     'FTP-Patator': 7938,\n",
    "     'SSH-Patator': 5897,\n",
    "     'DoS slowloris': 5796,\n",
    "     'DoS Slowhttptest': 5499,\n",
    "     'DoS Hulk': 10000,\n",
    "     'DoS GoldenEye': 10293,\n",
    "     'Heartbleed': 11\n",
    "})"
   ]
  },
  {
   "cell_type": "code",
   "execution_count": 7,
   "id": "9939e47a",
   "metadata": {},
   "outputs": [],
   "source": [
    "LABELS_12 = {\n",
    "    'BENIGN': 0,\n",
    "     'DDoS': 1,\n",
    "     'PortScan': 2,\n",
    "     'Bot': 3,\n",
    "     'Infiltration': 4,\n",
    "     'FTP-Patator': 5,\n",
    "     'SSH-Patator': 6,\n",
    "     'DoS slowloris': 7,\n",
    "     'DoS Slowhttptest': 8,\n",
    "     'DoS Hulk': 9,\n",
    "     'DoS GoldenEye': 10,\n",
    "     'Heartbleed': 11\n",
    "}"
   ]
  },
  {
   "cell_type": "code",
   "execution_count": 8,
   "id": "7b43212c",
   "metadata": {},
   "outputs": [],
   "source": [
    "x, y = rus.fit_resample(x, y)"
   ]
  },
  {
   "cell_type": "code",
   "execution_count": 9,
   "id": "9fc40fa4",
   "metadata": {},
   "outputs": [],
   "source": [
    "label = [LABELS_12[v] for v in y]"
   ]
  },
  {
   "cell_type": "code",
   "execution_count": 10,
   "id": "0db3d780",
   "metadata": {},
   "outputs": [
    {
     "data": {
      "text/plain": [
       "Counter({0: 20000,\n",
       "         3: 1966,\n",
       "         1: 10000,\n",
       "         10: 10293,\n",
       "         9: 10000,\n",
       "         8: 5499,\n",
       "         7: 5796,\n",
       "         5: 7938,\n",
       "         11: 11,\n",
       "         4: 36,\n",
       "         2: 10000,\n",
       "         6: 5897})"
      ]
     },
     "execution_count": 10,
     "metadata": {},
     "output_type": "execute_result"
    }
   ],
   "source": [
    "Counter(label)"
   ]
  },
  {
   "cell_type": "code",
   "execution_count": 11,
   "id": "5238c30e",
   "metadata": {},
   "outputs": [],
   "source": [
    "df = x\n",
    "df[' Label'] = label"
   ]
  },
  {
   "cell_type": "code",
   "execution_count": null,
   "id": "c384e8c7",
   "metadata": {},
   "outputs": [],
   "source": [
    "# df.to_csv('all.csv')"
   ]
  },
  {
   "cell_type": "markdown",
   "id": "e43c77f5",
   "metadata": {},
   "source": [
    "### 归一化"
   ]
  },
  {
   "cell_type": "code",
   "execution_count": 12,
   "id": "270f9de5",
   "metadata": {},
   "outputs": [
    {
     "data": {
      "text/html": [
       "<div>\n",
       "<style scoped>\n",
       "    .dataframe tbody tr th:only-of-type {\n",
       "        vertical-align: middle;\n",
       "    }\n",
       "\n",
       "    .dataframe tbody tr th {\n",
       "        vertical-align: top;\n",
       "    }\n",
       "\n",
       "    .dataframe thead th {\n",
       "        text-align: right;\n",
       "    }\n",
       "</style>\n",
       "<table border=\"1\" class=\"dataframe\">\n",
       "  <thead>\n",
       "    <tr style=\"text-align: right;\">\n",
       "      <th></th>\n",
       "      <th>Flow ID</th>\n",
       "      <th>Source IP</th>\n",
       "      <th>Source Port</th>\n",
       "      <th>Destination IP</th>\n",
       "      <th>Destination Port</th>\n",
       "      <th>Protocol</th>\n",
       "      <th>Timestamp</th>\n",
       "      <th>Flow Duration</th>\n",
       "      <th>Total Fwd Packets</th>\n",
       "      <th>Total Backward Packets</th>\n",
       "      <th>...</th>\n",
       "      <th>min_seg_size_forward</th>\n",
       "      <th>Active Mean</th>\n",
       "      <th>Active Std</th>\n",
       "      <th>Active Max</th>\n",
       "      <th>Active Min</th>\n",
       "      <th>Idle Mean</th>\n",
       "      <th>Idle Std</th>\n",
       "      <th>Idle Max</th>\n",
       "      <th>Idle Min</th>\n",
       "      <th>Label</th>\n",
       "    </tr>\n",
       "  </thead>\n",
       "  <tbody>\n",
       "    <tr>\n",
       "      <th>0</th>\n",
       "      <td>192.168.10.1-192.168.10.3-53-61676-17</td>\n",
       "      <td>192.168.10.3</td>\n",
       "      <td>61676</td>\n",
       "      <td>192.168.10.1</td>\n",
       "      <td>53</td>\n",
       "      <td>17</td>\n",
       "      <td>4/7/2017 3:09</td>\n",
       "      <td>23546</td>\n",
       "      <td>1</td>\n",
       "      <td>1</td>\n",
       "      <td>...</td>\n",
       "      <td>32</td>\n",
       "      <td>0.0</td>\n",
       "      <td>0.0</td>\n",
       "      <td>0.0</td>\n",
       "      <td>0.0</td>\n",
       "      <td>0.0</td>\n",
       "      <td>0.0</td>\n",
       "      <td>0.0</td>\n",
       "      <td>0.0</td>\n",
       "      <td>0</td>\n",
       "    </tr>\n",
       "    <tr>\n",
       "      <th>1</th>\n",
       "      <td>192.168.10.17-112.140.42.140-44855-443-6</td>\n",
       "      <td>192.168.10.17</td>\n",
       "      <td>44855</td>\n",
       "      <td>112.140.42.140</td>\n",
       "      <td>443</td>\n",
       "      <td>6</td>\n",
       "      <td>7/7/2017 9:46</td>\n",
       "      <td>57</td>\n",
       "      <td>2</td>\n",
       "      <td>0</td>\n",
       "      <td>...</td>\n",
       "      <td>32</td>\n",
       "      <td>0.0</td>\n",
       "      <td>0.0</td>\n",
       "      <td>0.0</td>\n",
       "      <td>0.0</td>\n",
       "      <td>0.0</td>\n",
       "      <td>0.0</td>\n",
       "      <td>0.0</td>\n",
       "      <td>0.0</td>\n",
       "      <td>0</td>\n",
       "    </tr>\n",
       "    <tr>\n",
       "      <th>2</th>\n",
       "      <td>192.168.10.5-23.15.4.11-55788-80-6</td>\n",
       "      <td>192.168.10.5</td>\n",
       "      <td>55788</td>\n",
       "      <td>23.15.4.11</td>\n",
       "      <td>80</td>\n",
       "      <td>6</td>\n",
       "      <td>4/7/2017 11:22</td>\n",
       "      <td>17595</td>\n",
       "      <td>1</td>\n",
       "      <td>1</td>\n",
       "      <td>...</td>\n",
       "      <td>20</td>\n",
       "      <td>0.0</td>\n",
       "      <td>0.0</td>\n",
       "      <td>0.0</td>\n",
       "      <td>0.0</td>\n",
       "      <td>0.0</td>\n",
       "      <td>0.0</td>\n",
       "      <td>0.0</td>\n",
       "      <td>0.0</td>\n",
       "      <td>0</td>\n",
       "    </tr>\n",
       "    <tr>\n",
       "      <th>3</th>\n",
       "      <td>192.168.10.5-104.28.6.120-49790-80-6</td>\n",
       "      <td>192.168.10.5</td>\n",
       "      <td>49790</td>\n",
       "      <td>104.28.6.120</td>\n",
       "      <td>80</td>\n",
       "      <td>6</td>\n",
       "      <td>4/7/2017 9:31</td>\n",
       "      <td>29</td>\n",
       "      <td>2</td>\n",
       "      <td>0</td>\n",
       "      <td>...</td>\n",
       "      <td>20</td>\n",
       "      <td>0.0</td>\n",
       "      <td>0.0</td>\n",
       "      <td>0.0</td>\n",
       "      <td>0.0</td>\n",
       "      <td>0.0</td>\n",
       "      <td>0.0</td>\n",
       "      <td>0.0</td>\n",
       "      <td>0.0</td>\n",
       "      <td>0</td>\n",
       "    </tr>\n",
       "    <tr>\n",
       "      <th>4</th>\n",
       "      <td>192.168.10.5-77.247.179.176-57416-443-6</td>\n",
       "      <td>77.247.179.176</td>\n",
       "      <td>443</td>\n",
       "      <td>192.168.10.5</td>\n",
       "      <td>57416</td>\n",
       "      <td>6</td>\n",
       "      <td>4/7/2017 1:40</td>\n",
       "      <td>1005</td>\n",
       "      <td>2</td>\n",
       "      <td>0</td>\n",
       "      <td>...</td>\n",
       "      <td>20</td>\n",
       "      <td>0.0</td>\n",
       "      <td>0.0</td>\n",
       "      <td>0.0</td>\n",
       "      <td>0.0</td>\n",
       "      <td>0.0</td>\n",
       "      <td>0.0</td>\n",
       "      <td>0.0</td>\n",
       "      <td>0.0</td>\n",
       "      <td>0</td>\n",
       "    </tr>\n",
       "  </tbody>\n",
       "</table>\n",
       "<p>5 rows × 85 columns</p>\n",
       "</div>"
      ],
      "text/plain": [
       "                                    Flow ID       Source IP   Source Port  \\\n",
       "0     192.168.10.1-192.168.10.3-53-61676-17    192.168.10.3         61676   \n",
       "1  192.168.10.17-112.140.42.140-44855-443-6   192.168.10.17         44855   \n",
       "2        192.168.10.5-23.15.4.11-55788-80-6    192.168.10.5         55788   \n",
       "3      192.168.10.5-104.28.6.120-49790-80-6    192.168.10.5         49790   \n",
       "4   192.168.10.5-77.247.179.176-57416-443-6  77.247.179.176           443   \n",
       "\n",
       "   Destination IP   Destination Port   Protocol       Timestamp  \\\n",
       "0    192.168.10.1                 53         17   4/7/2017 3:09   \n",
       "1  112.140.42.140                443          6   7/7/2017 9:46   \n",
       "2      23.15.4.11                 80          6  4/7/2017 11:22   \n",
       "3    104.28.6.120                 80          6   4/7/2017 9:31   \n",
       "4    192.168.10.5              57416          6   4/7/2017 1:40   \n",
       "\n",
       "    Flow Duration   Total Fwd Packets   Total Backward Packets  ...  \\\n",
       "0           23546                   1                        1  ...   \n",
       "1              57                   2                        0  ...   \n",
       "2           17595                   1                        1  ...   \n",
       "3              29                   2                        0  ...   \n",
       "4            1005                   2                        0  ...   \n",
       "\n",
       "    min_seg_size_forward  Active Mean   Active Std   Active Max   Active Min  \\\n",
       "0                     32          0.0          0.0          0.0          0.0   \n",
       "1                     32          0.0          0.0          0.0          0.0   \n",
       "2                     20          0.0          0.0          0.0          0.0   \n",
       "3                     20          0.0          0.0          0.0          0.0   \n",
       "4                     20          0.0          0.0          0.0          0.0   \n",
       "\n",
       "   Idle Mean   Idle Std   Idle Max   Idle Min   Label  \n",
       "0        0.0        0.0        0.0        0.0       0  \n",
       "1        0.0        0.0        0.0        0.0       0  \n",
       "2        0.0        0.0        0.0        0.0       0  \n",
       "3        0.0        0.0        0.0        0.0       0  \n",
       "4        0.0        0.0        0.0        0.0       0  \n",
       "\n",
       "[5 rows x 85 columns]"
      ]
     },
     "execution_count": 12,
     "metadata": {},
     "output_type": "execute_result"
    }
   ],
   "source": [
    "df.head()"
   ]
  },
  {
   "cell_type": "code",
   "execution_count": null,
   "id": "c5bba3d2",
   "metadata": {},
   "outputs": [],
   "source": [
    "delete_index = np.load('delete_index.npy')"
   ]
  },
  {
   "cell_type": "code",
   "execution_count": null,
   "id": "8a060147",
   "metadata": {},
   "outputs": [],
   "source": [
    "df2 = df.copy()"
   ]
  },
  {
   "cell_type": "code",
   "execution_count": 17,
   "id": "8a9512fd",
   "metadata": {},
   "outputs": [
    {
     "ename": "NameError",
     "evalue": "name 'df2' is not defined",
     "output_type": "error",
     "traceback": [
      "\u001b[1;31m---------------------------------------------------------------------------\u001b[0m",
      "\u001b[1;31mNameError\u001b[0m                                 Traceback (most recent call last)",
      "\u001b[1;32m<ipython-input-17-6c00933fdc4f>\u001b[0m in \u001b[0;36m<module>\u001b[1;34m\u001b[0m\n\u001b[1;32m----> 1\u001b[1;33m \u001b[0mdf2\u001b[0m \u001b[1;33m=\u001b[0m \u001b[0mdf2\u001b[0m\u001b[1;33m.\u001b[0m\u001b[0mreplace\u001b[0m\u001b[1;33m(\u001b[0m\u001b[1;33m[\u001b[0m\u001b[1;34m'Infinity'\u001b[0m\u001b[1;33m,\u001b[0m\u001b[1;34m'infinity '\u001b[0m\u001b[1;33m,\u001b[0m\u001b[1;34m'inf'\u001b[0m\u001b[1;33m,\u001b[0m \u001b[1;34m'-inf'\u001b[0m\u001b[1;33m,\u001b[0m\u001b[1;34m'INF'\u001b[0m\u001b[1;33m,\u001b[0m\u001b[1;34m'NaN'\u001b[0m\u001b[1;33m,\u001b[0m\u001b[1;34m'nan'\u001b[0m\u001b[1;33m]\u001b[0m\u001b[1;33m,\u001b[0m \u001b[1;36m0\u001b[0m\u001b[1;33m)\u001b[0m\u001b[1;33m\u001b[0m\u001b[1;33m\u001b[0m\u001b[0m\n\u001b[0m",
      "\u001b[1;31mNameError\u001b[0m: name 'df2' is not defined"
     ]
    }
   ],
   "source": [
    "df2 = df2.replace(['Infinity','infinity ','inf', '-inf','INF','NaN','nan'], 0)"
   ]
  },
  {
   "cell_type": "code",
   "execution_count": 13,
   "id": "324d2b04",
   "metadata": {},
   "outputs": [],
   "source": [
    "df = df.replace(['Infinity','infinity ','inf', '-inf','INF','NaN','nan'], 0)"
   ]
  },
  {
   "cell_type": "code",
   "execution_count": 18,
   "id": "d5f731cb",
   "metadata": {},
   "outputs": [],
   "source": [
    "df.to_pickle('cicids2017_final.pkl')"
   ]
  },
  {
   "cell_type": "code",
   "execution_count": 14,
   "id": "0cd7474c",
   "metadata": {},
   "outputs": [
    {
     "data": {
      "text/plain": [
       "87436"
      ]
     },
     "execution_count": 14,
     "metadata": {},
     "output_type": "execute_result"
    }
   ],
   "source": [
    "len(df)"
   ]
  },
  {
   "cell_type": "code",
   "execution_count": 15,
   "id": "35bf09fd",
   "metadata": {},
   "outputs": [],
   "source": [
    "x = df.drop(columns=[' Label', 'Flow ID',' Source IP',' Source Port', ' Destination IP', ' Destination Port',' Timestamp'])"
   ]
  },
  {
   "cell_type": "code",
   "execution_count": 16,
   "id": "fd87dd9a",
   "metadata": {},
   "outputs": [],
   "source": [
    "x = (x - x.min())/ (x.max() - x.min())"
   ]
  },
  {
   "cell_type": "code",
   "execution_count": null,
   "id": "a791ff89",
   "metadata": {},
   "outputs": [],
   "source": [
    "features = x.drop(index=delete_index)"
   ]
  },
  {
   "cell_type": "code",
   "execution_count": null,
   "id": "ae50e730",
   "metadata": {},
   "outputs": [],
   "source": [
    "label = np.delete(label, delete_index)"
   ]
  },
  {
   "cell_type": "code",
   "execution_count": null,
   "id": "66ebe52f",
   "metadata": {},
   "outputs": [],
   "source": [
    "df2 = df2.drop(index=delete_index)"
   ]
  },
  {
   "cell_type": "markdown",
   "id": "147abd63",
   "metadata": {},
   "source": [
    "# ---------------------------------------------------------------------------------------------------------\n",
    "# 建立边关系！！"
   ]
  },
  {
   "cell_type": "code",
   "execution_count": null,
   "id": "96702ed9",
   "metadata": {},
   "outputs": [],
   "source": [
    "src_ip = df2[' Source IP']\n",
    "dst_ip = df2[' Destination IP']\n",
    "src_port = df2[' Source Port']\n",
    "dst_port = df2[' Destination Port']"
   ]
  },
  {
   "cell_type": "code",
   "execution_count": null,
   "id": "40c6c53e",
   "metadata": {},
   "outputs": [],
   "source": [
    "src_ip = np.array(src_ip)\n",
    "dst_ip = np.array(dst_ip)\n",
    "src_port = np.array(src_port)\n",
    "dst_port = np.array(dst_port)"
   ]
  },
  {
   "cell_type": "code",
   "execution_count": null,
   "id": "029944e6",
   "metadata": {},
   "outputs": [],
   "source": [
    "src_nodes = list(zip(src_ip, src_port))"
   ]
  },
  {
   "cell_type": "code",
   "execution_count": null,
   "id": "abd588b1",
   "metadata": {},
   "outputs": [],
   "source": [
    "dst_nodes = list(zip(dst_ip, dst_port))"
   ]
  },
  {
   "cell_type": "markdown",
   "id": "b616c1f1",
   "metadata": {},
   "source": [
    "### socket dict是节点的集合"
   ]
  },
  {
   "cell_type": "code",
   "execution_count": null,
   "id": "f48c1f45",
   "metadata": {},
   "outputs": [],
   "source": [
    "socket_dict1 = list(zip(src_nodes, dst_nodes))"
   ]
  },
  {
   "cell_type": "code",
   "execution_count": null,
   "id": "ec416b7e",
   "metadata": {},
   "outputs": [],
   "source": [
    "socket_dict2 = list(zip(dst_nodes, src_nodes))"
   ]
  },
  {
   "cell_type": "code",
   "execution_count": null,
   "id": "c2054ab5",
   "metadata": {},
   "outputs": [],
   "source": [
    "socket_dict_n = set(socket_dict1) & set(socket_dict2)"
   ]
  },
  {
   "cell_type": "code",
   "execution_count": null,
   "id": "3d15a28c",
   "metadata": {},
   "outputs": [],
   "source": [
    "len(socket_dict_n)"
   ]
  },
  {
   "cell_type": "code",
   "execution_count": null,
   "id": "cffbe9ed",
   "metadata": {},
   "outputs": [],
   "source": [
    "num_edge = len(src_nodes)\n",
    "num_edge"
   ]
  },
  {
   "cell_type": "markdown",
   "id": "14d4f78a",
   "metadata": {},
   "source": [
    "## 1.先建立字典\n",
    "## 2.建立编号\n",
    "## 3.编号两两组成关系\n",
    "## 4.循环遍历编号，以及编号的邻居\n",
    "## 5.逆向操作"
   ]
  },
  {
   "cell_type": "markdown",
   "id": "4f0adff7",
   "metadata": {},
   "source": [
    "## 1.先建立字典"
   ]
  },
  {
   "cell_type": "code",
   "execution_count": null,
   "id": "837882e4",
   "metadata": {},
   "outputs": [],
   "source": [
    "socket_dict1"
   ]
  },
  {
   "cell_type": "code",
   "execution_count": null,
   "id": "4367c945",
   "metadata": {},
   "outputs": [],
   "source": [
    "all_nodes = set(src_nodes).union(set(dst_nodes))"
   ]
  },
  {
   "cell_type": "code",
   "execution_count": null,
   "id": "38d983c5",
   "metadata": {},
   "outputs": [],
   "source": [
    "nodes_to_no_dict = dict()\n",
    "for index,value in enumerate(all_nodes):\n",
    "    nodes_to_no_dict[value] = index"
   ]
  },
  {
   "cell_type": "code",
   "execution_count": null,
   "id": "4e69c268",
   "metadata": {},
   "outputs": [],
   "source": [
    "nodes_to_no_dict # 进程的编号"
   ]
  },
  {
   "cell_type": "markdown",
   "id": "3c20c828",
   "metadata": {},
   "source": [
    "# 正向操作"
   ]
  },
  {
   "cell_type": "code",
   "execution_count": null,
   "id": "b5e546e8",
   "metadata": {},
   "outputs": [],
   "source": [
    "socket_adj_map = {}\n",
    "socket_no_map = {}\n",
    "for index, value in enumerate(socket_dict1):\n",
    "    # 获取发出者编号\n",
    "    s, d = value[0], value[1]\n",
    "    s_no = nodes_to_no_dict[s]\n",
    "    d_no = nodes_to_no_dict[d]\n",
    "    if s_no not in socket_adj_map:\n",
    "        socket_adj_map[s_no] = []\n",
    "    if s_no not in socket_no_map:\n",
    "        socket_no_map[s_no] = []\n",
    "    socket_adj_map[s_no].append(d_no)\n",
    "    socket_no_map[s_no].append(index)\n",
    "    "
   ]
  },
  {
   "cell_type": "markdown",
   "id": "e12d7421",
   "metadata": {},
   "source": [
    "# 反向操作"
   ]
  },
  {
   "cell_type": "code",
   "execution_count": null,
   "id": "0df22e12",
   "metadata": {},
   "outputs": [],
   "source": [
    "socket_adj_map_reverse = {}\n",
    "socket_no_map_reverse = {}\n",
    "for index, value in enumerate(socket_dict2):\n",
    "    # 获取发出者编号\n",
    "    s, d = value[0], value[1]\n",
    "    s_no = nodes_to_no_dict[s]\n",
    "    d_no = nodes_to_no_dict[d]\n",
    "    if s_no not in socket_adj_map_reverse:\n",
    "        socket_adj_map_reverse[s_no] = []\n",
    "    if s_no not in socket_no_map_reverse:\n",
    "        socket_no_map_reverse[s_no] = []\n",
    "    socket_adj_map_reverse[s_no].append(d_no)\n",
    "    socket_no_map_reverse[s_no].append(index)"
   ]
  },
  {
   "cell_type": "markdown",
   "id": "cf7fd484",
   "metadata": {},
   "source": [
    "# 建立图"
   ]
  },
  {
   "cell_type": "markdown",
   "id": "0c92da3b",
   "metadata": {},
   "source": [
    "#### 先建立邻接链表，然后自动建立图"
   ]
  },
  {
   "cell_type": "code",
   "execution_count": null,
   "id": "29e7e377",
   "metadata": {},
   "outputs": [],
   "source": [
    "adj_list = {}"
   ]
  },
  {
   "cell_type": "code",
   "execution_count": null,
   "id": "8af926af",
   "metadata": {},
   "outputs": [],
   "source": [
    "def build_edge_index(arr):\n",
    "    for i in range(len(arr)):\n",
    "        if arr[i] not in adj_list:\n",
    "            adj_list[arr[i]] = set()\n",
    "        for j in range(len(arr)):\n",
    "            if i != j:\n",
    "                adj_list[arr[i]].add(arr[j])\n",
    "        "
   ]
  },
  {
   "cell_type": "code",
   "execution_count": null,
   "id": "ea5b71d5",
   "metadata": {},
   "outputs": [],
   "source": [
    "for index, value in socket_no_map.items():\n",
    "    build_edge_index(value)"
   ]
  },
  {
   "cell_type": "markdown",
   "id": "ba733b1a",
   "metadata": {},
   "source": [
    "## 编号邻居组成关系"
   ]
  },
  {
   "cell_type": "code",
   "execution_count": null,
   "id": "fb56f83e",
   "metadata": {},
   "outputs": [],
   "source": [
    "for key, value in socket_adj_map.items():\n",
    "    for i in range(len(value)):\n",
    "        adj_no = value[i]\n",
    "        no = socket_no_map[key][i]\n",
    "        if adj_no in socket_adj_map and len(socket_adj_map[adj_no]) != 0:\n",
    "            for adj_v in socket_adj_map[adj_no]:\n",
    "                adj_list[no].add(adj_v)\n",
    "        \n",
    "        \n"
   ]
  },
  {
   "cell_type": "code",
   "execution_count": null,
   "id": "38fca4a4",
   "metadata": {},
   "outputs": [],
   "source": [
    "adj_list"
   ]
  },
  {
   "cell_type": "code",
   "execution_count": null,
   "id": "c1042de2",
   "metadata": {},
   "outputs": [],
   "source": [
    "count = 0\n",
    "count_arr = []\n",
    "for key, v in adj_list.items():\n",
    "    if len(v) == 0:\n",
    "        count_arr.append(key)\n",
    "        count += 1\n",
    "count,count_arr"
   ]
  },
  {
   "cell_type": "code",
   "execution_count": null,
   "id": "008c1354",
   "metadata": {},
   "outputs": [],
   "source": [
    "count_arr = np.array(count_arr)"
   ]
  },
  {
   "cell_type": "code",
   "execution_count": null,
   "id": "5e56254d",
   "metadata": {},
   "outputs": [],
   "source": [
    "features = np.array(features)"
   ]
  },
  {
   "cell_type": "code",
   "execution_count": null,
   "id": "c1a8d425",
   "metadata": {},
   "outputs": [],
   "source": [
    "features"
   ]
  },
  {
   "cell_type": "code",
   "execution_count": null,
   "id": "9efdffcc",
   "metadata": {},
   "outputs": [],
   "source": [
    "len(features)"
   ]
  },
  {
   "cell_type": "code",
   "execution_count": null,
   "id": "97c476ea",
   "metadata": {},
   "outputs": [],
   "source": [
    "x_new = np.delete(features, count_arr, axis=0)"
   ]
  },
  {
   "cell_type": "code",
   "execution_count": null,
   "id": "263df4a0",
   "metadata": {},
   "outputs": [],
   "source": [
    "x_new"
   ]
  },
  {
   "cell_type": "code",
   "execution_count": null,
   "id": "9c026e05",
   "metadata": {},
   "outputs": [],
   "source": [
    "len(x_new)"
   ]
  },
  {
   "cell_type": "code",
   "execution_count": null,
   "id": "caa5d9ca",
   "metadata": {},
   "outputs": [],
   "source": [
    "label = np.array(label)"
   ]
  },
  {
   "cell_type": "code",
   "execution_count": null,
   "id": "ac106060",
   "metadata": {},
   "outputs": [],
   "source": [
    "label_new = np.delete(label, count_arr, axis=0)"
   ]
  },
  {
   "cell_type": "code",
   "execution_count": null,
   "id": "8d071a70",
   "metadata": {},
   "outputs": [],
   "source": [
    "label_new"
   ]
  },
  {
   "cell_type": "code",
   "execution_count": null,
   "id": "a7cf0fc9",
   "metadata": {},
   "outputs": [],
   "source": [
    "Counter(label_new)"
   ]
  },
  {
   "cell_type": "code",
   "execution_count": null,
   "id": "1df59b9f",
   "metadata": {},
   "outputs": [],
   "source": [
    "guli = [label[v] for v in count_arr]"
   ]
  },
  {
   "cell_type": "code",
   "execution_count": null,
   "id": "af7ef134",
   "metadata": {},
   "outputs": [],
   "source": [
    "Counter(label)"
   ]
  },
  {
   "cell_type": "code",
   "execution_count": null,
   "id": "65e53d68",
   "metadata": {},
   "outputs": [],
   "source": [
    "Counter(guli)"
   ]
  },
  {
   "cell_type": "code",
   "execution_count": null,
   "id": "bf307aaf",
   "metadata": {},
   "outputs": [],
   "source": [
    "len(adj_list)"
   ]
  },
  {
   "cell_type": "code",
   "execution_count": null,
   "id": "5216e3c3",
   "metadata": {},
   "outputs": [],
   "source": [
    "print(count * 100 / len(adj_list), \"%\")"
   ]
  },
  {
   "cell_type": "code",
   "execution_count": null,
   "id": "820f5bb0",
   "metadata": {},
   "outputs": [],
   "source": [
    "adj_list"
   ]
  },
  {
   "cell_type": "code",
   "execution_count": null,
   "id": "5f413986",
   "metadata": {},
   "outputs": [],
   "source": []
  },
  {
   "cell_type": "code",
   "execution_count": null,
   "id": "04dd4232",
   "metadata": {},
   "outputs": [],
   "source": []
  },
  {
   "cell_type": "code",
   "execution_count": null,
   "id": "000b537e",
   "metadata": {},
   "outputs": [],
   "source": []
  },
  {
   "cell_type": "code",
   "execution_count": null,
   "id": "9d599f62",
   "metadata": {},
   "outputs": [],
   "source": []
  },
  {
   "cell_type": "code",
   "execution_count": null,
   "id": "b9c78623",
   "metadata": {},
   "outputs": [],
   "source": []
  },
  {
   "cell_type": "code",
   "execution_count": null,
   "id": "301b0fa7",
   "metadata": {},
   "outputs": [],
   "source": []
  },
  {
   "cell_type": "code",
   "execution_count": null,
   "id": "a313eb35",
   "metadata": {},
   "outputs": [],
   "source": []
  },
  {
   "cell_type": "markdown",
   "id": "dab092a6",
   "metadata": {},
   "source": [
    "# 保存文件"
   ]
  },
  {
   "cell_type": "code",
   "execution_count": null,
   "id": "c5b67022",
   "metadata": {},
   "outputs": [],
   "source": [
    "import torch\n",
    "import networkx as nx\n",
    "import matplotlib.pyplot as plt\n",
    "from torch_geometric.data import Data\n",
    "from torch_geometric.utils.convert import to_networkx"
   ]
  },
  {
   "cell_type": "code",
   "execution_count": null,
   "id": "fb864eb4",
   "metadata": {},
   "outputs": [],
   "source": [
    "index = torch.tensor(index, dtype=torch.long)"
   ]
  },
  {
   "cell_type": "code",
   "execution_count": null,
   "id": "c4399f2d",
   "metadata": {},
   "outputs": [],
   "source": [
    "data = Data(x = features, edge_index=index.contiguous(), y = label)"
   ]
  },
  {
   "cell_type": "code",
   "execution_count": null,
   "id": "b0c73ed5",
   "metadata": {},
   "outputs": [],
   "source": [
    "data.x"
   ]
  },
  {
   "cell_type": "code",
   "execution_count": null,
   "id": "ea13d599",
   "metadata": {},
   "outputs": [],
   "source": [
    "data.num_nodes"
   ]
  },
  {
   "cell_type": "code",
   "execution_count": null,
   "id": "dcc50f47",
   "metadata": {},
   "outputs": [],
   "source": [
    "data.num_edges"
   ]
  },
  {
   "cell_type": "code",
   "execution_count": null,
   "id": "695d90c5",
   "metadata": {},
   "outputs": [],
   "source": [
    "data.num_node_features"
   ]
  },
  {
   "cell_type": "code",
   "execution_count": null,
   "id": "544fee3f",
   "metadata": {},
   "outputs": [],
   "source": [
    "data.has_isolated_nodes()"
   ]
  },
  {
   "cell_type": "code",
   "execution_count": null,
   "id": "b5f3a55a",
   "metadata": {},
   "outputs": [],
   "source": [
    "data.has_self_loops()"
   ]
  },
  {
   "cell_type": "code",
   "execution_count": null,
   "id": "204f313c",
   "metadata": {},
   "outputs": [],
   "source": [
    "data.is_directed()"
   ]
  },
  {
   "cell_type": "code",
   "execution_count": null,
   "id": "254c11f3",
   "metadata": {},
   "outputs": [],
   "source": [
    "data.is_undirected()"
   ]
  },
  {
   "cell_type": "code",
   "execution_count": null,
   "id": "ab948f89",
   "metadata": {},
   "outputs": [],
   "source": [
    "def graph_showing(data):\n",
    "    '''\n",
    "    args:\n",
    "         data: torch_geometric.data.Data\n",
    "    '''\n",
    "\n",
    "    G = nx.Graph()\n",
    "    edge_index = data['edge_index'].t()\n",
    "    #     print(edge_index)\n",
    "    edge_index = np.array(edge_index.cpu())\n",
    "    #     print(edge_index)\n",
    "\n",
    "    G.add_edges_from(edge_index)\n",
    "    print(nx.is_connected(G))\n",
    "    print(nx.number_connected_components(G))\n",
    "    subgraph = list(G.subgraph(c) for c in nx.connected_components(G))\n",
    "    min_subgraph = data.num_edges + 1\n",
    "    g = None\n",
    "    for s in subgraph:\n",
    "        if min_subgraph > len(s):\n",
    "            min_subgraph = len(s)\n",
    "            g = s\n",
    "    nx.draw_networkx(g, with_labels=True)\n",
    "    plt.show()"
   ]
  },
  {
   "cell_type": "code",
   "execution_count": null,
   "id": "e00042ec",
   "metadata": {},
   "outputs": [],
   "source": [
    "graph_showing(data)"
   ]
  },
  {
   "cell_type": "markdown",
   "id": "e32d6737",
   "metadata": {},
   "source": [
    "# 处理"
   ]
  },
  {
   "cell_type": "code",
   "execution_count": null,
   "id": "9d53db88",
   "metadata": {},
   "outputs": [],
   "source": [
    "# import pandas as pd\n",
    "# from collections import Counter\n",
    "# import numpy as np\n",
    "# import pickle\n",
    "# import sys"
   ]
  },
  {
   "cell_type": "code",
   "execution_count": null,
   "id": "b3509a82",
   "metadata": {},
   "outputs": [],
   "source": [
    "# src_socket = np.load('src_socket.npy')"
   ]
  },
  {
   "cell_type": "code",
   "execution_count": null,
   "id": "92dfa376",
   "metadata": {},
   "outputs": [],
   "source": [
    "# def list_to_csv():\n",
    "#     with open('a.csv', 'w') as f:\n",
    "#         for i in range(len(src_socket)):\n",
    "#             f.write(str(src_socket[i]))\n",
    "#             f.write(\",\")\n",
    "#             f.write(str(dst_socket[i]))\n",
    "#             f.write(\"\\n\") \n"
   ]
  },
  {
   "cell_type": "code",
   "execution_count": null,
   "id": "2fedd6bf",
   "metadata": {},
   "outputs": [],
   "source": [
    "# list_to_csv()"
   ]
  },
  {
   "cell_type": "code",
   "execution_count": null,
   "id": "b5c0b37c",
   "metadata": {},
   "outputs": [],
   "source": [
    "# df = pd.read_csv('a.csv')"
   ]
  },
  {
   "cell_type": "code",
   "execution_count": null,
   "id": "551bc8b4",
   "metadata": {},
   "outputs": [],
   "source": [
    "# df.head()"
   ]
  },
  {
   "cell_type": "code",
   "execution_count": null,
   "id": "da471660",
   "metadata": {},
   "outputs": [],
   "source": [
    "# df = df.drop_duplicates()"
   ]
  },
  {
   "cell_type": "code",
   "execution_count": null,
   "id": "2b12a637",
   "metadata": {},
   "outputs": [],
   "source": [
    "# df.head()"
   ]
  },
  {
   "cell_type": "code",
   "execution_count": null,
   "id": "660f99db",
   "metadata": {},
   "outputs": [],
   "source": [
    "# len(df)"
   ]
  },
  {
   "cell_type": "code",
   "execution_count": null,
   "id": "2b2aa0a8",
   "metadata": {},
   "outputs": [],
   "source": []
  }
 ],
 "metadata": {
  "kernelspec": {
   "display_name": "Python [conda env:lightgbm_catboost] *",
   "language": "python",
   "name": "conda-env-lightgbm_catboost-py"
  },
  "language_info": {
   "codemirror_mode": {
    "name": "ipython",
    "version": 3
   },
   "file_extension": ".py",
   "mimetype": "text/x-python",
   "name": "python",
   "nbconvert_exporter": "python",
   "pygments_lexer": "ipython3",
   "version": "3.6.13"
  }
 },
 "nbformat": 4,
 "nbformat_minor": 5
}
