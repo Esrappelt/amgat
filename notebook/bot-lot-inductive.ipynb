{
 "cells": [
  {
   "cell_type": "code",
   "execution_count": 80,
   "id": "c43b8c5e",
   "metadata": {},
   "outputs": [],
   "source": [
    "import networkx\n",
    "import torch\n",
    "import numpy as np\n",
    "import pandas as pd\n",
    "from sklearn.metrics import *\n",
    "from torch_geometric.loader import NeighborSampler, NeighborLoader\n",
    "from torch_geometric.data import Data, DataLoader\n",
    "from torch_geometric.nn import GATConv, ResGatedGraphConv, GATv2Conv, SAGEConv, GENConv, DeepGCNLayer, PairNorm, GINConv\n",
    "from sklearn.preprocessing import MinMaxScaler\n",
    "from sklearn.model_selection import train_test_split\n",
    "from sklearn.impute import SimpleImputer\n",
    "import torch.nn.functional as F\n",
    "from imblearn.under_sampling import RandomUnderSampler\n",
    "pd.options.mode.use_inf_as_na = True\n",
    "from collections import Counter\n",
    "from sklearn.feature_selection import SelectFromModel\n",
    "import torch.nn as nn\n",
    "import time\n",
    "import pickle\n",
    "from torch.nn import LayerNorm, Linear, ReLU\n",
    "from torch_scatter import scatter\n",
    "from tqdm import tqdm\n",
    "from torch_geometric.loader import RandomNodeSampler\n",
    "import math\n",
    "import copy\n",
    "from sklearn.metrics import f1_score\n",
    "from torch.optim import lr_scheduler\n",
    "from sklearn.manifold import TSNE"
   ]
  },
  {
   "cell_type": "code",
   "execution_count": 81,
   "id": "6034f59a",
   "metadata": {},
   "outputs": [],
   "source": [
    "from densegat.DenseGAT import DenseGAT"
   ]
  },
  {
   "cell_type": "code",
   "execution_count": 82,
   "id": "6f44c143",
   "metadata": {},
   "outputs": [],
   "source": [
    "class Transition_layer(torch.nn.Module):\n",
    "    def __init__(self, act, norm, lin):\n",
    "        super().__init__()\n",
    "        self.act = act\n",
    "        self.norm = norm\n",
    "        self.lin = lin\n",
    "    def forward(self, x):\n",
    "        x = self.norm(x)\n",
    "        x = self.act(x)\n",
    "        x = self.lin(x)\n",
    "        return x\n",
    "        \n",
    "class DenseGAT(torch.nn.Module):\n",
    "    def __init__(self, in_channels, num_class, num_layers=6, num_blocks=3, growth_rate=10, theta=0.5):\n",
    "        super().__init__()\n",
    "        self.num_layers = num_layers\n",
    "        self.blocks = num_blocks\n",
    "        self.theta = theta\n",
    "        self.growth_rate = growth_rate\n",
    "        self.base_rate = growth_rate\n",
    "        self.in_channels = in_channels\n",
    "        self.out_channels = num_class\n",
    "        self.linear_layers = torch.nn.ModuleList()\n",
    "        self.transition_layers = torch.nn.ModuleList()\n",
    "        self.block_layers = torch.nn.ModuleList()\n",
    "        self.node_encoder = Linear(in_channels, growth_rate)\n",
    "        self.linear_layers.append(self.node_encoder)\n",
    "        \n",
    "        for i in range(self.blocks):\n",
    "            # block\n",
    "            layers = torch.nn.ModuleList()\n",
    "            # 2^(i - 1) * k0\n",
    "            self.growth_rate = int(math.pow(2, i) * self.base_rate)\n",
    "            print(self.growth_rate)\n",
    "            for j in range(1, self.num_layers + 1):\n",
    "                conv = SAGEConv(in_channels + (j - 1) * self.growth_rate, self.growth_rate, aggr='mean')\n",
    "                norm = LayerNorm(self.growth_rate)\n",
    "                act = ReLU()\n",
    "                layer = DeepGCNLayer(conv, norm, act, block='dense')\n",
    "                layers.append(layer)\n",
    "            self.block_layers.append(layers)\n",
    "            \n",
    "            # transition\n",
    "            hidden_channels = in_channels +  self.num_layers * self.growth_rate\n",
    "            out_channels = int(hidden_channels * self.theta)\n",
    "            transition_norm = LayerNorm(hidden_channels, elementwise_affine=True)\n",
    "            transition_act = ReLU()\n",
    "            transition_lin = Linear(hidden_channels, out_channels)\n",
    "            transitionLayer = Transition_layer(transition_act, transition_norm, transition_lin)\n",
    "            self.transition_layers.append(transitionLayer)\n",
    "            in_channels = copy.copy(out_channels)\n",
    "        \n",
    "        self.lin_last = Linear(in_channels, self.out_channels)\n",
    "        self.linear_layers.append(self.lin_last)\n",
    "        \n",
    "    def forward(self, x, edge_index):\n",
    "#         x = self.linear_layers[0](x)\n",
    "        for i in range(self.blocks):\n",
    "            # block layer\n",
    "            for layer in self.block_layers[i]:\n",
    "                x = layer(x, edge_index)\n",
    "            # transition layer\n",
    "            x = self.transition_layers[i](x)\n",
    "        x = self.linear_layers[-1](x)\n",
    "        return x"
   ]
  },
  {
   "cell_type": "code",
   "execution_count": 83,
   "id": "b38ffd64",
   "metadata": {},
   "outputs": [],
   "source": [
    "import warnings\n",
    "# action参数可以设置为ignore，一位一次也不喜爱你是，once表示为只显示一次\n",
    "warnings.filterwarnings(action='ignore')"
   ]
  },
  {
   "cell_type": "code",
   "execution_count": 84,
   "id": "4a0e5e35",
   "metadata": {},
   "outputs": [],
   "source": [
    "train_data = torch.load('/home/xiaoyujie/densegat/botlot/bot_lot_train_data')"
   ]
  },
  {
   "cell_type": "code",
   "execution_count": 85,
   "id": "595582d3",
   "metadata": {},
   "outputs": [],
   "source": [
    "test_data = torch.load('/home/xiaoyujie/densegat/botlot/bot_lot_test_data')"
   ]
  },
  {
   "cell_type": "code",
   "execution_count": null,
   "id": "8caa34db",
   "metadata": {},
   "outputs": [],
   "source": [
    "device = 'cuda:1'"
   ]
  },
  {
   "cell_type": "code",
   "execution_count": 86,
   "id": "19aab59a",
   "metadata": {},
   "outputs": [
    {
     "name": "stdout",
     "output_type": "stream",
     "text": [
      "[1.22151832e+02 5.83275000e-01 5.83275000e-01 6.40389762e-01\n",
      " 7.40666667e+02]\n"
     ]
    }
   ],
   "source": [
    "from sklearn.utils import class_weight\n",
    "class_weights = class_weight.compute_class_weight('balanced',np.unique(train_data.y.numpy()),train_data.y.numpy())\n",
    "print(class_weights)\n",
    "class_weights = torch.FloatTensor(class_weights).to(device)\n",
    "def train():\n",
    "    total_loss = total_correct = total_examples = 0\n",
    "    start_time = time.time()\n",
    "    for batch in train_loader:\n",
    "        batch = batch.to(device)\n",
    "        y = batch.y[:batch.batch_size]\n",
    "        optimizer.zero_grad()\n",
    "        y_hat = model(batch.x.to(device), batch.edge_index.to(device))[:batch.batch_size]\n",
    "        loss = F.cross_entropy(y_hat, y, weight=class_weights)\n",
    "        loss.backward()\n",
    "        optimizer.step()\n",
    "        total_loss += float(loss) * batch.batch_size\n",
    "        total_correct += int((y_hat.argmax(dim=-1) == y).sum())\n",
    "        total_examples += batch.batch_size\n",
    "    end_time = time.time()  \n",
    "    \n",
    "    return total_loss / total_examples, total_correct / total_examples\n",
    "\n",
    "def inferrence(model, subgraph_loader):\n",
    "    total_loss = total_correct = total_examples = 0\n",
    "    xs = []\n",
    "    y = []\n",
    "    pbar = tqdm(total=len(subgraph_loader))\n",
    "    for batch in subgraph_loader:\n",
    "        y_hat = model(batch.x, batch.edge_index.to(device))[:batch.batch_size]\n",
    "        xs.append(y_hat.cpu())\n",
    "        y_true = batch.y[:batch.batch_size]\n",
    "        y.append(y_true.cpu())\n",
    "        pbar.update(1)\n",
    "    pbar.close()\n",
    "    y_hat = torch.cat(xs, 0)\n",
    "    y_hat = y_hat.detach().numpy()\n",
    "    y_hat = np.argmax(y_hat, -1)\n",
    "    y = torch.cat(y, 0)\n",
    "    print(y_hat)\n",
    "    print(y)\n",
    "    cr1 = classification_report(y, y_hat,digits=4)\n",
    "    cf = confusion_matrix(y, y_hat)\n",
    "    print(cr1)\n",
    "    print(cf)\n",
    "\n",
    "def get_metrics(y_true, y_pred):\n",
    "    cr = classification_report(y_true, y_pred, output_dict=True)\n",
    "    df = pd.DataFrame(cr).transpose()\n",
    "    cm = confusion_matrix(y_true, y_pred)\n",
    "    print(df)\n",
    "    print(cm)"
   ]
  },
  {
   "cell_type": "code",
   "execution_count": 87,
   "id": "1cfdda03",
   "metadata": {},
   "outputs": [
    {
     "data": {
      "text/plain": [
       "(Data(x=[233310, 10], edge_index=[2, 13380270], y=[233310], num_nodes=233310),\n",
       " Data(x=[58328, 10], edge_index=[2, 706918], y=[58328], num_nodes=58328))"
      ]
     },
     "execution_count": 87,
     "metadata": {},
     "output_type": "execute_result"
    }
   ],
   "source": [
    "train_data,test_data"
   ]
  },
  {
   "cell_type": "code",
   "execution_count": 9,
   "id": "9125ac11",
   "metadata": {},
   "outputs": [],
   "source": [
    "train_label = train_data.y.numpy()\n",
    "test_label = test_data.y.numpy()\n",
    "train_label[train_label != 0] = 1\n",
    "test_label[test_label != 0] = 1\n",
    "train_data.y = torch.LongTensor(train_label)\n",
    "test_data.y = torch.LongTensor(test_label)"
   ]
  },
  {
   "cell_type": "code",
   "execution_count": 88,
   "id": "1c0d36f9",
   "metadata": {},
   "outputs": [],
   "source": [
    "train_num_nodes = torch.arange(len(train_data.y))\n",
    "test_num_nodes = torch.arange(len(test_data.y))"
   ]
  },
  {
   "cell_type": "code",
   "execution_count": 89,
   "id": "ec2ccbc0",
   "metadata": {},
   "outputs": [],
   "source": [
    "train_data = train_data.to('cpu')\n",
    "test_data = test_data.to('cpu')"
   ]
  },
  {
   "cell_type": "code",
   "execution_count": 90,
   "id": "70006b9e",
   "metadata": {},
   "outputs": [],
   "source": [
    "node_num_per_k = 50\n",
    "depth = 10"
   ]
  },
  {
   "cell_type": "code",
   "execution_count": 91,
   "id": "ecb5e751",
   "metadata": {},
   "outputs": [],
   "source": [
    "hop = [node_num_per_k] * depth"
   ]
  },
  {
   "cell_type": "code",
   "execution_count": 92,
   "id": "ec0438e5",
   "metadata": {},
   "outputs": [],
   "source": [
    "train_loader = NeighborLoader(train_data, input_nodes = train_num_nodes, num_neighbors=hop, batch_size=1024, shuffle=True, directed=False)"
   ]
  },
  {
   "cell_type": "code",
   "execution_count": 107,
   "id": "f2c90c6b",
   "metadata": {},
   "outputs": [
    {
     "name": "stdout",
     "output_type": "stream",
     "text": [
      "10\n"
     ]
    }
   ],
   "source": [
    "in_channels = train_data.x.size(-1)\n",
    "num_class = 5\n",
    "model = DenseGAT(in_channels=in_channels, num_class=num_class, \n",
    "                 num_layers=50, num_blocks=1, growth_rate=10, theta=0.8)\n",
    "loss_all = []"
   ]
  },
  {
   "cell_type": "code",
   "execution_count": 149,
   "id": "e12a8055",
   "metadata": {},
   "outputs": [],
   "source": [
    "optimizer = torch.optim.Adam(model.parameters(), lr=0.000001)"
   ]
  },
  {
   "cell_type": "code",
   "execution_count": 161,
   "id": "22970c04",
   "metadata": {},
   "outputs": [],
   "source": [
    "device = 'cuda:1'\n",
    "model = model.to(device)"
   ]
  },
  {
   "cell_type": "code",
   "execution_count": 162,
   "id": "7714da7f",
   "metadata": {},
   "outputs": [
    {
     "name": "stdout",
     "output_type": "stream",
     "text": [
      "epoch: 0001 loss_train: 0.0288 acc_train: 0.9865 time: 27.0821s\n",
      "epoch: 0002 loss_train: 0.0289 acc_train: 0.9863 time: 27.2424s\n",
      "epoch: 0003 loss_train: 0.0287 acc_train: 0.9865 time: 27.8561s\n",
      "epoch: 0004 loss_train: 0.0288 acc_train: 0.9863 time: 27.0258s\n",
      "epoch: 0005 loss_train: 0.0288 acc_train: 0.9865 time: 26.7564s\n",
      "epoch: 0006 loss_train: 0.0287 acc_train: 0.9866 time: 27.6620s\n",
      "epoch: 0007 loss_train: 0.0287 acc_train: 0.9866 time: 27.4486s\n",
      "epoch: 0008 loss_train: 0.0287 acc_train: 0.9866 time: 28.4370s\n",
      "epoch: 0009 loss_train: 0.0287 acc_train: 0.9864 time: 28.4846s\n",
      "epoch: 0010 loss_train: 0.0287 acc_train: 0.9865 time: 27.5198s\n",
      "epoch: 0011 loss_train: 0.0287 acc_train: 0.9865 time: 27.6686s\n",
      "epoch: 0012 loss_train: 0.0287 acc_train: 0.9865 time: 27.2923s\n",
      "epoch: 0013 loss_train: 0.0287 acc_train: 0.9863 time: 28.2074s\n",
      "epoch: 0014 loss_train: 0.0287 acc_train: 0.9865 time: 27.4391s\n",
      "epoch: 0015 loss_train: 0.0286 acc_train: 0.9867 time: 28.3599s\n",
      "epoch: 0016 loss_train: 0.0287 acc_train: 0.9864 time: 27.3591s\n",
      "epoch: 0017 loss_train: 0.0286 acc_train: 0.9866 time: 26.5713s\n",
      "epoch: 0018 loss_train: 0.0286 acc_train: 0.9864 time: 27.1974s\n",
      "epoch: 0019 loss_train: 0.0287 acc_train: 0.9864 time: 26.0087s\n",
      "epoch: 0020 loss_train: 0.0286 acc_train: 0.9864 time: 27.9114s\n",
      "epoch: 0021 loss_train: 0.0285 acc_train: 0.9864 time: 26.7380s\n",
      "epoch: 0022 loss_train: 0.0286 acc_train: 0.9865 time: 28.3053s\n",
      "epoch: 0023 loss_train: 0.0285 acc_train: 0.9866 time: 28.4273s\n",
      "epoch: 0024 loss_train: 0.0286 acc_train: 0.9865 time: 26.8624s\n",
      "epoch: 0025 loss_train: 0.0285 acc_train: 0.9866 time: 27.8392s\n"
     ]
    },
    {
     "ename": "KeyboardInterrupt",
     "evalue": "",
     "output_type": "error",
     "traceback": [
      "\u001b[0;31m---------------------------------------------------------------------------\u001b[0m",
      "\u001b[0;31mKeyboardInterrupt\u001b[0m                         Traceback (most recent call last)",
      "\u001b[0;32m<ipython-input-162-fc86b1a65240>\u001b[0m in \u001b[0;36m<module>\u001b[0;34m\u001b[0m\n\u001b[1;32m      3\u001b[0m \u001b[0;32mfor\u001b[0m \u001b[0mi\u001b[0m \u001b[0;32min\u001b[0m \u001b[0mrange\u001b[0m\u001b[0;34m(\u001b[0m\u001b[0;36m1\u001b[0m\u001b[0;34m,\u001b[0m \u001b[0;36m1\u001b[0m \u001b[0;34m+\u001b[0m \u001b[0mepochs\u001b[0m\u001b[0;34m)\u001b[0m\u001b[0;34m:\u001b[0m\u001b[0;34m\u001b[0m\u001b[0;34m\u001b[0m\u001b[0m\n\u001b[1;32m      4\u001b[0m     \u001b[0mstart_time\u001b[0m \u001b[0;34m=\u001b[0m \u001b[0mtime\u001b[0m\u001b[0;34m.\u001b[0m\u001b[0mtime\u001b[0m\u001b[0;34m(\u001b[0m\u001b[0;34m)\u001b[0m\u001b[0;34m\u001b[0m\u001b[0;34m\u001b[0m\u001b[0m\n\u001b[0;32m----> 5\u001b[0;31m     \u001b[0mloss\u001b[0m\u001b[0;34m,\u001b[0m \u001b[0macc\u001b[0m \u001b[0;34m=\u001b[0m \u001b[0mtrain\u001b[0m\u001b[0;34m(\u001b[0m\u001b[0;34m)\u001b[0m\u001b[0;34m\u001b[0m\u001b[0;34m\u001b[0m\u001b[0m\n\u001b[0m\u001b[1;32m      6\u001b[0m     \u001b[0mend_time\u001b[0m \u001b[0;34m=\u001b[0m \u001b[0mtime\u001b[0m\u001b[0;34m.\u001b[0m\u001b[0mtime\u001b[0m\u001b[0;34m(\u001b[0m\u001b[0;34m)\u001b[0m\u001b[0;34m\u001b[0m\u001b[0;34m\u001b[0m\u001b[0m\n\u001b[1;32m      7\u001b[0m     print('epoch: {:04d}'.format(i),\n",
      "\u001b[0;32m<ipython-input-86-3cae100e39e2>\u001b[0m in \u001b[0;36mtrain\u001b[0;34m()\u001b[0m\n\u001b[1;32m      5\u001b[0m     \u001b[0mtotal_loss\u001b[0m \u001b[0;34m=\u001b[0m \u001b[0mtotal_correct\u001b[0m \u001b[0;34m=\u001b[0m \u001b[0mtotal_examples\u001b[0m \u001b[0;34m=\u001b[0m \u001b[0;36m0\u001b[0m\u001b[0;34m\u001b[0m\u001b[0;34m\u001b[0m\u001b[0m\n\u001b[1;32m      6\u001b[0m     \u001b[0mstart_time\u001b[0m \u001b[0;34m=\u001b[0m \u001b[0mtime\u001b[0m\u001b[0;34m.\u001b[0m\u001b[0mtime\u001b[0m\u001b[0;34m(\u001b[0m\u001b[0;34m)\u001b[0m\u001b[0;34m\u001b[0m\u001b[0;34m\u001b[0m\u001b[0m\n\u001b[0;32m----> 7\u001b[0;31m     \u001b[0;32mfor\u001b[0m \u001b[0mbatch\u001b[0m \u001b[0;32min\u001b[0m \u001b[0mtrain_loader\u001b[0m\u001b[0;34m:\u001b[0m\u001b[0;34m\u001b[0m\u001b[0;34m\u001b[0m\u001b[0m\n\u001b[0m\u001b[1;32m      8\u001b[0m         \u001b[0mbatch\u001b[0m \u001b[0;34m=\u001b[0m \u001b[0mbatch\u001b[0m\u001b[0;34m.\u001b[0m\u001b[0mto\u001b[0m\u001b[0;34m(\u001b[0m\u001b[0mdevice\u001b[0m\u001b[0;34m)\u001b[0m\u001b[0;34m\u001b[0m\u001b[0;34m\u001b[0m\u001b[0m\n\u001b[1;32m      9\u001b[0m         \u001b[0my\u001b[0m \u001b[0;34m=\u001b[0m \u001b[0mbatch\u001b[0m\u001b[0;34m.\u001b[0m\u001b[0my\u001b[0m\u001b[0;34m[\u001b[0m\u001b[0;34m:\u001b[0m\u001b[0mbatch\u001b[0m\u001b[0;34m.\u001b[0m\u001b[0mbatch_size\u001b[0m\u001b[0;34m]\u001b[0m\u001b[0;34m\u001b[0m\u001b[0;34m\u001b[0m\u001b[0m\n",
      "\u001b[0;32m~/anaconda3/envs/densegat2/lib/python3.6/site-packages/torch_geometric/loader/base.py\u001b[0m in \u001b[0;36m__next__\u001b[0;34m(self)\u001b[0m\n\u001b[1;32m     19\u001b[0m \u001b[0;34m\u001b[0m\u001b[0m\n\u001b[1;32m     20\u001b[0m     \u001b[0;32mdef\u001b[0m \u001b[0m__next__\u001b[0m\u001b[0;34m(\u001b[0m\u001b[0mself\u001b[0m\u001b[0;34m)\u001b[0m \u001b[0;34m->\u001b[0m \u001b[0mAny\u001b[0m\u001b[0;34m:\u001b[0m\u001b[0;34m\u001b[0m\u001b[0;34m\u001b[0m\u001b[0m\n\u001b[0;32m---> 21\u001b[0;31m         \u001b[0;32mreturn\u001b[0m \u001b[0mself\u001b[0m\u001b[0;34m.\u001b[0m\u001b[0mtransform_fn\u001b[0m\u001b[0;34m(\u001b[0m\u001b[0mnext\u001b[0m\u001b[0;34m(\u001b[0m\u001b[0mself\u001b[0m\u001b[0;34m.\u001b[0m\u001b[0miterator\u001b[0m\u001b[0;34m)\u001b[0m\u001b[0;34m)\u001b[0m\u001b[0;34m\u001b[0m\u001b[0;34m\u001b[0m\u001b[0m\n\u001b[0m\u001b[1;32m     22\u001b[0m \u001b[0;34m\u001b[0m\u001b[0m\n\u001b[1;32m     23\u001b[0m \u001b[0;34m\u001b[0m\u001b[0m\n",
      "\u001b[0;32m~/anaconda3/envs/densegat2/lib/python3.6/site-packages/torch/utils/data/dataloader.py\u001b[0m in \u001b[0;36m__next__\u001b[0;34m(self)\u001b[0m\n\u001b[1;32m    519\u001b[0m             \u001b[0;32mif\u001b[0m \u001b[0mself\u001b[0m\u001b[0;34m.\u001b[0m\u001b[0m_sampler_iter\u001b[0m \u001b[0;32mis\u001b[0m \u001b[0;32mNone\u001b[0m\u001b[0;34m:\u001b[0m\u001b[0;34m\u001b[0m\u001b[0;34m\u001b[0m\u001b[0m\n\u001b[1;32m    520\u001b[0m                 \u001b[0mself\u001b[0m\u001b[0;34m.\u001b[0m\u001b[0m_reset\u001b[0m\u001b[0;34m(\u001b[0m\u001b[0;34m)\u001b[0m\u001b[0;34m\u001b[0m\u001b[0;34m\u001b[0m\u001b[0m\n\u001b[0;32m--> 521\u001b[0;31m             \u001b[0mdata\u001b[0m \u001b[0;34m=\u001b[0m \u001b[0mself\u001b[0m\u001b[0;34m.\u001b[0m\u001b[0m_next_data\u001b[0m\u001b[0;34m(\u001b[0m\u001b[0;34m)\u001b[0m\u001b[0;34m\u001b[0m\u001b[0;34m\u001b[0m\u001b[0m\n\u001b[0m\u001b[1;32m    522\u001b[0m             \u001b[0mself\u001b[0m\u001b[0;34m.\u001b[0m\u001b[0m_num_yielded\u001b[0m \u001b[0;34m+=\u001b[0m \u001b[0;36m1\u001b[0m\u001b[0;34m\u001b[0m\u001b[0;34m\u001b[0m\u001b[0m\n\u001b[1;32m    523\u001b[0m             \u001b[0;32mif\u001b[0m \u001b[0mself\u001b[0m\u001b[0;34m.\u001b[0m\u001b[0m_dataset_kind\u001b[0m \u001b[0;34m==\u001b[0m \u001b[0m_DatasetKind\u001b[0m\u001b[0;34m.\u001b[0m\u001b[0mIterable\u001b[0m \u001b[0;32mand\u001b[0m\u001b[0;31m \u001b[0m\u001b[0;31m\\\u001b[0m\u001b[0;34m\u001b[0m\u001b[0;34m\u001b[0m\u001b[0m\n",
      "\u001b[0;32m~/anaconda3/envs/densegat2/lib/python3.6/site-packages/torch/utils/data/dataloader.py\u001b[0m in \u001b[0;36m_next_data\u001b[0;34m(self)\u001b[0m\n\u001b[1;32m    559\u001b[0m     \u001b[0;32mdef\u001b[0m \u001b[0m_next_data\u001b[0m\u001b[0;34m(\u001b[0m\u001b[0mself\u001b[0m\u001b[0;34m)\u001b[0m\u001b[0;34m:\u001b[0m\u001b[0;34m\u001b[0m\u001b[0;34m\u001b[0m\u001b[0m\n\u001b[1;32m    560\u001b[0m         \u001b[0mindex\u001b[0m \u001b[0;34m=\u001b[0m \u001b[0mself\u001b[0m\u001b[0;34m.\u001b[0m\u001b[0m_next_index\u001b[0m\u001b[0;34m(\u001b[0m\u001b[0;34m)\u001b[0m  \u001b[0;31m# may raise StopIteration\u001b[0m\u001b[0;34m\u001b[0m\u001b[0;34m\u001b[0m\u001b[0m\n\u001b[0;32m--> 561\u001b[0;31m         \u001b[0mdata\u001b[0m \u001b[0;34m=\u001b[0m \u001b[0mself\u001b[0m\u001b[0;34m.\u001b[0m\u001b[0m_dataset_fetcher\u001b[0m\u001b[0;34m.\u001b[0m\u001b[0mfetch\u001b[0m\u001b[0;34m(\u001b[0m\u001b[0mindex\u001b[0m\u001b[0;34m)\u001b[0m  \u001b[0;31m# may raise StopIteration\u001b[0m\u001b[0;34m\u001b[0m\u001b[0;34m\u001b[0m\u001b[0m\n\u001b[0m\u001b[1;32m    562\u001b[0m         \u001b[0;32mif\u001b[0m \u001b[0mself\u001b[0m\u001b[0;34m.\u001b[0m\u001b[0m_pin_memory\u001b[0m\u001b[0;34m:\u001b[0m\u001b[0;34m\u001b[0m\u001b[0;34m\u001b[0m\u001b[0m\n\u001b[1;32m    563\u001b[0m             \u001b[0mdata\u001b[0m \u001b[0;34m=\u001b[0m \u001b[0m_utils\u001b[0m\u001b[0;34m.\u001b[0m\u001b[0mpin_memory\u001b[0m\u001b[0;34m.\u001b[0m\u001b[0mpin_memory\u001b[0m\u001b[0;34m(\u001b[0m\u001b[0mdata\u001b[0m\u001b[0;34m)\u001b[0m\u001b[0;34m\u001b[0m\u001b[0;34m\u001b[0m\u001b[0m\n",
      "\u001b[0;32m~/anaconda3/envs/densegat2/lib/python3.6/site-packages/torch/utils/data/_utils/fetch.py\u001b[0m in \u001b[0;36mfetch\u001b[0;34m(self, possibly_batched_index)\u001b[0m\n\u001b[1;32m     50\u001b[0m         \u001b[0;32melse\u001b[0m\u001b[0;34m:\u001b[0m\u001b[0;34m\u001b[0m\u001b[0;34m\u001b[0m\u001b[0m\n\u001b[1;32m     51\u001b[0m             \u001b[0mdata\u001b[0m \u001b[0;34m=\u001b[0m \u001b[0mself\u001b[0m\u001b[0;34m.\u001b[0m\u001b[0mdataset\u001b[0m\u001b[0;34m[\u001b[0m\u001b[0mpossibly_batched_index\u001b[0m\u001b[0;34m]\u001b[0m\u001b[0;34m\u001b[0m\u001b[0;34m\u001b[0m\u001b[0m\n\u001b[0;32m---> 52\u001b[0;31m         \u001b[0;32mreturn\u001b[0m \u001b[0mself\u001b[0m\u001b[0;34m.\u001b[0m\u001b[0mcollate_fn\u001b[0m\u001b[0;34m(\u001b[0m\u001b[0mdata\u001b[0m\u001b[0;34m)\u001b[0m\u001b[0;34m\u001b[0m\u001b[0;34m\u001b[0m\u001b[0m\n\u001b[0m",
      "\u001b[0;32m~/anaconda3/envs/densegat2/lib/python3.6/site-packages/torch_geometric/loader/neighbor_loader.py\u001b[0m in \u001b[0;36m__call__\u001b[0;34m(self, indices)\u001b[0m\n\u001b[1;32m     72\u001b[0m                 \u001b[0mself\u001b[0m\u001b[0;34m.\u001b[0m\u001b[0mnum_neighbors\u001b[0m\u001b[0;34m,\u001b[0m\u001b[0;34m\u001b[0m\u001b[0;34m\u001b[0m\u001b[0m\n\u001b[1;32m     73\u001b[0m                 \u001b[0mself\u001b[0m\u001b[0;34m.\u001b[0m\u001b[0mreplace\u001b[0m\u001b[0;34m,\u001b[0m\u001b[0;34m\u001b[0m\u001b[0;34m\u001b[0m\u001b[0m\n\u001b[0;32m---> 74\u001b[0;31m                 \u001b[0mself\u001b[0m\u001b[0;34m.\u001b[0m\u001b[0mdirected\u001b[0m\u001b[0;34m,\u001b[0m\u001b[0;34m\u001b[0m\u001b[0;34m\u001b[0m\u001b[0m\n\u001b[0m\u001b[1;32m     75\u001b[0m             )\n\u001b[1;32m     76\u001b[0m             \u001b[0;32mreturn\u001b[0m \u001b[0mnode\u001b[0m\u001b[0;34m,\u001b[0m \u001b[0mrow\u001b[0m\u001b[0;34m,\u001b[0m \u001b[0mcol\u001b[0m\u001b[0;34m,\u001b[0m \u001b[0medge\u001b[0m\u001b[0;34m,\u001b[0m \u001b[0mindex\u001b[0m\u001b[0;34m.\u001b[0m\u001b[0mnumel\u001b[0m\u001b[0;34m(\u001b[0m\u001b[0;34m)\u001b[0m\u001b[0;34m\u001b[0m\u001b[0;34m\u001b[0m\u001b[0m\n",
      "\u001b[0;31mKeyboardInterrupt\u001b[0m: "
     ]
    }
   ],
   "source": [
    "model.train()\n",
    "epochs = 500\n",
    "for i in range(1, 1 + epochs):\n",
    "    start_time = time.time()\n",
    "    loss, acc = train()\n",
    "    end_time = time.time()\n",
    "    print('epoch: {:04d}'.format(i),\n",
    "          'loss_train: {:.4f}'.format(loss),\n",
    "          'acc_train: {:.4f}'.format(acc),\n",
    "          'time: {:.4f}s'.format(end_time - start_time))\n",
    "    loss_all.append(loss)"
   ]
  },
  {
   "cell_type": "code",
   "execution_count": 164,
   "id": "006601bd",
   "metadata": {},
   "outputs": [],
   "source": [
    "device = 'cpu'\n",
    "model = model.to(device)"
   ]
  },
  {
   "cell_type": "code",
   "execution_count": 163,
   "id": "b59b170c",
   "metadata": {},
   "outputs": [],
   "source": [
    "torch.save(model.state_dict(), 'bot-lot-dgl')"
   ]
  },
  {
   "cell_type": "code",
   "execution_count": 165,
   "id": "472b0854",
   "metadata": {},
   "outputs": [],
   "source": [
    "y_hat = model(test_data.x.to(device), test_data.edge_index.to(device))\n",
    "y_hat = y_hat.detach().numpy()\n",
    "y_hat = np.argmax(y_hat, -1)\n",
    "test_y = test_data.y.numpy()"
   ]
  },
  {
   "cell_type": "code",
   "execution_count": 155,
   "id": "be9deb75",
   "metadata": {},
   "outputs": [
    {
     "name": "stdout",
     "output_type": "stream",
     "text": [
      "              precision    recall  f1-score       support\n",
      "0              0.894737  0.894737  0.894737     95.000000\n",
      "1              0.983730  0.970450  0.977045  20000.000000\n",
      "2              0.967128  0.985600  0.976277  20000.000000\n",
      "3              0.998509  0.992480  0.995485  18217.000000\n",
      "4              1.000000  0.875000  0.933333     16.000000\n",
      "accuracy       0.982376  0.982376  0.982376      0.982376\n",
      "macro avg      0.968821  0.943653  0.955375  58328.000000\n",
      "weighted avg   0.982513  0.982376  0.982395  58328.000000\n",
      "[[   85     0     3     7     0]\n",
      " [    0 19409   576    15     0]\n",
      " [    0   285 19712     3     0]\n",
      " [   10    36    91 18080     0]\n",
      " [    0     0     0     2    14]]\n"
     ]
    }
   ],
   "source": [
    "get_metrics(test_y, y_hat)"
   ]
  },
  {
   "cell_type": "code",
   "execution_count": 160,
   "id": "6dc3397a",
   "metadata": {},
   "outputs": [
    {
     "name": "stdout",
     "output_type": "stream",
     "text": [
      "              precision    recall  f1-score       support\n",
      "0              0.894737  0.894737  0.894737     95.000000\n",
      "1              0.984521  0.969950  0.977181  20000.000000\n",
      "2              0.966642  0.986700  0.976568  20000.000000\n",
      "3              0.998564  0.992150  0.995347  18217.000000\n",
      "4              1.000000  0.875000  0.933333     16.000000\n",
      "accuracy       0.982478  0.982478  0.982478      0.982478\n",
      "macro avg      0.968893  0.943707  0.955433  58328.000000\n",
      "weighted avg   0.982634  0.982478  0.982498  58328.000000\n",
      "[[   85     0     3     7     0]\n",
      " [    0 19399   587    14     0]\n",
      " [    0   263 19734     3     0]\n",
      " [   10    42    91 18074     0]\n",
      " [    0     0     0     2    14]]\n"
     ]
    }
   ],
   "source": [
    "get_metrics(test_y, y_hat)"
   ]
  },
  {
   "cell_type": "code",
   "execution_count": 141,
   "id": "ca8f76e5",
   "metadata": {},
   "outputs": [
    {
     "name": "stdout",
     "output_type": "stream",
     "text": [
      "              precision    recall  f1-score       support\n",
      "0              0.867347  0.894737  0.880829     95.000000\n",
      "1              0.980753  0.973250  0.976987  20000.000000\n",
      "2              0.970321  0.982450  0.976348  20000.000000\n",
      "3              0.997792  0.992425  0.995101  18217.000000\n",
      "4              1.000000  0.875000  0.933333     16.000000\n",
      "accuracy       0.982238  0.982238  0.982238      0.982238\n",
      "macro avg      0.963243  0.943572  0.952520  58328.000000\n",
      "weighted avg   0.982318  0.982238  0.982257  58328.000000\n",
      "[[   85     0     3     7     0]\n",
      " [    0 19465   507    28     0]\n",
      " [    0   348 19649     3     0]\n",
      " [   13    34    91 18079     0]\n",
      " [    0     0     0     2    14]]\n"
     ]
    }
   ],
   "source": [
    "get_metrics(test_y, y_hat)"
   ]
  },
  {
   "cell_type": "code",
   "execution_count": 126,
   "id": "0f384fde",
   "metadata": {},
   "outputs": [
    {
     "name": "stdout",
     "output_type": "stream",
     "text": [
      "              precision    recall  f1-score       support\n",
      "0              0.865979  0.884211  0.875000     95.000000\n",
      "1              0.983824  0.957900  0.970689  20000.000000\n",
      "2              0.957373  0.988200  0.972542  20000.000000\n",
      "3              0.994309  0.987923  0.991106  18217.000000\n",
      "4              1.000000  0.875000  0.933333     16.000000\n",
      "accuracy       0.977524  0.977524  0.977524      0.977524\n",
      "macro avg      0.960297  0.938647  0.948534  58328.000000\n",
      "weighted avg   0.977841  0.977524  0.977535  58328.000000\n",
      "[[   84     0     3     8     0]\n",
      " [    0 19158   770    72     0]\n",
      " [    0   215 19764    21     0]\n",
      " [   13   100   107 17997     0]\n",
      " [    0     0     0     2    14]]\n"
     ]
    }
   ],
   "source": [
    "get_metrics(test_y, y_hat)"
   ]
  },
  {
   "cell_type": "code",
   "execution_count": 113,
   "id": "78a0bf1e",
   "metadata": {},
   "outputs": [
    {
     "name": "stdout",
     "output_type": "stream",
     "text": [
      "              precision    recall  f1-score       support\n",
      "0              0.876289  0.894737  0.885417     95.000000\n",
      "1              0.982945  0.950950  0.966683  20000.000000\n",
      "2              0.953314  0.990350  0.971479  20000.000000\n",
      "3              0.991266  0.984410  0.987826  18217.000000\n",
      "4              1.000000  0.875000  0.933333     16.000000\n",
      "accuracy       0.974798  0.974798  0.974798      0.974798\n",
      "macro avg      0.960763  0.939089  0.948948  58328.000000\n",
      "weighted avg   0.975215  0.974798  0.974789  58328.000000\n",
      "[[   85     0     3     7     0]\n",
      " [    0 19019   874   107     0]\n",
      " [    0   151 19807    42     0]\n",
      " [   12   179    93 17933     0]\n",
      " [    0     0     0     2    14]]\n"
     ]
    }
   ],
   "source": [
    "get_metrics(test_y, y_hat)"
   ]
  },
  {
   "cell_type": "code",
   "execution_count": 100,
   "id": "95c26566",
   "metadata": {},
   "outputs": [
    {
     "name": "stdout",
     "output_type": "stream",
     "text": [
      "              precision    recall  f1-score       support\n",
      "0              0.906250  0.915789  0.910995     95.000000\n",
      "1              0.987116  0.953850  0.970198  20000.000000\n",
      "2              0.955473  0.990300  0.972575  20000.000000\n",
      "3              0.992787  0.989790  0.991286  18217.000000\n",
      "4              0.933333  0.875000  0.903226     16.000000\n",
      "accuracy       0.977489  0.977489  0.977489      0.977489\n",
      "macro avg      0.954992  0.944946  0.949656  58328.000000\n",
      "weighted avg   0.977891  0.977489  0.977484  58328.000000\n",
      "[[   87     0     0     8     0]\n",
      " [    0 19077   828    95     0]\n",
      " [    0   168 19806    26     0]\n",
      " [    9    81    95 18031     1]\n",
      " [    0     0     0     2    14]]\n"
     ]
    }
   ],
   "source": [
    "get_metrics(test_y, y_hat)"
   ]
  },
  {
   "cell_type": "code",
   "execution_count": 69,
   "id": "371b2f6d",
   "metadata": {},
   "outputs": [
    {
     "name": "stdout",
     "output_type": "stream",
     "text": [
      "              precision    recall  f1-score       support\n",
      "0              0.864865  0.895105  0.879725    143.000000\n",
      "1              0.887375  0.963867  0.924041  30000.000000\n",
      "2              0.957683  0.992000  0.974540  30000.000000\n",
      "3              0.995858  0.862324  0.924293  27325.000000\n",
      "4              0.954545  0.875000  0.913043     24.000000\n",
      "accuracy       0.941663  0.941663  0.941663      0.941663\n",
      "macro avg      0.932065  0.917659  0.923128  87492.000000\n",
      "weighted avg   0.945345  0.941663  0.941359  87492.000000\n",
      "[[  128     0     1    13     1]\n",
      " [    0 28916  1004    80     0]\n",
      " [    0   237 29760     3     0]\n",
      " [   20  3433   309 23563     0]\n",
      " [    0     0     1     2    21]]\n"
     ]
    }
   ],
   "source": [
    "get_metrics(test_y, y_hat)"
   ]
  },
  {
   "cell_type": "code",
   "execution_count": 39,
   "id": "97eaf603",
   "metadata": {},
   "outputs": [
    {
     "name": "stdout",
     "output_type": "stream",
     "text": [
      "              precision    recall  f1-score       support\n",
      "0              0.766667  0.965035  0.854489    143.000000\n",
      "1              0.884249  0.961267  0.921151  30000.000000\n",
      "2              0.958572  0.988767  0.973435  30000.000000\n",
      "3              0.997175  0.865361  0.926604  27325.000000\n",
      "4              0.536585  0.916667  0.676923     24.000000\n",
      "accuracy       0.940737  0.940737  0.940737      0.940737\n",
      "macro avg      0.828649  0.939419  0.870520  87492.000000\n",
      "weighted avg   0.944714  0.940737  0.940605  87492.000000\n",
      "[[  138     0     1     4     0]\n",
      " [    1 28838  1102    59     0]\n",
      " [    2   329 29663     3     3]\n",
      " [   38  3446   179 23646    16]\n",
      " [    1     0     0     1    22]]\n"
     ]
    }
   ],
   "source": [
    "get_metrics(test_y, y_hat)"
   ]
  },
  {
   "cell_type": "code",
   "execution_count": 24,
   "id": "9b872fde",
   "metadata": {},
   "outputs": [
    {
     "name": "stdout",
     "output_type": "stream",
     "text": [
      "              precision    recall  f1-score       support\n",
      "0              0.859873  0.944056  0.900000    143.000000\n",
      "1              0.893402  0.968567  0.929467  30000.000000\n",
      "2              0.925063  0.980567  0.952006  30000.000000\n",
      "3              0.997912  0.839488  0.911870  27325.000000\n",
      "4              0.875000  0.875000  0.875000     24.000000\n",
      "accuracy       0.932302  0.932302  0.932302      0.932302\n",
      "macro avg      0.910250  0.921535  0.913669  87492.000000\n",
      "weighted avg   0.936838  0.932302  0.931637  87492.000000\n",
      "[[  135     1     1     6     0]\n",
      " [    0 29057   908    35     0]\n",
      " [    0   578 29417     5     0]\n",
      " [   22  2888  1473 22939     3]\n",
      " [    0     0     1     2    21]]\n"
     ]
    }
   ],
   "source": [
    "get_metrics(test_y, y_hat)"
   ]
  },
  {
   "cell_type": "code",
   "execution_count": 95,
   "id": "c074aa29",
   "metadata": {},
   "outputs": [
    {
     "name": "stdout",
     "output_type": "stream",
     "text": [
      "              precision    recall  f1-score       support\n",
      "0              0.907216  0.926316  0.916667     95.000000\n",
      "1              0.999880  0.999845  0.999863  58233.000000\n",
      "accuracy       0.999726  0.999726  0.999726      0.999726\n",
      "macro avg      0.953548  0.963081  0.958265  58328.000000\n",
      "weighted avg   0.999729  0.999726  0.999727  58328.000000\n",
      "[[   88     7]\n",
      " [    9 58224]]\n"
     ]
    }
   ],
   "source": [
    "get_metrics(test_y, y_hat)"
   ]
  },
  {
   "cell_type": "code",
   "execution_count": 85,
   "id": "8da7ad8d",
   "metadata": {},
   "outputs": [
    {
     "name": "stdout",
     "output_type": "stream",
     "text": [
      "              precision    recall  f1-score       support\n",
      "0              0.805556  0.915789  0.857143     95.000000\n",
      "1              0.999863  0.999639  0.999751  58233.000000\n",
      "accuracy       0.999503  0.999503  0.999503      0.999503\n",
      "macro avg      0.902709  0.957714  0.928447  58328.000000\n",
      "weighted avg   0.999546  0.999503  0.999519  58328.000000\n",
      "[[   87     8]\n",
      " [   21 58212]]\n"
     ]
    }
   ],
   "source": [
    "get_metrics(test_y, y_hat)"
   ]
  },
  {
   "cell_type": "code",
   "execution_count": 80,
   "id": "e4a66d6d",
   "metadata": {},
   "outputs": [
    {
     "name": "stdout",
     "output_type": "stream",
     "text": [
      "              precision    recall  f1-score       support\n",
      "0              0.798165  0.915789  0.852941     95.000000\n",
      "1              0.999863  0.999622  0.999742  58233.000000\n",
      "accuracy       0.999486  0.999486  0.999486      0.999486\n",
      "macro avg      0.899014  0.957706  0.926342  58328.000000\n",
      "weighted avg   0.999534  0.999486  0.999503  58328.000000\n",
      "[[   87     8]\n",
      " [   22 58211]]\n"
     ]
    }
   ],
   "source": [
    "get_metrics(test_y, y_hat)"
   ]
  },
  {
   "cell_type": "code",
   "execution_count": 56,
   "id": "98a21ae4",
   "metadata": {},
   "outputs": [
    {
     "name": "stdout",
     "output_type": "stream",
     "text": [
      "              precision    recall  f1-score       support\n",
      "0              0.682171  0.926316  0.785714     95.000000\n",
      "1              0.972191  0.957900  0.964993  20000.000000\n",
      "2              0.956580  0.991400  0.973679  20000.000000\n",
      "3              0.998197  0.972279  0.985067  18217.000000\n",
      "4              0.666667  0.875000  0.756757     16.000000\n",
      "accuracy       0.973803  0.973803  0.973803      0.973803\n",
      "macro avg      0.855161  0.944579  0.893242  58328.000000\n",
      "weighted avg   0.974404  0.973803  0.973892  58328.000000\n",
      "[[   88     0     1     5     1]\n",
      " [    7 19158   815    20     0]\n",
      " [    1   166 19828     5     0]\n",
      " [   33   382    84 17712     6]\n",
      " [    0     0     0     2    14]]\n"
     ]
    }
   ],
   "source": [
    "get_metrics(test_y, y_hat)"
   ]
  },
  {
   "cell_type": "code",
   "execution_count": 35,
   "id": "96142c67",
   "metadata": {},
   "outputs": [
    {
     "name": "stdout",
     "output_type": "stream",
     "text": [
      "              precision    recall  f1-score       support\n",
      "0              0.769912  0.915789  0.836538     95.000000\n",
      "1              0.985939  0.960650  0.973130  20000.000000\n",
      "2              0.957549  0.991350  0.974156  20000.000000\n",
      "3              0.998388  0.986222  0.992268  18217.000000\n",
      "4              0.518519  0.875000  0.651163     16.000000\n",
      "accuracy       0.979067  0.979067  0.979067      0.979067\n",
      "macro avg      0.846061  0.945802  0.885451  58328.000000\n",
      "weighted avg   0.979612  0.979067  0.979148  58328.000000\n",
      "[[   87     0     2     6     0]\n",
      " [    1 19213   768    18     0]\n",
      " [    0   169 19827     4     0]\n",
      " [   24   105   109 17966    13]\n",
      " [    1     0     0     1    14]]\n"
     ]
    }
   ],
   "source": [
    "get_metrics(test_y, y_hat)"
   ]
  },
  {
   "cell_type": "code",
   "execution_count": 30,
   "id": "c583fb7a",
   "metadata": {},
   "outputs": [
    {
     "name": "stdout",
     "output_type": "stream",
     "text": [
      "              precision    recall  f1-score       support\n",
      "0              0.774775  0.905263  0.834951     95.000000\n",
      "1              0.979166  0.961100  0.970049  20000.000000\n",
      "2              0.957923  0.988050  0.972753  20000.000000\n",
      "3              0.998272  0.983148  0.990652  18217.000000\n",
      "4              0.875000  0.875000  0.875000     16.000000\n",
      "accuracy       0.977112  0.977112  0.977112      0.977112\n",
      "macro avg      0.917027  0.942512  0.928681  58328.000000\n",
      "weighted avg   0.977488  0.977112  0.977165  58328.000000\n",
      "[[   86     0     2     7     0]\n",
      " [    1 19222   758    19     0]\n",
      " [    0   235 19761     4     0]\n",
      " [   23   174   108 17910     2]\n",
      " [    1     0     0     1    14]]\n"
     ]
    }
   ],
   "source": [
    "get_metrics(test_y, y_hat)"
   ]
  },
  {
   "cell_type": "code",
   "execution_count": 24,
   "id": "633b33f2",
   "metadata": {},
   "outputs": [
    {
     "name": "stdout",
     "output_type": "stream",
     "text": [
      "              precision    recall  f1-score       support\n",
      "0              0.765217  0.926316  0.838095     95.000000\n",
      "1              0.969307  0.964800  0.967048  20000.000000\n",
      "2              0.965089  0.971700  0.968383  20000.000000\n",
      "3              0.994321  0.989954  0.992133  18217.000000\n",
      "4              0.437500  0.875000  0.583333     16.000000\n",
      "accuracy       0.974935  0.974935  0.974935      0.974935\n",
      "macro avg      0.826287  0.945554  0.869799  58328.000000\n",
      "weighted avg   0.975195  0.974935  0.975025  58328.000000\n",
      "[[   88     0     1     5     1]\n",
      " [    1 19296   613    90     0]\n",
      " [    0   559 19434     7     0]\n",
      " [   25    52    89 18034    17]\n",
      " [    1     0     0     1    14]]\n"
     ]
    }
   ],
   "source": [
    "get_metrics(test_y, y_hat)"
   ]
  },
  {
   "cell_type": "code",
   "execution_count": 62,
   "id": "b53503c9",
   "metadata": {},
   "outputs": [
    {
     "name": "stdout",
     "output_type": "stream",
     "text": [
      "              precision    recall  f1-score       support\n",
      "0              0.826923  0.905263  0.864322     95.000000\n",
      "1              0.793031  0.984350  0.878394  20000.000000\n",
      "2              0.973565  0.931750  0.952198  20000.000000\n",
      "3              0.998385  0.780644  0.876190  18217.000000\n",
      "4              1.000000  0.875000  0.933333     16.000000\n",
      "accuracy       0.902534  0.902534  0.902534      0.902534\n",
      "macro avg      0.918381  0.895402  0.900887  58328.000000\n",
      "weighted avg   0.919182  0.902534  0.903004  58328.000000\n",
      "[[   86     0     2     7     0]\n",
      " [    0 19687   306     7     0]\n",
      " [    0  1358 18635     7     0]\n",
      " [   18  3780   198 14221     0]\n",
      " [    0     0     0     2    14]]\n"
     ]
    }
   ],
   "source": [
    "get_metrics(test_y, y_hat)"
   ]
  },
  {
   "cell_type": "code",
   "execution_count": 54,
   "id": "d272f4df",
   "metadata": {},
   "outputs": [
    {
     "name": "stdout",
     "output_type": "stream",
     "text": [
      "              precision    recall  f1-score       support\n",
      "0              0.860000  0.905263  0.882051     95.000000\n",
      "1              0.932349  0.978500  0.954867  20000.000000\n",
      "2              0.974677  0.943000  0.958577  20000.000000\n",
      "3              0.994461  0.975737  0.985010  18217.000000\n",
      "4              1.000000  0.875000  0.933333     16.000000\n",
      "accuracy       0.965317  0.965317  0.965317      0.965317\n",
      "macro avg      0.952297  0.935500  0.942768  58328.000000\n",
      "weighted avg   0.966162  0.965317  0.965429  58328.000000\n",
      "[[   86     0     2     7     0]\n",
      " [    0 19570   358    72     0]\n",
      " [    0  1122 18860    18     0]\n",
      " [   14   298   130 17775     0]\n",
      " [    0     0     0     2    14]]\n"
     ]
    }
   ],
   "source": [
    "get_metrics(test_y, y_hat)"
   ]
  },
  {
   "cell_type": "code",
   "execution_count": 46,
   "id": "7feb7457",
   "metadata": {},
   "outputs": [
    {
     "name": "stdout",
     "output_type": "stream",
     "text": [
      "              precision    recall  f1-score       support\n",
      "0              0.775701  0.873684  0.821782     95.000000\n",
      "1              0.951279  0.961600  0.956411  20000.000000\n",
      "2              0.946963  0.951650  0.949300  20000.000000\n",
      "3              0.987590  0.969808  0.978619  18217.000000\n",
      "4              0.875000  0.875000  0.875000     16.000000\n",
      "accuracy       0.960585  0.960585  0.960585      0.960585\n",
      "macro avg      0.907306  0.926349  0.916223  58328.000000\n",
      "weighted avg   0.960833  0.960585  0.960667  58328.000000\n",
      "[[   83     0     4     8     0]\n",
      " [    0 19232   625   143     0]\n",
      " [    0   897 19033    70     0]\n",
      " [   23    88   437 17667     2]\n",
      " [    1     0     0     1    14]]\n"
     ]
    }
   ],
   "source": [
    "get_metrics(test_y, y_hat)"
   ]
  },
  {
   "cell_type": "code",
   "execution_count": 29,
   "id": "408cf12b",
   "metadata": {},
   "outputs": [
    {
     "name": "stdout",
     "output_type": "stream",
     "text": [
      "              precision    recall  f1-score       support\n",
      "0              0.696000  0.915789  0.790909     95.000000\n",
      "1              0.999863  0.999347  0.999605  58233.000000\n",
      "accuracy       0.999211  0.999211  0.999211      0.999211\n",
      "macro avg      0.847931  0.957568  0.895257  58328.000000\n",
      "weighted avg   0.999368  0.999211  0.999265  58328.000000\n",
      "[[   87     8]\n",
      " [   38 58195]]\n"
     ]
    }
   ],
   "source": [
    "get_metrics(test_y, y_hat)"
   ]
  },
  {
   "cell_type": "code",
   "execution_count": 21,
   "id": "d5910541",
   "metadata": {},
   "outputs": [
    {
     "name": "stdout",
     "output_type": "stream",
     "text": [
      "              precision    recall  f1-score       support\n",
      "0              0.724638  0.526316  0.609756     95.000000\n",
      "1              0.999228  0.999674  0.999451  58233.000000\n",
      "accuracy       0.998903  0.998903  0.998903      0.998903\n",
      "macro avg      0.861933  0.762995  0.804603  58328.000000\n",
      "weighted avg   0.998780  0.998903  0.998816  58328.000000\n",
      "[[   50    45]\n",
      " [   19 58214]]\n"
     ]
    }
   ],
   "source": [
    "get_metrics(test_y, y_hat)"
   ]
  },
  {
   "cell_type": "code",
   "execution_count": null,
   "id": "e9f0ca1e",
   "metadata": {},
   "outputs": [],
   "source": []
  }
 ],
 "metadata": {
  "kernelspec": {
   "display_name": "Python 3",
   "language": "python",
   "name": "python3"
  },
  "language_info": {
   "codemirror_mode": {
    "name": "ipython",
    "version": 3
   },
   "file_extension": ".py",
   "mimetype": "text/x-python",
   "name": "python",
   "nbconvert_exporter": "python",
   "pygments_lexer": "ipython3",
   "version": "3.6.13"
  }
 },
 "nbformat": 4,
 "nbformat_minor": 5
}
