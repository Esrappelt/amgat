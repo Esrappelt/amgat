{
 "cells": [
  {
   "cell_type": "code",
   "execution_count": 1,
   "id": "f3fb8552",
   "metadata": {},
   "outputs": [],
   "source": [
    "import pandas as pd\n",
    "from collections import Counter\n",
    "import numpy as np\n",
    "from sklearn import preprocessing\n",
    "from imblearn.under_sampling import RandomUnderSampler\n",
    "\n",
    "from sklearn.preprocessing import MinMaxScaler\n",
    "\n",
    "import torch\n",
    "from torch_geometric.data import Data, DataLoader\n",
    "from torch_geometric.nn import GATConv,ResGatedGraphConv,GATv2Conv,SAGEConv,GCNConv\n",
    "import torch.nn.functional as F\n",
    "import torch.nn as nn\n",
    "from torch_geometric.loader import NeighborSampler, NeighborLoader\n",
    "import copy\n",
    "import tqdm\n",
    "\n",
    "import torch\n",
    "import networkx as nx\n",
    "import matplotlib.pyplot as plt\n",
    "from torch_geometric.data import Data\n",
    "from torch_geometric.utils.convert import to_networkx, from_networkx\n",
    "from sklearn.model_selection import train_test_split\n",
    "from sklearn.metrics import *"
   ]
  },
  {
   "cell_type": "code",
   "execution_count": 2,
   "id": "61bebd4b",
   "metadata": {},
   "outputs": [],
   "source": [
    "df = pd.read_pickle('cicids2017_not_contain_monday_max.pkl')"
   ]
  },
  {
   "cell_type": "code",
   "execution_count": 3,
   "id": "529aab0c",
   "metadata": {},
   "outputs": [],
   "source": [
    "x = df.drop(columns=[' Label'])\n",
    "y = df[' Label']"
   ]
  },
  {
   "cell_type": "code",
   "execution_count": 4,
   "id": "419536be",
   "metadata": {},
   "outputs": [],
   "source": [
    "rus = RandomUnderSampler(random_state=0, sampling_strategy={\n",
    "    'BENIGN': 20000,\n",
    "     'DDoS': 10000,\n",
    "     'PortScan': 10000,\n",
    "     'Bot': 1966,\n",
    "     'Infiltration': 36,\n",
    "     'FTP-Patator': 7938,\n",
    "     'SSH-Patator': 5897,\n",
    "     'DoS slowloris': 5796,\n",
    "     'DoS Slowhttptest': 5499,\n",
    "     'DoS Hulk': 10000,\n",
    "     'DoS GoldenEye': 10293,\n",
    "     'Heartbleed': 11\n",
    "})\n",
    "LABELS_12 = {\n",
    "    'BENIGN': 0,\n",
    "     'DDoS': 1,\n",
    "     'PortScan': 2,\n",
    "     'Bot': 3,\n",
    "     'Infiltration': 4,\n",
    "     'FTP-Patator': 5,\n",
    "     'SSH-Patator': 6,\n",
    "     'DoS slowloris': 7,\n",
    "     'DoS Slowhttptest': 8,\n",
    "     'DoS Hulk': 9,\n",
    "     'DoS GoldenEye': 10,\n",
    "     'Heartbleed': 11\n",
    "}"
   ]
  },
  {
   "cell_type": "code",
   "execution_count": 5,
   "id": "02aa1502",
   "metadata": {},
   "outputs": [],
   "source": [
    "x, y = rus.fit_resample(x, y)"
   ]
  },
  {
   "cell_type": "code",
   "execution_count": 6,
   "id": "55feaed0",
   "metadata": {},
   "outputs": [],
   "source": [
    "label = [LABELS_12[v] for v in y]"
   ]
  },
  {
   "cell_type": "code",
   "execution_count": 7,
   "id": "1a2bb634",
   "metadata": {},
   "outputs": [],
   "source": [
    "df = x\n",
    "df[' Label'] = label"
   ]
  },
  {
   "cell_type": "code",
   "execution_count": 8,
   "id": "f06b3600",
   "metadata": {},
   "outputs": [],
   "source": [
    "df = df.dropna()"
   ]
  },
  {
   "cell_type": "code",
   "execution_count": 10,
   "id": "d6d16136",
   "metadata": {},
   "outputs": [],
   "source": [
    "label = df[' Label']"
   ]
  },
  {
   "cell_type": "code",
   "execution_count": 11,
   "id": "278e2ad7",
   "metadata": {},
   "outputs": [],
   "source": [
    "x = df.drop(columns=[' Label', 'Flow ID',' Source IP',' Source Port', ' Destination IP', ' Destination Port',' Timestamp'])"
   ]
  },
  {
   "cell_type": "code",
   "execution_count": 12,
   "id": "8b1e97f8",
   "metadata": {},
   "outputs": [],
   "source": [
    "x = x.replace(['Infinity','infinity ','inf', '-inf','INF','NaN','nan'], 0)"
   ]
  },
  {
   "cell_type": "code",
   "execution_count": 13,
   "id": "eea7f36e",
   "metadata": {},
   "outputs": [],
   "source": [
    "x = (x - x.min())/(x.max()-x.min())"
   ]
  },
  {
   "cell_type": "code",
   "execution_count": 15,
   "id": "a0952dbd",
   "metadata": {},
   "outputs": [],
   "source": [
    "from sklearn.preprocessing import MinMaxScaler"
   ]
  },
  {
   "cell_type": "code",
   "execution_count": 18,
   "id": "14438ae6",
   "metadata": {},
   "outputs": [
    {
     "name": "stderr",
     "output_type": "stream",
     "text": [
      "D:\\anaconda\\envs\\lightgbm_catboost\\lib\\site-packages\\sklearn\\preprocessing\\_data.py:400: RuntimeWarning: All-NaN slice encountered\n",
      "  data_min = np.nanmin(X, axis=0)\n",
      "D:\\anaconda\\envs\\lightgbm_catboost\\lib\\site-packages\\sklearn\\preprocessing\\_data.py:401: RuntimeWarning: All-NaN slice encountered\n",
      "  data_max = np.nanmax(X, axis=0)\n"
     ]
    }
   ],
   "source": [
    "mms = MinMaxScaler()\n",
    "x_new = mms.fit_transform(x)"
   ]
  },
  {
   "cell_type": "code",
   "execution_count": 19,
   "id": "14f46597",
   "metadata": {},
   "outputs": [],
   "source": [
    "df2 = pd.DataFrame(x_new)\n",
    "df2 = df2.fillna(0)"
   ]
  },
  {
   "cell_type": "code",
   "execution_count": 20,
   "id": "f2028159",
   "metadata": {},
   "outputs": [],
   "source": [
    "features = np.array(df2)"
   ]
  },
  {
   "cell_type": "code",
   "execution_count": 21,
   "id": "56111b5a",
   "metadata": {},
   "outputs": [
    {
     "data": {
      "text/plain": [
       "False"
      ]
     },
     "execution_count": 21,
     "metadata": {},
     "output_type": "execute_result"
    }
   ],
   "source": [
    "contain_nan = (True in np.isnan(features))\n",
    "contain_nan"
   ]
  },
  {
   "cell_type": "code",
   "execution_count": 22,
   "id": "f6c43d5c",
   "metadata": {},
   "outputs": [],
   "source": [
    "src_ip = df[' Source IP']\n",
    "dst_ip = df[' Destination IP']\n",
    "src_port = df[' Source Port']\n",
    "dst_port = df[' Destination Port']"
   ]
  },
  {
   "cell_type": "code",
   "execution_count": 24,
   "id": "f88addfa",
   "metadata": {},
   "outputs": [],
   "source": [
    "def process(src_ip, src_port, dst_ip, dst_port):\n",
    "    def build_edge_index(arr):\n",
    "        for i in range(len(arr)):\n",
    "            if arr[i] not in adj_list:\n",
    "                adj_list[arr[i]] = set()\n",
    "            for j in range(len(arr)):\n",
    "                if i != j:\n",
    "                    adj_list[arr[i]].add(arr[j])\n",
    "    nodes_to_no_dict = {}\n",
    "    socket_adj_map = {}\n",
    "    socket_no_map = {}\n",
    "    adj_list = {}\n",
    "    src_ip = np.array(src_ip)\n",
    "    dst_ip = np.array(dst_ip)\n",
    "    src_port = np.array(src_port)\n",
    "    dst_port = np.array(dst_port)\n",
    "    src_nodes = list(zip(src_ip, src_port))\n",
    "    dst_nodes = list(zip(dst_ip, dst_port))\n",
    "    socket_dict = list(zip(src_nodes, dst_nodes))\n",
    "    all_nodes = set(src_nodes).union(set(dst_nodes))\n",
    "    print(len(all_nodes))\n",
    "    for index,value in enumerate(all_nodes):\n",
    "        nodes_to_no_dict[value] = index\n",
    "    num_edge = len(src_nodes)\n",
    "    for index, value in enumerate(socket_dict):\n",
    "        # 获取发出者编号\n",
    "        s, d = value[0], value[1]\n",
    "        s_no = nodes_to_no_dict[s]\n",
    "        d_no = nodes_to_no_dict[d]\n",
    "        if s_no not in socket_adj_map:\n",
    "            socket_adj_map[s_no] = []\n",
    "        if s_no not in socket_no_map:\n",
    "            socket_no_map[s_no] = []\n",
    "        socket_adj_map[s_no].append(d_no)\n",
    "        socket_no_map[s_no].append(index)\n",
    "    for index, value in socket_no_map.items():\n",
    "        build_edge_index(value)\n",
    "    for key, value in socket_adj_map.items():\n",
    "        for i in range(len(value)):\n",
    "            adj_no = value[i] \n",
    "            no = socket_no_map[key][i]\n",
    "            if adj_no in socket_adj_map and len(socket_adj_map[adj_no]) != 0:\n",
    "                adj_values = socket_adj_map[adj_no]\n",
    "                for j in range(len(adj_values)):\n",
    "                    if adj_values[j] == key:\n",
    "                        a = no\n",
    "                        b = socket_no_map[adj_no][j]\n",
    "                        adj_list[a].add(b)\n",
    "                        adj_list[b].add(a)\n",
    "    return adj_list\n",
    "\n",
    "\n",
    "def get_torch_data(adj_list):\n",
    "    src_index = []\n",
    "    dst_index = []\n",
    "    for src, dst_arr in adj_list.items():\n",
    "        for dst in dst_arr:\n",
    "            src_index.append(src)\n",
    "            dst_index.append(dst)\n",
    "    edge_index = [src_index, dst_index]\n",
    "    return edge_index"
   ]
  },
  {
   "cell_type": "code",
   "execution_count": 26,
   "id": "6ebc710c",
   "metadata": {},
   "outputs": [
    {
     "name": "stdout",
     "output_type": "stream",
     "text": [
      "3945\n"
     ]
    },
    {
     "ename": "KeyboardInterrupt",
     "evalue": "",
     "output_type": "error",
     "traceback": [
      "\u001b[1;31m---------------------------------------------------------------------------\u001b[0m",
      "\u001b[1;31mKeyboardInterrupt\u001b[0m                         Traceback (most recent call last)",
      "\u001b[1;32m<ipython-input-26-f0255ccead82>\u001b[0m in \u001b[0;36m<module>\u001b[1;34m\u001b[0m\n\u001b[1;32m----> 1\u001b[1;33m \u001b[0madj_list\u001b[0m \u001b[1;33m=\u001b[0m \u001b[0mprocess\u001b[0m\u001b[1;33m(\u001b[0m\u001b[0msrc_ip\u001b[0m\u001b[1;33m,\u001b[0m \u001b[0msrc_port\u001b[0m\u001b[1;33m,\u001b[0m \u001b[0mdst_ip\u001b[0m\u001b[1;33m,\u001b[0m \u001b[0mdst_port\u001b[0m\u001b[1;33m)\u001b[0m\u001b[1;33m\u001b[0m\u001b[1;33m\u001b[0m\u001b[0m\n\u001b[0m",
      "\u001b[1;32m<ipython-input-24-42efbc263ccf>\u001b[0m in \u001b[0;36mprocess\u001b[1;34m(src_ip, src_port, dst_ip, dst_port)\u001b[0m\n\u001b[0;32m     37\u001b[0m         \u001b[0msocket_no_map\u001b[0m\u001b[1;33m[\u001b[0m\u001b[0ms_no\u001b[0m\u001b[1;33m]\u001b[0m\u001b[1;33m.\u001b[0m\u001b[0mappend\u001b[0m\u001b[1;33m(\u001b[0m\u001b[0mindex\u001b[0m\u001b[1;33m)\u001b[0m\u001b[1;33m\u001b[0m\u001b[1;33m\u001b[0m\u001b[0m\n\u001b[0;32m     38\u001b[0m     \u001b[1;32mfor\u001b[0m \u001b[0mindex\u001b[0m\u001b[1;33m,\u001b[0m \u001b[0mvalue\u001b[0m \u001b[1;32min\u001b[0m \u001b[0msocket_no_map\u001b[0m\u001b[1;33m.\u001b[0m\u001b[0mitems\u001b[0m\u001b[1;33m(\u001b[0m\u001b[1;33m)\u001b[0m\u001b[1;33m:\u001b[0m\u001b[1;33m\u001b[0m\u001b[1;33m\u001b[0m\u001b[0m\n\u001b[1;32m---> 39\u001b[1;33m         \u001b[0mbuild_edge_index\u001b[0m\u001b[1;33m(\u001b[0m\u001b[0mvalue\u001b[0m\u001b[1;33m)\u001b[0m\u001b[1;33m\u001b[0m\u001b[1;33m\u001b[0m\u001b[0m\n\u001b[0m\u001b[0;32m     40\u001b[0m     \u001b[1;32mfor\u001b[0m \u001b[0mkey\u001b[0m\u001b[1;33m,\u001b[0m \u001b[0mvalue\u001b[0m \u001b[1;32min\u001b[0m \u001b[0msocket_adj_map\u001b[0m\u001b[1;33m.\u001b[0m\u001b[0mitems\u001b[0m\u001b[1;33m(\u001b[0m\u001b[1;33m)\u001b[0m\u001b[1;33m:\u001b[0m\u001b[1;33m\u001b[0m\u001b[1;33m\u001b[0m\u001b[0m\n\u001b[0;32m     41\u001b[0m         \u001b[1;32mfor\u001b[0m \u001b[0mi\u001b[0m \u001b[1;32min\u001b[0m \u001b[0mrange\u001b[0m\u001b[1;33m(\u001b[0m\u001b[0mlen\u001b[0m\u001b[1;33m(\u001b[0m\u001b[0mvalue\u001b[0m\u001b[1;33m)\u001b[0m\u001b[1;33m)\u001b[0m\u001b[1;33m:\u001b[0m\u001b[1;33m\u001b[0m\u001b[1;33m\u001b[0m\u001b[0m\n",
      "\u001b[1;32m<ipython-input-24-42efbc263ccf>\u001b[0m in \u001b[0;36mbuild_edge_index\u001b[1;34m(arr)\u001b[0m\n\u001b[0;32m      6\u001b[0m             \u001b[1;32mfor\u001b[0m \u001b[0mj\u001b[0m \u001b[1;32min\u001b[0m \u001b[0mrange\u001b[0m\u001b[1;33m(\u001b[0m\u001b[0mlen\u001b[0m\u001b[1;33m(\u001b[0m\u001b[0marr\u001b[0m\u001b[1;33m)\u001b[0m\u001b[1;33m)\u001b[0m\u001b[1;33m:\u001b[0m\u001b[1;33m\u001b[0m\u001b[1;33m\u001b[0m\u001b[0m\n\u001b[0;32m      7\u001b[0m                 \u001b[1;32mif\u001b[0m \u001b[0mi\u001b[0m \u001b[1;33m!=\u001b[0m \u001b[0mj\u001b[0m\u001b[1;33m:\u001b[0m\u001b[1;33m\u001b[0m\u001b[1;33m\u001b[0m\u001b[0m\n\u001b[1;32m----> 8\u001b[1;33m                     \u001b[0madj_list\u001b[0m\u001b[1;33m[\u001b[0m\u001b[0marr\u001b[0m\u001b[1;33m[\u001b[0m\u001b[0mi\u001b[0m\u001b[1;33m]\u001b[0m\u001b[1;33m]\u001b[0m\u001b[1;33m.\u001b[0m\u001b[0madd\u001b[0m\u001b[1;33m(\u001b[0m\u001b[0marr\u001b[0m\u001b[1;33m[\u001b[0m\u001b[0mj\u001b[0m\u001b[1;33m]\u001b[0m\u001b[1;33m)\u001b[0m\u001b[1;33m\u001b[0m\u001b[1;33m\u001b[0m\u001b[0m\n\u001b[0m\u001b[0;32m      9\u001b[0m     \u001b[0mnodes_to_no_dict\u001b[0m \u001b[1;33m=\u001b[0m \u001b[1;33m{\u001b[0m\u001b[1;33m}\u001b[0m\u001b[1;33m\u001b[0m\u001b[1;33m\u001b[0m\u001b[0m\n\u001b[0;32m     10\u001b[0m     \u001b[0msocket_adj_map\u001b[0m \u001b[1;33m=\u001b[0m \u001b[1;33m{\u001b[0m\u001b[1;33m}\u001b[0m\u001b[1;33m\u001b[0m\u001b[1;33m\u001b[0m\u001b[0m\n",
      "\u001b[1;31mKeyboardInterrupt\u001b[0m: "
     ]
    }
   ],
   "source": [
    "adj_list = process(src_ip, src_port, dst_ip, dst_port)"
   ]
  },
  {
   "cell_type": "code",
   "execution_count": null,
   "id": "e9c12714",
   "metadata": {},
   "outputs": [],
   "source": []
  }
 ],
 "metadata": {
  "kernelspec": {
   "display_name": "Python 3",
   "language": "python",
   "name": "python3"
  },
  "language_info": {
   "codemirror_mode": {
    "name": "ipython",
    "version": 3
   },
   "file_extension": ".py",
   "mimetype": "text/x-python",
   "name": "python",
   "nbconvert_exporter": "python",
   "pygments_lexer": "ipython3",
   "version": "3.6.13"
  }
 },
 "nbformat": 4,
 "nbformat_minor": 5
}
