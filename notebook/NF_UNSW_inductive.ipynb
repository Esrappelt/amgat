{
 "cells": [
  {
   "cell_type": "code",
   "execution_count": 1,
   "id": "79e31772",
   "metadata": {},
   "outputs": [],
   "source": [
    "import networkx\n",
    "import torch\n",
    "import numpy as np\n",
    "import pandas as pd\n",
    "from sklearn.metrics import *\n",
    "from torch_geometric.loader import NeighborSampler, NeighborLoader\n",
    "from torch_geometric.data import Data, DataLoader\n",
    "from torch_geometric.nn import GATConv, ResGatedGraphConv, GATv2Conv, SAGEConv, GENConv, DeepGCNLayer, PairNorm, GINConv\n",
    "from sklearn.preprocessing import MinMaxScaler\n",
    "from sklearn.model_selection import train_test_split\n",
    "from sklearn.impute import SimpleImputer\n",
    "import torch.nn.functional as F\n",
    "from imblearn.under_sampling import RandomUnderSampler\n",
    "pd.options.mode.use_inf_as_na = True\n",
    "from collections import Counter\n",
    "from sklearn.feature_selection import SelectFromModel\n",
    "import torch.nn as nn\n",
    "import time\n",
    "import pickle\n",
    "from torch.nn import LayerNorm, Linear, ReLU\n",
    "from torch_scatter import scatter\n",
    "from tqdm import tqdm\n",
    "from torch_geometric.loader import RandomNodeSampler\n",
    "import math\n",
    "import copy\n",
    "from sklearn.metrics import f1_score\n",
    "from sklearn.metrics import ConfusionMatrixDisplay"
   ]
  },
  {
   "cell_type": "code",
   "execution_count": 2,
   "id": "873e8863",
   "metadata": {},
   "outputs": [],
   "source": [
    "# np.random.seed(2022)\n",
    "# torch.manual_seed(2022)"
   ]
  },
  {
   "cell_type": "code",
   "execution_count": 370,
   "id": "5f6f1390",
   "metadata": {},
   "outputs": [],
   "source": [
    "class Transition_layer(torch.nn.Module):\n",
    "    def __init__(self, act, norm, lin):\n",
    "        super().__init__()\n",
    "        self.act = act\n",
    "        self.norm = norm\n",
    "        self.lin = lin\n",
    "    def forward(self, x):\n",
    "        x = self.norm(x)\n",
    "        x = self.act(x)\n",
    "        x = self.lin(x)\n",
    "        return x\n",
    "        \n",
    "class DenseGAT(torch.nn.Module):\n",
    "    def __init__(self, in_channels, num_class, num_layers=6, num_blocks=3, growth_rate=10, theta=0.5):\n",
    "        super().__init__()\n",
    "        self.num_layers = num_layers\n",
    "        self.blocks = num_blocks\n",
    "        self.theta = theta\n",
    "        self.growth_rate = growth_rate\n",
    "        self.base_rate = growth_rate\n",
    "        self.in_channels = in_channels\n",
    "        self.out_channels = num_class\n",
    "        self.linear_layers = torch.nn.ModuleList()\n",
    "        self.transition_layers = torch.nn.ModuleList()\n",
    "        self.block_layers = torch.nn.ModuleList()\n",
    "        self.node_encoder = Linear(in_channels, growth_rate)\n",
    "        self.linear_layers.append(self.node_encoder)\n",
    "        \n",
    "        for i in range(self.blocks):\n",
    "            # block\n",
    "            layers = torch.nn.ModuleList()\n",
    "            # 2^(i - 1) * k0\n",
    "            self.growth_rate = int(math.pow(2, i) * self.base_rate)\n",
    "            print(self.growth_rate)\n",
    "            for j in range(1, self.num_layers + 1):\n",
    "                conv = GATv2Conv(in_channels + (j - 1) * self.growth_rate, self.growth_rate)\n",
    "                norm = LayerNorm(self.growth_rate)\n",
    "                act = ReLU()\n",
    "                layer = DeepGCNLayer(conv, norm, act, block='dense')\n",
    "                layers.append(layer)\n",
    "            self.block_layers.append(layers)\n",
    "            \n",
    "            # transition\n",
    "            hidden_channels = in_channels +  self.num_layers * self.growth_rate\n",
    "            out_channels = int(hidden_channels * self.theta)\n",
    "            transition_norm = LayerNorm(hidden_channels, elementwise_affine=True)\n",
    "            transition_act = ReLU()\n",
    "            transition_lin = Linear(hidden_channels, out_channels)\n",
    "            transitionLayer = Transition_layer(transition_act, transition_norm, transition_lin)\n",
    "            self.transition_layers.append(transitionLayer)\n",
    "            in_channels = copy.copy(out_channels)\n",
    "        \n",
    "        self.lin_last = Linear(in_channels, self.out_channels)\n",
    "        self.linear_layers.append(self.lin_last)\n",
    "        \n",
    "    def forward(self, x, edge_index):\n",
    "#         x = self.linear_layers[0](x)\n",
    "        for i in range(self.blocks):\n",
    "            # block layer\n",
    "            for layer in self.block_layers[i]:\n",
    "                x = layer(x, edge_index)\n",
    "            # transition layer\n",
    "            x = self.transition_layers[i](x)\n",
    "        x = self.linear_layers[-1](x)\n",
    "        return x"
   ]
  },
  {
   "cell_type": "code",
   "execution_count": 312,
   "id": "42ed76b0",
   "metadata": {},
   "outputs": [],
   "source": [
    "def train():\n",
    "    total_loss = total_correct = total_examples = 0\n",
    "    start_time = time.time()\n",
    "    for batch in train_loader:\n",
    "        batch = batch.to(device)\n",
    "        y = batch.y[:batch.batch_size]\n",
    "        optimizer.zero_grad()\n",
    "        y_hat = model(batch.x.to(device), batch.edge_index.to(device))[:batch.batch_size]\n",
    "        loss = F.cross_entropy(y_hat, y)\n",
    "        loss.backward()\n",
    "        optimizer.step()\n",
    "        total_loss += float(loss) * batch.batch_size\n",
    "        total_correct += int((y_hat.argmax(dim=-1) == y).sum())\n",
    "        total_examples += batch.batch_size\n",
    "    end_time = time.time()  \n",
    "    \n",
    "    return total_loss / total_examples, total_correct / total_examples\n",
    "\n",
    "def inferrence(model, subgraph_loader):\n",
    "    total_loss = total_correct = total_examples = 0\n",
    "    xs = []\n",
    "    y = []\n",
    "    pbar = tqdm(total=len(subgraph_loader))\n",
    "    for batch in subgraph_loader:\n",
    "        y_hat = model(batch.x, batch.edge_index.to(device))[:batch.batch_size]\n",
    "        xs.append(y_hat.cpu())\n",
    "        y_true = batch.y[:batch.batch_size]\n",
    "        y.append(y_true.cpu())\n",
    "        pbar.update(1)\n",
    "    pbar.close()\n",
    "    y_hat = torch.cat(xs, 0)\n",
    "    y_hat = y_hat.detach().numpy()\n",
    "    y_hat = np.argmax(y_hat, -1)\n",
    "    y = torch.cat(y, 0)\n",
    "    print(y_hat)\n",
    "    print(y)\n",
    "    cr1 = classification_report(y, y_hat,digits=4)\n",
    "    cf = confusion_matrix(y, y_hat)\n",
    "    print(cr1)\n",
    "    print(cf)\n"
   ]
  },
  {
   "cell_type": "code",
   "execution_count": 347,
   "id": "cff1ceed",
   "metadata": {},
   "outputs": [],
   "source": [
    "train_data = torch.load(r'/home/xiaoyujie/densegat/tonlot/NF_UNSW15_train_data')"
   ]
  },
  {
   "cell_type": "code",
   "execution_count": 348,
   "id": "9b0c35ae",
   "metadata": {},
   "outputs": [],
   "source": [
    "test_data = torch.load(r'/home/xiaoyujie/densegat/tonlot/NF_UNSW15_test_data')"
   ]
  },
  {
   "cell_type": "code",
   "execution_count": 349,
   "id": "e51a6cc1",
   "metadata": {},
   "outputs": [
    {
     "data": {
      "text/plain": [
       "(Data(x=[1673192, 39], edge_index=[2, 38668506], y=[1673192], num_nodes=1673192),\n",
       " Data(x=[717083, 39], edge_index=[2, 7075088], y=[717083], num_nodes=717083))"
      ]
     },
     "execution_count": 349,
     "metadata": {},
     "output_type": "execute_result"
    }
   ],
   "source": [
    "train_data,test_data"
   ]
  },
  {
   "cell_type": "code",
   "execution_count": 350,
   "id": "b57a7f46",
   "metadata": {},
   "outputs": [
    {
     "data": {
      "text/plain": [
       "(Counter({0: 1606655,\n",
       "          4: 15617,\n",
       "          1: 8945,\n",
       "          5: 11592,\n",
       "          3: 1518,\n",
       "          2: 22086,\n",
       "          9: 115,\n",
       "          8: 999,\n",
       "          6: 4056,\n",
       "          7: 1609}),\n",
       " Counter({0: 688567,\n",
       "          2: 9465,\n",
       "          5: 4968,\n",
       "          7: 690,\n",
       "          1: 3834,\n",
       "          6: 1738,\n",
       "          4: 6693,\n",
       "          3: 651,\n",
       "          8: 428,\n",
       "          9: 49}))"
      ]
     },
     "execution_count": 350,
     "metadata": {},
     "output_type": "execute_result"
    }
   ],
   "source": [
    "Counter(train_data.y.numpy()),Counter(test_data.y.numpy())"
   ]
  },
  {
   "cell_type": "code",
   "execution_count": 351,
   "id": "7160b7a4",
   "metadata": {},
   "outputs": [
    {
     "data": {
      "text/plain": [
       "Data(x=[717083, 39], edge_index=[2, 7075088], y=[717083], num_nodes=717083)"
      ]
     },
     "execution_count": 351,
     "metadata": {},
     "output_type": "execute_result"
    }
   ],
   "source": [
    "test_data"
   ]
  },
  {
   "cell_type": "code",
   "execution_count": 342,
   "id": "aba7def4",
   "metadata": {},
   "outputs": [],
   "source": [
    "# train_data.edge_index = torch.LongTensor(train_data.edge_index.numpy())\n",
    "# test_data.edge_index = torch.LongTensor(test_data.edge_index.numpy())"
   ]
  },
  {
   "cell_type": "code",
   "execution_count": 343,
   "id": "fc3314cf",
   "metadata": {},
   "outputs": [],
   "source": [
    "# 二分类试试"
   ]
  },
  {
   "cell_type": "code",
   "execution_count": 344,
   "id": "57777108",
   "metadata": {},
   "outputs": [],
   "source": [
    "train_label = train_data.y.numpy()\n",
    "test_label = test_data.y.numpy()"
   ]
  },
  {
   "cell_type": "code",
   "execution_count": 345,
   "id": "1dc05b7d",
   "metadata": {},
   "outputs": [],
   "source": [
    "train_label[train_label != 0] = 1\n",
    "test_label[test_label != 0] = 1"
   ]
  },
  {
   "cell_type": "code",
   "execution_count": 346,
   "id": "9bc7ac59",
   "metadata": {},
   "outputs": [],
   "source": [
    "train_data.y = torch.LongTensor(train_label)\n",
    "test_data.y = torch.LongTensor(test_label)"
   ]
  },
  {
   "cell_type": "code",
   "execution_count": 175,
   "id": "75756fe5",
   "metadata": {},
   "outputs": [
    {
     "data": {
      "text/plain": [
       "Counter({0: 1606655, 1: 66537})"
      ]
     },
     "execution_count": 175,
     "metadata": {},
     "output_type": "execute_result"
    }
   ],
   "source": [
    "Counter(train_data.y.numpy())"
   ]
  },
  {
   "cell_type": "code",
   "execution_count": 176,
   "id": "adbb2061",
   "metadata": {},
   "outputs": [
    {
     "data": {
      "text/plain": [
       "Counter({0: 688567, 1: 28516})"
      ]
     },
     "execution_count": 176,
     "metadata": {},
     "output_type": "execute_result"
    }
   ],
   "source": [
    "Counter(test_data.y.numpy())"
   ]
  },
  {
   "cell_type": "code",
   "execution_count": 352,
   "id": "cfee63af",
   "metadata": {},
   "outputs": [],
   "source": [
    "# 开始"
   ]
  },
  {
   "cell_type": "code",
   "execution_count": 353,
   "id": "d18106aa",
   "metadata": {},
   "outputs": [],
   "source": [
    "train_num_nodes = torch.arange(len(train_data.y))\n",
    "test_num_nodes = torch.arange(len(test_data.y))"
   ]
  },
  {
   "cell_type": "code",
   "execution_count": 372,
   "id": "dff9dab0",
   "metadata": {},
   "outputs": [],
   "source": [
    "train_data = train_data.to('cpu')\n",
    "test_data = test_data.to('cpu')\n",
    "hop = [50]*20\n",
    "train_loader = NeighborLoader(train_data, input_nodes = train_num_nodes, num_neighbors=hop, batch_size=1024, shuffle=True)"
   ]
  },
  {
   "cell_type": "code",
   "execution_count": 373,
   "id": "89574c59",
   "metadata": {},
   "outputs": [
    {
     "data": {
      "text/plain": [
       "Data(x=[1876, 39], edge_index=[2, 872], y=[1876], num_nodes=1876, batch_size=1024)"
      ]
     },
     "execution_count": 373,
     "metadata": {},
     "output_type": "execute_result"
    }
   ],
   "source": [
    "next(iter(train_loader))"
   ]
  },
  {
   "cell_type": "code",
   "execution_count": 360,
   "id": "be2f9b23",
   "metadata": {},
   "outputs": [],
   "source": [
    "subgraph_loader = NeighborLoader(test_data, input_nodes=test_num_nodes,num_neighbors=hop, batch_size=1024, shuffle=False)"
   ]
  },
  {
   "cell_type": "code",
   "execution_count": 374,
   "id": "09810cfa",
   "metadata": {},
   "outputs": [
    {
     "name": "stdout",
     "output_type": "stream",
     "text": [
      "10\n"
     ]
    }
   ],
   "source": [
    "in_channels = train_data.x.size(-1)\n",
    "num_class = 10\n",
    "model = DenseGAT(in_channels=in_channels, num_class=num_class, \n",
    "                 num_layers=10, num_blocks=1, growth_rate=10, theta=0.5)\n",
    "loss_all = []"
   ]
  },
  {
   "cell_type": "code",
   "execution_count": 375,
   "id": "2cc13f91",
   "metadata": {},
   "outputs": [
    {
     "data": {
      "text/plain": [
       "DenseGAT(\n",
       "  (linear_layers): ModuleList(\n",
       "    (0): Linear(in_features=39, out_features=10, bias=True)\n",
       "    (1): Linear(in_features=69, out_features=10, bias=True)\n",
       "  )\n",
       "  (transition_layers): ModuleList(\n",
       "    (0): Transition_layer(\n",
       "      (act): ReLU()\n",
       "      (norm): LayerNorm((139,), eps=1e-05, elementwise_affine=True)\n",
       "      (lin): Linear(in_features=139, out_features=69, bias=True)\n",
       "    )\n",
       "  )\n",
       "  (block_layers): ModuleList(\n",
       "    (0): ModuleList(\n",
       "      (0): DeepGCNLayer(block=dense)\n",
       "      (1): DeepGCNLayer(block=dense)\n",
       "      (2): DeepGCNLayer(block=dense)\n",
       "      (3): DeepGCNLayer(block=dense)\n",
       "      (4): DeepGCNLayer(block=dense)\n",
       "      (5): DeepGCNLayer(block=dense)\n",
       "      (6): DeepGCNLayer(block=dense)\n",
       "      (7): DeepGCNLayer(block=dense)\n",
       "      (8): DeepGCNLayer(block=dense)\n",
       "      (9): DeepGCNLayer(block=dense)\n",
       "    )\n",
       "  )\n",
       "  (node_encoder): Linear(in_features=39, out_features=10, bias=True)\n",
       "  (lin_last): Linear(in_features=69, out_features=10, bias=True)\n",
       ")"
      ]
     },
     "execution_count": 375,
     "metadata": {},
     "output_type": "execute_result"
    }
   ],
   "source": [
    "model"
   ]
  },
  {
   "cell_type": "code",
   "execution_count": 376,
   "id": "084e6b4b",
   "metadata": {},
   "outputs": [
    {
     "data": {
      "text/plain": [
       "28438"
      ]
     },
     "execution_count": 376,
     "metadata": {},
     "output_type": "execute_result"
    }
   ],
   "source": [
    "sum(p.numel() for p in model.parameters())"
   ]
  },
  {
   "cell_type": "code",
   "execution_count": 377,
   "id": "0f1a26e8",
   "metadata": {},
   "outputs": [],
   "source": [
    "optimizer = torch.optim.Adam(model.parameters(), lr=0.001)"
   ]
  },
  {
   "cell_type": "code",
   "execution_count": 378,
   "id": "87b6d450",
   "metadata": {},
   "outputs": [],
   "source": [
    "# 193.2389s"
   ]
  },
  {
   "cell_type": "code",
   "execution_count": 379,
   "id": "1e5a4297",
   "metadata": {},
   "outputs": [
    {
     "name": "stdout",
     "output_type": "stream",
     "text": [
      "epoch: 0001 loss_train: 0.0633 acc_train: 0.9796 time: 79.2730s\n",
      "epoch: 0002 loss_train: 0.0417 acc_train: 0.9850 time: 79.2398s\n",
      "epoch: 0003 loss_train: 0.0395 acc_train: 0.9858 time: 73.8025s\n",
      "epoch: 0004 loss_train: 0.0386 acc_train: 0.9861 time: 68.6639s\n",
      "epoch: 0005 loss_train: 0.0378 acc_train: 0.9863 time: 64.8540s\n",
      "epoch: 0006 loss_train: 0.0370 acc_train: 0.9866 time: 50.2064s\n",
      "epoch: 0007 loss_train: 0.0365 acc_train: 0.9867 time: 53.6126s\n",
      "epoch: 0008 loss_train: 0.0361 acc_train: 0.9869 time: 59.6187s\n",
      "epoch: 0009 loss_train: 0.0357 acc_train: 0.9870 time: 54.5260s\n",
      "epoch: 0010 loss_train: 0.0353 acc_train: 0.9871 time: 51.4456s\n",
      "epoch: 0011 loss_train: 0.0352 acc_train: 0.9872 time: 61.3119s\n",
      "epoch: 0012 loss_train: 0.0348 acc_train: 0.9872 time: 53.4032s\n",
      "epoch: 0013 loss_train: 0.0345 acc_train: 0.9874 time: 59.9031s\n",
      "epoch: 0014 loss_train: 0.0344 acc_train: 0.9873 time: 60.0890s\n",
      "epoch: 0015 loss_train: 0.0341 acc_train: 0.9875 time: 61.7395s\n",
      "epoch: 0016 loss_train: 0.0339 acc_train: 0.9876 time: 60.6606s\n",
      "epoch: 0017 loss_train: 0.0338 acc_train: 0.9876 time: 61.7445s\n",
      "epoch: 0018 loss_train: 0.0336 acc_train: 0.9876 time: 59.1801s\n",
      "epoch: 0019 loss_train: 0.0335 acc_train: 0.9876 time: 55.6651s\n",
      "epoch: 0020 loss_train: 0.0333 acc_train: 0.9876 time: 53.7039s\n",
      "epoch: 0021 loss_train: 0.0331 acc_train: 0.9877 time: 52.5586s\n",
      "epoch: 0022 loss_train: 0.0330 acc_train: 0.9878 time: 53.3309s\n",
      "epoch: 0023 loss_train: 0.0330 acc_train: 0.9877 time: 57.9648s\n",
      "epoch: 0024 loss_train: 0.0328 acc_train: 0.9878 time: 61.4404s\n",
      "epoch: 0025 loss_train: 0.0327 acc_train: 0.9878 time: 54.7442s\n",
      "epoch: 0026 loss_train: 0.0326 acc_train: 0.9879 time: 53.9006s\n",
      "epoch: 0027 loss_train: 0.0325 acc_train: 0.9879 time: 57.2901s\n",
      "epoch: 0028 loss_train: 0.0324 acc_train: 0.9879 time: 57.1390s\n",
      "epoch: 0029 loss_train: 0.0324 acc_train: 0.9879 time: 57.2502s\n",
      "epoch: 0030 loss_train: 0.0322 acc_train: 0.9880 time: 58.5323s\n",
      "epoch: 0031 loss_train: 0.0322 acc_train: 0.9879 time: 57.5616s\n",
      "epoch: 0032 loss_train: 0.0321 acc_train: 0.9880 time: 58.1254s\n",
      "epoch: 0033 loss_train: 0.0320 acc_train: 0.9880 time: 58.8715s\n",
      "epoch: 0034 loss_train: 0.0319 acc_train: 0.9881 time: 56.5035s\n",
      "epoch: 0035 loss_train: 0.0318 acc_train: 0.9881 time: 58.4852s\n",
      "epoch: 0036 loss_train: 0.0318 acc_train: 0.9881 time: 64.4145s\n",
      "epoch: 0037 loss_train: 0.0316 acc_train: 0.9881 time: 63.3312s\n",
      "epoch: 0038 loss_train: 0.0317 acc_train: 0.9881 time: 56.9709s\n",
      "epoch: 0039 loss_train: 0.0315 acc_train: 0.9881 time: 54.6894s\n",
      "epoch: 0040 loss_train: 0.0315 acc_train: 0.9882 time: 56.2680s\n",
      "epoch: 0041 loss_train: 0.0315 acc_train: 0.9882 time: 55.9097s\n",
      "epoch: 0042 loss_train: 0.0314 acc_train: 0.9881 time: 57.1161s\n",
      "epoch: 0043 loss_train: 0.0313 acc_train: 0.9882 time: 58.3228s\n",
      "epoch: 0044 loss_train: 0.0313 acc_train: 0.9882 time: 55.0323s\n",
      "epoch: 0045 loss_train: 0.0312 acc_train: 0.9883 time: 56.9903s\n",
      "epoch: 0046 loss_train: 0.0312 acc_train: 0.9882 time: 57.6362s\n",
      "epoch: 0047 loss_train: 0.0310 acc_train: 0.9883 time: 54.4363s\n",
      "epoch: 0048 loss_train: 0.0311 acc_train: 0.9882 time: 62.8764s\n",
      "epoch: 0049 loss_train: 0.0310 acc_train: 0.9883 time: 56.8019s\n",
      "epoch: 0050 loss_train: 0.0310 acc_train: 0.9883 time: 55.9050s\n",
      "epoch: 0051 loss_train: 0.0295 acc_train: 0.9887 time: 61.6164s\n",
      "epoch: 0052 loss_train: 0.0292 acc_train: 0.9888 time: 62.3859s\n",
      "epoch: 0053 loss_train: 0.0291 acc_train: 0.9888 time: 61.1127s\n",
      "epoch: 0054 loss_train: 0.0290 acc_train: 0.9889 time: 61.9236s\n",
      "epoch: 0055 loss_train: 0.0290 acc_train: 0.9889 time: 62.0371s\n",
      "epoch: 0056 loss_train: 0.0289 acc_train: 0.9889 time: 57.0723s\n",
      "epoch: 0057 loss_train: 0.0289 acc_train: 0.9889 time: 61.5431s\n",
      "epoch: 0058 loss_train: 0.0288 acc_train: 0.9889 time: 62.1898s\n",
      "epoch: 0059 loss_train: 0.0288 acc_train: 0.9890 time: 68.5187s\n",
      "epoch: 0060 loss_train: 0.0288 acc_train: 0.9890 time: 77.2494s\n",
      "epoch: 0061 loss_train: 0.0287 acc_train: 0.9890 time: 60.3788s\n",
      "epoch: 0062 loss_train: 0.0287 acc_train: 0.9890 time: 69.0780s\n",
      "epoch: 0063 loss_train: 0.0287 acc_train: 0.9890 time: 77.0084s\n",
      "epoch: 0064 loss_train: 0.0286 acc_train: 0.9890 time: 84.8620s\n",
      "epoch: 0065 loss_train: 0.0286 acc_train: 0.9890 time: 84.9530s\n",
      "epoch: 0066 loss_train: 0.0286 acc_train: 0.9890 time: 87.6327s\n"
     ]
    },
    {
     "ename": "KeyboardInterrupt",
     "evalue": "",
     "output_type": "error",
     "traceback": [
      "\u001b[0;31m---------------------------------------------------------------------------\u001b[0m",
      "\u001b[0;31mKeyboardInterrupt\u001b[0m                         Traceback (most recent call last)",
      "\u001b[0;32m<ipython-input-379-7c7bebe1d62f>\u001b[0m in \u001b[0;36m<module>\u001b[0;34m\u001b[0m\n\u001b[1;32m     10\u001b[0m     \u001b[0mstart_time\u001b[0m \u001b[0;34m=\u001b[0m \u001b[0mtime\u001b[0m\u001b[0;34m.\u001b[0m\u001b[0mtime\u001b[0m\u001b[0;34m(\u001b[0m\u001b[0;34m)\u001b[0m\u001b[0;34m\u001b[0m\u001b[0;34m\u001b[0m\u001b[0m\n\u001b[1;32m     11\u001b[0m     \u001b[0mtrain_loader\u001b[0m \u001b[0;34m=\u001b[0m \u001b[0mNeighborLoader\u001b[0m\u001b[0;34m(\u001b[0m\u001b[0mtrain_data\u001b[0m\u001b[0;34m,\u001b[0m \u001b[0minput_nodes\u001b[0m \u001b[0;34m=\u001b[0m \u001b[0mtrain_num_nodes\u001b[0m\u001b[0;34m,\u001b[0m \u001b[0mnum_neighbors\u001b[0m\u001b[0;34m=\u001b[0m\u001b[0mhop\u001b[0m\u001b[0;34m,\u001b[0m \u001b[0mbatch_size\u001b[0m\u001b[0;34m=\u001b[0m\u001b[0;36m1024\u001b[0m\u001b[0;34m,\u001b[0m \u001b[0mshuffle\u001b[0m\u001b[0;34m=\u001b[0m\u001b[0;32mTrue\u001b[0m\u001b[0;34m)\u001b[0m\u001b[0;34m\u001b[0m\u001b[0;34m\u001b[0m\u001b[0m\n\u001b[0;32m---> 12\u001b[0;31m     \u001b[0mloss\u001b[0m\u001b[0;34m,\u001b[0m \u001b[0macc\u001b[0m \u001b[0;34m=\u001b[0m \u001b[0mtrain\u001b[0m\u001b[0;34m(\u001b[0m\u001b[0;34m)\u001b[0m\u001b[0;34m\u001b[0m\u001b[0;34m\u001b[0m\u001b[0m\n\u001b[0m\u001b[1;32m     13\u001b[0m     \u001b[0mend_time\u001b[0m \u001b[0;34m=\u001b[0m \u001b[0mtime\u001b[0m\u001b[0;34m.\u001b[0m\u001b[0mtime\u001b[0m\u001b[0;34m(\u001b[0m\u001b[0;34m)\u001b[0m\u001b[0;34m\u001b[0m\u001b[0;34m\u001b[0m\u001b[0m\n\u001b[1;32m     14\u001b[0m     print('epoch: {:04d}'.format(i),\n",
      "\u001b[0;32m<ipython-input-312-4cfb3c5cd91c>\u001b[0m in \u001b[0;36mtrain\u001b[0;34m()\u001b[0m\n\u001b[1;32m      6\u001b[0m         \u001b[0my\u001b[0m \u001b[0;34m=\u001b[0m \u001b[0mbatch\u001b[0m\u001b[0;34m.\u001b[0m\u001b[0my\u001b[0m\u001b[0;34m[\u001b[0m\u001b[0;34m:\u001b[0m\u001b[0mbatch\u001b[0m\u001b[0;34m.\u001b[0m\u001b[0mbatch_size\u001b[0m\u001b[0;34m]\u001b[0m\u001b[0;34m\u001b[0m\u001b[0;34m\u001b[0m\u001b[0m\n\u001b[1;32m      7\u001b[0m         \u001b[0moptimizer\u001b[0m\u001b[0;34m.\u001b[0m\u001b[0mzero_grad\u001b[0m\u001b[0;34m(\u001b[0m\u001b[0;34m)\u001b[0m\u001b[0;34m\u001b[0m\u001b[0;34m\u001b[0m\u001b[0m\n\u001b[0;32m----> 8\u001b[0;31m         \u001b[0my_hat\u001b[0m \u001b[0;34m=\u001b[0m \u001b[0mmodel\u001b[0m\u001b[0;34m(\u001b[0m\u001b[0mbatch\u001b[0m\u001b[0;34m.\u001b[0m\u001b[0mx\u001b[0m\u001b[0;34m.\u001b[0m\u001b[0mto\u001b[0m\u001b[0;34m(\u001b[0m\u001b[0mdevice\u001b[0m\u001b[0;34m)\u001b[0m\u001b[0;34m,\u001b[0m \u001b[0mbatch\u001b[0m\u001b[0;34m.\u001b[0m\u001b[0medge_index\u001b[0m\u001b[0;34m.\u001b[0m\u001b[0mto\u001b[0m\u001b[0;34m(\u001b[0m\u001b[0mdevice\u001b[0m\u001b[0;34m)\u001b[0m\u001b[0;34m)\u001b[0m\u001b[0;34m[\u001b[0m\u001b[0;34m:\u001b[0m\u001b[0mbatch\u001b[0m\u001b[0;34m.\u001b[0m\u001b[0mbatch_size\u001b[0m\u001b[0;34m]\u001b[0m\u001b[0;34m\u001b[0m\u001b[0;34m\u001b[0m\u001b[0m\n\u001b[0m\u001b[1;32m      9\u001b[0m         \u001b[0mloss\u001b[0m \u001b[0;34m=\u001b[0m \u001b[0mF\u001b[0m\u001b[0;34m.\u001b[0m\u001b[0mcross_entropy\u001b[0m\u001b[0;34m(\u001b[0m\u001b[0my_hat\u001b[0m\u001b[0;34m,\u001b[0m \u001b[0my\u001b[0m\u001b[0;34m)\u001b[0m\u001b[0;34m\u001b[0m\u001b[0;34m\u001b[0m\u001b[0m\n\u001b[1;32m     10\u001b[0m         \u001b[0mloss\u001b[0m\u001b[0;34m.\u001b[0m\u001b[0mbackward\u001b[0m\u001b[0;34m(\u001b[0m\u001b[0;34m)\u001b[0m\u001b[0;34m\u001b[0m\u001b[0;34m\u001b[0m\u001b[0m\n",
      "\u001b[0;32m~/anaconda3/envs/densegat2/lib/python3.6/site-packages/torch/nn/modules/module.py\u001b[0m in \u001b[0;36m_call_impl\u001b[0;34m(self, *input, **kwargs)\u001b[0m\n\u001b[1;32m   1100\u001b[0m         if not (self._backward_hooks or self._forward_hooks or self._forward_pre_hooks or _global_backward_hooks\n\u001b[1;32m   1101\u001b[0m                 or _global_forward_hooks or _global_forward_pre_hooks):\n\u001b[0;32m-> 1102\u001b[0;31m             \u001b[0;32mreturn\u001b[0m \u001b[0mforward_call\u001b[0m\u001b[0;34m(\u001b[0m\u001b[0;34m*\u001b[0m\u001b[0minput\u001b[0m\u001b[0;34m,\u001b[0m \u001b[0;34m**\u001b[0m\u001b[0mkwargs\u001b[0m\u001b[0;34m)\u001b[0m\u001b[0;34m\u001b[0m\u001b[0;34m\u001b[0m\u001b[0m\n\u001b[0m\u001b[1;32m   1103\u001b[0m         \u001b[0;31m# Do not call functions when jit is used\u001b[0m\u001b[0;34m\u001b[0m\u001b[0;34m\u001b[0m\u001b[0;34m\u001b[0m\u001b[0m\n\u001b[1;32m   1104\u001b[0m         \u001b[0mfull_backward_hooks\u001b[0m\u001b[0;34m,\u001b[0m \u001b[0mnon_full_backward_hooks\u001b[0m \u001b[0;34m=\u001b[0m \u001b[0;34m[\u001b[0m\u001b[0;34m]\u001b[0m\u001b[0;34m,\u001b[0m \u001b[0;34m[\u001b[0m\u001b[0;34m]\u001b[0m\u001b[0;34m\u001b[0m\u001b[0;34m\u001b[0m\u001b[0m\n",
      "\u001b[0;32m<ipython-input-370-200486b43ceb>\u001b[0m in \u001b[0;36mforward\u001b[0;34m(self, x, edge_index)\u001b[0m\n\u001b[1;32m     59\u001b[0m             \u001b[0;31m# block layer\u001b[0m\u001b[0;34m\u001b[0m\u001b[0;34m\u001b[0m\u001b[0;34m\u001b[0m\u001b[0m\n\u001b[1;32m     60\u001b[0m             \u001b[0;32mfor\u001b[0m \u001b[0mlayer\u001b[0m \u001b[0;32min\u001b[0m \u001b[0mself\u001b[0m\u001b[0;34m.\u001b[0m\u001b[0mblock_layers\u001b[0m\u001b[0;34m[\u001b[0m\u001b[0mi\u001b[0m\u001b[0;34m]\u001b[0m\u001b[0;34m:\u001b[0m\u001b[0;34m\u001b[0m\u001b[0;34m\u001b[0m\u001b[0m\n\u001b[0;32m---> 61\u001b[0;31m                 \u001b[0mx\u001b[0m \u001b[0;34m=\u001b[0m \u001b[0mlayer\u001b[0m\u001b[0;34m(\u001b[0m\u001b[0mx\u001b[0m\u001b[0;34m,\u001b[0m \u001b[0medge_index\u001b[0m\u001b[0;34m)\u001b[0m\u001b[0;34m\u001b[0m\u001b[0;34m\u001b[0m\u001b[0m\n\u001b[0m\u001b[1;32m     62\u001b[0m             \u001b[0;31m# transition layer\u001b[0m\u001b[0;34m\u001b[0m\u001b[0;34m\u001b[0m\u001b[0;34m\u001b[0m\u001b[0m\n\u001b[1;32m     63\u001b[0m             \u001b[0mx\u001b[0m \u001b[0;34m=\u001b[0m \u001b[0mself\u001b[0m\u001b[0;34m.\u001b[0m\u001b[0mtransition_layers\u001b[0m\u001b[0;34m[\u001b[0m\u001b[0mi\u001b[0m\u001b[0;34m]\u001b[0m\u001b[0;34m(\u001b[0m\u001b[0mx\u001b[0m\u001b[0;34m)\u001b[0m\u001b[0;34m\u001b[0m\u001b[0;34m\u001b[0m\u001b[0m\n",
      "\u001b[0;32m~/anaconda3/envs/densegat2/lib/python3.6/site-packages/torch/nn/modules/module.py\u001b[0m in \u001b[0;36m_call_impl\u001b[0;34m(self, *input, **kwargs)\u001b[0m\n\u001b[1;32m   1100\u001b[0m         if not (self._backward_hooks or self._forward_hooks or self._forward_pre_hooks or _global_backward_hooks\n\u001b[1;32m   1101\u001b[0m                 or _global_forward_hooks or _global_forward_pre_hooks):\n\u001b[0;32m-> 1102\u001b[0;31m             \u001b[0;32mreturn\u001b[0m \u001b[0mforward_call\u001b[0m\u001b[0;34m(\u001b[0m\u001b[0;34m*\u001b[0m\u001b[0minput\u001b[0m\u001b[0;34m,\u001b[0m \u001b[0;34m**\u001b[0m\u001b[0mkwargs\u001b[0m\u001b[0;34m)\u001b[0m\u001b[0;34m\u001b[0m\u001b[0;34m\u001b[0m\u001b[0m\n\u001b[0m\u001b[1;32m   1103\u001b[0m         \u001b[0;31m# Do not call functions when jit is used\u001b[0m\u001b[0;34m\u001b[0m\u001b[0;34m\u001b[0m\u001b[0;34m\u001b[0m\u001b[0m\n\u001b[1;32m   1104\u001b[0m         \u001b[0mfull_backward_hooks\u001b[0m\u001b[0;34m,\u001b[0m \u001b[0mnon_full_backward_hooks\u001b[0m \u001b[0;34m=\u001b[0m \u001b[0;34m[\u001b[0m\u001b[0;34m]\u001b[0m\u001b[0;34m,\u001b[0m \u001b[0;34m[\u001b[0m\u001b[0;34m]\u001b[0m\u001b[0;34m\u001b[0m\u001b[0;34m\u001b[0m\u001b[0m\n",
      "\u001b[0;32m~/anaconda3/envs/densegat2/lib/python3.6/site-packages/torch_geometric/nn/models/deepgcn.py\u001b[0m in \u001b[0;36mforward\u001b[0;34m(self, *args, **kwargs)\u001b[0m\n\u001b[1;32m     88\u001b[0m                 \u001b[0mh\u001b[0m \u001b[0;34m=\u001b[0m \u001b[0mcheckpoint\u001b[0m\u001b[0;34m(\u001b[0m\u001b[0mself\u001b[0m\u001b[0;34m.\u001b[0m\u001b[0mconv\u001b[0m\u001b[0;34m,\u001b[0m \u001b[0mx\u001b[0m\u001b[0;34m,\u001b[0m \u001b[0;34m*\u001b[0m\u001b[0margs\u001b[0m\u001b[0;34m,\u001b[0m \u001b[0;34m**\u001b[0m\u001b[0mkwargs\u001b[0m\u001b[0;34m)\u001b[0m\u001b[0;34m\u001b[0m\u001b[0;34m\u001b[0m\u001b[0m\n\u001b[1;32m     89\u001b[0m             \u001b[0;32melse\u001b[0m\u001b[0;34m:\u001b[0m\u001b[0;34m\u001b[0m\u001b[0;34m\u001b[0m\u001b[0m\n\u001b[0;32m---> 90\u001b[0;31m                 \u001b[0mh\u001b[0m \u001b[0;34m=\u001b[0m \u001b[0mself\u001b[0m\u001b[0;34m.\u001b[0m\u001b[0mconv\u001b[0m\u001b[0;34m(\u001b[0m\u001b[0mx\u001b[0m\u001b[0;34m,\u001b[0m \u001b[0;34m*\u001b[0m\u001b[0margs\u001b[0m\u001b[0;34m,\u001b[0m \u001b[0;34m**\u001b[0m\u001b[0mkwargs\u001b[0m\u001b[0;34m)\u001b[0m\u001b[0;34m\u001b[0m\u001b[0;34m\u001b[0m\u001b[0m\n\u001b[0m\u001b[1;32m     91\u001b[0m             \u001b[0;32mif\u001b[0m \u001b[0mself\u001b[0m\u001b[0;34m.\u001b[0m\u001b[0mnorm\u001b[0m \u001b[0;32mis\u001b[0m \u001b[0;32mnot\u001b[0m \u001b[0;32mNone\u001b[0m\u001b[0;34m:\u001b[0m\u001b[0;34m\u001b[0m\u001b[0;34m\u001b[0m\u001b[0m\n\u001b[1;32m     92\u001b[0m                 \u001b[0mh\u001b[0m \u001b[0;34m=\u001b[0m \u001b[0mself\u001b[0m\u001b[0;34m.\u001b[0m\u001b[0mnorm\u001b[0m\u001b[0;34m(\u001b[0m\u001b[0mh\u001b[0m\u001b[0;34m)\u001b[0m\u001b[0;34m\u001b[0m\u001b[0;34m\u001b[0m\u001b[0m\n",
      "\u001b[0;32m~/anaconda3/envs/densegat2/lib/python3.6/site-packages/torch/nn/modules/module.py\u001b[0m in \u001b[0;36m_call_impl\u001b[0;34m(self, *input, **kwargs)\u001b[0m\n\u001b[1;32m   1100\u001b[0m         if not (self._backward_hooks or self._forward_hooks or self._forward_pre_hooks or _global_backward_hooks\n\u001b[1;32m   1101\u001b[0m                 or _global_forward_hooks or _global_forward_pre_hooks):\n\u001b[0;32m-> 1102\u001b[0;31m             \u001b[0;32mreturn\u001b[0m \u001b[0mforward_call\u001b[0m\u001b[0;34m(\u001b[0m\u001b[0;34m*\u001b[0m\u001b[0minput\u001b[0m\u001b[0;34m,\u001b[0m \u001b[0;34m**\u001b[0m\u001b[0mkwargs\u001b[0m\u001b[0;34m)\u001b[0m\u001b[0;34m\u001b[0m\u001b[0;34m\u001b[0m\u001b[0m\n\u001b[0m\u001b[1;32m   1103\u001b[0m         \u001b[0;31m# Do not call functions when jit is used\u001b[0m\u001b[0;34m\u001b[0m\u001b[0;34m\u001b[0m\u001b[0;34m\u001b[0m\u001b[0m\n\u001b[1;32m   1104\u001b[0m         \u001b[0mfull_backward_hooks\u001b[0m\u001b[0;34m,\u001b[0m \u001b[0mnon_full_backward_hooks\u001b[0m \u001b[0;34m=\u001b[0m \u001b[0;34m[\u001b[0m\u001b[0;34m]\u001b[0m\u001b[0;34m,\u001b[0m \u001b[0;34m[\u001b[0m\u001b[0;34m]\u001b[0m\u001b[0;34m\u001b[0m\u001b[0;34m\u001b[0m\u001b[0m\n",
      "\u001b[0;32m~/anaconda3/envs/densegat2/lib/python3.6/site-packages/torch_geometric/nn/conv/gatv2_conv.py\u001b[0m in \u001b[0;36mforward\u001b[0;34m(self, x, edge_index, edge_attr, return_attention_weights)\u001b[0m\n\u001b[1;32m    230\u001b[0m \u001b[0;34m\u001b[0m\u001b[0m\n\u001b[1;32m    231\u001b[0m         \u001b[0;32mif\u001b[0m \u001b[0mself\u001b[0m\u001b[0;34m.\u001b[0m\u001b[0mbias\u001b[0m \u001b[0;32mis\u001b[0m \u001b[0;32mnot\u001b[0m \u001b[0;32mNone\u001b[0m\u001b[0;34m:\u001b[0m\u001b[0;34m\u001b[0m\u001b[0;34m\u001b[0m\u001b[0m\n\u001b[0;32m--> 232\u001b[0;31m             \u001b[0mout\u001b[0m \u001b[0;34m+=\u001b[0m \u001b[0mself\u001b[0m\u001b[0;34m.\u001b[0m\u001b[0mbias\u001b[0m\u001b[0;34m\u001b[0m\u001b[0;34m\u001b[0m\u001b[0m\n\u001b[0m\u001b[1;32m    233\u001b[0m \u001b[0;34m\u001b[0m\u001b[0m\n\u001b[1;32m    234\u001b[0m         \u001b[0;32mif\u001b[0m \u001b[0misinstance\u001b[0m\u001b[0;34m(\u001b[0m\u001b[0mreturn_attention_weights\u001b[0m\u001b[0;34m,\u001b[0m \u001b[0mbool\u001b[0m\u001b[0;34m)\u001b[0m\u001b[0;34m:\u001b[0m\u001b[0;34m\u001b[0m\u001b[0;34m\u001b[0m\u001b[0m\n",
      "\u001b[0;31mKeyboardInterrupt\u001b[0m: "
     ]
    }
   ],
   "source": [
    "device = 'cuda:0'\n",
    "model = model.to(device)\n",
    "model.train()\n",
    "flag = True\n",
    "epochs = 500\n",
    "for i in range(1, 1 + epochs):\n",
    "    if i > 50 and flag:\n",
    "        optimizer = torch.optim.Adam(model.parameters(), lr=0.0001)\n",
    "        flag = False\n",
    "    start_time = time.time()\n",
    "    train_loader = NeighborLoader(train_data, input_nodes = train_num_nodes, num_neighbors=hop, batch_size=1024, shuffle=True)\n",
    "    loss, acc = train()\n",
    "    end_time = time.time()\n",
    "    print('epoch: {:04d}'.format(i),\n",
    "          'loss_train: {:.4f}'.format(loss),\n",
    "          'acc_train: {:.4f}'.format(acc),\n",
    "          'time: {:.4f}s'.format(end_time - start_time))\n",
    "    loss_all.append(loss)"
   ]
  },
  {
   "cell_type": "code",
   "execution_count": 32,
   "id": "5aeedf68",
   "metadata": {},
   "outputs": [],
   "source": [
    "torch.save(model.state_dict(), 'unsw_model')"
   ]
  },
  {
   "cell_type": "code",
   "execution_count": 47,
   "id": "da548261",
   "metadata": {},
   "outputs": [],
   "source": [
    "weight = torch.load('unsw_model', map_location='cpu')"
   ]
  },
  {
   "cell_type": "code",
   "execution_count": null,
   "id": "ec21aa2d",
   "metadata": {},
   "outputs": [],
   "source": [
    "model.load_state_dict(weight)"
   ]
  },
  {
   "cell_type": "code",
   "execution_count": 380,
   "id": "fe80ca09",
   "metadata": {},
   "outputs": [],
   "source": [
    "def get_metrics(y_true, y_pred):\n",
    "    cr = classification_report(y_true, y_pred, output_dict=True)\n",
    "    df = pd.DataFrame(cr).transpose()\n",
    "    cm = confusion_matrix(y_true, y_pred)\n",
    "    print(df)\n",
    "    print(cm)\n",
    "    cm_display = ConfusionMatrixDisplay(cm).plot()\n",
    "    "
   ]
  },
  {
   "cell_type": "code",
   "execution_count": 381,
   "id": "0754b095",
   "metadata": {},
   "outputs": [],
   "source": [
    "device = 'cpu'\n",
    "model = model.to(device)"
   ]
  },
  {
   "cell_type": "code",
   "execution_count": 382,
   "id": "c9abaeeb",
   "metadata": {},
   "outputs": [],
   "source": [
    "y_hat = model(test_data.x.to(device), test_data.edge_index.to(device))\n",
    "y_hat = y_hat.detach().numpy()"
   ]
  },
  {
   "cell_type": "code",
   "execution_count": 383,
   "id": "4ed2b0ce",
   "metadata": {},
   "outputs": [],
   "source": [
    "y_hat = np.argmax(y_hat, -1)\n",
    "test_y = test_data.y.numpy()"
   ]
  },
  {
   "cell_type": "code",
   "execution_count": null,
   "id": "3ac6529d",
   "metadata": {},
   "outputs": [],
   "source": [
    "auc = roc_auc_score(test_y, y_hat, multi_class='ovo')\n",
    "auc"
   ]
  },
  {
   "cell_type": "code",
   "execution_count": 384,
   "id": "d55bdfdf",
   "metadata": {},
   "outputs": [
    {
     "name": "stderr",
     "output_type": "stream",
     "text": [
      "/home/xiaoyujie/anaconda3/envs/densegat2/lib/python3.6/site-packages/sklearn/metrics/_classification.py:1248: UndefinedMetricWarning: Precision and F-score are ill-defined and being set to 0.0 in labels with no predicted samples. Use `zero_division` parameter to control this behavior.\n",
      "  _warn_prf(average, modifier, msg_start, len(result))\n",
      "/home/xiaoyujie/anaconda3/envs/densegat2/lib/python3.6/site-packages/sklearn/metrics/_classification.py:1248: UndefinedMetricWarning: Precision and F-score are ill-defined and being set to 0.0 in labels with no predicted samples. Use `zero_division` parameter to control this behavior.\n",
      "  _warn_prf(average, modifier, msg_start, len(result))\n",
      "/home/xiaoyujie/anaconda3/envs/densegat2/lib/python3.6/site-packages/sklearn/metrics/_classification.py:1248: UndefinedMetricWarning: Precision and F-score are ill-defined and being set to 0.0 in labels with no predicted samples. Use `zero_division` parameter to control this behavior.\n",
      "  _warn_prf(average, modifier, msg_start, len(result))\n"
     ]
    },
    {
     "name": "stdout",
     "output_type": "stream",
     "text": [
      "              precision    recall  f1-score        support\n",
      "0              0.996556  0.998204  0.997379  688567.000000\n",
      "1              0.904232  0.763432  0.827889    3834.000000\n",
      "2              0.764511  0.830745  0.796253    9465.000000\n",
      "3              0.164778  0.290323  0.210234     651.000000\n",
      "4              0.777077  0.828627  0.802025    6693.000000\n",
      "5              0.931632  0.822866  0.873878    4968.000000\n",
      "6              0.416370  0.201956  0.271988    1738.000000\n",
      "7              0.000000  0.000000  0.000000     690.000000\n",
      "8              0.567308  0.413551  0.478378     428.000000\n",
      "9              0.689655  0.408163  0.512821      49.000000\n",
      "accuracy       0.988018  0.988018  0.988018       0.988018\n",
      "macro avg      0.621212  0.555787  0.577084  717083.000000\n",
      "weighted avg   0.987104  0.988018  0.987364  717083.000000\n",
      "[[687330      2    394      1    790     17     27      0      6      0]\n",
      " [   232   2927    407    158     38      8     43      0     21      0]\n",
      " [   583    184   7863    167    318    160    153      0     29      8]\n",
      " [   143      8    195    189     42      7     61      0      6      0]\n",
      " [   556     46    247    165   5546     24     71      0     38      0]\n",
      " [   217     12    295    173     88   4088     79      0     15      1]\n",
      " [   319     28    683    164    106     76    351      0     11      0]\n",
      " [   297      3    176    130     19      2     55      0      8      0]\n",
      " [    28     27      0      0    190      3      3      0    177      0]\n",
      " [     0      0     25      0      0      3      0      0      1     20]]\n"
     ]
    },
    {
     "data": {
      "image/png": "[encoded data removed]",
      "text/plain": [
       "<Figure size 432x288 with 2 Axes>"
      ]
     },
     "metadata": {
      "needs_background": "light"
     },
     "output_type": "display_data"
    }
   ],
   "source": [
    "get_metrics(test_y, y_hat)"
   ]
  },
  {
   "cell_type": "code",
   "execution_count": 327,
   "id": "44a69a33",
   "metadata": {},
   "outputs": [
    {
     "name": "stderr",
     "output_type": "stream",
     "text": [
      "/home/xiaoyujie/anaconda3/envs/densegat2/lib/python3.6/site-packages/sklearn/metrics/_classification.py:1248: UndefinedMetricWarning: Precision and F-score are ill-defined and being set to 0.0 in labels with no predicted samples. Use `zero_division` parameter to control this behavior.\n",
      "  _warn_prf(average, modifier, msg_start, len(result))\n",
      "/home/xiaoyujie/anaconda3/envs/densegat2/lib/python3.6/site-packages/sklearn/metrics/_classification.py:1248: UndefinedMetricWarning: Precision and F-score are ill-defined and being set to 0.0 in labels with no predicted samples. Use `zero_division` parameter to control this behavior.\n",
      "  _warn_prf(average, modifier, msg_start, len(result))\n",
      "/home/xiaoyujie/anaconda3/envs/densegat2/lib/python3.6/site-packages/sklearn/metrics/_classification.py:1248: UndefinedMetricWarning: Precision and F-score are ill-defined and being set to 0.0 in labels with no predicted samples. Use `zero_division` parameter to control this behavior.\n",
      "  _warn_prf(average, modifier, msg_start, len(result))\n"
     ]
    },
    {
     "name": "stdout",
     "output_type": "stream",
     "text": [
      "              precision    recall  f1-score        support\n",
      "0              0.991702  0.995227  0.993461  665630.000000\n",
      "1              0.623030  0.716125  0.666342   13358.000000\n",
      "2              0.755562  0.655624  0.702054    4196.000000\n",
      "3              0.290300  0.256217  0.272196    4906.000000\n",
      "4              0.992201  0.980060  0.986093   64644.000000\n",
      "5              0.448276  0.286976  0.349933     453.000000\n",
      "6              0.457823  0.375309  0.412480    7274.000000\n",
      "7              0.000000  0.000000  0.000000      52.000000\n",
      "8              0.130742  0.105866  0.116996     699.000000\n",
      "9              0.181818  0.004981  0.009697     803.000000\n",
      "accuracy       0.974154  0.974154  0.974154       0.974154\n",
      "macro avg      0.487145  0.437639  0.450925  762015.000000\n",
      "weighted avg   0.972335  0.974154  0.973017  762015.000000\n",
      "[[662453    397     86    489     61     20   2124      0      0      0]\n",
      " [   764   9566    437   1600    285     59    488      0    156      3]\n",
      " [   512    580   2751    238     12      9     93      0      1      0]\n",
      " [   257   2843    107   1257    113     21    215      0     91      2]\n",
      " [   119    759     39    169  63355     17    180      0      1      5]\n",
      " [   143     15     84      0      4    130     77      0      0      0]\n",
      " [  3529    486     80    230     10     32   2730      0    170      7]\n",
      " [     3     33      2      0      8      0      6      0      0      0]\n",
      " [    40    334     49    166      4      2     29      0     74      1]\n",
      " [   176    341      6    181      1      0     21      0     73      4]]\n"
     ]
    },
    {
     "data": {
      "image/png": "[encoded data removed]",
      "text/plain": [
       "<Figure size 432x288 with 2 Axes>"
      ]
     },
     "metadata": {
      "needs_background": "light"
     },
     "output_type": "display_data"
    }
   ],
   "source": [
    "get_metrics(test_y, y_hat)"
   ]
  },
  {
   "cell_type": "code",
   "execution_count": null,
   "id": "e14ba1a4",
   "metadata": {},
   "outputs": [],
   "source": []
  },
  {
   "cell_type": "code",
   "execution_count": null,
   "id": "d8e1739c",
   "metadata": {},
   "outputs": [],
   "source": []
  },
  {
   "cell_type": "code",
   "execution_count": null,
   "id": "a0da404c",
   "metadata": {},
   "outputs": [],
   "source": []
  },
  {
   "cell_type": "code",
   "execution_count": null,
   "id": "ed2ddce5",
   "metadata": {},
   "outputs": [],
   "source": []
  },
  {
   "cell_type": "code",
   "execution_count": null,
   "id": "380db0e9",
   "metadata": {},
   "outputs": [],
   "source": []
  },
  {
   "cell_type": "code",
   "execution_count": null,
   "id": "6e189e68",
   "metadata": {},
   "outputs": [],
   "source": []
  },
  {
   "cell_type": "code",
   "execution_count": null,
   "id": "fa7b68b7",
   "metadata": {},
   "outputs": [],
   "source": []
  },
  {
   "cell_type": "code",
   "execution_count": null,
   "id": "32104d73",
   "metadata": {},
   "outputs": [],
   "source": []
  },
  {
   "cell_type": "code",
   "execution_count": null,
   "id": "5b129bde",
   "metadata": {},
   "outputs": [],
   "source": []
  },
  {
   "cell_type": "code",
   "execution_count": 157,
   "id": "055c0560",
   "metadata": {},
   "outputs": [
    {
     "name": "stdout",
     "output_type": "stream",
     "text": [
      "              precision    recall  f1-score        support\n",
      "0              0.993463  0.998116  0.995784  688567.000000\n",
      "1              0.864009  0.768910  0.813690    3834.000000\n",
      "2              0.823272  0.815531  0.819383    9465.000000\n",
      "3              0.231818  0.078341  0.117107     651.000000\n",
      "4              0.789594  0.823099  0.805999    6693.000000\n",
      "5              0.939882  0.799316  0.863918    4968.000000\n",
      "6              0.399160  0.163982  0.232463    1738.000000\n",
      "7              0.666667  0.002899  0.005772     690.000000\n",
      "8              0.578462  0.439252  0.499336     428.000000\n",
      "9              0.717949  0.571429  0.636364      49.000000\n",
      "accuracy       0.987293  0.987293  0.987293       0.987293\n",
      "macro avg      0.700428  0.546087  0.578982  717083.000000\n",
      "weighted avg   0.985538  0.987293  0.985876  717083.000000\n",
      "[[687270      4    379      1    811     16     79      1      6      0]\n",
      " [   468   2948    306     32     23      6     40      0     11      0]\n",
      " [   940    205   7719     27    268    125    139      0     32     10]\n",
      " [   457     46     39     51     19      3     31      0      5      0]\n",
      " [   871     51    120     24   5509     25     47      0     46      0]\n",
      " [   473     45    271     26     85   3971     82      0     14      1]\n",
      " [   680     59    512     31     84     73    285      0     14      0]\n",
      " [   597     37     10     27      1      0      8      2      8      0]\n",
      " [    36     17      3      1    177      3      3      0    188      0]\n",
      " [     0      0     17      0      0      3      0      0      1     28]]\n"
     ]
    }
   ],
   "source": [
    "get_metrics(test_y, y_hat)"
   ]
  },
  {
   "cell_type": "code",
   "execution_count": null,
   "id": "7f665e99",
   "metadata": {},
   "outputs": [],
   "source": []
  },
  {
   "cell_type": "code",
   "execution_count": 149,
   "id": "d7ca6c79",
   "metadata": {},
   "outputs": [
    {
     "name": "stderr",
     "output_type": "stream",
     "text": [
      "/home/xiaoyujie/anaconda3/envs/densegat2/lib/python3.6/site-packages/sklearn/metrics/_classification.py:1248: UndefinedMetricWarning: Precision and F-score are ill-defined and being set to 0.0 in labels with no predicted samples. Use `zero_division` parameter to control this behavior.\n",
      "  _warn_prf(average, modifier, msg_start, len(result))\n",
      "/home/xiaoyujie/anaconda3/envs/densegat2/lib/python3.6/site-packages/sklearn/metrics/_classification.py:1248: UndefinedMetricWarning: Precision and F-score are ill-defined and being set to 0.0 in labels with no predicted samples. Use `zero_division` parameter to control this behavior.\n",
      "  _warn_prf(average, modifier, msg_start, len(result))\n",
      "/home/xiaoyujie/anaconda3/envs/densegat2/lib/python3.6/site-packages/sklearn/metrics/_classification.py:1248: UndefinedMetricWarning: Precision and F-score are ill-defined and being set to 0.0 in labels with no predicted samples. Use `zero_division` parameter to control this behavior.\n",
      "  _warn_prf(average, modifier, msg_start, len(result))\n"
     ]
    },
    {
     "name": "stdout",
     "output_type": "stream",
     "text": [
      "              precision    recall  f1-score        support\n",
      "0              0.997366  0.997543  0.997454  688567.000000\n",
      "1              0.472045  0.924883  0.625066    3834.000000\n",
      "2              0.834024  0.701849  0.762249    9465.000000\n",
      "3              0.000000  0.000000  0.000000     651.000000\n",
      "4              0.642975  0.817720  0.719895    6693.000000\n",
      "5              0.918298  0.764694  0.834487    4968.000000\n",
      "6              0.312500  0.017261  0.032715    1738.000000\n",
      "7              0.000000  0.000000  0.000000     690.000000\n",
      "8              0.619048  0.242991  0.348993     428.000000\n",
      "9              1.000000  0.061224  0.115385      49.000000\n",
      "accuracy       0.985204  0.985204  0.985204       0.985204\n",
      "macro avg      0.579626  0.452816  0.443624  717083.000000\n",
      "weighted avg   0.984795  0.985204  0.983988  717083.000000\n",
      "[[686875     59    350      0   1249     17     14      0      3      0]\n",
      " [   103   3546    149      0     28      4      4      0      0      0]\n",
      " [   657   1007   6643      0    872    226     44      0     16      0]\n",
      " [   106    451     23      0     65      6      0      0      0      0]\n",
      " [   327    769     77      0   5473     14      1      1     31      0]\n",
      " [   115    460    229      0    353   3799      2      0     10      0]\n",
      " [   307    613    456      0    260     68     30      0      4      0]\n",
      " [   180    491      1      0     18      0      0      0      0      0]\n",
      " [    19    116      0      0    187      1      1      0    104      0]\n",
      " [     0      0     37      0      7      2      0      0      0      3]]\n"
     ]
    }
   ],
   "source": [
    "get_metrics(test_y, y_hat)"
   ]
  },
  {
   "cell_type": "code",
   "execution_count": 134,
   "id": "192420a1",
   "metadata": {},
   "outputs": [
    {
     "name": "stdout",
     "output_type": "stream",
     "text": [
      "              precision    recall  f1-score        support\n",
      "0              0.997213  0.996947  0.997080  300000.000000\n",
      "1              0.893645  0.718832  0.796762    3834.000000\n",
      "2              0.630130  0.882515  0.735267    9465.000000\n",
      "3              0.600000  0.009217  0.018154     651.000000\n",
      "4              0.756468  0.834454  0.793549    6693.000000\n",
      "5              0.949678  0.771135  0.851144    4968.000000\n",
      "6              0.235294  0.082854  0.122553    1738.000000\n",
      "7              0.000000  0.000000  0.000000     690.000000\n",
      "8              0.582090  0.273364  0.372019     428.000000\n",
      "9              0.625000  0.102041  0.175439      49.000000\n",
      "accuracy       0.973715  0.973715  0.973715       0.973715\n",
      "macro avg      0.626952  0.467136  0.486197  328516.000000\n",
      "weighted avg   0.972295  0.973715  0.971247  328516.000000\n",
      "[[299084      9    291      0    600     13      2      1      0      0]\n",
      " [    18   2756    943      0     29      5     76      4      3      0]\n",
      " [   296     75   8353      0    537    105     77      0     19      3]\n",
      " [    31     19    459      6     37      7     87      0      5      0]\n",
      " [   176     90    727      0   5585      7     67      3     38      0]\n",
      " [    32     23    793      0    189   3831     87      0     13      0]\n",
      " [   166     35   1152      4    172     60    144      0      5      0]\n",
      " [   102     12    498      0      5      0     72      0      1      0]\n",
      " [    15     65      2      0    223      6      0      0    117      0]\n",
      " [     0      0     38      0      6      0      0      0      0      5]]\n"
     ]
    }
   ],
   "source": [
    "get_metrics(test_y, y_hat)"
   ]
  },
  {
   "cell_type": "code",
   "execution_count": 100,
   "id": "84235d27",
   "metadata": {},
   "outputs": [
    {
     "name": "stdout",
     "output_type": "stream",
     "text": [
      "              precision    recall  f1-score        support\n",
      "0              0.998497  0.996327  0.997411  150000.000000\n",
      "1              0.720443  0.797861  0.757178    3834.000000\n",
      "2              0.716841  0.859377  0.781664    9465.000000\n",
      "3              0.647727  0.087558  0.154263     651.000000\n",
      "4              0.834245  0.866278  0.849960    6693.000000\n",
      "5              0.925586  0.811192  0.864621    4968.000000\n",
      "6              0.287828  0.246260  0.265426    1738.000000\n",
      "7              0.666667  0.002899  0.005772     690.000000\n",
      "8              0.581325  0.450935  0.507895     428.000000\n",
      "9              0.628571  0.448980  0.523810      49.000000\n",
      "accuracy       0.958861  0.958861  0.958861       0.958861\n",
      "macro avg      0.700773  0.556766  0.570800  178516.000000\n",
      "weighted avg   0.958822  0.958861  0.956251  178516.000000\n",
      "[[149449     11    235      1    275     16      9      1      3      0]\n",
      " [    11   3059    549      0     13     13    159      0     30      0]\n",
      " [    76    350   8134      7    441    160    266      0     19     12]\n",
      " [     7    160    278     57     24     12    113      0      0      0]\n",
      " [    50    193    407      1   5798     35    153      0     56      0]\n",
      " [    16    155    455     10     88   4030    202      0     11      1]\n",
      " [    38    182    890     10     99     72    428      0     19      0]\n",
      " [    25    124    373      0      1     11    154      2      0      0]\n",
      " [     2     12      6      0    210      3      2      0    193      0]\n",
      " [     0      0     20      2      1      2      1      0      1     22]]\n"
     ]
    }
   ],
   "source": [
    "get_metrics(test_y, y_hat)"
   ]
  },
  {
   "cell_type": "code",
   "execution_count": null,
   "id": "97cc075f",
   "metadata": {},
   "outputs": [],
   "source": []
  },
  {
   "cell_type": "code",
   "execution_count": 93,
   "id": "e1f34438",
   "metadata": {},
   "outputs": [
    {
     "name": "stdout",
     "output_type": "stream",
     "text": [
      "              precision    recall  f1-score        support\n",
      "0              0.974884  0.996273  0.985463  150000.000000\n",
      "1              0.897554  0.765519  0.826295    3834.000000\n",
      "2              0.795970  0.830534  0.812885    9465.000000\n",
      "3              0.364486  0.059908  0.102902     651.000000\n",
      "4              0.817106  0.866428  0.841044    6693.000000\n",
      "5              0.962491  0.774758  0.858481    4968.000000\n",
      "6              0.445672  0.139241  0.212188    1738.000000\n",
      "7              0.136364  0.004348  0.008427     690.000000\n",
      "8              0.575251  0.401869  0.473177     428.000000\n",
      "9              0.583333  0.142857  0.229508      49.000000\n",
      "accuracy       0.954245  0.954245  0.954245       0.954245\n",
      "macro avg      0.655311  0.498173  0.535037  178516.000000\n",
      "weighted avg   0.945792  0.954245  0.947987  178516.000000\n",
      "[[149441      1    151     31    319      6     48      1      1      1]\n",
      " [   480   2935    337      1     17      6     30      0     28      0]\n",
      " [   711    201   7861      8    449     83    120     12     17      3]\n",
      " [   469      4     98     39     30      3      8      0      0      0]\n",
      " [   541     50    216      2   5799      4     32      0     49      0]\n",
      " [   482     18    392      9    154   3849     50      1     12      1]\n",
      " [   600     28    655     16    131     42    242      5     19      0]\n",
      " [   564      0    108      0      4      1     10      3      0      0]\n",
      " [     3     33     21      1    193      3      2      0    172      0]\n",
      " [     0      0     37      0      1      2      1      0      1      7]]\n"
     ]
    }
   ],
   "source": [
    "get_metrics(test_y, y_hat)"
   ]
  },
  {
   "cell_type": "raw",
   "id": "66dd6291",
   "metadata": {},
   "source": [
    "LABELS_10 = {'Benign': 0,\n",
    "         'Reconnaissance': 1,\n",
    "         'Exploits': 2,\n",
    "         'Backdoor': 3,\n",
    "         'Fuzzers': 4,\n",
    "         'Generic': 5,\n",
    "         'DoS': 6,\n",
    "         'Analysis': 7,\n",
    "         'Shellcode': 8,\n",
    "         'Worms': 9}"
   ]
  },
  {
   "cell_type": "code",
   "execution_count": 88,
   "id": "f0da951c",
   "metadata": {},
   "outputs": [
    {
     "name": "stderr",
     "output_type": "stream",
     "text": [
      "/home/xiaoyujie/anaconda3/envs/densegat2/lib/python3.6/site-packages/sklearn/metrics/_classification.py:1248: UndefinedMetricWarning: Precision and F-score are ill-defined and being set to 0.0 in labels with no predicted samples. Use `zero_division` parameter to control this behavior.\n",
      "  _warn_prf(average, modifier, msg_start, len(result))\n",
      "/home/xiaoyujie/anaconda3/envs/densegat2/lib/python3.6/site-packages/sklearn/metrics/_classification.py:1248: UndefinedMetricWarning: Precision and F-score are ill-defined and being set to 0.0 in labels with no predicted samples. Use `zero_division` parameter to control this behavior.\n",
      "  _warn_prf(average, modifier, msg_start, len(result))\n",
      "/home/xiaoyujie/anaconda3/envs/densegat2/lib/python3.6/site-packages/sklearn/metrics/_classification.py:1248: UndefinedMetricWarning: Precision and F-score are ill-defined and being set to 0.0 in labels with no predicted samples. Use `zero_division` parameter to control this behavior.\n",
      "  _warn_prf(average, modifier, msg_start, len(result))\n"
     ]
    },
    {
     "name": "stdout",
     "output_type": "stream",
     "text": [
      "              precision    recall  f1-score        support\n",
      "0              0.981875  0.995333  0.988558  150000.000000\n",
      "1              0.743054  0.704486  0.723256    3834.000000\n",
      "2              0.743124  0.850608  0.793241    9465.000000\n",
      "3              0.000000  0.000000  0.000000     651.000000\n",
      "4              0.739091  0.855371  0.792991    6693.000000\n",
      "5              0.941133  0.762681  0.842562    4968.000000\n",
      "6              0.395349  0.009781  0.019090    1738.000000\n",
      "7              0.000000  0.000000  0.000000     690.000000\n",
      "8              0.641618  0.259346  0.369384     428.000000\n",
      "9              0.000000  0.000000  0.000000      49.000000\n",
      "accuracy       0.950581  0.950581  0.950581       0.950581\n",
      "macro avg      0.518524  0.443761  0.452908  178516.000000\n",
      "weighted avg   0.939679  0.950581  0.942489  178516.000000\n",
      "[[149300      1    313      0    381      4      1      0      0      0]\n",
      " [   366   2701    652      1    104      7      3      0      0      0]\n",
      " [   492    147   8051      1    617    141      7      0      9      0]\n",
      " [   351    120     63      0    112      3      2      0      0      0]\n",
      " [   397    185    336      0   5725     13      3      0     34      0]\n",
      " [   346    132    416      0    263   3789     10      0     12      0]\n",
      " [   437    142    790      1    279     65     17      0      7      0]\n",
      " [   367    138    159      0     25      1      0      0      0      0]\n",
      " [     0     69      6      0    239      3      0      0    111      0]\n",
      " [     0      0     48      0      1      0      0      0      0      0]]\n"
     ]
    }
   ],
   "source": [
    "get_metrics(test_y, y_hat)"
   ]
  },
  {
   "cell_type": "code",
   "execution_count": 69,
   "id": "90d4617d",
   "metadata": {},
   "outputs": [
    {
     "name": "stdout",
     "output_type": "stream",
     "text": [
      "              precision    recall  f1-score       support\n",
      "0              0.993643  0.995200  0.994421  30000.000000\n",
      "1              0.861059  0.475222  0.612437   3834.000000\n",
      "2              0.728238  0.883888  0.798549   9465.000000\n",
      "3              0.394161  0.082949  0.137056    651.000000\n",
      "4              0.849767  0.873002  0.861228   6693.000000\n",
      "5              0.668146  0.848631  0.747650   4968.000000\n",
      "6              0.401163  0.198504  0.265589   1738.000000\n",
      "7              0.170659  0.082609  0.111328    690.000000\n",
      "8              0.668790  0.490654  0.566038    428.000000\n",
      "9              0.764706  0.530612  0.626506     49.000000\n",
      "accuracy       0.868053  0.868053  0.868053      0.868053\n",
      "macro avg      0.650033  0.546127  0.572080  58516.000000\n",
      "weighted avg   0.861397  0.868053  0.856485  58516.000000\n",
      "[[29856     2    49     1    58     2    26     6     0     0]\n",
      " [   30  1822   522     7    74  1258    59    37    25     0]\n",
      " [   23   191  8366    17   316   280   181    59    24     8]\n",
      " [   20    15   333    54    84    51    53    41     0     0]\n",
      " [   35    32   445    15  5843   174    74    44    31     0]\n",
      " [   35     9   444    15   120  4216    79    40    10     0]\n",
      " [   27    30   932    18   118   206   345    50    12     0]\n",
      " [   21     4   372    10    70   114    42    57     0     0]\n",
      " [    0    11     9     0   193     5     0     0   210     0]\n",
      " [    0     0    16     0     0     4     1     0     2    26]]\n"
     ]
    }
   ],
   "source": [
    "get_metrics(test_y, y_hat)"
   ]
  },
  {
   "cell_type": "code",
   "execution_count": null,
   "id": "9666d1bf",
   "metadata": {},
   "outputs": [],
   "source": []
  },
  {
   "cell_type": "code",
   "execution_count": null,
   "id": "afacbbca",
   "metadata": {},
   "outputs": [],
   "source": []
  },
  {
   "cell_type": "code",
   "execution_count": null,
   "id": "83527524",
   "metadata": {},
   "outputs": [],
   "source": []
  },
  {
   "cell_type": "code",
   "execution_count": null,
   "id": "9131bbb2",
   "metadata": {},
   "outputs": [],
   "source": []
  },
  {
   "cell_type": "code",
   "execution_count": 31,
   "id": "cb923c53",
   "metadata": {},
   "outputs": [
    {
     "name": "stdout",
     "output_type": "stream",
     "text": [
      "              precision    recall  f1-score       support\n",
      "0              0.989006  0.995533  0.992259  30000.000000\n",
      "1              0.906751  0.781168  0.839288   3834.000000\n",
      "2              0.697924  0.887797  0.781493   9465.000000\n",
      "3              0.298507  0.092166  0.140845    651.000000\n",
      "4              0.878060  0.868221  0.873112   6693.000000\n",
      "5              0.859992  0.833333  0.846453   4968.000000\n",
      "6              0.428571  0.177791  0.251322   1738.000000\n",
      "7              0.142857  0.040580  0.063205    690.000000\n",
      "8              0.624679  0.567757  0.594859    428.000000\n",
      "9              0.722222  0.530612  0.611765     49.000000\n",
      "accuracy       0.886612  0.886612  0.886612      0.886612\n",
      "macro avg      0.654857  0.577496  0.599460  58516.000000\n",
      "weighted avg   0.875697  0.886612  0.876479  58516.000000\n",
      "[[29866     1    53     0    62     1    15     1     1     0]\n",
      " [   52  2995   572    18    27    81    40    24    25     0]\n",
      " [   48   222  8403    21   320   235   136    36    34    10]\n",
      " [   41     9   420    60    37     7    52    25     0     0]\n",
      " [   59    31   536    30  5811   109    36    25    56     0]\n",
      " [   53    11   531    22    86  4140    84    28    13     0]\n",
      " [   55    25  1037    27    84   157   309    29    15     0]\n",
      " [   22     2   469    23    22    77    47    28     0     0]\n",
      " [    2     7     3     0   169     3     1     0   243     0]\n",
      " [    0     0    16     0     0     4     1     0     2    26]]\n"
     ]
    }
   ],
   "source": [
    "get_metrics(test_y, y_hat)"
   ]
  },
  {
   "cell_type": "code",
   "execution_count": null,
   "id": "84eeea82",
   "metadata": {},
   "outputs": [],
   "source": []
  },
  {
   "cell_type": "code",
   "execution_count": 22,
   "id": "1038ec9e",
   "metadata": {},
   "outputs": [],
   "source": [
    "all_data = torch.load(r'/home/xiaoyujie/densegat/mydata/unswnb15_directed_lg_data_2')"
   ]
  },
  {
   "cell_type": "code",
   "execution_count": 49,
   "id": "3ba6d0ff",
   "metadata": {},
   "outputs": [],
   "source": [
    "all_data_label = all_data.y.numpy()"
   ]
  },
  {
   "cell_type": "code",
   "execution_count": 109,
   "id": "eecc3fed",
   "metadata": {},
   "outputs": [],
   "source": [
    "all_data_label[all_data_label != 0] = 1\n",
    "all_data.y = torch.LongTensor(all_data_label)"
   ]
  },
  {
   "cell_type": "code",
   "execution_count": 24,
   "id": "25f5f10e",
   "metadata": {},
   "outputs": [
    {
     "data": {
      "text/plain": [
       "Data(x=[421283, 41], edge_index=[2, 49827], y=[421283], num_nodes=421283, train_mask=[358090], test_mask=[63193])"
      ]
     },
     "execution_count": 24,
     "metadata": {},
     "output_type": "execute_result"
    }
   ],
   "source": [
    "all_data"
   ]
  },
  {
   "cell_type": "code",
   "execution_count": 59,
   "id": "ade40f5e",
   "metadata": {},
   "outputs": [],
   "source": [
    "subgraph_loader = NeighborLoader(all_data, input_nodes=all_data.test_mask,\n",
    "                                 num_neighbors=hop, batch_size=1024, shuffle=False)"
   ]
  },
  {
   "cell_type": "code",
   "execution_count": 16,
   "id": "30bd95c4",
   "metadata": {},
   "outputs": [],
   "source": [
    "device = 'cpu'"
   ]
  },
  {
   "cell_type": "code",
   "execution_count": 52,
   "id": "b589de5e",
   "metadata": {},
   "outputs": [],
   "source": [
    "train_data = train_data.to(device)\n",
    "test_data = test_data.to(device)"
   ]
  },
  {
   "cell_type": "code",
   "execution_count": 53,
   "id": "1f2184fa",
   "metadata": {},
   "outputs": [
    {
     "data": {
      "text/plain": [
       "Counter({2: 2098,\n",
       "         1: 6679,\n",
       "         4: 32322,\n",
       "         3: 2453,\n",
       "         7: 26,\n",
       "         6: 3637,\n",
       "         0: 15000,\n",
       "         8: 349,\n",
       "         5: 227,\n",
       "         9: 402})"
      ]
     },
     "execution_count": 53,
     "metadata": {},
     "output_type": "execute_result"
    }
   ],
   "source": [
    "Counter(test_data.y.numpy())"
   ]
  },
  {
   "cell_type": "code",
   "execution_count": 54,
   "id": "0b661a37",
   "metadata": {},
   "outputs": [
    {
     "data": {
      "text/plain": [
       "Counter({2: 2098,\n",
       "         1: 6679,\n",
       "         4: 32322,\n",
       "         3: 2453,\n",
       "         7: 26,\n",
       "         6: 3637,\n",
       "         0: 15000,\n",
       "         8: 349,\n",
       "         5: 227,\n",
       "         9: 402})"
      ]
     },
     "execution_count": 54,
     "metadata": {},
     "output_type": "execute_result"
    }
   ],
   "source": [
    "Counter(all_data.y[all_data.test_mask].numpy())"
   ]
  },
  {
   "cell_type": "code",
   "execution_count": 17,
   "id": "fc91dbc5",
   "metadata": {},
   "outputs": [],
   "source": [
    "model = model.to(device)"
   ]
  },
  {
   "cell_type": "code",
   "execution_count": null,
   "id": "edfe12a1",
   "metadata": {},
   "outputs": [],
   "source": []
  },
  {
   "cell_type": "code",
   "execution_count": 60,
   "id": "602eb21c",
   "metadata": {},
   "outputs": [],
   "source": [
    "all_data = all_data.to(device)"
   ]
  },
  {
   "cell_type": "code",
   "execution_count": 61,
   "id": "359ccf73",
   "metadata": {},
   "outputs": [
    {
     "name": "stderr",
     "output_type": "stream",
     "text": [
      "100%|██████████| 62/62 [00:03<00:00, 16.13it/s]\n"
     ]
    },
    {
     "name": "stdout",
     "output_type": "stream",
     "text": [
      "[2 1 1 ... 6 1 4]\n",
      "tensor([2, 1, 1,  ..., 6, 3, 4])\n",
      "              precision    recall  f1-score   support\n",
      "\n",
      "           0     0.9973    0.9883    0.9928     15000\n",
      "           1     0.6075    0.8560    0.7106      6679\n",
      "           2     0.8806    0.7526    0.8116      2098\n",
      "           3     0.3515    0.1553    0.2154      2453\n",
      "           4     0.9938    0.9843    0.9891     32322\n",
      "           5     0.5766    0.5639    0.5702       227\n",
      "           6     0.8412    0.8447    0.8429      3637\n",
      "           7     0.1579    0.1154    0.1333        26\n",
      "           8     0.5946    0.0630    0.1140       349\n",
      "           9     0.5816    0.1418    0.2280       402\n",
      "\n",
      "    accuracy                         0.9115     63193\n",
      "   macro avg     0.6583    0.5465    0.5608     63193\n",
      "weighted avg     0.9097    0.9115    0.9047     63193\n",
      "\n",
      "[[14824    15     3     3     1     2   141     0     0    11]\n",
      " [   12  5717   134   429   114    32   202    14     4    21]\n",
      " [    0   411  1579    72     1     7    26     0     2     0]\n",
      " [    3  1926    14   381    43    19    64     0     2     1]\n",
      " [    2   376     5    61 31816     9    45     0     4     4]\n",
      " [    1    23    20    10     7   128    37     0     1     0]\n",
      " [   16   407    30    58    25    23  3072     0     2     4]\n",
      " [    1    14     1     0     2     1     4     3     0     0]\n",
      " [    0   252     5    34     2     1    31     2    22     0]\n",
      " [    5   270     2    36     2     0    30     0     0    57]]\n"
     ]
    }
   ],
   "source": [
    "inferrence(model, subgraph_loader)"
   ]
  },
  {
   "cell_type": "code",
   "execution_count": 57,
   "id": "44f8d8bf",
   "metadata": {},
   "outputs": [
    {
     "name": "stderr",
     "output_type": "stream",
     "text": [
      "100%|██████████| 62/62 [00:09<00:00,  6.32it/s]\n"
     ]
    },
    {
     "name": "stdout",
     "output_type": "stream",
     "text": [
      "[5 1 1 ... 6 3 4]\n",
      "tensor([2, 1, 1,  ..., 6, 3, 4])\n",
      "              precision    recall  f1-score   support\n",
      "\n",
      "           0     0.9966    0.9875    0.9921     15000\n",
      "           1     0.5970    0.8266    0.6933      6679\n",
      "           2     0.8023    0.4256    0.5562      2098\n",
      "           3     0.3226    0.1916    0.2404      2453\n",
      "           4     0.9924    0.9841    0.9882     32322\n",
      "           5     0.1806    0.6300    0.2807       227\n",
      "           6     0.8237    0.8001    0.8117      3637\n",
      "           7     0.1905    0.1538    0.1702        26\n",
      "           8     0.5385    0.0602    0.1082       349\n",
      "           9     0.6164    0.1119    0.1895       402\n",
      "\n",
      "    accuracy                         0.8961     63193\n",
      "   macro avg     0.6060    0.5172    0.5031     63193\n",
      "weighted avg     0.9014    0.8961    0.8916     63193\n",
      "\n",
      "[[14813    27     1     4     1     4   141     0     0     9]\n",
      " [   12  5521   160   579   142    39   193    16     5    12]\n",
      " [    6   430   893   104    17   520   126     0     2     0]\n",
      " [    2  1847    13   470    46    21    52     0     1     1]\n",
      " [    2   366     6    79 31809    12    40     0     4     4]\n",
      " [    0    26    10    13     4   143    30     0     1     0]\n",
      " [   20   484    24   117    26    49  2910     0     5     2]\n",
      " [    1    14     1     0     3     1     2     4     0     0]\n",
      " [    0   244     4    50     4     3    22     1    21     0]\n",
      " [    7   289     1    41     2     0    17     0     0    45]]\n"
     ]
    }
   ],
   "source": [
    "inferrence(model, subgraph_loader)"
   ]
  },
  {
   "cell_type": "code",
   "execution_count": 118,
   "id": "8dd0d2c5",
   "metadata": {},
   "outputs": [
    {
     "name": "stderr",
     "output_type": "stream",
     "text": [
      "100%|██████████| 31/31 [00:01<00:00, 16.88it/s]\n"
     ]
    },
    {
     "name": "stdout",
     "output_type": "stream",
     "text": [
      "[1 0 0 ... 1 1 1]\n",
      "tensor([1, 0, 0,  ..., 1, 1, 1])\n",
      "              precision    recall  f1-score   support\n",
      "\n",
      "           0     0.9995    0.9840    0.9917      7500\n",
      "           1     0.9949    0.9998    0.9974     23371\n",
      "\n",
      "    accuracy                         0.9960     30871\n",
      "   macro avg     0.9972    0.9919    0.9945     30871\n",
      "weighted avg     0.9960    0.9960    0.9960     30871\n",
      "\n",
      "[[ 7380   120]\n",
      " [    4 23367]]\n"
     ]
    }
   ],
   "source": [
    "inferrence(model, subgraph_loader)"
   ]
  },
  {
   "cell_type": "code",
   "execution_count": null,
   "id": "4ca1f004",
   "metadata": {},
   "outputs": [],
   "source": []
  },
  {
   "cell_type": "code",
   "execution_count": null,
   "id": "990ab479",
   "metadata": {},
   "outputs": [],
   "source": []
  },
  {
   "cell_type": "code",
   "execution_count": null,
   "id": "75eee73d",
   "metadata": {},
   "outputs": [],
   "source": []
  },
  {
   "cell_type": "code",
   "execution_count": 42,
   "id": "112d5d77",
   "metadata": {},
   "outputs": [
    {
     "name": "stderr",
     "output_type": "stream",
     "text": [
      "100%|██████████| 18/18 [00:00<00:00, 33.60it/s]"
     ]
    },
    {
     "name": "stdout",
     "output_type": "stream",
     "text": [
      "[ 0  7  0 ...  0 10  6]\n",
      "tensor([ 0,  8,  0,  ...,  0, 10,  6])\n",
      "              precision    recall  f1-score   support\n",
      "\n",
      "           0     0.8783    0.9380    0.9071      4030\n",
      "           1     0.9895    0.9842    0.9868      2020\n",
      "           2     0.9661    0.9627    0.9644      2011\n",
      "           3     0.9796    0.9529    0.9660       403\n",
      "           4     1.0000    0.2500    0.4000         8\n",
      "           5     0.9557    0.9702    0.9629      1645\n",
      "           6     0.8966    0.9138    0.9051      1148\n",
      "           7     0.9144    0.9017    0.9080      1149\n",
      "           8     0.9676    0.8519    0.9061      1155\n",
      "           9     0.9708    0.9239    0.9467      1905\n",
      "          10     0.9908    0.9710    0.9808      1997\n",
      "\n",
      "    accuracy                         0.9418     17471\n",
      "   macro avg     0.9554    0.8746    0.8940     17471\n",
      "weighted avg     0.9433    0.9418    0.9419     17471\n",
      "\n",
      "[[3780    2   63    7    0   46  106    1    1   21    3]\n",
      " [  10 1988    0    0    0    0    0    0    0   22    0]\n",
      " [  68    2 1936    0    0    0    0    4    0    1    0]\n",
      " [  19    0    0  384    0    0    0    0    0    0    0]\n",
      " [   6    0    0    0    2    0    0    0    0    0    0]\n",
      " [  26    0    2    1    0 1596    2   14    0    4    0]\n",
      " [  95    0    0    0    0    2 1049    0    1    0    1]\n",
      " [  51    0    1    0    0   26    1 1036   30    0    4]\n",
      " [  82    0    1    0    0    0    9   76  984    0    3]\n",
      " [ 120   17    1    0    0    0    0    0    0 1760    7]\n",
      " [  47    0    0    0    0    0    3    2    1    5 1939]]\n"
     ]
    },
    {
     "name": "stderr",
     "output_type": "stream",
     "text": [
      "\n"
     ]
    }
   ],
   "source": [
    "inferrence(model, test_data, subgraph_loader)"
   ]
  },
  {
   "cell_type": "code",
   "execution_count": 204,
   "id": "5419f7b7",
   "metadata": {},
   "outputs": [],
   "source": [
    "train_data = train_data.to('cpu')\n",
    "test_data = test_data.to('cpu')"
   ]
  },
  {
   "cell_type": "code",
   "execution_count": 205,
   "id": "1ff233d9",
   "metadata": {},
   "outputs": [],
   "source": [
    "x_train = train_data.x.numpy()\n",
    "y_train = train_data.y.numpy()"
   ]
  },
  {
   "cell_type": "code",
   "execution_count": 206,
   "id": "808b469f",
   "metadata": {},
   "outputs": [],
   "source": [
    "x_test = test_data.x.numpy()\n",
    "y_test = test_data.y.numpy()"
   ]
  },
  {
   "cell_type": "code",
   "execution_count": 207,
   "id": "721cbbc0",
   "metadata": {},
   "outputs": [],
   "source": [
    "from catboost import CatBoostClassifier"
   ]
  },
  {
   "cell_type": "code",
   "execution_count": 208,
   "id": "7b884f28",
   "metadata": {},
   "outputs": [],
   "source": [
    "from lightgbm import LGBMClassifier"
   ]
  },
  {
   "cell_type": "code",
   "execution_count": 209,
   "id": "ecb99a86",
   "metadata": {},
   "outputs": [],
   "source": [
    "from sklearn.ensemble._forest import RandomForestClassifier"
   ]
  },
  {
   "cell_type": "code",
   "execution_count": 210,
   "id": "c77c4d51",
   "metadata": {},
   "outputs": [],
   "source": [
    "from sklearn.ensemble import AdaBoostClassifier"
   ]
  },
  {
   "cell_type": "code",
   "execution_count": 211,
   "id": "a805bc91",
   "metadata": {},
   "outputs": [],
   "source": [
    "from sklearn.neural_network import MLPClassifier"
   ]
  },
  {
   "cell_type": "code",
   "execution_count": 215,
   "id": "b2252d38",
   "metadata": {},
   "outputs": [],
   "source": [
    "cbc = MLPClassifier(verbose=True, tol=1e-6, batch_size=1024, hidden_layer_sizes=(30,15, 2), \n",
    "                    max_iter=500, learning_rate_init= 0.01, solver='adam', learning_rate='adaptive', alpha = 0.002)"
   ]
  },
  {
   "cell_type": "code",
   "execution_count": 170,
   "id": "f458dca7",
   "metadata": {},
   "outputs": [],
   "source": [
    "cbc = AdaBoostClassifier()"
   ]
  },
  {
   "cell_type": "code",
   "execution_count": 216,
   "id": "bc670e09",
   "metadata": {},
   "outputs": [
    {
     "name": "stdout",
     "output_type": "stream",
     "text": [
      "Iteration 1, loss = 0.03823301\n",
      "Iteration 2, loss = 0.01401812\n",
      "Iteration 3, loss = 0.01253359\n"
     ]
    },
    {
     "name": "stderr",
     "output_type": "stream",
     "text": [
      "/home/xiaoyujie/anaconda3/envs/densegat2/lib/python3.6/site-packages/sklearn/neural_network/_multilayer_perceptron.py:619: UserWarning: Training interrupted by user.\n",
      "  warnings.warn(\"Training interrupted by user.\")\n"
     ]
    },
    {
     "data": {
      "text/plain": [
       "MLPClassifier(alpha=0.002, batch_size=1024, hidden_layer_sizes=(30, 15, 2),\n",
       "              learning_rate='adaptive', learning_rate_init=0.01, max_iter=500,\n",
       "              tol=1e-06, verbose=True)"
      ]
     },
     "execution_count": 216,
     "metadata": {},
     "output_type": "execute_result"
    }
   ],
   "source": [
    "cbc.fit(x_train, y_train)"
   ]
  },
  {
   "cell_type": "code",
   "execution_count": 217,
   "id": "75c8d80f",
   "metadata": {},
   "outputs": [],
   "source": [
    "y_pred = cbc.predict(x_test)"
   ]
  },
  {
   "cell_type": "code",
   "execution_count": 218,
   "id": "eb7153db",
   "metadata": {},
   "outputs": [],
   "source": [
    "df = classification_report(y_test, y_pred, digits=4, output_dict=True)\n",
    "df = pd.DataFrame(df).transpose()"
   ]
  },
  {
   "cell_type": "code",
   "execution_count": 219,
   "id": "5122cafc",
   "metadata": {},
   "outputs": [
    {
     "data": {
      "text/html": [
       "<div>\n",
       "<style scoped>\n",
       "    .dataframe tbody tr th:only-of-type {\n",
       "        vertical-align: middle;\n",
       "    }\n",
       "\n",
       "    .dataframe tbody tr th {\n",
       "        vertical-align: top;\n",
       "    }\n",
       "\n",
       "    .dataframe thead th {\n",
       "        text-align: right;\n",
       "    }\n",
       "</style>\n",
       "<table border=\"1\" class=\"dataframe\">\n",
       "  <thead>\n",
       "    <tr style=\"text-align: right;\">\n",
       "      <th></th>\n",
       "      <th>precision</th>\n",
       "      <th>recall</th>\n",
       "      <th>f1-score</th>\n",
       "      <th>support</th>\n",
       "    </tr>\n",
       "  </thead>\n",
       "  <tbody>\n",
       "    <tr>\n",
       "      <th>0</th>\n",
       "      <td>0.999064</td>\n",
       "      <td>0.996696</td>\n",
       "      <td>0.997879</td>\n",
       "      <td>688567.000000</td>\n",
       "    </tr>\n",
       "    <tr>\n",
       "      <th>1</th>\n",
       "      <td>0.924539</td>\n",
       "      <td>0.977451</td>\n",
       "      <td>0.950259</td>\n",
       "      <td>28516.000000</td>\n",
       "    </tr>\n",
       "    <tr>\n",
       "      <th>accuracy</th>\n",
       "      <td>0.995931</td>\n",
       "      <td>0.995931</td>\n",
       "      <td>0.995931</td>\n",
       "      <td>0.995931</td>\n",
       "    </tr>\n",
       "    <tr>\n",
       "      <th>macro avg</th>\n",
       "      <td>0.961801</td>\n",
       "      <td>0.987074</td>\n",
       "      <td>0.974069</td>\n",
       "      <td>717083.000000</td>\n",
       "    </tr>\n",
       "    <tr>\n",
       "      <th>weighted avg</th>\n",
       "      <td>0.996100</td>\n",
       "      <td>0.995931</td>\n",
       "      <td>0.995985</td>\n",
       "      <td>717083.000000</td>\n",
       "    </tr>\n",
       "  </tbody>\n",
       "</table>\n",
       "</div>"
      ],
      "text/plain": [
       "              precision    recall  f1-score        support\n",
       "0              0.999064  0.996696  0.997879  688567.000000\n",
       "1              0.924539  0.977451  0.950259   28516.000000\n",
       "accuracy       0.995931  0.995931  0.995931       0.995931\n",
       "macro avg      0.961801  0.987074  0.974069  717083.000000\n",
       "weighted avg   0.996100  0.995931  0.995985  717083.000000"
      ]
     },
     "execution_count": 219,
     "metadata": {},
     "output_type": "execute_result"
    }
   ],
   "source": [
    "df"
   ]
  },
  {
   "cell_type": "code",
   "execution_count": 220,
   "id": "f43e3630",
   "metadata": {},
   "outputs": [
    {
     "data": {
      "text/plain": [
       "0.9870736461386379"
      ]
     },
     "execution_count": 220,
     "metadata": {},
     "output_type": "execute_result"
    }
   ],
   "source": [
    "roc_auc_score(y_test, y_pred)"
   ]
  },
  {
   "cell_type": "code",
   "execution_count": 163,
   "id": "7213403c",
   "metadata": {},
   "outputs": [
    {
     "data": {
      "text/html": [
       "<div>\n",
       "<style scoped>\n",
       "    .dataframe tbody tr th:only-of-type {\n",
       "        vertical-align: middle;\n",
       "    }\n",
       "\n",
       "    .dataframe tbody tr th {\n",
       "        vertical-align: top;\n",
       "    }\n",
       "\n",
       "    .dataframe thead th {\n",
       "        text-align: right;\n",
       "    }\n",
       "</style>\n",
       "<table border=\"1\" class=\"dataframe\">\n",
       "  <thead>\n",
       "    <tr style=\"text-align: right;\">\n",
       "      <th></th>\n",
       "      <th>precision</th>\n",
       "      <th>recall</th>\n",
       "      <th>f1-score</th>\n",
       "      <th>support</th>\n",
       "    </tr>\n",
       "  </thead>\n",
       "  <tbody>\n",
       "    <tr>\n",
       "      <th>0</th>\n",
       "      <td>0.710533</td>\n",
       "      <td>0.993633</td>\n",
       "      <td>0.828569</td>\n",
       "      <td>30000.00000</td>\n",
       "    </tr>\n",
       "    <tr>\n",
       "      <th>1</th>\n",
       "      <td>0.270869</td>\n",
       "      <td>0.041471</td>\n",
       "      <td>0.071929</td>\n",
       "      <td>3834.00000</td>\n",
       "    </tr>\n",
       "    <tr>\n",
       "      <th>2</th>\n",
       "      <td>0.513353</td>\n",
       "      <td>0.574749</td>\n",
       "      <td>0.542319</td>\n",
       "      <td>9465.00000</td>\n",
       "    </tr>\n",
       "    <tr>\n",
       "      <th>3</th>\n",
       "      <td>0.006981</td>\n",
       "      <td>0.006144</td>\n",
       "      <td>0.006536</td>\n",
       "      <td>651.00000</td>\n",
       "    </tr>\n",
       "    <tr>\n",
       "      <th>4</th>\n",
       "      <td>0.446337</td>\n",
       "      <td>0.039145</td>\n",
       "      <td>0.071978</td>\n",
       "      <td>6693.00000</td>\n",
       "    </tr>\n",
       "    <tr>\n",
       "      <th>5</th>\n",
       "      <td>0.042105</td>\n",
       "      <td>0.001610</td>\n",
       "      <td>0.003102</td>\n",
       "      <td>4968.00000</td>\n",
       "    </tr>\n",
       "    <tr>\n",
       "      <th>6</th>\n",
       "      <td>0.088794</td>\n",
       "      <td>0.191024</td>\n",
       "      <td>0.121234</td>\n",
       "      <td>1738.00000</td>\n",
       "    </tr>\n",
       "    <tr>\n",
       "      <th>7</th>\n",
       "      <td>0.066667</td>\n",
       "      <td>0.027536</td>\n",
       "      <td>0.038974</td>\n",
       "      <td>690.00000</td>\n",
       "    </tr>\n",
       "    <tr>\n",
       "      <th>8</th>\n",
       "      <td>0.000000</td>\n",
       "      <td>0.000000</td>\n",
       "      <td>0.000000</td>\n",
       "      <td>428.00000</td>\n",
       "    </tr>\n",
       "    <tr>\n",
       "      <th>9</th>\n",
       "      <td>0.000000</td>\n",
       "      <td>0.000000</td>\n",
       "      <td>0.000000</td>\n",
       "      <td>49.00000</td>\n",
       "    </tr>\n",
       "    <tr>\n",
       "      <th>accuracy</th>\n",
       "      <td>0.615780</td>\n",
       "      <td>0.615780</td>\n",
       "      <td>0.615780</td>\n",
       "      <td>0.61578</td>\n",
       "    </tr>\n",
       "    <tr>\n",
       "      <th>macro avg</th>\n",
       "      <td>0.214564</td>\n",
       "      <td>0.187531</td>\n",
       "      <td>0.168464</td>\n",
       "      <td>58516.00000</td>\n",
       "    </tr>\n",
       "    <tr>\n",
       "      <th>weighted avg</th>\n",
       "      <td>0.523186</td>\n",
       "      <td>0.615780</td>\n",
       "      <td>0.529853</td>\n",
       "      <td>58516.00000</td>\n",
       "    </tr>\n",
       "  </tbody>\n",
       "</table>\n",
       "</div>"
      ],
      "text/plain": [
       "              precision    recall  f1-score      support\n",
       "0              0.710533  0.993633  0.828569  30000.00000\n",
       "1              0.270869  0.041471  0.071929   3834.00000\n",
       "2              0.513353  0.574749  0.542319   9465.00000\n",
       "3              0.006981  0.006144  0.006536    651.00000\n",
       "4              0.446337  0.039145  0.071978   6693.00000\n",
       "5              0.042105  0.001610  0.003102   4968.00000\n",
       "6              0.088794  0.191024  0.121234   1738.00000\n",
       "7              0.066667  0.027536  0.038974    690.00000\n",
       "8              0.000000  0.000000  0.000000    428.00000\n",
       "9              0.000000  0.000000  0.000000     49.00000\n",
       "accuracy       0.615780  0.615780  0.615780      0.61578\n",
       "macro avg      0.214564  0.187531  0.168464  58516.00000\n",
       "weighted avg   0.523186  0.615780  0.529853  58516.00000"
      ]
     },
     "execution_count": 163,
     "metadata": {},
     "output_type": "execute_result"
    }
   ],
   "source": [
    "df"
   ]
  },
  {
   "cell_type": "code",
   "execution_count": 63,
   "id": "df35651f",
   "metadata": {},
   "outputs": [
    {
     "data": {
      "text/html": [
       "<div>\n",
       "<style scoped>\n",
       "    .dataframe tbody tr th:only-of-type {\n",
       "        vertical-align: middle;\n",
       "    }\n",
       "\n",
       "    .dataframe tbody tr th {\n",
       "        vertical-align: top;\n",
       "    }\n",
       "\n",
       "    .dataframe thead th {\n",
       "        text-align: right;\n",
       "    }\n",
       "</style>\n",
       "<table border=\"1\" class=\"dataframe\">\n",
       "  <thead>\n",
       "    <tr style=\"text-align: right;\">\n",
       "      <th></th>\n",
       "      <th>precision</th>\n",
       "      <th>recall</th>\n",
       "      <th>f1-score</th>\n",
       "      <th>support</th>\n",
       "    </tr>\n",
       "  </thead>\n",
       "  <tbody>\n",
       "    <tr>\n",
       "      <th>0</th>\n",
       "      <td>0.999598</td>\n",
       "      <td>0.994900</td>\n",
       "      <td>0.997244</td>\n",
       "      <td>30000.000000</td>\n",
       "    </tr>\n",
       "    <tr>\n",
       "      <th>1</th>\n",
       "      <td>0.795577</td>\n",
       "      <td>0.806990</td>\n",
       "      <td>0.801243</td>\n",
       "      <td>3834.000000</td>\n",
       "    </tr>\n",
       "    <tr>\n",
       "      <th>2</th>\n",
       "      <td>0.654631</td>\n",
       "      <td>0.894559</td>\n",
       "      <td>0.756016</td>\n",
       "      <td>9465.000000</td>\n",
       "    </tr>\n",
       "    <tr>\n",
       "      <th>3</th>\n",
       "      <td>0.142857</td>\n",
       "      <td>0.007680</td>\n",
       "      <td>0.014577</td>\n",
       "      <td>651.000000</td>\n",
       "    </tr>\n",
       "    <tr>\n",
       "      <th>4</th>\n",
       "      <td>0.847189</td>\n",
       "      <td>0.846556</td>\n",
       "      <td>0.846872</td>\n",
       "      <td>6693.000000</td>\n",
       "    </tr>\n",
       "    <tr>\n",
       "      <th>5</th>\n",
       "      <td>0.876762</td>\n",
       "      <td>0.776167</td>\n",
       "      <td>0.823404</td>\n",
       "      <td>4968.000000</td>\n",
       "    </tr>\n",
       "    <tr>\n",
       "      <th>6</th>\n",
       "      <td>0.578755</td>\n",
       "      <td>0.090909</td>\n",
       "      <td>0.157136</td>\n",
       "      <td>1738.000000</td>\n",
       "    </tr>\n",
       "    <tr>\n",
       "      <th>7</th>\n",
       "      <td>0.100000</td>\n",
       "      <td>0.007246</td>\n",
       "      <td>0.013514</td>\n",
       "      <td>690.000000</td>\n",
       "    </tr>\n",
       "    <tr>\n",
       "      <th>8</th>\n",
       "      <td>0.477922</td>\n",
       "      <td>0.429907</td>\n",
       "      <td>0.452645</td>\n",
       "      <td>428.000000</td>\n",
       "    </tr>\n",
       "    <tr>\n",
       "      <th>9</th>\n",
       "      <td>0.600000</td>\n",
       "      <td>0.061224</td>\n",
       "      <td>0.111111</td>\n",
       "      <td>49.000000</td>\n",
       "    </tr>\n",
       "    <tr>\n",
       "      <th>accuracy</th>\n",
       "      <td>0.876427</td>\n",
       "      <td>0.876427</td>\n",
       "      <td>0.876427</td>\n",
       "      <td>0.876427</td>\n",
       "    </tr>\n",
       "    <tr>\n",
       "      <th>macro avg</th>\n",
       "      <td>0.607329</td>\n",
       "      <td>0.491614</td>\n",
       "      <td>0.497376</td>\n",
       "      <td>58516.000000</td>\n",
       "    </tr>\n",
       "    <tr>\n",
       "      <th>weighted avg</th>\n",
       "      <td>0.865782</td>\n",
       "      <td>0.876427</td>\n",
       "      <td>0.861215</td>\n",
       "      <td>58516.000000</td>\n",
       "    </tr>\n",
       "  </tbody>\n",
       "</table>\n",
       "</div>"
      ],
      "text/plain": [
       "              precision    recall  f1-score       support\n",
       "0              0.999598  0.994900  0.997244  30000.000000\n",
       "1              0.795577  0.806990  0.801243   3834.000000\n",
       "2              0.654631  0.894559  0.756016   9465.000000\n",
       "3              0.142857  0.007680  0.014577    651.000000\n",
       "4              0.847189  0.846556  0.846872   6693.000000\n",
       "5              0.876762  0.776167  0.823404   4968.000000\n",
       "6              0.578755  0.090909  0.157136   1738.000000\n",
       "7              0.100000  0.007246  0.013514    690.000000\n",
       "8              0.477922  0.429907  0.452645    428.000000\n",
       "9              0.600000  0.061224  0.111111     49.000000\n",
       "accuracy       0.876427  0.876427  0.876427      0.876427\n",
       "macro avg      0.607329  0.491614  0.497376  58516.000000\n",
       "weighted avg   0.865782  0.876427  0.861215  58516.000000"
      ]
     },
     "execution_count": 63,
     "metadata": {},
     "output_type": "execute_result"
    }
   ],
   "source": [
    "df"
   ]
  },
  {
   "cell_type": "code",
   "execution_count": null,
   "id": "96569e28",
   "metadata": {},
   "outputs": [],
   "source": []
  }
 ],
 "metadata": {
  "kernelspec": {
   "display_name": "Python 3",
   "language": "python",
   "name": "python3"
  },
  "language_info": {
   "codemirror_mode": {
    "name": "ipython",
    "version": 3
   },
   "file_extension": ".py",
   "mimetype": "text/x-python",
   "name": "python",
   "nbconvert_exporter": "python",
   "pygments_lexer": "ipython3",
   "version": "3.6.13"
  }
 },
 "nbformat": 4,
 "nbformat_minor": 5
}
