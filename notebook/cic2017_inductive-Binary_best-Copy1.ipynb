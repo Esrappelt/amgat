{
 "cells": [
  {
   "cell_type": "code",
   "execution_count": 1,
   "id": "79e31772",
   "metadata": {},
   "outputs": [],
   "source": [
    "import networkx\n",
    "import torch\n",
    "import numpy as np\n",
    "import pandas as pd\n",
    "from sklearn.metrics import *\n",
    "from torch_geometric.loader import NeighborSampler, NeighborLoader\n",
    "from torch_geometric.data import Data, DataLoader\n",
    "from torch_geometric.nn import GATConv, ResGatedGraphConv, GATv2Conv, SAGEConv, GENConv, DeepGCNLayer, PairNorm, GINConv,GCNConv\n",
    "from sklearn.preprocessing import MinMaxScaler\n",
    "from sklearn.model_selection import train_test_split\n",
    "from sklearn.impute import SimpleImputer\n",
    "import torch.nn.functional as F\n",
    "from imblearn.under_sampling import RandomUnderSampler\n",
    "pd.options.mode.use_inf_as_na = True\n",
    "from collections import Counter\n",
    "from sklearn.feature_selection import SelectFromModel\n",
    "import torch.nn as nn\n",
    "import time\n",
    "import pickle\n",
    "from torch.nn import LayerNorm, Linear, ReLU\n",
    "from torch_scatter import scatter\n",
    "from tqdm import tqdm\n",
    "from torch_geometric.loader import RandomNodeSampler\n",
    "import math\n",
    "import copy\n",
    "from sklearn.metrics import f1_score\n",
    "from torch.optim import lr_scheduler\n",
    "from sklearn.manifold import TSNE\n",
    "import matplotlib.pyplot as plt"
   ]
  },
  {
   "cell_type": "code",
   "execution_count": 2,
   "id": "a8361739",
   "metadata": {},
   "outputs": [],
   "source": [
    "from torch_geometric.utils import dropout_adj"
   ]
  },
  {
   "cell_type": "code",
   "execution_count": 3,
   "id": "a33f2928",
   "metadata": {},
   "outputs": [],
   "source": [
    "import warnings\n",
    "# action参数可以设置为ignore，一位一次也不喜爱你是，once表示为只显示一次\n",
    "warnings.filterwarnings(action='ignore')"
   ]
  },
  {
   "cell_type": "code",
   "execution_count": 4,
   "id": "d8d10df8",
   "metadata": {},
   "outputs": [],
   "source": [
    "# np.random.seed(0)\n",
    "# torch.manual_seed(0)"
   ]
  },
  {
   "cell_type": "code",
   "execution_count": 5,
   "id": "19bdb8f1",
   "metadata": {},
   "outputs": [],
   "source": [
    "class CNN1d(nn.Module):\n",
    "    def __init__(self, in_channels, out_channels):\n",
    "        super(CNN1d,self).__init__()\n",
    "        output_channels = 10\n",
    "        padding = 0\n",
    "        dilation = 1\n",
    "        kernel_size = 3\n",
    "        stride = 3\n",
    "        output_size = int((output_channels * in_channels + 2 * padding - dilation * (kernel_size - 1) -1) / stride + 1)\n",
    "        self.layer1 = nn.Sequential(\n",
    "            nn.Conv1d(1,output_channels,kernel_size, padding='same'),\n",
    "            nn.MaxPool1d(kernel_size, stride),\n",
    "            nn.ReLU()\n",
    "            )\n",
    "        self.fc = nn.Linear(output_size,out_channels)\n",
    "    def forward(self,x):\n",
    "        x = x.view(x.size(0), 1, x.size(1))\n",
    "        out = self.layer1(x)\n",
    "        out = out.view(out.size(0),-1)\n",
    "        out = self.fc(out)\n",
    "        return out\n"
   ]
  },
  {
   "cell_type": "code",
   "execution_count": 6,
   "id": "6a01e4f6",
   "metadata": {},
   "outputs": [],
   "source": [
    "class Transition_layer(torch.nn.Module):\n",
    "    def __init__(self, act, norm, lin):\n",
    "        super().__init__()\n",
    "        self.act = act\n",
    "        self.norm = norm\n",
    "        self.lin = lin\n",
    "    def forward(self, x):\n",
    "        x = self.norm(x)\n",
    "        x = self.act(x)\n",
    "        x = self.lin(x)\n",
    "        return x\n",
    "        \n",
    "class DenseGAT(torch.nn.Module):\n",
    "    def __init__(self, in_channels, num_class, num_layers=6, num_blocks=3, growth_rate=10, theta=0.5):\n",
    "        super().__init__()\n",
    "        self.num_layers = num_layers\n",
    "        self.blocks = num_blocks\n",
    "        self.theta = theta\n",
    "        self.growth_rate = growth_rate\n",
    "        self.base_rate = growth_rate\n",
    "        self.in_channels = in_channels\n",
    "        self.out_channels = num_class\n",
    "        self.linear_layers = torch.nn.ModuleList()\n",
    "        self.transition_layers = torch.nn.ModuleList()\n",
    "        self.block_layers = torch.nn.ModuleList()\n",
    "        self.node_encoder = Linear(in_channels, growth_rate)\n",
    "        self.linear_layers.append(self.node_encoder)\n",
    "        \n",
    "        for i in range(self.blocks):\n",
    "            # block\n",
    "            layers = torch.nn.ModuleList()\n",
    "            # 2^(i - 1) * k0\n",
    "            self.growth_rate = int(math.pow(2, i) * self.base_rate)\n",
    "            print(self.growth_rate)\n",
    "            for j in range(1, self.num_layers + 1):\n",
    "                conv = SAGEConv(in_channels + (j - 1) * self.growth_rate, self.growth_rate, aggr='mean')\n",
    "                norm = LayerNorm(self.growth_rate)\n",
    "                act = ReLU()\n",
    "                layer = DeepGCNLayer(conv, norm, act, block='dense')\n",
    "                layers.append(layer)\n",
    "            self.block_layers.append(layers)\n",
    "            \n",
    "            # transition\n",
    "            hidden_channels = in_channels +  self.num_layers * self.growth_rate\n",
    "            out_channels = int(hidden_channels * self.theta)\n",
    "            transition_norm = LayerNorm(hidden_channels, elementwise_affine=True)\n",
    "            transition_act = ReLU()\n",
    "            transition_lin = Linear(hidden_channels, out_channels)\n",
    "            transitionLayer = Transition_layer(transition_act, transition_norm, transition_lin)\n",
    "            self.transition_layers.append(transitionLayer)\n",
    "            in_channels = copy.copy(out_channels)\n",
    "        \n",
    "        self.lin_last = Linear(in_channels, self.out_channels)\n",
    "        self.linear_layers.append(self.lin_last)\n",
    "        \n",
    "    def forward(self, x, edge_index):\n",
    "#         x = self.linear_layers[0](x)\n",
    "        for i in range(self.blocks):\n",
    "            # block layer\n",
    "            for layer in self.block_layers[i]:\n",
    "                x = layer(x, edge_index)\n",
    "            # transition layer\n",
    "            x = self.transition_layers[i](x)\n",
    "        x = self.linear_layers[-1](x)\n",
    "        return x"
   ]
  },
  {
   "cell_type": "code",
   "execution_count": 137,
   "id": "42ed76b0",
   "metadata": {},
   "outputs": [],
   "source": [
    "from sklearn.utils import class_weight\n",
    "def train():\n",
    "    total_loss = total_correct = total_examples = 0\n",
    "    start_time = time.time()\n",
    "    for batch in train_loader:\n",
    "        batch = batch.to(device)\n",
    "        y = batch.y[:batch.batch_size]\n",
    "        optimizer.zero_grad()\n",
    "        y_hat = model(batch.x.to(device), batch.edge_index.to(device))[:batch.batch_size]\n",
    "        loss = F.cross_entropy(y_hat, y)\n",
    "        loss.backward()\n",
    "        optimizer.step()\n",
    "        total_loss += float(loss) * batch.batch_size\n",
    "        total_correct += int((y_hat.argmax(dim=-1) == y).sum())\n",
    "        total_examples += batch.batch_size\n",
    "    end_time = time.time()  \n",
    "    \n",
    "    return total_loss / total_examples, total_correct / total_examples\n",
    "\n",
    "def inferrence(model, subgraph_loader):\n",
    "    total_loss = total_correct = total_examples = 0\n",
    "    xs = []\n",
    "    y = []\n",
    "    pbar = tqdm(total=len(subgraph_loader))\n",
    "    for batch in subgraph_loader:\n",
    "        y_hat = model(batch.x, batch.edge_index.to(device))[:batch.batch_size]\n",
    "        xs.append(y_hat.cpu())\n",
    "        y_true = batch.y[:batch.batch_size]\n",
    "        y.append(y_true.cpu())\n",
    "        pbar.update(1)\n",
    "    pbar.close()\n",
    "    y_hat = torch.cat(xs, 0)\n",
    "    y_hat = y_hat.detach().numpy()\n",
    "    return y, y_hat\n",
    "    y_hat = np.argmax(y_hat, -1)\n",
    "    y = torch.cat(y, 0)\n",
    "    cr1 = classification_report(y, y_hat, digits=4)\n",
    "    cf = confusion_matrix(y, y_hat)\n",
    "    print(roc_auc_score(y, y_hat))\n",
    "    print(cr1)\n",
    "    print(cf)\n",
    "    return roc_auc_score(y, y_hat), y, y_hat,y_prob\n",
    "\n",
    "def get_metrics(y_true, y_pred):\n",
    "    cr = classification_report(y_true, y_pred, output_dict=True, digits=4)\n",
    "    df = pd.DataFrame(cr).transpose()\n",
    "    cm = confusion_matrix(y_true, y_pred)\n",
    "    print(df)\n",
    "    print(cm)"
   ]
  },
  {
   "cell_type": "code",
   "execution_count": 8,
   "id": "cff1ceed",
   "metadata": {},
   "outputs": [],
   "source": [
    "train_data = torch.load('cic2017_directed_line_graph_train_data_15label2')"
   ]
  },
  {
   "cell_type": "code",
   "execution_count": 9,
   "id": "9b0c35ae",
   "metadata": {},
   "outputs": [],
   "source": [
    "test_data = torch.load('cic2017_directed_line_graph_test_data_15label2')"
   ]
  },
  {
   "cell_type": "code",
   "execution_count": 10,
   "id": "8cc220d7",
   "metadata": {},
   "outputs": [
    {
     "data": {
      "text/plain": [
       "(Data(x=[424589, 78], edge_index=[2, 156754252], y=[424589], num_nodes=424589),\n",
       " Data(x=[181967, 78], edge_index=[2, 31672070], y=[181967], num_nodes=181967))"
      ]
     },
     "execution_count": 10,
     "metadata": {},
     "output_type": "execute_result"
    }
   ],
   "source": [
    "train_data,test_data"
   ]
  },
  {
   "cell_type": "code",
   "execution_count": 11,
   "id": "762dd1d0",
   "metadata": {},
   "outputs": [],
   "source": [
    "from torch_geometric.utils import *"
   ]
  },
  {
   "cell_type": "code",
   "execution_count": 12,
   "id": "f2649833",
   "metadata": {},
   "outputs": [],
   "source": [
    "train_data.edge_index = add_self_loops(train_data.edge_index)[0]"
   ]
  },
  {
   "cell_type": "code",
   "execution_count": 13,
   "id": "fa8fdea3",
   "metadata": {},
   "outputs": [],
   "source": [
    "test_data.edge_index = add_self_loops(test_data.edge_index)[0]"
   ]
  },
  {
   "cell_type": "code",
   "execution_count": 14,
   "id": "ff87c528",
   "metadata": {},
   "outputs": [
    {
     "data": {
      "text/plain": [
       "(Data(x=[424589, 78], edge_index=[2, 157178841], y=[424589], num_nodes=424589),\n",
       " Data(x=[181967, 78], edge_index=[2, 31854036], y=[181967], num_nodes=181967))"
      ]
     },
     "execution_count": 14,
     "metadata": {},
     "output_type": "execute_result"
    }
   ],
   "source": [
    "train_data,test_data"
   ]
  },
  {
   "cell_type": "code",
   "execution_count": 15,
   "id": "fc3314cf",
   "metadata": {},
   "outputs": [],
   "source": [
    "# 二分类"
   ]
  },
  {
   "cell_type": "code",
   "execution_count": 16,
   "id": "8b4648c6",
   "metadata": {},
   "outputs": [],
   "source": [
    "train_label = train_data.y.numpy()\n",
    "test_label = test_data.y.numpy()\n",
    "train_label[train_label != 0] = 1\n",
    "test_label[test_label != 0] = 1\n",
    "train_data.y = torch.LongTensor(train_label)\n",
    "test_data.y = torch.LongTensor(test_label)"
   ]
  },
  {
   "cell_type": "code",
   "execution_count": 17,
   "id": "d18106aa",
   "metadata": {},
   "outputs": [],
   "source": [
    "train_num_nodes = torch.arange(len(train_data.y))\n",
    "test_num_nodes = torch.arange(len(test_data.y))"
   ]
  },
  {
   "cell_type": "code",
   "execution_count": 18,
   "id": "7b6cf9fd",
   "metadata": {},
   "outputs": [],
   "source": [
    "train_data = train_data.to('cpu')\n",
    "test_data = test_data.to('cpu')"
   ]
  },
  {
   "cell_type": "code",
   "execution_count": 19,
   "id": "5b31d4f9",
   "metadata": {},
   "outputs": [],
   "source": [
    "node_num_per_k = 50\n",
    "depth = 50"
   ]
  },
  {
   "cell_type": "code",
   "execution_count": 20,
   "id": "61796989",
   "metadata": {},
   "outputs": [],
   "source": [
    "hop = [node_num_per_k] * depth"
   ]
  },
  {
   "cell_type": "code",
   "execution_count": 21,
   "id": "dff9dab0",
   "metadata": {},
   "outputs": [],
   "source": [
    "train_loader = NeighborLoader(train_data, input_nodes = train_num_nodes, num_neighbors=hop, batch_size=1024, shuffle=True)"
   ]
  },
  {
   "cell_type": "code",
   "execution_count": 22,
   "id": "d0f6aac7",
   "metadata": {},
   "outputs": [
    {
     "data": {
      "text/plain": [
       "Data(x=[11461, 78], edge_index=[2, 38609], y=[11461], num_nodes=11461, batch_size=1024)"
      ]
     },
     "execution_count": 22,
     "metadata": {},
     "output_type": "execute_result"
    }
   ],
   "source": [
    "next(iter(train_loader))"
   ]
  },
  {
   "cell_type": "code",
   "execution_count": 23,
   "id": "be2f9b23",
   "metadata": {},
   "outputs": [],
   "source": [
    "subgraph_loader = NeighborLoader(test_data, input_nodes=test_num_nodes,num_neighbors=hop, batch_size=1024, shuffle=False)"
   ]
  },
  {
   "cell_type": "code",
   "execution_count": 28,
   "id": "09810cfa",
   "metadata": {},
   "outputs": [
    {
     "name": "stdout",
     "output_type": "stream",
     "text": [
      "10\n"
     ]
    }
   ],
   "source": [
    "in_channels = train_data.x.size(-1)\n",
    "num_class = 2\n",
    "model = DenseGAT(in_channels=in_channels, num_class=num_class, \n",
    "                 num_layers=30, num_blocks=1, growth_rate=10, theta=0.8)\n",
    "loss_all = []"
   ]
  },
  {
   "cell_type": "code",
   "execution_count": 25,
   "id": "ac3ac24c",
   "metadata": {},
   "outputs": [],
   "source": [
    "epochs = 500\n",
    "i = 0"
   ]
  },
  {
   "cell_type": "code",
   "execution_count": 26,
   "id": "a015ea53",
   "metadata": {},
   "outputs": [
    {
     "data": {
      "text/plain": [
       "594870"
      ]
     },
     "execution_count": 26,
     "metadata": {},
     "output_type": "execute_result"
    }
   ],
   "source": [
    "sum(p.numel() for p in model.parameters())"
   ]
  },
  {
   "cell_type": "code",
   "execution_count": 49,
   "id": "e6d33d1c",
   "metadata": {},
   "outputs": [],
   "source": [
    "optimizer = torch.optim.Adam(model.parameters(), lr=0.0001)"
   ]
  },
  {
   "cell_type": "code",
   "execution_count": 44,
   "id": "1f820078",
   "metadata": {},
   "outputs": [],
   "source": [
    "device = 'cuda:1'\n",
    "model = model.to(device)"
   ]
  },
  {
   "cell_type": "code",
   "execution_count": 29,
   "id": "480533ee",
   "metadata": {},
   "outputs": [
    {
     "data": {
      "text/plain": [
       "<All keys matched successfully>"
      ]
     },
     "execution_count": 29,
     "metadata": {},
     "output_type": "execute_result"
    }
   ],
   "source": [
    "# DenseGAT(in_channels=in_channels, num_class=num_class, \n",
    "#                  num_layers=30, num_blocks=1, growth_rate=10, theta=0.8)\n",
    "model.load_state_dict(torch.load( 'unsw_yhat/cic_epoch_bi_cnn_15_label2_200', map_location='cpu'))"
   ]
  },
  {
   "cell_type": "code",
   "execution_count": 50,
   "id": "1e5a4297",
   "metadata": {},
   "outputs": [
    {
     "name": "stdout",
     "output_type": "stream",
     "text": [
      "epoch: 0392 loss_train: 0.0054 acc_train: 0.9983 time: 60.2473s\n",
      "epoch: 0393 loss_train: 0.0049 acc_train: 0.9985 time: 60.4516s\n",
      "epoch: 0394 loss_train: 0.0047 acc_train: 0.9986 time: 60.6705s\n",
      "epoch: 0395 loss_train: 0.0046 acc_train: 0.9986 time: 60.7119s\n",
      "epoch: 0396 loss_train: 0.0046 acc_train: 0.9986 time: 60.6103s\n",
      "epoch: 0397 loss_train: 0.0047 acc_train: 0.9986 time: 59.7404s\n",
      "epoch: 0398 loss_train: 0.0045 acc_train: 0.9986 time: 59.2836s\n",
      "epoch: 0399 loss_train: 0.0049 acc_train: 0.9986 time: 59.6648s\n",
      "epoch: 0400 loss_train: 0.0045 acc_train: 0.9987 time: 60.2937s\n",
      "epoch: 0401 loss_train: 0.0044 acc_train: 0.9987 time: 60.2946s\n",
      "epoch: 0402 loss_train: 0.0047 acc_train: 0.9986 time: 60.0611s\n",
      "epoch: 0403 loss_train: 0.0046 acc_train: 0.9986 time: 59.6142s\n",
      "epoch: 0404 loss_train: 0.0043 acc_train: 0.9987 time: 59.6979s\n",
      "epoch: 0405 loss_train: 0.0052 acc_train: 0.9985 time: 60.0409s\n",
      "epoch: 0406 loss_train: 0.0047 acc_train: 0.9986 time: 59.8203s\n",
      "epoch: 0407 loss_train: 0.0045 acc_train: 0.9987 time: 61.1740s\n",
      "epoch: 0408 loss_train: 0.0045 acc_train: 0.9987 time: 60.4850s\n",
      "epoch: 0409 loss_train: 0.0043 acc_train: 0.9987 time: 60.8064s\n",
      "epoch: 0410 loss_train: 0.0042 acc_train: 0.9988 time: 60.9601s\n",
      "epoch: 0411 loss_train: 0.0046 acc_train: 0.9986 time: 60.6016s\n",
      "epoch: 0412 loss_train: 0.0045 acc_train: 0.9987 time: 60.4981s\n",
      "epoch: 0413 loss_train: 0.0044 acc_train: 0.9987 time: 60.1623s\n",
      "epoch: 0414 loss_train: 0.0043 acc_train: 0.9987 time: 59.6510s\n",
      "epoch: 0415 loss_train: 0.0045 acc_train: 0.9987 time: 60.3269s\n",
      "epoch: 0416 loss_train: 0.0043 acc_train: 0.9987 time: 60.2129s\n",
      "epoch: 0417 loss_train: 0.0044 acc_train: 0.9987 time: 59.4986s\n",
      "epoch: 0418 loss_train: 0.0045 acc_train: 0.9987 time: 59.8220s\n",
      "epoch: 0419 loss_train: 0.0045 acc_train: 0.9987 time: 60.4178s\n",
      "epoch: 0420 loss_train: 0.0046 acc_train: 0.9987 time: 59.9123s\n",
      "epoch: 0421 loss_train: 0.0045 acc_train: 0.9987 time: 60.4419s\n"
     ]
    },
    {
     "ename": "KeyboardInterrupt",
     "evalue": "",
     "output_type": "error",
     "traceback": [
      "\u001b[0;31m---------------------------------------------------------------------------\u001b[0m",
      "\u001b[0;31mKeyboardInterrupt\u001b[0m                         Traceback (most recent call last)",
      "\u001b[0;32m<ipython-input-50-17d48332ada9>\u001b[0m in \u001b[0;36m<module>\u001b[0;34m\u001b[0m\n\u001b[1;32m      3\u001b[0m     \u001b[0mstart_time\u001b[0m \u001b[0;34m=\u001b[0m \u001b[0mtime\u001b[0m\u001b[0;34m.\u001b[0m\u001b[0mtime\u001b[0m\u001b[0;34m(\u001b[0m\u001b[0;34m)\u001b[0m\u001b[0;34m\u001b[0m\u001b[0;34m\u001b[0m\u001b[0m\n\u001b[1;32m      4\u001b[0m     \u001b[0mtrain_loader\u001b[0m \u001b[0;34m=\u001b[0m \u001b[0mNeighborLoader\u001b[0m\u001b[0;34m(\u001b[0m\u001b[0mtrain_data\u001b[0m\u001b[0;34m,\u001b[0m \u001b[0minput_nodes\u001b[0m \u001b[0;34m=\u001b[0m \u001b[0mtrain_num_nodes\u001b[0m\u001b[0;34m,\u001b[0m \u001b[0mnum_neighbors\u001b[0m\u001b[0;34m=\u001b[0m\u001b[0mhop\u001b[0m\u001b[0;34m,\u001b[0m \u001b[0mbatch_size\u001b[0m\u001b[0;34m=\u001b[0m\u001b[0;36m1024\u001b[0m\u001b[0;34m,\u001b[0m \u001b[0mshuffle\u001b[0m\u001b[0;34m=\u001b[0m\u001b[0;32mTrue\u001b[0m\u001b[0;34m)\u001b[0m\u001b[0;34m\u001b[0m\u001b[0;34m\u001b[0m\u001b[0m\n\u001b[0;32m----> 5\u001b[0;31m     \u001b[0mloss\u001b[0m\u001b[0;34m,\u001b[0m \u001b[0macc\u001b[0m \u001b[0;34m=\u001b[0m \u001b[0mtrain\u001b[0m\u001b[0;34m(\u001b[0m\u001b[0;34m)\u001b[0m\u001b[0;34m\u001b[0m\u001b[0;34m\u001b[0m\u001b[0m\n\u001b[0m\u001b[1;32m      6\u001b[0m     \u001b[0mtorch\u001b[0m\u001b[0;34m.\u001b[0m\u001b[0msave\u001b[0m\u001b[0;34m(\u001b[0m\u001b[0mmodel\u001b[0m\u001b[0;34m.\u001b[0m\u001b[0mstate_dict\u001b[0m\u001b[0;34m(\u001b[0m\u001b[0;34m)\u001b[0m\u001b[0;34m,\u001b[0m \u001b[0;34m'unsw_yhat/cic_epoch_bi_cnn_15_label2_'\u001b[0m \u001b[0;34m+\u001b[0m \u001b[0mstr\u001b[0m\u001b[0;34m(\u001b[0m\u001b[0mi\u001b[0m\u001b[0;34m)\u001b[0m\u001b[0;34m)\u001b[0m\u001b[0;34m\u001b[0m\u001b[0;34m\u001b[0m\u001b[0m\n\u001b[1;32m      7\u001b[0m     \u001b[0mend_time\u001b[0m \u001b[0;34m=\u001b[0m \u001b[0mtime\u001b[0m\u001b[0;34m.\u001b[0m\u001b[0mtime\u001b[0m\u001b[0;34m(\u001b[0m\u001b[0;34m)\u001b[0m\u001b[0;34m\u001b[0m\u001b[0;34m\u001b[0m\u001b[0m\n",
      "\u001b[0;32m<ipython-input-30-94b9589cf026>\u001b[0m in \u001b[0;36mtrain\u001b[0;34m()\u001b[0m\n\u001b[1;32m     10\u001b[0m         \u001b[0mloss\u001b[0m \u001b[0;34m=\u001b[0m \u001b[0mF\u001b[0m\u001b[0;34m.\u001b[0m\u001b[0mcross_entropy\u001b[0m\u001b[0;34m(\u001b[0m\u001b[0my_hat\u001b[0m\u001b[0;34m,\u001b[0m \u001b[0my\u001b[0m\u001b[0;34m)\u001b[0m\u001b[0;34m\u001b[0m\u001b[0;34m\u001b[0m\u001b[0m\n\u001b[1;32m     11\u001b[0m         \u001b[0mloss\u001b[0m\u001b[0;34m.\u001b[0m\u001b[0mbackward\u001b[0m\u001b[0;34m(\u001b[0m\u001b[0;34m)\u001b[0m\u001b[0;34m\u001b[0m\u001b[0;34m\u001b[0m\u001b[0m\n\u001b[0;32m---> 12\u001b[0;31m         \u001b[0moptimizer\u001b[0m\u001b[0;34m.\u001b[0m\u001b[0mstep\u001b[0m\u001b[0;34m(\u001b[0m\u001b[0;34m)\u001b[0m\u001b[0;34m\u001b[0m\u001b[0;34m\u001b[0m\u001b[0m\n\u001b[0m\u001b[1;32m     13\u001b[0m         \u001b[0mtotal_loss\u001b[0m \u001b[0;34m+=\u001b[0m \u001b[0mfloat\u001b[0m\u001b[0;34m(\u001b[0m\u001b[0mloss\u001b[0m\u001b[0;34m)\u001b[0m \u001b[0;34m*\u001b[0m \u001b[0mbatch\u001b[0m\u001b[0;34m.\u001b[0m\u001b[0mbatch_size\u001b[0m\u001b[0;34m\u001b[0m\u001b[0;34m\u001b[0m\u001b[0m\n\u001b[1;32m     14\u001b[0m         \u001b[0mtotal_correct\u001b[0m \u001b[0;34m+=\u001b[0m \u001b[0mint\u001b[0m\u001b[0;34m(\u001b[0m\u001b[0;34m(\u001b[0m\u001b[0my_hat\u001b[0m\u001b[0;34m.\u001b[0m\u001b[0margmax\u001b[0m\u001b[0;34m(\u001b[0m\u001b[0mdim\u001b[0m\u001b[0;34m=\u001b[0m\u001b[0;34m-\u001b[0m\u001b[0;36m1\u001b[0m\u001b[0;34m)\u001b[0m \u001b[0;34m==\u001b[0m \u001b[0my\u001b[0m\u001b[0;34m)\u001b[0m\u001b[0;34m.\u001b[0m\u001b[0msum\u001b[0m\u001b[0;34m(\u001b[0m\u001b[0;34m)\u001b[0m\u001b[0;34m)\u001b[0m\u001b[0;34m\u001b[0m\u001b[0;34m\u001b[0m\u001b[0m\n",
      "\u001b[0;32m~/anaconda3/envs/densegat2/lib/python3.6/site-packages/torch/optim/optimizer.py\u001b[0m in \u001b[0;36mwrapper\u001b[0;34m(*args, **kwargs)\u001b[0m\n\u001b[1;32m     86\u001b[0m                 \u001b[0mprofile_name\u001b[0m \u001b[0;34m=\u001b[0m \u001b[0;34m\"Optimizer.step#{}.step\"\u001b[0m\u001b[0;34m.\u001b[0m\u001b[0mformat\u001b[0m\u001b[0;34m(\u001b[0m\u001b[0mobj\u001b[0m\u001b[0;34m.\u001b[0m\u001b[0m__class__\u001b[0m\u001b[0;34m.\u001b[0m\u001b[0m__name__\u001b[0m\u001b[0;34m)\u001b[0m\u001b[0;34m\u001b[0m\u001b[0;34m\u001b[0m\u001b[0m\n\u001b[1;32m     87\u001b[0m                 \u001b[0;32mwith\u001b[0m \u001b[0mtorch\u001b[0m\u001b[0;34m.\u001b[0m\u001b[0mautograd\u001b[0m\u001b[0;34m.\u001b[0m\u001b[0mprofiler\u001b[0m\u001b[0;34m.\u001b[0m\u001b[0mrecord_function\u001b[0m\u001b[0;34m(\u001b[0m\u001b[0mprofile_name\u001b[0m\u001b[0;34m)\u001b[0m\u001b[0;34m:\u001b[0m\u001b[0;34m\u001b[0m\u001b[0;34m\u001b[0m\u001b[0m\n\u001b[0;32m---> 88\u001b[0;31m                     \u001b[0;32mreturn\u001b[0m \u001b[0mfunc\u001b[0m\u001b[0;34m(\u001b[0m\u001b[0;34m*\u001b[0m\u001b[0margs\u001b[0m\u001b[0;34m,\u001b[0m \u001b[0;34m**\u001b[0m\u001b[0mkwargs\u001b[0m\u001b[0;34m)\u001b[0m\u001b[0;34m\u001b[0m\u001b[0;34m\u001b[0m\u001b[0m\n\u001b[0m\u001b[1;32m     89\u001b[0m             \u001b[0;32mreturn\u001b[0m \u001b[0mwrapper\u001b[0m\u001b[0;34m\u001b[0m\u001b[0;34m\u001b[0m\u001b[0m\n\u001b[1;32m     90\u001b[0m \u001b[0;34m\u001b[0m\u001b[0m\n",
      "\u001b[0;32m~/anaconda3/envs/densegat2/lib/python3.6/site-packages/torch/autograd/grad_mode.py\u001b[0m in \u001b[0;36mdecorate_context\u001b[0;34m(*args, **kwargs)\u001b[0m\n\u001b[1;32m     26\u001b[0m         \u001b[0;32mdef\u001b[0m \u001b[0mdecorate_context\u001b[0m\u001b[0;34m(\u001b[0m\u001b[0;34m*\u001b[0m\u001b[0margs\u001b[0m\u001b[0;34m,\u001b[0m \u001b[0;34m**\u001b[0m\u001b[0mkwargs\u001b[0m\u001b[0;34m)\u001b[0m\u001b[0;34m:\u001b[0m\u001b[0;34m\u001b[0m\u001b[0;34m\u001b[0m\u001b[0m\n\u001b[1;32m     27\u001b[0m             \u001b[0;32mwith\u001b[0m \u001b[0mself\u001b[0m\u001b[0;34m.\u001b[0m\u001b[0m__class__\u001b[0m\u001b[0;34m(\u001b[0m\u001b[0;34m)\u001b[0m\u001b[0;34m:\u001b[0m\u001b[0;34m\u001b[0m\u001b[0;34m\u001b[0m\u001b[0m\n\u001b[0;32m---> 28\u001b[0;31m                 \u001b[0;32mreturn\u001b[0m \u001b[0mfunc\u001b[0m\u001b[0;34m(\u001b[0m\u001b[0;34m*\u001b[0m\u001b[0margs\u001b[0m\u001b[0;34m,\u001b[0m \u001b[0;34m**\u001b[0m\u001b[0mkwargs\u001b[0m\u001b[0;34m)\u001b[0m\u001b[0;34m\u001b[0m\u001b[0;34m\u001b[0m\u001b[0m\n\u001b[0m\u001b[1;32m     29\u001b[0m         \u001b[0;32mreturn\u001b[0m \u001b[0mcast\u001b[0m\u001b[0;34m(\u001b[0m\u001b[0mF\u001b[0m\u001b[0;34m,\u001b[0m \u001b[0mdecorate_context\u001b[0m\u001b[0;34m)\u001b[0m\u001b[0;34m\u001b[0m\u001b[0;34m\u001b[0m\u001b[0m\n\u001b[1;32m     30\u001b[0m \u001b[0;34m\u001b[0m\u001b[0m\n",
      "\u001b[0;32m~/anaconda3/envs/densegat2/lib/python3.6/site-packages/torch/optim/adam.py\u001b[0m in \u001b[0;36mstep\u001b[0;34m(self, closure)\u001b[0m\n\u001b[1;32m    142\u001b[0m                    \u001b[0mlr\u001b[0m\u001b[0;34m=\u001b[0m\u001b[0mgroup\u001b[0m\u001b[0;34m[\u001b[0m\u001b[0;34m'lr'\u001b[0m\u001b[0;34m]\u001b[0m\u001b[0;34m,\u001b[0m\u001b[0;34m\u001b[0m\u001b[0;34m\u001b[0m\u001b[0m\n\u001b[1;32m    143\u001b[0m                    \u001b[0mweight_decay\u001b[0m\u001b[0;34m=\u001b[0m\u001b[0mgroup\u001b[0m\u001b[0;34m[\u001b[0m\u001b[0;34m'weight_decay'\u001b[0m\u001b[0;34m]\u001b[0m\u001b[0;34m,\u001b[0m\u001b[0;34m\u001b[0m\u001b[0;34m\u001b[0m\u001b[0m\n\u001b[0;32m--> 144\u001b[0;31m                    eps=group['eps'])\n\u001b[0m\u001b[1;32m    145\u001b[0m         \u001b[0;32mreturn\u001b[0m \u001b[0mloss\u001b[0m\u001b[0;34m\u001b[0m\u001b[0;34m\u001b[0m\u001b[0m\n",
      "\u001b[0;32m~/anaconda3/envs/densegat2/lib/python3.6/site-packages/torch/optim/_functional.py\u001b[0m in \u001b[0;36madam\u001b[0;34m(params, grads, exp_avgs, exp_avg_sqs, max_exp_avg_sqs, state_steps, amsgrad, beta1, beta2, lr, weight_decay, eps)\u001b[0m\n\u001b[1;32m     92\u001b[0m             \u001b[0mdenom\u001b[0m \u001b[0;34m=\u001b[0m \u001b[0;34m(\u001b[0m\u001b[0mmax_exp_avg_sqs\u001b[0m\u001b[0;34m[\u001b[0m\u001b[0mi\u001b[0m\u001b[0;34m]\u001b[0m\u001b[0;34m.\u001b[0m\u001b[0msqrt\u001b[0m\u001b[0;34m(\u001b[0m\u001b[0;34m)\u001b[0m \u001b[0;34m/\u001b[0m \u001b[0mmath\u001b[0m\u001b[0;34m.\u001b[0m\u001b[0msqrt\u001b[0m\u001b[0;34m(\u001b[0m\u001b[0mbias_correction2\u001b[0m\u001b[0;34m)\u001b[0m\u001b[0;34m)\u001b[0m\u001b[0;34m.\u001b[0m\u001b[0madd_\u001b[0m\u001b[0;34m(\u001b[0m\u001b[0meps\u001b[0m\u001b[0;34m)\u001b[0m\u001b[0;34m\u001b[0m\u001b[0;34m\u001b[0m\u001b[0m\n\u001b[1;32m     93\u001b[0m         \u001b[0;32melse\u001b[0m\u001b[0;34m:\u001b[0m\u001b[0;34m\u001b[0m\u001b[0;34m\u001b[0m\u001b[0m\n\u001b[0;32m---> 94\u001b[0;31m             \u001b[0mdenom\u001b[0m \u001b[0;34m=\u001b[0m \u001b[0;34m(\u001b[0m\u001b[0mexp_avg_sq\u001b[0m\u001b[0;34m.\u001b[0m\u001b[0msqrt\u001b[0m\u001b[0;34m(\u001b[0m\u001b[0;34m)\u001b[0m \u001b[0;34m/\u001b[0m \u001b[0mmath\u001b[0m\u001b[0;34m.\u001b[0m\u001b[0msqrt\u001b[0m\u001b[0;34m(\u001b[0m\u001b[0mbias_correction2\u001b[0m\u001b[0;34m)\u001b[0m\u001b[0;34m)\u001b[0m\u001b[0;34m.\u001b[0m\u001b[0madd_\u001b[0m\u001b[0;34m(\u001b[0m\u001b[0meps\u001b[0m\u001b[0;34m)\u001b[0m\u001b[0;34m\u001b[0m\u001b[0;34m\u001b[0m\u001b[0m\n\u001b[0m\u001b[1;32m     95\u001b[0m \u001b[0;34m\u001b[0m\u001b[0m\n\u001b[1;32m     96\u001b[0m         \u001b[0mstep_size\u001b[0m \u001b[0;34m=\u001b[0m \u001b[0mlr\u001b[0m \u001b[0;34m/\u001b[0m \u001b[0mbias_correction1\u001b[0m\u001b[0;34m\u001b[0m\u001b[0;34m\u001b[0m\u001b[0m\n",
      "\u001b[0;31mKeyboardInterrupt\u001b[0m: "
     ]
    }
   ],
   "source": [
    "model.train()\n",
    "while i < (1 + epochs):\n",
    "    start_time = time.time()\n",
    "    train_loader = NeighborLoader(train_data, input_nodes = train_num_nodes, num_neighbors=hop, batch_size=1024, shuffle=True)\n",
    "    loss, acc = train()\n",
    "    torch.save(model.state_dict(), 'unsw_yhat/cic_epoch_bi_cnn_15_label2_' + str(i))\n",
    "    end_time = time.time()\n",
    "    print('epoch: {:04d}'.format(i),\n",
    "          'loss_train: {:.4f}'.format(loss),\n",
    "          'acc_train: {:.4f}'.format(acc),\n",
    "          'time: {:.4f}s'.format(end_time - start_time))\n",
    "    loss_all.append(loss)\n",
    "    i += 1"
   ]
  },
  {
   "cell_type": "code",
   "execution_count": 30,
   "id": "dd2611f1",
   "metadata": {},
   "outputs": [],
   "source": [
    "device = 'cpu'\n",
    "model = model.to(device)"
   ]
  },
  {
   "cell_type": "code",
   "execution_count": 55,
   "id": "0e808b98",
   "metadata": {},
   "outputs": [
    {
     "data": {
      "text/plain": [
       "<All keys matched successfully>"
      ]
     },
     "execution_count": 55,
     "metadata": {},
     "output_type": "execute_result"
    }
   ],
   "source": [
    "model.load_state_dict(torch.load( 'unsw_yhat/cic_epoch_bi_cnn_15_label2_200', map_location='cpu'))"
   ]
  },
  {
   "cell_type": "code",
   "execution_count": 56,
   "id": "2117857f",
   "metadata": {},
   "outputs": [
    {
     "name": "stderr",
     "output_type": "stream",
     "text": [
      "100%|██████████| 178/178 [00:34<00:00,  5.17it/s]\n"
     ]
    },
    {
     "name": "stdout",
     "output_type": "stream",
     "text": [
      "[1 1 1 ... 1 1 0]\n",
      "tensor([1, 1, 1,  ..., 1, 1, 1])\n",
      "0.9836125180424875\n",
      "              precision    recall  f1-score   support\n",
      "\n",
      "           0     0.9934    0.9678    0.9804     15000\n",
      "           1     0.9971    0.9994    0.9983    166967\n",
      "\n",
      "    accuracy                         0.9968    181967\n",
      "   macro avg     0.9953    0.9836    0.9894    181967\n",
      "weighted avg     0.9968    0.9968    0.9968    181967\n",
      "\n",
      "[[ 14517    483]\n",
      " [    96 166871]]\n"
     ]
    }
   ],
   "source": [
    "inferrence(model, subgraph_loader)"
   ]
  },
  {
   "cell_type": "code",
   "execution_count": 59,
   "id": "01e80274",
   "metadata": {},
   "outputs": [],
   "source": [
    "all_auc = []"
   ]
  },
  {
   "cell_type": "code",
   "execution_count": 72,
   "id": "e0f94c17",
   "metadata": {},
   "outputs": [],
   "source": [
    "all_auc2 = []"
   ]
  },
  {
   "cell_type": "code",
   "execution_count": 73,
   "id": "2d7f309f",
   "metadata": {},
   "outputs": [
    {
     "name": "stderr",
     "output_type": "stream",
     "text": [
      "\n",
      "\n",
      "  0%|          | 0/178 [00:00<?, ?it/s]\u001b[A\u001b[A\n",
      "\n",
      "  1%|          | 1/178 [00:00<00:40,  4.41it/s]\u001b[A\u001b[A\n",
      "\n",
      "  1%|          | 2/178 [00:00<00:38,  4.56it/s]\u001b[A\u001b[A\n",
      "\n",
      "  2%|▏         | 3/178 [00:00<00:38,  4.57it/s]\u001b[A\u001b[A\n",
      "\n",
      "  2%|▏         | 4/178 [00:00<00:36,  4.77it/s]\u001b[A\u001b[A\n",
      "\n",
      "  3%|▎         | 5/178 [00:01<00:40,  4.31it/s]\u001b[A\u001b[A\n",
      "\n",
      "  3%|▎         | 6/178 [00:01<00:43,  3.99it/s]\u001b[A\u001b[A\n",
      "\n",
      "  4%|▍         | 7/178 [00:01<00:39,  4.35it/s]\u001b[A\u001b[A\n",
      "\n",
      "  4%|▍         | 8/178 [00:01<00:40,  4.19it/s]\u001b[A\u001b[A\n",
      "\n",
      "  5%|▌         | 9/178 [00:02<00:38,  4.39it/s]\u001b[A\u001b[A\n",
      "\n",
      "  6%|▌         | 10/178 [00:02<00:39,  4.26it/s]\u001b[A\u001b[A\n",
      "\n",
      "  6%|▌         | 11/178 [00:02<00:38,  4.35it/s]\u001b[A\u001b[A\n",
      "\n",
      "  7%|▋         | 12/178 [00:02<00:33,  4.96it/s]\u001b[A\u001b[A\n",
      "\n",
      "  8%|▊         | 14/178 [00:02<00:28,  5.71it/s]\u001b[A\u001b[A\n",
      "\n",
      "  8%|▊         | 15/178 [00:03<00:30,  5.41it/s]\u001b[A\u001b[A\n",
      "\n",
      "  9%|▉         | 16/178 [00:03<00:30,  5.39it/s]\u001b[A\u001b[A\n",
      "\n",
      " 10%|▉         | 17/178 [00:03<00:29,  5.45it/s]\u001b[A\u001b[A\n",
      "\n",
      " 10%|█         | 18/178 [00:03<00:29,  5.36it/s]\u001b[A\u001b[A\n",
      "\n",
      " 11%|█         | 19/178 [00:03<00:30,  5.14it/s]\u001b[A\u001b[A\n",
      "\n",
      " 11%|█         | 20/178 [00:04<00:31,  5.08it/s]\u001b[A\u001b[A\n",
      "\n",
      " 12%|█▏        | 21/178 [00:04<00:31,  5.00it/s]\u001b[A\u001b[A\n",
      "\n",
      " 12%|█▏        | 22/178 [00:04<00:32,  4.74it/s]\u001b[A\u001b[A\n",
      "\n",
      " 13%|█▎        | 23/178 [00:04<00:33,  4.68it/s]\u001b[A\u001b[A\n",
      "\n",
      " 13%|█▎        | 24/178 [00:05<00:32,  4.80it/s]\u001b[A\u001b[A\n",
      "\n",
      " 14%|█▍        | 25/178 [00:05<00:31,  4.87it/s]\u001b[A\u001b[A\n",
      "\n",
      " 15%|█▍        | 26/178 [00:05<00:30,  4.91it/s]\u001b[A\u001b[A\n",
      "\n",
      " 15%|█▌        | 27/178 [00:05<00:31,  4.73it/s]\u001b[A\u001b[A\n",
      "\n",
      " 16%|█▌        | 28/178 [00:05<00:32,  4.57it/s]\u001b[A\u001b[A\n",
      "\n",
      " 16%|█▋        | 29/178 [00:06<00:33,  4.47it/s]\u001b[A\u001b[A\n",
      "\n",
      " 17%|█▋        | 30/178 [00:06<00:28,  5.26it/s]\u001b[A\u001b[A\n",
      "\n",
      " 17%|█▋        | 31/178 [00:06<00:30,  4.89it/s]\u001b[A\u001b[A\n",
      "\n",
      " 18%|█▊        | 32/178 [00:06<00:30,  4.75it/s]\u001b[A\u001b[A\n",
      "\n",
      " 19%|█▊        | 33/178 [00:06<00:26,  5.42it/s]\u001b[A\u001b[A\n",
      "\n",
      " 19%|█▉        | 34/178 [00:07<00:27,  5.23it/s]\u001b[A\u001b[A\n",
      "\n",
      " 20%|█▉        | 35/178 [00:07<00:28,  5.07it/s]\u001b[A\u001b[A\n",
      "\n",
      " 20%|██        | 36/178 [00:07<00:27,  5.17it/s]\u001b[A\u001b[A\n",
      "\n",
      " 21%|██        | 37/178 [00:07<00:23,  5.96it/s]\u001b[A\u001b[A\n",
      "\n",
      " 21%|██▏       | 38/178 [00:07<00:25,  5.53it/s]\u001b[A\u001b[A\n",
      "\n",
      " 22%|██▏       | 39/178 [00:07<00:26,  5.27it/s]\u001b[A\u001b[A\n",
      "\n",
      " 22%|██▏       | 40/178 [00:08<00:24,  5.54it/s]\u001b[A\u001b[A\n",
      "\n",
      "  1%|          | 1/178 [03:35<10:36:59, 215.93s/it]\u001b[A\n",
      " 11%|█         | 19/178 [01:35<13:20,  5.03s/it]\n",
      "\n",
      "\n",
      " 24%|██▎       | 42/178 [00:08<00:27,  4.98it/s]\u001b[A\u001b[A\n",
      "\n",
      " 24%|██▍       | 43/178 [00:08<00:26,  5.13it/s]\u001b[A\u001b[A\n",
      "\n",
      " 25%|██▍       | 44/178 [00:08<00:26,  5.00it/s]\u001b[A\u001b[A\n",
      "\n",
      " 25%|██▌       | 45/178 [00:09<00:26,  5.07it/s]\u001b[A\u001b[A\n",
      "\n",
      " 26%|██▌       | 46/178 [00:09<00:23,  5.71it/s]\u001b[A\u001b[A\n",
      "\n",
      " 27%|██▋       | 48/178 [00:09<00:21,  5.92it/s]\u001b[A\u001b[A\n",
      "\n",
      " 28%|██▊       | 49/178 [00:09<00:23,  5.58it/s]\u001b[A\u001b[A\n",
      "\n",
      " 28%|██▊       | 50/178 [00:09<00:21,  6.09it/s]\u001b[A\u001b[A\n",
      "\n",
      " 29%|██▊       | 51/178 [00:10<00:18,  6.75it/s]\u001b[A\u001b[A\n",
      "\n",
      " 29%|██▉       | 52/178 [00:10<00:20,  6.04it/s]\u001b[A\u001b[A\n",
      "\n",
      " 30%|██▉       | 53/178 [00:10<00:22,  5.50it/s]\u001b[A\u001b[A\n",
      "\n",
      " 30%|███       | 54/178 [00:10<00:23,  5.33it/s]\u001b[A\u001b[A\n",
      "\n",
      " 31%|███       | 55/178 [00:10<00:19,  6.15it/s]\u001b[A\u001b[A\n",
      "\n",
      " 31%|███▏      | 56/178 [00:10<00:22,  5.52it/s]\u001b[A\u001b[A\n",
      "\n",
      " 33%|███▎      | 58/178 [00:11<00:20,  5.80it/s]\u001b[A\u001b[A\n",
      "\n",
      " 33%|███▎      | 59/178 [00:11<00:19,  6.09it/s]\u001b[A\u001b[A\n",
      "\n",
      " 34%|███▎      | 60/178 [00:11<00:21,  5.58it/s]\u001b[A\u001b[A\n",
      "\n",
      " 34%|███▍      | 61/178 [00:11<00:18,  6.20it/s]\u001b[A\u001b[A\n",
      "\n",
      " 35%|███▍      | 62/178 [00:11<00:20,  5.58it/s]\u001b[A\u001b[A\n",
      "\n",
      " 36%|███▌      | 64/178 [00:12<00:18,  6.01it/s]\u001b[A\u001b[A\n",
      "\n",
      " 37%|███▋      | 65/178 [00:12<00:20,  5.53it/s]\u001b[A\u001b[A\n",
      "\n",
      " 37%|███▋      | 66/178 [00:12<00:21,  5.33it/s]\u001b[A\u001b[A\n",
      "\n",
      " 38%|███▊      | 67/178 [00:12<00:21,  5.19it/s]\u001b[A\u001b[A\n",
      "\n",
      " 38%|███▊      | 68/178 [00:13<00:19,  5.65it/s]\u001b[A\u001b[A\n",
      "\n",
      " 39%|███▉      | 69/178 [00:13<00:21,  5.12it/s]\u001b[A\u001b[A\n",
      "\n",
      " 39%|███▉      | 70/178 [00:13<00:21,  5.05it/s]\u001b[A\u001b[A\n",
      "\n",
      " 40%|███▉      | 71/178 [00:13<00:21,  5.06it/s]\u001b[A\u001b[A\n",
      "\n",
      " 40%|████      | 72/178 [00:13<00:22,  4.74it/s]\u001b[A\u001b[A\n",
      "\n",
      " 41%|████      | 73/178 [00:14<00:23,  4.48it/s]\u001b[A\u001b[A\n",
      "\n",
      " 42%|████▏     | 74/178 [00:14<00:23,  4.47it/s]\u001b[A\u001b[A\n",
      "\n",
      " 42%|████▏     | 75/178 [00:14<00:22,  4.51it/s]\u001b[A\u001b[A\n",
      "\n",
      " 43%|████▎     | 76/178 [00:14<00:22,  4.60it/s]\u001b[A\u001b[A\n",
      "\n",
      " 43%|████▎     | 77/178 [00:15<00:20,  4.98it/s]\u001b[A\u001b[A\n",
      "\n",
      " 44%|████▍     | 78/178 [00:15<00:19,  5.00it/s]\u001b[A\u001b[A\n",
      "\n",
      " 44%|████▍     | 79/178 [00:15<00:19,  5.04it/s]\u001b[A\u001b[A\n",
      "\n",
      " 45%|████▍     | 80/178 [00:15<00:17,  5.62it/s]\u001b[A\u001b[A\n",
      "\n",
      " 46%|████▌     | 81/178 [00:15<00:17,  5.63it/s]\u001b[A\u001b[A\n",
      "\n",
      " 46%|████▌     | 82/178 [00:15<00:14,  6.47it/s]\u001b[A\u001b[A\n",
      "\n",
      " 47%|████▋     | 83/178 [00:16<00:16,  5.80it/s]\u001b[A\u001b[A\n",
      "\n",
      " 47%|████▋     | 84/178 [00:16<00:18,  4.95it/s]\u001b[A\u001b[A\n",
      "\n",
      " 48%|████▊     | 85/178 [00:16<00:19,  4.78it/s]\u001b[A\u001b[A\n",
      "\n",
      " 48%|████▊     | 86/178 [00:16<00:16,  5.49it/s]\u001b[A\u001b[A\n",
      "\n",
      " 49%|████▉     | 87/178 [00:16<00:17,  5.24it/s]\u001b[A\u001b[A\n",
      "\n",
      " 49%|████▉     | 88/178 [00:16<00:15,  5.83it/s]\u001b[A\u001b[A\n",
      "\n",
      " 50%|█████     | 89/178 [00:17<00:16,  5.30it/s]\u001b[A\u001b[A\n",
      "\n",
      " 51%|█████     | 90/178 [00:17<00:16,  5.22it/s]\u001b[A\u001b[A\n",
      "\n",
      " 52%|█████▏    | 92/178 [00:17<00:15,  5.61it/s]\u001b[A\u001b[A\n",
      "\n",
      " 53%|█████▎    | 94/178 [00:17<00:12,  6.79it/s]\u001b[A\u001b[A\n",
      "\n",
      " 53%|█████▎    | 95/178 [00:18<00:13,  6.05it/s]\u001b[A\u001b[A\n",
      "\n",
      " 54%|█████▍    | 96/178 [00:18<00:14,  5.64it/s]\u001b[A\u001b[A\n",
      "\n",
      " 54%|█████▍    | 97/178 [00:18<00:14,  5.41it/s]\u001b[A\u001b[A\n",
      "\n",
      " 55%|█████▌    | 98/178 [00:18<00:15,  5.32it/s]\u001b[A\u001b[A\n",
      "\n",
      " 56%|█████▌    | 99/178 [00:18<00:13,  5.98it/s]\u001b[A\u001b[A\n",
      "\n",
      " 56%|█████▌    | 100/178 [00:19<00:13,  5.76it/s]\u001b[A\u001b[A\n",
      "\n",
      " 57%|█████▋    | 101/178 [00:19<00:14,  5.16it/s]\u001b[A\u001b[A\n",
      "\n",
      " 57%|█████▋    | 102/178 [00:19<00:12,  5.92it/s]\u001b[A\u001b[A\n",
      "\n",
      " 58%|█████▊    | 103/178 [00:19<00:14,  5.33it/s]\u001b[A\u001b[A\n",
      "\n",
      " 58%|█████▊    | 104/178 [00:19<00:14,  5.20it/s]\u001b[A\u001b[A\n",
      "\n",
      " 59%|█████▉    | 105/178 [00:20<00:12,  5.84it/s]\u001b[A\u001b[A\n",
      "\n",
      " 60%|█████▉    | 106/178 [00:20<00:13,  5.46it/s]\u001b[A\u001b[A\n",
      "\n",
      " 60%|██████    | 107/178 [00:20<00:13,  5.08it/s]\u001b[A\u001b[A\n",
      "\n",
      " 61%|██████    | 108/178 [00:20<00:13,  5.07it/s]\u001b[A\u001b[A\n",
      "\n",
      " 61%|██████    | 109/178 [00:20<00:14,  4.66it/s]\u001b[A\u001b[A\n",
      "\n",
      " 62%|██████▏   | 111/178 [00:21<00:10,  6.33it/s]\u001b[A\u001b[A\n",
      "\n",
      " 63%|██████▎   | 112/178 [00:21<00:11,  5.95it/s]\u001b[A\u001b[A\n",
      "\n",
      " 63%|██████▎   | 113/178 [00:21<00:12,  5.27it/s]\u001b[A\u001b[A\n",
      "\n",
      " 64%|██████▍   | 114/178 [00:21<00:11,  5.35it/s]\u001b[A\u001b[A\n",
      "\n",
      " 65%|██████▍   | 115/178 [00:21<00:10,  5.81it/s]\u001b[A\u001b[A\n",
      "\n",
      " 65%|██████▌   | 116/178 [00:22<00:11,  5.51it/s]\u001b[A\u001b[A\n",
      "\n",
      " 66%|██████▌   | 117/178 [00:22<00:11,  5.14it/s]\u001b[A\u001b[A\n",
      "\n",
      " 66%|██████▋   | 118/178 [00:22<00:11,  5.01it/s]\u001b[A\u001b[A\n",
      "\n",
      " 67%|██████▋   | 119/178 [00:22<00:12,  4.84it/s]\u001b[A\u001b[A\n",
      "\n",
      " 67%|██████▋   | 120/178 [00:22<00:11,  5.00it/s]\u001b[A\u001b[A\n",
      "\n",
      " 68%|██████▊   | 121/178 [00:23<00:11,  4.88it/s]\u001b[A\u001b[A\n",
      "\n",
      " 69%|██████▊   | 122/178 [00:23<00:09,  5.72it/s]\u001b[A\u001b[A\n",
      "\n",
      " 69%|██████▉   | 123/178 [00:23<00:09,  5.66it/s]\u001b[A\u001b[A\n",
      "\n",
      " 70%|██████▉   | 124/178 [00:23<00:08,  6.43it/s]\u001b[A\u001b[A\n",
      "\n",
      " 70%|███████   | 125/178 [00:23<00:10,  5.22it/s]\u001b[A\u001b[A\n",
      "\n",
      " 71%|███████   | 126/178 [00:23<00:08,  5.99it/s]\u001b[A\u001b[A\n",
      "\n",
      " 71%|███████▏  | 127/178 [00:24<00:09,  5.41it/s]\u001b[A\u001b[A\n",
      "\n",
      " 72%|███████▏  | 128/178 [00:24<00:09,  5.05it/s]\u001b[A\u001b[A\n",
      "\n",
      " 72%|███████▏  | 129/178 [00:24<00:09,  5.03it/s]\u001b[A\u001b[A\n",
      "\n",
      " 73%|███████▎  | 130/178 [00:24<00:10,  4.71it/s]\u001b[A\u001b[A\n",
      "\n",
      " 74%|███████▎  | 131/178 [00:25<00:10,  4.64it/s]\u001b[A\u001b[A\n",
      "\n",
      " 74%|███████▍  | 132/178 [00:25<00:08,  5.43it/s]\u001b[A\u001b[A\n",
      "\n",
      " 75%|███████▍  | 133/178 [00:25<00:08,  5.49it/s]\u001b[A\u001b[A\n",
      "\n",
      " 75%|███████▌  | 134/178 [00:25<00:08,  5.26it/s]\u001b[A\u001b[A\n",
      "\n",
      " 76%|███████▌  | 135/178 [00:25<00:07,  5.47it/s]\u001b[A\u001b[A\n",
      "\n",
      " 76%|███████▋  | 136/178 [00:25<00:08,  5.19it/s]\u001b[A\u001b[A\n",
      "\n",
      " 77%|███████▋  | 137/178 [00:26<00:08,  4.82it/s]\u001b[A\u001b[A\n",
      "\n",
      " 78%|███████▊  | 138/178 [00:26<00:08,  4.87it/s]\u001b[A\u001b[A\n",
      "\n",
      " 78%|███████▊  | 139/178 [00:26<00:07,  5.55it/s]\u001b[A\u001b[A\n",
      "\n",
      " 79%|███████▊  | 140/178 [00:26<00:07,  4.96it/s]\u001b[A\u001b[A\n",
      "\n",
      " 79%|███████▉  | 141/178 [00:26<00:07,  4.88it/s]\u001b[A\u001b[A\n",
      "\n",
      " 80%|███████▉  | 142/178 [00:27<00:06,  5.52it/s]\u001b[A\u001b[A\n",
      "\n",
      " 80%|████████  | 143/178 [00:27<00:06,  5.26it/s]\u001b[A\u001b[A\n",
      "\n",
      " 81%|████████  | 144/178 [00:27<00:05,  5.87it/s]\u001b[A\u001b[A\n",
      "\n",
      " 81%|████████▏ | 145/178 [00:27<00:05,  5.66it/s]\u001b[A\u001b[A\n",
      "\n",
      " 82%|████████▏ | 146/178 [00:27<00:06,  5.15it/s]\u001b[A\u001b[A\n",
      "\n",
      " 83%|████████▎ | 147/178 [00:28<00:06,  5.08it/s]\u001b[A\u001b[A\n",
      "\n",
      " 83%|████████▎ | 148/178 [00:28<00:06,  4.92it/s]\u001b[A\u001b[A\n",
      "\n",
      " 84%|████████▎ | 149/178 [00:28<00:06,  4.76it/s]\u001b[A\u001b[A\n",
      "\n",
      " 84%|████████▍ | 150/178 [00:28<00:05,  4.75it/s]\u001b[A\u001b[A\n",
      "\n",
      " 85%|████████▍ | 151/178 [00:28<00:05,  4.58it/s]\u001b[A\u001b[A\n",
      "\n",
      " 85%|████████▌ | 152/178 [00:29<00:05,  4.59it/s]\u001b[A\u001b[A\n",
      "\n",
      " 86%|████████▌ | 153/178 [00:29<00:05,  4.58it/s]\u001b[A\u001b[A\n",
      "\n",
      " 87%|████████▋ | 154/178 [00:29<00:05,  4.38it/s]\u001b[A\u001b[A\n",
      "\n",
      " 87%|████████▋ | 155/178 [00:29<00:05,  4.51it/s]\u001b[A\u001b[A\n",
      "\n",
      " 88%|████████▊ | 156/178 [00:29<00:04,  4.84it/s]\u001b[A\u001b[A\n",
      "\n",
      " 88%|████████▊ | 157/178 [00:30<00:04,  4.87it/s]\u001b[A\u001b[A\n",
      "\n",
      " 89%|████████▉ | 158/178 [00:30<00:04,  4.93it/s]\u001b[A\u001b[A\n",
      "\n",
      " 89%|████████▉ | 159/178 [00:30<00:04,  4.49it/s]\u001b[A\u001b[A\n",
      "\n",
      " 90%|████████▉ | 160/178 [00:30<00:03,  5.07it/s]\u001b[A\u001b[A\n",
      "\n",
      " 91%|█████████ | 162/178 [00:31<00:02,  5.82it/s]\u001b[A\u001b[A\n",
      "\n",
      " 92%|█████████▏| 163/178 [00:31<00:02,  5.51it/s]\u001b[A\u001b[A\n",
      "\n",
      " 92%|█████████▏| 164/178 [00:31<00:02,  6.13it/s]\u001b[A\u001b[A\n",
      "\n",
      " 93%|█████████▎| 165/178 [00:31<00:02,  5.60it/s]\u001b[A\u001b[A\n",
      "\n",
      " 93%|█████████▎| 166/178 [00:31<00:02,  5.13it/s]\u001b[A\u001b[A\n",
      "\n",
      " 94%|█████████▍| 167/178 [00:32<00:02,  5.01it/s]\u001b[A\u001b[A\n",
      "\n",
      " 94%|█████████▍| 168/178 [00:32<00:02,  4.91it/s]\u001b[A\u001b[A\n",
      "\n",
      " 95%|█████████▍| 169/178 [00:32<00:01,  5.04it/s]\u001b[A\u001b[A\n",
      "\n",
      " 96%|█████████▌| 170/178 [00:32<00:01,  5.80it/s]\u001b[A\u001b[A\n",
      "\n",
      " 96%|█████████▌| 171/178 [00:32<00:01,  5.39it/s]\u001b[A\u001b[A\n",
      "\n",
      " 97%|█████████▋| 172/178 [00:32<00:00,  6.11it/s]\u001b[A\u001b[A\n",
      "\n",
      " 97%|█████████▋| 173/178 [00:33<00:00,  5.43it/s]\u001b[A\u001b[A\n",
      "\n",
      " 98%|█████████▊| 174/178 [00:33<00:00,  4.99it/s]\u001b[A\u001b[A\n",
      "\n",
      " 98%|█████████▊| 175/178 [00:33<00:00,  5.61it/s]\u001b[A\u001b[A\n",
      "\n",
      " 99%|█████████▉| 176/178 [00:33<00:00,  5.47it/s]\u001b[A\u001b[A\n",
      "\n",
      " 99%|█████████▉| 177/178 [00:33<00:00,  5.19it/s]\u001b[A\u001b[A\n",
      "\n",
      "100%|██████████| 178/178 [00:34<00:00,  5.22it/s]\u001b[A\u001b[A\n",
      "100%|██████████| 178/178 [00:34<00:00,  5.22it/s]\n",
      "100%|██████████| 178/178 [00:33<00:00,  5.26it/s]\n",
      "100%|██████████| 178/178 [00:33<00:00,  5.33it/s]\n",
      "  0%|          | 0/178 [00:00<?, ?it/s]"
     ]
    },
    {
     "ename": "KeyboardInterrupt",
     "evalue": "",
     "output_type": "error",
     "traceback": [
      "\u001b[0;31m---------------------------------------------------------------------------\u001b[0m",
      "\u001b[0;31mKeyboardInterrupt\u001b[0m                         Traceback (most recent call last)",
      "\u001b[0;32m<ipython-input-73-da9ca76093dc>\u001b[0m in \u001b[0;36m<module>\u001b[0;34m\u001b[0m\n\u001b[1;32m      1\u001b[0m \u001b[0;32mfor\u001b[0m \u001b[0mi\u001b[0m \u001b[0;32min\u001b[0m \u001b[0mrange\u001b[0m\u001b[0;34m(\u001b[0m\u001b[0;36m252\u001b[0m\u001b[0;34m,\u001b[0m \u001b[0;36m400\u001b[0m\u001b[0;34m)\u001b[0m\u001b[0;34m:\u001b[0m\u001b[0;34m\u001b[0m\u001b[0;34m\u001b[0m\u001b[0m\n\u001b[1;32m      2\u001b[0m     \u001b[0mmodel\u001b[0m\u001b[0;34m.\u001b[0m\u001b[0mload_state_dict\u001b[0m\u001b[0;34m(\u001b[0m\u001b[0mtorch\u001b[0m\u001b[0;34m.\u001b[0m\u001b[0mload\u001b[0m\u001b[0;34m(\u001b[0m \u001b[0;34m'unsw_yhat/cic_epoch_bi_cnn_15_label2_'\u001b[0m \u001b[0;34m+\u001b[0m \u001b[0mstr\u001b[0m\u001b[0;34m(\u001b[0m\u001b[0mi\u001b[0m\u001b[0;34m)\u001b[0m\u001b[0;34m,\u001b[0m \u001b[0mmap_location\u001b[0m\u001b[0;34m=\u001b[0m\u001b[0;34m'cpu'\u001b[0m\u001b[0;34m)\u001b[0m\u001b[0;34m)\u001b[0m\u001b[0;34m\u001b[0m\u001b[0;34m\u001b[0m\u001b[0m\n\u001b[0;32m----> 3\u001b[0;31m     \u001b[0mauc\u001b[0m \u001b[0;34m=\u001b[0m \u001b[0minferrence\u001b[0m\u001b[0;34m(\u001b[0m\u001b[0mmodel\u001b[0m\u001b[0;34m,\u001b[0m \u001b[0msubgraph_loader\u001b[0m\u001b[0;34m)\u001b[0m\u001b[0;34m\u001b[0m\u001b[0;34m\u001b[0m\u001b[0m\n\u001b[0m\u001b[1;32m      4\u001b[0m     \u001b[0mall_auc2\u001b[0m\u001b[0;34m.\u001b[0m\u001b[0mappend\u001b[0m\u001b[0;34m(\u001b[0m\u001b[0mauc\u001b[0m\u001b[0;34m)\u001b[0m\u001b[0;34m\u001b[0m\u001b[0;34m\u001b[0m\u001b[0m\n",
      "\u001b[0;32m<ipython-input-58-4d1a833a5020>\u001b[0m in \u001b[0;36minferrence\u001b[0;34m(model, subgraph_loader)\u001b[0m\n\u001b[1;32m     24\u001b[0m     \u001b[0mpbar\u001b[0m \u001b[0;34m=\u001b[0m \u001b[0mtqdm\u001b[0m\u001b[0;34m(\u001b[0m\u001b[0mtotal\u001b[0m\u001b[0;34m=\u001b[0m\u001b[0mlen\u001b[0m\u001b[0;34m(\u001b[0m\u001b[0msubgraph_loader\u001b[0m\u001b[0;34m)\u001b[0m\u001b[0;34m)\u001b[0m\u001b[0;34m\u001b[0m\u001b[0;34m\u001b[0m\u001b[0m\n\u001b[1;32m     25\u001b[0m     \u001b[0;32mfor\u001b[0m \u001b[0mbatch\u001b[0m \u001b[0;32min\u001b[0m \u001b[0msubgraph_loader\u001b[0m\u001b[0;34m:\u001b[0m\u001b[0;34m\u001b[0m\u001b[0;34m\u001b[0m\u001b[0m\n\u001b[0;32m---> 26\u001b[0;31m         \u001b[0my_hat\u001b[0m \u001b[0;34m=\u001b[0m \u001b[0mmodel\u001b[0m\u001b[0;34m(\u001b[0m\u001b[0mbatch\u001b[0m\u001b[0;34m.\u001b[0m\u001b[0mx\u001b[0m\u001b[0;34m,\u001b[0m \u001b[0mbatch\u001b[0m\u001b[0;34m.\u001b[0m\u001b[0medge_index\u001b[0m\u001b[0;34m.\u001b[0m\u001b[0mto\u001b[0m\u001b[0;34m(\u001b[0m\u001b[0mdevice\u001b[0m\u001b[0;34m)\u001b[0m\u001b[0;34m)\u001b[0m\u001b[0;34m[\u001b[0m\u001b[0;34m:\u001b[0m\u001b[0mbatch\u001b[0m\u001b[0;34m.\u001b[0m\u001b[0mbatch_size\u001b[0m\u001b[0;34m]\u001b[0m\u001b[0;34m\u001b[0m\u001b[0;34m\u001b[0m\u001b[0m\n\u001b[0m\u001b[1;32m     27\u001b[0m         \u001b[0mxs\u001b[0m\u001b[0;34m.\u001b[0m\u001b[0mappend\u001b[0m\u001b[0;34m(\u001b[0m\u001b[0my_hat\u001b[0m\u001b[0;34m.\u001b[0m\u001b[0mcpu\u001b[0m\u001b[0;34m(\u001b[0m\u001b[0;34m)\u001b[0m\u001b[0;34m)\u001b[0m\u001b[0;34m\u001b[0m\u001b[0;34m\u001b[0m\u001b[0m\n\u001b[1;32m     28\u001b[0m         \u001b[0my_true\u001b[0m \u001b[0;34m=\u001b[0m \u001b[0mbatch\u001b[0m\u001b[0;34m.\u001b[0m\u001b[0my\u001b[0m\u001b[0;34m[\u001b[0m\u001b[0;34m:\u001b[0m\u001b[0mbatch\u001b[0m\u001b[0;34m.\u001b[0m\u001b[0mbatch_size\u001b[0m\u001b[0;34m]\u001b[0m\u001b[0;34m\u001b[0m\u001b[0;34m\u001b[0m\u001b[0m\n",
      "\u001b[0;32m~/anaconda3/envs/densegat2/lib/python3.6/site-packages/torch/nn/modules/module.py\u001b[0m in \u001b[0;36m_call_impl\u001b[0;34m(self, *input, **kwargs)\u001b[0m\n\u001b[1;32m   1100\u001b[0m         if not (self._backward_hooks or self._forward_hooks or self._forward_pre_hooks or _global_backward_hooks\n\u001b[1;32m   1101\u001b[0m                 or _global_forward_hooks or _global_forward_pre_hooks):\n\u001b[0;32m-> 1102\u001b[0;31m             \u001b[0;32mreturn\u001b[0m \u001b[0mforward_call\u001b[0m\u001b[0;34m(\u001b[0m\u001b[0;34m*\u001b[0m\u001b[0minput\u001b[0m\u001b[0;34m,\u001b[0m \u001b[0;34m**\u001b[0m\u001b[0mkwargs\u001b[0m\u001b[0;34m)\u001b[0m\u001b[0;34m\u001b[0m\u001b[0;34m\u001b[0m\u001b[0m\n\u001b[0m\u001b[1;32m   1103\u001b[0m         \u001b[0;31m# Do not call functions when jit is used\u001b[0m\u001b[0;34m\u001b[0m\u001b[0;34m\u001b[0m\u001b[0;34m\u001b[0m\u001b[0m\n\u001b[1;32m   1104\u001b[0m         \u001b[0mfull_backward_hooks\u001b[0m\u001b[0;34m,\u001b[0m \u001b[0mnon_full_backward_hooks\u001b[0m \u001b[0;34m=\u001b[0m \u001b[0;34m[\u001b[0m\u001b[0;34m]\u001b[0m\u001b[0;34m,\u001b[0m \u001b[0;34m[\u001b[0m\u001b[0;34m]\u001b[0m\u001b[0;34m\u001b[0m\u001b[0;34m\u001b[0m\u001b[0m\n",
      "\u001b[0;32m<ipython-input-6-2adc4164181a>\u001b[0m in \u001b[0;36mforward\u001b[0;34m(self, x, edge_index)\u001b[0m\n\u001b[1;32m     59\u001b[0m             \u001b[0;31m# block layer\u001b[0m\u001b[0;34m\u001b[0m\u001b[0;34m\u001b[0m\u001b[0;34m\u001b[0m\u001b[0m\n\u001b[1;32m     60\u001b[0m             \u001b[0;32mfor\u001b[0m \u001b[0mlayer\u001b[0m \u001b[0;32min\u001b[0m \u001b[0mself\u001b[0m\u001b[0;34m.\u001b[0m\u001b[0mblock_layers\u001b[0m\u001b[0;34m[\u001b[0m\u001b[0mi\u001b[0m\u001b[0;34m]\u001b[0m\u001b[0;34m:\u001b[0m\u001b[0;34m\u001b[0m\u001b[0;34m\u001b[0m\u001b[0m\n\u001b[0;32m---> 61\u001b[0;31m                 \u001b[0mx\u001b[0m \u001b[0;34m=\u001b[0m \u001b[0mlayer\u001b[0m\u001b[0;34m(\u001b[0m\u001b[0mx\u001b[0m\u001b[0;34m,\u001b[0m \u001b[0medge_index\u001b[0m\u001b[0;34m)\u001b[0m\u001b[0;34m\u001b[0m\u001b[0;34m\u001b[0m\u001b[0m\n\u001b[0m\u001b[1;32m     62\u001b[0m             \u001b[0;31m# transition layer\u001b[0m\u001b[0;34m\u001b[0m\u001b[0;34m\u001b[0m\u001b[0;34m\u001b[0m\u001b[0m\n\u001b[1;32m     63\u001b[0m             \u001b[0mx\u001b[0m \u001b[0;34m=\u001b[0m \u001b[0mself\u001b[0m\u001b[0;34m.\u001b[0m\u001b[0mtransition_layers\u001b[0m\u001b[0;34m[\u001b[0m\u001b[0mi\u001b[0m\u001b[0;34m]\u001b[0m\u001b[0;34m(\u001b[0m\u001b[0mx\u001b[0m\u001b[0;34m)\u001b[0m\u001b[0;34m\u001b[0m\u001b[0;34m\u001b[0m\u001b[0m\n",
      "\u001b[0;32m~/anaconda3/envs/densegat2/lib/python3.6/site-packages/torch/nn/modules/module.py\u001b[0m in \u001b[0;36m_call_impl\u001b[0;34m(self, *input, **kwargs)\u001b[0m\n\u001b[1;32m   1100\u001b[0m         if not (self._backward_hooks or self._forward_hooks or self._forward_pre_hooks or _global_backward_hooks\n\u001b[1;32m   1101\u001b[0m                 or _global_forward_hooks or _global_forward_pre_hooks):\n\u001b[0;32m-> 1102\u001b[0;31m             \u001b[0;32mreturn\u001b[0m \u001b[0mforward_call\u001b[0m\u001b[0;34m(\u001b[0m\u001b[0;34m*\u001b[0m\u001b[0minput\u001b[0m\u001b[0;34m,\u001b[0m \u001b[0;34m**\u001b[0m\u001b[0mkwargs\u001b[0m\u001b[0;34m)\u001b[0m\u001b[0;34m\u001b[0m\u001b[0;34m\u001b[0m\u001b[0m\n\u001b[0m\u001b[1;32m   1103\u001b[0m         \u001b[0;31m# Do not call functions when jit is used\u001b[0m\u001b[0;34m\u001b[0m\u001b[0;34m\u001b[0m\u001b[0;34m\u001b[0m\u001b[0m\n\u001b[1;32m   1104\u001b[0m         \u001b[0mfull_backward_hooks\u001b[0m\u001b[0;34m,\u001b[0m \u001b[0mnon_full_backward_hooks\u001b[0m \u001b[0;34m=\u001b[0m \u001b[0;34m[\u001b[0m\u001b[0;34m]\u001b[0m\u001b[0;34m,\u001b[0m \u001b[0;34m[\u001b[0m\u001b[0;34m]\u001b[0m\u001b[0;34m\u001b[0m\u001b[0;34m\u001b[0m\u001b[0m\n",
      "\u001b[0;32m~/anaconda3/envs/densegat2/lib/python3.6/site-packages/torch_geometric/nn/models/deepgcn.py\u001b[0m in \u001b[0;36mforward\u001b[0;34m(self, *args, **kwargs)\u001b[0m\n\u001b[1;32m     88\u001b[0m                 \u001b[0mh\u001b[0m \u001b[0;34m=\u001b[0m \u001b[0mcheckpoint\u001b[0m\u001b[0;34m(\u001b[0m\u001b[0mself\u001b[0m\u001b[0;34m.\u001b[0m\u001b[0mconv\u001b[0m\u001b[0;34m,\u001b[0m \u001b[0mx\u001b[0m\u001b[0;34m,\u001b[0m \u001b[0;34m*\u001b[0m\u001b[0margs\u001b[0m\u001b[0;34m,\u001b[0m \u001b[0;34m**\u001b[0m\u001b[0mkwargs\u001b[0m\u001b[0;34m)\u001b[0m\u001b[0;34m\u001b[0m\u001b[0;34m\u001b[0m\u001b[0m\n\u001b[1;32m     89\u001b[0m             \u001b[0;32melse\u001b[0m\u001b[0;34m:\u001b[0m\u001b[0;34m\u001b[0m\u001b[0;34m\u001b[0m\u001b[0m\n\u001b[0;32m---> 90\u001b[0;31m                 \u001b[0mh\u001b[0m \u001b[0;34m=\u001b[0m \u001b[0mself\u001b[0m\u001b[0;34m.\u001b[0m\u001b[0mconv\u001b[0m\u001b[0;34m(\u001b[0m\u001b[0mx\u001b[0m\u001b[0;34m,\u001b[0m \u001b[0;34m*\u001b[0m\u001b[0margs\u001b[0m\u001b[0;34m,\u001b[0m \u001b[0;34m**\u001b[0m\u001b[0mkwargs\u001b[0m\u001b[0;34m)\u001b[0m\u001b[0;34m\u001b[0m\u001b[0;34m\u001b[0m\u001b[0m\n\u001b[0m\u001b[1;32m     91\u001b[0m             \u001b[0;32mif\u001b[0m \u001b[0mself\u001b[0m\u001b[0;34m.\u001b[0m\u001b[0mnorm\u001b[0m \u001b[0;32mis\u001b[0m \u001b[0;32mnot\u001b[0m \u001b[0;32mNone\u001b[0m\u001b[0;34m:\u001b[0m\u001b[0;34m\u001b[0m\u001b[0;34m\u001b[0m\u001b[0m\n\u001b[1;32m     92\u001b[0m                 \u001b[0mh\u001b[0m \u001b[0;34m=\u001b[0m \u001b[0mself\u001b[0m\u001b[0;34m.\u001b[0m\u001b[0mnorm\u001b[0m\u001b[0;34m(\u001b[0m\u001b[0mh\u001b[0m\u001b[0;34m)\u001b[0m\u001b[0;34m\u001b[0m\u001b[0;34m\u001b[0m\u001b[0m\n",
      "\u001b[0;32m~/anaconda3/envs/densegat2/lib/python3.6/site-packages/torch/nn/modules/module.py\u001b[0m in \u001b[0;36m_call_impl\u001b[0;34m(self, *input, **kwargs)\u001b[0m\n\u001b[1;32m   1100\u001b[0m         if not (self._backward_hooks or self._forward_hooks or self._forward_pre_hooks or _global_backward_hooks\n\u001b[1;32m   1101\u001b[0m                 or _global_forward_hooks or _global_forward_pre_hooks):\n\u001b[0;32m-> 1102\u001b[0;31m             \u001b[0;32mreturn\u001b[0m \u001b[0mforward_call\u001b[0m\u001b[0;34m(\u001b[0m\u001b[0;34m*\u001b[0m\u001b[0minput\u001b[0m\u001b[0;34m,\u001b[0m \u001b[0;34m**\u001b[0m\u001b[0mkwargs\u001b[0m\u001b[0;34m)\u001b[0m\u001b[0;34m\u001b[0m\u001b[0;34m\u001b[0m\u001b[0m\n\u001b[0m\u001b[1;32m   1103\u001b[0m         \u001b[0;31m# Do not call functions when jit is used\u001b[0m\u001b[0;34m\u001b[0m\u001b[0;34m\u001b[0m\u001b[0;34m\u001b[0m\u001b[0m\n\u001b[1;32m   1104\u001b[0m         \u001b[0mfull_backward_hooks\u001b[0m\u001b[0;34m,\u001b[0m \u001b[0mnon_full_backward_hooks\u001b[0m \u001b[0;34m=\u001b[0m \u001b[0;34m[\u001b[0m\u001b[0;34m]\u001b[0m\u001b[0;34m,\u001b[0m \u001b[0;34m[\u001b[0m\u001b[0;34m]\u001b[0m\u001b[0;34m\u001b[0m\u001b[0;34m\u001b[0m\u001b[0m\n",
      "\u001b[0;32m~/anaconda3/envs/densegat2/lib/python3.6/site-packages/torch_geometric/nn/conv/sage_conv.py\u001b[0m in \u001b[0;36mforward\u001b[0;34m(self, x, edge_index, size)\u001b[0m\n\u001b[1;32m     68\u001b[0m \u001b[0;34m\u001b[0m\u001b[0m\n\u001b[1;32m     69\u001b[0m         \u001b[0;31m# propagate_type: (x: OptPairTensor)\u001b[0m\u001b[0;34m\u001b[0m\u001b[0;34m\u001b[0m\u001b[0;34m\u001b[0m\u001b[0m\n\u001b[0;32m---> 70\u001b[0;31m         \u001b[0mout\u001b[0m \u001b[0;34m=\u001b[0m \u001b[0mself\u001b[0m\u001b[0;34m.\u001b[0m\u001b[0mpropagate\u001b[0m\u001b[0;34m(\u001b[0m\u001b[0medge_index\u001b[0m\u001b[0;34m,\u001b[0m \u001b[0mx\u001b[0m\u001b[0;34m=\u001b[0m\u001b[0mx\u001b[0m\u001b[0;34m,\u001b[0m \u001b[0msize\u001b[0m\u001b[0;34m=\u001b[0m\u001b[0msize\u001b[0m\u001b[0;34m)\u001b[0m\u001b[0;34m\u001b[0m\u001b[0;34m\u001b[0m\u001b[0m\n\u001b[0m\u001b[1;32m     71\u001b[0m         \u001b[0mout\u001b[0m \u001b[0;34m=\u001b[0m \u001b[0mself\u001b[0m\u001b[0;34m.\u001b[0m\u001b[0mlin_l\u001b[0m\u001b[0;34m(\u001b[0m\u001b[0mout\u001b[0m\u001b[0;34m)\u001b[0m\u001b[0;34m\u001b[0m\u001b[0;34m\u001b[0m\u001b[0m\n\u001b[1;32m     72\u001b[0m \u001b[0;34m\u001b[0m\u001b[0m\n",
      "\u001b[0;32m~/anaconda3/envs/densegat2/lib/python3.6/site-packages/torch_geometric/nn/conv/message_passing.py\u001b[0m in \u001b[0;36mpropagate\u001b[0;34m(self, edge_index, size, **kwargs)\u001b[0m\n\u001b[1;32m    340\u001b[0m                     \u001b[0;32mif\u001b[0m \u001b[0mres\u001b[0m \u001b[0;32mis\u001b[0m \u001b[0;32mnot\u001b[0m \u001b[0;32mNone\u001b[0m\u001b[0;34m:\u001b[0m\u001b[0;34m\u001b[0m\u001b[0;34m\u001b[0m\u001b[0m\n\u001b[1;32m    341\u001b[0m                         \u001b[0maggr_kwargs\u001b[0m \u001b[0;34m=\u001b[0m \u001b[0mres\u001b[0m\u001b[0;34m[\u001b[0m\u001b[0;36m0\u001b[0m\u001b[0;34m]\u001b[0m \u001b[0;32mif\u001b[0m \u001b[0misinstance\u001b[0m\u001b[0;34m(\u001b[0m\u001b[0mres\u001b[0m\u001b[0;34m,\u001b[0m \u001b[0mtuple\u001b[0m\u001b[0;34m)\u001b[0m \u001b[0;32melse\u001b[0m \u001b[0mres\u001b[0m\u001b[0;34m\u001b[0m\u001b[0;34m\u001b[0m\u001b[0m\n\u001b[0;32m--> 342\u001b[0;31m                 \u001b[0mout\u001b[0m \u001b[0;34m=\u001b[0m \u001b[0mself\u001b[0m\u001b[0;34m.\u001b[0m\u001b[0maggregate\u001b[0m\u001b[0;34m(\u001b[0m\u001b[0mout\u001b[0m\u001b[0;34m,\u001b[0m \u001b[0;34m**\u001b[0m\u001b[0maggr_kwargs\u001b[0m\u001b[0;34m)\u001b[0m\u001b[0;34m\u001b[0m\u001b[0;34m\u001b[0m\u001b[0m\n\u001b[0m\u001b[1;32m    343\u001b[0m                 \u001b[0;32mfor\u001b[0m \u001b[0mhook\u001b[0m \u001b[0;32min\u001b[0m \u001b[0mself\u001b[0m\u001b[0;34m.\u001b[0m\u001b[0m_aggregate_forward_hooks\u001b[0m\u001b[0;34m.\u001b[0m\u001b[0mvalues\u001b[0m\u001b[0;34m(\u001b[0m\u001b[0;34m)\u001b[0m\u001b[0;34m:\u001b[0m\u001b[0;34m\u001b[0m\u001b[0;34m\u001b[0m\u001b[0m\n\u001b[1;32m    344\u001b[0m                     \u001b[0mres\u001b[0m \u001b[0;34m=\u001b[0m \u001b[0mhook\u001b[0m\u001b[0;34m(\u001b[0m\u001b[0mself\u001b[0m\u001b[0;34m,\u001b[0m \u001b[0;34m(\u001b[0m\u001b[0maggr_kwargs\u001b[0m\u001b[0;34m,\u001b[0m \u001b[0;34m)\u001b[0m\u001b[0;34m,\u001b[0m \u001b[0mout\u001b[0m\u001b[0;34m)\u001b[0m\u001b[0;34m\u001b[0m\u001b[0;34m\u001b[0m\u001b[0m\n",
      "\u001b[0;32m~/anaconda3/envs/densegat2/lib/python3.6/site-packages/torch_geometric/nn/conv/message_passing.py\u001b[0m in \u001b[0;36maggregate\u001b[0;34m(self, inputs, index, ptr, dim_size)\u001b[0m\n\u001b[1;32m    424\u001b[0m         \u001b[0;32melse\u001b[0m\u001b[0;34m:\u001b[0m\u001b[0;34m\u001b[0m\u001b[0;34m\u001b[0m\u001b[0m\n\u001b[1;32m    425\u001b[0m             return scatter(inputs, index, dim=self.node_dim, dim_size=dim_size,\n\u001b[0;32m--> 426\u001b[0;31m                            reduce=self.aggr)\n\u001b[0m\u001b[1;32m    427\u001b[0m \u001b[0;34m\u001b[0m\u001b[0m\n\u001b[1;32m    428\u001b[0m     \u001b[0;32mdef\u001b[0m \u001b[0mmessage_and_aggregate\u001b[0m\u001b[0;34m(\u001b[0m\u001b[0mself\u001b[0m\u001b[0;34m,\u001b[0m \u001b[0madj_t\u001b[0m\u001b[0;34m:\u001b[0m \u001b[0mSparseTensor\u001b[0m\u001b[0;34m)\u001b[0m \u001b[0;34m->\u001b[0m \u001b[0mTensor\u001b[0m\u001b[0;34m:\u001b[0m\u001b[0;34m\u001b[0m\u001b[0;34m\u001b[0m\u001b[0m\n",
      "\u001b[0;32m~/anaconda3/envs/densegat2/lib/python3.6/site-packages/torch_scatter/scatter.py\u001b[0m in \u001b[0;36mscatter\u001b[0;34m(src, index, dim, out, dim_size, reduce)\u001b[0m\n\u001b[1;32m    154\u001b[0m         \u001b[0;32mreturn\u001b[0m \u001b[0mscatter_mul\u001b[0m\u001b[0;34m(\u001b[0m\u001b[0msrc\u001b[0m\u001b[0;34m,\u001b[0m \u001b[0mindex\u001b[0m\u001b[0;34m,\u001b[0m \u001b[0mdim\u001b[0m\u001b[0;34m,\u001b[0m \u001b[0mout\u001b[0m\u001b[0;34m,\u001b[0m \u001b[0mdim_size\u001b[0m\u001b[0;34m)\u001b[0m\u001b[0;34m\u001b[0m\u001b[0;34m\u001b[0m\u001b[0m\n\u001b[1;32m    155\u001b[0m     \u001b[0;32melif\u001b[0m \u001b[0mreduce\u001b[0m \u001b[0;34m==\u001b[0m \u001b[0;34m'mean'\u001b[0m\u001b[0;34m:\u001b[0m\u001b[0;34m\u001b[0m\u001b[0;34m\u001b[0m\u001b[0m\n\u001b[0;32m--> 156\u001b[0;31m         \u001b[0;32mreturn\u001b[0m \u001b[0mscatter_mean\u001b[0m\u001b[0;34m(\u001b[0m\u001b[0msrc\u001b[0m\u001b[0;34m,\u001b[0m \u001b[0mindex\u001b[0m\u001b[0;34m,\u001b[0m \u001b[0mdim\u001b[0m\u001b[0;34m,\u001b[0m \u001b[0mout\u001b[0m\u001b[0;34m,\u001b[0m \u001b[0mdim_size\u001b[0m\u001b[0;34m)\u001b[0m\u001b[0;34m\u001b[0m\u001b[0;34m\u001b[0m\u001b[0m\n\u001b[0m\u001b[1;32m    157\u001b[0m     \u001b[0;32melif\u001b[0m \u001b[0mreduce\u001b[0m \u001b[0;34m==\u001b[0m \u001b[0;34m'min'\u001b[0m\u001b[0;34m:\u001b[0m\u001b[0;34m\u001b[0m\u001b[0;34m\u001b[0m\u001b[0m\n\u001b[1;32m    158\u001b[0m         \u001b[0;32mreturn\u001b[0m \u001b[0mscatter_min\u001b[0m\u001b[0;34m(\u001b[0m\u001b[0msrc\u001b[0m\u001b[0;34m,\u001b[0m \u001b[0mindex\u001b[0m\u001b[0;34m,\u001b[0m \u001b[0mdim\u001b[0m\u001b[0;34m,\u001b[0m \u001b[0mout\u001b[0m\u001b[0;34m,\u001b[0m \u001b[0mdim_size\u001b[0m\u001b[0;34m)\u001b[0m\u001b[0;34m[\u001b[0m\u001b[0;36m0\u001b[0m\u001b[0;34m]\u001b[0m\u001b[0;34m\u001b[0m\u001b[0;34m\u001b[0m\u001b[0m\n",
      "\u001b[0;32m~/anaconda3/envs/densegat2/lib/python3.6/site-packages/torch_scatter/scatter.py\u001b[0m in \u001b[0;36mscatter_mean\u001b[0;34m(src, index, dim, out, dim_size)\u001b[0m\n\u001b[1;32m     39\u001b[0m                  \u001b[0mout\u001b[0m\u001b[0;34m:\u001b[0m \u001b[0mOptional\u001b[0m\u001b[0;34m[\u001b[0m\u001b[0mtorch\u001b[0m\u001b[0;34m.\u001b[0m\u001b[0mTensor\u001b[0m\u001b[0;34m]\u001b[0m \u001b[0;34m=\u001b[0m \u001b[0;32mNone\u001b[0m\u001b[0;34m,\u001b[0m\u001b[0;34m\u001b[0m\u001b[0;34m\u001b[0m\u001b[0m\n\u001b[1;32m     40\u001b[0m                  dim_size: Optional[int] = None) -> torch.Tensor:\n\u001b[0;32m---> 41\u001b[0;31m     \u001b[0mout\u001b[0m \u001b[0;34m=\u001b[0m \u001b[0mscatter_sum\u001b[0m\u001b[0;34m(\u001b[0m\u001b[0msrc\u001b[0m\u001b[0;34m,\u001b[0m \u001b[0mindex\u001b[0m\u001b[0;34m,\u001b[0m \u001b[0mdim\u001b[0m\u001b[0;34m,\u001b[0m \u001b[0mout\u001b[0m\u001b[0;34m,\u001b[0m \u001b[0mdim_size\u001b[0m\u001b[0;34m)\u001b[0m\u001b[0;34m\u001b[0m\u001b[0;34m\u001b[0m\u001b[0m\n\u001b[0m\u001b[1;32m     42\u001b[0m     \u001b[0mdim_size\u001b[0m \u001b[0;34m=\u001b[0m \u001b[0mout\u001b[0m\u001b[0;34m.\u001b[0m\u001b[0msize\u001b[0m\u001b[0;34m(\u001b[0m\u001b[0mdim\u001b[0m\u001b[0;34m)\u001b[0m\u001b[0;34m\u001b[0m\u001b[0;34m\u001b[0m\u001b[0m\n\u001b[1;32m     43\u001b[0m \u001b[0;34m\u001b[0m\u001b[0m\n",
      "\u001b[0;32m~/anaconda3/envs/densegat2/lib/python3.6/site-packages/torch_scatter/scatter.py\u001b[0m in \u001b[0;36mscatter_sum\u001b[0;34m(src, index, dim, out, dim_size)\u001b[0m\n\u001b[1;32m     19\u001b[0m             \u001b[0msize\u001b[0m\u001b[0;34m[\u001b[0m\u001b[0mdim\u001b[0m\u001b[0;34m]\u001b[0m \u001b[0;34m=\u001b[0m \u001b[0mint\u001b[0m\u001b[0;34m(\u001b[0m\u001b[0mindex\u001b[0m\u001b[0;34m.\u001b[0m\u001b[0mmax\u001b[0m\u001b[0;34m(\u001b[0m\u001b[0;34m)\u001b[0m\u001b[0;34m)\u001b[0m \u001b[0;34m+\u001b[0m \u001b[0;36m1\u001b[0m\u001b[0;34m\u001b[0m\u001b[0;34m\u001b[0m\u001b[0m\n\u001b[1;32m     20\u001b[0m         \u001b[0mout\u001b[0m \u001b[0;34m=\u001b[0m \u001b[0mtorch\u001b[0m\u001b[0;34m.\u001b[0m\u001b[0mzeros\u001b[0m\u001b[0;34m(\u001b[0m\u001b[0msize\u001b[0m\u001b[0;34m,\u001b[0m \u001b[0mdtype\u001b[0m\u001b[0;34m=\u001b[0m\u001b[0msrc\u001b[0m\u001b[0;34m.\u001b[0m\u001b[0mdtype\u001b[0m\u001b[0;34m,\u001b[0m \u001b[0mdevice\u001b[0m\u001b[0;34m=\u001b[0m\u001b[0msrc\u001b[0m\u001b[0;34m.\u001b[0m\u001b[0mdevice\u001b[0m\u001b[0;34m)\u001b[0m\u001b[0;34m\u001b[0m\u001b[0;34m\u001b[0m\u001b[0m\n\u001b[0;32m---> 21\u001b[0;31m         \u001b[0;32mreturn\u001b[0m \u001b[0mout\u001b[0m\u001b[0;34m.\u001b[0m\u001b[0mscatter_add_\u001b[0m\u001b[0;34m(\u001b[0m\u001b[0mdim\u001b[0m\u001b[0;34m,\u001b[0m \u001b[0mindex\u001b[0m\u001b[0;34m,\u001b[0m \u001b[0msrc\u001b[0m\u001b[0;34m)\u001b[0m\u001b[0;34m\u001b[0m\u001b[0;34m\u001b[0m\u001b[0m\n\u001b[0m\u001b[1;32m     22\u001b[0m     \u001b[0;32melse\u001b[0m\u001b[0;34m:\u001b[0m\u001b[0;34m\u001b[0m\u001b[0;34m\u001b[0m\u001b[0m\n\u001b[1;32m     23\u001b[0m         \u001b[0;32mreturn\u001b[0m \u001b[0mout\u001b[0m\u001b[0;34m.\u001b[0m\u001b[0mscatter_add_\u001b[0m\u001b[0;34m(\u001b[0m\u001b[0mdim\u001b[0m\u001b[0;34m,\u001b[0m \u001b[0mindex\u001b[0m\u001b[0;34m,\u001b[0m \u001b[0msrc\u001b[0m\u001b[0;34m)\u001b[0m\u001b[0;34m\u001b[0m\u001b[0;34m\u001b[0m\u001b[0m\n",
      "\u001b[0;31mKeyboardInterrupt\u001b[0m: "
     ]
    }
   ],
   "source": [
    "for i in range(252, 400):\n",
    "    model.load_state_dict(torch.load( 'unsw_yhat/cic_epoch_bi_cnn_15_label2_' + str(i), map_location='cpu'))\n",
    "    auc, y, y_hat = inferrence(model, subgraph_loader)\n",
    "    all_auc2.append(auc)"
   ]
  },
  {
   "cell_type": "code",
   "execution_count": 37,
   "id": "54aa6199",
   "metadata": {},
   "outputs": [
    {
     "data": {
      "text/plain": [
       "<All keys matched successfully>"
      ]
     },
     "execution_count": 37,
     "metadata": {},
     "output_type": "execute_result"
    }
   ],
   "source": [
    "model.load_state_dict(torch.load( 'unsw_yhat/cic_epoch_bi_cnn_15_label2_' + str(254), map_location='cpu'))"
   ]
  },
  {
   "cell_type": "code",
   "execution_count": 111,
   "id": "d5c7c3a0",
   "metadata": {},
   "outputs": [
    {
     "data": {
      "text/plain": [
       "DenseGAT(\n",
       "  (linear_layers): ModuleList(\n",
       "    (0): Linear(in_features=78, out_features=10, bias=True)\n",
       "    (1): Linear(in_features=302, out_features=2, bias=True)\n",
       "  )\n",
       "  (transition_layers): ModuleList(\n",
       "    (0): Transition_layer(\n",
       "      (act): ReLU()\n",
       "      (norm): LayerNorm((378,), eps=1e-05, elementwise_affine=True)\n",
       "      (lin): Linear(in_features=378, out_features=302, bias=True)\n",
       "    )\n",
       "  )\n",
       "  (block_layers): ModuleList(\n",
       "    (0): ModuleList(\n",
       "      (0): DeepGCNLayer(block=dense)\n",
       "      (1): DeepGCNLayer(block=dense)\n",
       "      (2): DeepGCNLayer(block=dense)\n",
       "      (3): DeepGCNLayer(block=dense)\n",
       "      (4): DeepGCNLayer(block=dense)\n",
       "      (5): DeepGCNLayer(block=dense)\n",
       "      (6): DeepGCNLayer(block=dense)\n",
       "      (7): DeepGCNLayer(block=dense)\n",
       "      (8): DeepGCNLayer(block=dense)\n",
       "      (9): DeepGCNLayer(block=dense)\n",
       "      (10): DeepGCNLayer(block=dense)\n",
       "      (11): DeepGCNLayer(block=dense)\n",
       "      (12): DeepGCNLayer(block=dense)\n",
       "      (13): DeepGCNLayer(block=dense)\n",
       "      (14): DeepGCNLayer(block=dense)\n",
       "      (15): DeepGCNLayer(block=dense)\n",
       "      (16): DeepGCNLayer(block=dense)\n",
       "      (17): DeepGCNLayer(block=dense)\n",
       "      (18): DeepGCNLayer(block=dense)\n",
       "      (19): DeepGCNLayer(block=dense)\n",
       "      (20): DeepGCNLayer(block=dense)\n",
       "      (21): DeepGCNLayer(block=dense)\n",
       "      (22): DeepGCNLayer(block=dense)\n",
       "      (23): DeepGCNLayer(block=dense)\n",
       "      (24): DeepGCNLayer(block=dense)\n",
       "      (25): DeepGCNLayer(block=dense)\n",
       "      (26): DeepGCNLayer(block=dense)\n",
       "      (27): DeepGCNLayer(block=dense)\n",
       "      (28): DeepGCNLayer(block=dense)\n",
       "      (29): DeepGCNLayer(block=dense)\n",
       "    )\n",
       "  )\n",
       "  (node_encoder): Linear(in_features=78, out_features=10, bias=True)\n",
       "  (lin_last): Linear(in_features=302, out_features=2, bias=True)\n",
       ")"
      ]
     },
     "execution_count": 111,
     "metadata": {},
     "output_type": "execute_result"
    }
   ],
   "source": [
    "model"
   ]
  },
  {
   "cell_type": "code",
   "execution_count": 112,
   "id": "30d0ad2f",
   "metadata": {},
   "outputs": [],
   "source": [
    "import joblib"
   ]
  },
  {
   "cell_type": "code",
   "execution_count": 116,
   "id": "0e20de1e",
   "metadata": {},
   "outputs": [
    {
     "data": {
      "text/plain": [
       "<bound method Module.state_dict of DenseGAT(\n",
       "  (linear_layers): ModuleList(\n",
       "    (0): Linear(in_features=78, out_features=10, bias=True)\n",
       "    (1): Linear(in_features=302, out_features=2, bias=True)\n",
       "  )\n",
       "  (transition_layers): ModuleList(\n",
       "    (0): Transition_layer(\n",
       "      (act): ReLU()\n",
       "      (norm): LayerNorm((378,), eps=1e-05, elementwise_affine=True)\n",
       "      (lin): Linear(in_features=378, out_features=302, bias=True)\n",
       "    )\n",
       "  )\n",
       "  (block_layers): ModuleList(\n",
       "    (0): ModuleList(\n",
       "      (0): DeepGCNLayer(block=dense)\n",
       "      (1): DeepGCNLayer(block=dense)\n",
       "      (2): DeepGCNLayer(block=dense)\n",
       "      (3): DeepGCNLayer(block=dense)\n",
       "      (4): DeepGCNLayer(block=dense)\n",
       "      (5): DeepGCNLayer(block=dense)\n",
       "      (6): DeepGCNLayer(block=dense)\n",
       "      (7): DeepGCNLayer(block=dense)\n",
       "      (8): DeepGCNLayer(block=dense)\n",
       "      (9): DeepGCNLayer(block=dense)\n",
       "      (10): DeepGCNLayer(block=dense)\n",
       "      (11): DeepGCNLayer(block=dense)\n",
       "      (12): DeepGCNLayer(block=dense)\n",
       "      (13): DeepGCNLayer(block=dense)\n",
       "      (14): DeepGCNLayer(block=dense)\n",
       "      (15): DeepGCNLayer(block=dense)\n",
       "      (16): DeepGCNLayer(block=dense)\n",
       "      (17): DeepGCNLayer(block=dense)\n",
       "      (18): DeepGCNLayer(block=dense)\n",
       "      (19): DeepGCNLayer(block=dense)\n",
       "      (20): DeepGCNLayer(block=dense)\n",
       "      (21): DeepGCNLayer(block=dense)\n",
       "      (22): DeepGCNLayer(block=dense)\n",
       "      (23): DeepGCNLayer(block=dense)\n",
       "      (24): DeepGCNLayer(block=dense)\n",
       "      (25): DeepGCNLayer(block=dense)\n",
       "      (26): DeepGCNLayer(block=dense)\n",
       "      (27): DeepGCNLayer(block=dense)\n",
       "      (28): DeepGCNLayer(block=dense)\n",
       "      (29): DeepGCNLayer(block=dense)\n",
       "    )\n",
       "  )\n",
       "  (node_encoder): Linear(in_features=78, out_features=10, bias=True)\n",
       "  (lin_last): Linear(in_features=302, out_features=2, bias=True)\n",
       ")>"
      ]
     },
     "execution_count": 116,
     "metadata": {},
     "output_type": "execute_result"
    }
   ],
   "source": [
    "model.state_dict"
   ]
  },
  {
   "cell_type": "code",
   "execution_count": null,
   "id": "107134c4",
   "metadata": {},
   "outputs": [],
   "source": []
  },
  {
   "cell_type": "code",
   "execution_count": null,
   "id": "abd96c84",
   "metadata": {},
   "outputs": [],
   "source": []
  },
  {
   "cell_type": "code",
   "execution_count": null,
   "id": "cca8542d",
   "metadata": {},
   "outputs": [],
   "source": []
  },
  {
   "cell_type": "code",
   "execution_count": null,
   "id": "1c70d3f5",
   "metadata": {},
   "outputs": [],
   "source": []
  },
  {
   "cell_type": "code",
   "execution_count": null,
   "id": "e4540c4a",
   "metadata": {},
   "outputs": [],
   "source": []
  },
  {
   "cell_type": "code",
   "execution_count": 154,
   "id": "96930507",
   "metadata": {},
   "outputs": [],
   "source": [
    "from sklearn.metrics import confusion_matrix\n",
    "from sklearn.metrics import f1_score, recall_score, accuracy_score, precision_score\n",
    "def calc(TN, FP, FN, TP):\n",
    "    SN = TP / (TP + FN)  # recall\n",
    "    SP = TN / (TN + FP)\n",
    "    # Precision = TP / (TP + FP)\n",
    "    ACC = (TP + TN) / (TP + TN + FN + FP)\n",
    "    # F1 = (2 * TP) / (2 * TP + FP + FN)\n",
    "    fz = TP * TN - FP * FN\n",
    "    fm = (TP + FN) * (TP + FP) * (TN + FP) * (TN + FN)\n",
    "    MCC = fz / pow(fm, 0.5)\n",
    "    return SN, SP, ACC, MCC\n",
    "tn, fp, fn, tp = confusion_matrix(y_true, y_pred2).ravel()\n",
    "SN, SP, ACC, MCC = calc(tn, fp, fn, tp)\n",
    "print(MCC)"
   ]
  },
  {
   "cell_type": "code",
   "execution_count": null,
   "id": "329d4d35",
   "metadata": {},
   "outputs": [],
   "source": []
  },
  {
   "cell_type": "code",
   "execution_count": 138,
   "id": "a54b1de2",
   "metadata": {},
   "outputs": [
    {
     "name": "stderr",
     "output_type": "stream",
     "text": [
      "100%|██████████| 178/178 [05:20<00:00,  1.80s/it]\n"
     ]
    }
   ],
   "source": [
    "y, y_hat = inferrence(model, subgraph_loader)"
   ]
  },
  {
   "cell_type": "code",
   "execution_count": 144,
   "id": "4170ef61",
   "metadata": {},
   "outputs": [
    {
     "data": {
      "text/plain": [
       "array([[ -9.057807 ,   8.7492075],\n",
       "       [ -6.931945 ,   7.593389 ],\n",
       "       [-18.515863 ,  17.523396 ],\n",
       "       ...,\n",
       "       [ -1.0593088,   1.0142784],\n",
       "       [ -7.737305 ,   8.378512 ],\n",
       "       [ -0.5860921,  -0.1346338]], dtype=float32)"
      ]
     },
     "execution_count": 144,
     "metadata": {},
     "output_type": "execute_result"
    }
   ],
   "source": [
    "y_hat"
   ]
  },
  {
   "cell_type": "code",
   "execution_count": 146,
   "id": "a944deca",
   "metadata": {},
   "outputs": [],
   "source": [
    "y_true = torch.cat(y, 0)"
   ]
  },
  {
   "cell_type": "code",
   "execution_count": 148,
   "id": "a2a45079",
   "metadata": {},
   "outputs": [],
   "source": [
    "y_true = y_true.numpy()"
   ]
  },
  {
   "cell_type": "code",
   "execution_count": 145,
   "id": "27a824cd",
   "metadata": {},
   "outputs": [],
   "source": [
    "y_pred2 = y_hat.argmax(-1)"
   ]
  },
  {
   "cell_type": "code",
   "execution_count": 151,
   "id": "d2ea6adc",
   "metadata": {},
   "outputs": [],
   "source": [
    "tn, fp, fn, tp = confusion_matrix(y_true, y_pred2).ravel()\n",
    "SN, SP, ACC, MCC = calc(tn, fp, fn, tp)\n",
    "print(MCC)"
   ]
  },
  {
   "cell_type": "code",
   "execution_count": 152,
   "id": "e0059aaa",
   "metadata": {},
   "outputs": [
    {
     "data": {
      "text/plain": [
       "(14577, 423, 56, 166911)"
      ]
     },
     "execution_count": 152,
     "metadata": {},
     "output_type": "execute_result"
    }
   ],
   "source": [
    "tn, fp, fn, tp"
   ]
  },
  {
   "cell_type": "code",
   "execution_count": 153,
   "id": "faf22432",
   "metadata": {},
   "outputs": [
    {
     "data": {
      "text/plain": [
       "array([[ 14577,    423],\n",
       "       [    56, 166911]])"
      ]
     },
     "execution_count": 153,
     "metadata": {},
     "output_type": "execute_result"
    }
   ],
   "source": [
    "confusion_matrix(y_true, y_pred2)"
   ]
  },
  {
   "cell_type": "code",
   "execution_count": 155,
   "id": "88526e07",
   "metadata": {},
   "outputs": [],
   "source": [
    "SN, SP, ACC, MCC = calc(tn, fp, fn, tp)"
   ]
  },
  {
   "cell_type": "code",
   "execution_count": 156,
   "id": "59669e68",
   "metadata": {},
   "outputs": [
    {
     "data": {
      "text/plain": [
       "0.98249228881109"
      ]
     },
     "execution_count": 156,
     "metadata": {},
     "output_type": "execute_result"
    }
   ],
   "source": [
    "MCC"
   ]
  },
  {
   "cell_type": "code",
   "execution_count": null,
   "id": "318879b4",
   "metadata": {},
   "outputs": [],
   "source": []
  },
  {
   "cell_type": "code",
   "execution_count": null,
   "id": "61bea48a",
   "metadata": {},
   "outputs": [],
   "source": []
  },
  {
   "cell_type": "code",
   "execution_count": null,
   "id": "a0ad1418",
   "metadata": {},
   "outputs": [],
   "source": []
  },
  {
   "cell_type": "code",
   "execution_count": null,
   "id": "b0633ec9",
   "metadata": {},
   "outputs": [],
   "source": []
  },
  {
   "cell_type": "code",
   "execution_count": 123,
   "id": "0d55aea5",
   "metadata": {},
   "outputs": [
    {
     "data": {
      "text/plain": [
       "array([[ -9.057807 ,   8.7492075],\n",
       "       [ -6.931945 ,   7.593389 ],\n",
       "       [-18.515863 ,  17.523396 ],\n",
       "       ...,\n",
       "       [ -1.0593088,   1.0142784],\n",
       "       [ -7.737305 ,   8.378512 ],\n",
       "       [ -0.5860921,  -0.1346338]], dtype=float32)"
      ]
     },
     "execution_count": 123,
     "metadata": {},
     "output_type": "execute_result"
    }
   ],
   "source": [
    "y_hat"
   ]
  },
  {
   "cell_type": "code",
   "execution_count": 129,
   "id": "ab827faa",
   "metadata": {},
   "outputs": [],
   "source": [
    "y_hat_softmax = torch.FloatTensor(y_hat)"
   ]
  },
  {
   "cell_type": "code",
   "execution_count": 132,
   "id": "dc7de8ab",
   "metadata": {},
   "outputs": [],
   "source": [
    "y_hat_proba = torch.softmax(y_hat_softmax[:,1], -1)"
   ]
  },
  {
   "cell_type": "code",
   "execution_count": 108,
   "id": "2b9318db",
   "metadata": {},
   "outputs": [],
   "source": [
    "y_hat2 = y_hat[:, 1]"
   ]
  },
  {
   "cell_type": "code",
   "execution_count": 107,
   "id": "4713381a",
   "metadata": {},
   "outputs": [
    {
     "data": {
      "text/plain": [
       "array([[ -9.057807 ,   8.7492075],\n",
       "       [ -6.931945 ,   7.593389 ],\n",
       "       [-18.515863 ,  17.523396 ],\n",
       "       ...,\n",
       "       [ -1.0593088,   1.0142784],\n",
       "       [ -7.737305 ,   8.378512 ],\n",
       "       [ -0.5860921,  -0.1346338]], dtype=float32)"
      ]
     },
     "execution_count": 107,
     "metadata": {},
     "output_type": "execute_result"
    }
   ],
   "source": [
    "y_hat"
   ]
  },
  {
   "cell_type": "code",
   "execution_count": null,
   "id": "d296537a",
   "metadata": {},
   "outputs": [],
   "source": []
  },
  {
   "cell_type": "code",
   "execution_count": 54,
   "id": "5063f1c4",
   "metadata": {},
   "outputs": [
    {
     "data": {
      "text/plain": [
       "array([[ -9.057807 ,   8.7492075],\n",
       "       [ -6.931945 ,   7.593389 ],\n",
       "       [-18.515863 ,  17.523396 ],\n",
       "       ...,\n",
       "       [ -1.0593088,   1.0142784],\n",
       "       [ -7.737305 ,   8.378512 ],\n",
       "       [ -0.5860921,  -0.1346338]], dtype=float32)"
      ]
     },
     "execution_count": 54,
     "metadata": {},
     "output_type": "execute_result"
    }
   ],
   "source": [
    "y_prob"
   ]
  },
  {
   "cell_type": "code",
   "execution_count": 41,
   "id": "53e5176b",
   "metadata": {},
   "outputs": [],
   "source": [
    "y_prob = copy.copy(y_hat)"
   ]
  },
  {
   "cell_type": "code",
   "execution_count": 55,
   "id": "31605757",
   "metadata": {},
   "outputs": [],
   "source": [
    "y_hat = copy.copy(y_prob)"
   ]
  },
  {
   "cell_type": "code",
   "execution_count": 63,
   "id": "3bda4d16",
   "metadata": {},
   "outputs": [],
   "source": [
    "y_proba = y_hat[:, 1]"
   ]
  },
  {
   "cell_type": "code",
   "execution_count": 69,
   "id": "309fdce0",
   "metadata": {},
   "outputs": [],
   "source": [
    "y_proba = np.array(y_proba).reshape(-1, 1)"
   ]
  },
  {
   "cell_type": "code",
   "execution_count": 70,
   "id": "466f4f3b",
   "metadata": {},
   "outputs": [],
   "source": [
    "mms = MinMaxScaler()"
   ]
  },
  {
   "cell_type": "code",
   "execution_count": 71,
   "id": "8ad93d31",
   "metadata": {},
   "outputs": [],
   "source": [
    "y_proba2 = mms.fit_transform(y_proba)"
   ]
  },
  {
   "cell_type": "code",
   "execution_count": 72,
   "id": "63f121e7",
   "metadata": {},
   "outputs": [
    {
     "data": {
      "text/plain": [
       "array([[0.75258213],\n",
       "       [0.7361135 ],\n",
       "       [0.87760085],\n",
       "       ...,\n",
       "       [0.64237124],\n",
       "       [0.74730027],\n",
       "       [0.626001  ]], dtype=float32)"
      ]
     },
     "execution_count": 72,
     "metadata": {},
     "output_type": "execute_result"
    }
   ],
   "source": [
    "y_proba2"
   ]
  },
  {
   "cell_type": "code",
   "execution_count": 88,
   "id": "ba913733",
   "metadata": {},
   "outputs": [],
   "source": [
    "y_proba3 = mms.fit_transform(y_hat)"
   ]
  },
  {
   "cell_type": "code",
   "execution_count": 90,
   "id": "42947c03",
   "metadata": {},
   "outputs": [],
   "source": [
    "a = np.exp(y_hat)\n",
    "a = a / sum(a)#这就是softmax数组啊！！"
   ]
  },
  {
   "cell_type": "code",
   "execution_count": 91,
   "id": "9946c3ce",
   "metadata": {},
   "outputs": [
    {
     "data": {
      "text/plain": [
       "array([[6.5550323e-26, 1.7009767e-10],\n",
       "       [5.4931954e-25, 5.3546716e-11],\n",
       "       [5.1167373e-30, 1.0997143e-06],\n",
       "       ...,\n",
       "       [1.9510954e-22, 7.4380884e-14],\n",
       "       [2.4550567e-25, 1.1741066e-10],\n",
       "       [3.1317993e-22, 2.3577359e-14]], dtype=float32)"
      ]
     },
     "execution_count": 91,
     "metadata": {},
     "output_type": "execute_result"
    }
   ],
   "source": [
    "a"
   ]
  },
  {
   "cell_type": "code",
   "execution_count": 57,
   "id": "c25d60da",
   "metadata": {},
   "outputs": [
    {
     "data": {
      "text/plain": [
       "181967"
      ]
     },
     "execution_count": 57,
     "metadata": {},
     "output_type": "execute_result"
    }
   ],
   "source": [
    "len(y_hat)"
   ]
  },
  {
   "cell_type": "code",
   "execution_count": null,
   "id": "02697dcb",
   "metadata": {},
   "outputs": [],
   "source": [
    "y_hat_proba"
   ]
  },
  {
   "cell_type": "code",
   "execution_count": 135,
   "id": "6f5aca51",
   "metadata": {},
   "outputs": [],
   "source": [
    "auc2 = roc_auc_score(y, y_hat2)"
   ]
  },
  {
   "cell_type": "code",
   "execution_count": 136,
   "id": "3e0e881d",
   "metadata": {},
   "outputs": [
    {
     "data": {
      "text/plain": [
       "0.9993914448164408"
      ]
     },
     "execution_count": 136,
     "metadata": {},
     "output_type": "execute_result"
    }
   ],
   "source": [
    "auc2"
   ]
  },
  {
   "cell_type": "code",
   "execution_count": 98,
   "id": "43144b1c",
   "metadata": {},
   "outputs": [
    {
     "data": {
      "text/plain": [
       "181967"
      ]
     },
     "execution_count": 98,
     "metadata": {},
     "output_type": "execute_result"
    }
   ],
   "source": [
    "len(y)"
   ]
  },
  {
   "cell_type": "code",
   "execution_count": 100,
   "id": "93a8cb35",
   "metadata": {},
   "outputs": [],
   "source": [
    "fpr = dict()\n",
    "tpr = dict()\n",
    "roc_auc = dict()\n",
    "fpr[0], tpr[0], _ = roc_curve(y, a[:, 1])"
   ]
  },
  {
   "cell_type": "code",
   "execution_count": 103,
   "id": "3ea58bde",
   "metadata": {},
   "outputs": [],
   "source": [
    "from sklearn.metrics import roc_curve, auc\n",
    "roc_auc[0] = auc(fpr[0], tpr[0])"
   ]
  },
  {
   "cell_type": "code",
   "execution_count": 106,
   "id": "a1c4d4c4",
   "metadata": {},
   "outputs": [
    {
     "data": {
      "text/plain": [
       "<matplotlib.legend.Legend at 0x2ae3e4cd8c88>"
      ]
     },
     "execution_count": 106,
     "metadata": {},
     "output_type": "execute_result"
    },
    {
     "data": {
      "image/png": "[encoded data removed]",
      "text/plain": [
       "<Figure size 432x288 with 1 Axes>"
      ]
     },
     "metadata": {
      "needs_background": "light"
     },
     "output_type": "display_data"
    }
   ],
   "source": [
    "lw = 2\n",
    "plt.plot(fpr[0], tpr[0],\n",
    "         lw=lw, label= ' (area = %0.2f)' % roc_auc[0])\n",
    "plt.plot([0, 1], [0, 1], color='navy', lw=lw, linestyle='--')\n",
    "plt.xlim([0.0, 1.0])\n",
    "plt.ylim([0.0, 1.05])\n",
    "# plt.xticks(font=\"Times New Roman\",size=18,weight=\"bold\")\n",
    "# plt.yticks(font=\"Times New Roman\",size=18,weight=\"bold\")\n",
    "fontsize = 14\n",
    "plt.xlabel('False Positive Rate', fontsize=fontsize)\n",
    "plt.ylabel('True Positive Rate', fontsize=fontsize)\n",
    "# plt.title('Receiver Operating Characteristic Curve', fontsize = fontsize)\n",
    "plt.legend(loc=\"lower right\")"
   ]
  },
  {
   "cell_type": "code",
   "execution_count": null,
   "id": "c93442d8",
   "metadata": {},
   "outputs": [],
   "source": []
  },
  {
   "cell_type": "code",
   "execution_count": null,
   "id": "d5c315b1",
   "metadata": {},
   "outputs": [],
   "source": []
  },
  {
   "cell_type": "code",
   "execution_count": null,
   "id": "0216596d",
   "metadata": {},
   "outputs": [],
   "source": []
  },
  {
   "cell_type": "code",
   "execution_count": null,
   "id": "cf87f56e",
   "metadata": {},
   "outputs": [],
   "source": []
  },
  {
   "cell_type": "code",
   "execution_count": 75,
   "id": "2d24abb3",
   "metadata": {},
   "outputs": [],
   "source": [
    "y_pred = np.argmax(y_hat, -1)"
   ]
  },
  {
   "cell_type": "code",
   "execution_count": 76,
   "id": "21aaef42",
   "metadata": {},
   "outputs": [],
   "source": [
    "cr1 = classification_report(y, y_pred, digits=4)"
   ]
  },
  {
   "cell_type": "code",
   "execution_count": 77,
   "id": "cb99c894",
   "metadata": {},
   "outputs": [
    {
     "name": "stdout",
     "output_type": "stream",
     "text": [
      "              precision    recall  f1-score   support\n",
      "\n",
      "           0     0.9962    0.9717    0.9838     15000\n",
      "           1     0.9975    0.9997    0.9986    166967\n",
      "\n",
      "    accuracy                         0.9974    181967\n",
      "   macro avg     0.9968    0.9857    0.9912    181967\n",
      "weighted avg     0.9974    0.9974    0.9973    181967\n",
      "\n"
     ]
    }
   ],
   "source": [
    "print(cr1)"
   ]
  },
  {
   "cell_type": "code",
   "execution_count": 78,
   "id": "d9756e1e",
   "metadata": {},
   "outputs": [],
   "source": [
    "cf = confusion_matrix(y, y_pred)"
   ]
  },
  {
   "cell_type": "code",
   "execution_count": 79,
   "id": "7f125152",
   "metadata": {},
   "outputs": [
    {
     "data": {
      "text/plain": [
       "array([[ 14576,    424],\n",
       "       [    56, 166911]])"
      ]
     },
     "execution_count": 79,
     "metadata": {},
     "output_type": "execute_result"
    }
   ],
   "source": [
    "cf"
   ]
  },
  {
   "cell_type": "code",
   "execution_count": 140,
   "id": "94938ebb",
   "metadata": {},
   "outputs": [
    {
     "ename": "ValueError",
     "evalue": "Found input variables with inconsistent numbers of samples: [178, 181967]",
     "output_type": "error",
     "traceback": [
      "\u001b[0;31m---------------------------------------------------------------------------\u001b[0m",
      "\u001b[0;31mValueError\u001b[0m                                Traceback (most recent call last)",
      "\u001b[0;32m<ipython-input-140-e1e9e98db99b>\u001b[0m in \u001b[0;36m<module>\u001b[0;34m\u001b[0m\n\u001b[0;32m----> 1\u001b[0;31m \u001b[0mtn\u001b[0m\u001b[0;34m,\u001b[0m \u001b[0mfp\u001b[0m\u001b[0;34m,\u001b[0m \u001b[0mfn\u001b[0m\u001b[0;34m,\u001b[0m \u001b[0mtp\u001b[0m \u001b[0;34m=\u001b[0m \u001b[0mconfusion_matrix\u001b[0m\u001b[0;34m(\u001b[0m\u001b[0my\u001b[0m\u001b[0;34m,\u001b[0m \u001b[0my_pred\u001b[0m\u001b[0;34m)\u001b[0m\u001b[0;34m\u001b[0m\u001b[0;34m\u001b[0m\u001b[0m\n\u001b[0m",
      "\u001b[0;32m~/anaconda3/envs/densegat2/lib/python3.6/site-packages/sklearn/utils/validation.py\u001b[0m in \u001b[0;36minner_f\u001b[0;34m(*args, **kwargs)\u001b[0m\n\u001b[1;32m     61\u001b[0m             \u001b[0mextra_args\u001b[0m \u001b[0;34m=\u001b[0m \u001b[0mlen\u001b[0m\u001b[0;34m(\u001b[0m\u001b[0margs\u001b[0m\u001b[0;34m)\u001b[0m \u001b[0;34m-\u001b[0m \u001b[0mlen\u001b[0m\u001b[0;34m(\u001b[0m\u001b[0mall_args\u001b[0m\u001b[0;34m)\u001b[0m\u001b[0;34m\u001b[0m\u001b[0;34m\u001b[0m\u001b[0m\n\u001b[1;32m     62\u001b[0m             \u001b[0;32mif\u001b[0m \u001b[0mextra_args\u001b[0m \u001b[0;34m<=\u001b[0m \u001b[0;36m0\u001b[0m\u001b[0;34m:\u001b[0m\u001b[0;34m\u001b[0m\u001b[0;34m\u001b[0m\u001b[0m\n\u001b[0;32m---> 63\u001b[0;31m                 \u001b[0;32mreturn\u001b[0m \u001b[0mf\u001b[0m\u001b[0;34m(\u001b[0m\u001b[0;34m*\u001b[0m\u001b[0margs\u001b[0m\u001b[0;34m,\u001b[0m \u001b[0;34m**\u001b[0m\u001b[0mkwargs\u001b[0m\u001b[0;34m)\u001b[0m\u001b[0;34m\u001b[0m\u001b[0;34m\u001b[0m\u001b[0m\n\u001b[0m\u001b[1;32m     64\u001b[0m \u001b[0;34m\u001b[0m\u001b[0m\n\u001b[1;32m     65\u001b[0m             \u001b[0;31m# extra_args > 0\u001b[0m\u001b[0;34m\u001b[0m\u001b[0;34m\u001b[0m\u001b[0;34m\u001b[0m\u001b[0m\n",
      "\u001b[0;32m~/anaconda3/envs/densegat2/lib/python3.6/site-packages/sklearn/metrics/_classification.py\u001b[0m in \u001b[0;36mconfusion_matrix\u001b[0;34m(y_true, y_pred, labels, sample_weight, normalize)\u001b[0m\n\u001b[1;32m    297\u001b[0m \u001b[0;34m\u001b[0m\u001b[0m\n\u001b[1;32m    298\u001b[0m     \"\"\"\n\u001b[0;32m--> 299\u001b[0;31m     \u001b[0my_type\u001b[0m\u001b[0;34m,\u001b[0m \u001b[0my_true\u001b[0m\u001b[0;34m,\u001b[0m \u001b[0my_pred\u001b[0m \u001b[0;34m=\u001b[0m \u001b[0m_check_targets\u001b[0m\u001b[0;34m(\u001b[0m\u001b[0my_true\u001b[0m\u001b[0;34m,\u001b[0m \u001b[0my_pred\u001b[0m\u001b[0;34m)\u001b[0m\u001b[0;34m\u001b[0m\u001b[0;34m\u001b[0m\u001b[0m\n\u001b[0m\u001b[1;32m    300\u001b[0m     \u001b[0;32mif\u001b[0m \u001b[0my_type\u001b[0m \u001b[0;32mnot\u001b[0m \u001b[0;32min\u001b[0m \u001b[0;34m(\u001b[0m\u001b[0;34m\"binary\"\u001b[0m\u001b[0;34m,\u001b[0m \u001b[0;34m\"multiclass\"\u001b[0m\u001b[0;34m)\u001b[0m\u001b[0;34m:\u001b[0m\u001b[0;34m\u001b[0m\u001b[0;34m\u001b[0m\u001b[0m\n\u001b[1;32m    301\u001b[0m         \u001b[0;32mraise\u001b[0m \u001b[0mValueError\u001b[0m\u001b[0;34m(\u001b[0m\u001b[0;34m\"%s is not supported\"\u001b[0m \u001b[0;34m%\u001b[0m \u001b[0my_type\u001b[0m\u001b[0;34m)\u001b[0m\u001b[0;34m\u001b[0m\u001b[0;34m\u001b[0m\u001b[0m\n",
      "\u001b[0;32m~/anaconda3/envs/densegat2/lib/python3.6/site-packages/sklearn/metrics/_classification.py\u001b[0m in \u001b[0;36m_check_targets\u001b[0;34m(y_true, y_pred)\u001b[0m\n\u001b[1;32m     81\u001b[0m     \u001b[0my_pred\u001b[0m \u001b[0;34m:\u001b[0m \u001b[0marray\u001b[0m \u001b[0;32mor\u001b[0m \u001b[0mindicator\u001b[0m \u001b[0mmatrix\u001b[0m\u001b[0;34m\u001b[0m\u001b[0;34m\u001b[0m\u001b[0m\n\u001b[1;32m     82\u001b[0m     \"\"\"\n\u001b[0;32m---> 83\u001b[0;31m     \u001b[0mcheck_consistent_length\u001b[0m\u001b[0;34m(\u001b[0m\u001b[0my_true\u001b[0m\u001b[0;34m,\u001b[0m \u001b[0my_pred\u001b[0m\u001b[0;34m)\u001b[0m\u001b[0;34m\u001b[0m\u001b[0;34m\u001b[0m\u001b[0m\n\u001b[0m\u001b[1;32m     84\u001b[0m     \u001b[0mtype_true\u001b[0m \u001b[0;34m=\u001b[0m \u001b[0mtype_of_target\u001b[0m\u001b[0;34m(\u001b[0m\u001b[0my_true\u001b[0m\u001b[0;34m)\u001b[0m\u001b[0;34m\u001b[0m\u001b[0;34m\u001b[0m\u001b[0m\n\u001b[1;32m     85\u001b[0m     \u001b[0mtype_pred\u001b[0m \u001b[0;34m=\u001b[0m \u001b[0mtype_of_target\u001b[0m\u001b[0;34m(\u001b[0m\u001b[0my_pred\u001b[0m\u001b[0;34m)\u001b[0m\u001b[0;34m\u001b[0m\u001b[0;34m\u001b[0m\u001b[0m\n",
      "\u001b[0;32m~/anaconda3/envs/densegat2/lib/python3.6/site-packages/sklearn/utils/validation.py\u001b[0m in \u001b[0;36mcheck_consistent_length\u001b[0;34m(*arrays)\u001b[0m\n\u001b[1;32m    318\u001b[0m     \u001b[0;32mif\u001b[0m \u001b[0mlen\u001b[0m\u001b[0;34m(\u001b[0m\u001b[0muniques\u001b[0m\u001b[0;34m)\u001b[0m \u001b[0;34m>\u001b[0m \u001b[0;36m1\u001b[0m\u001b[0;34m:\u001b[0m\u001b[0;34m\u001b[0m\u001b[0;34m\u001b[0m\u001b[0m\n\u001b[1;32m    319\u001b[0m         raise ValueError(\"Found input variables with inconsistent numbers of\"\n\u001b[0;32m--> 320\u001b[0;31m                          \" samples: %r\" % [int(l) for l in lengths])\n\u001b[0m\u001b[1;32m    321\u001b[0m \u001b[0;34m\u001b[0m\u001b[0m\n\u001b[1;32m    322\u001b[0m \u001b[0;34m\u001b[0m\u001b[0m\n",
      "\u001b[0;31mValueError\u001b[0m: Found input variables with inconsistent numbers of samples: [178, 181967]"
     ]
    }
   ],
   "source": [
    "tn, fp, fn, tp = confusion_matrix(y, y_pred)"
   ]
  },
  {
   "cell_type": "code",
   "execution_count": null,
   "id": "e6c027b6",
   "metadata": {},
   "outputs": [],
   "source": []
  },
  {
   "cell_type": "code",
   "execution_count": null,
   "id": "d3ab2797",
   "metadata": {},
   "outputs": [],
   "source": []
  },
  {
   "cell_type": "code",
   "execution_count": null,
   "id": "fecf3651",
   "metadata": {},
   "outputs": [],
   "source": []
  },
  {
   "cell_type": "code",
   "execution_count": null,
   "id": "99ae8ebe",
   "metadata": {},
   "outputs": [],
   "source": []
  },
  {
   "cell_type": "code",
   "execution_count": null,
   "id": "43ee94b4",
   "metadata": {},
   "outputs": [],
   "source": []
  },
  {
   "cell_type": "code",
   "execution_count": 49,
   "id": "40cd98e1",
   "metadata": {},
   "outputs": [
    {
     "ename": "TypeError",
     "evalue": "Singleton array 0 cannot be considered a valid collection.",
     "output_type": "error",
     "traceback": [
      "\u001b[0;31m---------------------------------------------------------------------------\u001b[0m",
      "\u001b[0;31mTypeError\u001b[0m                                 Traceback (most recent call last)",
      "\u001b[0;32m<ipython-input-49-39d765f01358>\u001b[0m in \u001b[0;36m<module>\u001b[0;34m\u001b[0m\n\u001b[1;32m      1\u001b[0m \u001b[0my_hat\u001b[0m \u001b[0;34m=\u001b[0m \u001b[0mnp\u001b[0m\u001b[0;34m.\u001b[0m\u001b[0margmax\u001b[0m\u001b[0;34m(\u001b[0m\u001b[0my_hat\u001b[0m\u001b[0;34m,\u001b[0m \u001b[0;34m-\u001b[0m\u001b[0;36m1\u001b[0m\u001b[0;34m)\u001b[0m\u001b[0;34m\u001b[0m\u001b[0;34m\u001b[0m\u001b[0m\n\u001b[1;32m      2\u001b[0m \u001b[0my\u001b[0m \u001b[0;34m=\u001b[0m \u001b[0mtest_data\u001b[0m\u001b[0;34m.\u001b[0m\u001b[0my\u001b[0m\u001b[0;34m.\u001b[0m\u001b[0mnumpy\u001b[0m\u001b[0;34m(\u001b[0m\u001b[0;34m)\u001b[0m\u001b[0;34m\u001b[0m\u001b[0;34m\u001b[0m\u001b[0m\n\u001b[0;32m----> 3\u001b[0;31m \u001b[0mcr1\u001b[0m \u001b[0;34m=\u001b[0m \u001b[0mclassification_report\u001b[0m\u001b[0;34m(\u001b[0m\u001b[0my\u001b[0m\u001b[0;34m,\u001b[0m \u001b[0my_hat\u001b[0m\u001b[0;34m,\u001b[0m \u001b[0mdigits\u001b[0m\u001b[0;34m=\u001b[0m\u001b[0;36m4\u001b[0m\u001b[0;34m)\u001b[0m\u001b[0;34m\u001b[0m\u001b[0;34m\u001b[0m\u001b[0m\n\u001b[0m\u001b[1;32m      4\u001b[0m \u001b[0mcf\u001b[0m \u001b[0;34m=\u001b[0m \u001b[0mconfusion_matrix\u001b[0m\u001b[0;34m(\u001b[0m\u001b[0my\u001b[0m\u001b[0;34m,\u001b[0m \u001b[0my_hat\u001b[0m\u001b[0;34m)\u001b[0m\u001b[0;34m\u001b[0m\u001b[0;34m\u001b[0m\u001b[0m\n\u001b[1;32m      5\u001b[0m \u001b[0mauc\u001b[0m \u001b[0;34m=\u001b[0m \u001b[0mroc_auc_score\u001b[0m\u001b[0;34m(\u001b[0m\u001b[0my\u001b[0m\u001b[0;34m,\u001b[0m \u001b[0my_hat\u001b[0m\u001b[0;34m)\u001b[0m\u001b[0;34m\u001b[0m\u001b[0;34m\u001b[0m\u001b[0m\n",
      "\u001b[0;32m~/anaconda3/envs/densegat2/lib/python3.6/site-packages/sklearn/utils/validation.py\u001b[0m in \u001b[0;36minner_f\u001b[0;34m(*args, **kwargs)\u001b[0m\n\u001b[1;32m     61\u001b[0m             \u001b[0mextra_args\u001b[0m \u001b[0;34m=\u001b[0m \u001b[0mlen\u001b[0m\u001b[0;34m(\u001b[0m\u001b[0margs\u001b[0m\u001b[0;34m)\u001b[0m \u001b[0;34m-\u001b[0m \u001b[0mlen\u001b[0m\u001b[0;34m(\u001b[0m\u001b[0mall_args\u001b[0m\u001b[0;34m)\u001b[0m\u001b[0;34m\u001b[0m\u001b[0;34m\u001b[0m\u001b[0m\n\u001b[1;32m     62\u001b[0m             \u001b[0;32mif\u001b[0m \u001b[0mextra_args\u001b[0m \u001b[0;34m<=\u001b[0m \u001b[0;36m0\u001b[0m\u001b[0;34m:\u001b[0m\u001b[0;34m\u001b[0m\u001b[0;34m\u001b[0m\u001b[0m\n\u001b[0;32m---> 63\u001b[0;31m                 \u001b[0;32mreturn\u001b[0m \u001b[0mf\u001b[0m\u001b[0;34m(\u001b[0m\u001b[0;34m*\u001b[0m\u001b[0margs\u001b[0m\u001b[0;34m,\u001b[0m \u001b[0;34m**\u001b[0m\u001b[0mkwargs\u001b[0m\u001b[0;34m)\u001b[0m\u001b[0;34m\u001b[0m\u001b[0;34m\u001b[0m\u001b[0m\n\u001b[0m\u001b[1;32m     64\u001b[0m \u001b[0;34m\u001b[0m\u001b[0m\n\u001b[1;32m     65\u001b[0m             \u001b[0;31m# extra_args > 0\u001b[0m\u001b[0;34m\u001b[0m\u001b[0;34m\u001b[0m\u001b[0;34m\u001b[0m\u001b[0m\n",
      "\u001b[0;32m~/anaconda3/envs/densegat2/lib/python3.6/site-packages/sklearn/metrics/_classification.py\u001b[0m in \u001b[0;36mclassification_report\u001b[0;34m(y_true, y_pred, labels, target_names, sample_weight, digits, output_dict, zero_division)\u001b[0m\n\u001b[1;32m   1968\u001b[0m     \"\"\"\n\u001b[1;32m   1969\u001b[0m \u001b[0;34m\u001b[0m\u001b[0m\n\u001b[0;32m-> 1970\u001b[0;31m     \u001b[0my_type\u001b[0m\u001b[0;34m,\u001b[0m \u001b[0my_true\u001b[0m\u001b[0;34m,\u001b[0m \u001b[0my_pred\u001b[0m \u001b[0;34m=\u001b[0m \u001b[0m_check_targets\u001b[0m\u001b[0;34m(\u001b[0m\u001b[0my_true\u001b[0m\u001b[0;34m,\u001b[0m \u001b[0my_pred\u001b[0m\u001b[0;34m)\u001b[0m\u001b[0;34m\u001b[0m\u001b[0;34m\u001b[0m\u001b[0m\n\u001b[0m\u001b[1;32m   1971\u001b[0m \u001b[0;34m\u001b[0m\u001b[0m\n\u001b[1;32m   1972\u001b[0m     \u001b[0;32mif\u001b[0m \u001b[0mlabels\u001b[0m \u001b[0;32mis\u001b[0m \u001b[0;32mNone\u001b[0m\u001b[0;34m:\u001b[0m\u001b[0;34m\u001b[0m\u001b[0;34m\u001b[0m\u001b[0m\n",
      "\u001b[0;32m~/anaconda3/envs/densegat2/lib/python3.6/site-packages/sklearn/metrics/_classification.py\u001b[0m in \u001b[0;36m_check_targets\u001b[0;34m(y_true, y_pred)\u001b[0m\n\u001b[1;32m     81\u001b[0m     \u001b[0my_pred\u001b[0m \u001b[0;34m:\u001b[0m \u001b[0marray\u001b[0m \u001b[0;32mor\u001b[0m \u001b[0mindicator\u001b[0m \u001b[0mmatrix\u001b[0m\u001b[0;34m\u001b[0m\u001b[0;34m\u001b[0m\u001b[0m\n\u001b[1;32m     82\u001b[0m     \"\"\"\n\u001b[0;32m---> 83\u001b[0;31m     \u001b[0mcheck_consistent_length\u001b[0m\u001b[0;34m(\u001b[0m\u001b[0my_true\u001b[0m\u001b[0;34m,\u001b[0m \u001b[0my_pred\u001b[0m\u001b[0;34m)\u001b[0m\u001b[0;34m\u001b[0m\u001b[0;34m\u001b[0m\u001b[0m\n\u001b[0m\u001b[1;32m     84\u001b[0m     \u001b[0mtype_true\u001b[0m \u001b[0;34m=\u001b[0m \u001b[0mtype_of_target\u001b[0m\u001b[0;34m(\u001b[0m\u001b[0my_true\u001b[0m\u001b[0;34m)\u001b[0m\u001b[0;34m\u001b[0m\u001b[0;34m\u001b[0m\u001b[0m\n\u001b[1;32m     85\u001b[0m     \u001b[0mtype_pred\u001b[0m \u001b[0;34m=\u001b[0m \u001b[0mtype_of_target\u001b[0m\u001b[0;34m(\u001b[0m\u001b[0my_pred\u001b[0m\u001b[0;34m)\u001b[0m\u001b[0;34m\u001b[0m\u001b[0;34m\u001b[0m\u001b[0m\n",
      "\u001b[0;32m~/anaconda3/envs/densegat2/lib/python3.6/site-packages/sklearn/utils/validation.py\u001b[0m in \u001b[0;36mcheck_consistent_length\u001b[0;34m(*arrays)\u001b[0m\n\u001b[1;32m    314\u001b[0m     \"\"\"\n\u001b[1;32m    315\u001b[0m \u001b[0;34m\u001b[0m\u001b[0m\n\u001b[0;32m--> 316\u001b[0;31m     \u001b[0mlengths\u001b[0m \u001b[0;34m=\u001b[0m \u001b[0;34m[\u001b[0m\u001b[0m_num_samples\u001b[0m\u001b[0;34m(\u001b[0m\u001b[0mX\u001b[0m\u001b[0;34m)\u001b[0m \u001b[0;32mfor\u001b[0m \u001b[0mX\u001b[0m \u001b[0;32min\u001b[0m \u001b[0marrays\u001b[0m \u001b[0;32mif\u001b[0m \u001b[0mX\u001b[0m \u001b[0;32mis\u001b[0m \u001b[0;32mnot\u001b[0m \u001b[0;32mNone\u001b[0m\u001b[0;34m]\u001b[0m\u001b[0;34m\u001b[0m\u001b[0;34m\u001b[0m\u001b[0m\n\u001b[0m\u001b[1;32m    317\u001b[0m     \u001b[0muniques\u001b[0m \u001b[0;34m=\u001b[0m \u001b[0mnp\u001b[0m\u001b[0;34m.\u001b[0m\u001b[0munique\u001b[0m\u001b[0;34m(\u001b[0m\u001b[0mlengths\u001b[0m\u001b[0;34m)\u001b[0m\u001b[0;34m\u001b[0m\u001b[0;34m\u001b[0m\u001b[0m\n\u001b[1;32m    318\u001b[0m     \u001b[0;32mif\u001b[0m \u001b[0mlen\u001b[0m\u001b[0;34m(\u001b[0m\u001b[0muniques\u001b[0m\u001b[0;34m)\u001b[0m \u001b[0;34m>\u001b[0m \u001b[0;36m1\u001b[0m\u001b[0;34m:\u001b[0m\u001b[0;34m\u001b[0m\u001b[0;34m\u001b[0m\u001b[0m\n",
      "\u001b[0;32m~/anaconda3/envs/densegat2/lib/python3.6/site-packages/sklearn/utils/validation.py\u001b[0m in \u001b[0;36m<listcomp>\u001b[0;34m(.0)\u001b[0m\n\u001b[1;32m    314\u001b[0m     \"\"\"\n\u001b[1;32m    315\u001b[0m \u001b[0;34m\u001b[0m\u001b[0m\n\u001b[0;32m--> 316\u001b[0;31m     \u001b[0mlengths\u001b[0m \u001b[0;34m=\u001b[0m \u001b[0;34m[\u001b[0m\u001b[0m_num_samples\u001b[0m\u001b[0;34m(\u001b[0m\u001b[0mX\u001b[0m\u001b[0;34m)\u001b[0m \u001b[0;32mfor\u001b[0m \u001b[0mX\u001b[0m \u001b[0;32min\u001b[0m \u001b[0marrays\u001b[0m \u001b[0;32mif\u001b[0m \u001b[0mX\u001b[0m \u001b[0;32mis\u001b[0m \u001b[0;32mnot\u001b[0m \u001b[0;32mNone\u001b[0m\u001b[0;34m]\u001b[0m\u001b[0;34m\u001b[0m\u001b[0;34m\u001b[0m\u001b[0m\n\u001b[0m\u001b[1;32m    317\u001b[0m     \u001b[0muniques\u001b[0m \u001b[0;34m=\u001b[0m \u001b[0mnp\u001b[0m\u001b[0;34m.\u001b[0m\u001b[0munique\u001b[0m\u001b[0;34m(\u001b[0m\u001b[0mlengths\u001b[0m\u001b[0;34m)\u001b[0m\u001b[0;34m\u001b[0m\u001b[0;34m\u001b[0m\u001b[0m\n\u001b[1;32m    318\u001b[0m     \u001b[0;32mif\u001b[0m \u001b[0mlen\u001b[0m\u001b[0;34m(\u001b[0m\u001b[0muniques\u001b[0m\u001b[0;34m)\u001b[0m \u001b[0;34m>\u001b[0m \u001b[0;36m1\u001b[0m\u001b[0;34m:\u001b[0m\u001b[0;34m\u001b[0m\u001b[0;34m\u001b[0m\u001b[0m\n",
      "\u001b[0;32m~/anaconda3/envs/densegat2/lib/python3.6/site-packages/sklearn/utils/validation.py\u001b[0m in \u001b[0;36m_num_samples\u001b[0;34m(x)\u001b[0m\n\u001b[1;32m    258\u001b[0m         \u001b[0;32mif\u001b[0m \u001b[0mlen\u001b[0m\u001b[0;34m(\u001b[0m\u001b[0mx\u001b[0m\u001b[0;34m.\u001b[0m\u001b[0mshape\u001b[0m\u001b[0;34m)\u001b[0m \u001b[0;34m==\u001b[0m \u001b[0;36m0\u001b[0m\u001b[0;34m:\u001b[0m\u001b[0;34m\u001b[0m\u001b[0;34m\u001b[0m\u001b[0m\n\u001b[1;32m    259\u001b[0m             raise TypeError(\"Singleton array %r cannot be considered\"\n\u001b[0;32m--> 260\u001b[0;31m                             \" a valid collection.\" % x)\n\u001b[0m\u001b[1;32m    261\u001b[0m         \u001b[0;31m# Check that shape is returning an integer or default to len\u001b[0m\u001b[0;34m\u001b[0m\u001b[0;34m\u001b[0m\u001b[0;34m\u001b[0m\u001b[0m\n\u001b[1;32m    262\u001b[0m         \u001b[0;31m# Dask dataframes may not return numeric shape[0] value\u001b[0m\u001b[0;34m\u001b[0m\u001b[0;34m\u001b[0m\u001b[0;34m\u001b[0m\u001b[0m\n",
      "\u001b[0;31mTypeError\u001b[0m: Singleton array 0 cannot be considered a valid collection."
     ]
    }
   ],
   "source": [
    "y_hat = np.argmax(y_hat, -1)\n",
    "y = test_data.y.numpy()\n",
    "cr1 = classification_report(y, y_hat, digits=4)\n",
    "cf = confusion_matrix(y, y_hat)\n",
    "auc = roc_auc_score(y, y_hat)\n",
    "print(auc)\n",
    "print(cr1)\n",
    "print(cf)"
   ]
  },
  {
   "cell_type": "code",
   "execution_count": null,
   "id": "389008ed",
   "metadata": {},
   "outputs": [],
   "source": []
  },
  {
   "cell_type": "code",
   "execution_count": null,
   "id": "ebc32544",
   "metadata": {},
   "outputs": [],
   "source": []
  },
  {
   "cell_type": "code",
   "execution_count": null,
   "id": "9c9b106e",
   "metadata": {},
   "outputs": [],
   "source": []
  },
  {
   "cell_type": "code",
   "execution_count": null,
   "id": "8528ee15",
   "metadata": {},
   "outputs": [],
   "source": []
  },
  {
   "cell_type": "code",
   "execution_count": null,
   "id": "511e3f60",
   "metadata": {},
   "outputs": [],
   "source": []
  },
  {
   "cell_type": "code",
   "execution_count": 79,
   "id": "588e5742",
   "metadata": {},
   "outputs": [
    {
     "data": {
      "text/plain": [
       "(0.9845851739166023,\n",
       " tensor([1, 1, 1,  ..., 1, 1, 1]),\n",
       " array([1, 1, 1, ..., 1, 1, 0]))"
      ]
     },
     "execution_count": 79,
     "metadata": {},
     "output_type": "execute_result"
    }
   ],
   "source": [
    "auc, y, y_hat"
   ]
  },
  {
   "cell_type": "code",
   "execution_count": 83,
   "id": "6a968400",
   "metadata": {},
   "outputs": [
    {
     "data": {
      "text/plain": [
       "array([[ 14546,    454],\n",
       "       [    94, 166873]])"
      ]
     },
     "execution_count": 83,
     "metadata": {},
     "output_type": "execute_result"
    }
   ],
   "source": [
    "confusion_matrix(y, y_hat)"
   ]
  },
  {
   "cell_type": "code",
   "execution_count": 75,
   "id": "d8e57b3a",
   "metadata": {},
   "outputs": [
    {
     "data": {
      "text/plain": [
       "[0.9865356894875434, 0.9870484532871766, 0.985732302191451, 0.9869649970752704]"
      ]
     },
     "execution_count": 75,
     "metadata": {},
     "output_type": "execute_result"
    }
   ],
   "source": [
    "all_auc2"
   ]
  },
  {
   "cell_type": "code",
   "execution_count": null,
   "id": "51496adc",
   "metadata": {},
   "outputs": [],
   "source": []
  },
  {
   "cell_type": "code",
   "execution_count": null,
   "id": "a12e4e87",
   "metadata": {},
   "outputs": [],
   "source": [
    "all_auc"
   ]
  },
  {
   "cell_type": "code",
   "execution_count": 63,
   "id": "eb370568",
   "metadata": {},
   "outputs": [],
   "source": [
    "all_auc = np.array(all_auc)"
   ]
  },
  {
   "cell_type": "code",
   "execution_count": 64,
   "id": "2f04b46f",
   "metadata": {},
   "outputs": [],
   "source": [
    "best_auc = all_auc[all_auc>0.98]"
   ]
  },
  {
   "cell_type": "code",
   "execution_count": 67,
   "id": "a8c5f1db",
   "metadata": {},
   "outputs": [],
   "source": [
    "a = np.max(best_auc)"
   ]
  },
  {
   "cell_type": "code",
   "execution_count": 68,
   "id": "a08d9233",
   "metadata": {},
   "outputs": [
    {
     "data": {
      "text/plain": [
       "0.9877646043829019"
      ]
     },
     "execution_count": 68,
     "metadata": {},
     "output_type": "execute_result"
    }
   ],
   "source": [
    "a"
   ]
  },
  {
   "cell_type": "code",
   "execution_count": 43,
   "id": "b396a666",
   "metadata": {},
   "outputs": [
    {
     "name": "stderr",
     "output_type": "stream",
     "text": [
      "100%|██████████| 178/178 [00:34<00:00,  5.13it/s]\n"
     ]
    },
    {
     "name": "stdout",
     "output_type": "stream",
     "text": [
      "[1 1 1 ... 1 1 0]\n",
      "tensor([1, 1, 1,  ..., 1, 1, 1])\n",
      "0.9869065288350394\n",
      "              precision    recall  f1-score   support\n",
      "\n",
      "           0     0.9933    0.9744    0.9838     15000\n",
      "           1     0.9977    0.9994    0.9986    166967\n",
      "\n",
      "    accuracy                         0.9974    181967\n",
      "   macro avg     0.9955    0.9869    0.9912    181967\n",
      "weighted avg     0.9973    0.9974    0.9973    181967\n",
      "\n",
      "[[ 14616    384]\n",
      " [    98 166869]]\n"
     ]
    }
   ],
   "source": [
    "inferrence(model, subgraph_loader)"
   ]
  },
  {
   "cell_type": "code",
   "execution_count": 33,
   "id": "6b40550d",
   "metadata": {},
   "outputs": [
    {
     "name": "stderr",
     "output_type": "stream",
     "text": [
      "100%|██████████| 178/178 [00:36<00:00,  4.89it/s]\n"
     ]
    },
    {
     "name": "stdout",
     "output_type": "stream",
     "text": [
      "[1 1 1 ... 1 1 1]\n",
      "tensor([1, 1, 1,  ..., 1, 1, 1])\n",
      "0.9810049580655659\n",
      "              precision    recall  f1-score   support\n",
      "\n",
      "           0     0.9963    0.9623    0.9790     15000\n",
      "           1     0.9966    0.9997    0.9981    166967\n",
      "\n",
      "    accuracy                         0.9966    181967\n",
      "   macro avg     0.9964    0.9810    0.9886    181967\n",
      "weighted avg     0.9966    0.9966    0.9966    181967\n",
      "\n",
      "[[ 14435    565]\n",
      " [    54 166913]]\n"
     ]
    }
   ],
   "source": [
    "inferrence(model, subgraph_loader)"
   ]
  },
  {
   "cell_type": "code",
   "execution_count": null,
   "id": "2c2150d1",
   "metadata": {},
   "outputs": [],
   "source": [
    "roc_auc_score()"
   ]
  },
  {
   "cell_type": "code",
   "execution_count": null,
   "id": "313b2fa6",
   "metadata": {},
   "outputs": [],
   "source": [
    "test(test)"
   ]
  },
  {
   "cell_type": "code",
   "execution_count": null,
   "id": "993dfd01",
   "metadata": {},
   "outputs": [],
   "source": [
    "y_hat = model(test_data.x.to(device), test_data.edge_index.to(device))\n",
    "y_hat = y_hat.detach().numpy()\n",
    "y_hat = np.argmax(y_hat, -1)\n",
    "test_y = test_data.y.numpy()"
   ]
  },
  {
   "cell_type": "code",
   "execution_count": null,
   "id": "16cf4064",
   "metadata": {},
   "outputs": [],
   "source": [
    "get_metrics(test_y, y_hat)"
   ]
  },
  {
   "cell_type": "code",
   "execution_count": 181,
   "id": "c9a2328f",
   "metadata": {},
   "outputs": [
    {
     "name": "stdout",
     "output_type": "stream",
     "text": [
      "              precision    recall  f1-score        support\n",
      "0              0.915902  0.964933  0.939779   15000.000000\n",
      "1              0.999844  0.999167  0.999505   38408.000000\n",
      "2              0.999684  0.996914  0.998297   47641.000000\n",
      "3              0.813486  0.965928  0.883178     587.000000\n",
      "4              1.000000  0.545455  0.705882      11.000000\n",
      "5              0.992475  0.997479  0.994971    2380.000000\n",
      "6              0.900365  0.975692  0.936517    1769.000000\n",
      "7              0.996530  0.990799  0.993656    1739.000000\n",
      "8              0.988547  0.993939  0.991236    1650.000000\n",
      "9              0.996787  0.984255  0.990481   69037.000000\n",
      "10             0.995770  0.990933  0.993345    3088.000000\n",
      "11             1.000000  1.000000  1.000000       3.000000\n",
      "12             0.645265  0.889381  0.747907     452.000000\n",
      "13             0.000000  0.000000  0.000000     196.000000\n",
      "14             0.333333  0.166667  0.222222       6.000000\n",
      "accuracy       0.988069  0.988069  0.988069       0.988069\n",
      "macro avg      0.838533  0.830769  0.826465  181967.000000\n",
      "weighted avg   0.987875  0.988069  0.987815  181967.000000\n",
      "[[14474     4    12   130     0     7   141     1     9   183     6     0\n",
      "     33     0     0]\n",
      " [   26 38376     0     0     0     0     0     0     1     4     1     0\n",
      "      0     0     0]\n",
      " [  115     1 47494     0     0     1     2     0     0    21     1     0\n",
      "      5     1     0]\n",
      " [   20     0     0   567     0     0     0     0     0     0     0     0\n",
      "      0     0     0]\n",
      " [    3     0     0     0     6     1     0     1     0     0     0     0\n",
      "      0     0     0]\n",
      " [    0     0     0     0     0  2374     1     2     0     3     0     0\n",
      "      0     0     0]\n",
      " [   35     0     0     0     0     6  1726     0     0     2     0     0\n",
      "      0     0     0]\n",
      " [    5     0     0     0     0     3     1  1723     6     0     1     0\n",
      "      0     0     0]\n",
      " [    4     1     0     0     0     0     1     2  1640     1     1     0\n",
      "      0     0     0]\n",
      " [ 1082     0     1     0     0     0     0     0     1 67950     2     0\n",
      "      1     0     0]\n",
      " [   21     0     2     0     0     0     0     0     2     0  3060     0\n",
      "      0     1     2]\n",
      " [    0     0     0     0     0     0     0     0     0     0     0     3\n",
      "      0     0     0]\n",
      " [   10     0     0     0     0     0    39     0     0     0     1     0\n",
      "    402     0     0]\n",
      " [    6     0     0     0     0     0     3     0     0     5     0     0\n",
      "    182     0     0]\n",
      " [    2     0     0     0     0     0     3     0     0     0     0     0\n",
      "      0     0     1]]\n"
     ]
    }
   ],
   "source": [
    "get_metrics(test_y, y_hat)"
   ]
  },
  {
   "cell_type": "code",
   "execution_count": 59,
   "id": "231478a4",
   "metadata": {},
   "outputs": [
    {
     "name": "stdout",
     "output_type": "stream",
     "text": [
      "              precision    recall  f1-score        support\n",
      "0              0.980109  0.946067  0.962787   15000.000000\n",
      "1              0.999505  0.998203  0.998854   38408.000000\n",
      "2              0.999580  0.999349  0.999465   47641.000000\n",
      "3              0.832326  0.938671  0.882306     587.000000\n",
      "4              1.000000  0.272727  0.428571      11.000000\n",
      "5              0.989962  0.994538  0.992245    2380.000000\n",
      "6              0.835676  0.974562  0.899791    1769.000000\n",
      "7              0.989595  0.984474  0.987028    1739.000000\n",
      "8              0.984876  0.986667  0.985771    1650.000000\n",
      "9              0.994949  0.998638  0.996790   69037.000000\n",
      "10             0.988993  0.989313  0.989153    3088.000000\n",
      "11             1.000000  1.000000  1.000000       3.000000\n",
      "12             0.618271  0.838496  0.711737     452.000000\n",
      "13             0.000000  0.000000  0.000000     196.000000\n",
      "14             0.000000  0.000000  0.000000       6.000000\n",
      "accuracy       0.991966  0.991966  0.991966       0.991966\n",
      "macro avg      0.814256  0.794780  0.788967  181967.000000\n",
      "weighted avg   0.991478  0.991966  0.991580  181967.000000\n",
      "[[14191    10    19   111     0    19   286     0    11   295    15     0\n",
      "     43     0     0]\n",
      " [   68 38339     0     0     0     0     0     0     0     1     0     0\n",
      "      0     0     0]\n",
      " [    2     0 47610     0     0     0     2     0     0    21     1     0\n",
      "      5     0     0]\n",
      " [   35     0     0   551     0     0     1     0     0     0     0     0\n",
      "      0     0     0]\n",
      " [    8     0     0     0     3     0     0     0     0     0     0     0\n",
      "      0     0     0]\n",
      " [    5     0     0     0     0  2367     1     4     0     3     0     0\n",
      "      0     0     0]\n",
      " [   31     0     0     0     0     4  1724     2     0     5     3     0\n",
      "      0     0     0]\n",
      " [    8     0     0     0     0     1     2  1712    12     1     2     0\n",
      "      1     0     0]\n",
      " [    5     1     0     0     0     0     1    12  1628     0     1     0\n",
      "      2     0     0]\n",
      " [   76     8     0     0     0     0     0     0     0 68943     9     0\n",
      "      1     0     0]\n",
      " [   12     0     0     0     0     0     0     0     2    19  3055     0\n",
      "      0     0     0]\n",
      " [    0     0     0     0     0     0     0     0     0     0     0     3\n",
      "      0     0     0]\n",
      " [   31     0     1     0     0     0    40     0     0     0     1     0\n",
      "    379     0     0]\n",
      " [    6     0     0     0     0     0     3     0     0     5     0     0\n",
      "    182     0     0]\n",
      " [    1     0     0     0     0     0     3     0     0     0     2     0\n",
      "      0     0     0]]\n"
     ]
    }
   ],
   "source": [
    "get_metrics(test_y, y_hat)"
   ]
  },
  {
   "cell_type": "code",
   "execution_count": 130,
   "id": "dcf95fa2",
   "metadata": {},
   "outputs": [],
   "source": [
    "y_hat = model(test_data.x.to(device), test_data.edge_index.to(device))\n",
    "y_hat = y_hat.detach().numpy()\n",
    "y_hat = np.argmax(y_hat, -1)\n",
    "test_y = test_data.y.numpy()"
   ]
  },
  {
   "cell_type": "code",
   "execution_count": 131,
   "id": "66af8642",
   "metadata": {},
   "outputs": [
    {
     "name": "stdout",
     "output_type": "stream",
     "text": [
      "              precision    recall  f1-score        support\n",
      "0              0.985699  0.923600  0.953640   15000.000000\n",
      "1              0.993581  0.999427  0.996495   38408.000000\n",
      "2              0.996337  0.999055  0.997694   47641.000000\n",
      "3              0.951220  0.597956  0.734310     587.000000\n",
      "4              1.000000  0.272727  0.428571      11.000000\n",
      "5              0.990826  0.998319  0.994558    2380.000000\n",
      "6              0.814745  0.974562  0.887516    1769.000000\n",
      "7              0.978482  0.993675  0.986020    1739.000000\n",
      "8              0.979580  0.988485  0.984012    1650.000000\n",
      "9              0.994566  0.999479  0.997016   69037.000000\n",
      "10             0.939356  0.983161  0.960759    3088.000000\n",
      "11             1.000000  1.000000  1.000000       3.000000\n",
      "12             0.620870  0.789823  0.695229     452.000000\n",
      "13             0.000000  0.000000  0.000000     196.000000\n",
      "14             0.000000  0.000000  0.000000       6.000000\n",
      "accuracy       0.989443  0.989443  0.989443       0.989443\n",
      "macro avg      0.816351  0.768018  0.774388  181967.000000\n",
      "weighted avg   0.988895  0.989443  0.988835  181967.000000\n",
      "[[13854   242   106    18     0     7   338    18    23   321    25     0\n",
      "     47     1     0]\n",
      " [   15 38386     4     0     0     0     0     0     1     1     1     0\n",
      "      0     0     0]\n",
      " [    3     1 47596     0     0    10     2     5     0    21     1     0\n",
      "      2     0     0]\n",
      " [   72     0     0   351     0     0     1     0     0     0   163     0\n",
      "      0     0     0]\n",
      " [    7     1     0     0     3     0     0     0     0     0     0     0\n",
      "      0     0     0]\n",
      " [    0     0     0     0     0  2376     1     0     0     3     0     0\n",
      "      0     0     0]\n",
      " [   32     0     3     0     0     4  1724     0     0     6     0     0\n",
      "      0     0     0]\n",
      " [    1     2     0     0     0     1     1  1728     3     1     1     0\n",
      "      1     0     0]\n",
      " [    2     1     0     0     0     0     1    13  1631     0     2     0\n",
      "      0     0     0]\n",
      " [   28     1     0     0     0     0     0     0     3 69001     3     0\n",
      "      1     0     0]\n",
      " [   25     0     1     0     0     0     0     2     4    19  3036     0\n",
      "      0     0     1]\n",
      " [    0     0     0     0     0     0     0     0     0     0     0     3\n",
      "      0     0     0]\n",
      " [    8     0    45     0     0     0    42     0     0     0     0     0\n",
      "    357     0     0]\n",
      " [    6     0    16     0     0     0     3     0     0     5     0     0\n",
      "    166     0     0]\n",
      " [    2     0     0     0     0     0     3     0     0     0     0     0\n",
      "      1     0     0]]\n"
     ]
    }
   ],
   "source": [
    "get_metrics(test_y, y_hat)"
   ]
  },
  {
   "cell_type": "code",
   "execution_count": 112,
   "id": "56284096",
   "metadata": {},
   "outputs": [
    {
     "name": "stdout",
     "output_type": "stream",
     "text": [
      "              precision    recall  f1-score        support\n",
      "0              0.988604  0.936933  0.962076   15000.000000\n",
      "1              0.999844  0.998750  0.999297   38408.000000\n",
      "2              0.999475  0.999202  0.999339   47641.000000\n",
      "3              0.705497  0.918228  0.797927     587.000000\n",
      "4              0.000000  0.000000  0.000000      11.000000\n",
      "5              0.992057  0.997059  0.994552    2380.000000\n",
      "6              0.814085  0.980215  0.889459    1769.000000\n",
      "7              0.993048  0.985624  0.989322    1739.000000\n",
      "8              0.987915  0.990909  0.989410    1650.000000\n",
      "9              0.994941  0.999928  0.997428   69037.000000\n",
      "10             0.991262  0.991904  0.991583    3088.000000\n",
      "11             1.000000  1.000000  1.000000       3.000000\n",
      "12             0.636215  0.862832  0.732394     452.000000\n",
      "13             1.000000  0.005102  0.010152     196.000000\n",
      "14             0.000000  0.000000  0.000000       6.000000\n",
      "accuracy       0.991944  0.991944  0.991944       0.991944\n",
      "macro avg      0.806863  0.777779  0.756863  181967.000000\n",
      "weighted avg   0.992788  0.991944  0.991613  181967.000000\n",
      "[[14054     5    23   222     0    14   335     3     9   285    15     0\n",
      "     35     0     0]\n",
      " [   37 38360     1     0     0     0     0     0     0    10     0     0\n",
      "      0     0     0]\n",
      " [    7     0 47603     3     0     0     2     2     0    21     1     0\n",
      "      2     0     0]\n",
      " [   47     0     0   539     0     0     1     0     0     0     0     0\n",
      "      0     0     0]\n",
      " [   10     0     0     0     0     0     1     0     0     0     0     0\n",
      "      0     0     0]\n",
      " [    1     0     0     0     0  2373     1     2     0     3     0     0\n",
      "      0     0     0]\n",
      " [   23     0     0     0     0     3  1734     2     0     7     0     0\n",
      "      0     0     0]\n",
      " [    9     0     0     0     0     2     1  1714     8     1     4     0\n",
      "      0     0     0]\n",
      " [    5     1     0     0     0     0     1     3  1635     0     5     0\n",
      "      0     0     0]\n",
      " [    3     0     0     0     0     0     0     0     0 69032     1     0\n",
      "      1     0     0]\n",
      " [    3     0     0     0     0     0     0     0     3    19  3063     0\n",
      "      0     0     0]\n",
      " [    0     0     0     0     0     0     0     0     0     0     0     3\n",
      "      0     0     0]\n",
      " [   13     0     1     0     0     0    48     0     0     0     0     0\n",
      "    390     0     0]\n",
      " [    2     0     0     0     0     0     3     0     0     5     0     0\n",
      "    185     1     0]\n",
      " [    2     0     0     0     0     0     3     0     0     0     1     0\n",
      "      0     0     0]]\n"
     ]
    }
   ],
   "source": [
    "get_metrics(test_y, y_hat)"
   ]
  },
  {
   "cell_type": "code",
   "execution_count": 69,
   "id": "32b68661",
   "metadata": {},
   "outputs": [
    {
     "name": "stdout",
     "output_type": "stream",
     "text": [
      "              precision    recall  f1-score        support\n",
      "0              0.930174  0.978667  0.953804   15000.000000\n",
      "1              0.998074  0.993400  0.995732  166967.000000\n",
      "accuracy       0.992185  0.992185  0.992185       0.992185\n",
      "macro avg      0.964124  0.986033  0.974768  181967.000000\n",
      "weighted avg   0.992477  0.992185  0.992275  181967.000000\n",
      "[[ 14680    320]\n",
      " [  1102 165865]]\n"
     ]
    }
   ],
   "source": [
    "get_metrics(test_y, y_hat)"
   ]
  },
  {
   "cell_type": "code",
   "execution_count": 52,
   "id": "c7a5bf54",
   "metadata": {},
   "outputs": [
    {
     "name": "stdout",
     "output_type": "stream",
     "text": [
      "              precision    recall  f1-score        support\n",
      "0              0.994470  0.959133  0.976482   15000.000000\n",
      "1              0.996340  0.999521  0.997928  166967.000000\n",
      "accuracy       0.996192  0.996192  0.996192       0.996192\n",
      "macro avg      0.995405  0.979327  0.987205  181967.000000\n",
      "weighted avg   0.996186  0.996192  0.996160  181967.000000\n",
      "[[ 14387    613]\n",
      " [    80 166887]]\n"
     ]
    }
   ],
   "source": [
    "get_metrics(test_y, y_hat)"
   ]
  },
  {
   "cell_type": "code",
   "execution_count": 53,
   "id": "d1ba844c",
   "metadata": {},
   "outputs": [
    {
     "data": {
      "text/plain": [
       "0.9793270983687394"
      ]
     },
     "execution_count": 53,
     "metadata": {},
     "output_type": "execute_result"
    }
   ],
   "source": [
    "roc_auc_score(test_y, y_hat)"
   ]
  },
  {
   "cell_type": "code",
   "execution_count": 38,
   "id": "0dbe0c03",
   "metadata": {},
   "outputs": [
    {
     "name": "stdout",
     "output_type": "stream",
     "text": [
      "              precision    recall  f1-score        support\n",
      "0              0.992109  0.963867  0.977784   15000.000000\n",
      "1              0.996762  0.999311  0.998035  166967.000000\n",
      "accuracy       0.996389  0.996389  0.996389       0.996389\n",
      "macro avg      0.994435  0.981589  0.987909  181967.000000\n",
      "weighted avg   0.996379  0.996389  0.996366  181967.000000\n",
      "[[ 14458    542]\n",
      " [   115 166852]]\n"
     ]
    }
   ],
   "source": [
    "get_metrics(test_y, y_hat)"
   ]
  },
  {
   "cell_type": "code",
   "execution_count": 33,
   "id": "64e300bc",
   "metadata": {},
   "outputs": [
    {
     "name": "stdout",
     "output_type": "stream",
     "text": [
      "              precision    recall  f1-score        support\n",
      "0              0.994680  0.959733  0.976894   15000.000000\n",
      "1              0.996394  0.999539  0.997964  166967.000000\n",
      "accuracy       0.996258  0.996258  0.996258       0.996258\n",
      "macro avg      0.995537  0.979636  0.987429  181967.000000\n",
      "weighted avg   0.996253  0.996258  0.996227  181967.000000\n",
      "[[ 14396    604]\n",
      " [    77 166890]]\n"
     ]
    }
   ],
   "source": [
    "get_metrics(test_y, y_hat)"
   ]
  },
  {
   "cell_type": "code",
   "execution_count": 39,
   "id": "472a52b0",
   "metadata": {},
   "outputs": [
    {
     "name": "stdout",
     "output_type": "stream",
     "text": [
      "              precision    recall  f1-score        support\n",
      "0              0.995477  0.968467  0.981786   15000.000000\n",
      "1              0.999844  0.999714  0.999779   38408.000000\n",
      "2              0.999727  0.999244  0.999486   47641.000000\n",
      "3              0.790123  0.981261  0.875380     587.000000\n",
      "4              0.750000  0.545455  0.631579      11.000000\n",
      "5              0.998739  0.998319  0.998529    2380.000000\n",
      "6              0.953476  0.984737  0.968854    1769.000000\n",
      "7              0.989649  0.989649  0.989649    1739.000000\n",
      "8              0.988533  0.992727  0.990626    1650.000000\n",
      "9              0.996521  0.999928  0.998221   69037.000000\n",
      "10             0.995779  0.993199  0.994488    3088.000000\n",
      "11             1.000000  1.000000  1.000000       3.000000\n",
      "12             0.654264  0.933628  0.769371     452.000000\n",
      "13             0.500000  0.025510  0.048544     196.000000\n",
      "14             1.000000  0.500000  0.666667       6.000000\n",
      "accuracy       0.995345  0.995345  0.995345       0.995345\n",
      "macro avg      0.907476  0.860789  0.860864  181967.000000\n",
      "weighted avg   0.995370  0.995345  0.995010  181967.000000\n",
      "[[14527     5    11   152     2     2    49     6    12   186     7     0\n",
      "     40     1     0]\n",
      " [    8 38397     0     0     0     0     0     0     0     2     1     0\n",
      "      0     0     0]\n",
      " [    5     0 47605     1     0     0     2     3     0    21     0     0\n",
      "      1     3     0]\n",
      " [   10     1     0   576     0     0     0     0     0     0     0     0\n",
      "      0     0     0]\n",
      " [    5     0     0     0     6     0     0     0     0     0     0     0\n",
      "      0     0     0]\n",
      " [    0     0     0     0     0  2376     1     0     0     3     0     0\n",
      "      0     0     0]\n",
      " [   23     0     0     0     0     0  1742     0     0     4     0     0\n",
      "      0     0     0]\n",
      " [    6     0     0     0     0     1     1  1721     5     1     4     0\n",
      "      0     0     0]\n",
      " [    2     0     0     0     0     0     1     8  1638     1     0     0\n",
      "      0     0     0]\n",
      " [    2     0     0     0     0     0     0     1     0 69032     1     0\n",
      "      1     0     0]\n",
      " [    0     0     1     0     0     0     0     0     2    18  3067     0\n",
      "      0     0     0]\n",
      " [    0     0     0     0     0     0     0     0     0     0     0     3\n",
      "      0     0     0]\n",
      " [    3     0     1     0     0     0    25     0     0     0     0     0\n",
      "    422     1     0]\n",
      " [    2     0     0     0     0     0     3     0     0     5     0     0\n",
      "    181     5     0]\n",
      " [    0     0     0     0     0     0     3     0     0     0     0     0\n",
      "      0     0     3]]\n"
     ]
    }
   ],
   "source": [
    "get_metrics(test_y, y_hat)"
   ]
  },
  {
   "cell_type": "code",
   "execution_count": 166,
   "id": "898cc75d",
   "metadata": {},
   "outputs": [
    {
     "name": "stdout",
     "output_type": "stream",
     "text": [
      "              precision    recall  f1-score        support\n",
      "0              0.994277  0.961400  0.977562   15000.000000\n",
      "1              0.999375  0.999662  0.999518   38408.000000\n",
      "2              0.999790  0.999391  0.999591   47641.000000\n",
      "3              0.787380  0.977853  0.872340     587.000000\n",
      "4              1.000000  0.545455  0.705882      11.000000\n",
      "5              0.997050  0.994118  0.995582    2380.000000\n",
      "6              0.914871  0.984172  0.948257    1769.000000\n",
      "7              0.989679  0.992524  0.991100    1739.000000\n",
      "8              0.991520  0.992121  0.991821    1650.000000\n",
      "9              0.996147  0.999928  0.998034   69037.000000\n",
      "10             0.996745  0.991580  0.994156    3088.000000\n",
      "11             1.000000  1.000000  1.000000       3.000000\n",
      "12             0.648819  0.911504  0.758050     452.000000\n",
      "13             0.833333  0.025510  0.049505     196.000000\n",
      "14             0.000000  0.000000  0.000000       6.000000\n",
      "accuracy       0.994642  0.994642  0.994642       0.994642\n",
      "macro avg      0.876599  0.825015  0.818760  181967.000000\n",
      "weighted avg   0.995012  0.994642  0.994289  181967.000000\n",
      "[[14421    22     8   155     0     2   127     2     5   212     6     0\n",
      "     40     0     0]\n",
      " [   11 38395     0     0     0     0     0     0     0     1     1     0\n",
      "      0     0     0]\n",
      " [    3     0 47612     0     0     0     2     0     0    21     0     0\n",
      "      2     1     0]\n",
      " [   12     1     0   574     0     0     0     0     0     0     0     0\n",
      "      0     0     0]\n",
      " [    5     0     0     0     6     0     0     0     0     0     0     0\n",
      "      0     0     0]\n",
      " [    1     0     0     0     0  2366     1     9     0     3     0     0\n",
      "      0     0     0]\n",
      " [   17     0     0     0     0     4  1741     2     0     5     0     0\n",
      "      0     0     0]\n",
      " [    3     0     0     0     0     1     1  1726     7     1     0     0\n",
      "      0     0     0]\n",
      " [    7     1     0     0     0     0     1     4  1637     0     0     0\n",
      "      0     0     0]\n",
      " [    3     0     0     0     0     0     0     0     0 69032     1     0\n",
      "      1     0     0]\n",
      " [    3     0     0     0     0     0     0     1     2    19  3062     0\n",
      "      0     0     1]\n",
      " [    0     0     0     0     0     0     0     0     0     0     0     3\n",
      "      0     0     0]\n",
      " [   15     0     1     0     0     0    24     0     0     0     0     0\n",
      "    412     0     0]\n",
      " [    2     0     1     0     0     0     3     0     0     5     0     0\n",
      "    180     5     0]\n",
      " [    1     0     0     0     0     0     3     0     0     0     2     0\n",
      "      0     0     0]]\n"
     ]
    }
   ],
   "source": [
    "get_metrics(test_y, y_hat)"
   ]
  },
  {
   "cell_type": "code",
   "execution_count": 143,
   "id": "6aa4ba83",
   "metadata": {},
   "outputs": [
    {
     "name": "stdout",
     "output_type": "stream",
     "text": [
      "              precision    recall  f1-score        support\n",
      "0              0.989197  0.964533  0.976710   15000.000000\n",
      "1              0.999791  0.998542  0.999166   38408.000000\n",
      "2              0.999769  0.999370  0.999570   47641.000000\n",
      "3              0.801688  0.971039  0.878274     587.000000\n",
      "4              0.666667  0.545455  0.600000      11.000000\n",
      "5              0.996223  0.997479  0.996851    2380.000000\n",
      "6              0.919431  0.986998  0.952017    1769.000000\n",
      "7              0.990794  0.990224  0.990509    1739.000000\n",
      "8              0.990909  0.990909  0.990909    1650.000000\n",
      "9              0.996505  0.999450  0.997975   69037.000000\n",
      "10             0.997390  0.989961  0.993662    3088.000000\n",
      "11             1.000000  1.000000  1.000000       3.000000\n",
      "12             0.640123  0.924779  0.756561     452.000000\n",
      "13             1.000000  0.010204  0.020202     196.000000\n",
      "14             0.600000  0.500000  0.545455       6.000000\n",
      "accuracy       0.994499  0.994499  0.994499       0.994499\n",
      "macro avg      0.905899  0.857930  0.846524  181967.000000\n",
      "weighted avg   0.995065  0.994499  0.994143  181967.000000\n",
      "[[14468     6    10   141     3     3   118     4     8   188     4     0\n",
      "     47     0     0]\n",
      " [   51 38352     0     0     0     0     0     0     0     4     1     0\n",
      "      0     0     0]\n",
      " [    3     1 47611     0     0     0     2     0     0    21     1     0\n",
      "      2     0     0]\n",
      " [   17     0     0   570     0     0     0     0     0     0     0     0\n",
      "      0     0     0]\n",
      " [    4     0     0     0     6     0     0     0     0     0     1     0\n",
      "      0     0     0]\n",
      " [    0     0     0     0     0  2374     1     2     0     3     0     0\n",
      "      0     0     0]\n",
      " [   14     0     0     0     0     2  1746     2     0     5     0     0\n",
      "      0     0     0]\n",
      " [    6     0     0     0     0     4     1  1722     5     0     0     0\n",
      "      1     0     0]\n",
      " [    4     1     0     0     0     0     1     6  1635     1     0     0\n",
      "      2     0     0]\n",
      " [   36     0     0     0     0     0     0     0     0 68999     1     0\n",
      "      1     0     0]\n",
      " [    5     0     0     0     0     0     0     2     2    20  3057     0\n",
      "      0     0     2]\n",
      " [    0     0     0     0     0     0     0     0     0     0     0     3\n",
      "      0     0     0]\n",
      " [    9     0     1     0     0     0    24     0     0     0     0     0\n",
      "    418     0     0]\n",
      " [    9     0     0     0     0     0     3     0     0     0     0     0\n",
      "    182     2     0]\n",
      " [    0     0     0     0     0     0     3     0     0     0     0     0\n",
      "      0     0     3]]\n"
     ]
    }
   ],
   "source": [
    "get_metrics(test_y, y_hat)"
   ]
  },
  {
   "cell_type": "code",
   "execution_count": null,
   "id": "e3269193",
   "metadata": {},
   "outputs": [],
   "source": []
  },
  {
   "cell_type": "code",
   "execution_count": null,
   "id": "9fafc830",
   "metadata": {},
   "outputs": [],
   "source": []
  },
  {
   "cell_type": "code",
   "execution_count": null,
   "id": "3585d54e",
   "metadata": {},
   "outputs": [],
   "source": []
  },
  {
   "cell_type": "code",
   "execution_count": null,
   "id": "6a86d4d2",
   "metadata": {},
   "outputs": [],
   "source": []
  },
  {
   "cell_type": "code",
   "execution_count": null,
   "id": "0c779697",
   "metadata": {},
   "outputs": [],
   "source": []
  },
  {
   "cell_type": "code",
   "execution_count": 222,
   "id": "c6dfdcd5",
   "metadata": {},
   "outputs": [],
   "source": [
    "weight = torch.load('unsw_yhat/cic_epoch_muilt_cnn43', map_location='cpu')"
   ]
  },
  {
   "cell_type": "code",
   "execution_count": 224,
   "id": "5fb857f7",
   "metadata": {},
   "outputs": [
    {
     "data": {
      "text/plain": [
       "<All keys matched successfully>"
      ]
     },
     "execution_count": 224,
     "metadata": {},
     "output_type": "execute_result"
    }
   ],
   "source": [
    "model.load_state_dict(weight)"
   ]
  },
  {
   "cell_type": "code",
   "execution_count": 36,
   "id": "968ada7a",
   "metadata": {},
   "outputs": [
    {
     "name": "stderr",
     "output_type": "stream",
     "text": [
      "100%|██████████| 172/172 [00:02<00:00, 84.19it/s]\n"
     ]
    },
    {
     "name": "stdout",
     "output_type": "stream",
     "text": [
      "[0 1 9 ... 0 9 9]\n",
      "tensor([2, 1, 9,  ..., 2, 9, 9])\n",
      "              precision    recall  f1-score   support\n",
      "\n",
      "           0     0.2723    0.9502    0.4233      9000\n",
      "           1     0.9996    0.9993    0.9995     38408\n",
      "           2     0.9998    0.5220    0.6859     47641\n",
      "           3     0.8529    0.9676    0.9066       587\n",
      "           4     0.6667    0.5455    0.6000        11\n",
      "           5     0.9975    0.9937    0.9956      2380\n",
      "           6     0.9148    0.9830    0.9477      1769\n",
      "           7     0.9936    0.9816    0.9876      1739\n",
      "           8     0.9774    0.9958    0.9865      1650\n",
      "           9     0.9972    0.9998    0.9985     69037\n",
      "          10     0.9877    0.9916    0.9897      3088\n",
      "          11     0.0000    0.0000    0.0000         3\n",
      "          12     0.6515    0.8894    0.7521       452\n",
      "          13     0.7000    0.0357    0.0680       196\n",
      "          14     0.0000    0.0000    0.0000         6\n",
      "\n",
      "    accuracy                         0.8656    175967\n",
      "   macro avg     0.7341    0.7237    0.6894    175967\n",
      "weighted avg     0.9584    0.8656    0.8817    175967\n",
      "\n",
      "[[ 8552    11     4    97     3     4   121     3     9   140    23     0\n",
      "     33     0     0]\n",
      " [   25 38381     0     1     0     0     0     0     0     1     0     0\n",
      "      0     0     0]\n",
      " [22750     1 24869     0     0     0     3     0     0    15     1     0\n",
      "      2     0     0]\n",
      " [   19     0     0   568     0     0     0     0     0     0     0     0\n",
      "      0     0     0]\n",
      " [    3     0     0     0     6     0     0     0     1     0     0     0\n",
      "      1     0     0]\n",
      " [    7     0     0     0     0  2365     1     3     0     4     0     0\n",
      "      0     0     0]\n",
      " [   25     0     0     0     0     2  1739     0     0     3     0     0\n",
      "      0     0     0]\n",
      " [    2     0     1     0     0     0     2  1707    24     1     1     0\n",
      "      1     0     0]\n",
      " [    2     0     0     0     0     0     0     3  1643     2     0     0\n",
      "      0     0     0]\n",
      " [    7     2     0     0     0     0     0     0     0 69024     3     0\n",
      "      1     0     0]\n",
      " [    0     0     0     0     0     0     0     1     4    21  3062     0\n",
      "      0     0     0]\n",
      " [    0     0     0     0     0     0     0     0     0     0     0     0\n",
      "      0     3     0]\n",
      " [   15     0     0     0     0     0    32     1     0     0     2     0\n",
      "    402     0     0]\n",
      " [    0     0     1     0     0     0     0     0     0     6     5     0\n",
      "    177     7     0]\n",
      " [    0     0     0     0     0     0     3     0     0     0     3     0\n",
      "      0     0     0]]\n"
     ]
    }
   ],
   "source": [
    "inferrence(model, subgraph_loader)"
   ]
  },
  {
   "cell_type": "code",
   "execution_count": 209,
   "id": "e0ca8f7c",
   "metadata": {},
   "outputs": [
    {
     "name": "stderr",
     "output_type": "stream",
     "text": [
      "100%|██████████| 178/178 [00:53<00:00,  3.32it/s]\n"
     ]
    },
    {
     "name": "stdout",
     "output_type": "stream",
     "text": [
      "[2 1 1 ... 9 1 2]\n",
      "tensor([2, 1, 1,  ..., 9, 1, 2])\n",
      "              precision    recall  f1-score   support\n",
      "\n",
      "           0     0.9940    0.9641    0.9788     15000\n",
      "           1     0.9996    0.9997    0.9996     38408\n",
      "           2     0.9991    0.9993    0.9992     47641\n",
      "           3     0.8457    0.9523    0.8958       587\n",
      "           4     1.0000    0.5455    0.7059        11\n",
      "           5     0.9929    0.9983    0.9956      2380\n",
      "           6     0.9178    0.9842    0.9498      1769\n",
      "           7     0.9948    0.9919    0.9934      1739\n",
      "           8     0.9897    0.9933    0.9915      1650\n",
      "           9     0.9965    0.9999    0.9982     69037\n",
      "          10     0.9974    0.9926    0.9950      3088\n",
      "          11     1.0000    1.0000    1.0000         3\n",
      "          12     0.6446    0.9270    0.7604       452\n",
      "          13     0.8000    0.0204    0.0398       196\n",
      "          14     1.0000    0.5000    0.6667         6\n",
      "\n",
      "    accuracy                         0.9949    181967\n",
      "   macro avg     0.9448    0.8579    0.8647    181967\n",
      "weighted avg     0.9952    0.9949    0.9945    181967\n",
      "\n",
      "[[14462    12    41   102     0     8   121     2    11   192     3     0\n",
      "     46     0     0]\n",
      " [   11 38395     0     0     0     0     0     0     0     1     1     0\n",
      "      0     0     0]\n",
      " [    5     1 47609     0     0     0     2     0     0    21     0     0\n",
      "      2     1     0]\n",
      " [   28     0     0   559     0     0     0     0     0     0     0     0\n",
      "      0     0     0]\n",
      " [    4     0     0     0     6     0     0     0     0     0     1     0\n",
      "      0     0     0]\n",
      " [    0     0     0     0     0  2376     1     0     0     3     0     0\n",
      "      0     0     0]\n",
      " [   18     0     0     0     0     6  1741     0     0     4     0     0\n",
      "      0     0     0]\n",
      " [    5     0     0     0     0     3     1  1725     4     0     1     0\n",
      "      0     0     0]\n",
      " [    0     0     0     0     0     0     1     7  1639     2     1     0\n",
      "      0     0     0]\n",
      " [    2     1     0     0     0     0     0     0     0 69031     1     0\n",
      "      2     0     0]\n",
      " [    1     0     1     0     0     0     0     0     2    19  3065     0\n",
      "      0     0     0]\n",
      " [    0     0     0     0     0     0     0     0     0     0     0     3\n",
      "      0     0     0]\n",
      " [    8     0     1     0     0     0    24     0     0     0     0     0\n",
      "    419     0     0]\n",
      " [    6     0     2     0     0     0     3     0     0     0     0     0\n",
      "    181     4     0]\n",
      " [    0     0     0     0     0     0     3     0     0     0     0     0\n",
      "      0     0     3]]\n"
     ]
    }
   ],
   "source": [
    "inferrence(model, subgraph_loader)"
   ]
  },
  {
   "cell_type": "code",
   "execution_count": 203,
   "id": "3a2d179d",
   "metadata": {},
   "outputs": [
    {
     "name": "stderr",
     "output_type": "stream",
     "text": [
      "100%|██████████| 178/178 [00:50<00:00,  3.53it/s]\n"
     ]
    },
    {
     "name": "stdout",
     "output_type": "stream",
     "text": [
      "[2 1 1 ... 9 1 2]\n",
      "tensor([2, 1, 1,  ..., 9, 1, 2])\n",
      "              precision    recall  f1-score   support\n",
      "\n",
      "           0     0.9933    0.9641    0.9784     15000\n",
      "           1     0.9995    0.9997    0.9996     38408\n",
      "           2     0.9994    0.9993    0.9994     47641\n",
      "           3     0.8560    0.9319    0.8923       587\n",
      "           4     0.8571    0.5455    0.6667        11\n",
      "           5     0.9966    0.9971    0.9968      2380\n",
      "           6     0.9158    0.9836    0.9485      1769\n",
      "           7     0.9948    0.9925    0.9937      1739\n",
      "           8     0.9927    0.9921    0.9924      1650\n",
      "           9     0.9961    0.9999    0.9980     69037\n",
      "          10     0.9948    0.9929    0.9938      3088\n",
      "          11     1.0000    1.0000    1.0000         3\n",
      "          12     0.6426    0.9270    0.7591       452\n",
      "          13     0.7500    0.0306    0.0588       196\n",
      "          14     1.0000    0.1667    0.2857         6\n",
      "\n",
      "    accuracy                         0.9948    181967\n",
      "   macro avg     0.9326    0.8349    0.8376    181967\n",
      "weighted avg     0.9950    0.9948    0.9944    181967\n",
      "\n",
      "[[14461    15    25    92     1     3   126     1     5   214     8     0\n",
      "     49     0     0]\n",
      " [   11 38396     0     0     0     0     0     0     0     0     1     0\n",
      "      0     0     0]\n",
      " [    4     1 47608     0     0     0     2     0     0    21     1     0\n",
      "      2     2     0]\n",
      " [   40     0     0   547     0     0     0     0     0     0     0     0\n",
      "      0     0     0]\n",
      " [    5     0     0     0     6     0     0     0     0     0     0     0\n",
      "      0     0     0]\n",
      " [    1     0     0     0     0  2373     1     2     0     3     0     0\n",
      "      0     0     0]\n",
      " [   18     0     0     0     0     4  1740     2     0     5     0     0\n",
      "      0     0     0]\n",
      " [    4     0     0     0     0     1     1  1726     5     1     1     0\n",
      "      0     0     0]\n",
      " [    6     1     0     0     0     0     1     4  1637     1     0     0\n",
      "      0     0     0]\n",
      " [    1     1     0     0     0     0     0     0     0 69032     1     0\n",
      "      2     0     0]\n",
      " [    0     0     1     0     0     0     0     0     2    19  3066     0\n",
      "      0     0     0]\n",
      " [    0     0     0     0     0     0     0     0     0     0     0     3\n",
      "      0     0     0]\n",
      " [    8     0     1     0     0     0    23     0     0     0     1     0\n",
      "    419     0     0]\n",
      " [    0     0     1     0     0     0     3     0     0     5     1     0\n",
      "    180     6     0]\n",
      " [    0     0     0     0     0     0     3     0     0     0     2     0\n",
      "      0     0     1]]\n"
     ]
    }
   ],
   "source": [
    "inferrence(model, subgraph_loader)"
   ]
  },
  {
   "cell_type": "code",
   "execution_count": 188,
   "id": "41ad1629",
   "metadata": {},
   "outputs": [
    {
     "name": "stderr",
     "output_type": "stream",
     "text": [
      "100%|██████████| 178/178 [00:21<00:00,  8.28it/s]\n"
     ]
    },
    {
     "name": "stdout",
     "output_type": "stream",
     "text": [
      "[2 1 1 ... 9 1 2]\n",
      "tensor([2, 1, 1,  ..., 9, 1, 2])\n",
      "              precision    recall  f1-score   support\n",
      "\n",
      "           0     0.9563    0.9538    0.9550     15000\n",
      "           1     0.9996    0.9993    0.9995     38408\n",
      "           2     0.9971    0.9993    0.9982     47641\n",
      "           3     0.7980    0.9625    0.8726       587\n",
      "           4     0.8571    0.5455    0.6667        11\n",
      "           5     0.9924    0.9941    0.9933      2380\n",
      "           6     0.9172    0.9768    0.9461      1769\n",
      "           7     0.9868    0.9925    0.9897      1739\n",
      "           8     0.9933    0.9933    0.9933      1650\n",
      "           9     0.9960    0.9999    0.9979     69037\n",
      "          10     0.9948    0.9903    0.9925      3088\n",
      "          11     1.0000    1.0000    1.0000         3\n",
      "          12     0.6867    0.1261    0.2131       452\n",
      "          13     0.5000    0.0051    0.0101       196\n",
      "          14     0.6000    0.5000    0.5455         6\n",
      "\n",
      "    accuracy                         0.9918    181967\n",
      "   macro avg     0.8850    0.8026    0.8116    181967\n",
      "weighted avg     0.9909    0.9918    0.9906    181967\n",
      "\n",
      "[[14307    12   137   143     1    12   122     2     6   224    11     0\n",
      "     23     0     0]\n",
      " [   24 38383     0     0     0     0     0     0     0     1     0     0\n",
      "      0     0     0]\n",
      " [    5     1 47610     0     0     0     2     0     0    21     1     0\n",
      "      0     1     0]\n",
      " [   22     0     0   565     0     0     0     0     0     0     0     0\n",
      "      0     0     0]\n",
      " [    4     0     0     0     6     0     0     0     0     0     1     0\n",
      "      0     0     0]\n",
      " [    0     0     0     0     0  2366     1    10     0     3     0     0\n",
      "      0     0     0]\n",
      " [   30     0     0     0     0     2  1728     3     0     6     0     0\n",
      "      0     0     0]\n",
      " [    2     0     0     0     0     4     1  1726     3     1     1     0\n",
      "      1     0     0]\n",
      " [    2     1     0     0     0     0     1     7  1639     0     0     0\n",
      "      0     0     0]\n",
      " [    3     1     0     0     0     0     0     0     0 69030     2     0\n",
      "      1     0     0]\n",
      " [    6     0     1     0     0     0     0     1     2    18  3058     0\n",
      "      0     0     2]\n",
      " [    0     0     0     0     0     0     0     0     0     0     0     3\n",
      "      0     0     0]\n",
      " [  371     0     1     0     0     0    23     0     0     0     0     0\n",
      "     57     0     0]\n",
      " [  185     0     1     0     0     0     3     0     0     5     0     0\n",
      "      1     1     0]\n",
      " [    0     0     0     0     0     0     3     0     0     0     0     0\n",
      "      0     0     3]]\n"
     ]
    }
   ],
   "source": [
    "inferrence(model, subgraph_loader)"
   ]
  },
  {
   "cell_type": "code",
   "execution_count": 184,
   "id": "d5b15fc8",
   "metadata": {},
   "outputs": [
    {
     "name": "stderr",
     "output_type": "stream",
     "text": [
      "100%|██████████| 178/178 [00:23<00:00,  7.57it/s]\n"
     ]
    },
    {
     "name": "stdout",
     "output_type": "stream",
     "text": [
      "[2 1 1 ... 9 1 2]\n",
      "tensor([2, 1, 1,  ..., 9, 1, 2])\n",
      "              precision    recall  f1-score   support\n",
      "\n",
      "           0     0.9925    0.9610    0.9765     15000\n",
      "           1     0.9997    0.9994    0.9996     38408\n",
      "           2     0.9995    0.9994    0.9994     47641\n",
      "           3     0.8286    0.9472    0.8839       587\n",
      "           4     0.8571    0.5455    0.6667        11\n",
      "           5     0.9933    0.9975    0.9954      2380\n",
      "           6     0.9086    0.9836    0.9446      1769\n",
      "           7     0.9931    0.9902    0.9916      1739\n",
      "           8     0.9909    0.9933    0.9921      1650\n",
      "           9     0.9960    0.9999    0.9980     69037\n",
      "          10     0.9958    0.9919    0.9938      3088\n",
      "          11     1.0000    1.0000    1.0000         3\n",
      "          12     0.6330    0.9004    0.7434       452\n",
      "          13     0.3333    0.0051    0.0101       196\n",
      "          14     1.0000    0.5000    0.6667         6\n",
      "\n",
      "    accuracy                         0.9945    181967\n",
      "   macro avg     0.9014    0.8543    0.8575    181967\n",
      "weighted avg     0.9943    0.9945    0.9941    181967\n",
      "\n",
      "[[14415     9    21   115     1     9   140     2     8   219    10     0\n",
      "     51     0     0]\n",
      " [   21 38386     0     0     0     0     0     0     0     1     0     0\n",
      "      0     0     0]\n",
      " [    2     1 47612     0     0     0     2     0     0    21     1     0\n",
      "      1     1     0]\n",
      " [   31     0     0   556     0     0     0     0     0     0     0     0\n",
      "      0     0     0]\n",
      " [    5     0     0     0     6     0     0     0     0     0     0     0\n",
      "      0     0     0]\n",
      " [    0     0     0     0     0  2374     1     2     0     3     0     0\n",
      "      0     0     0]\n",
      " [   17     0     0     0     0     3  1740     2     0     7     0     0\n",
      "      0     0     0]\n",
      " [    2     0     2     0     0     4     1  1722     5     1     1     0\n",
      "      1     0     0]\n",
      " [    2     1     0     0     0     0     1     6  1639     1     0     0\n",
      "      0     0     0]\n",
      " [    2     1     0     0     0     0     0     0     0 69031     1     0\n",
      "      2     0     0]\n",
      " [    3     0     0     0     0     0     0     0     2    19  3063     0\n",
      "      0     1     0]\n",
      " [    0     0     0     0     0     0     0     0     0     0     0     3\n",
      "      0     0     0]\n",
      " [   19     0     2     0     0     0    24     0     0     0     0     0\n",
      "    407     0     0]\n",
      " [    5     0     1     0     0     0     3     0     0     5     0     0\n",
      "    181     1     0]\n",
      " [    0     0     0     0     0     0     3     0     0     0     0     0\n",
      "      0     0     3]]\n"
     ]
    }
   ],
   "source": [
    "inferrence(model, subgraph_loader)"
   ]
  },
  {
   "cell_type": "code",
   "execution_count": 32,
   "id": "7d760852",
   "metadata": {},
   "outputs": [
    {
     "name": "stderr",
     "output_type": "stream",
     "text": [
      "100%|██████████| 178/178 [00:20<00:00,  8.66it/s]\n"
     ]
    },
    {
     "name": "stdout",
     "output_type": "stream",
     "text": [
      "[2 1 1 ... 9 1 2]\n",
      "tensor([2, 1, 1,  ..., 9, 1, 2])\n",
      "              precision    recall  f1-score   support\n",
      "\n",
      "           0   0.996276  0.963200  0.979459     15000\n",
      "           1   0.999662  0.999662  0.999662     38408\n",
      "           2   0.996817  0.999286  0.998050     47641\n",
      "           3   0.800000  0.981261  0.881408       587\n",
      "           4   1.000000  0.545455  0.705882        11\n",
      "           5   0.994981  0.999580  0.997275      2380\n",
      "           6   0.952589  0.988129  0.970033      1769\n",
      "           7   0.994795  0.989074  0.991926      1739\n",
      "           8   0.991541  0.994545  0.993041      1650\n",
      "           9   0.997226  0.999899  0.998561     69037\n",
      "          10   0.994797  0.990609  0.992698      3088\n",
      "          11   1.000000  1.000000  1.000000         3\n",
      "          12   0.658915  0.940265  0.774840       452\n",
      "          13   0.545455  0.030612  0.057971       196\n",
      "          14   0.500000  0.500000  0.500000         6\n",
      "\n",
      "    accuracy                       0.994939    181967\n",
      "   macro avg   0.894870  0.861438  0.856054    181967\n",
      "weighted avg   0.994996  0.994939  0.994597    181967\n",
      "\n",
      "[[14448     9   150   144     0     4    50     1     7   141     9     0\n",
      "     33     3     1]\n",
      " [    7 38395     0     0     0     0     0     0     0     5     1     0\n",
      "      0     0     0]\n",
      " [    4     2 47607     0     0     0     2     0     0    21     1     0\n",
      "      3     1     0]\n",
      " [   10     1     0   576     0     0     0     0     0     0     0     0\n",
      "      0     0     0]\n",
      " [    4     0     0     0     6     0     0     0     0     0     1     0\n",
      "      0     0     0]\n",
      " [    0     0     0     0     0  2379     1     0     0     0     0     0\n",
      "      0     0     0]\n",
      " [   13     0     0     0     0     4  1748     0     0     4     0     0\n",
      "      0     0     0]\n",
      " [    5     0     0     0     0     4     2  1720     5     0     2     0\n",
      "      1     0     0]\n",
      " [    1     0     0     0     0     0     1     6  1641     1     0     0\n",
      "      0     0     0]\n",
      " [    3     1     0     0     0     0     0     1     0 69030     1     0\n",
      "      1     0     0]\n",
      " [    3     0     0     0     0     0     0     1     2    20  3059     0\n",
      "      0     1     2]\n",
      " [    0     0     0     0     0     0     0     0     0     0     0     3\n",
      "      0     0     0]\n",
      " [    0     0     1     0     0     0    25     0     0     0     1     0\n",
      "    425     0     0]\n",
      " [    4     0     1     0     0     0     3     0     0     0     0     0\n",
      "    182     6     0]\n",
      " [    0     0     0     0     0     0     3     0     0     0     0     0\n",
      "      0     0     3]]\n"
     ]
    }
   ],
   "source": [
    "# cic_epoch_muilt467\n",
    "inferrence(model, subgraph_loader)"
   ]
  },
  {
   "cell_type": "code",
   "execution_count": null,
   "id": "2138e87d",
   "metadata": {},
   "outputs": [],
   "source": []
  },
  {
   "cell_type": "code",
   "execution_count": null,
   "id": "dce40964",
   "metadata": {},
   "outputs": [],
   "source": []
  },
  {
   "cell_type": "code",
   "execution_count": 28,
   "id": "efc011df",
   "metadata": {},
   "outputs": [
    {
     "name": "stderr",
     "output_type": "stream",
     "text": [
      "100%|██████████| 178/178 [00:21<00:00,  8.27it/s]\n"
     ]
    },
    {
     "name": "stdout",
     "output_type": "stream",
     "text": [
      "[2 1 1 ... 9 1 2]\n",
      "tensor([2, 1, 1,  ..., 9, 1, 2])\n",
      "              precision    recall  f1-score   support\n",
      "\n",
      "           0     0.9961    0.9631    0.9793     15000\n",
      "           1     0.9997    0.9997    0.9997     38408\n",
      "           2     0.9968    0.9993    0.9981     47641\n",
      "           3     0.7978    0.9813    0.8801       587\n",
      "           4     1.0000    0.5455    0.7059        11\n",
      "           5     0.9954    0.9996    0.9975      2380\n",
      "           6     0.9526    0.9881    0.9700      1769\n",
      "           7     0.9948    0.9896    0.9922      1739\n",
      "           8     0.9915    0.9945    0.9930      1650\n",
      "           9     0.9972    0.9999    0.9986     69037\n",
      "          10     0.9948    0.9906    0.9927      3088\n",
      "          11     1.0000    1.0000    1.0000         3\n",
      "          12     0.6610    0.9403    0.7763       452\n",
      "          13     0.5000    0.0306    0.0577       196\n",
      "          14     0.5000    0.5000    0.5000         6\n",
      "\n",
      "    accuracy                         0.9949    181967\n",
      "   macro avg     0.8918    0.8615    0.8561    181967\n",
      "weighted avg     0.9949    0.9949    0.9946    181967\n",
      "\n",
      "[[14446     9   150   146     0     4    50     1     7   141     9     0\n",
      "     33     3     1]\n",
      " [    7 38395     0     0     0     0     0     0     0     5     1     0\n",
      "      0     0     0]\n",
      " [    5     1 47607     0     0     0     2     0     0    21     1     0\n",
      "      2     2     0]\n",
      " [   10     1     0   576     0     0     0     0     0     0     0     0\n",
      "      0     0     0]\n",
      " [    4     0     0     0     6     0     0     0     0     0     1     0\n",
      "      0     0     0]\n",
      " [    0     0     0     0     0  2379     1     0     0     0     0     0\n",
      "      0     0     0]\n",
      " [   13     0     0     0     0     4  1748     0     0     4     0     0\n",
      "      0     0     0]\n",
      " [    6     0     0     0     0     3     2  1721     5     0     2     0\n",
      "      0     0     0]\n",
      " [    1     0     0     0     0     0     1     6  1641     1     0     0\n",
      "      0     0     0]\n",
      " [    3     1     0     0     0     0     0     1     0 69030     1     0\n",
      "      1     0     0]\n",
      " [    3     0     0     0     0     0     0     1     2    20  3059     0\n",
      "      0     1     2]\n",
      " [    0     0     0     0     0     0     0     0     0     0     0     3\n",
      "      0     0     0]\n",
      " [    0     0     1     0     0     0    25     0     0     0     1     0\n",
      "    425     0     0]\n",
      " [    4     0     1     0     0     0     3     0     0     0     0     0\n",
      "    182     6     0]\n",
      " [    0     0     0     0     0     0     3     0     0     0     0     0\n",
      "      0     0     3]]\n"
     ]
    }
   ],
   "source": [
    "# cic_epoch_muilt467\n",
    "inferrence(model, subgraph_loader)"
   ]
  },
  {
   "cell_type": "code",
   "execution_count": 37,
   "id": "b59cd203",
   "metadata": {},
   "outputs": [],
   "source": [
    "y_hat = model(test_data.x.to(device), test_data.edge_index.to(device))\n",
    "y_hat = y_hat.detach().numpy()\n",
    "y_hat = np.argmax(y_hat, -1)\n",
    "test_y = test_data.y.numpy()\n",
    "get_metrics(test_y, y_hat) "
   ]
  },
  {
   "cell_type": "code",
   "execution_count": 38,
   "id": "e00e2d9f",
   "metadata": {},
   "outputs": [],
   "source": []
  },
  {
   "cell_type": "code",
   "execution_count": 39,
   "id": "40e9a399",
   "metadata": {},
   "outputs": [
    {
     "name": "stdout",
     "output_type": "stream",
     "text": [
      "              precision    recall  f1-score        support\n",
      "0              0.272025  0.950333  0.422976    9000.000000\n",
      "1              0.999609  0.998933  0.999271   38408.000000\n",
      "2              0.999678  0.522008  0.685871   47641.000000\n",
      "3              0.852853  0.967632  0.906624     587.000000\n",
      "4              0.666667  0.545455  0.600000      11.000000\n",
      "5              0.998310  0.992857  0.995576    2380.000000\n",
      "6              0.914782  0.983041  0.947684    1769.000000\n",
      "7              0.993593  0.981024  0.987269    1739.000000\n",
      "8              0.976247  0.996364  0.986203    1650.000000\n",
      "9              0.997196  0.999536  0.998365   69037.000000\n",
      "10             0.987726  0.990285  0.989004    3088.000000\n",
      "11             0.000000  0.000000  0.000000       3.000000\n",
      "12             0.651540  0.889381  0.752105     452.000000\n",
      "13             0.700000  0.035714  0.067961     196.000000\n",
      "14             0.000000  0.000000  0.000000       6.000000\n",
      "accuracy       0.865429  0.865429  0.865429       0.865429\n",
      "macro avg      0.734015  0.723504  0.689261  175967.000000\n",
      "weighted avg   0.958322  0.865429  0.881544  175967.000000\n",
      "[[ 8553    11     4    97     3     2   121     4     9   140    23     0\n",
      "     33     0     0]\n",
      " [   39 38367     0     1     0     0     0     0     0     1     0     0\n",
      "      0     0     0]\n",
      " [22750     1 24869     0     0     0     3     0     0    15     1     0\n",
      "      2     0     0]\n",
      " [   19     0     0   568     0     0     0     0     0     0     0     0\n",
      "      0     0     0]\n",
      " [    3     0     0     0     6     0     0     0     1     0     0     0\n",
      "      1     0     0]\n",
      " [    7     0     2     0     0  2363     1     3     0     4     0     0\n",
      "      0     0     0]\n",
      " [   25     0     0     0     0     2  1739     0     0     3     0     0\n",
      "      0     0     0]\n",
      " [    2     0     1     0     0     0     2  1706    25     1     1     0\n",
      "      1     0     0]\n",
      " [    2     0     0     0     0     0     0     2  1644     2     0     0\n",
      "      0     0     0]\n",
      " [   25     3     0     0     0     0     0     0     0 69005     3     0\n",
      "      1     0     0]\n",
      " [    2     0     0     0     0     0     0     1     5    22  3058     0\n",
      "      0     0     0]\n",
      " [    0     0     0     0     0     0     0     0     0     0     0     0\n",
      "      0     3     0]\n",
      " [   15     0     0     0     0     0    32     1     0     0     2     0\n",
      "    402     0     0]\n",
      " [    0     0     1     0     0     0     0     0     0     6     5     0\n",
      "    177     7     0]\n",
      " [    0     0     0     0     0     0     3     0     0     0     3     0\n",
      "      0     0     0]]\n"
     ]
    }
   ],
   "source": [
    "# depth=10\n",
    "get_metrics(test_y, y_hat) "
   ]
  },
  {
   "cell_type": "code",
   "execution_count": null,
   "id": "d273e15d",
   "metadata": {},
   "outputs": [],
   "source": [
    "# depth=10\n",
    "get_metrics(test_y, y_hat) "
   ]
  },
  {
   "cell_type": "code",
   "execution_count": 212,
   "id": "c3022ae7",
   "metadata": {},
   "outputs": [
    {
     "name": "stdout",
     "output_type": "stream",
     "text": [
      "              precision    recall  f1-score        support\n",
      "0              0.991470  0.945333  0.967852   15000.000000\n",
      "1              0.995109  0.999269  0.997185  166967.000000\n",
      "accuracy       0.994823  0.994823  0.994823       0.994823\n",
      "macro avg      0.993290  0.972301  0.982518  181967.000000\n",
      "weighted avg   0.994809  0.994823  0.994767  181967.000000\n",
      "[[ 14180    820]\n",
      " [   122 166845]]\n"
     ]
    }
   ],
   "source": [
    "# depth=10\n",
    "get_metrics(test_y, y_hat)"
   ]
  },
  {
   "cell_type": "code",
   "execution_count": null,
   "id": "b27318c1",
   "metadata": {},
   "outputs": [],
   "source": []
  },
  {
   "cell_type": "code",
   "execution_count": 200,
   "id": "536bcac6",
   "metadata": {},
   "outputs": [
    {
     "name": "stdout",
     "output_type": "stream",
     "text": [
      "              precision    recall  f1-score       support\n",
      "0              0.956051  0.960067  0.958055   15000.00000\n",
      "1              0.996411  0.996035  0.996223  166967.00000\n",
      "accuracy       0.993070  0.993070  0.993070       0.99307\n",
      "macro avg      0.976231  0.978051  0.977139  181967.00000\n",
      "weighted avg   0.993084  0.993070  0.993077  181967.00000\n",
      "[[ 14401    599]\n",
      " [   662 166305]]\n"
     ]
    }
   ],
   "source": [
    "# depth=5\n",
    "get_metrics(test_y, y_hat)"
   ]
  },
  {
   "cell_type": "code",
   "execution_count": null,
   "id": "71a31834",
   "metadata": {},
   "outputs": [],
   "source": []
  },
  {
   "cell_type": "code",
   "execution_count": 194,
   "id": "1f4d19eb",
   "metadata": {},
   "outputs": [
    {
     "name": "stdout",
     "output_type": "stream",
     "text": [
      "              precision    recall  f1-score        support\n",
      "0              0.977647  0.953467  0.965406   15000.000000\n",
      "1              0.995829  0.998042  0.996934  166967.000000\n",
      "accuracy       0.994367  0.994367  0.994367       0.994367\n",
      "macro avg      0.986738  0.975754  0.981170  181967.000000\n",
      "weighted avg   0.994330  0.994367  0.994335  181967.000000\n",
      "[[ 14302    698]\n",
      " [   327 166640]]\n"
     ]
    }
   ],
   "source": [
    "get_metrics(test_y, y_hat)"
   ]
  },
  {
   "cell_type": "code",
   "execution_count": 175,
   "id": "82efa468",
   "metadata": {},
   "outputs": [
    {
     "data": {
      "text/plain": [
       "[<matplotlib.lines.Line2D at 0x2b72468b2ac8>]"
      ]
     },
     "execution_count": 175,
     "metadata": {},
     "output_type": "execute_result"
    },
    {
     "data": {
      "image/png": "[encoded data removed]",
      "text/plain": [
       "<Figure size 432x288 with 1 Axes>"
      ]
     },
     "metadata": {
      "needs_background": "light"
     },
     "output_type": "display_data"
    }
   ],
   "source": [
    "# 多分类loss\n",
    "plt.plot(loss_all)"
   ]
  },
  {
   "cell_type": "code",
   "execution_count": 176,
   "id": "6786e516",
   "metadata": {},
   "outputs": [
    {
     "name": "stdout",
     "output_type": "stream",
     "text": [
      "              precision    recall  f1-score        support\n",
      "0              0.987821  0.962467  0.974979   15000.000000\n",
      "1              0.999635  0.998750  0.999193   38408.000000\n",
      "2              0.999664  0.999349  0.999507   47641.000000\n",
      "3              0.820175  0.955707  0.882769     587.000000\n",
      "4              1.000000  0.545455  0.705882      11.000000\n",
      "5              0.997476  0.996218  0.996847    2380.000000\n",
      "6              0.919449  0.980780  0.949125    1769.000000\n",
      "7              0.992533  0.993675  0.993103    1739.000000\n",
      "8              0.987930  0.992121  0.990021    1650.000000\n",
      "9              0.996329  0.998624  0.997475   69037.000000\n",
      "10             0.982074  0.993523  0.987766    3088.000000\n",
      "11             1.000000  1.000000  1.000000       3.000000\n",
      "12             0.635671  0.922566  0.752708     452.000000\n",
      "13             0.277778  0.025510  0.046729     196.000000\n",
      "14             1.000000  0.500000  0.666667       6.000000\n",
      "accuracy       0.994043  0.994043  0.994043       0.994043\n",
      "macro avg      0.906436  0.857650  0.862851  181967.000000\n",
      "weighted avg   0.993874  0.994043  0.993732  181967.000000\n",
      "[[14437     7    15   123     0     2   118     2    10   216     4     0\n",
      "     57     9     0]\n",
      " [   46 38360     0     0     0     0     0     0     0     1     1     0\n",
      "      0     0     0]\n",
      " [    3     1 47610     0     0     0     2     0     0    21     1     0\n",
      "      1     2     0]\n",
      " [   26     0     0   561     0     0     0     0     0     0     0     0\n",
      "      0     0     0]\n",
      " [    5     0     0     0     6     0     0     0     0     0     0     0\n",
      "      0     0     0]\n",
      " [    3     0     0     0     0  2371     1     2     0     3     0     0\n",
      "      0     0     0]\n",
      " [   21     0     0     0     0     3  1735     2     0     5     3     0\n",
      "      0     0     0]\n",
      " [    3     0     0     0     0     1     1  1728     5     1     0     0\n",
      "      0     0     0]\n",
      " [    5     1     0     0     0     0     1     5  1637     0     1     0\n",
      "      0     0     0]\n",
      " [   43     5     0     0     0     0     0     0     0 68942    46     0\n",
      "      1     0     0]\n",
      " [   10     0     0     0     0     0     0     2     5     2  3068     0\n",
      "      0     1     0]\n",
      " [    0     0     0     0     0     0     0     0     0     0     0     3\n",
      "      0     0     0]\n",
      " [   10     0     1     0     0     0    23     0     0     0     0     0\n",
      "    417     1     0]\n",
      " [    3     0     0     0     0     0     3     0     0     5     0     0\n",
      "    180     5     0]\n",
      " [    0     0     0     0     0     0     3     0     0     0     0     0\n",
      "      0     0     3]]\n"
     ]
    }
   ],
   "source": [
    "get_metrics(test_y, y_hat)"
   ]
  },
  {
   "cell_type": "code",
   "execution_count": 167,
   "id": "39ed336f",
   "metadata": {},
   "outputs": [
    {
     "data": {
      "text/plain": [
       "Counter({1: 89617,\n",
       "         2: 111163,\n",
       "         0: 35000,\n",
       "         9: 161087,\n",
       "         7: 4057,\n",
       "         8: 3849,\n",
       "         10: 7205,\n",
       "         3: 1369,\n",
       "         5: 5555,\n",
       "         6: 4128,\n",
       "         12: 1055,\n",
       "         13: 456,\n",
       "         14: 15,\n",
       "         4: 25,\n",
       "         11: 8})"
      ]
     },
     "execution_count": 167,
     "metadata": {},
     "output_type": "execute_result"
    }
   ],
   "source": [
    "Counter(train_data.y.numpy())"
   ]
  },
  {
   "cell_type": "code",
   "execution_count": 168,
   "id": "d547b018",
   "metadata": {},
   "outputs": [
    {
     "name": "stdout",
     "output_type": "stream",
     "text": [
      "              precision    recall  f1-score        support\n",
      "0              0.988160  0.962533  0.975178   15000.000000\n",
      "1              0.999557  0.998906  0.999232   38408.000000\n",
      "2              0.999664  0.999349  0.999507   47641.000000\n",
      "3              0.822157  0.960818  0.886096     587.000000\n",
      "4              1.000000  0.545455  0.705882      11.000000\n",
      "5              0.996637  0.996218  0.996428    2380.000000\n",
      "6              0.919936  0.980780  0.949384    1769.000000\n",
      "7              0.993096  0.992524  0.992810    1739.000000\n",
      "8              0.988533  0.992727  0.990626    1650.000000\n",
      "9              0.996030  0.999261  0.997643   69037.000000\n",
      "10             0.996402  0.986399  0.991375    3088.000000\n",
      "11             1.000000  1.000000  1.000000       3.000000\n",
      "12             0.638591  0.922566  0.754751     452.000000\n",
      "13             0.277778  0.025510  0.046729     196.000000\n",
      "14             1.000000  0.500000  0.666667       6.000000\n",
      "accuracy       0.994213  0.994213  0.994213       0.994213\n",
      "macro avg      0.907769  0.857537  0.863487  181967.000000\n",
      "weighted avg   0.994033  0.994213  0.993897  181967.000000\n",
      "[[14438     8    15   122     0     2   117     2    10   220     3     0\n",
      "     54     9     0]\n",
      " [   40 38366     0     0     0     0     0     0     0     1     1     0\n",
      "      0     0     0]\n",
      " [    3     1 47610     0     0     0     2     0     0    21     1     0\n",
      "      1     2     0]\n",
      " [   21     2     0   564     0     0     0     0     0     0     0     0\n",
      "      0     0     0]\n",
      " [    5     0     0     0     6     0     0     0     0     0     0     0\n",
      "      0     0     0]\n",
      " [    3     0     0     0     0  2371     1     2     0     3     0     0\n",
      "      0     0     0]\n",
      " [   20     0     0     0     0     5  1735     2     0     4     3     0\n",
      "      0     0     0]\n",
      " [    5     0     0     0     0     1     1  1726     5     1     0     0\n",
      "      0     0     0]\n",
      " [    5     1     0     0     0     0     1     4  1638     0     1     0\n",
      "      0     0     0]\n",
      " [   43     5     0     0     0     0     0     0     0 68986     2     0\n",
      "      1     0     0]\n",
      " [   15     0     0     0     0     0     0     2     4    20  3046     0\n",
      "      0     1     0]\n",
      " [    0     0     0     0     0     0     0     0     0     0     0     3\n",
      "      0     0     0]\n",
      " [   10     0     1     0     0     0    23     0     0     0     0     0\n",
      "    417     1     0]\n",
      " [    3     0     0     0     0     0     3     0     0     5     0     0\n",
      "    180     5     0]\n",
      " [    0     0     0     0     0     0     3     0     0     0     0     0\n",
      "      0     0     3]]\n"
     ]
    }
   ],
   "source": [
    "get_metrics(test_y, y_hat)"
   ]
  },
  {
   "cell_type": "code",
   "execution_count": 158,
   "id": "f8d85c3f",
   "metadata": {},
   "outputs": [
    {
     "name": "stdout",
     "output_type": "stream",
     "text": [
      "              precision    recall  f1-score        support\n",
      "0              0.988764  0.956267  0.972244   15000.000000\n",
      "1              0.999557  0.998750  0.999153   38408.000000\n",
      "2              0.999601  0.999349  0.999475   47641.000000\n",
      "3              0.773585  0.977853  0.863807     587.000000\n",
      "4              0.857143  0.545455  0.666667      11.000000\n",
      "5              0.997060  0.997479  0.997269    2380.000000\n",
      "6              0.911333  0.981911  0.945306    1769.000000\n",
      "7              0.993076  0.989649  0.991359    1739.000000\n",
      "8              0.986145  0.992121  0.989124    1650.000000\n",
      "9              0.995411  0.999218  0.997311   69037.000000\n",
      "10             0.996401  0.986075  0.991211    3088.000000\n",
      "11             1.000000  1.000000  1.000000       3.000000\n",
      "12             0.635258  0.924779  0.753153     452.000000\n",
      "13             0.750000  0.015306  0.030000     196.000000\n",
      "14             1.000000  0.500000  0.666667       6.000000\n",
      "accuracy       0.993686  0.993686  0.993686       0.993686\n",
      "macro avg      0.925556  0.857614  0.857516  181967.000000\n",
      "weighted avg   0.994067  0.993686  0.993349  181967.000000\n",
      "[[14344     7    17   168     1     2   134     1    10   259     4     0\n",
      "     53     0     0]\n",
      " [   46 38360     0     0     0     0     0     0     0     1     1     0\n",
      "      0     0     0]\n",
      " [    3     1 47610     0     0     0     2     0     0    21     1     0\n",
      "      3     0     0]\n",
      " [   13     0     0   574     0     0     0     0     0     0     0     0\n",
      "      0     0     0]\n",
      " [    5     0     0     0     6     0     0     0     0     0     0     0\n",
      "      0     0     0]\n",
      " [    0     0     0     0     0  2374     1     2     0     3     0     0\n",
      "      0     0     0]\n",
      " [   17     0     0     0     0     4  1737     2     0     8     0     0\n",
      "      1     0     0]\n",
      " [    4     0     0     0     0     1     1  1721     9     1     1     0\n",
      "      0     1     0]\n",
      " [    4     1     0     0     0     0     1     5  1637     0     2     0\n",
      "      0     0     0]\n",
      " [   43     8     0     0     0     0     0     0     0 68983     2     0\n",
      "      1     0     0]\n",
      " [   16     0     1     0     0     0     0     2     4    20  3045     0\n",
      "      0     0     0]\n",
      " [    0     0     0     0     0     0     0     0     0     0     0     3\n",
      "      0     0     0]\n",
      " [    9     0     1     0     0     0    24     0     0     0     0     0\n",
      "    418     0     0]\n",
      " [    3     0     0     0     0     0     3     0     0     5     0     0\n",
      "    182     3     0]\n",
      " [    0     0     0     0     0     0     3     0     0     0     0     0\n",
      "      0     0     3]]\n"
     ]
    }
   ],
   "source": [
    "get_metrics(test_y, y_hat)"
   ]
  },
  {
   "cell_type": "code",
   "execution_count": null,
   "id": "3d063dec",
   "metadata": {},
   "outputs": [],
   "source": []
  },
  {
   "cell_type": "code",
   "execution_count": 148,
   "id": "29ac4964",
   "metadata": {},
   "outputs": [
    {
     "name": "stdout",
     "output_type": "stream",
     "text": [
      "              precision    recall  f1-score        support\n",
      "0              0.986405  0.962600  0.974357   15000.000000\n",
      "1              0.999479  0.998490  0.998984   38408.000000\n",
      "2              0.999748  0.999328  0.999538   47641.000000\n",
      "3              0.879227  0.930153  0.903974     587.000000\n",
      "4              0.833333  0.454545  0.588235      11.000000\n",
      "5              0.989167  0.997479  0.993305    2380.000000\n",
      "6              0.904886  0.984172  0.942865    1769.000000\n",
      "7              0.991959  0.993099  0.992529    1739.000000\n",
      "8              0.989130  0.992727  0.990926    1650.000000\n",
      "9              0.995598  0.999145  0.997368   69037.000000\n",
      "10             0.997052  0.985751  0.991369    3088.000000\n",
      "11             1.000000  1.000000  1.000000       3.000000\n",
      "12             0.649533  0.922566  0.762340     452.000000\n",
      "13             0.800000  0.020408  0.039801     196.000000\n",
      "14             0.750000  0.500000  0.600000       6.000000\n",
      "accuracy       0.994015  0.994015  0.994015       0.994015\n",
      "macro avg      0.917701  0.849364  0.851706  181967.000000\n",
      "weighted avg   0.994248  0.994015  0.993637  181967.000000\n",
      "[[14439     4    11    75     1    20   148     3    10   245     4     0\n",
      "     40     0     0]\n",
      " [   56 38350     0     0     0     0     0     0     0     1     1     0\n",
      "      0     0     0]\n",
      " [    3     1 47609     0     0     1     2     0     0    21     1     0\n",
      "      2     1     0]\n",
      " [   41     0     0   546     0     0     0     0     0     0     0     0\n",
      "      0     0     0]\n",
      " [    6     0     0     0     5     0     0     0     0     0     0     0\n",
      "      0     0     0]\n",
      " [    0     0     0     0     0  2374     1     2     0     3     0     0\n",
      "      0     0     0]\n",
      " [   14     0     0     0     0     4  1741     2     0     8     0     0\n",
      "      0     0     0]\n",
      " [    2     0     0     0     0     1     1  1727     5     1     1     0\n",
      "      1     0     0]\n",
      " [    4     1     0     0     0     0     1     4  1638     1     1     0\n",
      "      0     0     0]\n",
      " [   43    14     0     0     0     0     0     0     0 68978     1     0\n",
      "      1     0     0]\n",
      " [   17     0     0     0     0     0     0     3     3    20  3044     0\n",
      "      0     0     1]\n",
      " [    0     0     0     0     0     0     0     0     0     0     0     3\n",
      "      0     0     0]\n",
      " [   10     0     1     0     0     0    24     0     0     0     0     0\n",
      "    417     0     0]\n",
      " [    3     0     0     0     0     0     3     0     0     5     0     0\n",
      "    181     4     0]\n",
      " [    0     0     0     0     0     0     3     0     0     0     0     0\n",
      "      0     0     3]]\n"
     ]
    }
   ],
   "source": [
    "get_metrics(test_y, y_hat)"
   ]
  },
  {
   "cell_type": "code",
   "execution_count": null,
   "id": "b259ac44",
   "metadata": {},
   "outputs": [],
   "source": []
  },
  {
   "cell_type": "code",
   "execution_count": 141,
   "id": "6a4e6318",
   "metadata": {},
   "outputs": [
    {
     "name": "stdout",
     "output_type": "stream",
     "text": [
      "              precision    recall  f1-score        support\n",
      "0              0.980783  0.942467  0.961243   15000.000000\n",
      "1              0.999635  0.997813  0.998723   38408.000000\n",
      "2              0.994880  0.999286  0.997078   47641.000000\n",
      "3              0.893836  0.889267  0.891546     587.000000\n",
      "4              0.800000  0.363636  0.500000      11.000000\n",
      "5              0.991162  0.989496  0.990328    2380.000000\n",
      "6              0.871421  0.980780  0.922872    1769.000000\n",
      "7              0.989087  0.990224  0.989655    1739.000000\n",
      "8              0.988533  0.992727  0.990626    1650.000000\n",
      "9              0.994836  0.999030  0.996928   69037.000000\n",
      "10             0.988053  0.990933  0.989491    3088.000000\n",
      "11             1.000000  1.000000  1.000000       3.000000\n",
      "12             0.625000  0.796460  0.700389     452.000000\n",
      "13             0.000000  0.000000  0.000000     196.000000\n",
      "14             0.000000  0.000000  0.000000       6.000000\n",
      "accuracy       0.991592  0.991592  0.991592       0.991592\n",
      "macro avg      0.807815  0.795475  0.795259  181967.000000\n",
      "weighted avg   0.990866  0.991592  0.991132  181967.000000\n",
      "[[14137     3   218    62     1    16   197     4     9   296    18     0\n",
      "     34     5     0]\n",
      " [   69 38324    13     0     0     0     0     0     0     1     1     0\n",
      "      0     0     0]\n",
      " [    9     0 47607     0     0     0     2     0     0    21     1     0\n",
      "      1     0     0]\n",
      " [   65     0     0   522     0     0     0     0     0     0     0     0\n",
      "      0     0     0]\n",
      " [    7     0     0     0     4     0     0     0     0     0     0     0\n",
      "      0     0     0]\n",
      " [    6     0     0     0     0  2355     7     9     0     3     0     0\n",
      "      0     0     0]\n",
      " [   16     0     3     0     0     4  1735     2     0     9     0     0\n",
      "      0     0     0]\n",
      " [    2     0     1     0     0     1     1  1722     8     2     2     0\n",
      "      0     0     0]\n",
      " [    3     1     0     0     0     0     1     4  1638     1     2     0\n",
      "      0     0     0]\n",
      " [   42    10     4     0     0     0     0     0     0 68970    10     0\n",
      "      1     0     0]\n",
      " [    4     0     2     0     0     0     0     0     2    20  3060     0\n",
      "      0     0     0]\n",
      " [    0     0     0     0     0     0     0     0     0     0     0     3\n",
      "      0     0     0]\n",
      " [   47     0     2     0     0     0    42     0     0     0     1     0\n",
      "    360     0     0]\n",
      " [    6     0     2     0     0     0     3     0     0     5     0     0\n",
      "    180     0     0]\n",
      " [    1     0     0     0     0     0     3     0     0     0     2     0\n",
      "      0     0     0]]\n"
     ]
    }
   ],
   "source": [
    "get_metrics(test_y, y_hat)"
   ]
  },
  {
   "cell_type": "code",
   "execution_count": null,
   "id": "c170f331",
   "metadata": {},
   "outputs": [],
   "source": []
  },
  {
   "cell_type": "code",
   "execution_count": null,
   "id": "472ae8a9",
   "metadata": {},
   "outputs": [],
   "source": []
  },
  {
   "cell_type": "code",
   "execution_count": null,
   "id": "0630b162",
   "metadata": {},
   "outputs": [],
   "source": []
  },
  {
   "cell_type": "code",
   "execution_count": null,
   "id": "fe1a2146",
   "metadata": {},
   "outputs": [],
   "source": []
  },
  {
   "cell_type": "code",
   "execution_count": null,
   "id": "4c80b0c0",
   "metadata": {},
   "outputs": [],
   "source": []
  },
  {
   "cell_type": "code",
   "execution_count": null,
   "id": "ee972afc",
   "metadata": {},
   "outputs": [],
   "source": []
  },
  {
   "cell_type": "code",
   "execution_count": 129,
   "id": "852ed934",
   "metadata": {},
   "outputs": [
    {
     "name": "stdout",
     "output_type": "stream",
     "text": [
      "              precision    recall  f1-score       support\n",
      "0              0.976466  0.986593  0.981503  13500.000000\n",
      "1              0.999332  0.997333  0.998332   3000.000000\n",
      "2              0.999000  0.999333  0.999167   3000.000000\n",
      "3              0.895455  0.672355  0.768031    293.000000\n",
      "4              1.000000  0.400000  0.571429      5.000000\n",
      "5              0.997479  0.997479  0.997479   1190.000000\n",
      "6              0.904124  0.990960  0.945553    885.000000\n",
      "7              0.991851  0.979310  0.985541    870.000000\n",
      "8              0.977300  0.991515  0.984356    825.000000\n",
      "9              0.985639  0.938000  0.961230   3000.000000\n",
      "10             0.993532  0.994819  0.994175   1544.000000\n",
      "11             1.000000  1.000000  1.000000      2.000000\n",
      "12             0.637224  0.893805  0.744015    226.000000\n",
      "13             0.857143  0.061224  0.114286     98.000000\n",
      "14             1.000000  0.333333  0.500000      3.000000\n",
      "accuracy       0.977568  0.977568  0.977568      0.977568\n",
      "macro avg      0.947636  0.815737  0.836340  28441.000000\n",
      "weighted avg   0.978339  0.977568  0.976251  28441.000000\n",
      "[[13319     1     3    23     0     3    72     4     5    39     3     0\n",
      "     28     0     0]\n",
      " [    7  2992     0     0     0     0     1     0     0     0     0     0\n",
      "      0     0     0]\n",
      " [    1     0  2998     0     0     0     0     0     0     0     0     0\n",
      "      0     1     0]\n",
      " [   96     0     0   197     0     0     0     0     0     0     0     0\n",
      "      0     0     0]\n",
      " [    3     0     0     0     2     0     0     0     0     0     0     0\n",
      "      0     0     0]\n",
      " [    3     0     0     0     0  1187     0     0     0     0     0     0\n",
      "      0     0     0]\n",
      " [    7     0     0     0     0     0   877     0     0     0     1     0\n",
      "      0     0     0]\n",
      " [    7     0     0     0     0     0     1   852     9     1     0     0\n",
      "      0     0     0]\n",
      " [    2     0     0     0     0     0     1     3   818     0     1     0\n",
      "      0     0     0]\n",
      " [  179     1     0     0     0     0     0     0     2  2814     4     0\n",
      "      0     0     0]\n",
      " [    5     0     0     0     0     0     0     0     3     0  1536     0\n",
      "      0     0     0]\n",
      " [    0     0     0     0     0     0     0     0     0     0     0     2\n",
      "      0     0     0]\n",
      " [    7     0     0     0     0     0    17     0     0     0     0     0\n",
      "    202     0     0]\n",
      " [    3     0     0     0     0     0     0     0     0     1     1     0\n",
      "     87     6     0]\n",
      " [    1     0     0     0     0     0     1     0     0     0     0     0\n",
      "      0     0     1]]\n"
     ]
    }
   ],
   "source": [
    "get_metrics(y_true, y_pred)"
   ]
  },
  {
   "cell_type": "code",
   "execution_count": null,
   "id": "240773ab",
   "metadata": {},
   "outputs": [],
   "source": []
  },
  {
   "cell_type": "code",
   "execution_count": 89,
   "id": "9247f9d8",
   "metadata": {},
   "outputs": [
    {
     "name": "stdout",
     "output_type": "stream",
     "text": [
      "              precision    recall  f1-score       support\n",
      "0              0.992785  0.978519  0.985600  13500.000000\n",
      "1              0.998665  0.997667  0.998166   3000.000000\n",
      "2              0.998004  1.000000  0.999001   3000.000000\n",
      "3              0.815534  0.860068  0.837209    293.000000\n",
      "4              1.000000  0.400000  0.571429      5.000000\n",
      "5              0.996644  0.998319  0.997481   1190.000000\n",
      "6              0.911366  0.987571  0.947939    885.000000\n",
      "7              0.991889  0.983908  0.987882    870.000000\n",
      "8              0.976105  0.990303  0.983153    825.000000\n",
      "9              0.964401  0.993333  0.978654   3000.000000\n",
      "10             0.994186  0.996762  0.995472   1544.000000\n",
      "11             1.000000  1.000000  1.000000      2.000000\n",
      "12             0.641509  0.902655  0.750000    226.000000\n",
      "13             0.800000  0.081633  0.148148     98.000000\n",
      "14             1.000000  0.666667  0.800000      3.000000\n",
      "accuracy       0.981927  0.981927  0.981927      0.981927\n",
      "macro avg      0.938739  0.855827  0.865342  28441.000000\n",
      "weighted avg   0.982876  0.981927  0.981089  28441.000000\n",
      "[[13210     3     6    57     0     3    70     2     8   108     4     0\n",
      "     29     0     0]\n",
      " [    7  2993     0     0     0     0     0     0     0     0     0     0\n",
      "      0     0     0]\n",
      " [    0     0  3000     0     0     0     0     0     0     0     0     0\n",
      "      0     0     0]\n",
      " [   41     0     0   252     0     0     0     0     0     0     0     0\n",
      "      0     0     0]\n",
      " [    3     0     0     0     2     0     0     0     0     0     0     0\n",
      "      0     0     0]\n",
      " [    1     0     0     0     0  1188     1     0     0     0     0     0\n",
      "      0     0     0]\n",
      " [    9     0     0     0     0     1   874     0     0     0     1     0\n",
      "      0     0     0]\n",
      " [    4     0     0     0     0     0     0   856     9     1     0     0\n",
      "      0     0     0]\n",
      " [    2     0     0     0     0     0     1     4   817     0     1     0\n",
      "      0     0     0]\n",
      " [   17     1     0     0     0     0     0     0     0  2980     2     0\n",
      "      0     0     0]\n",
      " [    2     0     0     0     0     0     0     0     3     0  1539     0\n",
      "      0     0     0]\n",
      " [    0     0     0     0     0     0     0     0     0     0     0     2\n",
      "      0     0     0]\n",
      " [    7     0     0     0     0     0    12     1     0     0     0     0\n",
      "    204     2     0]\n",
      " [    3     0     0     0     0     0     0     0     0     1     1     0\n",
      "     85     8     0]\n",
      " [    0     0     0     0     0     0     1     0     0     0     0     0\n",
      "      0     0     2]]\n"
     ]
    }
   ],
   "source": [
    "get_metrics(y_true, y_pred)"
   ]
  },
  {
   "cell_type": "code",
   "execution_count": null,
   "id": "7315ac44",
   "metadata": {},
   "outputs": [],
   "source": []
  },
  {
   "cell_type": "code",
   "execution_count": null,
   "id": "bbed6bf8",
   "metadata": {},
   "outputs": [],
   "source": []
  },
  {
   "cell_type": "code",
   "execution_count": null,
   "id": "58e22442",
   "metadata": {},
   "outputs": [],
   "source": []
  },
  {
   "cell_type": "code",
   "execution_count": null,
   "id": "59bff6b8",
   "metadata": {},
   "outputs": [],
   "source": []
  },
  {
   "cell_type": "code",
   "execution_count": null,
   "id": "fc16fea0",
   "metadata": {},
   "outputs": [],
   "source": []
  },
  {
   "cell_type": "code",
   "execution_count": null,
   "id": "3dd5665e",
   "metadata": {},
   "outputs": [],
   "source": []
  },
  {
   "cell_type": "code",
   "execution_count": null,
   "id": "0b7a9deb",
   "metadata": {},
   "outputs": [],
   "source": []
  },
  {
   "cell_type": "code",
   "execution_count": null,
   "id": "3dcf268e",
   "metadata": {},
   "outputs": [],
   "source": []
  },
  {
   "cell_type": "code",
   "execution_count": null,
   "id": "cf6c4bce",
   "metadata": {},
   "outputs": [],
   "source": []
  },
  {
   "cell_type": "code",
   "execution_count": null,
   "id": "e1cef947",
   "metadata": {},
   "outputs": [],
   "source": []
  },
  {
   "cell_type": "code",
   "execution_count": null,
   "id": "4c9c44f0",
   "metadata": {},
   "outputs": [],
   "source": []
  },
  {
   "cell_type": "code",
   "execution_count": null,
   "id": "15d8e77f",
   "metadata": {},
   "outputs": [],
   "source": []
  },
  {
   "cell_type": "code",
   "execution_count": null,
   "id": "31a5595a",
   "metadata": {},
   "outputs": [],
   "source": []
  },
  {
   "cell_type": "code",
   "execution_count": null,
   "id": "ec910034",
   "metadata": {},
   "outputs": [],
   "source": []
  },
  {
   "cell_type": "code",
   "execution_count": null,
   "id": "cc353699",
   "metadata": {},
   "outputs": [],
   "source": []
  },
  {
   "cell_type": "code",
   "execution_count": null,
   "id": "08399388",
   "metadata": {},
   "outputs": [],
   "source": []
  },
  {
   "cell_type": "code",
   "execution_count": null,
   "id": "8defb748",
   "metadata": {},
   "outputs": [],
   "source": []
  },
  {
   "cell_type": "code",
   "execution_count": null,
   "id": "cf19e2fe",
   "metadata": {},
   "outputs": [],
   "source": []
  },
  {
   "cell_type": "code",
   "execution_count": null,
   "id": "8ed33a6b",
   "metadata": {},
   "outputs": [],
   "source": []
  },
  {
   "cell_type": "code",
   "execution_count": null,
   "id": "158ad452",
   "metadata": {},
   "outputs": [],
   "source": []
  },
  {
   "cell_type": "code",
   "execution_count": null,
   "id": "dabae744",
   "metadata": {},
   "outputs": [],
   "source": []
  },
  {
   "cell_type": "code",
   "execution_count": null,
   "id": "73f54ab4",
   "metadata": {},
   "outputs": [],
   "source": []
  },
  {
   "cell_type": "code",
   "execution_count": null,
   "id": "d66b2d21",
   "metadata": {},
   "outputs": [],
   "source": []
  },
  {
   "cell_type": "code",
   "execution_count": null,
   "id": "a287fb51",
   "metadata": {},
   "outputs": [],
   "source": []
  },
  {
   "cell_type": "code",
   "execution_count": null,
   "id": "a3e60e1a",
   "metadata": {},
   "outputs": [],
   "source": []
  },
  {
   "cell_type": "code",
   "execution_count": null,
   "id": "96b651e0",
   "metadata": {},
   "outputs": [],
   "source": []
  },
  {
   "cell_type": "code",
   "execution_count": null,
   "id": "0353f361",
   "metadata": {},
   "outputs": [],
   "source": []
  },
  {
   "cell_type": "code",
   "execution_count": 78,
   "id": "6e3f8281",
   "metadata": {},
   "outputs": [
    {
     "name": "stdout",
     "output_type": "stream",
     "text": [
      "              precision    recall  f1-score       support\n",
      "0              0.991599  0.979259  0.985391  13500.000000\n",
      "1              0.998665  0.997667  0.998166   3000.000000\n",
      "2              0.998336  1.000000  0.999167   3000.000000\n",
      "3              0.834459  0.843003  0.838710    293.000000\n",
      "4              1.000000  0.400000  0.571429      5.000000\n",
      "5              0.996644  0.998319  0.997481   1190.000000\n",
      "6              0.912134  0.985311  0.947311    885.000000\n",
      "7              0.991889  0.983908  0.987882    870.000000\n",
      "8              0.976134  0.991515  0.983764    825.000000\n",
      "9              0.964286  0.990000  0.976974   3000.000000\n",
      "10             0.994186  0.996762  0.995472   1544.000000\n",
      "11             1.000000  1.000000  1.000000      2.000000\n",
      "12             0.642633  0.907080  0.752294    226.000000\n",
      "13             0.888889  0.081633  0.149533     98.000000\n",
      "14             1.000000  0.666667  0.800000      3.000000\n",
      "accuracy       0.981752  0.981752  0.981752      0.981752\n",
      "macro avg      0.945990  0.854742  0.865572  28441.000000\n",
      "weighted avg   0.982870  0.981752  0.980866  28441.000000\n",
      "[[13220     3     5    49     0     3    69     2     8   108     4     0\n",
      "     29     0     0]\n",
      " [    7  2993     0     0     0     0     0     0     0     0     0     0\n",
      "      0     0     0]\n",
      " [    0     0  3000     0     0     0     0     0     0     0     0     0\n",
      "      0     0     0]\n",
      " [   46     0     0   247     0     0     0     0     0     0     0     0\n",
      "      0     0     0]\n",
      " [    3     0     0     0     2     0     0     0     0     0     0     0\n",
      "      0     0     0]\n",
      " [    1     0     0     0     0  1188     1     0     0     0     0     0\n",
      "      0     0     0]\n",
      " [   11     0     0     0     0     1   872     0     0     0     1     0\n",
      "      0     0     0]\n",
      " [    4     0     0     0     0     0     0   856     9     1     0     0\n",
      "      0     0     0]\n",
      " [    1     0     0     0     0     0     1     4   818     0     1     0\n",
      "      0     0     0]\n",
      " [   27     1     0     0     0     0     0     0     0  2970     2     0\n",
      "      0     0     0]\n",
      " [    2     0     0     0     0     0     0     0     3     0  1539     0\n",
      "      0     0     0]\n",
      " [    0     0     0     0     0     0     0     0     0     0     0     2\n",
      "      0     0     0]\n",
      " [    7     0     0     0     0     0    12     1     0     0     0     0\n",
      "    205     1     0]\n",
      " [    3     0     0     0     0     0     0     0     0     1     1     0\n",
      "     85     8     0]\n",
      " [    0     0     0     0     0     0     1     0     0     0     0     0\n",
      "      0     0     2]]\n"
     ]
    }
   ],
   "source": [
    "get_metrics(y_true, y_pred)"
   ]
  },
  {
   "cell_type": "code",
   "execution_count": 77,
   "id": "729e1239",
   "metadata": {},
   "outputs": [
    {
     "name": "stdout",
     "output_type": "stream",
     "text": [
      "              precision    recall  f1-score       support\n",
      "0              0.991599  0.979259  0.985391  13500.000000\n",
      "1              0.998665  0.997667  0.998166   3000.000000\n",
      "2              0.998336  1.000000  0.999167   3000.000000\n",
      "3              0.834459  0.843003  0.838710    293.000000\n",
      "4              1.000000  0.400000  0.571429      5.000000\n",
      "5              0.996644  0.998319  0.997481   1190.000000\n",
      "6              0.912134  0.985311  0.947311    885.000000\n",
      "7              0.991889  0.983908  0.987882    870.000000\n",
      "8              0.976134  0.991515  0.983764    825.000000\n",
      "9              0.964286  0.990000  0.976974   3000.000000\n",
      "10             0.994186  0.996762  0.995472   1544.000000\n",
      "11             1.000000  1.000000  1.000000      2.000000\n",
      "12             0.642633  0.907080  0.752294    226.000000\n",
      "13             0.888889  0.081633  0.149533     98.000000\n",
      "14             1.000000  0.666667  0.800000      3.000000\n",
      "accuracy       0.981752  0.981752  0.981752      0.981752\n",
      "macro avg      0.945990  0.854742  0.865572  28441.000000\n",
      "weighted avg   0.982870  0.981752  0.980866  28441.000000\n",
      "[[13220     3     5    49     0     3    69     2     8   108     4     0\n",
      "     29     0     0]\n",
      " [    7  2993     0     0     0     0     0     0     0     0     0     0\n",
      "      0     0     0]\n",
      " [    0     0  3000     0     0     0     0     0     0     0     0     0\n",
      "      0     0     0]\n",
      " [   46     0     0   247     0     0     0     0     0     0     0     0\n",
      "      0     0     0]\n",
      " [    3     0     0     0     2     0     0     0     0     0     0     0\n",
      "      0     0     0]\n",
      " [    1     0     0     0     0  1188     1     0     0     0     0     0\n",
      "      0     0     0]\n",
      " [   11     0     0     0     0     1   872     0     0     0     1     0\n",
      "      0     0     0]\n",
      " [    4     0     0     0     0     0     0   856     9     1     0     0\n",
      "      0     0     0]\n",
      " [    1     0     0     0     0     0     1     4   818     0     1     0\n",
      "      0     0     0]\n",
      " [   27     1     0     0     0     0     0     0     0  2970     2     0\n",
      "      0     0     0]\n",
      " [    2     0     0     0     0     0     0     0     3     0  1539     0\n",
      "      0     0     0]\n",
      " [    0     0     0     0     0     0     0     0     0     0     0     2\n",
      "      0     0     0]\n",
      " [    7     0     0     0     0     0    12     1     0     0     0     0\n",
      "    205     1     0]\n",
      " [    3     0     0     0     0     0     0     0     0     1     1     0\n",
      "     85     8     0]\n",
      " [    0     0     0     0     0     0     1     0     0     0     0     0\n",
      "      0     0     2]]\n"
     ]
    }
   ],
   "source": [
    "get_metrics(y_true, y_pred)"
   ]
  },
  {
   "cell_type": "code",
   "execution_count": 66,
   "id": "94383953",
   "metadata": {},
   "outputs": [
    {
     "name": "stdout",
     "output_type": "stream",
     "text": [
      "              precision    recall  f1-score       support\n",
      "0              0.990563  0.979630  0.985066  13500.000000\n",
      "1              0.998998  0.997333  0.998165   3000.000000\n",
      "2              0.998336  1.000000  0.999167   3000.000000\n",
      "3              0.830565  0.853242  0.841751    293.000000\n",
      "4              1.000000  0.400000  0.571429      5.000000\n",
      "5              0.997479  0.997479  0.997479   1190.000000\n",
      "6              0.918085  0.975141  0.945753    885.000000\n",
      "7              0.990741  0.983908  0.987313    870.000000\n",
      "8              0.976134  0.991515  0.983764    825.000000\n",
      "9              0.964821  0.987333  0.975947   3000.000000\n",
      "10             0.993544  0.996762  0.995150   1544.000000\n",
      "11             1.000000  1.000000  1.000000      2.000000\n",
      "12             0.636923  0.915929  0.751361    226.000000\n",
      "13             0.875000  0.071429  0.132075     98.000000\n",
      "14             1.000000  0.333333  0.500000      3.000000\n",
      "accuracy       0.981365  0.981365  0.981365      0.981365\n",
      "macro avg      0.944746  0.832202  0.844295  28441.000000\n",
      "weighted avg   0.982487  0.981365  0.980452  28441.000000\n",
      "[[13225     2     5    51     0     3    62     1     8   106     5     0\n",
      "     32     0     0]\n",
      " [    8  2992     0     0     0     0     0     0     0     0     0     0\n",
      "      0     0     0]\n",
      " [    0     0  3000     0     0     0     0     0     0     0     0     0\n",
      "      0     0     0]\n",
      " [   43     0     0   250     0     0     0     0     0     0     0     0\n",
      "      0     0     0]\n",
      " [    3     0     0     0     2     0     0     0     0     0     0     0\n",
      "      0     0     0]\n",
      " [    1     0     0     0     0  1187     1     1     0     0     0     0\n",
      "      0     0     0]\n",
      " [   20     0     0     0     0     0   863     1     0     0     1     0\n",
      "      0     0     0]\n",
      " [    4     0     0     0     0     0     0   856     9     1     0     0\n",
      "      0     0     0]\n",
      " [    1     0     0     0     0     0     1     4   818     0     1     0\n",
      "      0     0     0]\n",
      " [   35     1     0     0     0     0     0     0     0  2962     2     0\n",
      "      0     0     0]\n",
      " [    2     0     0     0     0     0     0     0     3     0  1539     0\n",
      "      0     0     0]\n",
      " [    0     0     0     0     0     0     0     0     0     0     0     2\n",
      "      0     0     0]\n",
      " [    5     0     0     0     0     0    12     1     0     0     0     0\n",
      "    207     1     0]\n",
      " [    3     0     0     0     0     0     0     0     0     1     1     0\n",
      "     86     7     0]\n",
      " [    1     0     0     0     0     0     1     0     0     0     0     0\n",
      "      0     0     1]]\n"
     ]
    }
   ],
   "source": [
    "get_metrics(y_true, y_pred)"
   ]
  },
  {
   "cell_type": "code",
   "execution_count": 57,
   "id": "e2bc0113",
   "metadata": {},
   "outputs": [
    {
     "name": "stdout",
     "output_type": "stream",
     "text": [
      "              precision    recall  f1-score       support\n",
      "0              0.981721  0.982667  0.982194  13500.000000\n",
      "1              0.998331  0.997000  0.997665   3000.000000\n",
      "2              0.998336  0.999667  0.999001   3000.000000\n",
      "3              0.806061  0.907850  0.853933    293.000000\n",
      "4              0.666667  0.400000  0.500000      5.000000\n",
      "5              0.996641  0.997479  0.997060   1190.000000\n",
      "6              0.904911  0.978531  0.940282    885.000000\n",
      "7              0.988426  0.981609  0.985006    870.000000\n",
      "8              0.979616  0.990303  0.984931    825.000000\n",
      "9              0.983994  0.942667  0.962887   3000.000000\n",
      "10             0.992253  0.995466  0.993857   1544.000000\n",
      "11             1.000000  1.000000  1.000000      2.000000\n",
      "12             0.641270  0.893805  0.746765    226.000000\n",
      "13             1.000000  0.081633  0.150943     98.000000\n",
      "14             1.000000  0.333333  0.500000      3.000000\n",
      "accuracy       0.978376  0.978376  0.978376      0.978376\n",
      "macro avg      0.929215  0.832134  0.839635  28441.000000\n",
      "weighted avg   0.979911  0.978376  0.977488  28441.000000\n",
      "[[13266     4     4    64     0     4    71     4     5    43     6     0\n",
      "     29     0     0]\n",
      " [    8  2991     0     0     0     0     0     0     0     1     0     0\n",
      "      0     0     0]\n",
      " [    1     0  2999     0     0     0     0     0     0     0     0     0\n",
      "      0     0     0]\n",
      " [   27     0     0   266     0     0     0     0     0     0     0     0\n",
      "      0     0     0]\n",
      " [    3     0     0     0     2     0     0     0     0     0     0     0\n",
      "      0     0     0]\n",
      " [    1     0     0     0     0  1187     1     1     0     0     0     0\n",
      "      0     0     0]\n",
      " [   17     0     0     0     0     0   866     1     0     0     1     0\n",
      "      0     0     0]\n",
      " [    4     0     1     0     1     0     0   854     9     1     0     0\n",
      "      0     0     0]\n",
      " [    2     0     0     0     0     0     1     4   817     0     1     0\n",
      "      0     0     0]\n",
      " [  169     1     0     0     0     0     0     0     0  2828     2     0\n",
      "      0     0     0]\n",
      " [    4     0     0     0     0     0     0     0     3     0  1537     0\n",
      "      0     0     0]\n",
      " [    0     0     0     0     0     0     0     0     0     0     0     2\n",
      "      0     0     0]\n",
      " [    7     0     0     0     0     0    17     0     0     0     0     0\n",
      "    202     0     0]\n",
      " [    4     0     0     0     0     0     0     0     0     1     1     0\n",
      "     84     8     0]\n",
      " [    0     0     0     0     0     0     1     0     0     0     1     0\n",
      "      0     0     1]]\n"
     ]
    }
   ],
   "source": [
    "get_metrics(y_true, y_pred)"
   ]
  },
  {
   "cell_type": "code",
   "execution_count": 74,
   "id": "7f976e3d",
   "metadata": {},
   "outputs": [
    {
     "name": "stdout",
     "output_type": "stream",
     "text": [
      "              precision    recall  f1-score       support\n",
      "0              0.975621  0.972296  0.973956  13500.000000\n",
      "1              0.998666  0.998333  0.998500   3000.000000\n",
      "2              0.996343  0.999000  0.997670   3000.000000\n",
      "3              0.829787  0.931741  0.877814    293.000000\n",
      "4              1.000000  0.400000  0.571429      5.000000\n",
      "5              0.995816  1.000000  0.997904   1190.000000\n",
      "6              0.869522  0.986441  0.924299    885.000000\n",
      "7              0.989595  0.983908  0.986744    870.000000\n",
      "8              0.978520  0.993939  0.986170    825.000000\n",
      "9              0.949921  0.999000  0.973842   3000.000000\n",
      "10             0.992903  0.996762  0.994829   1544.000000\n",
      "11             1.000000  1.000000  1.000000      2.000000\n",
      "12             0.783784  0.128319  0.220532    226.000000\n",
      "13             0.000000  0.000000  0.000000     98.000000\n",
      "14             1.000000  0.666667  0.800000      3.000000\n",
      "accuracy       0.973981  0.973981  0.973981      0.973981\n",
      "macro avg      0.890699  0.803760  0.820246  28441.000000\n",
      "weighted avg   0.970140  0.973981  0.969949  28441.000000\n",
      "[[13126     4    11    56     0     5   118     5     6   157     6     0\n",
      "      5     1     0]\n",
      " [    4  2995     0     0     0     0     0     1     0     0     0     0\n",
      "      0     0     0]\n",
      " [    3     0  2997     0     0     0     0     0     0     0     0     0\n",
      "      0     0     0]\n",
      " [   20     0     0   273     0     0     0     0     0     0     0     0\n",
      "      0     0     0]\n",
      " [    3     0     0     0     2     0     0     0     0     0     0     0\n",
      "      0     0     0]\n",
      " [    0     0     0     0     0  1190     0     0     0     0     0     0\n",
      "      0     0     0]\n",
      " [   11     0     0     0     0     0   873     0     0     0     1     0\n",
      "      0     0     0]\n",
      " [    5     0     0     0     0     0     0   856     9     0     0     0\n",
      "      0     0     0]\n",
      " [    0     0     0     0     0     0     1     3   820     0     1     0\n",
      "      0     0     0]\n",
      " [    1     0     0     0     0     0     0     0     0  2997     2     0\n",
      "      0     0     0]\n",
      " [    2     0     0     0     0     0     0     0     3     0  1539     0\n",
      "      0     0     0]\n",
      " [    0     0     0     0     0     0     0     0     0     0     0     2\n",
      "      0     0     0]\n",
      " [  186     0     0     0     0     0    11     0     0     0     0     0\n",
      "     29     0     0]\n",
      " [   93     0     0     0     0     0     0     0     0     1     1     0\n",
      "      3     0     0]\n",
      " [    0     0     0     0     0     0     1     0     0     0     0     0\n",
      "      0     0     2]]\n"
     ]
    }
   ],
   "source": [
    "get_metrics(test_y, y_hat)"
   ]
  },
  {
   "cell_type": "code",
   "execution_count": null,
   "id": "36f90005",
   "metadata": {},
   "outputs": [],
   "source": []
  },
  {
   "cell_type": "code",
   "execution_count": 36,
   "id": "cccdd608",
   "metadata": {},
   "outputs": [
    {
     "name": "stdout",
     "output_type": "stream",
     "text": [
      "              precision    recall  f1-score     support\n",
      "0              0.988125  0.967704  0.977808  13500.0000\n",
      "1              0.994684  0.998000  0.996339   3000.0000\n",
      "2              0.991722  0.998333  0.995017   3000.0000\n",
      "3              0.932384  0.894198  0.912892    293.0000\n",
      "4              0.000000  0.000000  0.000000      5.0000\n",
      "5              0.998309  0.992437  0.995365   1190.0000\n",
      "6              0.844206  0.979661  0.906904    885.0000\n",
      "7              0.978111  0.975862  0.976985    870.0000\n",
      "8              0.974850  0.986667  0.980723    825.0000\n",
      "9              0.940102  0.978333  0.958837   3000.0000\n",
      "10             0.992263  0.996762  0.994507   1544.0000\n",
      "11             1.000000  1.000000  1.000000      2.0000\n",
      "12             0.593750  0.840708  0.695971    226.0000\n",
      "13             0.000000  0.000000  0.000000     98.0000\n",
      "14             1.000000  0.333333  0.500000      3.0000\n",
      "accuracy       0.973700  0.973700  0.973700      0.9737\n",
      "macro avg      0.815234  0.796133  0.792756  28441.0000\n",
      "weighted avg   0.972327  0.973700  0.972573  28441.0000\n",
      "[[13064    13    25    19     0     2   139     2     7   179     7     0\n",
      "     43     0     0]\n",
      " [    6  2994     0     0     0     0     0     0     0     0     0     0\n",
      "      0     0     0]\n",
      " [    5     0  2995     0     0     0     0     0     0     0     0     0\n",
      "      0     0     0]\n",
      " [   31     0     0   262     0     0     0     0     0     0     0     0\n",
      "      0     0     0]\n",
      " [    5     0     0     0     0     0     0     0     0     0     0     0\n",
      "      0     0     0]\n",
      " [    0     0     0     0     0  1181     0     9     0     0     0     0\n",
      "      0     0     0]\n",
      " [   15     0     0     0     0     0   867     1     0     1     1     0\n",
      "      0     0     0]\n",
      " [    8     0     0     0     0     0     0   849    11     1     0     0\n",
      "      1     0     0]\n",
      " [    2     0     0     0     0     0     1     7   814     0     1     0\n",
      "      0     0     0]\n",
      " [   60     3     0     0     0     0     0     0     0  2935     2     0\n",
      "      0     0     0]\n",
      " [    0     0     0     0     0     0     0     0     3     2  1539     0\n",
      "      0     0     0]\n",
      " [    0     0     0     0     0     0     0     0     0     0     0     2\n",
      "      0     0     0]\n",
      " [   17     0     0     0     0     0    19     0     0     0     0     0\n",
      "    190     0     0]\n",
      " [    7     0     0     0     0     0     0     0     0     4     1     0\n",
      "     86     0     0]\n",
      " [    1     0     0     0     0     0     1     0     0     0     0     0\n",
      "      0     0     1]]\n"
     ]
    }
   ],
   "source": [
    "get_metrics(test_y, y_hat)"
   ]
  },
  {
   "cell_type": "code",
   "execution_count": 32,
   "id": "5bac43c4",
   "metadata": {},
   "outputs": [
    {
     "name": "stdout",
     "output_type": "stream",
     "text": [
      "              precision    recall  f1-score       support\n",
      "0              0.970778  0.967111  0.968941  13500.000000\n",
      "1              0.999665  0.996000  0.997829   3000.000000\n",
      "2              0.947468  0.998000  0.972078   3000.000000\n",
      "3              0.906897  0.897611  0.902230    293.000000\n",
      "4              1.000000  0.400000  0.571429      5.000000\n",
      "5              0.992431  0.991597  0.992013   1190.000000\n",
      "6              0.846530  0.978531  0.907757    885.000000\n",
      "7              0.971231  0.970115  0.970673    870.000000\n",
      "8              0.967819  0.984242  0.975962    825.000000\n",
      "9              0.979592  0.912000  0.944588   3000.000000\n",
      "10             0.996073  0.985751  0.990885   1544.000000\n",
      "11             1.000000  0.500000  0.666667      2.000000\n",
      "12             0.608414  0.831858  0.702804    226.000000\n",
      "13             0.000000  0.000000  0.000000     98.000000\n",
      "14             0.000000  0.000000  0.000000      3.000000\n",
      "accuracy       0.965226  0.965226  0.965226      0.965226\n",
      "macro avg      0.812460  0.760854  0.770924  28441.000000\n",
      "weighted avg   0.963659  0.965226  0.963926  28441.000000\n",
      "[[13056     1   166    27     0     9   138     5     6    52     4     0\n",
      "     36     0     0]\n",
      " [   12  2988     0     0     0     0     0     0     0     0     0     0\n",
      "      0     0     0]\n",
      " [    5     0  2994     0     0     0     0     1     0     0     0     0\n",
      "      0     0     0]\n",
      " [   30     0     0   263     0     0     0     0     0     0     0     0\n",
      "      0     0     0]\n",
      " [    3     0     0     0     2     0     0     0     0     0     0     0\n",
      "      0     0     0]\n",
      " [    0     0     0     0     0  1180     0    10     0     0     0     0\n",
      "      0     0     0]\n",
      " [   18     0     0     0     0     0   866     1     0     0     0     0\n",
      "      0     0     0]\n",
      " [   10     0     0     0     0     0     0   844    15     0     0     0\n",
      "      1     0     0]\n",
      " [    4     0     0     0     0     0     1     8   812     0     0     0\n",
      "      0     0     0]\n",
      " [  264     0     0     0     0     0     0     0     0  2736     0     0\n",
      "      0     0     0]\n",
      " [   12     0     0     0     0     0     0     0     6     4  1522     0\n",
      "      0     0     0]\n",
      " [    1     0     0     0     0     0     0     0     0     0     0     1\n",
      "      0     0     0]\n",
      " [   21     0     0     0     0     0    17     0     0     0     0     0\n",
      "    188     0     0]\n",
      " [   12     0     0     0     0     0     0     0     0     1     1     0\n",
      "     84     0     0]\n",
      " [    1     0     0     0     0     0     1     0     0     0     1     0\n",
      "      0     0     0]]\n"
     ]
    }
   ],
   "source": [
    "get_metrics(test_y, y_hat)"
   ]
  },
  {
   "cell_type": "code",
   "execution_count": null,
   "id": "d46fef07",
   "metadata": {},
   "outputs": [],
   "source": []
  },
  {
   "cell_type": "code",
   "execution_count": null,
   "id": "479b9741",
   "metadata": {},
   "outputs": [],
   "source": []
  },
  {
   "cell_type": "code",
   "execution_count": null,
   "id": "42d3725d",
   "metadata": {},
   "outputs": [],
   "source": []
  },
  {
   "cell_type": "code",
   "execution_count": null,
   "id": "483a1e10",
   "metadata": {},
   "outputs": [],
   "source": []
  },
  {
   "cell_type": "code",
   "execution_count": null,
   "id": "d55ee39c",
   "metadata": {},
   "outputs": [],
   "source": []
  },
  {
   "cell_type": "code",
   "execution_count": null,
   "id": "28a744cd",
   "metadata": {},
   "outputs": [],
   "source": []
  },
  {
   "cell_type": "code",
   "execution_count": null,
   "id": "4054bb40",
   "metadata": {},
   "outputs": [],
   "source": []
  },
  {
   "cell_type": "code",
   "execution_count": null,
   "id": "2aa3950a",
   "metadata": {},
   "outputs": [],
   "source": []
  },
  {
   "cell_type": "code",
   "execution_count": null,
   "id": "dfb18346",
   "metadata": {},
   "outputs": [],
   "source": []
  },
  {
   "cell_type": "code",
   "execution_count": null,
   "id": "543bd1e7",
   "metadata": {},
   "outputs": [],
   "source": []
  },
  {
   "cell_type": "code",
   "execution_count": null,
   "id": "ef75e3ff",
   "metadata": {},
   "outputs": [],
   "source": []
  },
  {
   "cell_type": "code",
   "execution_count": 66,
   "id": "d69e87b2",
   "metadata": {},
   "outputs": [
    {
     "name": "stdout",
     "output_type": "stream",
     "text": [
      "              precision    recall  f1-score        support\n",
      "0              0.877884  0.947500  0.911364   10000.000000\n",
      "1              0.995250  0.988159  0.991692  111312.000000\n",
      "accuracy       0.984808  0.984808  0.984808       0.984808\n",
      "macro avg      0.936567  0.967830  0.951528  121312.000000\n",
      "weighted avg   0.985575  0.984808  0.985070  121312.000000\n",
      "[[  9475    525]\n",
      " [  1318 109994]]\n"
     ]
    }
   ],
   "source": [
    "get_metrics(test_y, y_hat)"
   ]
  },
  {
   "cell_type": "code",
   "execution_count": null,
   "id": "a72df0d2",
   "metadata": {},
   "outputs": [],
   "source": []
  },
  {
   "cell_type": "code",
   "execution_count": 60,
   "id": "5f07ff01",
   "metadata": {},
   "outputs": [
    {
     "name": "stdout",
     "output_type": "stream",
     "text": [
      "              precision    recall  f1-score        support\n",
      "0              0.988858  0.958500  0.973442   10000.000000\n",
      "1              0.996282  0.999030  0.997654  111312.000000\n",
      "accuracy       0.995689  0.995689  0.995689       0.995689\n",
      "macro avg      0.992570  0.978765  0.985548  121312.000000\n",
      "weighted avg   0.995670  0.995689  0.995658  121312.000000\n",
      "[[  9585    415]\n",
      " [   108 111204]]\n"
     ]
    }
   ],
   "source": [
    "get_metrics(test_y, y_hat)"
   ]
  },
  {
   "cell_type": "code",
   "execution_count": null,
   "id": "f74f89cf",
   "metadata": {},
   "outputs": [],
   "source": []
  },
  {
   "cell_type": "code",
   "execution_count": null,
   "id": "117d7789",
   "metadata": {},
   "outputs": [],
   "source": []
  },
  {
   "cell_type": "code",
   "execution_count": 53,
   "id": "84b9696a",
   "metadata": {},
   "outputs": [
    {
     "name": "stdout",
     "output_type": "stream",
     "text": [
      "              precision    recall  f1-score       support\n",
      "0              0.994276  0.955400  0.974451   10000.00000\n",
      "1              0.996007  0.999506  0.997754  111312.00000\n",
      "accuracy       0.995870  0.995870  0.995870       0.99587\n",
      "macro avg      0.995142  0.977453  0.986102  121312.00000\n",
      "weighted avg   0.995865  0.995870  0.995833  121312.00000\n",
      "[[  9554    446]\n",
      " [    55 111257]]\n"
     ]
    }
   ],
   "source": [
    "get_metrics(test_y, y_hat)"
   ]
  },
  {
   "cell_type": "code",
   "execution_count": 67,
   "id": "db496e99",
   "metadata": {},
   "outputs": [
    {
     "data": {
      "text/plain": [
       "0.9678297038953573"
      ]
     },
     "execution_count": 67,
     "metadata": {},
     "output_type": "execute_result"
    }
   ],
   "source": [
    "roc_auc_score(test_y, y_hat)"
   ]
  },
  {
   "cell_type": "code",
   "execution_count": null,
   "id": "aa75f67f",
   "metadata": {},
   "outputs": [],
   "source": []
  },
  {
   "cell_type": "code",
   "execution_count": 46,
   "id": "85cc6fce",
   "metadata": {},
   "outputs": [
    {
     "name": "stdout",
     "output_type": "stream",
     "text": [
      "              precision    recall  f1-score        support\n",
      "0              0.987040  0.913900  0.949063   10000.000000\n",
      "1              0.992316  0.998922  0.995608  111312.000000\n",
      "accuracy       0.991913  0.991913  0.991913       0.991913\n",
      "macro avg      0.989678  0.956411  0.972335  121312.000000\n",
      "weighted avg   0.991881  0.991913  0.991771  121312.000000\n",
      "[[  9139    861]\n",
      " [   120 111192]]\n"
     ]
    }
   ],
   "source": [
    "get_metrics(test_y, y_hat)"
   ]
  },
  {
   "cell_type": "code",
   "execution_count": 54,
   "id": "b6099928",
   "metadata": {},
   "outputs": [
    {
     "name": "stdout",
     "output_type": "stream",
     "text": [
      "              precision    recall  f1-score        support\n",
      "0              0.991007  0.958700  0.974586   10000.000000\n",
      "1              0.996301  0.999218  0.997757  111312.000000\n",
      "accuracy       0.995878  0.995878  0.995878       0.995878\n",
      "macro avg      0.993654  0.978959  0.986172  121312.000000\n",
      "weighted avg   0.995864  0.995878  0.995847  121312.000000\n",
      "[[  9587    413]\n",
      " [    87 111225]]\n"
     ]
    }
   ],
   "source": [
    "get_metrics(test_y, y_hat)"
   ]
  },
  {
   "cell_type": "code",
   "execution_count": 48,
   "id": "85670dc2",
   "metadata": {},
   "outputs": [
    {
     "name": "stdout",
     "output_type": "stream",
     "text": [
      "              precision    recall  f1-score       support\n",
      "0              0.991011  0.959200  0.974846   10000.00000\n",
      "1              0.996345  0.999218  0.997780  111312.00000\n",
      "accuracy       0.995920  0.995920  0.995920       0.99592\n",
      "macro avg      0.993678  0.979209  0.986313  121312.00000\n",
      "weighted avg   0.995905  0.995920  0.995889  121312.00000\n",
      "[[  9592    408]\n",
      " [    87 111225]]\n"
     ]
    }
   ],
   "source": [
    "get_metrics(test_y, y_hat)"
   ]
  },
  {
   "cell_type": "code",
   "execution_count": null,
   "id": "ae32a8d6",
   "metadata": {},
   "outputs": [],
   "source": []
  },
  {
   "cell_type": "code",
   "execution_count": 41,
   "id": "35ceb9d9",
   "metadata": {},
   "outputs": [
    {
     "name": "stdout",
     "output_type": "stream",
     "text": [
      "              precision    recall  f1-score        support\n",
      "0              0.994256  0.952100  0.972722   10000.000000\n",
      "1              0.995713  0.999506  0.997606  111312.000000\n",
      "accuracy       0.995598  0.995598  0.995598       0.995598\n",
      "macro avg      0.994985  0.975803  0.985164  121312.000000\n",
      "weighted avg   0.995593  0.995598  0.995555  121312.000000\n",
      "[[  9521    479]\n",
      " [    55 111257]]\n"
     ]
    }
   ],
   "source": [
    "get_metrics(test_y, y_hat)"
   ]
  },
  {
   "cell_type": "code",
   "execution_count": 35,
   "id": "c9bc266a",
   "metadata": {},
   "outputs": [
    {
     "name": "stdout",
     "output_type": "stream",
     "text": [
      "              precision    recall  f1-score        support\n",
      "0              0.993787  0.943700  0.968096   10000.000000\n",
      "1              0.994965  0.999470  0.997212  111312.000000\n",
      "accuracy       0.994873  0.994873  0.994873       0.994873\n",
      "macro avg      0.994376  0.971585  0.982654  121312.000000\n",
      "weighted avg   0.994868  0.994873  0.994812  121312.000000\n",
      "[[  9437    563]\n",
      " [    59 111253]]\n"
     ]
    }
   ],
   "source": [
    "get_metrics(test_y, y_hat)"
   ]
  },
  {
   "cell_type": "code",
   "execution_count": 28,
   "id": "2b58c62b",
   "metadata": {},
   "outputs": [
    {
     "name": "stdout",
     "output_type": "stream",
     "text": [
      "              precision    recall  f1-score        support\n",
      "0              0.960407  0.839300  0.895779   10000.000000\n",
      "1              0.985725  0.996892  0.991277  111312.000000\n",
      "accuracy       0.983901  0.983901  0.983901       0.983901\n",
      "macro avg      0.973066  0.918096  0.943528  121312.000000\n",
      "weighted avg   0.983638  0.983901  0.983405  121312.000000\n",
      "[[  8393   1607]\n",
      " [   346 110966]]\n"
     ]
    }
   ],
   "source": [
    "get_metrics(test_y, y_hat)"
   ]
  },
  {
   "cell_type": "code",
   "execution_count": 45,
   "id": "c6aeba1c",
   "metadata": {},
   "outputs": [
    {
     "name": "stdout",
     "output_type": "stream",
     "text": [
      "              precision    recall  f1-score        support\n",
      "0              0.985363  0.949200  0.966943   10000.000000\n",
      "1              0.996612  0.999276  0.997942   75950.000000\n",
      "2              0.996108  0.999213  0.997658   31761.000000\n",
      "3              0.980170  0.884910  0.930108     391.000000\n",
      "4              1.000000  0.571429  0.727273       7.000000\n",
      "5              0.952331  0.989158  0.970395    2767.000000\n",
      "6              0.894253  0.892202  0.893226     436.000000\n",
      "accuracy       0.994123  0.994123  0.994123       0.994123\n",
      "macro avg      0.972120  0.897913  0.926221  121312.000000\n",
      "weighted avg   0.994122  0.994123  0.994074  121312.000000\n",
      "[[ 9492   216   124     7     0   120    41]\n",
      " [   51 75895     0     0     0     2     2]\n",
      " [    4    18 31736     0     0     0     3]\n",
      " [   45     0     0   346     0     0     0]\n",
      " [    1     1     0     0     4     1     0]\n",
      " [   14    16     0     0     0  2737     0]\n",
      " [   26     7     0     0     0    14   389]]\n"
     ]
    }
   ],
   "source": [
    "get_metrics(test_y, y_hat)"
   ]
  },
  {
   "cell_type": "code",
   "execution_count": 32,
   "id": "baabac1f",
   "metadata": {},
   "outputs": [
    {
     "name": "stdout",
     "output_type": "stream",
     "text": [
      "              precision    recall  f1-score        support\n",
      "0              0.980632  0.936700  0.958163   10000.000000\n",
      "1              0.996335  0.998591  0.997462   75950.000000\n",
      "2              0.995858  0.999213  0.997533   31761.000000\n",
      "3              0.783505  0.971867  0.867580     391.000000\n",
      "4              1.000000  0.142857  0.250000       7.000000\n",
      "5              0.944967  0.980484  0.962398    2767.000000\n",
      "6              0.912833  0.864679  0.888104     436.000000\n",
      "accuracy       0.992622  0.992622  0.992622       0.992622\n",
      "macro avg      0.944876  0.842056  0.845891  121312.000000\n",
      "weighted avg   0.992758  0.992622  0.992586  121312.000000\n",
      "[[ 9367   237   131   105     0   127    33]\n",
      " [  102 75843     1     0     0     2     2]\n",
      " [    6    18 31736     0     0     0     1]\n",
      " [   11     0     0   380     0     0     0]\n",
      " [    6     0     0     0     1     0     0]\n",
      " [   37    17     0     0     0  2713     0]\n",
      " [   23     7     0     0     0    29   377]]\n"
     ]
    }
   ],
   "source": [
    "get_metrics(test_y, y_hat)"
   ]
  },
  {
   "cell_type": "code",
   "execution_count": 59,
   "id": "403ccfc9",
   "metadata": {},
   "outputs": [
    {
     "name": "stdout",
     "output_type": "stream",
     "text": [
      "              precision    recall  f1-score        support\n",
      "0              0.934755  0.964200  0.949249   10000.000000\n",
      "1              0.998133  0.999776  0.998954   75950.000000\n",
      "2              0.996702  0.999244  0.997972   31761.000000\n",
      "3              0.843602  0.910486  0.875769     391.000000\n",
      "4              0.833333  0.714286  0.769231       7.000000\n",
      "5              0.977477  0.784243  0.870263    2767.000000\n",
      "6              0.935185  0.926606  0.930876     436.000000\n",
      "accuracy       0.991221  0.991221  0.991221       0.991221\n",
      "macro avg      0.931313  0.899834  0.913188  121312.000000\n",
      "weighted avg   0.991329  0.991221  0.991009  121312.000000\n",
      "[[ 9642   113   104    66     1    50    24]\n",
      " [   15 75933     0     0     0     0     2]\n",
      " [    2    20 31737     0     0     0     2]\n",
      " [   34     1     0   356     0     0     0]\n",
      " [    1     1     0     0     5     0     0]\n",
      " [  595     2     0     0     0  2170     0]\n",
      " [   26     5     1     0     0     0   404]]\n"
     ]
    }
   ],
   "source": [
    "get_metrics(test_y, y_hat)"
   ]
  },
  {
   "cell_type": "code",
   "execution_count": 43,
   "id": "c9b3eaaf",
   "metadata": {},
   "outputs": [
    {
     "name": "stdout",
     "output_type": "stream",
     "text": [
      "              precision    recall  f1-score        support\n",
      "0              0.991888  0.941500  0.966037   10000.000000\n",
      "1              0.994768  0.999308  0.997033  111312.000000\n",
      "accuracy       0.994543  0.994543  0.994543       0.994543\n",
      "macro avg      0.993328  0.970404  0.981535  121312.000000\n",
      "weighted avg   0.994531  0.994543  0.994478  121312.000000\n",
      "[[  9415    585]\n",
      " [    77 111235]]\n"
     ]
    }
   ],
   "source": [
    "get_metrics(test_y, y_hat)"
   ]
  },
  {
   "cell_type": "code",
   "execution_count": 34,
   "id": "e393b141",
   "metadata": {},
   "outputs": [
    {
     "name": "stdout",
     "output_type": "stream",
     "text": [
      "              precision    recall  f1-score        support\n",
      "0              0.991231  0.915600  0.951916   10000.000000\n",
      "1              0.992469  0.999272  0.995859  111312.000000\n",
      "accuracy       0.992375  0.992375  0.992375       0.992375\n",
      "macro avg      0.991850  0.957436  0.973887  121312.000000\n",
      "weighted avg   0.992367  0.992375  0.992237  121312.000000\n",
      "[[  9156    844]\n",
      " [    81 111231]]\n"
     ]
    }
   ],
   "source": [
    "get_metrics(test_y, y_hat)"
   ]
  },
  {
   "cell_type": "code",
   "execution_count": 58,
   "id": "6e2a033d",
   "metadata": {},
   "outputs": [
    {
     "name": "stdout",
     "output_type": "stream",
     "text": [
      "              precision    recall  f1-score       support\n",
      "0              0.983025  0.949733  0.966092   7500.000000\n",
      "1              0.988113  0.989610  0.988861   9240.000000\n",
      "2              0.963047  0.990333  0.976500   3000.000000\n",
      "3              0.821429  0.938776  0.876190    294.000000\n",
      "4              1.000000  0.600000  0.750000      5.000000\n",
      "5              0.946379  0.995181  0.970167   2075.000000\n",
      "6              0.913433  0.935780  0.924471    327.000000\n",
      "accuracy       0.975358  0.975358  0.975358      0.975358\n",
      "macro avg      0.945061  0.914202  0.921755  22441.000000\n",
      "weighted avg   0.975934  0.975358  0.975403  22441.000000\n",
      "[[7123  100  106   60    0   88   23]\n",
      " [  92 9144    0    0    0    3    1]\n",
      " [   3    6 2971    0    0   15    5]\n",
      " [  17    0    1  276    0    0    0]\n",
      " [   1    1    0    0    3    0    0]\n",
      " [   3    1    6    0    0 2065    0]\n",
      " [   7    2    1    0    0   11  306]]\n"
     ]
    }
   ],
   "source": [
    "get_metrics(test_y, y_hat)"
   ]
  },
  {
   "cell_type": "code",
   "execution_count": null,
   "id": "9857c5a2",
   "metadata": {},
   "outputs": [],
   "source": []
  },
  {
   "cell_type": "code",
   "execution_count": 52,
   "id": "e0fa153c",
   "metadata": {},
   "outputs": [
    {
     "name": "stdout",
     "output_type": "stream",
     "text": [
      "              precision    recall  f1-score       support\n",
      "0              0.983317  0.950933  0.966854   7500.000000\n",
      "1              0.989527  0.991883  0.990704   9240.000000\n",
      "2              0.963324  0.989333  0.976155   3000.000000\n",
      "3              0.808140  0.945578  0.871473    294.000000\n",
      "4              1.000000  0.400000  0.571429      5.000000\n",
      "5              0.945747  0.991325  0.968000   2075.000000\n",
      "6              0.929012  0.920489  0.924731    327.000000\n",
      "accuracy       0.976026  0.976026  0.976026      0.976026\n",
      "macro avg      0.945581  0.884220  0.895621  22441.000000\n",
      "weighted avg   0.976645  0.976026  0.976072  22441.000000\n",
      "[[7132   87  107   66    0   87   21]\n",
      " [  73 9165    0    0    0    1    1]\n",
      " [   6    6 2968    0    0   19    1]\n",
      " [  15    0    1  278    0    0    0]\n",
      " [   2    1    0    0    2    0    0]\n",
      " [  12    1    5    0    0 2057    0]\n",
      " [  13    2    0    0    0   11  301]]\n"
     ]
    }
   ],
   "source": [
    "get_metrics(test_y, y_hat)"
   ]
  },
  {
   "cell_type": "code",
   "execution_count": 30,
   "id": "f3584e58",
   "metadata": {},
   "outputs": [
    {
     "name": "stdout",
     "output_type": "stream",
     "text": [
      "              precision    recall  f1-score       support\n",
      "0              0.979393  0.937867  0.958180   7500.000000\n",
      "1              0.984289  0.989935  0.987104   9240.000000\n",
      "2              0.965260  0.991000  0.977961   3000.000000\n",
      "3              0.695444  0.986395  0.815752    294.000000\n",
      "4              1.000000  0.600000  0.750000      5.000000\n",
      "5              0.957249  0.992771  0.974687   2075.000000\n",
      "6              0.929936  0.892966  0.911076    327.000000\n",
      "accuracy       0.971392  0.971392  0.971392      0.971392\n",
      "macro avg      0.930224  0.912991  0.910680  22441.000000\n",
      "weighted avg   0.973036  0.971392  0.971661  22441.000000\n",
      "[[7034  135  106  127    0   78   20]\n",
      " [  89 9147    0    0    0    3    1]\n",
      " [  21    5 2973    0    0    0    1]\n",
      " [   4    0    0  290    0    0    0]\n",
      " [   2    0    0    0    3    0    0]\n",
      " [  10    4    1    0    0 2060    0]\n",
      " [  22    2    0    0    0   11  292]]\n"
     ]
    }
   ],
   "source": [
    "get_metrics(test_y, y_hat)"
   ]
  },
  {
   "cell_type": "code",
   "execution_count": null,
   "id": "c24fc6b0",
   "metadata": {},
   "outputs": [],
   "source": []
  },
  {
   "cell_type": "code",
   "execution_count": null,
   "id": "2cdf3f9f",
   "metadata": {},
   "outputs": [],
   "source": []
  },
  {
   "cell_type": "code",
   "execution_count": null,
   "id": "5b9bf99e",
   "metadata": {},
   "outputs": [],
   "source": []
  },
  {
   "cell_type": "code",
   "execution_count": null,
   "id": "93157469",
   "metadata": {},
   "outputs": [],
   "source": []
  },
  {
   "cell_type": "code",
   "execution_count": null,
   "id": "dfd8a46d",
   "metadata": {},
   "outputs": [],
   "source": []
  },
  {
   "cell_type": "code",
   "execution_count": null,
   "id": "bcf9fc85",
   "metadata": {},
   "outputs": [],
   "source": []
  },
  {
   "cell_type": "code",
   "execution_count": null,
   "id": "862b8672",
   "metadata": {},
   "outputs": [],
   "source": []
  },
  {
   "cell_type": "code",
   "execution_count": null,
   "id": "ca9e2663",
   "metadata": {},
   "outputs": [],
   "source": []
  },
  {
   "cell_type": "code",
   "execution_count": null,
   "id": "73c3375e",
   "metadata": {},
   "outputs": [],
   "source": []
  },
  {
   "cell_type": "code",
   "execution_count": 281,
   "id": "6d7be6ff",
   "metadata": {},
   "outputs": [
    {
     "name": "stdout",
     "output_type": "stream",
     "text": [
      "              precision    recall  f1-score       support\n",
      "0              0.986649  0.968889  0.977688  13500.000000\n",
      "1              0.980925  0.996104  0.988456   9241.000000\n",
      "2              0.997008  0.999667  0.998336   3000.000000\n",
      "3              0.671698  0.607509  0.637993    293.000000\n",
      "4              1.000000  0.600000  0.750000      5.000000\n",
      "5              0.941632  0.995181  0.967666   2075.000000\n",
      "6              0.894260  0.905199  0.899696    327.000000\n",
      "accuracy       0.978376  0.978376  0.978376      0.978376\n",
      "macro avg      0.924596  0.867507  0.888548  28441.000000\n",
      "weighted avg   0.978293  0.978376  0.978197  28441.000000\n",
      "[[13080   174     9    87     0   115    35]\n",
      " [   35  9205     0     0     0     1     0]\n",
      " [    1     0  2999     0     0     0     0]\n",
      " [  115     0     0   178     0     0     0]\n",
      " [    2     0     0     0     3     0     0]\n",
      " [    8     2     0     0     0  2065     0]\n",
      " [   16     3     0     0     0    12   296]]\n"
     ]
    }
   ],
   "source": [
    "get_metrics(test_y, y_hat)"
   ]
  },
  {
   "cell_type": "code",
   "execution_count": 275,
   "id": "7e21cbd0",
   "metadata": {},
   "outputs": [
    {
     "name": "stdout",
     "output_type": "stream",
     "text": [
      "              precision    recall  f1-score       support\n",
      "0              0.994143  0.968148  0.980973  13500.000000\n",
      "1              0.980196  0.996213  0.988139   9241.000000\n",
      "2              0.996678  1.000000  0.998336   3000.000000\n",
      "3              0.768156  0.938567  0.844854    293.000000\n",
      "4              1.000000  0.600000  0.750000      5.000000\n",
      "5              0.938636  0.995181  0.966082   2075.000000\n",
      "6              0.894260  0.905199  0.899696    327.000000\n",
      "accuracy       0.981506  0.981506  0.981506      0.981506\n",
      "macro avg      0.938867  0.914758  0.918297  28441.000000\n",
      "weighted avg   0.982354  0.981506  0.981669  28441.000000\n",
      "[[13070   180    10    83     0   122    35]\n",
      " [   34  9206     0     0     0     1     0]\n",
      " [    0     0  3000     0     0     0     0]\n",
      " [   18     0     0   275     0     0     0]\n",
      " [    2     0     0     0     3     0     0]\n",
      " [    7     3     0     0     0  2065     0]\n",
      " [   16     3     0     0     0    12   296]]\n"
     ]
    }
   ],
   "source": [
    "get_metrics(test_y, y_hat)"
   ]
  },
  {
   "cell_type": "code",
   "execution_count": 266,
   "id": "57f67678",
   "metadata": {},
   "outputs": [
    {
     "name": "stdout",
     "output_type": "stream",
     "text": [
      "              precision    recall  f1-score       support\n",
      "0              0.993883  0.962815  0.978102  13500.000000\n",
      "1              0.980198  0.996321  0.988194   9241.000000\n",
      "2              0.996347  1.000000  0.998170   3000.000000\n",
      "3              0.638009  0.962457  0.767347    293.000000\n",
      "4              1.000000  0.600000  0.750000      5.000000\n",
      "5              0.940585  0.991807  0.965517   2075.000000\n",
      "6              0.898773  0.896024  0.897397    327.000000\n",
      "accuracy       0.978904  0.978904  0.978904      0.978904\n",
      "macro avg      0.921114  0.915632  0.906390  28441.000000\n",
      "weighted avg   0.981049  0.978904  0.979440  28441.000000\n",
      "[[12998   181    11   160     0   117    33]\n",
      " [   33  9207     0     0     0     1     0]\n",
      " [    0     0  3000     0     0     0     0]\n",
      " [   11     0     0   282     0     0     0]\n",
      " [    2     0     0     0     3     0     0]\n",
      " [   15     2     0     0     0  2058     0]\n",
      " [   19     3     0     0     0    12   293]]\n"
     ]
    }
   ],
   "source": [
    "get_metrics(test_y, y_hat)"
   ]
  },
  {
   "cell_type": "code",
   "execution_count": 260,
   "id": "864d25a4",
   "metadata": {},
   "outputs": [
    {
     "name": "stdout",
     "output_type": "stream",
     "text": [
      "              precision    recall  f1-score       support\n",
      "0              0.989948  0.962963  0.976269  13500.000000\n",
      "1              0.979464  0.996104  0.987714   9241.000000\n",
      "2              0.996016  1.000000  0.998004   3000.000000\n",
      "3              0.601064  0.771331  0.675635    293.000000\n",
      "4              1.000000  0.600000  0.750000      5.000000\n",
      "5              0.941042  0.992289  0.965986   2075.000000\n",
      "6              0.885542  0.899083  0.892261    327.000000\n",
      "accuracy       0.977005  0.977005  0.977005      0.977005\n",
      "macro avg      0.913297  0.888824  0.892267  28441.000000\n",
      "weighted avg   0.978409  0.977005  0.977427  28441.000000\n",
      "[[13000   185    12   150     0   116    37]\n",
      " [   34  9205     0     0     0     1     1]\n",
      " [    0     0  3000     0     0     0     0]\n",
      " [   67     0     0   226     0     0     0]\n",
      " [    2     0     0     0     3     0     0]\n",
      " [   14     2     0     0     0  2059     0]\n",
      " [   15     6     0     0     0    12   294]]\n"
     ]
    }
   ],
   "source": [
    "get_metrics(test_y, y_hat)"
   ]
  },
  {
   "cell_type": "code",
   "execution_count": 254,
   "id": "58770481",
   "metadata": {},
   "outputs": [
    {
     "name": "stdout",
     "output_type": "stream",
     "text": [
      "              precision    recall  f1-score       support\n",
      "0              0.989918  0.967333  0.978495  13500.000000\n",
      "1              0.979653  0.989936  0.984768   9241.000000\n",
      "2              0.996678  1.000000  0.998336   3000.000000\n",
      "3              0.785311  0.948805  0.859351    293.000000\n",
      "4              1.000000  0.600000  0.750000      5.000000\n",
      "5              0.925694  0.996627  0.959851   2075.000000\n",
      "6              0.906452  0.859327  0.882261    327.000000\n",
      "accuracy       0.978763  0.978763  0.978763      0.978763\n",
      "macro avg      0.940529  0.908861  0.916152  28441.000000\n",
      "weighted avg   0.979544  0.978763  0.978892  28441.000000\n",
      "[[13059   182    10    76     0   144    29]\n",
      " [   92  9148     0     0     0     1     0]\n",
      " [    0     0  3000     0     0     0     0]\n",
      " [   15     0     0   278     0     0     0]\n",
      " [    2     0     0     0     3     0     0]\n",
      " [    4     3     0     0     0  2068     0]\n",
      " [   20     5     0     0     0    21   281]]\n"
     ]
    }
   ],
   "source": [
    "get_metrics(test_y, y_hat)"
   ]
  },
  {
   "cell_type": "code",
   "execution_count": 238,
   "id": "b329d001",
   "metadata": {},
   "outputs": [
    {
     "name": "stdout",
     "output_type": "stream",
     "text": [
      "              precision    recall  f1-score       support\n",
      "0              0.992030  0.968148  0.979944  13500.000000\n",
      "1              0.975294  0.995347  0.985219   9241.000000\n",
      "2              0.994360  0.999000  0.996674   3000.000000\n",
      "3              0.910072  0.863481  0.886165    293.000000\n",
      "4              1.000000  0.400000  0.571429      5.000000\n",
      "5              0.931736  0.993253  0.961512   2075.000000\n",
      "6              0.875380  0.880734  0.878049    327.000000\n",
      "accuracy       0.979888  0.979888  0.979888      0.979888\n",
      "macro avg      0.954125  0.871423  0.894141  28441.000000\n",
      "weighted avg   0.980255  0.979888  0.979868  28441.000000\n",
      "[[13070   218    17    25     0   130    40]\n",
      " [   41  9198     0     0     0     1     1]\n",
      " [    1     2  2997     0     0     0     0]\n",
      " [   40     0     0   253     0     0     0]\n",
      " [    3     0     0     0     2     0     0]\n",
      " [    8     6     0     0     0  2061     0]\n",
      " [   12     7     0     0     0    20   288]]\n"
     ]
    }
   ],
   "source": [
    "get_metrics(test_y, y_hat)"
   ]
  },
  {
   "cell_type": "code",
   "execution_count": 198,
   "id": "12d32a69",
   "metadata": {},
   "outputs": [
    {
     "name": "stdout",
     "output_type": "stream",
     "text": [
      "              precision    recall  f1-score      support\n",
      "0              0.993439  0.964519  0.978765  13500.00000\n",
      "1              0.998663  0.996000  0.997330   3000.00000\n",
      "2              0.993371  0.999000  0.996177   3000.00000\n",
      "3              0.733871  0.931741  0.821053    293.00000\n",
      "4              1.000000  0.600000  0.750000      5.00000\n",
      "5              0.986722  0.999160  0.992902   1190.00000\n",
      "6              0.871821  0.968362  0.917559    885.00000\n",
      "7              0.989535  0.978161  0.983815    870.00000\n",
      "8              0.978443  0.990303  0.984337    825.00000\n",
      "9              0.936110  0.996333  0.965283   3000.00000\n",
      "10             0.990956  0.993523  0.992238   1544.00000\n",
      "11             1.000000  1.000000  1.000000      2.00000\n",
      "12             0.632911  0.884956  0.738007    226.00000\n",
      "13             1.000000  0.020408  0.040000     98.00000\n",
      "14             0.166667  0.333333  0.222222      3.00000\n",
      "accuracy       0.974790  0.974790  0.974790      0.97479\n",
      "macro avg      0.884834  0.843720  0.825313  28441.00000\n",
      "weighted avg   0.977579  0.974790  0.973981  28441.00000\n",
      "[[13021     3    13    92     0    14   110     3     5   197     8     0\n",
      "     33     0     1]\n",
      " [    6  2988     0     5     0     0     0     0     1     0     0     0\n",
      "      0     0     0]\n",
      " [    2     0  2997     0     0     0     1     0     0     0     0     0\n",
      "      0     0     0]\n",
      " [   20     0     0   273     0     0     0     0     0     0     0     0\n",
      "      0     0     0]\n",
      " [    2     0     0     0     3     0     0     0     0     0     0     0\n",
      "      0     0     0]\n",
      " [    0     0     0     0     0  1189     1     0     0     0     0     0\n",
      "      0     0     0]\n",
      " [   26     0     0     0     0     0   857     1     0     0     1     0\n",
      "      0     0     0]\n",
      " [    4     0     3     0     0     2     0   851     9     1     0     0\n",
      "      0     0     0]\n",
      " [    2     0     0     0     0     0     1     5   817     0     0     0\n",
      "      0     0     0]\n",
      " [    5     1     0     2     0     0     0     0     0  2989     3     0\n",
      "      0     0     0]\n",
      " [    2     0     3     0     0     0     0     0     3     2  1534     0\n",
      "      0     0     0]\n",
      " [    0     0     0     0     0     0     0     0     0     0     0     2\n",
      "      0     0     0]\n",
      " [   10     0     0     0     0     0    12     0     0     0     0     0\n",
      "    200     0     4]\n",
      " [    7     0     1     0     0     0     0     0     0     4     1     0\n",
      "     83     2     0]\n",
      " [    0     0     0     0     0     0     1     0     0     0     1     0\n",
      "      0     0     1]]\n"
     ]
    }
   ],
   "source": [
    "cr = classification_report(test_y, y_hat, output_dict=True)\n",
    "df = pd.DataFrame(cr).transpose()\n",
    "cm = confusion_matrix(test_y, y_hat)\n",
    "print(df)\n",
    "print(cm)"
   ]
  },
  {
   "cell_type": "code",
   "execution_count": null,
   "id": "d1a4acbb",
   "metadata": {},
   "outputs": [],
   "source": []
  },
  {
   "cell_type": "code",
   "execution_count": 137,
   "id": "fc8e0dbd",
   "metadata": {},
   "outputs": [
    {
     "name": "stdout",
     "output_type": "stream",
     "text": [
      "              precision    recall  f1-score       support\n",
      "0              0.993320  0.958222  0.975455  13500.000000\n",
      "1              0.997996  0.996000  0.996997   3000.000000\n",
      "2              0.948767  1.000000  0.973710   3000.000000\n",
      "3              0.959559  0.890785  0.923894    293.000000\n",
      "4              0.250000  0.400000  0.307692      5.000000\n",
      "5              0.988285  0.992437  0.990356   1190.000000\n",
      "6              0.863410  0.978531  0.917373    885.000000\n",
      "7              0.980437  0.979310  0.979873    870.000000\n",
      "8              0.979665  0.992727  0.986153    825.000000\n",
      "9              0.938539  0.997667  0.967200   3000.000000\n",
      "10             0.983974  0.994171  0.989046   1544.000000\n",
      "11             1.000000  1.000000  1.000000      2.000000\n",
      "12             0.636364  0.898230  0.744954    226.000000\n",
      "13             0.875000  0.071429  0.132075     98.000000\n",
      "14             1.000000  0.333333  0.500000      3.000000\n",
      "accuracy       0.972047  0.972047  0.972047      0.972047\n",
      "macro avg      0.893021  0.832190  0.825652  28441.000000\n",
      "weighted avg   0.974063  0.972047  0.971237  28441.000000\n",
      "[[12936     3   162    11     6    14   121     4     6   188    16     0\n",
      "     32     1     0]\n",
      " [   12  2988     0     0     0     0     0     0     0     0     0     0\n",
      "      0     0     0]\n",
      " [    0     0  3000     0     0     0     0     0     0     0     0     0\n",
      "      0     0     0]\n",
      " [   32     0     0   261     0     0     0     0     0     0     0     0\n",
      "      0     0     0]\n",
      " [    3     0     0     0     2     0     0     0     0     0     0     0\n",
      "      0     0     0]\n",
      " [    1     0     0     0     0  1181     0     8     0     0     0     0\n",
      "      0     0     0]\n",
      " [   14     0     0     0     0     0   866     1     0     1     3     0\n",
      "      0     0     0]\n",
      " [    9     0     0     0     0     0     0   852     8     1     0     0\n",
      "      0     0     0]\n",
      " [    0     0     0     0     0     0     1     4   819     0     1     0\n",
      "      0     0     0]\n",
      " [    4     1     0     0     0     0     0     0     0  2993     2     0\n",
      "      0     0     0]\n",
      " [    2     2     0     0     0     0     0     0     3     2  1535     0\n",
      "      0     0     0]\n",
      " [    0     0     0     0     0     0     0     0     0     0     0     2\n",
      "      0     0     0]\n",
      " [    9     0     0     0     0     0    14     0     0     0     0     0\n",
      "    203     0     0]\n",
      " [    1     0     0     0     0     0     0     0     0     4     2     0\n",
      "     84     7     0]\n",
      " [    0     0     0     0     0     0     1     0     0     0     1     0\n",
      "      0     0     1]]\n"
     ]
    }
   ],
   "source": [
    "cr = classification_report(test_y, y_hat, output_dict=True)\n",
    "df = pd.DataFrame(cr).transpose()\n",
    "cm = confusion_matrix(test_y, y_hat)\n",
    "print(df)\n",
    "print(cm)"
   ]
  },
  {
   "cell_type": "code",
   "execution_count": null,
   "id": "4b9ac210",
   "metadata": {},
   "outputs": [],
   "source": []
  },
  {
   "cell_type": "code",
   "execution_count": 73,
   "id": "3d47909d",
   "metadata": {},
   "outputs": [
    {
     "name": "stdout",
     "output_type": "stream",
     "text": [
      "              precision    recall  f1-score       support\n",
      "0              0.993732  0.962963  0.978105  13500.000000\n",
      "1              0.967446  0.994512  0.980792  14941.000000\n",
      "accuracy       0.979537  0.979537  0.979537      0.979537\n",
      "macro avg      0.980589  0.978737  0.979449  28441.000000\n",
      "weighted avg   0.979923  0.979537  0.979517  28441.000000\n",
      "[[13000   500]\n",
      " [   82 14859]]\n"
     ]
    }
   ],
   "source": [
    "cr = classification_report(test_y, y_hat, output_dict=True)\n",
    "df = pd.DataFrame(cr).transpose()\n",
    "cm = confusion_matrix(test_y, y_hat)\n",
    "print(df)\n",
    "print(cm)"
   ]
  },
  {
   "cell_type": "code",
   "execution_count": 57,
   "id": "b0f9f67d",
   "metadata": {},
   "outputs": [
    {
     "name": "stdout",
     "output_type": "stream",
     "text": [
      "              precision    recall  f1-score       support\n",
      "0              0.995864  0.963185  0.979252  13500.000000\n",
      "1              0.967694  0.996386  0.981830  14941.000000\n",
      "accuracy       0.980627  0.980627  0.980627      0.980627\n",
      "macro avg      0.981779  0.979785  0.980541  28441.000000\n",
      "weighted avg   0.981065  0.980627  0.980606  28441.000000\n",
      "[[13003   497]\n",
      " [   54 14887]]\n"
     ]
    }
   ],
   "source": [
    "cr = classification_report(test_y, y_hat, output_dict=True)\n",
    "df = pd.DataFrame(cr).transpose()\n",
    "cm = confusion_matrix(test_y, y_hat)\n",
    "print(df)\n",
    "print(cm)"
   ]
  },
  {
   "cell_type": "code",
   "execution_count": 48,
   "id": "b106374c",
   "metadata": {},
   "outputs": [
    {
     "data": {
      "text/html": [
       "<div>\n",
       "<style scoped>\n",
       "    .dataframe tbody tr th:only-of-type {\n",
       "        vertical-align: middle;\n",
       "    }\n",
       "\n",
       "    .dataframe tbody tr th {\n",
       "        vertical-align: top;\n",
       "    }\n",
       "\n",
       "    .dataframe thead th {\n",
       "        text-align: right;\n",
       "    }\n",
       "</style>\n",
       "<table border=\"1\" class=\"dataframe\">\n",
       "  <thead>\n",
       "    <tr style=\"text-align: right;\">\n",
       "      <th></th>\n",
       "      <th>precision</th>\n",
       "      <th>recall</th>\n",
       "      <th>f1-score</th>\n",
       "      <th>support</th>\n",
       "    </tr>\n",
       "  </thead>\n",
       "  <tbody>\n",
       "    <tr>\n",
       "      <th>0</th>\n",
       "      <td>0.995899</td>\n",
       "      <td>0.953407</td>\n",
       "      <td>0.974190</td>\n",
       "      <td>13500.000000</td>\n",
       "    </tr>\n",
       "    <tr>\n",
       "      <th>1</th>\n",
       "      <td>0.959464</td>\n",
       "      <td>0.996453</td>\n",
       "      <td>0.977609</td>\n",
       "      <td>14941.000000</td>\n",
       "    </tr>\n",
       "    <tr>\n",
       "      <th>accuracy</th>\n",
       "      <td>0.976021</td>\n",
       "      <td>0.976021</td>\n",
       "      <td>0.976021</td>\n",
       "      <td>0.976021</td>\n",
       "    </tr>\n",
       "    <tr>\n",
       "      <th>macro avg</th>\n",
       "      <td>0.977681</td>\n",
       "      <td>0.974930</td>\n",
       "      <td>0.975899</td>\n",
       "      <td>28441.000000</td>\n",
       "    </tr>\n",
       "    <tr>\n",
       "      <th>weighted avg</th>\n",
       "      <td>0.976758</td>\n",
       "      <td>0.976021</td>\n",
       "      <td>0.975986</td>\n",
       "      <td>28441.000000</td>\n",
       "    </tr>\n",
       "  </tbody>\n",
       "</table>\n",
       "</div>"
      ],
      "text/plain": [
       "              precision    recall  f1-score       support\n",
       "0              0.995899  0.953407  0.974190  13500.000000\n",
       "1              0.959464  0.996453  0.977609  14941.000000\n",
       "accuracy       0.976021  0.976021  0.976021      0.976021\n",
       "macro avg      0.977681  0.974930  0.975899  28441.000000\n",
       "weighted avg   0.976758  0.976021  0.975986  28441.000000"
      ]
     },
     "execution_count": 48,
     "metadata": {},
     "output_type": "execute_result"
    }
   ],
   "source": [
    "cr = classification_report(test_y, y_hat, output_dict=True)\n",
    "df = pd.DataFrame(cr).transpose()\n",
    "cm = confusion_matrix(test_y, y_hat)\n",
    "print(cr)\n",
    "print(cm)"
   ]
  },
  {
   "cell_type": "code",
   "execution_count": 30,
   "id": "3c421da2",
   "metadata": {},
   "outputs": [
    {
     "data": {
      "text/html": [
       "<div>\n",
       "<style scoped>\n",
       "    .dataframe tbody tr th:only-of-type {\n",
       "        vertical-align: middle;\n",
       "    }\n",
       "\n",
       "    .dataframe tbody tr th {\n",
       "        vertical-align: top;\n",
       "    }\n",
       "\n",
       "    .dataframe thead th {\n",
       "        text-align: right;\n",
       "    }\n",
       "</style>\n",
       "<table border=\"1\" class=\"dataframe\">\n",
       "  <thead>\n",
       "    <tr style=\"text-align: right;\">\n",
       "      <th></th>\n",
       "      <th>precision</th>\n",
       "      <th>recall</th>\n",
       "      <th>f1-score</th>\n",
       "      <th>support</th>\n",
       "    </tr>\n",
       "  </thead>\n",
       "  <tbody>\n",
       "    <tr>\n",
       "      <th>0</th>\n",
       "      <td>0.993712</td>\n",
       "      <td>0.959926</td>\n",
       "      <td>0.976527</td>\n",
       "      <td>13500.000000</td>\n",
       "    </tr>\n",
       "    <tr>\n",
       "      <th>1</th>\n",
       "      <td>0.964870</td>\n",
       "      <td>0.994512</td>\n",
       "      <td>0.979467</td>\n",
       "      <td>14941.000000</td>\n",
       "    </tr>\n",
       "    <tr>\n",
       "      <th>accuracy</th>\n",
       "      <td>0.978095</td>\n",
       "      <td>0.978095</td>\n",
       "      <td>0.978095</td>\n",
       "      <td>0.978095</td>\n",
       "    </tr>\n",
       "    <tr>\n",
       "      <th>macro avg</th>\n",
       "      <td>0.979291</td>\n",
       "      <td>0.977219</td>\n",
       "      <td>0.977997</td>\n",
       "      <td>28441.000000</td>\n",
       "    </tr>\n",
       "    <tr>\n",
       "      <th>weighted avg</th>\n",
       "      <td>0.978560</td>\n",
       "      <td>0.978095</td>\n",
       "      <td>0.978071</td>\n",
       "      <td>28441.000000</td>\n",
       "    </tr>\n",
       "  </tbody>\n",
       "</table>\n",
       "</div>"
      ],
      "text/plain": [
       "              precision    recall  f1-score       support\n",
       "0              0.993712  0.959926  0.976527  13500.000000\n",
       "1              0.964870  0.994512  0.979467  14941.000000\n",
       "accuracy       0.978095  0.978095  0.978095      0.978095\n",
       "macro avg      0.979291  0.977219  0.977997  28441.000000\n",
       "weighted avg   0.978560  0.978095  0.978071  28441.000000"
      ]
     },
     "execution_count": 30,
     "metadata": {},
     "output_type": "execute_result"
    }
   ],
   "source": [
    "cr = classification_report(test_y, y_hat, output_dict=True)\n",
    "df = pd.DataFrame(cr).transpose()\n",
    "df"
   ]
  },
  {
   "cell_type": "code",
   "execution_count": 78,
   "id": "1a4c4e06",
   "metadata": {},
   "outputs": [
    {
     "data": {
      "text/html": [
       "<div>\n",
       "<style scoped>\n",
       "    .dataframe tbody tr th:only-of-type {\n",
       "        vertical-align: middle;\n",
       "    }\n",
       "\n",
       "    .dataframe tbody tr th {\n",
       "        vertical-align: top;\n",
       "    }\n",
       "\n",
       "    .dataframe thead th {\n",
       "        text-align: right;\n",
       "    }\n",
       "</style>\n",
       "<table border=\"1\" class=\"dataframe\">\n",
       "  <thead>\n",
       "    <tr style=\"text-align: right;\">\n",
       "      <th></th>\n",
       "      <th>precision</th>\n",
       "      <th>recall</th>\n",
       "      <th>f1-score</th>\n",
       "      <th>support</th>\n",
       "    </tr>\n",
       "  </thead>\n",
       "  <tbody>\n",
       "    <tr>\n",
       "      <th>0</th>\n",
       "      <td>0.977834</td>\n",
       "      <td>0.977037</td>\n",
       "      <td>0.977435</td>\n",
       "      <td>13500.000000</td>\n",
       "    </tr>\n",
       "    <tr>\n",
       "      <th>1</th>\n",
       "      <td>0.997335</td>\n",
       "      <td>0.998000</td>\n",
       "      <td>0.997667</td>\n",
       "      <td>3000.000000</td>\n",
       "    </tr>\n",
       "    <tr>\n",
       "      <th>2</th>\n",
       "      <td>0.996012</td>\n",
       "      <td>0.999000</td>\n",
       "      <td>0.997504</td>\n",
       "      <td>3000.000000</td>\n",
       "    </tr>\n",
       "    <tr>\n",
       "      <th>3</th>\n",
       "      <td>0.939560</td>\n",
       "      <td>0.583618</td>\n",
       "      <td>0.720000</td>\n",
       "      <td>293.000000</td>\n",
       "    </tr>\n",
       "    <tr>\n",
       "      <th>4</th>\n",
       "      <td>1.000000</td>\n",
       "      <td>0.600000</td>\n",
       "      <td>0.750000</td>\n",
       "      <td>5.000000</td>\n",
       "    </tr>\n",
       "    <tr>\n",
       "      <th>5</th>\n",
       "      <td>0.997485</td>\n",
       "      <td>1.000000</td>\n",
       "      <td>0.998741</td>\n",
       "      <td>1190.000000</td>\n",
       "    </tr>\n",
       "    <tr>\n",
       "      <th>6</th>\n",
       "      <td>0.873992</td>\n",
       "      <td>0.979661</td>\n",
       "      <td>0.923815</td>\n",
       "      <td>885.000000</td>\n",
       "    </tr>\n",
       "    <tr>\n",
       "      <th>7</th>\n",
       "      <td>0.981588</td>\n",
       "      <td>0.980460</td>\n",
       "      <td>0.981024</td>\n",
       "      <td>870.000000</td>\n",
       "    </tr>\n",
       "    <tr>\n",
       "      <th>8</th>\n",
       "      <td>0.980838</td>\n",
       "      <td>0.992727</td>\n",
       "      <td>0.986747</td>\n",
       "      <td>825.000000</td>\n",
       "    </tr>\n",
       "    <tr>\n",
       "      <th>9</th>\n",
       "      <td>0.959468</td>\n",
       "      <td>0.986333</td>\n",
       "      <td>0.972715</td>\n",
       "      <td>3000.000000</td>\n",
       "    </tr>\n",
       "    <tr>\n",
       "      <th>10</th>\n",
       "      <td>0.992899</td>\n",
       "      <td>0.996114</td>\n",
       "      <td>0.994504</td>\n",
       "      <td>1544.000000</td>\n",
       "    </tr>\n",
       "    <tr>\n",
       "      <th>11</th>\n",
       "      <td>1.000000</td>\n",
       "      <td>1.000000</td>\n",
       "      <td>1.000000</td>\n",
       "      <td>2.000000</td>\n",
       "    </tr>\n",
       "    <tr>\n",
       "      <th>12</th>\n",
       "      <td>0.595000</td>\n",
       "      <td>0.526549</td>\n",
       "      <td>0.558685</td>\n",
       "      <td>226.000000</td>\n",
       "    </tr>\n",
       "    <tr>\n",
       "      <th>13</th>\n",
       "      <td>0.322581</td>\n",
       "      <td>0.102041</td>\n",
       "      <td>0.155039</td>\n",
       "      <td>98.000000</td>\n",
       "    </tr>\n",
       "    <tr>\n",
       "      <th>14</th>\n",
       "      <td>1.000000</td>\n",
       "      <td>0.333333</td>\n",
       "      <td>0.500000</td>\n",
       "      <td>3.000000</td>\n",
       "    </tr>\n",
       "    <tr>\n",
       "      <th>accuracy</th>\n",
       "      <td>0.974403</td>\n",
       "      <td>0.974403</td>\n",
       "      <td>0.974403</td>\n",
       "      <td>0.974403</td>\n",
       "    </tr>\n",
       "    <tr>\n",
       "      <th>macro avg</th>\n",
       "      <td>0.907639</td>\n",
       "      <td>0.803658</td>\n",
       "      <td>0.834258</td>\n",
       "      <td>28441.000000</td>\n",
       "    </tr>\n",
       "    <tr>\n",
       "      <th>weighted avg</th>\n",
       "      <td>0.972795</td>\n",
       "      <td>0.974403</td>\n",
       "      <td>0.972816</td>\n",
       "      <td>28441.000000</td>\n",
       "    </tr>\n",
       "  </tbody>\n",
       "</table>\n",
       "</div>"
      ],
      "text/plain": [
       "              precision    recall  f1-score       support\n",
       "0              0.977834  0.977037  0.977435  13500.000000\n",
       "1              0.997335  0.998000  0.997667   3000.000000\n",
       "2              0.996012  0.999000  0.997504   3000.000000\n",
       "3              0.939560  0.583618  0.720000    293.000000\n",
       "4              1.000000  0.600000  0.750000      5.000000\n",
       "5              0.997485  1.000000  0.998741   1190.000000\n",
       "6              0.873992  0.979661  0.923815    885.000000\n",
       "7              0.981588  0.980460  0.981024    870.000000\n",
       "8              0.980838  0.992727  0.986747    825.000000\n",
       "9              0.959468  0.986333  0.972715   3000.000000\n",
       "10             0.992899  0.996114  0.994504   1544.000000\n",
       "11             1.000000  1.000000  1.000000      2.000000\n",
       "12             0.595000  0.526549  0.558685    226.000000\n",
       "13             0.322581  0.102041  0.155039     98.000000\n",
       "14             1.000000  0.333333  0.500000      3.000000\n",
       "accuracy       0.974403  0.974403  0.974403      0.974403\n",
       "macro avg      0.907639  0.803658  0.834258  28441.000000\n",
       "weighted avg   0.972795  0.974403  0.972816  28441.000000"
      ]
     },
     "execution_count": 78,
     "metadata": {},
     "output_type": "execute_result"
    }
   ],
   "source": [
    "cr = classification_report(test_y, y_hat, output_dict=True)\n",
    "df = pd.DataFrame(cr).transpose()\n",
    "df"
   ]
  },
  {
   "cell_type": "code",
   "execution_count": 71,
   "id": "d7c97f89",
   "metadata": {},
   "outputs": [
    {
     "data": {
      "text/html": [
       "<div>\n",
       "<style scoped>\n",
       "    .dataframe tbody tr th:only-of-type {\n",
       "        vertical-align: middle;\n",
       "    }\n",
       "\n",
       "    .dataframe tbody tr th {\n",
       "        vertical-align: top;\n",
       "    }\n",
       "\n",
       "    .dataframe thead th {\n",
       "        text-align: right;\n",
       "    }\n",
       "</style>\n",
       "<table border=\"1\" class=\"dataframe\">\n",
       "  <thead>\n",
       "    <tr style=\"text-align: right;\">\n",
       "      <th></th>\n",
       "      <th>precision</th>\n",
       "      <th>recall</th>\n",
       "      <th>f1-score</th>\n",
       "      <th>support</th>\n",
       "    </tr>\n",
       "  </thead>\n",
       "  <tbody>\n",
       "    <tr>\n",
       "      <th>0</th>\n",
       "      <td>0.980763</td>\n",
       "      <td>0.966815</td>\n",
       "      <td>0.973739</td>\n",
       "      <td>13500.000000</td>\n",
       "    </tr>\n",
       "    <tr>\n",
       "      <th>1</th>\n",
       "      <td>0.997667</td>\n",
       "      <td>0.997667</td>\n",
       "      <td>0.997667</td>\n",
       "      <td>3000.000000</td>\n",
       "    </tr>\n",
       "    <tr>\n",
       "      <th>2</th>\n",
       "      <td>0.993679</td>\n",
       "      <td>0.995667</td>\n",
       "      <td>0.994672</td>\n",
       "      <td>3000.000000</td>\n",
       "    </tr>\n",
       "    <tr>\n",
       "      <th>3</th>\n",
       "      <td>0.669065</td>\n",
       "      <td>0.952218</td>\n",
       "      <td>0.785915</td>\n",
       "      <td>293.000000</td>\n",
       "    </tr>\n",
       "    <tr>\n",
       "      <th>4</th>\n",
       "      <td>0.666667</td>\n",
       "      <td>0.400000</td>\n",
       "      <td>0.500000</td>\n",
       "      <td>5.000000</td>\n",
       "    </tr>\n",
       "    <tr>\n",
       "      <th>5</th>\n",
       "      <td>0.994147</td>\n",
       "      <td>0.999160</td>\n",
       "      <td>0.996647</td>\n",
       "      <td>1190.000000</td>\n",
       "    </tr>\n",
       "    <tr>\n",
       "      <th>6</th>\n",
       "      <td>0.855000</td>\n",
       "      <td>0.966102</td>\n",
       "      <td>0.907162</td>\n",
       "      <td>885.000000</td>\n",
       "    </tr>\n",
       "    <tr>\n",
       "      <th>7</th>\n",
       "      <td>0.977038</td>\n",
       "      <td>0.978161</td>\n",
       "      <td>0.977599</td>\n",
       "      <td>870.000000</td>\n",
       "    </tr>\n",
       "    <tr>\n",
       "      <th>8</th>\n",
       "      <td>0.972684</td>\n",
       "      <td>0.992727</td>\n",
       "      <td>0.982603</td>\n",
       "      <td>825.000000</td>\n",
       "    </tr>\n",
       "    <tr>\n",
       "      <th>9</th>\n",
       "      <td>0.968963</td>\n",
       "      <td>0.947000</td>\n",
       "      <td>0.957856</td>\n",
       "      <td>3000.000000</td>\n",
       "    </tr>\n",
       "    <tr>\n",
       "      <th>10</th>\n",
       "      <td>0.995437</td>\n",
       "      <td>0.988990</td>\n",
       "      <td>0.992203</td>\n",
       "      <td>1544.000000</td>\n",
       "    </tr>\n",
       "    <tr>\n",
       "      <th>11</th>\n",
       "      <td>1.000000</td>\n",
       "      <td>1.000000</td>\n",
       "      <td>1.000000</td>\n",
       "      <td>2.000000</td>\n",
       "    </tr>\n",
       "    <tr>\n",
       "      <th>12</th>\n",
       "      <td>0.626543</td>\n",
       "      <td>0.898230</td>\n",
       "      <td>0.738182</td>\n",
       "      <td>226.000000</td>\n",
       "    </tr>\n",
       "    <tr>\n",
       "      <th>13</th>\n",
       "      <td>1.000000</td>\n",
       "      <td>0.051020</td>\n",
       "      <td>0.097087</td>\n",
       "      <td>98.000000</td>\n",
       "    </tr>\n",
       "    <tr>\n",
       "      <th>14</th>\n",
       "      <td>1.000000</td>\n",
       "      <td>0.333333</td>\n",
       "      <td>0.500000</td>\n",
       "      <td>3.000000</td>\n",
       "    </tr>\n",
       "    <tr>\n",
       "      <th>accuracy</th>\n",
       "      <td>0.970641</td>\n",
       "      <td>0.970641</td>\n",
       "      <td>0.970641</td>\n",
       "      <td>0.970641</td>\n",
       "    </tr>\n",
       "    <tr>\n",
       "      <th>macro avg</th>\n",
       "      <td>0.913177</td>\n",
       "      <td>0.831139</td>\n",
       "      <td>0.826755</td>\n",
       "      <td>28441.000000</td>\n",
       "    </tr>\n",
       "    <tr>\n",
       "      <th>weighted avg</th>\n",
       "      <td>0.973748</td>\n",
       "      <td>0.970641</td>\n",
       "      <td>0.970101</td>\n",
       "      <td>28441.000000</td>\n",
       "    </tr>\n",
       "  </tbody>\n",
       "</table>\n",
       "</div>"
      ],
      "text/plain": [
       "              precision    recall  f1-score       support\n",
       "0              0.980763  0.966815  0.973739  13500.000000\n",
       "1              0.997667  0.997667  0.997667   3000.000000\n",
       "2              0.993679  0.995667  0.994672   3000.000000\n",
       "3              0.669065  0.952218  0.785915    293.000000\n",
       "4              0.666667  0.400000  0.500000      5.000000\n",
       "5              0.994147  0.999160  0.996647   1190.000000\n",
       "6              0.855000  0.966102  0.907162    885.000000\n",
       "7              0.977038  0.978161  0.977599    870.000000\n",
       "8              0.972684  0.992727  0.982603    825.000000\n",
       "9              0.968963  0.947000  0.957856   3000.000000\n",
       "10             0.995437  0.988990  0.992203   1544.000000\n",
       "11             1.000000  1.000000  1.000000      2.000000\n",
       "12             0.626543  0.898230  0.738182    226.000000\n",
       "13             1.000000  0.051020  0.097087     98.000000\n",
       "14             1.000000  0.333333  0.500000      3.000000\n",
       "accuracy       0.970641  0.970641  0.970641      0.970641\n",
       "macro avg      0.913177  0.831139  0.826755  28441.000000\n",
       "weighted avg   0.973748  0.970641  0.970101  28441.000000"
      ]
     },
     "execution_count": 71,
     "metadata": {},
     "output_type": "execute_result"
    }
   ],
   "source": [
    "cr = classification_report(test_y, y_hat, output_dict=True)\n",
    "df = pd.DataFrame(cr).transpose()\n",
    "df"
   ]
  },
  {
   "cell_type": "code",
   "execution_count": 176,
   "id": "a1b5e4f5",
   "metadata": {},
   "outputs": [
    {
     "data": {
      "text/html": [
       "<div>\n",
       "<style scoped>\n",
       "    .dataframe tbody tr th:only-of-type {\n",
       "        vertical-align: middle;\n",
       "    }\n",
       "\n",
       "    .dataframe tbody tr th {\n",
       "        vertical-align: top;\n",
       "    }\n",
       "\n",
       "    .dataframe thead th {\n",
       "        text-align: right;\n",
       "    }\n",
       "</style>\n",
       "<table border=\"1\" class=\"dataframe\">\n",
       "  <thead>\n",
       "    <tr style=\"text-align: right;\">\n",
       "      <th></th>\n",
       "      <th>precision</th>\n",
       "      <th>recall</th>\n",
       "      <th>f1-score</th>\n",
       "      <th>support</th>\n",
       "    </tr>\n",
       "  </thead>\n",
       "  <tbody>\n",
       "    <tr>\n",
       "      <th>0</th>\n",
       "      <td>0.899637</td>\n",
       "      <td>0.918296</td>\n",
       "      <td>0.908871</td>\n",
       "      <td>13500.000000</td>\n",
       "    </tr>\n",
       "    <tr>\n",
       "      <th>1</th>\n",
       "      <td>0.924766</td>\n",
       "      <td>0.907436</td>\n",
       "      <td>0.916019</td>\n",
       "      <td>14941.000000</td>\n",
       "    </tr>\n",
       "    <tr>\n",
       "      <th>accuracy</th>\n",
       "      <td>0.912591</td>\n",
       "      <td>0.912591</td>\n",
       "      <td>0.912591</td>\n",
       "      <td>0.912591</td>\n",
       "    </tr>\n",
       "    <tr>\n",
       "      <th>macro avg</th>\n",
       "      <td>0.912202</td>\n",
       "      <td>0.912866</td>\n",
       "      <td>0.912445</td>\n",
       "      <td>28441.000000</td>\n",
       "    </tr>\n",
       "    <tr>\n",
       "      <th>weighted avg</th>\n",
       "      <td>0.912838</td>\n",
       "      <td>0.912591</td>\n",
       "      <td>0.912626</td>\n",
       "      <td>28441.000000</td>\n",
       "    </tr>\n",
       "  </tbody>\n",
       "</table>\n",
       "</div>"
      ],
      "text/plain": [
       "              precision    recall  f1-score       support\n",
       "0              0.899637  0.918296  0.908871  13500.000000\n",
       "1              0.924766  0.907436  0.916019  14941.000000\n",
       "accuracy       0.912591  0.912591  0.912591      0.912591\n",
       "macro avg      0.912202  0.912866  0.912445  28441.000000\n",
       "weighted avg   0.912838  0.912591  0.912626  28441.000000"
      ]
     },
     "execution_count": 176,
     "metadata": {},
     "output_type": "execute_result"
    }
   ],
   "source": [
    "cr = classification_report(test_y, y_hat, output_dict=True)\n",
    "df = pd.DataFrame(cr).transpose()\n",
    "df"
   ]
  },
  {
   "cell_type": "code",
   "execution_count": 30,
   "id": "39d1440f",
   "metadata": {},
   "outputs": [
    {
     "data": {
      "text/html": [
       "<div>\n",
       "<style scoped>\n",
       "    .dataframe tbody tr th:only-of-type {\n",
       "        vertical-align: middle;\n",
       "    }\n",
       "\n",
       "    .dataframe tbody tr th {\n",
       "        vertical-align: top;\n",
       "    }\n",
       "\n",
       "    .dataframe thead th {\n",
       "        text-align: right;\n",
       "    }\n",
       "</style>\n",
       "<table border=\"1\" class=\"dataframe\">\n",
       "  <thead>\n",
       "    <tr style=\"text-align: right;\">\n",
       "      <th></th>\n",
       "      <th>precision</th>\n",
       "      <th>recall</th>\n",
       "      <th>f1-score</th>\n",
       "      <th>support</th>\n",
       "    </tr>\n",
       "  </thead>\n",
       "  <tbody>\n",
       "    <tr>\n",
       "      <th>0</th>\n",
       "      <td>0.523932</td>\n",
       "      <td>0.952333</td>\n",
       "      <td>0.675973</td>\n",
       "      <td>3000.000000</td>\n",
       "    </tr>\n",
       "    <tr>\n",
       "      <th>1</th>\n",
       "      <td>0.999584</td>\n",
       "      <td>0.801000</td>\n",
       "      <td>0.889341</td>\n",
       "      <td>3000.000000</td>\n",
       "    </tr>\n",
       "    <tr>\n",
       "      <th>2</th>\n",
       "      <td>0.953615</td>\n",
       "      <td>0.993667</td>\n",
       "      <td>0.973229</td>\n",
       "      <td>3000.000000</td>\n",
       "    </tr>\n",
       "    <tr>\n",
       "      <th>3</th>\n",
       "      <td>0.972222</td>\n",
       "      <td>0.358362</td>\n",
       "      <td>0.523691</td>\n",
       "      <td>293.000000</td>\n",
       "    </tr>\n",
       "    <tr>\n",
       "      <th>4</th>\n",
       "      <td>0.000000</td>\n",
       "      <td>0.000000</td>\n",
       "      <td>0.000000</td>\n",
       "      <td>5.000000</td>\n",
       "    </tr>\n",
       "    <tr>\n",
       "      <th>5</th>\n",
       "      <td>0.998724</td>\n",
       "      <td>0.657983</td>\n",
       "      <td>0.793313</td>\n",
       "      <td>1190.000000</td>\n",
       "    </tr>\n",
       "    <tr>\n",
       "      <th>6</th>\n",
       "      <td>0.000000</td>\n",
       "      <td>0.000000</td>\n",
       "      <td>0.000000</td>\n",
       "      <td>885.000000</td>\n",
       "    </tr>\n",
       "    <tr>\n",
       "      <th>7</th>\n",
       "      <td>0.974114</td>\n",
       "      <td>0.821839</td>\n",
       "      <td>0.891521</td>\n",
       "      <td>870.000000</td>\n",
       "    </tr>\n",
       "    <tr>\n",
       "      <th>8</th>\n",
       "      <td>0.985384</td>\n",
       "      <td>0.980606</td>\n",
       "      <td>0.982989</td>\n",
       "      <td>825.000000</td>\n",
       "    </tr>\n",
       "    <tr>\n",
       "      <th>9</th>\n",
       "      <td>0.989789</td>\n",
       "      <td>0.937000</td>\n",
       "      <td>0.962671</td>\n",
       "      <td>3000.000000</td>\n",
       "    </tr>\n",
       "    <tr>\n",
       "      <th>10</th>\n",
       "      <td>0.868773</td>\n",
       "      <td>0.926166</td>\n",
       "      <td>0.896552</td>\n",
       "      <td>1544.000000</td>\n",
       "    </tr>\n",
       "    <tr>\n",
       "      <th>11</th>\n",
       "      <td>0.666667</td>\n",
       "      <td>1.000000</td>\n",
       "      <td>0.800000</td>\n",
       "      <td>2.000000</td>\n",
       "    </tr>\n",
       "    <tr>\n",
       "      <th>12</th>\n",
       "      <td>0.750000</td>\n",
       "      <td>0.039823</td>\n",
       "      <td>0.075630</td>\n",
       "      <td>226.000000</td>\n",
       "    </tr>\n",
       "    <tr>\n",
       "      <th>13</th>\n",
       "      <td>0.000000</td>\n",
       "      <td>0.000000</td>\n",
       "      <td>0.000000</td>\n",
       "      <td>98.000000</td>\n",
       "    </tr>\n",
       "    <tr>\n",
       "      <th>14</th>\n",
       "      <td>0.000000</td>\n",
       "      <td>0.000000</td>\n",
       "      <td>0.000000</td>\n",
       "      <td>3.000000</td>\n",
       "    </tr>\n",
       "    <tr>\n",
       "      <th>accuracy</th>\n",
       "      <td>0.830779</td>\n",
       "      <td>0.830779</td>\n",
       "      <td>0.830779</td>\n",
       "      <td>0.830779</td>\n",
       "    </tr>\n",
       "    <tr>\n",
       "      <th>macro avg</th>\n",
       "      <td>0.645520</td>\n",
       "      <td>0.564585</td>\n",
       "      <td>0.564327</td>\n",
       "      <td>17941.000000</td>\n",
       "    </tr>\n",
       "    <tr>\n",
       "      <th>weighted avg</th>\n",
       "      <td>0.838679</td>\n",
       "      <td>0.830779</td>\n",
       "      <td>0.813259</td>\n",
       "      <td>17941.000000</td>\n",
       "    </tr>\n",
       "  </tbody>\n",
       "</table>\n",
       "</div>"
      ],
      "text/plain": [
       "              precision    recall  f1-score       support\n",
       "0              0.523932  0.952333  0.675973   3000.000000\n",
       "1              0.999584  0.801000  0.889341   3000.000000\n",
       "2              0.953615  0.993667  0.973229   3000.000000\n",
       "3              0.972222  0.358362  0.523691    293.000000\n",
       "4              0.000000  0.000000  0.000000      5.000000\n",
       "5              0.998724  0.657983  0.793313   1190.000000\n",
       "6              0.000000  0.000000  0.000000    885.000000\n",
       "7              0.974114  0.821839  0.891521    870.000000\n",
       "8              0.985384  0.980606  0.982989    825.000000\n",
       "9              0.989789  0.937000  0.962671   3000.000000\n",
       "10             0.868773  0.926166  0.896552   1544.000000\n",
       "11             0.666667  1.000000  0.800000      2.000000\n",
       "12             0.750000  0.039823  0.075630    226.000000\n",
       "13             0.000000  0.000000  0.000000     98.000000\n",
       "14             0.000000  0.000000  0.000000      3.000000\n",
       "accuracy       0.830779  0.830779  0.830779      0.830779\n",
       "macro avg      0.645520  0.564585  0.564327  17941.000000\n",
       "weighted avg   0.838679  0.830779  0.813259  17941.000000"
      ]
     },
     "execution_count": 30,
     "metadata": {},
     "output_type": "execute_result"
    }
   ],
   "source": [
    "cr = classification_report(test_y, y_hat, output_dict=True)\n",
    "df = pd.DataFrame(cr).transpose()\n",
    "df"
   ]
  },
  {
   "cell_type": "code",
   "execution_count": 30,
   "id": "f09c2ee1",
   "metadata": {},
   "outputs": [
    {
     "name": "stderr",
     "output_type": "stream",
     "text": [
      "100%|██████████| 28/28 [00:00<00:00, 34.64it/s]\n"
     ]
    },
    {
     "name": "stdout",
     "output_type": "stream",
     "text": [
      "[2 0 0 ... 0 0 0]\n",
      "tensor([2, 0, 0,  ..., 0, 0, 0])\n",
      "              precision    recall  f1-score   support\n",
      "\n",
      "           0     0.8596    0.9609    0.9075     13500\n",
      "           1     0.9931    0.9647    0.9787      3000\n",
      "           2     0.9226    0.9927    0.9563      3000\n",
      "           3     0.6329    0.9590    0.7626       293\n",
      "           4     1.0000    0.2000    0.3333         5\n",
      "           5     0.9838    0.5109    0.6726      1190\n",
      "           6     0.6667    0.0045    0.0090       885\n",
      "           7     0.9647    0.9747    0.9697       870\n",
      "           8     0.9794    0.9818    0.9806       825\n",
      "           9     0.9849    0.8673    0.9224      3000\n",
      "          10     0.9980    0.9462    0.9714      1544\n",
      "          11     0.0000    0.0000    0.0000         2\n",
      "          12     0.5710    0.8186    0.6727       226\n",
      "          13     0.0000    0.0000    0.0000        98\n",
      "          14     0.0000    0.0000    0.0000         3\n",
      "\n",
      "    accuracy                         0.9017     28441\n",
      "   macro avg     0.7038    0.6121    0.6091     28441\n",
      "weighted avg     0.8992    0.9017    0.8847     28441\n",
      "\n",
      "[[12972     5   246   159     0    10     1    11     4    39     3     0\n",
      "     46     4     0]\n",
      " [  105  2894     0     0     0     0     0     0     0     1     0     0\n",
      "      0     0     0]\n",
      " [    2    13  2978     4     0     0     0     2     0     0     0     0\n",
      "      1     0     0]\n",
      " [   12     0     0   281     0     0     0     0     0     0     0     0\n",
      "      0     0     0]\n",
      " [    4     0     0     0     1     0     0     0     0     0     0     0\n",
      "      0     0     0]\n",
      " [  576     0     0     0     0   608     1     5     0     0     0     0\n",
      "      0     0     0]\n",
      " [  877     0     3     0     0     0     4     1     0     0     0     0\n",
      "      0     0     0]\n",
      " [   10     0     0     0     0     0     0   848    11     0     0     0\n",
      "      1     0     0]\n",
      " [    3     0     0     0     0     0     0    12   810     0     0     0\n",
      "      0     0     0]\n",
      " [  396     2     0     0     0     0     0     0     0  2602     0     0\n",
      "      0     0     0]\n",
      " [   81     0     0     0     0     0     0     0     2     0  1461     0\n",
      "      0     0     0]\n",
      " [    2     0     0     0     0     0     0     0     0     0     0     0\n",
      "      0     0     0]\n",
      " [   41     0     0     0     0     0     0     0     0     0     0     0\n",
      "    185     0     0]\n",
      " [    6     0     1     0     0     0     0     0     0     0     0     0\n",
      "     91     0     0]\n",
      " [    3     0     0     0     0     0     0     0     0     0     0     0\n",
      "      0     0     0]]\n"
     ]
    }
   ],
   "source": [
    "inferrence(model, subgraph_loader)"
   ]
  },
  {
   "cell_type": "code",
   "execution_count": 107,
   "id": "c1311362",
   "metadata": {},
   "outputs": [
    {
     "name": "stderr",
     "output_type": "stream",
     "text": [
      "\n",
      "  0%|          | 0/22 [00:00<?, ?it/s]\u001b[A\n",
      " 18%|█▊        | 4/22 [00:00<00:00, 31.91it/s]\u001b[A\n",
      " 36%|███▋      | 8/22 [00:00<00:00, 31.96it/s]\u001b[A\n",
      " 55%|█████▍    | 12/22 [00:00<00:00, 32.22it/s]\u001b[A\n",
      " 73%|███████▎  | 16/22 [00:00<00:00, 32.57it/s]\u001b[A\n",
      "100%|██████████| 22/22 [00:00<00:00, 32.48it/s]\u001b[A\n"
     ]
    },
    {
     "name": "stdout",
     "output_type": "stream",
     "text": [
      "[0 1 2 ... 1 0 2]\n",
      "tensor([0, 1, 2,  ..., 1, 0, 2])\n",
      "              precision    recall  f1-score   support\n",
      "\n",
      "           0     0.9778    0.9412    0.9592      7500\n",
      "           1     0.9793    0.9893    0.9843      9240\n",
      "           2     0.9652    0.9890    0.9770      3000\n",
      "           3     0.8594    0.9354    0.8958       294\n",
      "           4     1.0000    0.4000    0.5714         5\n",
      "           5     0.9448    0.9889    0.9663      2075\n",
      "           6     0.9156    0.8960    0.9057       327\n",
      "\n",
      "    accuracy                         0.9709     22441\n",
      "   macro avg     0.9489    0.8771    0.8942     22441\n",
      "weighted avg     0.9712    0.9709    0.9709     22441\n",
      "\n",
      "[[7059  173  104   45    0   94   25]\n",
      " [  95 9141    0    0    0    3    1]\n",
      " [  25    7 2967    0    0    0    1]\n",
      " [  19    0    0  275    0    0    0]\n",
      " [   2    1    0    0    2    0    0]\n",
      " [  15    6    2    0    0 2052    0]\n",
      " [   4    6    1    0    0   23  293]]\n"
     ]
    }
   ],
   "source": [
    "inferrence(model, subgraph_loader)"
   ]
  },
  {
   "cell_type": "code",
   "execution_count": null,
   "id": "42fa9086",
   "metadata": {},
   "outputs": [],
   "source": []
  },
  {
   "cell_type": "code",
   "execution_count": 158,
   "id": "e0d88f2f",
   "metadata": {},
   "outputs": [
    {
     "name": "stderr",
     "output_type": "stream",
     "text": [
      "100%|██████████| 28/28 [00:01<00:00, 17.11it/s]\n"
     ]
    },
    {
     "name": "stdout",
     "output_type": "stream",
     "text": [
      "[1 0 0 ... 0 0 0]\n",
      "tensor([1, 0, 0,  ..., 0, 0, 0])\n",
      "              precision    recall  f1-score   support\n",
      "\n",
      "           0     0.8286    0.9610    0.8899     13500\n",
      "           1     0.9589    0.8204    0.8842     14941\n",
      "\n",
      "    accuracy                         0.8871     28441\n",
      "   macro avg     0.8937    0.8907    0.8871     28441\n",
      "weighted avg     0.8970    0.8871    0.8869     28441\n",
      "\n",
      "[[12974   526]\n",
      " [ 2684 12257]]\n"
     ]
    }
   ],
   "source": [
    "inferrence(model, subgraph_loader)"
   ]
  },
  {
   "cell_type": "code",
   "execution_count": 523,
   "id": "80534aa4",
   "metadata": {},
   "outputs": [
    {
     "name": "stderr",
     "output_type": "stream",
     "text": [
      "100%|██████████| 22/22 [00:05<00:00,  4.05it/s]"
     ]
    },
    {
     "name": "stdout",
     "output_type": "stream",
     "text": [
      "[0 1 2 ... 1 0 2]\n",
      "tensor([0, 1, 2,  ..., 1, 0, 2])\n",
      "              precision    recall  f1-score   support\n",
      "\n",
      "           0     0.9142    0.9667    0.9397      7500\n",
      "           1     0.9942    0.9661    0.9800      9240\n",
      "           2     0.9657    0.9753    0.9705      3000\n",
      "           3     0.8132    0.9626    0.8816       294\n",
      "           4     1.0000    0.6000    0.7500         5\n",
      "           5     0.9780    0.8578    0.9140      2075\n",
      "           6     0.9366    0.9480    0.9422       327\n",
      "\n",
      "    accuracy                         0.9571     22441\n",
      "   macro avg     0.9431    0.8967    0.9111     22441\n",
      "weighted avg     0.9590    0.9571    0.9573     22441\n",
      "\n",
      "[[7250   45  104   65    0   17   19]\n",
      " [ 312 8927    0    0    0    0    1]\n",
      " [  51    1 2926    0    0   21    1]\n",
      " [  11    0    0  283    0    0    0]\n",
      " [   1    1    0    0    3    0    0]\n",
      " [ 292    3    0    0    0 1780    0]\n",
      " [  13    2    0    0    0    2  310]]\n"
     ]
    },
    {
     "name": "stderr",
     "output_type": "stream",
     "text": [
      "\n"
     ]
    }
   ],
   "source": [
    "inferrence(model, subgraph_loader)"
   ]
  },
  {
   "cell_type": "code",
   "execution_count": 515,
   "id": "7e71bddb",
   "metadata": {},
   "outputs": [
    {
     "name": "stderr",
     "output_type": "stream",
     "text": [
      "100%|██████████| 22/22 [00:00<00:00, 24.86it/s]\n"
     ]
    },
    {
     "name": "stdout",
     "output_type": "stream",
     "text": [
      "[0 1 2 ... 1 0 2]\n",
      "tensor([0, 1, 2,  ..., 1, 0, 2])\n",
      "              precision    recall  f1-score   support\n",
      "\n",
      "           0     0.9908    0.9437    0.9667      7500\n",
      "           1     0.9826    0.9963    0.9894      9240\n",
      "           2     0.9646    0.9890    0.9766      3000\n",
      "           3     0.8304    0.9660    0.8931       294\n",
      "           4     1.0000    0.6000    0.7500         5\n",
      "           5     0.9462    0.9908    0.9680      2075\n",
      "           6     0.9162    0.9358    0.9259       327\n",
      "\n",
      "    accuracy                         0.9759     22441\n",
      "   macro avg     0.9472    0.9174    0.9242     22441\n",
      "weighted avg     0.9766    0.9759    0.9759     22441\n",
      "\n",
      "[[7078  148  105   58    0   86   25]\n",
      " [  18 9206    0    0    0   15    1]\n",
      " [  20    7 2967    0    0    5    1]\n",
      " [  10    0    0  284    0    0    0]\n",
      " [   1    1    0    0    3    0    0]\n",
      " [  11    4    3    0    0 2056    1]\n",
      " [   6    3    1    0    0   11  306]]\n"
     ]
    }
   ],
   "source": [
    "inferrence(model, subgraph_loader)"
   ]
  },
  {
   "cell_type": "code",
   "execution_count": 463,
   "id": "f8805c6c",
   "metadata": {},
   "outputs": [
    {
     "name": "stderr",
     "output_type": "stream",
     "text": [
      "\n",
      "  0%|          | 0/18 [00:00<?, ?it/s]\u001b[A\n",
      " 17%|█▋        | 3/18 [00:00<00:00, 24.53it/s]\u001b[A\n",
      " 39%|███▉      | 7/18 [00:00<00:00, 28.59it/s]\u001b[A\n",
      " 61%|██████    | 11/18 [00:00<00:00, 29.74it/s]\u001b[A\n",
      "100%|██████████| 18/18 [00:00<00:00, 30.26it/s]\u001b[A"
     ]
    },
    {
     "name": "stdout",
     "output_type": "stream",
     "text": [
      "[2 1 6 ... 1 1 7]\n",
      "tensor([2, 1, 6,  ..., 1, 1, 7])\n",
      "              precision    recall  f1-score   support\n",
      "\n",
      "           0     0.7709    0.9249    0.8409      2998\n",
      "           1     0.9997    0.9750    0.9872      3000\n",
      "           2     0.9800    0.9987    0.9893      2998\n",
      "           3     0.7153    0.7201    0.7177       293\n",
      "           4     0.0769    0.4000    0.1290         5\n",
      "           5     0.7298    0.1748    0.2820      1190\n",
      "           6     0.3454    0.5186    0.4146       885\n",
      "           7     0.9564    0.9069    0.9310       870\n",
      "           8     0.9768    0.9697    0.9732       825\n",
      "           9     0.9665    0.9454    0.9558      2987\n",
      "          10     0.9980    0.9812    0.9895      1544\n",
      "          11     0.0000    0.0000    0.0000         2\n",
      "\n",
      "    accuracy                         0.8808     17597\n",
      "   macro avg     0.7096    0.7096    0.6842     17597\n",
      "weighted avg     0.8921    0.8808    0.8727     17597\n",
      "\n",
      "[[2773    1   60   83   24    7   13    5    6   24    2    0]\n",
      " [   2 2925    0    0    0    0    0    0    0   73    0    0]\n",
      " [   4    0 2994    0    0    0    0    0    0    0    0    0]\n",
      " [  82    0    0  211    0    0    0    0    0    0    0    0]\n",
      " [   2    0    0    1    2    0    0    0    0    0    0    0]\n",
      " [ 125    0    0    0    0  208  857    0    0    0    0    0]\n",
      " [ 424    0    0    0    0    1  459    0    1    0    0    0]\n",
      " [   3    0    1    0    0   69    0  789    7    0    1    0]\n",
      " [   4    0    0    0    0    0    0   21  800    0    0    0]\n",
      " [ 163    0    0    0    0    0    0    0    0 2824    0    0]\n",
      " [  13    0    0    0    0    0    0   10    5    1 1515    0]\n",
      " [   2    0    0    0    0    0    0    0    0    0    0    0]]\n"
     ]
    },
    {
     "name": "stderr",
     "output_type": "stream",
     "text": [
      "\n"
     ]
    }
   ],
   "source": [
    "inferrence(model, subgraph_loader)"
   ]
  },
  {
   "cell_type": "code",
   "execution_count": 538,
   "id": "0b3d6a58",
   "metadata": {},
   "outputs": [],
   "source": [
    "y_hat = model(test_data.x.to(device), test_data.edge_index.to(device))"
   ]
  },
  {
   "cell_type": "code",
   "execution_count": 539,
   "id": "4bfa0434",
   "metadata": {},
   "outputs": [],
   "source": [
    "y_hat = y_hat.detach().numpy()\n",
    "y_hat = np.argmax(y_hat, -1)"
   ]
  },
  {
   "cell_type": "code",
   "execution_count": 540,
   "id": "1a15f817",
   "metadata": {},
   "outputs": [
    {
     "data": {
      "text/plain": [
       "22441"
      ]
     },
     "execution_count": 540,
     "metadata": {},
     "output_type": "execute_result"
    }
   ],
   "source": [
    "len(y_hat)"
   ]
  },
  {
   "cell_type": "code",
   "execution_count": 541,
   "id": "61fe6ca0",
   "metadata": {},
   "outputs": [
    {
     "data": {
      "text/plain": [
       "'              precision    recall  f1-score   support\\n\\n           0     0.9189    0.9665    0.9421      7500\\n           1     0.9941    0.9661    0.9799      9240\\n           2     0.9649    0.9907    0.9776      3000\\n           3     0.8109    0.9626    0.8802       294\\n           4     1.0000    0.6000    0.7500         5\\n           5     0.9873    0.8607    0.9197      2075\\n           6     0.9366    0.9480    0.9422       327\\n\\n    accuracy                         0.9594     22441\\n   macro avg     0.9447    0.8992    0.9131     22441\\nweighted avg     0.9612    0.9594    0.9595     22441\\n'"
      ]
     },
     "execution_count": 541,
     "metadata": {},
     "output_type": "execute_result"
    }
   ],
   "source": [
    "classification_report(test_y, y_hat, digits=4)"
   ]
  },
  {
   "cell_type": "code",
   "execution_count": null,
   "id": "6c63d6c4",
   "metadata": {},
   "outputs": [],
   "source": [
    "y_hat = y_hat.detach().numpy()\n",
    "y_hat = np.argmax(y_hat, -1)"
   ]
  },
  {
   "cell_type": "code",
   "execution_count": 120,
   "id": "fdbb2740",
   "metadata": {},
   "outputs": [
    {
     "ename": "IndexError",
     "evalue": "index 171153 is out of bounds for axis 0 with size 28441",
     "output_type": "error",
     "traceback": [
      "\u001b[0;31m---------------------------------------------------------------------------\u001b[0m",
      "\u001b[0;31mIndexError\u001b[0m                                Traceback (most recent call last)",
      "\u001b[0;32m<ipython-input-120-fb1895e79195>\u001b[0m in \u001b[0;36m<module>\u001b[0;34m\u001b[0m\n\u001b[0;32m----> 1\u001b[0;31m \u001b[0mclassification_report\u001b[0m\u001b[0;34m(\u001b[0m\u001b[0mtest_y\u001b[0m\u001b[0;34m,\u001b[0m \u001b[0my_hat\u001b[0m\u001b[0;34m[\u001b[0m\u001b[0mall_data\u001b[0m\u001b[0;34m.\u001b[0m\u001b[0mtest_mask\u001b[0m\u001b[0;34m]\u001b[0m\u001b[0;34m,\u001b[0m \u001b[0mdigits\u001b[0m\u001b[0;34m=\u001b[0m\u001b[0;36m4\u001b[0m\u001b[0;34m)\u001b[0m\u001b[0;34m\u001b[0m\u001b[0;34m\u001b[0m\u001b[0m\n\u001b[0m",
      "\u001b[0;31mIndexError\u001b[0m: index 171153 is out of bounds for axis 0 with size 28441"
     ]
    }
   ],
   "source": [
    "classification_report(test_y, y_hat[all_data.test_mask], digits=4)"
   ]
  },
  {
   "cell_type": "code",
   "execution_count": null,
   "id": "9be02fec",
   "metadata": {},
   "outputs": [],
   "source": []
  },
  {
   "cell_type": "code",
   "execution_count": null,
   "id": "59d5a4b8",
   "metadata": {},
   "outputs": [],
   "source": []
  },
  {
   "cell_type": "code",
   "execution_count": 219,
   "id": "3fbba2e2",
   "metadata": {},
   "outputs": [],
   "source": [
    "from tqdm import tqdm"
   ]
  },
  {
   "cell_type": "code",
   "execution_count": 220,
   "id": "43a1197b",
   "metadata": {},
   "outputs": [],
   "source": [
    "subgraph_loader2 = NeighborLoader(copy.copy(test_data), input_nodes=None,num_neighbors=hop, batch_size=1024, shuffle=False)\n",
    "subgraph_loader2.data.num_nodes = test_data.num_nodes\n",
    "subgraph_loader2.data.n_id = torch.arange(test_data.num_nodes)"
   ]
  },
  {
   "cell_type": "code",
   "execution_count": 221,
   "id": "bed2801f",
   "metadata": {},
   "outputs": [],
   "source": [
    "def inferrence2(model, subgraph_loader):\n",
    "    pbar = tqdm(total=len(subgraph_loader))\n",
    "    for i, batch in enumerate(subgraph_loader):\n",
    "        batch = batch.to(device)\n",
    "        y_hat = model(batch.x.to(device), batch.edge_index.to(device))[:batch.batch_size]\n",
    "        np.save('unsw_yhat/y_hat_batch' + str(i), y_hat.detach().numpy())\n",
    "        pbar.update(1)\n",
    "    pbar.close()"
   ]
  },
  {
   "cell_type": "code",
   "execution_count": 222,
   "id": "d7112f3b",
   "metadata": {},
   "outputs": [],
   "source": [
    "def test(data, loader):\n",
    "    xs = []\n",
    "    for i in range(len(loader)):\n",
    "        y_hat = np.load('unsw_yhat/y_hat_batch' + str(i) + '.npy')\n",
    "        xs.append(y_hat)\n",
    "    y_hat = np.concatenate(xs, 0)\n",
    "    y_hat = np.argmax(y_hat, -1)\n",
    "    y = data.y.to(device)\n",
    "    test_mask = data.test_mask \n",
    "    f1 = f1_score(y[test_mask], y_hat[test_mask], average='weighted')\n",
    "    pr = precision_score(y[test_mask], y_hat[test_mask], average='weighted')\n",
    "    cr1 = classification_report(y[test_mask], y_hat[test_mask], digits=4)\n",
    "    cf = confusion_matrix(y[test_mask], y_hat[test_mask])\n",
    "    print(\"测试集结果：\")\n",
    "    print(cr1)\n",
    "    print(cf)\n",
    "    \n",
    "    train_mask = data.train_mask\n",
    "    f1 = f1_score(y[train_mask], y_hat[train_mask], average='weighted')\n",
    "    pr = precision_score(y[train_mask], y_hat[train_mask], average='weighted')\n",
    "    cr1 = classification_report(y[train_mask], y_hat[train_mask], digits=4)\n",
    "    cf = confusion_matrix(y[train_mask], y_hat[train_mask])\n",
    "    print(\"训练集结果：\")\n",
    "    print(cr1)\n",
    "    print(cf)\n",
    "    return f1, pr"
   ]
  },
  {
   "cell_type": "code",
   "execution_count": 223,
   "id": "30bd95c4",
   "metadata": {},
   "outputs": [],
   "source": [
    "device = 'cpu'"
   ]
  },
  {
   "cell_type": "code",
   "execution_count": 224,
   "id": "fc91dbc5",
   "metadata": {},
   "outputs": [],
   "source": [
    "model = model.to(device)"
   ]
  },
  {
   "cell_type": "code",
   "execution_count": 225,
   "id": "9d3b728d",
   "metadata": {},
   "outputs": [
    {
     "name": "stderr",
     "output_type": "stream",
     "text": [
      "100%|██████████| 178/178 [00:35<00:00,  4.96it/s]\n"
     ]
    }
   ],
   "source": [
    "inferrence2(model, subgraph_loader2)"
   ]
  },
  {
   "cell_type": "code",
   "execution_count": 228,
   "id": "8cba49d9",
   "metadata": {},
   "outputs": [],
   "source": [
    "xs = []\n",
    "for i in range(len(subgraph_loader2)):\n",
    "    y_hat = np.load('unsw_yhat/y_hat_batch' + str(i) + '.npy')\n",
    "    xs.append(y_hat)\n",
    "y_hat = np.concatenate(xs, 0)\n",
    "y_hat = np.argmax(y_hat, -1)"
   ]
  },
  {
   "cell_type": "code",
   "execution_count": 232,
   "id": "50a32a7d",
   "metadata": {},
   "outputs": [
    {
     "name": "stdout",
     "output_type": "stream",
     "text": [
      "测试集结果：\n",
      "              precision    recall  f1-score   support\n",
      "\n",
      "           0      0.996     0.958     0.977     15000\n",
      "           1      0.996     1.000     0.998    166967\n",
      "\n",
      "    accuracy                          0.996    181967\n",
      "   macro avg      0.996     0.979     0.987    181967\n",
      "weighted avg      0.996     0.996     0.996    181967\n",
      "\n",
      "[[ 14372    628]\n",
      " [    56 166911]]\n"
     ]
    }
   ],
   "source": [
    "cr1 = classification_report(test_y, y_hat, digits=3)\n",
    "cf = confusion_matrix(test_y, y_hat)\n",
    "print(\"测试集结果：\")\n",
    "print(cr1)\n",
    "print(cf)"
   ]
  },
  {
   "cell_type": "code",
   "execution_count": 39,
   "id": "ef45f088",
   "metadata": {},
   "outputs": [
    {
     "name": "stdout",
     "output_type": "stream",
     "text": [
      "测试集结果：\n",
      "              precision    recall  f1-score   support\n",
      "\n",
      "           0     0.9605    0.9520    0.9562      7500\n",
      "           1     0.9659    0.9969    0.9811      9240\n",
      "           2     0.9757    0.8820    0.9265      3000\n",
      "           3     0.7310    0.9796    0.8372       294\n",
      "           4     1.0000    0.6000    0.7500         5\n",
      "           5     0.9660    0.9576    0.9618      2075\n",
      "           6     0.9311    0.8685    0.8987       327\n",
      "\n",
      "    accuracy                         0.9607     22441\n",
      "   macro avg     0.9329    0.8909    0.9016     22441\n",
      "weighted avg     0.9618    0.9607    0.9606     22441\n",
      "\n",
      "[[7140  121   66  106    0   50   17]\n",
      " [  20 9211    0    0    0    8    1]\n",
      " [ 218  134 2646    0    0    0    2]\n",
      " [   6    0    0  288    0    0    0]\n",
      " [   2    0    0    0    3    0    0]\n",
      " [  24   63    0    0    0 1987    1]\n",
      " [  24    7    0    0    0   12  284]]\n",
      "训练集结果：\n",
      "              precision    recall  f1-score   support\n",
      "\n",
      "           0     0.9654    0.9572    0.9613     42500\n",
      "           1     0.9677    0.9969    0.9821     52359\n",
      "           2     0.9788    0.8964    0.9358     17000\n",
      "           3     0.7716    0.9880    0.8665      1662\n",
      "           4     0.9630    0.8387    0.8966        31\n",
      "           5     0.9648    0.9562    0.9605     11757\n",
      "           6     0.9415    0.8683    0.9034      1853\n",
      "\n",
      "    accuracy                         0.9644    127162\n",
      "   macro avg     0.9361    0.9288    0.9294    127162\n",
      "weighted avg     0.9652    0.9644    0.9643    127162\n",
      "\n",
      "[[40683   672   320   480     1   253    91]\n",
      " [   91 52195     1     4     0    65     3]\n",
      " [ 1129   617 15239     0     0    14     1]\n",
      " [   19     1     0  1642     0     0     0]\n",
      " [    4     0     0     1    26     0     0]\n",
      " [  125   376     8     1     0 11242     5]\n",
      " [   90    75     1     0     0    78  1609]]\n"
     ]
    },
    {
     "data": {
      "text/plain": [
       "(0.9642748791788691, 0.9652121682525197)"
      ]
     },
     "execution_count": 39,
     "metadata": {},
     "output_type": "execute_result"
    }
   ],
   "source": [
    "test(all_data, subgraph_loader2)"
   ]
  },
  {
   "cell_type": "code",
   "execution_count": 186,
   "id": "b7a5f6e8",
   "metadata": {},
   "outputs": [
    {
     "name": "stdout",
     "output_type": "stream",
     "text": [
      "测试集结果：\n",
      "              precision    recall  f1-score   support\n",
      "\n",
      "           0     0.9654    0.9753    0.9703     13500\n",
      "           1     0.9890    0.9873    0.9882      3000\n",
      "           2     0.9895    0.9067    0.9463      3000\n",
      "           3     0.8385    0.7440    0.7884       293\n",
      "           4     1.0000    0.6000    0.7500         5\n",
      "           5     0.9705    0.9681    0.9693      1190\n",
      "           6     0.8837    0.9277    0.9052       885\n",
      "           7     0.9664    0.9575    0.9619       870\n",
      "           8     0.9677    0.9818    0.9747       825\n",
      "           9     0.9468    0.9853    0.9657      3000\n",
      "          10     0.9740    0.9709    0.9724      1544\n",
      "          11     1.0000    1.0000    1.0000         2\n",
      "          12     0.6426    0.8673    0.7382       226\n",
      "          13     0.6000    0.0612    0.1111        98\n",
      "          14     0.3333    0.3333    0.3333         3\n",
      "\n",
      "    accuracy                         0.9615     28441\n",
      "   macro avg     0.8712    0.8178    0.8250     28441\n",
      "weighted avg     0.9615    0.9615    0.9603     28441\n",
      "\n",
      "[[13166     1     4    42     0    21    57     3     7   155     8     0\n",
      "     32     3     1]\n",
      " [   37  2962     0     0     0     0     0     0     1     0     0     0\n",
      "      0     0     0]\n",
      " [  237     0  2720     0     0     1    18     2     2     0    20     0\n",
      "      0     0     0]\n",
      " [   75     0     0   218     0     0     0     0     0     0     0     0\n",
      "      0     0     0]\n",
      " [    2     0     0     0     3     0     0     0     0     0     0     0\n",
      "      0     0     0]\n",
      " [    9     0     1     0     0  1152    16     8     0     4     0     0\n",
      "      0     0     0]\n",
      " [   53     8     1     0     0     1   821     1     0     0     0     0\n",
      "      0     0     0]\n",
      " [    9     0     3     0     0     8     2   833    12     1     2     0\n",
      "      0     0     0]\n",
      " [    7     0     0     0     0     0     2     6   810     0     0     0\n",
      "      0     0     0]\n",
      " [   16    16     1     0     0     3     1     0     0  2956     7     0\n",
      "      0     0     0]\n",
      " [   14     6    18     0     0     0     0     2     3     2  1499     0\n",
      "      0     0     0]\n",
      " [    0     0     0     0     0     0     0     0     0     0     0     2\n",
      "      0     0     0]\n",
      " [   11     0     0     0     0     1    11     4     1     0     0     0\n",
      "    196     1     1]\n",
      " [    2     2     1     0     0     0     0     3     1     4     2     0\n",
      "     77     6     0]\n",
      " [    0     0     0     0     0     0     1     0     0     0     1     0\n",
      "      0     0     1]]\n",
      "训练集结果：\n",
      "              precision    recall  f1-score   support\n",
      "\n",
      "           0     0.9655    0.9755    0.9705     76500\n",
      "           1     0.9868    0.9881    0.9874     17000\n",
      "           2     0.9893    0.9050    0.9453     17000\n",
      "           3     0.8440    0.7871    0.8146      1663\n",
      "           4     0.9615    0.8065    0.8772        31\n",
      "           5     0.9768    0.9610    0.9688      6745\n",
      "           6     0.8789    0.9104    0.8944      5012\n",
      "           7     0.9736    0.9736    0.9736      4926\n",
      "           8     0.9806    0.9840    0.9823      4674\n",
      "           9     0.9402    0.9812    0.9603     17000\n",
      "          10     0.9753    0.9698    0.9725      8749\n",
      "          11     1.0000    1.0000    1.0000         9\n",
      "          12     0.6215    0.8603    0.7217      1281\n",
      "          13     0.4400    0.0397    0.0728       554\n",
      "          14     0.7000    0.3889    0.5000        18\n",
      "\n",
      "    accuracy                         0.9610    161162\n",
      "   macro avg     0.8823    0.8354    0.8428    161162\n",
      "weighted avg     0.9608    0.9610    0.9599    161162\n",
      "\n",
      "[[74622     9    17   242     1    54   309    11    32   976    18     0\n",
      "    188    20     1]\n",
      " [  167 16797     0     0     0     0     0     0     2    34     0     0\n",
      "      0     0     0]\n",
      " [ 1299     0 15385     0     0    22   124    11    18     5   135     0\n",
      "      0     1     0]\n",
      " [  354     0     0  1309     0     0     0     0     0     0     0     0\n",
      "      0     0     0]\n",
      " [    6     0     0     0    25     0     0     0     0     0     0     0\n",
      "      0     0     0]\n",
      " [  112     2     3     0     0  6482    89    35     1    20     0     0\n",
      "      1     0     0]\n",
      " [  374    35     7     0     0    29  4563     1     0     3     0     0\n",
      "      0     0     0]\n",
      " [   19     0    11     0     0    34    20  4796    28     3    12     0\n",
      "      3     0     0]\n",
      " [   31     0     0     0     0     0     7    32  4599     0     3     0\n",
      "      2     0     0]\n",
      " [  118   134     9     0     0     5     9     8     0 16680    37     0\n",
      "      0     0     0]\n",
      " [   90    43   112     0     0     2     0     5     5     7  8485     0\n",
      "      0     0     0]\n",
      " [    0     0     0     0     0     0     0     0     0     0     0     9\n",
      "      0     0     0]\n",
      " [   80     2     6     0     0     4    60    14     3     0     3     0\n",
      "   1102     7     0]\n",
      " [   11     0     2     0     0     4     5    13     2    12     4     0\n",
      "    477    22     2]\n",
      " [    2     0     0     0     0     0     6     0     0     0     3     0\n",
      "      0     0     7]]\n"
     ]
    },
    {
     "data": {
      "text/plain": [
       "(0.9598987627419372, 0.9607803070043145)"
      ]
     },
     "execution_count": 186,
     "metadata": {},
     "output_type": "execute_result"
    }
   ],
   "source": [
    "test(all_data, subgraph_loader2)                                                                                                                                                                                                                                                                                                                                                                                                                                                                                                                                                                                                                                                                                                                                                                                                                                                                                                                                                                                                                                                                                                                                                                                                                                                                                                                                                                                                                                                                                                                                                                                                                                                                                                                                                                                                                                                                                                                                                                                                                                                                                                                                                                                                                                                                                                                                                                                                                                                                                                                                                                                                                                                                                                                                                                                                                                                                                                                                                                                                                                                                                                                                                                                                                                                                                                                                                                                                                                                                                                                                                                                                                                                                                                                                                                                                                                                                                                                                                                                                                                                                                                                                          "
   ]
  },
  {
   "cell_type": "code",
   "execution_count": null,
   "id": "a222a09e",
   "metadata": {},
   "outputs": [],
   "source": []
  },
  {
   "cell_type": "code",
   "execution_count": 135,
   "id": "3ba6d0ff",
   "metadata": {},
   "outputs": [],
   "source": [
    "all_data_label = all_data.y.numpy()"
   ]
  },
  {
   "cell_type": "code",
   "execution_count": 136,
   "id": "eecc3fed",
   "metadata": {},
   "outputs": [],
   "source": [
    "all_data_label[all_data_label != 0] = 1\n",
    "all_data.y = torch.LongTensor(all_data_label)"
   ]
  },
  {
   "cell_type": "code",
   "execution_count": 109,
   "id": "25f5f10e",
   "metadata": {},
   "outputs": [
    {
     "data": {
      "text/plain": [
       "Data(x=[189603, 78], edge_index=[2, 108609698], y=[189603], num_nodes=189603, train_mask=[161162], test_mask=[28441])"
      ]
     },
     "execution_count": 109,
     "metadata": {},
     "output_type": "execute_result"
    }
   ],
   "source": [
    "all_data"
   ]
  },
  {
   "cell_type": "code",
   "execution_count": 110,
   "id": "ade40f5e",
   "metadata": {},
   "outputs": [],
   "source": [
    "subgraph_loader2 = NeighborLoader(all_data, input_nodes=all_data.test_mask,\n",
    "                                 num_neighbors=hop, batch_size=500, shuffle=False)"
   ]
  },
  {
   "cell_type": "code",
   "execution_count": null,
   "id": "4ca1f004",
   "metadata": {},
   "outputs": [],
   "source": []
  },
  {
   "cell_type": "code",
   "execution_count": null,
   "id": "990ab479",
   "metadata": {},
   "outputs": [],
   "source": []
  },
  {
   "cell_type": "code",
   "execution_count": null,
   "id": "75eee73d",
   "metadata": {},
   "outputs": [],
   "source": []
  },
  {
   "cell_type": "code",
   "execution_count": 35,
   "id": "5419f7b7",
   "metadata": {},
   "outputs": [],
   "source": [
    "train_data = train_data.to('cpu')\n",
    "test_data = test_data.to('cpu')"
   ]
  },
  {
   "cell_type": "code",
   "execution_count": 23,
   "id": "1ff233d9",
   "metadata": {},
   "outputs": [],
   "source": [
    "x_train = train_data.x.numpy()\n",
    "y_train = train_data.y.numpy()"
   ]
  },
  {
   "cell_type": "code",
   "execution_count": 24,
   "id": "808b469f",
   "metadata": {},
   "outputs": [],
   "source": [
    "x_test = test_data.x.numpy()\n",
    "y_test = test_data.y.numpy()"
   ]
  },
  {
   "cell_type": "code",
   "execution_count": 25,
   "id": "4193767a",
   "metadata": {},
   "outputs": [
    {
     "data": {
      "text/plain": [
       "Counter({1: 166967, 0: 15000})"
      ]
     },
     "execution_count": 25,
     "metadata": {},
     "output_type": "execute_result"
    }
   ],
   "source": [
    "Counter(y_test)"
   ]
  },
  {
   "cell_type": "code",
   "execution_count": 13,
   "id": "721cbbc0",
   "metadata": {},
   "outputs": [],
   "source": [
    "from catboost import CatBoostClassifier"
   ]
  },
  {
   "cell_type": "code",
   "execution_count": 14,
   "id": "ecb99a86",
   "metadata": {},
   "outputs": [],
   "source": [
    "from sklearn.ensemble._forest import RandomForestClassifier"
   ]
  },
  {
   "cell_type": "code",
   "execution_count": 15,
   "id": "4a0d484b",
   "metadata": {},
   "outputs": [],
   "source": [
    "from sklearn.neural_network import MLPClassifier"
   ]
  },
  {
   "cell_type": "code",
   "execution_count": 39,
   "id": "4d3b2b9d",
   "metadata": {},
   "outputs": [],
   "source": [
    "clf = RandomForestClassifier()"
   ]
  },
  {
   "cell_type": "code",
   "execution_count": null,
   "id": "a571b36c",
   "metadata": {},
   "outputs": [],
   "source": [
    "clf = CatBoostClassifier()"
   ]
  },
  {
   "cell_type": "code",
   "execution_count": 26,
   "id": "f458dca7",
   "metadata": {},
   "outputs": [],
   "source": [
    "clf = MLPClassifier(verbose=True, tol=1e-6, batch_size=1024, hidden_layer_sizes=(78,50,30,15), activation='relu',\n",
    "                    max_iter=500, learning_rate_init= 0.0001, solver='adam', learning_rate='adaptive', alpha = 0.002)"
   ]
  },
  {
   "cell_type": "code",
   "execution_count": 27,
   "id": "bc670e09",
   "metadata": {},
   "outputs": [
    {
     "name": "stdout",
     "output_type": "stream",
     "text": [
      "Iteration 1, loss = 0.22831943\n",
      "Iteration 2, loss = 0.08915375\n",
      "Iteration 3, loss = 0.07060688\n",
      "Iteration 4, loss = 0.06112140\n",
      "Iteration 5, loss = 0.05436115\n",
      "Iteration 6, loss = 0.04975219\n",
      "Iteration 7, loss = 0.04599517\n",
      "Iteration 8, loss = 0.04289731\n",
      "Iteration 9, loss = 0.04018838\n",
      "Iteration 10, loss = 0.03788005\n",
      "Iteration 11, loss = 0.03594656\n",
      "Iteration 12, loss = 0.03427010\n",
      "Iteration 13, loss = 0.03290838\n",
      "Iteration 14, loss = 0.03150456\n",
      "Iteration 15, loss = 0.03054007\n",
      "Iteration 16, loss = 0.02945027\n",
      "Iteration 17, loss = 0.02859084\n",
      "Iteration 18, loss = 0.02777343\n",
      "Iteration 19, loss = 0.02693940\n",
      "Iteration 20, loss = 0.02620734\n",
      "Iteration 21, loss = 0.02535954\n",
      "Iteration 22, loss = 0.02453964\n",
      "Iteration 23, loss = 0.02389052\n",
      "Iteration 24, loss = 0.02324579\n",
      "Iteration 25, loss = 0.02262165\n",
      "Iteration 26, loss = 0.02214032\n",
      "Iteration 27, loss = 0.02153707\n",
      "Iteration 28, loss = 0.02137927\n",
      "Iteration 29, loss = 0.02094886\n",
      "Iteration 30, loss = 0.02059369\n",
      "Iteration 31, loss = 0.02053040\n",
      "Iteration 32, loss = 0.02021313\n",
      "Iteration 33, loss = 0.01992876\n",
      "Iteration 34, loss = 0.01974275\n",
      "Iteration 35, loss = 0.01983871\n",
      "Iteration 36, loss = 0.01948265\n",
      "Iteration 37, loss = 0.01942057\n",
      "Iteration 38, loss = 0.01913306\n",
      "Iteration 39, loss = 0.01914310\n",
      "Iteration 40, loss = 0.01899355\n",
      "Iteration 41, loss = 0.01880058\n",
      "Iteration 42, loss = 0.01885859\n",
      "Iteration 43, loss = 0.01860151\n",
      "Iteration 44, loss = 0.01857564\n",
      "Iteration 45, loss = 0.01858799\n",
      "Iteration 46, loss = 0.01839626\n",
      "Iteration 47, loss = 0.01832576\n",
      "Iteration 48, loss = 0.01822992\n",
      "Iteration 49, loss = 0.01808797\n",
      "Iteration 50, loss = 0.01812562\n",
      "Iteration 51, loss = 0.01801522\n",
      "Iteration 52, loss = 0.01795553\n",
      "Iteration 53, loss = 0.01789710\n",
      "Iteration 54, loss = 0.01791508\n",
      "Iteration 55, loss = 0.01790663\n",
      "Iteration 56, loss = 0.01771137\n",
      "Iteration 57, loss = 0.01757714\n",
      "Iteration 58, loss = 0.01766086\n",
      "Iteration 59, loss = 0.01767741\n",
      "Iteration 60, loss = 0.01743448\n",
      "Iteration 61, loss = 0.01750975\n",
      "Iteration 62, loss = 0.01742316\n",
      "Iteration 63, loss = 0.01739989\n",
      "Iteration 64, loss = 0.01729284\n",
      "Iteration 65, loss = 0.01726385\n",
      "Iteration 66, loss = 0.01750870\n",
      "Iteration 67, loss = 0.01736916\n",
      "Iteration 68, loss = 0.01716652\n",
      "Iteration 69, loss = 0.01720270\n",
      "Iteration 70, loss = 0.01709496\n",
      "Iteration 71, loss = 0.01699443\n",
      "Iteration 72, loss = 0.01706353\n",
      "Iteration 73, loss = 0.01697358\n",
      "Iteration 74, loss = 0.01701397\n",
      "Iteration 75, loss = 0.01682708\n",
      "Iteration 76, loss = 0.01687708\n",
      "Iteration 77, loss = 0.01696353\n",
      "Iteration 78, loss = 0.01686768\n",
      "Iteration 79, loss = 0.01673995\n",
      "Iteration 80, loss = 0.01678356\n",
      "Iteration 81, loss = 0.01686327\n",
      "Iteration 82, loss = 0.01667593\n",
      "Iteration 83, loss = 0.01664011\n",
      "Iteration 84, loss = 0.01679371\n",
      "Iteration 85, loss = 0.01657601\n",
      "Iteration 86, loss = 0.01650865\n",
      "Iteration 87, loss = 0.01656610\n",
      "Iteration 88, loss = 0.01649278\n",
      "Iteration 89, loss = 0.01632582\n",
      "Iteration 90, loss = 0.01643214\n",
      "Iteration 91, loss = 0.01653875\n",
      "Iteration 92, loss = 0.01647798\n",
      "Iteration 93, loss = 0.01664488\n",
      "Iteration 94, loss = 0.01651104\n",
      "Iteration 95, loss = 0.01630757\n",
      "Iteration 96, loss = 0.01629741\n",
      "Iteration 97, loss = 0.01622026\n",
      "Iteration 98, loss = 0.01628514\n",
      "Iteration 99, loss = 0.01626081\n",
      "Iteration 100, loss = 0.01624584\n",
      "Iteration 101, loss = 0.01634860\n",
      "Iteration 102, loss = 0.01617137\n",
      "Iteration 103, loss = 0.01619608\n",
      "Iteration 104, loss = 0.01625703\n",
      "Iteration 105, loss = 0.01635849\n",
      "Iteration 106, loss = 0.01620239\n",
      "Iteration 107, loss = 0.01620800\n",
      "Iteration 108, loss = 0.01593166\n",
      "Iteration 109, loss = 0.01607738\n",
      "Iteration 110, loss = 0.01610608\n",
      "Iteration 111, loss = 0.01600636\n",
      "Iteration 112, loss = 0.01606507\n",
      "Iteration 113, loss = 0.01597640\n"
     ]
    },
    {
     "data": {
      "text/plain": [
       "MLPClassifier(alpha=0.002, batch_size=1024, hidden_layer_sizes=(78, 50, 30, 15),\n",
       "              learning_rate='adaptive', learning_rate_init=0.0001, max_iter=500,\n",
       "              tol=1e-06, verbose=True)"
      ]
     },
     "execution_count": 27,
     "metadata": {},
     "output_type": "execute_result"
    }
   ],
   "source": [
    "clf.fit(x_train, y_train)"
   ]
  },
  {
   "cell_type": "code",
   "execution_count": 31,
   "id": "75c8d80f",
   "metadata": {},
   "outputs": [],
   "source": [
    "y_pred = clf.predict(x_test)"
   ]
  },
  {
   "cell_type": "code",
   "execution_count": 32,
   "id": "0f27ffab",
   "metadata": {},
   "outputs": [],
   "source": [
    "cr = classification_report(y_test, y_pred, digits=4)"
   ]
  },
  {
   "cell_type": "code",
   "execution_count": 33,
   "id": "70155b59",
   "metadata": {},
   "outputs": [
    {
     "name": "stdout",
     "output_type": "stream",
     "text": [
      "              precision    recall  f1-score   support\n",
      "\n",
      "           0     0.9908    0.9346    0.9619     15000\n",
      "           1     0.9942    0.9992    0.9967    166967\n",
      "\n",
      "    accuracy                         0.9939    181967\n",
      "   macro avg     0.9925    0.9669    0.9793    181967\n",
      "weighted avg     0.9939    0.9939    0.9938    181967\n",
      "\n"
     ]
    }
   ],
   "source": [
    "print(cr)"
   ]
  },
  {
   "cell_type": "code",
   "execution_count": 30,
   "id": "d106c985",
   "metadata": {},
   "outputs": [
    {
     "name": "stdout",
     "output_type": "stream",
     "text": [
      "              precision    recall  f1-score   support\n",
      "\n",
      "           0     0.9908    0.9346    0.9619     15000\n",
      "           1     0.9942    0.9992    0.9967    166967\n",
      "\n",
      "    accuracy                         0.9939    181967\n",
      "   macro avg     0.9925    0.9669    0.9793    181967\n",
      "weighted avg     0.9939    0.9939    0.9938    181967\n",
      "\n"
     ]
    }
   ],
   "source": [
    "print(cr)"
   ]
  },
  {
   "cell_type": "code",
   "execution_count": null,
   "id": "546346a3",
   "metadata": {},
   "outputs": [],
   "source": []
  },
  {
   "cell_type": "code",
   "execution_count": null,
   "id": "8ef4eaa0",
   "metadata": {},
   "outputs": [],
   "source": []
  },
  {
   "cell_type": "code",
   "execution_count": 46,
   "id": "69196a1e",
   "metadata": {},
   "outputs": [],
   "source": [
    "cr = pd.DataFrame(cr).transpose()"
   ]
  },
  {
   "cell_type": "code",
   "execution_count": 47,
   "id": "13c554eb",
   "metadata": {},
   "outputs": [
    {
     "data": {
      "text/html": [
       "<div>\n",
       "<style scoped>\n",
       "    .dataframe tbody tr th:only-of-type {\n",
       "        vertical-align: middle;\n",
       "    }\n",
       "\n",
       "    .dataframe tbody tr th {\n",
       "        vertical-align: top;\n",
       "    }\n",
       "\n",
       "    .dataframe thead th {\n",
       "        text-align: right;\n",
       "    }\n",
       "</style>\n",
       "<table border=\"1\" class=\"dataframe\">\n",
       "  <thead>\n",
       "    <tr style=\"text-align: right;\">\n",
       "      <th></th>\n",
       "      <th>precision</th>\n",
       "      <th>recall</th>\n",
       "      <th>f1-score</th>\n",
       "      <th>support</th>\n",
       "    </tr>\n",
       "  </thead>\n",
       "  <tbody>\n",
       "    <tr>\n",
       "      <th>0</th>\n",
       "      <td>0.979835</td>\n",
       "      <td>0.968600</td>\n",
       "      <td>0.974185</td>\n",
       "      <td>15000.000000</td>\n",
       "    </tr>\n",
       "    <tr>\n",
       "      <th>1</th>\n",
       "      <td>0.999844</td>\n",
       "      <td>0.999375</td>\n",
       "      <td>0.999609</td>\n",
       "      <td>38408.000000</td>\n",
       "    </tr>\n",
       "    <tr>\n",
       "      <th>2</th>\n",
       "      <td>0.999790</td>\n",
       "      <td>0.999391</td>\n",
       "      <td>0.999591</td>\n",
       "      <td>47641.000000</td>\n",
       "    </tr>\n",
       "    <tr>\n",
       "      <th>3</th>\n",
       "      <td>0.896930</td>\n",
       "      <td>0.696763</td>\n",
       "      <td>0.784276</td>\n",
       "      <td>587.000000</td>\n",
       "    </tr>\n",
       "    <tr>\n",
       "      <th>4</th>\n",
       "      <td>1.000000</td>\n",
       "      <td>0.545455</td>\n",
       "      <td>0.705882</td>\n",
       "      <td>11.000000</td>\n",
       "    </tr>\n",
       "    <tr>\n",
       "      <th>5</th>\n",
       "      <td>0.996641</td>\n",
       "      <td>0.997479</td>\n",
       "      <td>0.997060</td>\n",
       "      <td>2380.000000</td>\n",
       "    </tr>\n",
       "    <tr>\n",
       "      <th>6</th>\n",
       "      <td>0.936674</td>\n",
       "      <td>0.961560</td>\n",
       "      <td>0.948954</td>\n",
       "      <td>1769.000000</td>\n",
       "    </tr>\n",
       "    <tr>\n",
       "      <th>7</th>\n",
       "      <td>0.988552</td>\n",
       "      <td>0.993099</td>\n",
       "      <td>0.990820</td>\n",
       "      <td>1739.000000</td>\n",
       "    </tr>\n",
       "    <tr>\n",
       "      <th>8</th>\n",
       "      <td>0.990274</td>\n",
       "      <td>0.987273</td>\n",
       "      <td>0.988771</td>\n",
       "      <td>1650.000000</td>\n",
       "    </tr>\n",
       "    <tr>\n",
       "      <th>9</th>\n",
       "      <td>0.995343</td>\n",
       "      <td>0.999942</td>\n",
       "      <td>0.997637</td>\n",
       "      <td>69037.000000</td>\n",
       "    </tr>\n",
       "    <tr>\n",
       "      <th>10</th>\n",
       "      <td>0.998039</td>\n",
       "      <td>0.988666</td>\n",
       "      <td>0.993330</td>\n",
       "      <td>3088.000000</td>\n",
       "    </tr>\n",
       "    <tr>\n",
       "      <th>11</th>\n",
       "      <td>1.000000</td>\n",
       "      <td>1.000000</td>\n",
       "      <td>1.000000</td>\n",
       "      <td>3.000000</td>\n",
       "    </tr>\n",
       "    <tr>\n",
       "      <th>12</th>\n",
       "      <td>0.643963</td>\n",
       "      <td>0.920354</td>\n",
       "      <td>0.757741</td>\n",
       "      <td>452.000000</td>\n",
       "    </tr>\n",
       "    <tr>\n",
       "      <th>13</th>\n",
       "      <td>0.800000</td>\n",
       "      <td>0.020408</td>\n",
       "      <td>0.039801</td>\n",
       "      <td>196.000000</td>\n",
       "    </tr>\n",
       "    <tr>\n",
       "      <th>14</th>\n",
       "      <td>0.166667</td>\n",
       "      <td>0.166667</td>\n",
       "      <td>0.166667</td>\n",
       "      <td>6.000000</td>\n",
       "    </tr>\n",
       "    <tr>\n",
       "      <th>accuracy</th>\n",
       "      <td>0.994032</td>\n",
       "      <td>0.994032</td>\n",
       "      <td>0.994032</td>\n",
       "      <td>0.994032</td>\n",
       "    </tr>\n",
       "    <tr>\n",
       "      <th>macro avg</th>\n",
       "      <td>0.892837</td>\n",
       "      <td>0.816335</td>\n",
       "      <td>0.822955</td>\n",
       "      <td>181967.000000</td>\n",
       "    </tr>\n",
       "    <tr>\n",
       "      <th>weighted avg</th>\n",
       "      <td>0.994133</td>\n",
       "      <td>0.994032</td>\n",
       "      <td>0.993571</td>\n",
       "      <td>181967.000000</td>\n",
       "    </tr>\n",
       "  </tbody>\n",
       "</table>\n",
       "</div>"
      ],
      "text/plain": [
       "              precision    recall  f1-score        support\n",
       "0              0.979835  0.968600  0.974185   15000.000000\n",
       "1              0.999844  0.999375  0.999609   38408.000000\n",
       "2              0.999790  0.999391  0.999591   47641.000000\n",
       "3              0.896930  0.696763  0.784276     587.000000\n",
       "4              1.000000  0.545455  0.705882      11.000000\n",
       "5              0.996641  0.997479  0.997060    2380.000000\n",
       "6              0.936674  0.961560  0.948954    1769.000000\n",
       "7              0.988552  0.993099  0.990820    1739.000000\n",
       "8              0.990274  0.987273  0.988771    1650.000000\n",
       "9              0.995343  0.999942  0.997637   69037.000000\n",
       "10             0.998039  0.988666  0.993330    3088.000000\n",
       "11             1.000000  1.000000  1.000000       3.000000\n",
       "12             0.643963  0.920354  0.757741     452.000000\n",
       "13             0.800000  0.020408  0.039801     196.000000\n",
       "14             0.166667  0.166667  0.166667       6.000000\n",
       "accuracy       0.994032  0.994032  0.994032       0.994032\n",
       "macro avg      0.892837  0.816335  0.822955  181967.000000\n",
       "weighted avg   0.994133  0.994032  0.993571  181967.000000"
      ]
     },
     "execution_count": 47,
     "metadata": {},
     "output_type": "execute_result"
    }
   ],
   "source": [
    "cr"
   ]
  },
  {
   "cell_type": "code",
   "execution_count": 66,
   "id": "75e3969a",
   "metadata": {},
   "outputs": [
    {
     "data": {
      "text/plain": [
       "'              precision    recall  f1-score   support\\n\\n           0     0.9816    0.9361    0.9583     10000\\n           1     0.9943    0.9984    0.9964    111312\\n\\n    accuracy                         0.9933    121312\\n   macro avg     0.9880    0.9673    0.9773    121312\\nweighted avg     0.9932    0.9933    0.9932    121312\\n'"
      ]
     },
     "execution_count": 66,
     "metadata": {},
     "output_type": "execute_result"
    }
   ],
   "source": [
    "classification_report(y_test, y_pred, digits=4)"
   ]
  },
  {
   "cell_type": "code",
   "execution_count": 67,
   "id": "9d665058",
   "metadata": {},
   "outputs": [
    {
     "data": {
      "text/plain": [
       "array([[  9361,    639],\n",
       "       [   175, 111137]])"
      ]
     },
     "execution_count": 67,
     "metadata": {},
     "output_type": "execute_result"
    }
   ],
   "source": [
    "confusion_matrix(y_test, y_pred)"
   ]
  },
  {
   "cell_type": "code",
   "execution_count": 117,
   "id": "eb7153db",
   "metadata": {},
   "outputs": [
    {
     "data": {
      "text/plain": [
       "'              precision    recall  f1-score   support\\n\\n           0     0.9725    0.9730    0.9727     13500\\n           1     0.9990    0.9977    0.9983      3000\\n           2     0.9973    0.9993    0.9983      3000\\n           3     0.9422    0.5563    0.6996       293\\n           4     1.0000    0.4000    0.5714         5\\n           5     0.9884    1.0000    0.9942      1190\\n           6     0.9145    0.8701    0.8917       885\\n           7     0.9873    0.9839    0.9856       870\\n           8     0.9759    0.9818    0.9789       825\\n           9     0.9330    0.9787    0.9553      3000\\n          10     0.9929    0.9961    0.9945      1544\\n          11     1.0000    0.5000    0.6667         2\\n          12     0.5773    0.8097    0.6740       226\\n          13     0.0000    0.0000    0.0000        98\\n          14     0.0000    0.0000    0.0000         3\\n\\n    accuracy                         0.9696     28441\\n   macro avg     0.8187    0.7364    0.7587     28441\\nweighted avg     0.9673    0.9696    0.9677     28441\\n'"
      ]
     },
     "execution_count": 117,
     "metadata": {},
     "output_type": "execute_result"
    }
   ],
   "source": [
    "classification_report(y_test, y_pred, digits=4)"
   ]
  },
  {
   "cell_type": "code",
   "execution_count": 119,
   "id": "00552205",
   "metadata": {},
   "outputs": [],
   "source": [
    "cm = confusion_matrix(y_test, y_pred)"
   ]
  },
  {
   "cell_type": "code",
   "execution_count": 120,
   "id": "1d94f42c",
   "metadata": {},
   "outputs": [],
   "source": [
    "disp = ConfusionMatrixDisplay(confusion_matrix=cm, display_labels=clf.classes_)\n",
    "disp.plot()"
   ]
  },
  {
   "cell_type": "code",
   "execution_count": 122,
   "id": "af3bcf97",
   "metadata": {},
   "outputs": [
    {
     "data": {
      "text/plain": [
       "<sklearn.metrics._plot.confusion_matrix.ConfusionMatrixDisplay at 0x2ab5c3fb1be0>"
      ]
     },
     "execution_count": 122,
     "metadata": {},
     "output_type": "execute_result"
    },
    {
     "data": {
      "image/png": "[encoded data removed]",
      "text/plain": [
       "<Figure size 432x288 with 2 Axes>"
      ]
     },
     "metadata": {
      "needs_background": "light"
     },
     "output_type": "display_data"
    }
   ],
   "source": []
  },
  {
   "cell_type": "code",
   "execution_count": null,
   "id": "3ebc879d",
   "metadata": {},
   "outputs": [],
   "source": []
  }
 ],
 "metadata": {
  "kernelspec": {
   "display_name": "Python 3",
   "language": "python",
   "name": "python3"
  },
  "language_info": {
   "codemirror_mode": {
    "name": "ipython",
    "version": 3
   },
   "file_extension": ".py",
   "mimetype": "text/x-python",
   "name": "python",
   "nbconvert_exporter": "python",
   "pygments_lexer": "ipython3",
   "version": "3.6.13"
  }
 },
 "nbformat": 4,
 "nbformat_minor": 5
}
